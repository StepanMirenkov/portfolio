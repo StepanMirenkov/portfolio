{
 "cells": [
  {
   "cell_type": "markdown",
   "metadata": {
    "toc": true
   },
   "source": [
    "<h1>Содержание<span class=\"tocSkip\"></span></h1>\n",
    "<div class=\"toc\"><ul class=\"toc-item\"><li><span><a href=\"#Комментарий-ревьювера\" data-toc-modified-id=\"Комментарий-ревьювера-1\"><span class=\"toc-item-num\">1&nbsp;&nbsp;</span>Комментарий ревьювера</a></span></li><li><span><a href=\"#Подготовка\" data-toc-modified-id=\"Подготовка-2\"><span class=\"toc-item-num\">2&nbsp;&nbsp;</span>Подготовка</a></span></li><li><span><a href=\"#Анализ\" data-toc-modified-id=\"Анализ-3\"><span class=\"toc-item-num\">3&nbsp;&nbsp;</span>Анализ</a></span></li><li><span><a href=\"#Обучение\" data-toc-modified-id=\"Обучение-4\"><span class=\"toc-item-num\">4&nbsp;&nbsp;</span>Обучение</a></span></li><li><span><a href=\"#Тестирование\" data-toc-modified-id=\"Тестирование-5\"><span class=\"toc-item-num\">5&nbsp;&nbsp;</span>Тестирование</a></span></li><li><span><a href=\"#Общий-вывод\" data-toc-modified-id=\"Общий-вывод-6\"><span class=\"toc-item-num\">6&nbsp;&nbsp;</span>Общий вывод</a></span></li></ul></div>"
   ]
  },
  {
   "cell_type": "markdown",
   "metadata": {},
   "source": [
    "#  Прогнозирование заказов такси"
   ]
  },
  {
   "cell_type": "markdown",
   "metadata": {},
   "source": [
    "Компания «Чётенькое такси» собрала исторические данные о заказах такси в аэропортах. Чтобы привлекать больше водителей в период пиковой нагрузки, нужно спрогнозировать количество заказов такси на следующий час. Постройте модель для такого предсказания.\n",
    "\n",
    "Значение метрики *RMSE* на тестовой выборке должно быть не больше 48.\n",
    "\n",
    "Вам нужно:\n",
    "\n",
    "1. Загрузить данные и выполнить их ресемплирование по одному часу.\n",
    "2. Проанализировать данные.\n",
    "3. Обучить разные модели с различными гиперпараметрами. Сделать тестовую выборку размером 10% от исходных данных.\n",
    "4. Проверить данные на тестовой выборке и сделать выводы.\n",
    "\n",
    "\n",
    "Данные лежат в файле `taxi.csv`. Количество заказов находится в столбце `num_orders` (от англ. *number of orders*, «число заказов»)."
   ]
  },
  {
   "cell_type": "markdown",
   "metadata": {},
   "source": [
    "## Подготовка"
   ]
  },
  {
   "cell_type": "markdown",
   "metadata": {},
   "source": [
    "Импортируем библиотеки"
   ]
  },
  {
   "cell_type": "code",
   "execution_count": 1,
   "metadata": {},
   "outputs": [],
   "source": [
    "import pandas as pd\n",
    "from matplotlib import pyplot as plt\n",
    "from statsmodels.tsa.seasonal import seasonal_decompose\n",
    "from sklearn.model_selection import train_test_split\n",
    "from sklearn.linear_model import LinearRegression\n",
    "from sklearn.ensemble import RandomForestRegressor\n",
    "from catboost import CatBoostRegressor\n",
    "from sklearn.metrics import mean_squared_error"
   ]
  },
  {
   "cell_type": "markdown",
   "metadata": {},
   "source": [
    "Загружаем данные"
   ]
  },
  {
   "cell_type": "code",
   "execution_count": 2,
   "metadata": {},
   "outputs": [],
   "source": [
    "try:\n",
    "    data = pd.read_csv('/datasets/taxi.csv', parse_dates=[0], index_col=[0])\n",
    "except:\n",
    "    data = pd.read_csv('D:\\\\taxi.csv', parse_dates=[0], index_col=[0])"
   ]
  },
  {
   "cell_type": "markdown",
   "metadata": {},
   "source": [
    "Проверяем, что индекс монотонный"
   ]
  },
  {
   "cell_type": "code",
   "execution_count": 3,
   "metadata": {},
   "outputs": [
    {
     "name": "stdout",
     "output_type": "stream",
     "text": [
      "True\n"
     ]
    }
   ],
   "source": [
    "print(data.index.is_monotonic)"
   ]
  },
  {
   "cell_type": "markdown",
   "metadata": {},
   "source": [
    "Ресемплируем данные по одному часу"
   ]
  },
  {
   "cell_type": "code",
   "execution_count": 4,
   "metadata": {},
   "outputs": [],
   "source": [
    "data = data.resample('1H').sum()"
   ]
  },
  {
   "cell_type": "markdown",
   "metadata": {},
   "source": [
    "## Анализ"
   ]
  },
  {
   "cell_type": "code",
   "execution_count": 5,
   "metadata": {
    "scrolled": false
   },
   "outputs": [
    {
     "name": "stdout",
     "output_type": "stream",
     "text": [
      "<class 'pandas.core.frame.DataFrame'>\n",
      "DatetimeIndex: 4416 entries, 2018-03-01 00:00:00 to 2018-08-31 23:00:00\n",
      "Freq: H\n",
      "Data columns (total 1 columns):\n",
      " #   Column      Non-Null Count  Dtype\n",
      "---  ------      --------------  -----\n",
      " 0   num_orders  4416 non-null   int64\n",
      "dtypes: int64(1)\n",
      "memory usage: 69.0 KB\n",
      "        num_orders\n",
      "count  4416.000000\n",
      "mean     84.422781\n",
      "std      45.023853\n",
      "min       0.000000\n",
      "25%      54.000000\n",
      "50%      78.000000\n",
      "75%     107.000000\n",
      "max     462.000000\n"
     ]
    },
    {
     "data": {
      "text/html": [
       "<div>\n",
       "<style scoped>\n",
       "    .dataframe tbody tr th:only-of-type {\n",
       "        vertical-align: middle;\n",
       "    }\n",
       "\n",
       "    .dataframe tbody tr th {\n",
       "        vertical-align: top;\n",
       "    }\n",
       "\n",
       "    .dataframe thead th {\n",
       "        text-align: right;\n",
       "    }\n",
       "</style>\n",
       "<table border=\"1\" class=\"dataframe\">\n",
       "  <thead>\n",
       "    <tr style=\"text-align: right;\">\n",
       "      <th></th>\n",
       "      <th>num_orders</th>\n",
       "    </tr>\n",
       "    <tr>\n",
       "      <th>datetime</th>\n",
       "      <th></th>\n",
       "    </tr>\n",
       "  </thead>\n",
       "  <tbody>\n",
       "    <tr>\n",
       "      <th>2018-03-01 00:00:00</th>\n",
       "      <td>124</td>\n",
       "    </tr>\n",
       "    <tr>\n",
       "      <th>2018-03-01 01:00:00</th>\n",
       "      <td>85</td>\n",
       "    </tr>\n",
       "    <tr>\n",
       "      <th>2018-03-01 02:00:00</th>\n",
       "      <td>71</td>\n",
       "    </tr>\n",
       "    <tr>\n",
       "      <th>2018-03-01 03:00:00</th>\n",
       "      <td>66</td>\n",
       "    </tr>\n",
       "    <tr>\n",
       "      <th>2018-03-01 04:00:00</th>\n",
       "      <td>43</td>\n",
       "    </tr>\n",
       "    <tr>\n",
       "      <th>2018-03-01 05:00:00</th>\n",
       "      <td>6</td>\n",
       "    </tr>\n",
       "    <tr>\n",
       "      <th>2018-03-01 06:00:00</th>\n",
       "      <td>12</td>\n",
       "    </tr>\n",
       "    <tr>\n",
       "      <th>2018-03-01 07:00:00</th>\n",
       "      <td>15</td>\n",
       "    </tr>\n",
       "    <tr>\n",
       "      <th>2018-03-01 08:00:00</th>\n",
       "      <td>34</td>\n",
       "    </tr>\n",
       "    <tr>\n",
       "      <th>2018-03-01 09:00:00</th>\n",
       "      <td>69</td>\n",
       "    </tr>\n",
       "    <tr>\n",
       "      <th>2018-03-01 10:00:00</th>\n",
       "      <td>64</td>\n",
       "    </tr>\n",
       "    <tr>\n",
       "      <th>2018-03-01 11:00:00</th>\n",
       "      <td>96</td>\n",
       "    </tr>\n",
       "    <tr>\n",
       "      <th>2018-03-01 12:00:00</th>\n",
       "      <td>30</td>\n",
       "    </tr>\n",
       "    <tr>\n",
       "      <th>2018-03-01 13:00:00</th>\n",
       "      <td>32</td>\n",
       "    </tr>\n",
       "    <tr>\n",
       "      <th>2018-03-01 14:00:00</th>\n",
       "      <td>48</td>\n",
       "    </tr>\n",
       "    <tr>\n",
       "      <th>2018-03-01 15:00:00</th>\n",
       "      <td>66</td>\n",
       "    </tr>\n",
       "    <tr>\n",
       "      <th>2018-03-01 16:00:00</th>\n",
       "      <td>43</td>\n",
       "    </tr>\n",
       "    <tr>\n",
       "      <th>2018-03-01 17:00:00</th>\n",
       "      <td>44</td>\n",
       "    </tr>\n",
       "    <tr>\n",
       "      <th>2018-03-01 18:00:00</th>\n",
       "      <td>73</td>\n",
       "    </tr>\n",
       "    <tr>\n",
       "      <th>2018-03-01 19:00:00</th>\n",
       "      <td>45</td>\n",
       "    </tr>\n",
       "  </tbody>\n",
       "</table>\n",
       "</div>"
      ],
      "text/plain": [
       "                     num_orders\n",
       "datetime                       \n",
       "2018-03-01 00:00:00         124\n",
       "2018-03-01 01:00:00          85\n",
       "2018-03-01 02:00:00          71\n",
       "2018-03-01 03:00:00          66\n",
       "2018-03-01 04:00:00          43\n",
       "2018-03-01 05:00:00           6\n",
       "2018-03-01 06:00:00          12\n",
       "2018-03-01 07:00:00          15\n",
       "2018-03-01 08:00:00          34\n",
       "2018-03-01 09:00:00          69\n",
       "2018-03-01 10:00:00          64\n",
       "2018-03-01 11:00:00          96\n",
       "2018-03-01 12:00:00          30\n",
       "2018-03-01 13:00:00          32\n",
       "2018-03-01 14:00:00          48\n",
       "2018-03-01 15:00:00          66\n",
       "2018-03-01 16:00:00          43\n",
       "2018-03-01 17:00:00          44\n",
       "2018-03-01 18:00:00          73\n",
       "2018-03-01 19:00:00          45"
      ]
     },
     "execution_count": 5,
     "metadata": {},
     "output_type": "execute_result"
    },
    {
     "data": {
      "image/png": "[encoded data removed]",
      "text/plain": [
       "<Figure size 432x288 with 1 Axes>"
      ]
     },
     "metadata": {
      "needs_background": "light"
     },
     "output_type": "display_data"
    }
   ],
   "source": [
    "data.info()\n",
    "print(data.describe())\n",
    "data.hist(bins=50);\n",
    "data.head(20)"
   ]
  },
  {
   "cell_type": "markdown",
   "metadata": {},
   "source": [
    "Данные имеют близкое к нормальному распределение и хвост справа\n",
    "\n",
    "Посмотрим на тренд, сезонность и остатки ряда"
   ]
  },
  {
   "cell_type": "code",
   "execution_count": 6,
   "metadata": {
    "scrolled": false
   },
   "outputs": [
    {
     "data": {
      "image/png": "[encoded data removed]",
      "text/plain": [
       "<Figure size 432x288 with 1 Axes>"
      ]
     },
     "metadata": {
      "needs_background": "light"
     },
     "output_type": "display_data"
    },
    {
     "data": {
      "image/png": "[encoded data removed]",
      "text/plain": [
       "<Figure size 432x288 with 1 Axes>"
      ]
     },
     "metadata": {
      "needs_background": "light"
     },
     "output_type": "display_data"
    },
    {
     "data": {
      "image/png": "[encoded data removed]",
      "text/plain": [
       "<Figure size 432x288 with 1 Axes>"
      ]
     },
     "metadata": {
      "needs_background": "light"
     },
     "output_type": "display_data"
    }
   ],
   "source": [
    "decomposed = seasonal_decompose(data)\n",
    "decomposed.trend.plot();\n",
    "plt.xlabel('Месяц')\n",
    "plt.ylabel('Среднее количество заказов')\n",
    "plt.show()\n",
    "decomposed.seasonal.plot();\n",
    "plt.xlabel('Месяц')\n",
    "plt.ylabel('Среднее количество заказов')\n",
    "plt.show()\n",
    "decomposed.resid.plot();\n",
    "plt.xlabel('Месяц')\n",
    "plt.ylabel('Среднее количество заказов')\n",
    "plt.show()"
   ]
  },
  {
   "cell_type": "markdown",
   "metadata": {},
   "source": [
    "Видим хороший восходящий тренд - среднее количество заказов увеличилось с 60 до 160 за пол года. А вот сезонность не разглядеть - слишком крупный для неё временной промежуток. Выведем недельную и дневную сезонность"
   ]
  },
  {
   "cell_type": "code",
   "execution_count": 7,
   "metadata": {
    "scrolled": false
   },
   "outputs": [
    {
     "data": {
      "image/png": "[encoded data removed]",
      "text/plain": [
       "<Figure size 432x288 with 1 Axes>"
      ]
     },
     "metadata": {
      "needs_background": "light"
     },
     "output_type": "display_data"
    },
    {
     "data": {
      "image/png": "[encoded data removed]",
      "text/plain": [
       "<Figure size 432x288 with 1 Axes>"
      ]
     },
     "metadata": {
      "needs_background": "light"
     },
     "output_type": "display_data"
    }
   ],
   "source": [
    "decomposed.seasonal['2018-03':'2018-03-07'].plot();\n",
    "plt.xlabel('День недели')\n",
    "plt.ylabel('Среднее количество заказов')\n",
    "plt.show()\n",
    "decomposed.seasonal['2018-03-01':'2018-03-01'].plot();\n",
    "plt.xlabel('Время')\n",
    "plt.ylabel('Среднее количество заказов')\n",
    "plt.show()"
   ]
  },
  {
   "cell_type": "markdown",
   "metadata": {},
   "source": [
    "Обнаружили зависимость от часа - в течении дня точка, когда заказов больше всего - около полуночи, затем количество заказов снижается и идёт в точку наименьшего количества заказов - в 6 утра. После этого график растёт и падает с трендом вверх пока снова не оказывается в максимальной точке полуночи\n",
    "\n",
    "Попробуем ресемплировать ряд и посмотреть на то, какая будет сезонность при укрупнении интервала ряда до дня и недели"
   ]
  },
  {
   "cell_type": "code",
   "execution_count": 8,
   "metadata": {
    "scrolled": false
   },
   "outputs": [
    {
     "data": {
      "image/png": "[encoded data removed]",
      "text/plain": [
       "<Figure size 432x288 with 1 Axes>"
      ]
     },
     "metadata": {
      "needs_background": "light"
     },
     "output_type": "display_data"
    },
    {
     "data": {
      "image/png": "[encoded data removed]",
      "text/plain": [
       "<Figure size 432x288 with 1 Axes>"
      ]
     },
     "metadata": {
      "needs_background": "light"
     },
     "output_type": "display_data"
    }
   ],
   "source": [
    "decomposed = seasonal_decompose(data.resample('1d').sum())\n",
    "decomposed.seasonal['2018-03':'2018-03'].plot();\n",
    "plt.xlabel('День')\n",
    "plt.ylabel('Среднее количество заказов')\n",
    "plt.show()\n",
    "decomposed.seasonal['2018-03':'2018-03-07'].plot();\n",
    "plt.xlabel('День недели')\n",
    "plt.ylabel('Среднее количество заказов')\n",
    "plt.show()"
   ]
  },
  {
   "cell_type": "code",
   "execution_count": 9,
   "metadata": {},
   "outputs": [
    {
     "name": "stdout",
     "output_type": "stream",
     "text": [
      "Не получилось получить статистику при ресмплировании по неделям\n"
     ]
    }
   ],
   "source": [
    "try:\n",
    "    decomposed = seasonal_decompose(data.resample('7d').sum())\n",
    "    decomposed.seasonal.plot();\n",
    "    plt.show()\n",
    "    decomposed.seasonal['2018-03':'2018-03'].plot();\n",
    "    plt.show()\n",
    "    decomposed.seasonal['2018-03':'2018-03-07'].plot();\n",
    "    plt.show()\n",
    "except:\n",
    "    print('Не получилось получить статистику при ресмплировании по неделям')"
   ]
  },
  {
   "cell_type": "markdown",
   "metadata": {},
   "source": [
    "Посмотреть на статистику по неделям не получилось - данных за пол года не хватает для получения каких-то выводов. А вот при интервале в день мы смогли увидеть, что день недели существенно влияет на количество заказов - если график зависимости от времени дня имел интервал от +60 до -60, то этот имеет от +150 до -150. Зависимости от месяца и дня месяца мы не обнаружили -  это не значит, что её нет, но если она есть, то просто не может проявить себя на данных за пол года.\n",
    "\n",
    "Переходим к обучению моделей"
   ]
  },
  {
   "cell_type": "markdown",
   "metadata": {},
   "source": [
    "## Обучение"
   ]
  },
  {
   "cell_type": "markdown",
   "metadata": {},
   "source": [
    "Определяем функцию создания параметров для обучения"
   ]
  },
  {
   "cell_type": "code",
   "execution_count": 10,
   "metadata": {},
   "outputs": [],
   "source": [
    "def make_features(data, max_lag, rolling_mean_size):\n",
    "    data['month'] = data.index.month\n",
    "    data['day'] = data.index.day\n",
    "    data['dayofweek'] = data.index.dayofweek\n",
    "    \n",
    "    for lag in range(1, max_lag + 1):\n",
    "        data['lag_{}'.format(lag)] = data['num_orders'].shift(lag)\n",
    "\n",
    "    data['rolling_mean'] = data['num_orders'].shift().rolling(rolling_mean_size).mean()"
   ]
  },
  {
   "cell_type": "markdown",
   "metadata": {},
   "source": [
    "Определяем функцию деления данных на обучающую и тестовую выборки, с выделением из обучающей выборки валидационной"
   ]
  },
  {
   "cell_type": "code",
   "execution_count": 11,
   "metadata": {},
   "outputs": [],
   "source": [
    "def split_data(data):\n",
    "    train, test = train_test_split(data, shuffle=False, test_size=0.1)\n",
    "    train = train.dropna()\n",
    "    train_valid, valid = train_test_split(train, shuffle=False, test_size=0.15)\n",
    "\n",
    "    global X_train_valid, y_train_valid, X_valid, y_valid\n",
    "\n",
    "    X_train_valid = train_valid.drop('num_orders', axis=1)\n",
    "    y_train_valid = train_valid['num_orders']\n",
    "\n",
    "    X_valid = valid.drop('num_orders', axis=1)\n",
    "    y_valid = valid['num_orders']"
   ]
  },
  {
   "cell_type": "markdown",
   "metadata": {},
   "source": [
    "Для обучения используем три модели - линейную регрессию, случайный лес и CatBoost. Переберём небольшое количество параметров и гиперпараметров чтобы определить лучшее сочетание и модель на нём, результаты запишем в таблицу. У признаков переберём количество разностей временного ряда и размер скользящего среднего, т.к. наши данные - заказы по часам, количество разностей временного ряда - данные за последние X часов, переберём по 8 часов значения от суток до двух суток, а размер скользящего среднего - тренд с усреднением по X часов, переберём по 4 часа значения от 4 часов до 16 часов. У леса переберём максимальное значение глубины, у CatBoost сравним размер шага"
   ]
  },
  {
   "cell_type": "code",
   "execution_count": 12,
   "metadata": {
    "scrolled": true
   },
   "outputs": [
    {
     "name": "stdout",
     "output_type": "stream",
     "text": [
      "Количество разностей временного ряда - 24 размер скользящего среднего - 4\n",
      "RMSE линейной регрессии - 33.154889901494556\n",
      "Максимальная глубина - 8 RMSE случайного леса - 34.02451443549524\n",
      "Максимальная глубина - 12 RMSE случайного леса - 32.99815133376284\n",
      "Максимальная глубина - 16 RMSE случайного леса - 32.764553904303796\n",
      "Максимальная глубина - 20 RMSE случайного леса - 32.87188606696619\n",
      "Размер шага - 0.1 RMSE CatBoost - 31.595815978630974\n",
      "Размер шага - 0.05 RMSE CatBoost - 31.56645648371533\n",
      "Количество разностей временного ряда - 24 размер скользящего среднего - 8\n",
      "RMSE линейной регрессии - 33.15488990149456\n",
      "Максимальная глубина - 8 RMSE случайного леса - 33.98447836421741\n",
      "Максимальная глубина - 12 RMSE случайного леса - 32.54152002450842\n",
      "Максимальная глубина - 16 RMSE случайного леса - 32.218439201770614\n",
      "Максимальная глубина - 20 RMSE случайного леса - 32.21423043858523\n",
      "Размер шага - 0.1 RMSE CatBoost - 31.99757100042296\n",
      "Размер шага - 0.05 RMSE CatBoost - 31.862302652919674\n",
      "Количество разностей временного ряда - 24 размер скользящего среднего - 12\n",
      "RMSE линейной регрессии - 33.154889901494556\n",
      "Максимальная глубина - 8 RMSE случайного леса - 33.770578915992104\n",
      "Максимальная глубина - 12 RMSE случайного леса - 32.81247955295043\n",
      "Максимальная глубина - 16 RMSE случайного леса - 32.489420408274064\n",
      "Максимальная глубина - 20 RMSE случайного леса - 32.64196583553706\n",
      "Размер шага - 0.1 RMSE CatBoost - 31.868198976845687\n",
      "Размер шага - 0.05 RMSE CatBoost - 31.666137984088632\n",
      "Количество разностей временного ряда - 24 размер скользящего среднего - 16\n",
      "RMSE линейной регрессии - 33.154889901494556\n",
      "Максимальная глубина - 8 RMSE случайного леса - 33.61765551531717\n",
      "Максимальная глубина - 12 RMSE случайного леса - 32.30906897877405\n",
      "Максимальная глубина - 16 RMSE случайного леса - 32.13316471227142\n",
      "Максимальная глубина - 20 RMSE случайного леса - 32.17740732698943\n",
      "Размер шага - 0.1 RMSE CatBoost - 31.41469732284901\n",
      "Размер шага - 0.05 RMSE CatBoost - 31.553551493599993\n",
      "Количество разностей временного ряда - 32 размер скользящего среднего - 4\n",
      "RMSE линейной регрессии - 33.19961029456871\n",
      "Максимальная глубина - 8 RMSE случайного леса - 34.002807675855045\n",
      "Максимальная глубина - 12 RMSE случайного леса - 33.21185343016267\n",
      "Максимальная глубина - 16 RMSE случайного леса - 32.97540357687809\n",
      "Максимальная глубина - 20 RMSE случайного леса - 33.014922743130505\n",
      "Размер шага - 0.1 RMSE CatBoost - 32.33997310758885\n",
      "Размер шага - 0.05 RMSE CatBoost - 31.769091358487433\n",
      "Количество разностей временного ряда - 32 размер скользящего среднего - 8\n",
      "RMSE линейной регрессии - 33.199385062061914\n",
      "Максимальная глубина - 8 RMSE случайного леса - 33.88528963889199\n",
      "Максимальная глубина - 12 RMSE случайного леса - 32.62968879284207\n",
      "Максимальная глубина - 16 RMSE случайного леса - 32.173646504291845\n",
      "Максимальная глубина - 20 RMSE случайного леса - 32.282155118493286\n",
      "Размер шага - 0.1 RMSE CatBoost - 31.621922136548356\n",
      "Размер шага - 0.05 RMSE CatBoost - 32.13584541116496\n",
      "Количество разностей временного ряда - 32 размер скользящего среднего - 12\n",
      "RMSE линейной регрессии - 33.19938506206193\n",
      "Максимальная глубина - 8 RMSE случайного леса - 33.848204151014095\n",
      "Максимальная глубина - 12 RMSE случайного леса - 32.64115472594472\n",
      "Максимальная глубина - 16 RMSE случайного леса - 32.54634564425436\n",
      "Максимальная глубина - 20 RMSE случайного леса - 32.45012972240095\n",
      "Размер шага - 0.1 RMSE CatBoost - 31.533063237713296\n",
      "Размер шага - 0.05 RMSE CatBoost - 32.02597905662213\n",
      "Количество разностей временного ряда - 32 размер скользящего среднего - 16\n",
      "RMSE линейной регрессии - 33.201803048744935\n",
      "Максимальная глубина - 8 RMSE случайного леса - 33.79661812677631\n",
      "Максимальная глубина - 12 RMSE случайного леса - 32.53766061025374\n",
      "Максимальная глубина - 16 RMSE случайного леса - 32.42049875595582\n",
      "Максимальная глубина - 20 RMSE случайного леса - 32.39775735811668\n",
      "Размер шага - 0.1 RMSE CatBoost - 32.073089402769966\n",
      "Размер шага - 0.05 RMSE CatBoost - 31.518017864945943\n",
      "Количество разностей временного ряда - 40 размер скользящего среднего - 4\n",
      "RMSE линейной регрессии - 33.14654255209141\n",
      "Максимальная глубина - 8 RMSE случайного леса - 34.18029953389011\n",
      "Максимальная глубина - 12 RMSE случайного леса - 33.30712806346423\n",
      "Максимальная глубина - 16 RMSE случайного леса - 33.033400731884136\n",
      "Максимальная глубина - 20 RMSE случайного леса - 32.99624532726168\n",
      "Размер шага - 0.1 RMSE CatBoost - 31.145272019749093\n",
      "Размер шага - 0.05 RMSE CatBoost - 31.166582416183246\n",
      "Количество разностей временного ряда - 40 размер скользящего среднего - 8\n",
      "RMSE линейной регрессии - 33.146916522514054\n",
      "Максимальная глубина - 8 RMSE случайного леса - 33.95256370332623\n",
      "Максимальная глубина - 12 RMSE случайного леса - 32.90214744964123\n",
      "Максимальная глубина - 16 RMSE случайного леса - 32.21988118496182\n",
      "Максимальная глубина - 20 RMSE случайного леса - 32.2865300567419\n",
      "Размер шага - 0.1 RMSE CatBoost - 31.819081171975405\n",
      "Размер шага - 0.05 RMSE CatBoost - 31.592873441336405\n",
      "Количество разностей временного ряда - 40 размер скользящего среднего - 12\n",
      "RMSE линейной регрессии - 33.14778000114357\n",
      "Максимальная глубина - 8 RMSE случайного леса - 33.8706208959533\n",
      "Максимальная глубина - 12 RMSE случайного леса - 32.65861112022237\n",
      "Максимальная глубина - 16 RMSE случайного леса - 32.62091437533011\n",
      "Максимальная глубина - 20 RMSE случайного леса - 32.61309301471004\n",
      "Размер шага - 0.1 RMSE CatBoost - 31.61675167668543\n",
      "Размер шага - 0.05 RMSE CatBoost - 31.735314980823613\n",
      "Количество разностей временного ряда - 40 размер скользящего среднего - 16\n",
      "RMSE линейной регрессии - 33.14645217905669\n",
      "Максимальная глубина - 8 RMSE случайного леса - 33.95179102299815\n",
      "Максимальная глубина - 12 RMSE случайного леса - 32.75577374916553\n",
      "Максимальная глубина - 16 RMSE случайного леса - 32.51671668438287\n",
      "Максимальная глубина - 20 RMSE случайного леса - 32.45908231067978\n",
      "Размер шага - 0.1 RMSE CatBoost - 31.88739361429416\n",
      "Размер шага - 0.05 RMSE CatBoost - 31.508307264389167\n",
      "Количество разностей временного ряда - 48 размер скользящего среднего - 4\n",
      "RMSE линейной регрессии - 30.84718112730886\n",
      "Максимальная глубина - 8 RMSE случайного леса - 32.39666461421387\n",
      "Максимальная глубина - 12 RMSE случайного леса - 31.63064033558692\n",
      "Максимальная глубина - 16 RMSE случайного леса - 31.632379957218937\n",
      "Максимальная глубина - 20 RMSE случайного леса - 31.730968708742633\n",
      "Размер шага - 0.1 RMSE CatBoost - 29.828853985471365\n",
      "Размер шага - 0.05 RMSE CatBoost - 29.88210864051216\n",
      "Количество разностей временного ряда - 48 размер скользящего среднего - 8\n",
      "RMSE линейной регрессии - 30.842020779947717\n",
      "Максимальная глубина - 8 RMSE случайного леса - 32.423308465194424\n",
      "Максимальная глубина - 12 RMSE случайного леса - 31.642714825540004\n",
      "Максимальная глубина - 16 RMSE случайного леса - 31.677016794602036\n",
      "Максимальная глубина - 20 RMSE случайного леса - 31.568325032428245\n",
      "Размер шага - 0.1 RMSE CatBoost - 29.852197580002738\n",
      "Размер шага - 0.05 RMSE CatBoost - 29.942663343538975\n",
      "Количество разностей временного ряда - 48 размер скользящего среднего - 12\n",
      "RMSE линейной регрессии - 30.846380908808847\n",
      "Максимальная глубина - 8 RMSE случайного леса - 32.085821457391226\n",
      "Максимальная глубина - 12 RMSE случайного леса - 31.532666001587273\n",
      "Максимальная глубина - 16 RMSE случайного леса - 31.291060376947627\n",
      "Максимальная глубина - 20 RMSE случайного леса - 31.301392209327197\n",
      "Размер шага - 0.1 RMSE CatBoost - 30.059561131241963\n",
      "Размер шага - 0.05 RMSE CatBoost - 30.207716805607106\n",
      "Количество разностей временного ряда - 48 размер скользящего среднего - 16\n",
      "RMSE линейной регрессии - 30.845315807140736\n",
      "Максимальная глубина - 8 RMSE случайного леса - 32.11837853479975\n",
      "Максимальная глубина - 12 RMSE случайного леса - 31.372871962932532\n",
      "Максимальная глубина - 16 RMSE случайного леса - 31.334373998472046\n",
      "Максимальная глубина - 20 RMSE случайного леса - 31.192911474427518\n",
      "Размер шага - 0.1 RMSE CatBoost - 30.072107282006407\n",
      "Размер шага - 0.05 RMSE CatBoost - 29.68680214330703\n",
      "CPU times: user 11min 2s, sys: 7.18 s, total: 11min 9s\n",
      "Wall time: 12min 5s\n"
     ]
    }
   ],
   "source": [
    "%%time\n",
    "\n",
    "depth_values = [8, 12, 16, 20]\n",
    "learning_values = [0.1, 0.05]\n",
    "results = []\n",
    "lin_reg = LinearRegression()\n",
    "\n",
    "# цикл для перебора различного сочетания параметров, выводим текущие параметры\n",
    "for lag in range(24, 49, 8):\n",
    "    for roll_size in range(4, 17, 4):\n",
    "        print('Количество разностей временного ряда -', lag, 'размер скользящего среднего -', roll_size)\n",
    "        # перезаписываем переменную train_data и создаём в ней новые параметры, разбиваем её на выборки\n",
    "        train_data = data.copy()\n",
    "        make_features(train_data, lag, roll_size)\n",
    "        split_data(train_data)\n",
    "        #обучаем линейную регрессию, выводим результат обучения и сохраняем его в таблицу\n",
    "        lin_reg.fit(X_train_valid, y_train_valid)\n",
    "        rmse = mean_squared_error(y_valid, lin_reg.predict(X_valid), squared=False)\n",
    "        print('RMSE линейной регрессии -', rmse)\n",
    "        result = ['LinearRegression', lag, roll_size, rmse, '-']\n",
    "        results.append(result)\n",
    "        # перебераем значения depth для forest и learning_rate для cat, выводим и записываем\n",
    "        for depth in depth_values:\n",
    "            forest = RandomForestRegressor(max_depth=depth, random_state=113)\n",
    "            forest.fit(X_train_valid, y_train_valid)\n",
    "            rmse = mean_squared_error(y_valid, forest.predict(X_valid), squared=False)\n",
    "            print('Максимальная глубина -', depth, 'RMSE случайного леса -', rmse)\n",
    "            result = ['RandomForest', lag, roll_size, rmse, depth]\n",
    "            results.append(result)\n",
    "        for rate in learning_values:\n",
    "            cat = CatBoostRegressor(depth=6 ,learning_rate=rate, verbose=False, random_state=113)\n",
    "            cat.fit(X_train_valid, y_train_valid)\n",
    "            rmse = mean_squared_error(y_valid, cat.predict(X_valid), squared=False)\n",
    "            print('Размер шага -', rate, 'RMSE CatBoost -', rmse)\n",
    "            result = ['CatBoost', lag, roll_size, rmse, rate]\n",
    "            results.append(result)"
   ]
  },
  {
   "cell_type": "code",
   "execution_count": 13,
   "metadata": {},
   "outputs": [
    {
     "data": {
      "text/html": [
       "<div>\n",
       "<style scoped>\n",
       "    .dataframe tbody tr th:only-of-type {\n",
       "        vertical-align: middle;\n",
       "    }\n",
       "\n",
       "    .dataframe tbody tr th {\n",
       "        vertical-align: top;\n",
       "    }\n",
       "\n",
       "    .dataframe thead th {\n",
       "        text-align: right;\n",
       "    }\n",
       "</style>\n",
       "<table border=\"1\" class=\"dataframe\">\n",
       "  <thead>\n",
       "    <tr style=\"text-align: right;\">\n",
       "      <th></th>\n",
       "      <th>Алгоритм обучения</th>\n",
       "      <th>Количество разностей временного ряда</th>\n",
       "      <th>Размер скользящего среднего</th>\n",
       "      <th>Значение ошибки</th>\n",
       "      <th>Глубина/Размер шага</th>\n",
       "    </tr>\n",
       "  </thead>\n",
       "  <tbody>\n",
       "    <tr>\n",
       "      <th>0</th>\n",
       "      <td>LinearRegression</td>\n",
       "      <td>24</td>\n",
       "      <td>4</td>\n",
       "      <td>33.154890</td>\n",
       "      <td>-</td>\n",
       "    </tr>\n",
       "    <tr>\n",
       "      <th>1</th>\n",
       "      <td>RandomForest</td>\n",
       "      <td>24</td>\n",
       "      <td>4</td>\n",
       "      <td>34.024514</td>\n",
       "      <td>8</td>\n",
       "    </tr>\n",
       "    <tr>\n",
       "      <th>2</th>\n",
       "      <td>RandomForest</td>\n",
       "      <td>24</td>\n",
       "      <td>4</td>\n",
       "      <td>32.998151</td>\n",
       "      <td>12</td>\n",
       "    </tr>\n",
       "    <tr>\n",
       "      <th>3</th>\n",
       "      <td>RandomForest</td>\n",
       "      <td>24</td>\n",
       "      <td>4</td>\n",
       "      <td>32.764554</td>\n",
       "      <td>16</td>\n",
       "    </tr>\n",
       "    <tr>\n",
       "      <th>4</th>\n",
       "      <td>RandomForest</td>\n",
       "      <td>24</td>\n",
       "      <td>4</td>\n",
       "      <td>32.871886</td>\n",
       "      <td>20</td>\n",
       "    </tr>\n",
       "    <tr>\n",
       "      <th>5</th>\n",
       "      <td>CatBoost</td>\n",
       "      <td>24</td>\n",
       "      <td>4</td>\n",
       "      <td>31.595816</td>\n",
       "      <td>0.1</td>\n",
       "    </tr>\n",
       "    <tr>\n",
       "      <th>6</th>\n",
       "      <td>CatBoost</td>\n",
       "      <td>24</td>\n",
       "      <td>4</td>\n",
       "      <td>31.566456</td>\n",
       "      <td>0.05</td>\n",
       "    </tr>\n",
       "  </tbody>\n",
       "</table>\n",
       "</div>"
      ],
      "text/plain": [
       "  Алгоритм обучения  Количество разностей временного ряда  \\\n",
       "0  LinearRegression                                    24   \n",
       "1      RandomForest                                    24   \n",
       "2      RandomForest                                    24   \n",
       "3      RandomForest                                    24   \n",
       "4      RandomForest                                    24   \n",
       "5          CatBoost                                    24   \n",
       "6          CatBoost                                    24   \n",
       "\n",
       "   Размер скользящего среднего  Значение ошибки Глубина/Размер шага  \n",
       "0                            4        33.154890                   -  \n",
       "1                            4        34.024514                   8  \n",
       "2                            4        32.998151                  12  \n",
       "3                            4        32.764554                  16  \n",
       "4                            4        32.871886                  20  \n",
       "5                            4        31.595816                 0.1  \n",
       "6                            4        31.566456                0.05  "
      ]
     },
     "execution_count": 13,
     "metadata": {},
     "output_type": "execute_result"
    }
   ],
   "source": [
    "columns = ['Алгоритм обучения', 'Количество разностей временного ряда',\n",
    "           'Размер скользящего среднего', 'Значение ошибки', 'Глубина/Размер шага']\n",
    "results_df = pd.DataFrame(results, columns=columns)\n",
    "results_df.head(7)"
   ]
  },
  {
   "cell_type": "markdown",
   "metadata": {},
   "source": [
    "Отсортируем данные по значению ошибки"
   ]
  },
  {
   "cell_type": "code",
   "execution_count": 14,
   "metadata": {},
   "outputs": [
    {
     "data": {
      "text/html": [
       "<div>\n",
       "<style scoped>\n",
       "    .dataframe tbody tr th:only-of-type {\n",
       "        vertical-align: middle;\n",
       "    }\n",
       "\n",
       "    .dataframe tbody tr th {\n",
       "        vertical-align: top;\n",
       "    }\n",
       "\n",
       "    .dataframe thead th {\n",
       "        text-align: right;\n",
       "    }\n",
       "</style>\n",
       "<table border=\"1\" class=\"dataframe\">\n",
       "  <thead>\n",
       "    <tr style=\"text-align: right;\">\n",
       "      <th></th>\n",
       "      <th>Алгоритм обучения</th>\n",
       "      <th>Количество разностей временного ряда</th>\n",
       "      <th>Размер скользящего среднего</th>\n",
       "      <th>Значение ошибки</th>\n",
       "      <th>Глубина/Размер шага</th>\n",
       "    </tr>\n",
       "  </thead>\n",
       "  <tbody>\n",
       "    <tr>\n",
       "      <th>111</th>\n",
       "      <td>CatBoost</td>\n",
       "      <td>48</td>\n",
       "      <td>16</td>\n",
       "      <td>29.686802</td>\n",
       "      <td>0.05</td>\n",
       "    </tr>\n",
       "    <tr>\n",
       "      <th>89</th>\n",
       "      <td>CatBoost</td>\n",
       "      <td>48</td>\n",
       "      <td>4</td>\n",
       "      <td>29.828854</td>\n",
       "      <td>0.1</td>\n",
       "    </tr>\n",
       "    <tr>\n",
       "      <th>96</th>\n",
       "      <td>CatBoost</td>\n",
       "      <td>48</td>\n",
       "      <td>8</td>\n",
       "      <td>29.852198</td>\n",
       "      <td>0.1</td>\n",
       "    </tr>\n",
       "    <tr>\n",
       "      <th>90</th>\n",
       "      <td>CatBoost</td>\n",
       "      <td>48</td>\n",
       "      <td>4</td>\n",
       "      <td>29.882109</td>\n",
       "      <td>0.05</td>\n",
       "    </tr>\n",
       "    <tr>\n",
       "      <th>97</th>\n",
       "      <td>CatBoost</td>\n",
       "      <td>48</td>\n",
       "      <td>8</td>\n",
       "      <td>29.942663</td>\n",
       "      <td>0.05</td>\n",
       "    </tr>\n",
       "    <tr>\n",
       "      <th>103</th>\n",
       "      <td>CatBoost</td>\n",
       "      <td>48</td>\n",
       "      <td>12</td>\n",
       "      <td>30.059561</td>\n",
       "      <td>0.1</td>\n",
       "    </tr>\n",
       "    <tr>\n",
       "      <th>110</th>\n",
       "      <td>CatBoost</td>\n",
       "      <td>48</td>\n",
       "      <td>16</td>\n",
       "      <td>30.072107</td>\n",
       "      <td>0.1</td>\n",
       "    </tr>\n",
       "    <tr>\n",
       "      <th>104</th>\n",
       "      <td>CatBoost</td>\n",
       "      <td>48</td>\n",
       "      <td>12</td>\n",
       "      <td>30.207717</td>\n",
       "      <td>0.05</td>\n",
       "    </tr>\n",
       "    <tr>\n",
       "      <th>91</th>\n",
       "      <td>LinearRegression</td>\n",
       "      <td>48</td>\n",
       "      <td>8</td>\n",
       "      <td>30.842021</td>\n",
       "      <td>-</td>\n",
       "    </tr>\n",
       "    <tr>\n",
       "      <th>105</th>\n",
       "      <td>LinearRegression</td>\n",
       "      <td>48</td>\n",
       "      <td>16</td>\n",
       "      <td>30.845316</td>\n",
       "      <td>-</td>\n",
       "    </tr>\n",
       "    <tr>\n",
       "      <th>98</th>\n",
       "      <td>LinearRegression</td>\n",
       "      <td>48</td>\n",
       "      <td>12</td>\n",
       "      <td>30.846381</td>\n",
       "      <td>-</td>\n",
       "    </tr>\n",
       "    <tr>\n",
       "      <th>84</th>\n",
       "      <td>LinearRegression</td>\n",
       "      <td>48</td>\n",
       "      <td>4</td>\n",
       "      <td>30.847181</td>\n",
       "      <td>-</td>\n",
       "    </tr>\n",
       "    <tr>\n",
       "      <th>61</th>\n",
       "      <td>CatBoost</td>\n",
       "      <td>40</td>\n",
       "      <td>4</td>\n",
       "      <td>31.145272</td>\n",
       "      <td>0.1</td>\n",
       "    </tr>\n",
       "    <tr>\n",
       "      <th>62</th>\n",
       "      <td>CatBoost</td>\n",
       "      <td>40</td>\n",
       "      <td>4</td>\n",
       "      <td>31.166582</td>\n",
       "      <td>0.05</td>\n",
       "    </tr>\n",
       "    <tr>\n",
       "      <th>109</th>\n",
       "      <td>RandomForest</td>\n",
       "      <td>48</td>\n",
       "      <td>16</td>\n",
       "      <td>31.192911</td>\n",
       "      <td>20</td>\n",
       "    </tr>\n",
       "    <tr>\n",
       "      <th>101</th>\n",
       "      <td>RandomForest</td>\n",
       "      <td>48</td>\n",
       "      <td>12</td>\n",
       "      <td>31.291060</td>\n",
       "      <td>16</td>\n",
       "    </tr>\n",
       "    <tr>\n",
       "      <th>102</th>\n",
       "      <td>RandomForest</td>\n",
       "      <td>48</td>\n",
       "      <td>12</td>\n",
       "      <td>31.301392</td>\n",
       "      <td>20</td>\n",
       "    </tr>\n",
       "    <tr>\n",
       "      <th>108</th>\n",
       "      <td>RandomForest</td>\n",
       "      <td>48</td>\n",
       "      <td>16</td>\n",
       "      <td>31.334374</td>\n",
       "      <td>16</td>\n",
       "    </tr>\n",
       "    <tr>\n",
       "      <th>107</th>\n",
       "      <td>RandomForest</td>\n",
       "      <td>48</td>\n",
       "      <td>16</td>\n",
       "      <td>31.372872</td>\n",
       "      <td>12</td>\n",
       "    </tr>\n",
       "    <tr>\n",
       "      <th>26</th>\n",
       "      <td>CatBoost</td>\n",
       "      <td>24</td>\n",
       "      <td>16</td>\n",
       "      <td>31.414697</td>\n",
       "      <td>0.1</td>\n",
       "    </tr>\n",
       "  </tbody>\n",
       "</table>\n",
       "</div>"
      ],
      "text/plain": [
       "    Алгоритм обучения  Количество разностей временного ряда  \\\n",
       "111          CatBoost                                    48   \n",
       "89           CatBoost                                    48   \n",
       "96           CatBoost                                    48   \n",
       "90           CatBoost                                    48   \n",
       "97           CatBoost                                    48   \n",
       "103          CatBoost                                    48   \n",
       "110          CatBoost                                    48   \n",
       "104          CatBoost                                    48   \n",
       "91   LinearRegression                                    48   \n",
       "105  LinearRegression                                    48   \n",
       "98   LinearRegression                                    48   \n",
       "84   LinearRegression                                    48   \n",
       "61           CatBoost                                    40   \n",
       "62           CatBoost                                    40   \n",
       "109      RandomForest                                    48   \n",
       "101      RandomForest                                    48   \n",
       "102      RandomForest                                    48   \n",
       "108      RandomForest                                    48   \n",
       "107      RandomForest                                    48   \n",
       "26           CatBoost                                    24   \n",
       "\n",
       "     Размер скользящего среднего  Значение ошибки Глубина/Размер шага  \n",
       "111                           16        29.686802                0.05  \n",
       "89                             4        29.828854                 0.1  \n",
       "96                             8        29.852198                 0.1  \n",
       "90                             4        29.882109                0.05  \n",
       "97                             8        29.942663                0.05  \n",
       "103                           12        30.059561                 0.1  \n",
       "110                           16        30.072107                 0.1  \n",
       "104                           12        30.207717                0.05  \n",
       "91                             8        30.842021                   -  \n",
       "105                           16        30.845316                   -  \n",
       "98                            12        30.846381                   -  \n",
       "84                             4        30.847181                   -  \n",
       "61                             4        31.145272                 0.1  \n",
       "62                             4        31.166582                0.05  \n",
       "109                           16        31.192911                  20  \n",
       "101                           12        31.291060                  16  \n",
       "102                           12        31.301392                  20  \n",
       "108                           16        31.334374                  16  \n",
       "107                           16        31.372872                  12  \n",
       "26                            16        31.414697                 0.1  "
      ]
     },
     "execution_count": 14,
     "metadata": {},
     "output_type": "execute_result"
    }
   ],
   "source": [
    "results_df.sort_values(by='Значение ошибки').head(20)"
   ]
  },
  {
   "cell_type": "markdown",
   "metadata": {},
   "source": [
    "Лучший результат показал алгоритм градиентного бустинга CatBoost с размером шага в 0.05 на данных с признаками за последние 48 часов и скользящим средним размером 16"
   ]
  },
  {
   "cell_type": "markdown",
   "metadata": {},
   "source": [
    "## Тестирование"
   ]
  },
  {
   "cell_type": "markdown",
   "metadata": {},
   "source": [
    "Подготовим данные с лучшими параметрами и разобъём на обучающую и тестовую выборку"
   ]
  },
  {
   "cell_type": "code",
   "execution_count": 15,
   "metadata": {},
   "outputs": [],
   "source": [
    "make_features(data, 48, 16)\n",
    "\n",
    "train, test = train_test_split(data, shuffle=False, test_size=0.1)\n",
    "train = train.dropna()\n",
    "\n",
    "X_train = train.drop('num_orders', axis=1)\n",
    "y_train = train['num_orders']\n",
    "\n",
    "X_test = test.drop('num_orders', axis=1)\n",
    "y_test = test['num_orders']"
   ]
  },
  {
   "cell_type": "markdown",
   "metadata": {},
   "source": [
    "Обучим алгоритм CatBoost со размером шага в 0.05"
   ]
  },
  {
   "cell_type": "code",
   "execution_count": 16,
   "metadata": {},
   "outputs": [
    {
     "name": "stdout",
     "output_type": "stream",
     "text": [
      "0:\tlearn: 37.8596569\ttotal: 17.4ms\tremaining: 17.4s\n",
      "999:\tlearn: 9.8632192\ttotal: 12.8s\tremaining: 0us\n",
      "RMSE CatBoost на тестовых данных- 38.71970808314621\n"
     ]
    }
   ],
   "source": [
    "cat = CatBoostRegressor(depth=6, learning_rate=0.05, verbose=999, random_state=113)\n",
    "cat.fit(X_train, y_train)\n",
    "print('RMSE CatBoost на тестовых данных-', mean_squared_error(y_test, cat.predict(X_test), squared=False))"
   ]
  },
  {
   "cell_type": "markdown",
   "metadata": {},
   "source": [
    "RMSE модели на тестовых данных ниже, чем установленый порог в 48 почти на 10 заказов, значит мы добились поставленной задачи\n",
    "\n",
    "Визуализируем полученные предсказания и сравним их со значениями целевого признака"
   ]
  },
  {
   "cell_type": "code",
   "execution_count": 17,
   "metadata": {
    "scrolled": false
   },
   "outputs": [
    {
     "data": {
      "image/png": "[encoded data removed]",
      "text/plain": [
       "<Figure size 1152x648 with 1 Axes>"
      ]
     },
     "metadata": {
      "needs_background": "light"
     },
     "output_type": "display_data"
    }
   ],
   "source": [
    "fig, ax = plt.subplots(1, 1, figsize=(16,9))\n",
    "pd.Series(cat.predict(X_test), index=y_test.index).plot(label='Предсказания модели', color='tab:blue');\n",
    "ax.fill_between(x=y_test.index, y1=y_test, y2=0, label='Целевой признак', alpha=0.5, color='tab:orange', linewidth=0.5)\n",
    "plt.legend()\n",
    "plt.xlabel('День')\n",
    "plt.ylabel('Количество заказов')\n",
    "plt.show()"
   ]
  },
  {
   "cell_type": "markdown",
   "metadata": {},
   "source": [
    "## Общий вывод"
   ]
  },
  {
   "cell_type": "markdown",
   "metadata": {},
   "source": [
    "Мы загрузили временной ряд, проверили его на монотонность и ресемплировали его по необходимому горизонту планирования. Затем мы проанализировали данныые и смогли увидеть общий тренд на повышение, а так же зависимость количества заказов от часа и дня недели. После этого мы перебрали различные сочетания создаваемых нами на основах ряда параметров и гиперпараметров трёх алгоритмов обучения - линейной регрессии, случайного леса и CatBoost, лучший результат из рассмотренных показал CatBoost со скоростью обучения 0.05 на данных с почасовым количеством заказов за последние двое суток и трендом с усреднением по 16 часов. Проверка на тестовой выборке лучшей модели показала значение ошибки по метрике RMSE в 39.5, что меньше установленного порога в 48, поэтому заказ считаем успешно выполненным."
   ]
  }
 ],
 "metadata": {
  "ExecuteTimeLog": [
   {
    "duration": 358,
    "start_time": "2023-06-10T18:22:19.262Z"
   },
   {
    "duration": 183,
    "start_time": "2023-06-10T18:23:54.573Z"
   },
   {
    "duration": 14,
    "start_time": "2023-06-10T18:23:59.225Z"
   },
   {
    "duration": 113,
    "start_time": "2023-06-10T18:24:18.705Z"
   },
   {
    "duration": 51,
    "start_time": "2023-06-10T18:25:07.775Z"
   },
   {
    "duration": 51,
    "start_time": "2023-06-10T18:25:31.063Z"
   },
   {
    "duration": 8,
    "start_time": "2023-06-10T18:25:33.459Z"
   },
   {
    "duration": 10,
    "start_time": "2023-06-10T18:25:40.809Z"
   },
   {
    "duration": 39,
    "start_time": "2023-06-10T18:26:14.246Z"
   },
   {
    "duration": 67,
    "start_time": "2023-06-10T18:26:25.967Z"
   },
   {
    "duration": 9,
    "start_time": "2023-06-10T18:26:29.616Z"
   },
   {
    "duration": 44,
    "start_time": "2023-06-10T18:26:39.560Z"
   },
   {
    "duration": 9,
    "start_time": "2023-06-10T18:26:41.209Z"
   },
   {
    "duration": 2,
    "start_time": "2023-06-10T18:26:52.361Z"
   },
   {
    "duration": 55,
    "start_time": "2023-06-10T18:26:52.961Z"
   },
   {
    "duration": 9,
    "start_time": "2023-06-10T18:26:55.047Z"
   },
   {
    "duration": 535,
    "start_time": "2023-06-10T18:27:04.338Z"
   },
   {
    "duration": 136,
    "start_time": "2023-06-10T18:27:17.344Z"
   },
   {
    "duration": 173,
    "start_time": "2023-06-10T18:27:28.770Z"
   },
   {
    "duration": 153,
    "start_time": "2023-06-10T18:27:38.945Z"
   },
   {
    "duration": 216,
    "start_time": "2023-06-10T18:27:53.872Z"
   },
   {
    "duration": 165,
    "start_time": "2023-06-10T18:27:58.106Z"
   },
   {
    "duration": 4,
    "start_time": "2023-06-10T18:28:36.785Z"
   },
   {
    "duration": 13,
    "start_time": "2023-06-10T18:30:35.324Z"
   },
   {
    "duration": 7,
    "start_time": "2023-06-10T18:30:43.641Z"
   },
   {
    "duration": 5,
    "start_time": "2023-06-10T18:30:52.620Z"
   },
   {
    "duration": 153,
    "start_time": "2023-06-10T18:31:03.689Z"
   },
   {
    "duration": 5,
    "start_time": "2023-06-10T18:31:14.122Z"
   },
   {
    "duration": 154,
    "start_time": "2023-06-10T18:31:14.820Z"
   },
   {
    "duration": 5,
    "start_time": "2023-06-10T18:32:29.724Z"
   },
   {
    "duration": 160,
    "start_time": "2023-06-10T18:32:30.260Z"
   },
   {
    "duration": 4,
    "start_time": "2023-06-10T18:32:45.842Z"
   },
   {
    "duration": 156,
    "start_time": "2023-06-10T18:32:49.013Z"
   },
   {
    "duration": 608,
    "start_time": "2023-06-10T18:50:42.820Z"
   },
   {
    "duration": 45,
    "start_time": "2023-06-10T19:06:38.614Z"
   },
   {
    "duration": 2971,
    "start_time": "2023-06-10T19:06:57.928Z"
   },
   {
    "duration": 16,
    "start_time": "2023-06-10T19:07:23.725Z"
   },
   {
    "duration": 103,
    "start_time": "2023-06-10T19:10:25.105Z"
   },
   {
    "duration": 22,
    "start_time": "2023-06-10T19:12:40.216Z"
   },
   {
    "duration": 252,
    "start_time": "2023-06-10T19:15:58.614Z"
   },
   {
    "duration": 3,
    "start_time": "2023-06-10T19:17:40.730Z"
   },
   {
    "duration": 539,
    "start_time": "2023-06-10T19:17:58.600Z"
   },
   {
    "duration": 3,
    "start_time": "2023-06-10T19:19:32.131Z"
   },
   {
    "duration": 1161,
    "start_time": "2023-06-10T19:19:36.683Z"
   },
   {
    "duration": 232,
    "start_time": "2023-06-10T19:20:55.607Z"
   },
   {
    "duration": 108,
    "start_time": "2023-06-10T19:21:19.700Z"
   },
   {
    "duration": 119,
    "start_time": "2023-06-10T19:21:42.998Z"
   },
   {
    "duration": 119,
    "start_time": "2023-06-10T19:21:52.831Z"
   },
   {
    "duration": 355,
    "start_time": "2023-06-10T19:22:15.786Z"
   },
   {
    "duration": 236,
    "start_time": "2023-06-10T19:22:37.761Z"
   },
   {
    "duration": 312,
    "start_time": "2023-06-10T19:22:54.659Z"
   },
   {
    "duration": 244,
    "start_time": "2023-06-10T19:23:06.067Z"
   },
   {
    "duration": 6,
    "start_time": "2023-06-10T19:41:55.087Z"
   },
   {
    "duration": 3,
    "start_time": "2023-06-10T19:42:19.123Z"
   },
   {
    "duration": 147,
    "start_time": "2023-06-10T19:42:27.415Z"
   },
   {
    "duration": 6,
    "start_time": "2023-06-10T19:42:32.255Z"
   },
   {
    "duration": 159,
    "start_time": "2023-06-10T19:42:34.625Z"
   },
   {
    "duration": 3,
    "start_time": "2023-06-10T19:42:42.116Z"
   },
   {
    "duration": 10,
    "start_time": "2023-06-10T19:42:43.729Z"
   },
   {
    "duration": 9,
    "start_time": "2023-06-10T19:42:57.353Z"
   },
   {
    "duration": 2,
    "start_time": "2023-06-10T19:43:05.720Z"
   },
   {
    "duration": 46,
    "start_time": "2023-06-10T19:43:06.846Z"
   },
   {
    "duration": 3,
    "start_time": "2023-06-10T19:43:10.592Z"
   },
   {
    "duration": 6,
    "start_time": "2023-06-10T19:43:11.831Z"
   },
   {
    "duration": 143,
    "start_time": "2023-06-10T19:43:15.329Z"
   },
   {
    "duration": 627,
    "start_time": "2023-06-10T19:43:26.800Z"
   },
   {
    "duration": 296,
    "start_time": "2023-06-10T19:43:29.956Z"
   },
   {
    "duration": 4,
    "start_time": "2023-06-10T19:49:44.266Z"
   },
   {
    "duration": 4,
    "start_time": "2023-06-10T19:49:59.156Z"
   },
   {
    "duration": 1024,
    "start_time": "2023-06-10T19:50:09.456Z"
   },
   {
    "duration": 7,
    "start_time": "2023-06-10T19:50:40.360Z"
   },
   {
    "duration": 12,
    "start_time": "2023-06-10T19:50:42.099Z"
   },
   {
    "duration": 22,
    "start_time": "2023-06-10T19:50:52.593Z"
   },
   {
    "duration": 32,
    "start_time": "2023-06-10T19:51:06.642Z"
   },
   {
    "duration": 23,
    "start_time": "2023-06-10T19:51:28.951Z"
   },
   {
    "duration": 3,
    "start_time": "2023-06-10T19:52:59.777Z"
   },
   {
    "duration": 18,
    "start_time": "2023-06-10T19:53:04.247Z"
   },
   {
    "duration": 57,
    "start_time": "2023-06-10T19:53:27.241Z"
   },
   {
    "duration": 14,
    "start_time": "2023-06-10T19:53:28.771Z"
   },
   {
    "duration": 4,
    "start_time": "2023-06-10T19:53:34.177Z"
   },
   {
    "duration": 19,
    "start_time": "2023-06-10T19:53:35.300Z"
   },
   {
    "duration": 9,
    "start_time": "2023-06-10T19:53:37.559Z"
   },
   {
    "duration": 64,
    "start_time": "2023-06-10T19:53:39.749Z"
   },
   {
    "duration": 9,
    "start_time": "2023-06-10T19:59:55.203Z"
   },
   {
    "duration": 6,
    "start_time": "2023-06-10T20:00:01.448Z"
   },
   {
    "duration": 14,
    "start_time": "2023-06-10T20:00:02.283Z"
   },
   {
    "duration": 17,
    "start_time": "2023-06-10T20:00:02.866Z"
   },
   {
    "duration": 8,
    "start_time": "2023-06-10T20:03:27.799Z"
   },
   {
    "duration": 5,
    "start_time": "2023-06-10T20:03:32.962Z"
   },
   {
    "duration": 8,
    "start_time": "2023-06-10T20:03:35.770Z"
   },
   {
    "duration": 2,
    "start_time": "2023-06-10T20:03:43.763Z"
   },
   {
    "duration": 1661,
    "start_time": "2023-06-10T20:04:02.349Z"
   },
   {
    "duration": 386,
    "start_time": "2023-06-10T20:05:30.546Z"
   },
   {
    "duration": 3392,
    "start_time": "2023-06-10T20:06:09.608Z"
   },
   {
    "duration": 3189,
    "start_time": "2023-06-10T20:10:13.637Z"
   },
   {
    "duration": 3473,
    "start_time": "2023-06-10T20:15:37.560Z"
   },
   {
    "duration": 10,
    "start_time": "2023-06-10T20:27:21.666Z"
   },
   {
    "duration": 71,
    "start_time": "2023-06-10T20:38:35.509Z"
   },
   {
    "duration": 4,
    "start_time": "2023-06-10T20:59:00.017Z"
   },
   {
    "duration": 1391,
    "start_time": "2023-06-10T21:23:52.456Z"
   },
   {
    "duration": 50,
    "start_time": "2023-06-10T21:23:54.647Z"
   },
   {
    "duration": 3,
    "start_time": "2023-06-10T21:23:58.944Z"
   },
   {
    "duration": 10,
    "start_time": "2023-06-10T21:24:00.712Z"
   },
   {
    "duration": 4,
    "start_time": "2023-06-10T21:24:07.654Z"
   },
   {
    "duration": 3,
    "start_time": "2023-06-10T21:24:09.793Z"
   },
   {
    "duration": 117,
    "start_time": "2023-06-10T21:24:13.487Z"
   },
   {
    "duration": 12,
    "start_time": "2023-06-10T21:25:40.521Z"
   },
   {
    "duration": 36,
    "start_time": "2023-06-10T21:26:11.240Z"
   },
   {
    "duration": 4,
    "start_time": "2023-06-10T21:32:48.046Z"
   },
   {
    "duration": 15155,
    "start_time": "2023-06-10T21:32:52.608Z"
   },
   {
    "duration": 103774,
    "start_time": "2023-06-10T21:33:19.707Z"
   },
   {
    "duration": 0,
    "start_time": "2023-06-10T21:35:03.483Z"
   },
   {
    "duration": 1387,
    "start_time": "2023-06-10T21:35:12.836Z"
   },
   {
    "duration": 49,
    "start_time": "2023-06-10T21:35:14.225Z"
   },
   {
    "duration": 5,
    "start_time": "2023-06-10T21:35:14.275Z"
   },
   {
    "duration": 21,
    "start_time": "2023-06-10T21:35:14.281Z"
   },
   {
    "duration": 162,
    "start_time": "2023-06-10T21:35:14.303Z"
   },
   {
    "duration": 624,
    "start_time": "2023-06-10T21:35:14.466Z"
   },
   {
    "duration": 239,
    "start_time": "2023-06-10T21:35:15.092Z"
   },
   {
    "duration": 3,
    "start_time": "2023-06-10T21:35:15.332Z"
   },
   {
    "duration": 10,
    "start_time": "2023-06-10T21:35:15.337Z"
   },
   {
    "duration": 8193,
    "start_time": "2023-06-10T21:35:15.349Z"
   },
   {
    "duration": 0,
    "start_time": "2023-06-10T21:35:23.544Z"
   },
   {
    "duration": 1331,
    "start_time": "2023-06-10T21:36:23.284Z"
   },
   {
    "duration": 49,
    "start_time": "2023-06-10T21:36:24.617Z"
   },
   {
    "duration": 3,
    "start_time": "2023-06-10T21:36:24.668Z"
   },
   {
    "duration": 17,
    "start_time": "2023-06-10T21:36:24.673Z"
   },
   {
    "duration": 167,
    "start_time": "2023-06-10T21:36:24.692Z"
   },
   {
    "duration": 632,
    "start_time": "2023-06-10T21:36:24.861Z"
   },
   {
    "duration": 266,
    "start_time": "2023-06-10T21:36:25.495Z"
   },
   {
    "duration": 3,
    "start_time": "2023-06-10T21:36:25.763Z"
   },
   {
    "duration": 29,
    "start_time": "2023-06-10T21:36:25.767Z"
   },
   {
    "duration": 640,
    "start_time": "2023-06-10T21:36:25.798Z"
   },
   {
    "duration": 1399,
    "start_time": "2023-06-10T21:36:35.693Z"
   },
   {
    "duration": 47,
    "start_time": "2023-06-10T21:36:37.094Z"
   },
   {
    "duration": 3,
    "start_time": "2023-06-10T21:36:37.143Z"
   },
   {
    "duration": 12,
    "start_time": "2023-06-10T21:36:37.148Z"
   },
   {
    "duration": 171,
    "start_time": "2023-06-10T21:36:37.161Z"
   },
   {
    "duration": 607,
    "start_time": "2023-06-10T21:36:37.333Z"
   },
   {
    "duration": 238,
    "start_time": "2023-06-10T21:36:37.941Z"
   },
   {
    "duration": 6,
    "start_time": "2023-06-10T21:36:38.180Z"
   },
   {
    "duration": 16,
    "start_time": "2023-06-10T21:36:38.187Z"
   },
   {
    "duration": 2955940,
    "start_time": "2023-06-10T21:36:38.205Z"
   },
   {
    "duration": 12,
    "start_time": "2023-06-10T22:25:54.147Z"
   },
   {
    "duration": 13,
    "start_time": "2023-06-10T22:26:56.699Z"
   },
   {
    "duration": 1397,
    "start_time": "2023-06-10T22:31:07.547Z"
   },
   {
    "duration": 1866,
    "start_time": "2023-06-11T05:35:23.109Z"
   },
   {
    "duration": 163,
    "start_time": "2023-06-11T05:35:24.977Z"
   },
   {
    "duration": 9,
    "start_time": "2023-06-11T05:35:26.668Z"
   },
   {
    "duration": 4,
    "start_time": "2023-06-11T05:35:33.061Z"
   },
   {
    "duration": 11,
    "start_time": "2023-06-11T05:35:35.413Z"
   },
   {
    "duration": 11,
    "start_time": "2023-06-11T05:37:48.362Z"
   },
   {
    "duration": 13,
    "start_time": "2023-06-11T05:37:49.527Z"
   },
   {
    "duration": 3748,
    "start_time": "2023-06-11T05:38:29.710Z"
   },
   {
    "duration": 392485,
    "start_time": "2023-06-11T05:39:19.110Z"
   },
   {
    "duration": 8209,
    "start_time": "2023-06-11T05:46:01.605Z"
   },
   {
    "duration": 3617,
    "start_time": "2023-06-11T05:46:14.255Z"
   },
   {
    "duration": 1749,
    "start_time": "2023-06-11T05:46:26.952Z"
   },
   {
    "duration": 1492,
    "start_time": "2023-06-11T05:46:48.553Z"
   },
   {
    "duration": 1274,
    "start_time": "2023-06-11T05:46:55.134Z"
   },
   {
    "duration": 1544,
    "start_time": "2023-06-11T05:47:06.247Z"
   },
   {
    "duration": 1781,
    "start_time": "2023-06-11T05:47:12.885Z"
   },
   {
    "duration": 2166,
    "start_time": "2023-06-11T05:47:20.116Z"
   },
   {
    "duration": 1657,
    "start_time": "2023-06-11T05:47:28.846Z"
   },
   {
    "duration": 2407,
    "start_time": "2023-06-11T05:47:39.062Z"
   },
   {
    "duration": 22740,
    "start_time": "2023-06-11T05:47:55.742Z"
   },
   {
    "duration": 992,
    "start_time": "2023-06-11T05:48:45.114Z"
   },
   {
    "duration": 1408,
    "start_time": "2023-06-11T05:53:36.477Z"
   },
   {
    "duration": 54,
    "start_time": "2023-06-11T05:53:38.242Z"
   },
   {
    "duration": 3,
    "start_time": "2023-06-11T05:53:44.806Z"
   },
   {
    "duration": 7,
    "start_time": "2023-06-11T05:53:46.761Z"
   },
   {
    "duration": 3,
    "start_time": "2023-06-11T05:53:51.083Z"
   },
   {
    "duration": 5,
    "start_time": "2023-06-11T05:53:53.310Z"
   },
   {
    "duration": 88777,
    "start_time": "2023-06-11T05:54:38.118Z"
   },
   {
    "duration": 15,
    "start_time": "2023-06-11T05:56:06.904Z"
   },
   {
    "duration": 17,
    "start_time": "2023-06-11T05:56:06.921Z"
   },
   {
    "duration": 1389,
    "start_time": "2023-06-11T06:06:10.468Z"
   },
   {
    "duration": 46,
    "start_time": "2023-06-11T06:06:12.019Z"
   },
   {
    "duration": 3,
    "start_time": "2023-06-11T06:06:13.372Z"
   },
   {
    "duration": 8,
    "start_time": "2023-06-11T06:06:15.428Z"
   },
   {
    "duration": 4,
    "start_time": "2023-06-11T06:06:19.268Z"
   },
   {
    "duration": 4,
    "start_time": "2023-06-11T06:06:20.714Z"
   },
   {
    "duration": 403859,
    "start_time": "2023-06-11T06:06:24.606Z"
   },
   {
    "duration": 9,
    "start_time": "2023-06-11T06:13:08.467Z"
   },
   {
    "duration": 658,
    "start_time": "2023-06-11T06:13:12.842Z"
   },
   {
    "duration": 439,
    "start_time": "2023-06-11T06:13:16.304Z"
   },
   {
    "duration": 19630,
    "start_time": "2023-06-11T06:18:28.111Z"
   },
   {
    "duration": 3,
    "start_time": "2023-06-11T06:18:58.745Z"
   },
   {
    "duration": 50,
    "start_time": "2023-06-11T06:18:58.750Z"
   },
   {
    "duration": 3,
    "start_time": "2023-06-11T06:18:58.802Z"
   },
   {
    "duration": 26,
    "start_time": "2023-06-11T06:18:58.806Z"
   },
   {
    "duration": 1376,
    "start_time": "2023-06-11T06:19:19.612Z"
   },
   {
    "duration": 53,
    "start_time": "2023-06-11T06:19:20.990Z"
   },
   {
    "duration": 3,
    "start_time": "2023-06-11T06:19:21.044Z"
   },
   {
    "duration": 31,
    "start_time": "2023-06-11T06:19:21.049Z"
   },
   {
    "duration": 218,
    "start_time": "2023-06-11T06:19:21.082Z"
   },
   {
    "duration": 617,
    "start_time": "2023-06-11T06:19:21.307Z"
   },
   {
    "duration": 425,
    "start_time": "2023-06-11T06:19:21.925Z"
   },
   {
    "duration": 4,
    "start_time": "2023-06-11T06:19:22.351Z"
   },
   {
    "duration": 24,
    "start_time": "2023-06-11T06:19:22.356Z"
   },
   {
    "duration": 2731687,
    "start_time": "2023-06-11T06:19:22.382Z"
   },
   {
    "duration": 23,
    "start_time": "2023-06-11T07:04:54.071Z"
   },
   {
    "duration": 22,
    "start_time": "2023-06-11T07:04:54.098Z"
   },
   {
    "duration": 24,
    "start_time": "2023-06-11T07:06:46.331Z"
   },
   {
    "duration": 3694,
    "start_time": "2023-06-11T07:06:47.998Z"
   },
   {
    "duration": 2695,
    "start_time": "2023-06-11T07:07:51.823Z"
   },
   {
    "duration": 5079,
    "start_time": "2023-06-11T07:08:00.028Z"
   },
   {
    "duration": 8097,
    "start_time": "2023-06-11T07:08:09.083Z"
   },
   {
    "duration": 3315,
    "start_time": "2023-06-11T07:08:22.524Z"
   },
   {
    "duration": 3,
    "start_time": "2023-06-11T07:12:36.784Z"
   },
   {
    "duration": 75,
    "start_time": "2023-06-11T07:12:36.789Z"
   },
   {
    "duration": 3,
    "start_time": "2023-06-11T07:12:36.866Z"
   },
   {
    "duration": 21,
    "start_time": "2023-06-11T07:12:36.870Z"
   },
   {
    "duration": 168,
    "start_time": "2023-06-11T07:12:36.892Z"
   },
   {
    "duration": 614,
    "start_time": "2023-06-11T07:12:37.062Z"
   },
   {
    "duration": 425,
    "start_time": "2023-06-11T07:12:37.677Z"
   },
   {
    "duration": 5,
    "start_time": "2023-06-11T07:12:38.103Z"
   },
   {
    "duration": 47,
    "start_time": "2023-06-11T07:12:38.109Z"
   },
   {
    "duration": 4838,
    "start_time": "2023-06-11T07:12:38.158Z"
   },
   {
    "duration": 9,
    "start_time": "2023-06-11T07:12:42.999Z"
   },
   {
    "duration": 31,
    "start_time": "2023-06-11T07:12:43.009Z"
   },
   {
    "duration": 1315,
    "start_time": "2023-06-11T07:12:52.322Z"
   },
   {
    "duration": 51,
    "start_time": "2023-06-11T07:12:53.639Z"
   },
   {
    "duration": 9,
    "start_time": "2023-06-11T07:12:53.691Z"
   },
   {
    "duration": 21,
    "start_time": "2023-06-11T07:12:53.702Z"
   },
   {
    "duration": 175,
    "start_time": "2023-06-11T07:12:53.724Z"
   },
   {
    "duration": 600,
    "start_time": "2023-06-11T07:12:53.900Z"
   },
   {
    "duration": 428,
    "start_time": "2023-06-11T07:12:54.502Z"
   },
   {
    "duration": 4,
    "start_time": "2023-06-11T07:12:54.931Z"
   },
   {
    "duration": 22,
    "start_time": "2023-06-11T07:12:54.936Z"
   },
   {
    "duration": 117420,
    "start_time": "2023-06-11T07:12:54.960Z"
   },
   {
    "duration": 20,
    "start_time": "2023-06-11T07:14:52.382Z"
   },
   {
    "duration": 32,
    "start_time": "2023-06-11T07:14:52.404Z"
   },
   {
    "duration": 26,
    "start_time": "2023-06-11T07:28:32.549Z"
   },
   {
    "duration": 6442,
    "start_time": "2023-06-11T07:28:35.407Z"
   },
   {
    "duration": 1569,
    "start_time": "2023-06-12T19:16:32.602Z"
   },
   {
    "duration": 111,
    "start_time": "2023-06-12T19:16:34.173Z"
   },
   {
    "duration": 3,
    "start_time": "2023-06-12T19:16:34.286Z"
   },
   {
    "duration": 20,
    "start_time": "2023-06-12T19:16:34.291Z"
   },
   {
    "duration": 173,
    "start_time": "2023-06-12T19:16:34.312Z"
   },
   {
    "duration": 609,
    "start_time": "2023-06-12T19:16:34.486Z"
   },
   {
    "duration": 452,
    "start_time": "2023-06-12T19:16:35.097Z"
   },
   {
    "duration": 3,
    "start_time": "2023-06-12T19:16:35.551Z"
   },
   {
    "duration": 13,
    "start_time": "2023-06-12T19:16:35.556Z"
   },
   {
    "duration": 701586,
    "start_time": "2023-06-12T19:16:35.571Z"
   },
   {
    "duration": 11,
    "start_time": "2023-06-12T19:28:17.159Z"
   },
   {
    "duration": 14,
    "start_time": "2023-06-12T19:28:17.172Z"
   },
   {
    "duration": 41,
    "start_time": "2023-06-12T19:28:17.188Z"
   },
   {
    "duration": 6457,
    "start_time": "2023-06-12T19:28:17.231Z"
   },
   {
    "duration": 30,
    "start_time": "2023-06-12T19:29:14.961Z"
   },
   {
    "duration": 11543,
    "start_time": "2023-06-12T19:29:18.782Z"
   },
   {
    "duration": 3,
    "start_time": "2023-06-12T19:31:11.560Z"
   },
   {
    "duration": 4,
    "start_time": "2023-06-12T19:31:17.056Z"
   },
   {
    "duration": 130,
    "start_time": "2023-06-12T19:31:35.576Z"
   },
   {
    "duration": 22,
    "start_time": "2023-06-12T19:32:17.980Z"
   },
   {
    "duration": 21,
    "start_time": "2023-06-12T19:33:37.880Z"
   },
   {
    "duration": 33,
    "start_time": "2023-06-12T19:34:18.314Z"
   },
   {
    "duration": 20,
    "start_time": "2023-06-12T19:34:56.896Z"
   },
   {
    "duration": 20,
    "start_time": "2023-06-12T19:35:25.580Z"
   },
   {
    "duration": 21,
    "start_time": "2023-06-12T19:36:37.073Z"
   },
   {
    "duration": 46,
    "start_time": "2023-06-12T19:37:00.961Z"
   },
   {
    "duration": 7,
    "start_time": "2023-06-12T19:37:05.953Z"
   },
   {
    "duration": 681,
    "start_time": "2023-06-12T19:37:13.075Z"
   },
   {
    "duration": 497,
    "start_time": "2023-06-12T19:37:18.168Z"
   },
   {
    "duration": 529,
    "start_time": "2023-06-12T19:37:23.643Z"
   },
   {
    "duration": 658,
    "start_time": "2023-06-12T19:38:09.653Z"
   },
   {
    "duration": 1216,
    "start_time": "2023-06-12T19:39:53.906Z"
   },
   {
    "duration": 920,
    "start_time": "2023-06-12T19:40:07.627Z"
   },
   {
    "duration": 11,
    "start_time": "2023-06-12T19:43:12.119Z"
   },
   {
    "duration": 11,
    "start_time": "2023-06-12T19:44:19.674Z"
   },
   {
    "duration": 11,
    "start_time": "2023-06-12T19:44:27.582Z"
   },
   {
    "duration": 463,
    "start_time": "2023-06-12T19:47:50.501Z"
   },
   {
    "duration": 14,
    "start_time": "2023-06-12T20:00:47.192Z"
   },
   {
    "duration": 10,
    "start_time": "2023-06-12T20:00:55.913Z"
   },
   {
    "duration": 7,
    "start_time": "2023-06-12T20:03:44.327Z"
   },
   {
    "duration": 7,
    "start_time": "2023-06-12T20:09:42.403Z"
   },
   {
    "duration": 16,
    "start_time": "2023-06-12T20:12:21.944Z"
   },
   {
    "duration": 170,
    "start_time": "2023-06-12T20:12:45.900Z"
   },
   {
    "duration": 168,
    "start_time": "2023-06-12T20:13:09.015Z"
   },
   {
    "duration": 176,
    "start_time": "2023-06-12T20:13:30.676Z"
   },
   {
    "duration": 168,
    "start_time": "2023-06-12T20:14:00.404Z"
   },
   {
    "duration": 1421,
    "start_time": "2023-06-12T20:38:19.440Z"
   },
   {
    "duration": 51,
    "start_time": "2023-06-12T20:38:20.863Z"
   },
   {
    "duration": 4,
    "start_time": "2023-06-12T20:38:20.916Z"
   },
   {
    "duration": 14,
    "start_time": "2023-06-12T20:38:20.922Z"
   },
   {
    "duration": 257,
    "start_time": "2023-06-12T20:38:20.939Z"
   },
   {
    "duration": 688,
    "start_time": "2023-06-12T20:38:21.197Z"
   },
   {
    "duration": 487,
    "start_time": "2023-06-12T20:38:21.887Z"
   },
   {
    "duration": 521,
    "start_time": "2023-06-12T20:38:22.376Z"
   },
   {
    "duration": 11,
    "start_time": "2023-06-12T20:38:22.901Z"
   },
   {
    "duration": 9,
    "start_time": "2023-06-12T20:38:22.915Z"
   },
   {
    "duration": 8,
    "start_time": "2023-06-12T20:38:22.925Z"
   },
   {
    "duration": 618944,
    "start_time": "2023-06-12T20:38:22.934Z"
   },
   {
    "duration": 10,
    "start_time": "2023-06-12T20:48:41.879Z"
   },
   {
    "duration": 53,
    "start_time": "2023-06-12T20:48:41.890Z"
   },
   {
    "duration": 62,
    "start_time": "2023-06-12T20:48:41.944Z"
   },
   {
    "duration": 12254,
    "start_time": "2023-06-12T20:48:42.008Z"
   },
   {
    "duration": 13,
    "start_time": "2023-06-12T21:04:36.541Z"
   },
   {
    "duration": 167,
    "start_time": "2023-06-12T21:12:55.584Z"
   },
   {
    "duration": 4,
    "start_time": "2023-06-12T21:13:18.921Z"
   },
   {
    "duration": 59,
    "start_time": "2023-06-12T21:13:18.927Z"
   },
   {
    "duration": 3,
    "start_time": "2023-06-12T21:13:18.988Z"
   },
   {
    "duration": 29,
    "start_time": "2023-06-12T21:13:18.992Z"
   },
   {
    "duration": 189,
    "start_time": "2023-06-12T21:13:19.023Z"
   },
   {
    "duration": 620,
    "start_time": "2023-06-12T21:13:19.214Z"
   },
   {
    "duration": 308,
    "start_time": "2023-06-12T21:13:19.836Z"
   },
   {
    "duration": 676,
    "start_time": "2023-06-12T21:13:20.146Z"
   },
   {
    "duration": 8,
    "start_time": "2023-06-12T21:13:20.825Z"
   },
   {
    "duration": 313,
    "start_time": "2023-06-12T21:14:06.668Z"
   },
   {
    "duration": 295,
    "start_time": "2023-06-12T21:14:36.313Z"
   },
   {
    "duration": 3,
    "start_time": "2023-06-12T21:17:38.193Z"
   },
   {
    "duration": 64,
    "start_time": "2023-06-12T21:17:38.198Z"
   },
   {
    "duration": 3,
    "start_time": "2023-06-12T21:17:38.265Z"
   },
   {
    "duration": 76,
    "start_time": "2023-06-12T21:17:38.269Z"
   },
   {
    "duration": 184,
    "start_time": "2023-06-12T21:17:38.347Z"
   },
   {
    "duration": 661,
    "start_time": "2023-06-12T21:17:38.533Z"
   },
   {
    "duration": 257,
    "start_time": "2023-06-12T21:17:39.196Z"
   },
   {
    "duration": 314,
    "start_time": "2023-06-12T21:17:39.454Z"
   },
   {
    "duration": 7,
    "start_time": "2023-06-12T21:17:39.770Z"
   },
   {
    "duration": 1382,
    "start_time": "2023-06-12T21:18:25.225Z"
   },
   {
    "duration": 48,
    "start_time": "2023-06-12T21:18:26.610Z"
   },
   {
    "duration": 4,
    "start_time": "2023-06-12T21:18:26.660Z"
   },
   {
    "duration": 10,
    "start_time": "2023-06-12T21:18:26.666Z"
   },
   {
    "duration": 212,
    "start_time": "2023-06-12T21:18:26.678Z"
   },
   {
    "duration": 711,
    "start_time": "2023-06-12T21:18:26.895Z"
   },
   {
    "duration": 278,
    "start_time": "2023-06-12T21:18:27.607Z"
   },
   {
    "duration": 318,
    "start_time": "2023-06-12T21:18:27.894Z"
   },
   {
    "duration": 8,
    "start_time": "2023-06-12T21:18:28.214Z"
   },
   {
    "duration": 6,
    "start_time": "2023-06-12T21:18:28.223Z"
   },
   {
    "duration": 7,
    "start_time": "2023-06-12T21:18:28.231Z"
   },
   {
    "duration": 575983,
    "start_time": "2023-06-12T21:18:28.239Z"
   },
   {
    "duration": 9,
    "start_time": "2023-06-12T21:28:04.224Z"
   },
   {
    "duration": 13,
    "start_time": "2023-06-12T21:28:04.235Z"
   },
   {
    "duration": 41,
    "start_time": "2023-06-12T21:28:04.249Z"
   },
   {
    "duration": 11477,
    "start_time": "2023-06-12T21:28:04.291Z"
   },
   {
    "duration": 2123,
    "start_time": "2023-06-13T04:50:34.549Z"
   },
   {
    "duration": 147,
    "start_time": "2023-06-13T04:50:36.674Z"
   },
   {
    "duration": 4,
    "start_time": "2023-06-13T04:50:36.823Z"
   },
   {
    "duration": 33,
    "start_time": "2023-06-13T04:50:36.828Z"
   },
   {
    "duration": 223,
    "start_time": "2023-06-13T04:50:36.863Z"
   },
   {
    "duration": 770,
    "start_time": "2023-06-13T04:50:37.088Z"
   },
   {
    "duration": 313,
    "start_time": "2023-06-13T04:50:37.861Z"
   },
   {
    "duration": 374,
    "start_time": "2023-06-13T04:50:38.176Z"
   },
   {
    "duration": 9,
    "start_time": "2023-06-13T04:50:38.556Z"
   },
   {
    "duration": 8,
    "start_time": "2023-06-13T04:50:38.566Z"
   },
   {
    "duration": 14,
    "start_time": "2023-06-13T04:50:38.576Z"
   },
   {
    "duration": 623891,
    "start_time": "2023-06-13T04:50:38.592Z"
   },
   {
    "duration": 11,
    "start_time": "2023-06-13T05:01:02.484Z"
   },
   {
    "duration": 21,
    "start_time": "2023-06-13T05:01:02.497Z"
   },
   {
    "duration": 54,
    "start_time": "2023-06-13T05:01:02.520Z"
   },
   {
    "duration": 12140,
    "start_time": "2023-06-13T05:01:02.576Z"
   },
   {
    "duration": 1961,
    "start_time": "2023-06-13T11:09:30.249Z"
   },
   {
    "duration": 273,
    "start_time": "2023-06-13T11:09:32.213Z"
   },
   {
    "duration": 4,
    "start_time": "2023-06-13T11:09:32.490Z"
   },
   {
    "duration": 31,
    "start_time": "2023-06-13T11:09:32.498Z"
   },
   {
    "duration": 339,
    "start_time": "2023-06-13T11:09:32.530Z"
   },
   {
    "duration": 933,
    "start_time": "2023-06-13T11:09:32.873Z"
   },
   {
    "duration": 338,
    "start_time": "2023-06-13T11:09:33.808Z"
   },
   {
    "duration": 429,
    "start_time": "2023-06-13T11:09:34.149Z"
   },
   {
    "duration": 10,
    "start_time": "2023-06-13T11:09:34.581Z"
   },
   {
    "duration": 152,
    "start_time": "2023-06-13T11:09:51.712Z"
   },
   {
    "duration": 0,
    "start_time": "2023-06-13T11:09:51.871Z"
   },
   {
    "duration": 1693,
    "start_time": "2023-06-13T11:10:15.924Z"
   },
   {
    "duration": 63,
    "start_time": "2023-06-13T11:10:17.619Z"
   },
   {
    "duration": 6,
    "start_time": "2023-06-13T11:10:17.686Z"
   },
   {
    "duration": 33,
    "start_time": "2023-06-13T11:10:17.696Z"
   },
   {
    "duration": 351,
    "start_time": "2023-06-13T11:10:17.731Z"
   },
   {
    "duration": 908,
    "start_time": "2023-06-13T11:10:18.088Z"
   },
   {
    "duration": 369,
    "start_time": "2023-06-13T11:10:18.998Z"
   },
   {
    "duration": 420,
    "start_time": "2023-06-13T11:10:19.369Z"
   },
   {
    "duration": 9,
    "start_time": "2023-06-13T11:10:19.795Z"
   },
   {
    "duration": 24,
    "start_time": "2023-06-13T11:10:19.807Z"
   },
   {
    "duration": 50,
    "start_time": "2023-06-13T11:10:19.832Z"
   },
   {
    "duration": 61,
    "start_time": "2023-06-13T11:11:01.997Z"
   },
   {
    "duration": 16134,
    "start_time": "2023-06-13T11:11:02.060Z"
   },
   {
    "duration": 12,
    "start_time": "2023-06-13T11:11:42.122Z"
   },
   {
    "duration": 152,
    "start_time": "2023-06-13T11:11:57.692Z"
   },
   {
    "duration": 180,
    "start_time": "2023-06-13T11:12:18.467Z"
   },
   {
    "duration": 305,
    "start_time": "2023-06-13T11:12:34.398Z"
   },
   {
    "duration": 267,
    "start_time": "2023-06-13T11:12:57.093Z"
   },
   {
    "duration": 181,
    "start_time": "2023-06-13T11:13:08.796Z"
   },
   {
    "duration": 6,
    "start_time": "2023-06-13T11:13:29.330Z"
   },
   {
    "duration": 7,
    "start_time": "2023-06-13T11:14:09.593Z"
   },
   {
    "duration": 239,
    "start_time": "2023-06-13T11:14:27.387Z"
   },
   {
    "duration": 378,
    "start_time": "2023-06-13T11:14:58.295Z"
   },
   {
    "duration": 313,
    "start_time": "2023-06-13T11:15:05.596Z"
   },
   {
    "duration": 290,
    "start_time": "2023-06-13T11:15:15.532Z"
   },
   {
    "duration": 317,
    "start_time": "2023-06-13T11:16:13.303Z"
   },
   {
    "duration": 344,
    "start_time": "2023-06-13T11:16:28.932Z"
   },
   {
    "duration": 431,
    "start_time": "2023-06-13T11:17:16.802Z"
   },
   {
    "duration": 352,
    "start_time": "2023-06-13T11:20:00.037Z"
   },
   {
    "duration": 295,
    "start_time": "2023-06-13T11:20:10.093Z"
   },
   {
    "duration": 402,
    "start_time": "2023-06-13T11:20:18.495Z"
   },
   {
    "duration": 351,
    "start_time": "2023-06-13T11:21:31.541Z"
   },
   {
    "duration": 313,
    "start_time": "2023-06-13T11:21:50.591Z"
   },
   {
    "duration": 310,
    "start_time": "2023-06-13T11:22:06.118Z"
   },
   {
    "duration": 163,
    "start_time": "2023-06-13T11:25:47.081Z"
   },
   {
    "duration": 315,
    "start_time": "2023-06-13T11:25:52.072Z"
   },
   {
    "duration": 311,
    "start_time": "2023-06-13T11:26:39.497Z"
   },
   {
    "duration": 317,
    "start_time": "2023-06-13T11:26:48.416Z"
   },
   {
    "duration": 312,
    "start_time": "2023-06-13T11:27:07.802Z"
   },
   {
    "duration": 353,
    "start_time": "2023-06-13T11:28:12.826Z"
   },
   {
    "duration": 311,
    "start_time": "2023-06-13T11:28:26.312Z"
   },
   {
    "duration": 359,
    "start_time": "2023-06-13T11:29:19.280Z"
   },
   {
    "duration": 419,
    "start_time": "2023-06-13T11:29:34.864Z"
   },
   {
    "duration": 356,
    "start_time": "2023-06-13T11:29:47.928Z"
   },
   {
    "duration": 634,
    "start_time": "2023-06-13T11:30:27.301Z"
   },
   {
    "duration": 326,
    "start_time": "2023-06-13T11:30:33.173Z"
   },
   {
    "duration": 174,
    "start_time": "2023-06-13T11:33:27.419Z"
   },
   {
    "duration": 353,
    "start_time": "2023-06-13T11:34:15.148Z"
   },
   {
    "duration": 427,
    "start_time": "2023-06-13T11:35:12.588Z"
   },
   {
    "duration": 386,
    "start_time": "2023-06-13T11:35:40.543Z"
   },
   {
    "duration": 314,
    "start_time": "2023-06-13T11:36:03.578Z"
   },
   {
    "duration": 412,
    "start_time": "2023-06-13T11:36:32.387Z"
   },
   {
    "duration": 396,
    "start_time": "2023-06-13T11:38:54.432Z"
   },
   {
    "duration": 491,
    "start_time": "2023-06-13T11:47:01.602Z"
   },
   {
    "duration": 1585,
    "start_time": "2023-06-13T11:48:21.319Z"
   },
   {
    "duration": 59,
    "start_time": "2023-06-13T11:48:22.907Z"
   },
   {
    "duration": 29,
    "start_time": "2023-06-13T11:48:22.968Z"
   },
   {
    "duration": 33,
    "start_time": "2023-06-13T11:48:22.999Z"
   },
   {
    "duration": 285,
    "start_time": "2023-06-13T11:48:23.035Z"
   },
   {
    "duration": 792,
    "start_time": "2023-06-13T11:48:23.322Z"
   },
   {
    "duration": 321,
    "start_time": "2023-06-13T11:48:24.116Z"
   },
   {
    "duration": 380,
    "start_time": "2023-06-13T11:48:24.448Z"
   },
   {
    "duration": 17,
    "start_time": "2023-06-13T11:48:24.830Z"
   },
   {
    "duration": 21,
    "start_time": "2023-06-13T11:48:24.856Z"
   },
   {
    "duration": 6,
    "start_time": "2023-06-13T11:48:24.879Z"
   },
   {
    "duration": 725695,
    "start_time": "2023-06-13T11:48:34.117Z"
   },
   {
    "duration": 11,
    "start_time": "2023-06-13T12:00:39.814Z"
   },
   {
    "duration": 73,
    "start_time": "2023-06-13T12:00:39.827Z"
   },
   {
    "duration": 74,
    "start_time": "2023-06-13T12:00:39.902Z"
   },
   {
    "duration": 15013,
    "start_time": "2023-06-13T12:00:39.979Z"
   },
   {
    "duration": 380,
    "start_time": "2023-06-13T12:00:54.993Z"
   }
  ],
  "kernelspec": {
   "display_name": "Python 3",
   "language": "python",
   "name": "python3"
  },
  "language_info": {
   "codemirror_mode": {
    "name": "ipython",
    "version": 3
   },
   "file_extension": ".py",
   "mimetype": "text/x-python",
   "name": "python",
   "nbconvert_exporter": "python",
   "pygments_lexer": "ipython3",
   "version": "3.8.5"
  },
  "toc": {
   "base_numbering": 1,
   "nav_menu": {},
   "number_sections": true,
   "sideBar": true,
   "skip_h1_title": true,
   "title_cell": "Содержание",
   "title_sidebar": "Contents",
   "toc_cell": true,
   "toc_position": {},
   "toc_section_display": true,
   "toc_window_display": false
  }
 },
 "nbformat": 4,
 "nbformat_minor": 2
}
