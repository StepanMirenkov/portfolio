{
 "cells": [
  {
   "cell_type": "markdown",
   "metadata": {},
   "source": [
    "# Проект: Прогнозирование оттока клиентов оператора связи «Ниединогоразрыва.ком»"
   ]
  },
  {
   "cell_type": "markdown",
   "metadata": {},
   "source": [
    "## Описание проекта"
   ]
  },
  {
   "cell_type": "markdown",
   "metadata": {},
   "source": [
    "Оператор связи «Ниединогоразрыва.ком» хочет научиться прогнозировать отток клиентов. Если выяснится, что пользователь планирует уйти, ему будут предложены промокоды и специальные условия. Команда оператора собрала персональные данные о некоторых клиентах, информацию об их тарифах и договорах."
   ]
  },
  {
   "cell_type": "markdown",
   "metadata": {},
   "source": [
    "### Описание услуг"
   ]
  },
  {
   "cell_type": "markdown",
   "metadata": {},
   "source": [
    "Оператор предоставляет два основных типа услуг:\n",
    "\n",
    "- <b>Стационарную телефонную связь.</b> Возможно подключение телефонного аппарата к нескольким линиям одновременно.\n",
    "- <b>Интернет.</b> Подключение может быть двух типов: через телефонную линию (DSL, от англ. digital subscriber line, «цифровая абонентская линия») или оптоволоконный кабель (Fiber optic).\n",
    "\n",
    "Также доступны такие услуги:\n",
    "\n",
    "- <b>Интернет-безопасность:</b> антивирус (DeviceProtection) и блокировка небезопасных сайтов (OnlineSecurity);\n",
    "- <b>Выделенная линия технической поддержки</b> (TechSupport);\n",
    "- <b>Облачное хранилище файлов для резервного копирования данных</b> (OnlineBackup);\n",
    "- <b>Стриминговое телевидение</b> (StreamingTV) и <b>каталог фильмов</b> (StreamingMovies).\n",
    "\n",
    "За услуги клиенты могут платить каждый месяц или заключить договор на 1–2 года. Доступны различные способы расчёта и возможность получения электронного чека."
   ]
  },
  {
   "cell_type": "markdown",
   "metadata": {},
   "source": [
    "### Описание данных"
   ]
  },
  {
   "cell_type": "markdown",
   "metadata": {},
   "source": [
    "Данные состоят из файлов, полученных из разных источников:\n",
    "- contract_new.csv — информация о договоре;\n",
    "- personal_new.csv — персональные данные клиента;\n",
    "- internet_new.csv — информация об интернет-услугах;\n",
    "- phone_new.csv — информация об услугах телефонии.\n",
    "\n",
    "Во всех файлах столбец <b>customerID</b> содержит код клиента.\n",
    "\n",
    "Информация о договорах актуальна на 1 февраля 2020.\n",
    "\n",
    "Целевая метрика - <b>ROC-AUC выше 0.85</b>"
   ]
  },
  {
   "cell_type": "markdown",
   "metadata": {},
   "source": [
    "## Исследовательский анализ данных"
   ]
  },
  {
   "cell_type": "markdown",
   "metadata": {},
   "source": [
    "Импортируем нужные библиотеки"
   ]
  },
  {
   "cell_type": "code",
   "execution_count": 1,
   "metadata": {},
   "outputs": [
    {
     "name": "stdout",
     "output_type": "stream",
     "text": [
      "Requirement already satisfied: phik in /opt/conda/lib/python3.9/site-packages (0.12.3)\n",
      "Requirement already satisfied: joblib>=0.14.1 in /opt/conda/lib/python3.9/site-packages (from phik) (1.1.0)\n",
      "Requirement already satisfied: pandas>=0.25.1 in /opt/conda/lib/python3.9/site-packages (from phik) (1.2.4)\n",
      "Requirement already satisfied: numpy>=1.18.0 in /opt/conda/lib/python3.9/site-packages (from phik) (1.21.1)\n",
      "Requirement already satisfied: matplotlib>=2.2.3 in /opt/conda/lib/python3.9/site-packages (from phik) (3.3.4)\n",
      "Requirement already satisfied: scipy>=1.5.2 in /opt/conda/lib/python3.9/site-packages (from phik) (1.9.1)\n",
      "Requirement already satisfied: kiwisolver>=1.0.1 in /opt/conda/lib/python3.9/site-packages (from matplotlib>=2.2.3->phik) (1.4.4)\n",
      "Requirement already satisfied: python-dateutil>=2.1 in /opt/conda/lib/python3.9/site-packages (from matplotlib>=2.2.3->phik) (2.8.1)\n",
      "Requirement already satisfied: pyparsing!=2.0.4,!=2.1.2,!=2.1.6,>=2.0.3 in /opt/conda/lib/python3.9/site-packages (from matplotlib>=2.2.3->phik) (2.4.7)\n",
      "Requirement already satisfied: pillow>=6.2.0 in /opt/conda/lib/python3.9/site-packages (from matplotlib>=2.2.3->phik) (8.4.0)\n",
      "Requirement already satisfied: cycler>=0.10 in /opt/conda/lib/python3.9/site-packages (from matplotlib>=2.2.3->phik) (0.11.0)\n",
      "Requirement already satisfied: pytz>=2017.3 in /opt/conda/lib/python3.9/site-packages (from pandas>=0.25.1->phik) (2021.1)\n",
      "Requirement already satisfied: six>=1.5 in /opt/conda/lib/python3.9/site-packages (from python-dateutil>=2.1->matplotlib>=2.2.3->phik) (1.16.0)\n"
     ]
    }
   ],
   "source": [
    "!pip install phik"
   ]
  },
  {
   "cell_type": "code",
   "execution_count": 2,
   "metadata": {},
   "outputs": [],
   "source": [
    "import pandas as pd\n",
    "import numpy as np\n",
    "from matplotlib import pyplot as plt\n",
    "import seaborn as sns\n",
    "import phik"
   ]
  },
  {
   "cell_type": "markdown",
   "metadata": {},
   "source": [
    "Записываем данные в переменные"
   ]
  },
  {
   "cell_type": "code",
   "execution_count": 3,
   "metadata": {},
   "outputs": [],
   "source": [
    "data_contract = pd.read_csv('/datasets/contract_new.csv', index_col='customerID')\n",
    "data_personal = pd.read_csv('/datasets/personal_new.csv', index_col='customerID')\n",
    "data_internet = pd.read_csv('/datasets/internet_new.csv', index_col='customerID')\n",
    "data_phone = pd.read_csv('/datasets/phone_new.csv', index_col='customerID')"
   ]
  },
  {
   "cell_type": "markdown",
   "metadata": {},
   "source": [
    "Проведём первичный осмотр данных и разберём их по отдельности, а затем объединим в одну таблицу и посмотрим на корреляции"
   ]
  },
  {
   "cell_type": "markdown",
   "metadata": {},
   "source": [
    "### Данные о договоре"
   ]
  },
  {
   "cell_type": "code",
   "execution_count": 4,
   "metadata": {
    "scrolled": false
   },
   "outputs": [
    {
     "name": "stdout",
     "output_type": "stream",
     "text": [
      "<class 'pandas.core.frame.DataFrame'>\n",
      "Index: 7043 entries, 7590-VHVEG to 3186-AJIEK\n",
      "Data columns (total 7 columns):\n",
      " #   Column            Non-Null Count  Dtype  \n",
      "---  ------            --------------  -----  \n",
      " 0   BeginDate         7043 non-null   object \n",
      " 1   EndDate           7043 non-null   object \n",
      " 2   Type              7043 non-null   object \n",
      " 3   PaperlessBilling  7043 non-null   object \n",
      " 4   PaymentMethod     7043 non-null   object \n",
      " 5   MonthlyCharges    7043 non-null   float64\n",
      " 6   TotalCharges      7043 non-null   object \n",
      "dtypes: float64(1), object(6)\n",
      "memory usage: 440.2+ KB\n"
     ]
    },
    {
     "data": {
      "text/html": [
       "<div>\n",
       "<style scoped>\n",
       "    .dataframe tbody tr th:only-of-type {\n",
       "        vertical-align: middle;\n",
       "    }\n",
       "\n",
       "    .dataframe tbody tr th {\n",
       "        vertical-align: top;\n",
       "    }\n",
       "\n",
       "    .dataframe thead th {\n",
       "        text-align: right;\n",
       "    }\n",
       "</style>\n",
       "<table border=\"1\" class=\"dataframe\">\n",
       "  <thead>\n",
       "    <tr style=\"text-align: right;\">\n",
       "      <th></th>\n",
       "      <th>BeginDate</th>\n",
       "      <th>EndDate</th>\n",
       "      <th>Type</th>\n",
       "      <th>PaperlessBilling</th>\n",
       "      <th>PaymentMethod</th>\n",
       "      <th>MonthlyCharges</th>\n",
       "      <th>TotalCharges</th>\n",
       "    </tr>\n",
       "    <tr>\n",
       "      <th>customerID</th>\n",
       "      <th></th>\n",
       "      <th></th>\n",
       "      <th></th>\n",
       "      <th></th>\n",
       "      <th></th>\n",
       "      <th></th>\n",
       "      <th></th>\n",
       "    </tr>\n",
       "  </thead>\n",
       "  <tbody>\n",
       "    <tr>\n",
       "      <th>7590-VHVEG</th>\n",
       "      <td>2020-01-01</td>\n",
       "      <td>No</td>\n",
       "      <td>Month-to-month</td>\n",
       "      <td>Yes</td>\n",
       "      <td>Electronic check</td>\n",
       "      <td>29.85</td>\n",
       "      <td>31.04</td>\n",
       "    </tr>\n",
       "    <tr>\n",
       "      <th>5575-GNVDE</th>\n",
       "      <td>2017-04-01</td>\n",
       "      <td>No</td>\n",
       "      <td>One year</td>\n",
       "      <td>No</td>\n",
       "      <td>Mailed check</td>\n",
       "      <td>56.95</td>\n",
       "      <td>2071.84</td>\n",
       "    </tr>\n",
       "    <tr>\n",
       "      <th>3668-QPYBK</th>\n",
       "      <td>2019-10-01</td>\n",
       "      <td>No</td>\n",
       "      <td>Month-to-month</td>\n",
       "      <td>Yes</td>\n",
       "      <td>Mailed check</td>\n",
       "      <td>53.85</td>\n",
       "      <td>226.17</td>\n",
       "    </tr>\n",
       "    <tr>\n",
       "      <th>7795-CFOCW</th>\n",
       "      <td>2016-05-01</td>\n",
       "      <td>No</td>\n",
       "      <td>One year</td>\n",
       "      <td>No</td>\n",
       "      <td>Bank transfer (automatic)</td>\n",
       "      <td>42.30</td>\n",
       "      <td>1960.6</td>\n",
       "    </tr>\n",
       "    <tr>\n",
       "      <th>9237-HQITU</th>\n",
       "      <td>2019-09-01</td>\n",
       "      <td>No</td>\n",
       "      <td>Month-to-month</td>\n",
       "      <td>Yes</td>\n",
       "      <td>Electronic check</td>\n",
       "      <td>70.70</td>\n",
       "      <td>353.5</td>\n",
       "    </tr>\n",
       "    <tr>\n",
       "      <th>9305-CDSKC</th>\n",
       "      <td>2019-03-01</td>\n",
       "      <td>No</td>\n",
       "      <td>Month-to-month</td>\n",
       "      <td>Yes</td>\n",
       "      <td>Electronic check</td>\n",
       "      <td>99.65</td>\n",
       "      <td>1150.96</td>\n",
       "    </tr>\n",
       "    <tr>\n",
       "      <th>1452-KIOVK</th>\n",
       "      <td>2018-04-01</td>\n",
       "      <td>No</td>\n",
       "      <td>Month-to-month</td>\n",
       "      <td>Yes</td>\n",
       "      <td>Credit card (automatic)</td>\n",
       "      <td>89.10</td>\n",
       "      <td>2058.21</td>\n",
       "    </tr>\n",
       "    <tr>\n",
       "      <th>6713-OKOMC</th>\n",
       "      <td>2019-04-01</td>\n",
       "      <td>No</td>\n",
       "      <td>Month-to-month</td>\n",
       "      <td>No</td>\n",
       "      <td>Mailed check</td>\n",
       "      <td>29.75</td>\n",
       "      <td>300.48</td>\n",
       "    </tr>\n",
       "    <tr>\n",
       "      <th>7892-POOKP</th>\n",
       "      <td>2017-07-01</td>\n",
       "      <td>No</td>\n",
       "      <td>Month-to-month</td>\n",
       "      <td>Yes</td>\n",
       "      <td>Electronic check</td>\n",
       "      <td>104.80</td>\n",
       "      <td>3573.68</td>\n",
       "    </tr>\n",
       "    <tr>\n",
       "      <th>6388-TABGU</th>\n",
       "      <td>2014-12-01</td>\n",
       "      <td>2017-05-01</td>\n",
       "      <td>One year</td>\n",
       "      <td>No</td>\n",
       "      <td>Bank transfer (automatic)</td>\n",
       "      <td>56.15</td>\n",
       "      <td>1628.35</td>\n",
       "    </tr>\n",
       "    <tr>\n",
       "      <th>9763-GRSKD</th>\n",
       "      <td>2019-01-01</td>\n",
       "      <td>No</td>\n",
       "      <td>Month-to-month</td>\n",
       "      <td>Yes</td>\n",
       "      <td>Mailed check</td>\n",
       "      <td>49.95</td>\n",
       "      <td>649.35</td>\n",
       "    </tr>\n",
       "    <tr>\n",
       "      <th>7469-LKBCI</th>\n",
       "      <td>2018-10-01</td>\n",
       "      <td>No</td>\n",
       "      <td>Two year</td>\n",
       "      <td>No</td>\n",
       "      <td>Credit card (automatic)</td>\n",
       "      <td>18.95</td>\n",
       "      <td>312.3</td>\n",
       "    </tr>\n",
       "    <tr>\n",
       "      <th>8091-TTVAX</th>\n",
       "      <td>2015-04-01</td>\n",
       "      <td>No</td>\n",
       "      <td>One year</td>\n",
       "      <td>No</td>\n",
       "      <td>Credit card (automatic)</td>\n",
       "      <td>100.35</td>\n",
       "      <td>6111.31</td>\n",
       "    </tr>\n",
       "    <tr>\n",
       "      <th>0280-XJGEX</th>\n",
       "      <td>2015-09-01</td>\n",
       "      <td>No</td>\n",
       "      <td>Month-to-month</td>\n",
       "      <td>Yes</td>\n",
       "      <td>Bank transfer (automatic)</td>\n",
       "      <td>103.70</td>\n",
       "      <td>5496.1</td>\n",
       "    </tr>\n",
       "    <tr>\n",
       "      <th>5129-JLPIS</th>\n",
       "      <td>2018-01-01</td>\n",
       "      <td>No</td>\n",
       "      <td>Month-to-month</td>\n",
       "      <td>Yes</td>\n",
       "      <td>Electronic check</td>\n",
       "      <td>105.50</td>\n",
       "      <td>2637.5</td>\n",
       "    </tr>\n",
       "    <tr>\n",
       "      <th>3655-SNQYZ</th>\n",
       "      <td>2014-05-01</td>\n",
       "      <td>2016-03-01</td>\n",
       "      <td>Two year</td>\n",
       "      <td>No</td>\n",
       "      <td>Credit card (automatic)</td>\n",
       "      <td>113.25</td>\n",
       "      <td>2491.5</td>\n",
       "    </tr>\n",
       "    <tr>\n",
       "      <th>8191-XWSZG</th>\n",
       "      <td>2015-10-01</td>\n",
       "      <td>No</td>\n",
       "      <td>One year</td>\n",
       "      <td>No</td>\n",
       "      <td>Mailed check</td>\n",
       "      <td>20.65</td>\n",
       "      <td>1106.01</td>\n",
       "    </tr>\n",
       "    <tr>\n",
       "      <th>9959-WOFKT</th>\n",
       "      <td>2014-03-01</td>\n",
       "      <td>No</td>\n",
       "      <td>Two year</td>\n",
       "      <td>No</td>\n",
       "      <td>Bank transfer (automatic)</td>\n",
       "      <td>106.70</td>\n",
       "      <td>8257.51</td>\n",
       "    </tr>\n",
       "    <tr>\n",
       "      <th>4190-MFLUW</th>\n",
       "      <td>2019-01-01</td>\n",
       "      <td>No</td>\n",
       "      <td>Month-to-month</td>\n",
       "      <td>No</td>\n",
       "      <td>Credit card (automatic)</td>\n",
       "      <td>55.20</td>\n",
       "      <td>789.36</td>\n",
       "    </tr>\n",
       "    <tr>\n",
       "      <th>4183-MYFRB</th>\n",
       "      <td>2018-05-01</td>\n",
       "      <td>No</td>\n",
       "      <td>Month-to-month</td>\n",
       "      <td>Yes</td>\n",
       "      <td>Electronic check</td>\n",
       "      <td>90.05</td>\n",
       "      <td>1891.05</td>\n",
       "    </tr>\n",
       "  </tbody>\n",
       "</table>\n",
       "</div>"
      ],
      "text/plain": [
       "             BeginDate     EndDate            Type PaperlessBilling  \\\n",
       "customerID                                                            \n",
       "7590-VHVEG  2020-01-01          No  Month-to-month              Yes   \n",
       "5575-GNVDE  2017-04-01          No        One year               No   \n",
       "3668-QPYBK  2019-10-01          No  Month-to-month              Yes   \n",
       "7795-CFOCW  2016-05-01          No        One year               No   \n",
       "9237-HQITU  2019-09-01          No  Month-to-month              Yes   \n",
       "9305-CDSKC  2019-03-01          No  Month-to-month              Yes   \n",
       "1452-KIOVK  2018-04-01          No  Month-to-month              Yes   \n",
       "6713-OKOMC  2019-04-01          No  Month-to-month               No   \n",
       "7892-POOKP  2017-07-01          No  Month-to-month              Yes   \n",
       "6388-TABGU  2014-12-01  2017-05-01        One year               No   \n",
       "9763-GRSKD  2019-01-01          No  Month-to-month              Yes   \n",
       "7469-LKBCI  2018-10-01          No        Two year               No   \n",
       "8091-TTVAX  2015-04-01          No        One year               No   \n",
       "0280-XJGEX  2015-09-01          No  Month-to-month              Yes   \n",
       "5129-JLPIS  2018-01-01          No  Month-to-month              Yes   \n",
       "3655-SNQYZ  2014-05-01  2016-03-01        Two year               No   \n",
       "8191-XWSZG  2015-10-01          No        One year               No   \n",
       "9959-WOFKT  2014-03-01          No        Two year               No   \n",
       "4190-MFLUW  2019-01-01          No  Month-to-month               No   \n",
       "4183-MYFRB  2018-05-01          No  Month-to-month              Yes   \n",
       "\n",
       "                        PaymentMethod  MonthlyCharges TotalCharges  \n",
       "customerID                                                          \n",
       "7590-VHVEG           Electronic check           29.85        31.04  \n",
       "5575-GNVDE               Mailed check           56.95      2071.84  \n",
       "3668-QPYBK               Mailed check           53.85       226.17  \n",
       "7795-CFOCW  Bank transfer (automatic)           42.30       1960.6  \n",
       "9237-HQITU           Electronic check           70.70        353.5  \n",
       "9305-CDSKC           Electronic check           99.65      1150.96  \n",
       "1452-KIOVK    Credit card (automatic)           89.10      2058.21  \n",
       "6713-OKOMC               Mailed check           29.75       300.48  \n",
       "7892-POOKP           Electronic check          104.80      3573.68  \n",
       "6388-TABGU  Bank transfer (automatic)           56.15      1628.35  \n",
       "9763-GRSKD               Mailed check           49.95       649.35  \n",
       "7469-LKBCI    Credit card (automatic)           18.95        312.3  \n",
       "8091-TTVAX    Credit card (automatic)          100.35      6111.31  \n",
       "0280-XJGEX  Bank transfer (automatic)          103.70       5496.1  \n",
       "5129-JLPIS           Electronic check          105.50       2637.5  \n",
       "3655-SNQYZ    Credit card (automatic)          113.25       2491.5  \n",
       "8191-XWSZG               Mailed check           20.65      1106.01  \n",
       "9959-WOFKT  Bank transfer (automatic)          106.70      8257.51  \n",
       "4190-MFLUW    Credit card (automatic)           55.20       789.36  \n",
       "4183-MYFRB           Electronic check           90.05      1891.05  "
      ]
     },
     "execution_count": 4,
     "metadata": {},
     "output_type": "execute_result"
    }
   ],
   "source": [
    "data_contract.info()\n",
    "data_contract.head(20)"
   ]
  },
  {
   "cell_type": "markdown",
   "metadata": {},
   "source": [
    "Отметим следующее:\n",
    "- Столбец TotalCharges имеет тип object, если в нём нет пропусков, то его нужно привести к числовому типу\n",
    "- Столбец BeginDate нужно привести к типу datetime\n",
    "- Столбец EndDate привести к типу datetime не получится - в нём указана либо дата окончания договора, либо 'No', если клиент не ушёл. Этот же столбец скорее всего будет являться нашим целевым признаком\n",
    "\n",
    "Посмотрим на значения в TotalCharges"
   ]
  },
  {
   "cell_type": "code",
   "execution_count": 5,
   "metadata": {},
   "outputs": [
    {
     "data": {
      "text/plain": [
       "           11\n",
       "20.45       6\n",
       "101.0       5\n",
       "19.65       4\n",
       "732.6       4\n",
       "           ..\n",
       "6461.86     1\n",
       "891.75      1\n",
       "803.76      1\n",
       "2782.55     1\n",
       "3352.2      1\n",
       "Name: TotalCharges, Length: 6658, dtype: int64"
      ]
     },
     "execution_count": 5,
     "metadata": {},
     "output_type": "execute_result"
    }
   ],
   "source": [
    "data_contract['TotalCharges'].value_counts()"
   ]
  },
  {
   "cell_type": "markdown",
   "metadata": {},
   "source": [
    "Одиннадцать пробелов, нужно узнать, что за ними скрывается"
   ]
  },
  {
   "cell_type": "code",
   "execution_count": 6,
   "metadata": {
    "scrolled": false
   },
   "outputs": [
    {
     "data": {
      "text/html": [
       "<div>\n",
       "<style scoped>\n",
       "    .dataframe tbody tr th:only-of-type {\n",
       "        vertical-align: middle;\n",
       "    }\n",
       "\n",
       "    .dataframe tbody tr th {\n",
       "        vertical-align: top;\n",
       "    }\n",
       "\n",
       "    .dataframe thead th {\n",
       "        text-align: right;\n",
       "    }\n",
       "</style>\n",
       "<table border=\"1\" class=\"dataframe\">\n",
       "  <thead>\n",
       "    <tr style=\"text-align: right;\">\n",
       "      <th></th>\n",
       "      <th>BeginDate</th>\n",
       "      <th>EndDate</th>\n",
       "      <th>Type</th>\n",
       "      <th>PaperlessBilling</th>\n",
       "      <th>PaymentMethod</th>\n",
       "      <th>MonthlyCharges</th>\n",
       "      <th>TotalCharges</th>\n",
       "    </tr>\n",
       "    <tr>\n",
       "      <th>customerID</th>\n",
       "      <th></th>\n",
       "      <th></th>\n",
       "      <th></th>\n",
       "      <th></th>\n",
       "      <th></th>\n",
       "      <th></th>\n",
       "      <th></th>\n",
       "    </tr>\n",
       "  </thead>\n",
       "  <tbody>\n",
       "    <tr>\n",
       "      <th>4472-LVYGI</th>\n",
       "      <td>2020-02-01</td>\n",
       "      <td>No</td>\n",
       "      <td>Two year</td>\n",
       "      <td>Yes</td>\n",
       "      <td>Bank transfer (automatic)</td>\n",
       "      <td>52.55</td>\n",
       "      <td></td>\n",
       "    </tr>\n",
       "    <tr>\n",
       "      <th>3115-CZMZD</th>\n",
       "      <td>2020-02-01</td>\n",
       "      <td>No</td>\n",
       "      <td>Two year</td>\n",
       "      <td>No</td>\n",
       "      <td>Mailed check</td>\n",
       "      <td>20.25</td>\n",
       "      <td></td>\n",
       "    </tr>\n",
       "    <tr>\n",
       "      <th>5709-LVOEQ</th>\n",
       "      <td>2020-02-01</td>\n",
       "      <td>No</td>\n",
       "      <td>Two year</td>\n",
       "      <td>No</td>\n",
       "      <td>Mailed check</td>\n",
       "      <td>80.85</td>\n",
       "      <td></td>\n",
       "    </tr>\n",
       "    <tr>\n",
       "      <th>4367-NUYAO</th>\n",
       "      <td>2020-02-01</td>\n",
       "      <td>No</td>\n",
       "      <td>Two year</td>\n",
       "      <td>No</td>\n",
       "      <td>Mailed check</td>\n",
       "      <td>25.75</td>\n",
       "      <td></td>\n",
       "    </tr>\n",
       "    <tr>\n",
       "      <th>1371-DWPAZ</th>\n",
       "      <td>2020-02-01</td>\n",
       "      <td>No</td>\n",
       "      <td>Two year</td>\n",
       "      <td>No</td>\n",
       "      <td>Credit card (automatic)</td>\n",
       "      <td>56.05</td>\n",
       "      <td></td>\n",
       "    </tr>\n",
       "    <tr>\n",
       "      <th>7644-OMVMY</th>\n",
       "      <td>2020-02-01</td>\n",
       "      <td>No</td>\n",
       "      <td>Two year</td>\n",
       "      <td>No</td>\n",
       "      <td>Mailed check</td>\n",
       "      <td>19.85</td>\n",
       "      <td></td>\n",
       "    </tr>\n",
       "    <tr>\n",
       "      <th>3213-VVOLG</th>\n",
       "      <td>2020-02-01</td>\n",
       "      <td>No</td>\n",
       "      <td>Two year</td>\n",
       "      <td>No</td>\n",
       "      <td>Mailed check</td>\n",
       "      <td>25.35</td>\n",
       "      <td></td>\n",
       "    </tr>\n",
       "    <tr>\n",
       "      <th>2520-SGTTA</th>\n",
       "      <td>2020-02-01</td>\n",
       "      <td>No</td>\n",
       "      <td>Two year</td>\n",
       "      <td>No</td>\n",
       "      <td>Mailed check</td>\n",
       "      <td>20.00</td>\n",
       "      <td></td>\n",
       "    </tr>\n",
       "    <tr>\n",
       "      <th>2923-ARZLG</th>\n",
       "      <td>2020-02-01</td>\n",
       "      <td>No</td>\n",
       "      <td>One year</td>\n",
       "      <td>Yes</td>\n",
       "      <td>Mailed check</td>\n",
       "      <td>19.70</td>\n",
       "      <td></td>\n",
       "    </tr>\n",
       "    <tr>\n",
       "      <th>4075-WKNIU</th>\n",
       "      <td>2020-02-01</td>\n",
       "      <td>No</td>\n",
       "      <td>Two year</td>\n",
       "      <td>No</td>\n",
       "      <td>Mailed check</td>\n",
       "      <td>73.35</td>\n",
       "      <td></td>\n",
       "    </tr>\n",
       "    <tr>\n",
       "      <th>2775-SEFEE</th>\n",
       "      <td>2020-02-01</td>\n",
       "      <td>No</td>\n",
       "      <td>Two year</td>\n",
       "      <td>Yes</td>\n",
       "      <td>Bank transfer (automatic)</td>\n",
       "      <td>61.90</td>\n",
       "      <td></td>\n",
       "    </tr>\n",
       "  </tbody>\n",
       "</table>\n",
       "</div>"
      ],
      "text/plain": [
       "             BeginDate EndDate      Type PaperlessBilling  \\\n",
       "customerID                                                  \n",
       "4472-LVYGI  2020-02-01      No  Two year              Yes   \n",
       "3115-CZMZD  2020-02-01      No  Two year               No   \n",
       "5709-LVOEQ  2020-02-01      No  Two year               No   \n",
       "4367-NUYAO  2020-02-01      No  Two year               No   \n",
       "1371-DWPAZ  2020-02-01      No  Two year               No   \n",
       "7644-OMVMY  2020-02-01      No  Two year               No   \n",
       "3213-VVOLG  2020-02-01      No  Two year               No   \n",
       "2520-SGTTA  2020-02-01      No  Two year               No   \n",
       "2923-ARZLG  2020-02-01      No  One year              Yes   \n",
       "4075-WKNIU  2020-02-01      No  Two year               No   \n",
       "2775-SEFEE  2020-02-01      No  Two year              Yes   \n",
       "\n",
       "                        PaymentMethod  MonthlyCharges TotalCharges  \n",
       "customerID                                                          \n",
       "4472-LVYGI  Bank transfer (automatic)           52.55               \n",
       "3115-CZMZD               Mailed check           20.25               \n",
       "5709-LVOEQ               Mailed check           80.85               \n",
       "4367-NUYAO               Mailed check           25.75               \n",
       "1371-DWPAZ    Credit card (automatic)           56.05               \n",
       "7644-OMVMY               Mailed check           19.85               \n",
       "3213-VVOLG               Mailed check           25.35               \n",
       "2520-SGTTA               Mailed check           20.00               \n",
       "2923-ARZLG               Mailed check           19.70               \n",
       "4075-WKNIU               Mailed check           73.35               \n",
       "2775-SEFEE  Bank transfer (automatic)           61.90               "
      ]
     },
     "execution_count": 6,
     "metadata": {},
     "output_type": "execute_result"
    }
   ],
   "source": [
    "data_contract.query('TotalCharges == \" \"')"
   ]
  },
  {
   "cell_type": "markdown",
   "metadata": {},
   "source": [
    "Это новые клиенты, которые только заключили контракты с компанией и ещё не успели принести ей прибыль. Запишем в TotalCharges значение из MonthlyCharges а затем приведём столбцы TotalCharges и BeginDate к нужному типу"
   ]
  },
  {
   "cell_type": "code",
   "execution_count": 7,
   "metadata": {},
   "outputs": [],
   "source": [
    "data_contract.loc[data_contract.query('TotalCharges == \" \"').index, 'TotalCharges'] = \\\n",
    "data_contract.query('TotalCharges == \" \"')['MonthlyCharges']\n",
    "\n",
    "data_contract['TotalCharges'] = data_contract['TotalCharges'].astype('float')\n",
    "data_contract['BeginDate'] = pd.to_datetime(data_contract['BeginDate'], format='%Y-%m')"
   ]
  },
  {
   "cell_type": "markdown",
   "metadata": {},
   "source": [
    "Теперь, когда эти проблемы решены, мы можем посмотреть на распределения\n",
    "\n",
    "Сначала посмотрим на пришедших и ушедших клиентов"
   ]
  },
  {
   "cell_type": "code",
   "execution_count": 8,
   "metadata": {},
   "outputs": [
    {
     "data": {
      "image/png": "[encoded data removed]",
      "text/plain": [
       "<Figure size 648x432 with 1 Axes>"
      ]
     },
     "metadata": {
      "needs_background": "light"
     },
     "output_type": "display_data"
    },
    {
     "data": {
      "image/png": "[encoded data removed]",
      "text/plain": [
       "<Figure size 648x432 with 1 Axes>"
      ]
     },
     "metadata": {
      "needs_background": "light"
     },
     "output_type": "display_data"
    }
   ],
   "source": [
    "plt.figure(figsize=(9, 6))\n",
    "sns.histplot(data_contract['BeginDate'], bins=77, color='green', kde=True);\n",
    "plt.title('График пришедших клиентов')\n",
    "plt.xlabel('Год')\n",
    "plt.ylabel('Количество клиентов')\n",
    "plt.show()\n",
    "\n",
    "plt.figure(figsize=(9, 6))\n",
    "sns.histplot(pd.to_datetime(data_contract.query('EndDate != \"No\"')['EndDate'], format='%Y-%m'), bins=66, color='red', kde=True);\n",
    "plt.title('График ушедших клиентов')\n",
    "plt.xlabel('Год')\n",
    "plt.ylabel('Количество клиентов')\n",
    "plt.show()"
   ]
  },
  {
   "cell_type": "markdown",
   "metadata": {},
   "source": [
    "- в последнее время компания привлекает большое количество новых клиентов - хороший знак, постараемся помочь удержать их\n",
    "- к сожалению уходит тоже всё больше - наша модель должна помочь как раз с этой проблемой\n",
    "\n",
    "Далее посмотрим на прибыль от клиентов"
   ]
  },
  {
   "cell_type": "code",
   "execution_count": 9,
   "metadata": {},
   "outputs": [
    {
     "data": {
      "image/png": "[encoded data removed]",
      "text/plain": [
       "<Figure size 648x432 with 1 Axes>"
      ]
     },
     "metadata": {
      "needs_background": "light"
     },
     "output_type": "display_data"
    },
    {
     "data": {
      "image/png": "[encoded data removed]",
      "text/plain": [
       "<Figure size 648x432 with 1 Axes>"
      ]
     },
     "metadata": {
      "needs_background": "light"
     },
     "output_type": "display_data"
    }
   ],
   "source": [
    "plt.figure(figsize=(9, 6))\n",
    "sns.histplot(data_contract['MonthlyCharges'], bins=100, color='green');\n",
    "plt.title('График прибыли от одного клиента за месяц')\n",
    "plt.xlabel('Прибыль за месяц')\n",
    "plt.ylabel('Количество клиентов')\n",
    "plt.show()\n",
    "\n",
    "plt.figure(figsize=(9, 6))\n",
    "sns.histplot(data_contract['TotalCharges'], bins=100, color='green');\n",
    "plt.title('График прибыли от одного клиента за весь период договора')\n",
    "plt.xlabel('Общая прибыль')\n",
    "plt.ylabel('Количество клиентов')\n",
    "plt.show()"
   ]
  },
  {
   "cell_type": "markdown",
   "metadata": {},
   "source": [
    "- на графике MonthlyCharges по значениям условно можем выделить три группы - от 20 до 40 (скорее всего те кто платят только за телефон и услугу параллельных звонков), от 40 до 70 (только интернет или интернет с телефоном без доп. услуг) и от 70 до максимума в 120 (клиенты с большим пакетом услуг)\n",
    "- общая прибыль от клиента - накопительный признак, имеет нормальное для такого типа данных распределение\n",
    "\n",
    "Теперь посмотрим на то, какие именно контракты компания заключает с клиентами"
   ]
  },
  {
   "cell_type": "code",
   "execution_count": 10,
   "metadata": {
    "scrolled": false
   },
   "outputs": [
    {
     "data": {
      "image/png": "[encoded data removed]",
      "text/plain": [
       "<Figure size 720x720 with 3 Axes>"
      ]
     },
     "metadata": {
      "needs_background": "light"
     },
     "output_type": "display_data"
    }
   ],
   "source": [
    "fig, axs = plt.subplot_mosaic([[0, 1], [2, 2]], figsize=(10, 10))\n",
    "fig.suptitle('Данные о контрактах', fontsize=20)\n",
    "\n",
    "sns.countplot(x=data_contract['Type'], ax=axs[0], palette='pastel').set_xticklabels(['Месячный', 'Годовой', 'Двухгодовой']);\n",
    "axs[0].set_xlabel('Тип договора', fontsize=12)\n",
    "axs[0].set_ylabel('Количество клиентов')\n",
    "\n",
    "\n",
    "sns.countplot(x=data_contract['PaperlessBilling'], ax=axs[1], palette='pastel').set_xticklabels(['Да', 'Нет']);\n",
    "axs[1].set_xlabel('Электронный расчётный лист', fontsize=12)\n",
    "axs[1].set_ylabel('Количество клиентов')\n",
    "\n",
    "sns.countplot(x=data_contract['PaymentMethod'], ax=axs[2],\n",
    "              palette='pastel').set_xticklabels(['Электронный чек',\n",
    "                                                 'Чек по почте',\n",
    "                                                 'Банковский перевод\\n(автоматически)',\n",
    "                                                 'Кредитная карта\\n(автоматически)']);\n",
    "axs[2].set_xlabel('Способ оплаты', fontsize=12)\n",
    "axs[2].set_ylabel('Количество клиентов')\n",
    "\n",
    "plt.show()"
   ]
  },
  {
   "cell_type": "markdown",
   "metadata": {},
   "source": [
    "Пока подписку на месяц оформляют больше, чем на год и два суммарно - это тоже можно использовать для удержания пользователей, например давать скидки при продлении услуг на длительный период. Остальные данные малоинформативны в отрыве от общей картины"
   ]
  },
  {
   "cell_type": "markdown",
   "metadata": {},
   "source": [
    "<div class=\"alert alert-block alert-success\"; style=\"border-left: 6px solid green\">\n",
    "<b>Успех ✔️</b>\n",
    "       \n",
    "Отличная работа с визуализацией!\n",
    "    \n",
    "</div>\n"
   ]
  },
  {
   "cell_type": "markdown",
   "metadata": {},
   "source": [
    "### Персональные данные клиента"
   ]
  },
  {
   "cell_type": "code",
   "execution_count": 11,
   "metadata": {},
   "outputs": [
    {
     "name": "stdout",
     "output_type": "stream",
     "text": [
      "<class 'pandas.core.frame.DataFrame'>\n",
      "Index: 7043 entries, 7590-VHVEG to 3186-AJIEK\n",
      "Data columns (total 4 columns):\n",
      " #   Column         Non-Null Count  Dtype \n",
      "---  ------         --------------  ----- \n",
      " 0   gender         7043 non-null   object\n",
      " 1   SeniorCitizen  7043 non-null   int64 \n",
      " 2   Partner        7043 non-null   object\n",
      " 3   Dependents     7043 non-null   object\n",
      "dtypes: int64(1), object(3)\n",
      "memory usage: 275.1+ KB\n"
     ]
    },
    {
     "data": {
      "text/html": [
       "<div>\n",
       "<style scoped>\n",
       "    .dataframe tbody tr th:only-of-type {\n",
       "        vertical-align: middle;\n",
       "    }\n",
       "\n",
       "    .dataframe tbody tr th {\n",
       "        vertical-align: top;\n",
       "    }\n",
       "\n",
       "    .dataframe thead th {\n",
       "        text-align: right;\n",
       "    }\n",
       "</style>\n",
       "<table border=\"1\" class=\"dataframe\">\n",
       "  <thead>\n",
       "    <tr style=\"text-align: right;\">\n",
       "      <th></th>\n",
       "      <th>gender</th>\n",
       "      <th>SeniorCitizen</th>\n",
       "      <th>Partner</th>\n",
       "      <th>Dependents</th>\n",
       "    </tr>\n",
       "    <tr>\n",
       "      <th>customerID</th>\n",
       "      <th></th>\n",
       "      <th></th>\n",
       "      <th></th>\n",
       "      <th></th>\n",
       "    </tr>\n",
       "  </thead>\n",
       "  <tbody>\n",
       "    <tr>\n",
       "      <th>7590-VHVEG</th>\n",
       "      <td>Female</td>\n",
       "      <td>0</td>\n",
       "      <td>Yes</td>\n",
       "      <td>No</td>\n",
       "    </tr>\n",
       "    <tr>\n",
       "      <th>5575-GNVDE</th>\n",
       "      <td>Male</td>\n",
       "      <td>0</td>\n",
       "      <td>No</td>\n",
       "      <td>No</td>\n",
       "    </tr>\n",
       "    <tr>\n",
       "      <th>3668-QPYBK</th>\n",
       "      <td>Male</td>\n",
       "      <td>0</td>\n",
       "      <td>No</td>\n",
       "      <td>No</td>\n",
       "    </tr>\n",
       "    <tr>\n",
       "      <th>7795-CFOCW</th>\n",
       "      <td>Male</td>\n",
       "      <td>0</td>\n",
       "      <td>No</td>\n",
       "      <td>No</td>\n",
       "    </tr>\n",
       "    <tr>\n",
       "      <th>9237-HQITU</th>\n",
       "      <td>Female</td>\n",
       "      <td>0</td>\n",
       "      <td>No</td>\n",
       "      <td>No</td>\n",
       "    </tr>\n",
       "    <tr>\n",
       "      <th>9305-CDSKC</th>\n",
       "      <td>Female</td>\n",
       "      <td>0</td>\n",
       "      <td>No</td>\n",
       "      <td>No</td>\n",
       "    </tr>\n",
       "    <tr>\n",
       "      <th>1452-KIOVK</th>\n",
       "      <td>Male</td>\n",
       "      <td>0</td>\n",
       "      <td>No</td>\n",
       "      <td>Yes</td>\n",
       "    </tr>\n",
       "    <tr>\n",
       "      <th>6713-OKOMC</th>\n",
       "      <td>Female</td>\n",
       "      <td>0</td>\n",
       "      <td>No</td>\n",
       "      <td>No</td>\n",
       "    </tr>\n",
       "    <tr>\n",
       "      <th>7892-POOKP</th>\n",
       "      <td>Female</td>\n",
       "      <td>0</td>\n",
       "      <td>Yes</td>\n",
       "      <td>No</td>\n",
       "    </tr>\n",
       "    <tr>\n",
       "      <th>6388-TABGU</th>\n",
       "      <td>Male</td>\n",
       "      <td>0</td>\n",
       "      <td>No</td>\n",
       "      <td>Yes</td>\n",
       "    </tr>\n",
       "    <tr>\n",
       "      <th>9763-GRSKD</th>\n",
       "      <td>Male</td>\n",
       "      <td>0</td>\n",
       "      <td>Yes</td>\n",
       "      <td>Yes</td>\n",
       "    </tr>\n",
       "    <tr>\n",
       "      <th>7469-LKBCI</th>\n",
       "      <td>Male</td>\n",
       "      <td>0</td>\n",
       "      <td>No</td>\n",
       "      <td>No</td>\n",
       "    </tr>\n",
       "    <tr>\n",
       "      <th>8091-TTVAX</th>\n",
       "      <td>Male</td>\n",
       "      <td>0</td>\n",
       "      <td>Yes</td>\n",
       "      <td>No</td>\n",
       "    </tr>\n",
       "    <tr>\n",
       "      <th>0280-XJGEX</th>\n",
       "      <td>Male</td>\n",
       "      <td>0</td>\n",
       "      <td>No</td>\n",
       "      <td>No</td>\n",
       "    </tr>\n",
       "    <tr>\n",
       "      <th>5129-JLPIS</th>\n",
       "      <td>Male</td>\n",
       "      <td>0</td>\n",
       "      <td>No</td>\n",
       "      <td>No</td>\n",
       "    </tr>\n",
       "    <tr>\n",
       "      <th>3655-SNQYZ</th>\n",
       "      <td>Female</td>\n",
       "      <td>0</td>\n",
       "      <td>Yes</td>\n",
       "      <td>Yes</td>\n",
       "    </tr>\n",
       "    <tr>\n",
       "      <th>8191-XWSZG</th>\n",
       "      <td>Female</td>\n",
       "      <td>0</td>\n",
       "      <td>No</td>\n",
       "      <td>No</td>\n",
       "    </tr>\n",
       "    <tr>\n",
       "      <th>9959-WOFKT</th>\n",
       "      <td>Male</td>\n",
       "      <td>0</td>\n",
       "      <td>No</td>\n",
       "      <td>Yes</td>\n",
       "    </tr>\n",
       "    <tr>\n",
       "      <th>4190-MFLUW</th>\n",
       "      <td>Female</td>\n",
       "      <td>0</td>\n",
       "      <td>Yes</td>\n",
       "      <td>Yes</td>\n",
       "    </tr>\n",
       "    <tr>\n",
       "      <th>4183-MYFRB</th>\n",
       "      <td>Female</td>\n",
       "      <td>0</td>\n",
       "      <td>No</td>\n",
       "      <td>No</td>\n",
       "    </tr>\n",
       "  </tbody>\n",
       "</table>\n",
       "</div>"
      ],
      "text/plain": [
       "            gender  SeniorCitizen Partner Dependents\n",
       "customerID                                          \n",
       "7590-VHVEG  Female              0     Yes         No\n",
       "5575-GNVDE    Male              0      No         No\n",
       "3668-QPYBK    Male              0      No         No\n",
       "7795-CFOCW    Male              0      No         No\n",
       "9237-HQITU  Female              0      No         No\n",
       "9305-CDSKC  Female              0      No         No\n",
       "1452-KIOVK    Male              0      No        Yes\n",
       "6713-OKOMC  Female              0      No         No\n",
       "7892-POOKP  Female              0     Yes         No\n",
       "6388-TABGU    Male              0      No        Yes\n",
       "9763-GRSKD    Male              0     Yes        Yes\n",
       "7469-LKBCI    Male              0      No         No\n",
       "8091-TTVAX    Male              0     Yes         No\n",
       "0280-XJGEX    Male              0      No         No\n",
       "5129-JLPIS    Male              0      No         No\n",
       "3655-SNQYZ  Female              0     Yes        Yes\n",
       "8191-XWSZG  Female              0      No         No\n",
       "9959-WOFKT    Male              0      No        Yes\n",
       "4190-MFLUW  Female              0     Yes        Yes\n",
       "4183-MYFRB  Female              0      No         No"
      ]
     },
     "execution_count": 11,
     "metadata": {},
     "output_type": "execute_result"
    }
   ],
   "source": [
    "data_personal.info()\n",
    "data_personal.head(20)"
   ]
  },
  {
   "cell_type": "markdown",
   "metadata": {},
   "source": [
    "В этом датафрейме содрежится информация о семейном бэкграунде клиента. Они могут быть полезны, но сделать какие-то выводы по ним будет сложно. Какие-то признаки (например пол) могут оказаться неинформативны для модели, но утверждать это однозначно нельзя. Посмотрим на распределение этих данных"
   ]
  },
  {
   "cell_type": "code",
   "execution_count": 12,
   "metadata": {},
   "outputs": [
    {
     "data": {
      "image/png": "[encoded data removed]",
      "text/plain": [
       "<Figure size 1008x648 with 4 Axes>"
      ]
     },
     "metadata": {
      "needs_background": "light"
     },
     "output_type": "display_data"
    }
   ],
   "source": [
    "fig, axs = plt.subplots(nrows=2, ncols=2, figsize=(14, 9))\n",
    "fig.suptitle('Персональные данные клиентов', fontsize=20)\n",
    "\n",
    "sns.countplot(x=data_personal['gender'], ax=axs[0, 0], palette='pastel').set_xticklabels(['Женский', 'Мужской']);\n",
    "axs[0, 0].set_xlabel('Пол клиента', fontsize=12)\n",
    "axs[0, 0].set_ylabel('Количество клиентов')\n",
    "\n",
    "sns.countplot(x=data_personal['SeniorCitizen'], ax=axs[0, 1], palette='pastel').set_xticklabels(['Нет', 'Да']);\n",
    "axs[0, 1].set_xlabel('Пенсионер клиент или нет', fontsize=12)\n",
    "axs[0, 1].set_ylabel('Количество клиентов')\n",
    "\n",
    "sns.countplot(x=data_personal['Partner'], ax=axs[1, 0], palette='pastel').set_xticklabels(['Да', 'Нет']);\n",
    "axs[1, 0].set_xlabel('Наличие супруга', fontsize=12)\n",
    "axs[1, 0].set_ylabel('Количество клиентов')\n",
    "\n",
    "sns.countplot(x=data_personal['Dependents'], ax=axs[1, 1], palette='pastel').set_xticklabels(['Нет', 'Да']);\n",
    "axs[1, 1].set_xlabel('Наличие детей', fontsize=12)\n",
    "axs[1, 1].set_ylabel('Количество клиентов')\n",
    "\n",
    "plt.show()"
   ]
  },
  {
   "cell_type": "markdown",
   "metadata": {},
   "source": [
    "Ещё одним из способов удержания клиентской базы может быть объединение пользователей в группы-кластеры по общим признакам (например \"пенсионеры\" или \"родители\") и создание предложений для каждой из них - это может помочь и в том случае, если клиент соберётся уходить, и повысит общее довольство сервисом тех клиентов, чьи потребности будут учтены "
   ]
  },
  {
   "cell_type": "markdown",
   "metadata": {},
   "source": [
    "### Данные об интернет-услугах"
   ]
  },
  {
   "cell_type": "code",
   "execution_count": 13,
   "metadata": {},
   "outputs": [
    {
     "name": "stdout",
     "output_type": "stream",
     "text": [
      "<class 'pandas.core.frame.DataFrame'>\n",
      "Index: 5517 entries, 7590-VHVEG to 3186-AJIEK\n",
      "Data columns (total 7 columns):\n",
      " #   Column            Non-Null Count  Dtype \n",
      "---  ------            --------------  ----- \n",
      " 0   InternetService   5517 non-null   object\n",
      " 1   OnlineSecurity    5517 non-null   object\n",
      " 2   OnlineBackup      5517 non-null   object\n",
      " 3   DeviceProtection  5517 non-null   object\n",
      " 4   TechSupport       5517 non-null   object\n",
      " 5   StreamingTV       5517 non-null   object\n",
      " 6   StreamingMovies   5517 non-null   object\n",
      "dtypes: object(7)\n",
      "memory usage: 344.8+ KB\n"
     ]
    },
    {
     "data": {
      "text/html": [
       "<div>\n",
       "<style scoped>\n",
       "    .dataframe tbody tr th:only-of-type {\n",
       "        vertical-align: middle;\n",
       "    }\n",
       "\n",
       "    .dataframe tbody tr th {\n",
       "        vertical-align: top;\n",
       "    }\n",
       "\n",
       "    .dataframe thead th {\n",
       "        text-align: right;\n",
       "    }\n",
       "</style>\n",
       "<table border=\"1\" class=\"dataframe\">\n",
       "  <thead>\n",
       "    <tr style=\"text-align: right;\">\n",
       "      <th></th>\n",
       "      <th>InternetService</th>\n",
       "      <th>OnlineSecurity</th>\n",
       "      <th>OnlineBackup</th>\n",
       "      <th>DeviceProtection</th>\n",
       "      <th>TechSupport</th>\n",
       "      <th>StreamingTV</th>\n",
       "      <th>StreamingMovies</th>\n",
       "    </tr>\n",
       "    <tr>\n",
       "      <th>customerID</th>\n",
       "      <th></th>\n",
       "      <th></th>\n",
       "      <th></th>\n",
       "      <th></th>\n",
       "      <th></th>\n",
       "      <th></th>\n",
       "      <th></th>\n",
       "    </tr>\n",
       "  </thead>\n",
       "  <tbody>\n",
       "    <tr>\n",
       "      <th>7590-VHVEG</th>\n",
       "      <td>DSL</td>\n",
       "      <td>No</td>\n",
       "      <td>Yes</td>\n",
       "      <td>No</td>\n",
       "      <td>No</td>\n",
       "      <td>No</td>\n",
       "      <td>No</td>\n",
       "    </tr>\n",
       "    <tr>\n",
       "      <th>5575-GNVDE</th>\n",
       "      <td>DSL</td>\n",
       "      <td>Yes</td>\n",
       "      <td>No</td>\n",
       "      <td>Yes</td>\n",
       "      <td>No</td>\n",
       "      <td>No</td>\n",
       "      <td>No</td>\n",
       "    </tr>\n",
       "    <tr>\n",
       "      <th>3668-QPYBK</th>\n",
       "      <td>DSL</td>\n",
       "      <td>Yes</td>\n",
       "      <td>Yes</td>\n",
       "      <td>No</td>\n",
       "      <td>No</td>\n",
       "      <td>No</td>\n",
       "      <td>No</td>\n",
       "    </tr>\n",
       "    <tr>\n",
       "      <th>7795-CFOCW</th>\n",
       "      <td>DSL</td>\n",
       "      <td>Yes</td>\n",
       "      <td>No</td>\n",
       "      <td>Yes</td>\n",
       "      <td>Yes</td>\n",
       "      <td>No</td>\n",
       "      <td>No</td>\n",
       "    </tr>\n",
       "    <tr>\n",
       "      <th>9237-HQITU</th>\n",
       "      <td>Fiber optic</td>\n",
       "      <td>No</td>\n",
       "      <td>No</td>\n",
       "      <td>No</td>\n",
       "      <td>No</td>\n",
       "      <td>No</td>\n",
       "      <td>No</td>\n",
       "    </tr>\n",
       "    <tr>\n",
       "      <th>9305-CDSKC</th>\n",
       "      <td>Fiber optic</td>\n",
       "      <td>No</td>\n",
       "      <td>No</td>\n",
       "      <td>Yes</td>\n",
       "      <td>No</td>\n",
       "      <td>Yes</td>\n",
       "      <td>Yes</td>\n",
       "    </tr>\n",
       "    <tr>\n",
       "      <th>1452-KIOVK</th>\n",
       "      <td>Fiber optic</td>\n",
       "      <td>No</td>\n",
       "      <td>Yes</td>\n",
       "      <td>No</td>\n",
       "      <td>No</td>\n",
       "      <td>Yes</td>\n",
       "      <td>No</td>\n",
       "    </tr>\n",
       "    <tr>\n",
       "      <th>6713-OKOMC</th>\n",
       "      <td>DSL</td>\n",
       "      <td>Yes</td>\n",
       "      <td>No</td>\n",
       "      <td>No</td>\n",
       "      <td>No</td>\n",
       "      <td>No</td>\n",
       "      <td>No</td>\n",
       "    </tr>\n",
       "    <tr>\n",
       "      <th>7892-POOKP</th>\n",
       "      <td>Fiber optic</td>\n",
       "      <td>No</td>\n",
       "      <td>No</td>\n",
       "      <td>Yes</td>\n",
       "      <td>Yes</td>\n",
       "      <td>Yes</td>\n",
       "      <td>Yes</td>\n",
       "    </tr>\n",
       "    <tr>\n",
       "      <th>6388-TABGU</th>\n",
       "      <td>DSL</td>\n",
       "      <td>Yes</td>\n",
       "      <td>Yes</td>\n",
       "      <td>No</td>\n",
       "      <td>No</td>\n",
       "      <td>No</td>\n",
       "      <td>No</td>\n",
       "    </tr>\n",
       "    <tr>\n",
       "      <th>9763-GRSKD</th>\n",
       "      <td>DSL</td>\n",
       "      <td>Yes</td>\n",
       "      <td>No</td>\n",
       "      <td>No</td>\n",
       "      <td>No</td>\n",
       "      <td>No</td>\n",
       "      <td>No</td>\n",
       "    </tr>\n",
       "    <tr>\n",
       "      <th>8091-TTVAX</th>\n",
       "      <td>Fiber optic</td>\n",
       "      <td>No</td>\n",
       "      <td>No</td>\n",
       "      <td>Yes</td>\n",
       "      <td>No</td>\n",
       "      <td>Yes</td>\n",
       "      <td>Yes</td>\n",
       "    </tr>\n",
       "    <tr>\n",
       "      <th>0280-XJGEX</th>\n",
       "      <td>Fiber optic</td>\n",
       "      <td>No</td>\n",
       "      <td>Yes</td>\n",
       "      <td>Yes</td>\n",
       "      <td>No</td>\n",
       "      <td>Yes</td>\n",
       "      <td>Yes</td>\n",
       "    </tr>\n",
       "    <tr>\n",
       "      <th>5129-JLPIS</th>\n",
       "      <td>Fiber optic</td>\n",
       "      <td>Yes</td>\n",
       "      <td>No</td>\n",
       "      <td>Yes</td>\n",
       "      <td>Yes</td>\n",
       "      <td>Yes</td>\n",
       "      <td>Yes</td>\n",
       "    </tr>\n",
       "    <tr>\n",
       "      <th>3655-SNQYZ</th>\n",
       "      <td>Fiber optic</td>\n",
       "      <td>Yes</td>\n",
       "      <td>Yes</td>\n",
       "      <td>Yes</td>\n",
       "      <td>Yes</td>\n",
       "      <td>Yes</td>\n",
       "      <td>Yes</td>\n",
       "    </tr>\n",
       "    <tr>\n",
       "      <th>9959-WOFKT</th>\n",
       "      <td>Fiber optic</td>\n",
       "      <td>Yes</td>\n",
       "      <td>No</td>\n",
       "      <td>Yes</td>\n",
       "      <td>No</td>\n",
       "      <td>Yes</td>\n",
       "      <td>Yes</td>\n",
       "    </tr>\n",
       "    <tr>\n",
       "      <th>4190-MFLUW</th>\n",
       "      <td>DSL</td>\n",
       "      <td>No</td>\n",
       "      <td>No</td>\n",
       "      <td>Yes</td>\n",
       "      <td>Yes</td>\n",
       "      <td>No</td>\n",
       "      <td>No</td>\n",
       "    </tr>\n",
       "    <tr>\n",
       "      <th>4183-MYFRB</th>\n",
       "      <td>Fiber optic</td>\n",
       "      <td>No</td>\n",
       "      <td>Yes</td>\n",
       "      <td>Yes</td>\n",
       "      <td>No</td>\n",
       "      <td>No</td>\n",
       "      <td>Yes</td>\n",
       "    </tr>\n",
       "    <tr>\n",
       "      <th>8779-QRDMV</th>\n",
       "      <td>DSL</td>\n",
       "      <td>No</td>\n",
       "      <td>No</td>\n",
       "      <td>Yes</td>\n",
       "      <td>No</td>\n",
       "      <td>No</td>\n",
       "      <td>Yes</td>\n",
       "    </tr>\n",
       "    <tr>\n",
       "      <th>3638-WEABW</th>\n",
       "      <td>DSL</td>\n",
       "      <td>No</td>\n",
       "      <td>Yes</td>\n",
       "      <td>No</td>\n",
       "      <td>Yes</td>\n",
       "      <td>No</td>\n",
       "      <td>No</td>\n",
       "    </tr>\n",
       "  </tbody>\n",
       "</table>\n",
       "</div>"
      ],
      "text/plain": [
       "           InternetService OnlineSecurity OnlineBackup DeviceProtection  \\\n",
       "customerID                                                                \n",
       "7590-VHVEG             DSL             No          Yes               No   \n",
       "5575-GNVDE             DSL            Yes           No              Yes   \n",
       "3668-QPYBK             DSL            Yes          Yes               No   \n",
       "7795-CFOCW             DSL            Yes           No              Yes   \n",
       "9237-HQITU     Fiber optic             No           No               No   \n",
       "9305-CDSKC     Fiber optic             No           No              Yes   \n",
       "1452-KIOVK     Fiber optic             No          Yes               No   \n",
       "6713-OKOMC             DSL            Yes           No               No   \n",
       "7892-POOKP     Fiber optic             No           No              Yes   \n",
       "6388-TABGU             DSL            Yes          Yes               No   \n",
       "9763-GRSKD             DSL            Yes           No               No   \n",
       "8091-TTVAX     Fiber optic             No           No              Yes   \n",
       "0280-XJGEX     Fiber optic             No          Yes              Yes   \n",
       "5129-JLPIS     Fiber optic            Yes           No              Yes   \n",
       "3655-SNQYZ     Fiber optic            Yes          Yes              Yes   \n",
       "9959-WOFKT     Fiber optic            Yes           No              Yes   \n",
       "4190-MFLUW             DSL             No           No              Yes   \n",
       "4183-MYFRB     Fiber optic             No          Yes              Yes   \n",
       "8779-QRDMV             DSL             No           No              Yes   \n",
       "3638-WEABW             DSL             No          Yes               No   \n",
       "\n",
       "           TechSupport StreamingTV StreamingMovies  \n",
       "customerID                                          \n",
       "7590-VHVEG          No          No              No  \n",
       "5575-GNVDE          No          No              No  \n",
       "3668-QPYBK          No          No              No  \n",
       "7795-CFOCW         Yes          No              No  \n",
       "9237-HQITU          No          No              No  \n",
       "9305-CDSKC          No         Yes             Yes  \n",
       "1452-KIOVK          No         Yes              No  \n",
       "6713-OKOMC          No          No              No  \n",
       "7892-POOKP         Yes         Yes             Yes  \n",
       "6388-TABGU          No          No              No  \n",
       "9763-GRSKD          No          No              No  \n",
       "8091-TTVAX          No         Yes             Yes  \n",
       "0280-XJGEX          No         Yes             Yes  \n",
       "5129-JLPIS         Yes         Yes             Yes  \n",
       "3655-SNQYZ         Yes         Yes             Yes  \n",
       "9959-WOFKT          No         Yes             Yes  \n",
       "4190-MFLUW         Yes          No              No  \n",
       "4183-MYFRB          No          No             Yes  \n",
       "8779-QRDMV          No          No             Yes  \n",
       "3638-WEABW         Yes          No              No  "
      ]
     },
     "execution_count": 13,
     "metadata": {},
     "output_type": "execute_result"
    }
   ],
   "source": [
    "data_internet.info()\n",
    "data_internet.head(20)"
   ]
  },
  {
   "cell_type": "markdown",
   "metadata": {},
   "source": [
    "В этой таблице значений меньше, чем в предыдущих - если ID пользователя в ней нет, то услуга интернет-доступа ему не предоставляется, и при объединении с предыдущими датафреймами в объектах таких пользователей образуются пропуски. Удалять их нельзя - во-первых, выборка у нас и так небольшая, а во-вторых модель должна справляться даже с такимии пользователями. Неплохой идеей будет заполнить эти пропуски значением 'No' - если ввести 3 категорию, то она нам будет говорить тоже самое, что и 'No', а для модели это будет уже другая категория, что приведет к смещению\n",
    "    \n",
    "Посмотрим на основной признак - тип интернет подключения"
   ]
  },
  {
   "cell_type": "code",
   "execution_count": 14,
   "metadata": {},
   "outputs": [
    {
     "data": {
      "image/png": "[encoded data removed]",
      "text/plain": [
       "<Figure size 432x288 with 1 Axes>"
      ]
     },
     "metadata": {
      "needs_background": "light"
     },
     "output_type": "display_data"
    }
   ],
   "source": [
    "plt.figure(figsize=(6, 4))\n",
    "sns.countplot(x=data_internet['InternetService'], palette='pastel').set_xticklabels(['DSL', 'Оптоволокно']);\n",
    "plt.title('Тип инетрнет подключения')\n",
    "plt.xlabel('')\n",
    "plt.ylabel('Количество клиентов')\n",
    "plt.show()"
   ]
  },
  {
   "cell_type": "markdown",
   "metadata": {},
   "source": [
    "Похоже, оптоволокно начинает вытеснять с рынка DSL. Но помимо одного только интернета пользователям доступны и дополнительные услуги"
   ]
  },
  {
   "cell_type": "code",
   "execution_count": 15,
   "metadata": {
    "scrolled": false
   },
   "outputs": [
    {
     "data": {
      "image/png": "[encoded data removed]",
      "text/plain": [
       "<Figure size 1152x648 with 6 Axes>"
      ]
     },
     "metadata": {
      "needs_background": "light"
     },
     "output_type": "display_data"
    }
   ],
   "source": [
    "fig, axs = plt.subplots(nrows=2, ncols=3, figsize=(16, 9))\n",
    "fig.suptitle('Дополнительные услуги', fontsize=20)\n",
    "\n",
    "sns.countplot(x=data_internet['OnlineSecurity'], ax=axs[0, 0], palette='pastel').set_xticklabels(['Нет', 'Да']);\n",
    "axs[0, 0].set_xlabel('Блокировка небезопасных сайтов', fontsize=12)\n",
    "axs[0, 0].set_ylabel('Количество клиентов')\n",
    "\n",
    "sns.countplot(x=data_internet['OnlineBackup'], ax=axs[0, 1], palette='pastel').set_xticklabels(['Да', 'Нет']);\n",
    "axs[0, 1].set_xlabel('Облачное хранилище', fontsize=12)\n",
    "axs[0, 1].set_ylabel('Количество клиентов')\n",
    "\n",
    "sns.countplot(x=data_internet['DeviceProtection'], ax=axs[0, 2], palette='pastel').set_xticklabels(['Нет', 'Да']);\n",
    "axs[0, 2].set_xlabel('Антивирус', fontsize=12)\n",
    "axs[0, 2].set_ylabel('Количество клиентов')\n",
    "\n",
    "sns.countplot(x=data_internet['TechSupport'], ax=axs[1, 0], palette='pastel').set_xticklabels(['Нет', 'Да']);\n",
    "axs[1, 0].set_xlabel('Выделенная линия технической поддержки', fontsize=12)\n",
    "axs[1, 0].set_ylabel('Количество клиентов')\n",
    "\n",
    "sns.countplot(x=data_internet['StreamingTV'], ax=axs[1, 1], palette='pastel').set_xticklabels(['Нет', 'Да']);\n",
    "axs[1, 1].set_xlabel('Стриминговое телевидение', fontsize=12)\n",
    "axs[1, 1].set_ylabel('Количество клиентов')\n",
    "\n",
    "sns.countplot(x=data_internet['StreamingMovies'], ax=axs[1, 2], palette='pastel').set_xticklabels(['Нет', 'Да']);\n",
    "axs[1, 2].set_xlabel('Каталог фильмов', fontsize=12)\n",
    "axs[1, 2].set_ylabel('Количество клиентов')\n",
    "\n",
    "plt.show()"
   ]
  },
  {
   "cell_type": "markdown",
   "metadata": {},
   "source": [
    "Дополнительными услугами пользуется от трети до половины всех клиентов, которые подключили интернет, вероятно, это говорит о их высоком качестве. Их тоже можно использовать в качестве предложения на небольшой срок для клиентов, которые собираются уходить. Это может не только оставить клиента с компанией, но и в последующем увеличить с него прибыль"
   ]
  },
  {
   "cell_type": "markdown",
   "metadata": {},
   "source": [
    "### Данные об услугах телефонии"
   ]
  },
  {
   "cell_type": "code",
   "execution_count": 16,
   "metadata": {},
   "outputs": [
    {
     "name": "stdout",
     "output_type": "stream",
     "text": [
      "<class 'pandas.core.frame.DataFrame'>\n",
      "Index: 6361 entries, 5575-GNVDE to 3186-AJIEK\n",
      "Data columns (total 1 columns):\n",
      " #   Column         Non-Null Count  Dtype \n",
      "---  ------         --------------  ----- \n",
      " 0   MultipleLines  6361 non-null   object\n",
      "dtypes: object(1)\n",
      "memory usage: 99.4+ KB\n"
     ]
    },
    {
     "data": {
      "text/html": [
       "<div>\n",
       "<style scoped>\n",
       "    .dataframe tbody tr th:only-of-type {\n",
       "        vertical-align: middle;\n",
       "    }\n",
       "\n",
       "    .dataframe tbody tr th {\n",
       "        vertical-align: top;\n",
       "    }\n",
       "\n",
       "    .dataframe thead th {\n",
       "        text-align: right;\n",
       "    }\n",
       "</style>\n",
       "<table border=\"1\" class=\"dataframe\">\n",
       "  <thead>\n",
       "    <tr style=\"text-align: right;\">\n",
       "      <th></th>\n",
       "      <th>MultipleLines</th>\n",
       "    </tr>\n",
       "    <tr>\n",
       "      <th>customerID</th>\n",
       "      <th></th>\n",
       "    </tr>\n",
       "  </thead>\n",
       "  <tbody>\n",
       "    <tr>\n",
       "      <th>5575-GNVDE</th>\n",
       "      <td>No</td>\n",
       "    </tr>\n",
       "    <tr>\n",
       "      <th>3668-QPYBK</th>\n",
       "      <td>No</td>\n",
       "    </tr>\n",
       "    <tr>\n",
       "      <th>9237-HQITU</th>\n",
       "      <td>No</td>\n",
       "    </tr>\n",
       "    <tr>\n",
       "      <th>9305-CDSKC</th>\n",
       "      <td>Yes</td>\n",
       "    </tr>\n",
       "    <tr>\n",
       "      <th>1452-KIOVK</th>\n",
       "      <td>Yes</td>\n",
       "    </tr>\n",
       "    <tr>\n",
       "      <th>7892-POOKP</th>\n",
       "      <td>Yes</td>\n",
       "    </tr>\n",
       "    <tr>\n",
       "      <th>6388-TABGU</th>\n",
       "      <td>No</td>\n",
       "    </tr>\n",
       "    <tr>\n",
       "      <th>9763-GRSKD</th>\n",
       "      <td>No</td>\n",
       "    </tr>\n",
       "    <tr>\n",
       "      <th>7469-LKBCI</th>\n",
       "      <td>No</td>\n",
       "    </tr>\n",
       "    <tr>\n",
       "      <th>8091-TTVAX</th>\n",
       "      <td>Yes</td>\n",
       "    </tr>\n",
       "    <tr>\n",
       "      <th>0280-XJGEX</th>\n",
       "      <td>Yes</td>\n",
       "    </tr>\n",
       "    <tr>\n",
       "      <th>5129-JLPIS</th>\n",
       "      <td>No</td>\n",
       "    </tr>\n",
       "    <tr>\n",
       "      <th>3655-SNQYZ</th>\n",
       "      <td>Yes</td>\n",
       "    </tr>\n",
       "    <tr>\n",
       "      <th>8191-XWSZG</th>\n",
       "      <td>No</td>\n",
       "    </tr>\n",
       "    <tr>\n",
       "      <th>9959-WOFKT</th>\n",
       "      <td>Yes</td>\n",
       "    </tr>\n",
       "    <tr>\n",
       "      <th>4190-MFLUW</th>\n",
       "      <td>No</td>\n",
       "    </tr>\n",
       "    <tr>\n",
       "      <th>4183-MYFRB</th>\n",
       "      <td>No</td>\n",
       "    </tr>\n",
       "    <tr>\n",
       "      <th>1680-VDCWW</th>\n",
       "      <td>No</td>\n",
       "    </tr>\n",
       "    <tr>\n",
       "      <th>1066-JKSGK</th>\n",
       "      <td>No</td>\n",
       "    </tr>\n",
       "    <tr>\n",
       "      <th>3638-WEABW</th>\n",
       "      <td>Yes</td>\n",
       "    </tr>\n",
       "  </tbody>\n",
       "</table>\n",
       "</div>"
      ],
      "text/plain": [
       "           MultipleLines\n",
       "customerID              \n",
       "5575-GNVDE            No\n",
       "3668-QPYBK            No\n",
       "9237-HQITU            No\n",
       "9305-CDSKC           Yes\n",
       "1452-KIOVK           Yes\n",
       "7892-POOKP           Yes\n",
       "6388-TABGU            No\n",
       "9763-GRSKD            No\n",
       "7469-LKBCI            No\n",
       "8091-TTVAX           Yes\n",
       "0280-XJGEX           Yes\n",
       "5129-JLPIS            No\n",
       "3655-SNQYZ           Yes\n",
       "8191-XWSZG            No\n",
       "9959-WOFKT           Yes\n",
       "4190-MFLUW            No\n",
       "4183-MYFRB            No\n",
       "1680-VDCWW            No\n",
       "1066-JKSGK            No\n",
       "3638-WEABW           Yes"
      ]
     },
     "execution_count": 16,
     "metadata": {},
     "output_type": "execute_result"
    }
   ],
   "source": [
    "data_phone.info()\n",
    "data_phone.head(20)"
   ]
  },
  {
   "cell_type": "code",
   "execution_count": 17,
   "metadata": {},
   "outputs": [
    {
     "data": {
      "image/png": "[encoded data removed]",
      "text/plain": [
       "<Figure size 432x288 with 1 Axes>"
      ]
     },
     "metadata": {
      "needs_background": "light"
     },
     "output_type": "display_data"
    }
   ],
   "source": [
    "plt.figure(figsize=(6, 4))\n",
    "sns.countplot(x=data_phone['MultipleLines'], palette='pastel').set_xticklabels(['Нет', 'Да']);\n",
    "plt.title('Подключение телефона к нескольким линиям одновременно')\n",
    "plt.xlabel('')\n",
    "plt.ylabel('Количество клиентов')\n",
    "plt.show()"
   ]
  },
  {
   "cell_type": "markdown",
   "metadata": {},
   "source": [
    "В этой таблице тоже указаны не все пользователи, значит при объединении в ней окажется три варианта значений - 'Yes' для тех пользователей, у которых возможно подключение к нескольким линиям связи одновременно, 'No' для тех, у кого подключён только телефон без этой услуги и none если услуги телефонной связи не подключены. Заполнение пропусков значением 'No' опять же будет актуально для такого деления."
   ]
  },
  {
   "cell_type": "markdown",
   "metadata": {},
   "source": [
    "### Объединяем данные"
   ]
  },
  {
   "cell_type": "markdown",
   "metadata": {},
   "source": [
    "Объединяем таблицы в один датафрейм"
   ]
  },
  {
   "cell_type": "code",
   "execution_count": 18,
   "metadata": {
    "scrolled": false
   },
   "outputs": [
    {
     "name": "stdout",
     "output_type": "stream",
     "text": [
      "<class 'pandas.core.frame.DataFrame'>\n",
      "Index: 7043 entries, 7590-VHVEG to 3186-AJIEK\n",
      "Data columns (total 19 columns):\n",
      " #   Column            Non-Null Count  Dtype         \n",
      "---  ------            --------------  -----         \n",
      " 0   BeginDate         7043 non-null   datetime64[ns]\n",
      " 1   EndDate           7043 non-null   object        \n",
      " 2   Type              7043 non-null   object        \n",
      " 3   PaperlessBilling  7043 non-null   object        \n",
      " 4   PaymentMethod     7043 non-null   object        \n",
      " 5   MonthlyCharges    7043 non-null   float64       \n",
      " 6   TotalCharges      7043 non-null   float64       \n",
      " 7   gender            7043 non-null   object        \n",
      " 8   SeniorCitizen     7043 non-null   int64         \n",
      " 9   Partner           7043 non-null   object        \n",
      " 10  Dependents        7043 non-null   object        \n",
      " 11  InternetService   5517 non-null   object        \n",
      " 12  OnlineSecurity    5517 non-null   object        \n",
      " 13  OnlineBackup      5517 non-null   object        \n",
      " 14  DeviceProtection  5517 non-null   object        \n",
      " 15  TechSupport       5517 non-null   object        \n",
      " 16  StreamingTV       5517 non-null   object        \n",
      " 17  StreamingMovies   5517 non-null   object        \n",
      " 18  MultipleLines     6361 non-null   object        \n",
      "dtypes: datetime64[ns](1), float64(2), int64(1), object(15)\n",
      "memory usage: 1.3+ MB\n"
     ]
    },
    {
     "data": {
      "text/html": [
       "<div>\n",
       "<style scoped>\n",
       "    .dataframe tbody tr th:only-of-type {\n",
       "        vertical-align: middle;\n",
       "    }\n",
       "\n",
       "    .dataframe tbody tr th {\n",
       "        vertical-align: top;\n",
       "    }\n",
       "\n",
       "    .dataframe thead th {\n",
       "        text-align: right;\n",
       "    }\n",
       "</style>\n",
       "<table border=\"1\" class=\"dataframe\">\n",
       "  <thead>\n",
       "    <tr style=\"text-align: right;\">\n",
       "      <th></th>\n",
       "      <th>BeginDate</th>\n",
       "      <th>EndDate</th>\n",
       "      <th>Type</th>\n",
       "      <th>PaperlessBilling</th>\n",
       "      <th>PaymentMethod</th>\n",
       "      <th>MonthlyCharges</th>\n",
       "      <th>TotalCharges</th>\n",
       "      <th>gender</th>\n",
       "      <th>SeniorCitizen</th>\n",
       "      <th>Partner</th>\n",
       "      <th>Dependents</th>\n",
       "      <th>InternetService</th>\n",
       "      <th>OnlineSecurity</th>\n",
       "      <th>OnlineBackup</th>\n",
       "      <th>DeviceProtection</th>\n",
       "      <th>TechSupport</th>\n",
       "      <th>StreamingTV</th>\n",
       "      <th>StreamingMovies</th>\n",
       "      <th>MultipleLines</th>\n",
       "    </tr>\n",
       "    <tr>\n",
       "      <th>customerID</th>\n",
       "      <th></th>\n",
       "      <th></th>\n",
       "      <th></th>\n",
       "      <th></th>\n",
       "      <th></th>\n",
       "      <th></th>\n",
       "      <th></th>\n",
       "      <th></th>\n",
       "      <th></th>\n",
       "      <th></th>\n",
       "      <th></th>\n",
       "      <th></th>\n",
       "      <th></th>\n",
       "      <th></th>\n",
       "      <th></th>\n",
       "      <th></th>\n",
       "      <th></th>\n",
       "      <th></th>\n",
       "      <th></th>\n",
       "    </tr>\n",
       "  </thead>\n",
       "  <tbody>\n",
       "    <tr>\n",
       "      <th>7590-VHVEG</th>\n",
       "      <td>2020-01-01</td>\n",
       "      <td>No</td>\n",
       "      <td>Month-to-month</td>\n",
       "      <td>Yes</td>\n",
       "      <td>Electronic check</td>\n",
       "      <td>29.85</td>\n",
       "      <td>31.04</td>\n",
       "      <td>Female</td>\n",
       "      <td>0</td>\n",
       "      <td>Yes</td>\n",
       "      <td>No</td>\n",
       "      <td>DSL</td>\n",
       "      <td>No</td>\n",
       "      <td>Yes</td>\n",
       "      <td>No</td>\n",
       "      <td>No</td>\n",
       "      <td>No</td>\n",
       "      <td>No</td>\n",
       "      <td>NaN</td>\n",
       "    </tr>\n",
       "    <tr>\n",
       "      <th>5575-GNVDE</th>\n",
       "      <td>2017-04-01</td>\n",
       "      <td>No</td>\n",
       "      <td>One year</td>\n",
       "      <td>No</td>\n",
       "      <td>Mailed check</td>\n",
       "      <td>56.95</td>\n",
       "      <td>2071.84</td>\n",
       "      <td>Male</td>\n",
       "      <td>0</td>\n",
       "      <td>No</td>\n",
       "      <td>No</td>\n",
       "      <td>DSL</td>\n",
       "      <td>Yes</td>\n",
       "      <td>No</td>\n",
       "      <td>Yes</td>\n",
       "      <td>No</td>\n",
       "      <td>No</td>\n",
       "      <td>No</td>\n",
       "      <td>No</td>\n",
       "    </tr>\n",
       "    <tr>\n",
       "      <th>3668-QPYBK</th>\n",
       "      <td>2019-10-01</td>\n",
       "      <td>No</td>\n",
       "      <td>Month-to-month</td>\n",
       "      <td>Yes</td>\n",
       "      <td>Mailed check</td>\n",
       "      <td>53.85</td>\n",
       "      <td>226.17</td>\n",
       "      <td>Male</td>\n",
       "      <td>0</td>\n",
       "      <td>No</td>\n",
       "      <td>No</td>\n",
       "      <td>DSL</td>\n",
       "      <td>Yes</td>\n",
       "      <td>Yes</td>\n",
       "      <td>No</td>\n",
       "      <td>No</td>\n",
       "      <td>No</td>\n",
       "      <td>No</td>\n",
       "      <td>No</td>\n",
       "    </tr>\n",
       "    <tr>\n",
       "      <th>7795-CFOCW</th>\n",
       "      <td>2016-05-01</td>\n",
       "      <td>No</td>\n",
       "      <td>One year</td>\n",
       "      <td>No</td>\n",
       "      <td>Bank transfer (automatic)</td>\n",
       "      <td>42.30</td>\n",
       "      <td>1960.60</td>\n",
       "      <td>Male</td>\n",
       "      <td>0</td>\n",
       "      <td>No</td>\n",
       "      <td>No</td>\n",
       "      <td>DSL</td>\n",
       "      <td>Yes</td>\n",
       "      <td>No</td>\n",
       "      <td>Yes</td>\n",
       "      <td>Yes</td>\n",
       "      <td>No</td>\n",
       "      <td>No</td>\n",
       "      <td>NaN</td>\n",
       "    </tr>\n",
       "    <tr>\n",
       "      <th>9237-HQITU</th>\n",
       "      <td>2019-09-01</td>\n",
       "      <td>No</td>\n",
       "      <td>Month-to-month</td>\n",
       "      <td>Yes</td>\n",
       "      <td>Electronic check</td>\n",
       "      <td>70.70</td>\n",
       "      <td>353.50</td>\n",
       "      <td>Female</td>\n",
       "      <td>0</td>\n",
       "      <td>No</td>\n",
       "      <td>No</td>\n",
       "      <td>Fiber optic</td>\n",
       "      <td>No</td>\n",
       "      <td>No</td>\n",
       "      <td>No</td>\n",
       "      <td>No</td>\n",
       "      <td>No</td>\n",
       "      <td>No</td>\n",
       "      <td>No</td>\n",
       "    </tr>\n",
       "    <tr>\n",
       "      <th>9305-CDSKC</th>\n",
       "      <td>2019-03-01</td>\n",
       "      <td>No</td>\n",
       "      <td>Month-to-month</td>\n",
       "      <td>Yes</td>\n",
       "      <td>Electronic check</td>\n",
       "      <td>99.65</td>\n",
       "      <td>1150.96</td>\n",
       "      <td>Female</td>\n",
       "      <td>0</td>\n",
       "      <td>No</td>\n",
       "      <td>No</td>\n",
       "      <td>Fiber optic</td>\n",
       "      <td>No</td>\n",
       "      <td>No</td>\n",
       "      <td>Yes</td>\n",
       "      <td>No</td>\n",
       "      <td>Yes</td>\n",
       "      <td>Yes</td>\n",
       "      <td>Yes</td>\n",
       "    </tr>\n",
       "    <tr>\n",
       "      <th>1452-KIOVK</th>\n",
       "      <td>2018-04-01</td>\n",
       "      <td>No</td>\n",
       "      <td>Month-to-month</td>\n",
       "      <td>Yes</td>\n",
       "      <td>Credit card (automatic)</td>\n",
       "      <td>89.10</td>\n",
       "      <td>2058.21</td>\n",
       "      <td>Male</td>\n",
       "      <td>0</td>\n",
       "      <td>No</td>\n",
       "      <td>Yes</td>\n",
       "      <td>Fiber optic</td>\n",
       "      <td>No</td>\n",
       "      <td>Yes</td>\n",
       "      <td>No</td>\n",
       "      <td>No</td>\n",
       "      <td>Yes</td>\n",
       "      <td>No</td>\n",
       "      <td>Yes</td>\n",
       "    </tr>\n",
       "    <tr>\n",
       "      <th>6713-OKOMC</th>\n",
       "      <td>2019-04-01</td>\n",
       "      <td>No</td>\n",
       "      <td>Month-to-month</td>\n",
       "      <td>No</td>\n",
       "      <td>Mailed check</td>\n",
       "      <td>29.75</td>\n",
       "      <td>300.48</td>\n",
       "      <td>Female</td>\n",
       "      <td>0</td>\n",
       "      <td>No</td>\n",
       "      <td>No</td>\n",
       "      <td>DSL</td>\n",
       "      <td>Yes</td>\n",
       "      <td>No</td>\n",
       "      <td>No</td>\n",
       "      <td>No</td>\n",
       "      <td>No</td>\n",
       "      <td>No</td>\n",
       "      <td>NaN</td>\n",
       "    </tr>\n",
       "    <tr>\n",
       "      <th>7892-POOKP</th>\n",
       "      <td>2017-07-01</td>\n",
       "      <td>No</td>\n",
       "      <td>Month-to-month</td>\n",
       "      <td>Yes</td>\n",
       "      <td>Electronic check</td>\n",
       "      <td>104.80</td>\n",
       "      <td>3573.68</td>\n",
       "      <td>Female</td>\n",
       "      <td>0</td>\n",
       "      <td>Yes</td>\n",
       "      <td>No</td>\n",
       "      <td>Fiber optic</td>\n",
       "      <td>No</td>\n",
       "      <td>No</td>\n",
       "      <td>Yes</td>\n",
       "      <td>Yes</td>\n",
       "      <td>Yes</td>\n",
       "      <td>Yes</td>\n",
       "      <td>Yes</td>\n",
       "    </tr>\n",
       "    <tr>\n",
       "      <th>6388-TABGU</th>\n",
       "      <td>2014-12-01</td>\n",
       "      <td>2017-05-01</td>\n",
       "      <td>One year</td>\n",
       "      <td>No</td>\n",
       "      <td>Bank transfer (automatic)</td>\n",
       "      <td>56.15</td>\n",
       "      <td>1628.35</td>\n",
       "      <td>Male</td>\n",
       "      <td>0</td>\n",
       "      <td>No</td>\n",
       "      <td>Yes</td>\n",
       "      <td>DSL</td>\n",
       "      <td>Yes</td>\n",
       "      <td>Yes</td>\n",
       "      <td>No</td>\n",
       "      <td>No</td>\n",
       "      <td>No</td>\n",
       "      <td>No</td>\n",
       "      <td>No</td>\n",
       "    </tr>\n",
       "    <tr>\n",
       "      <th>9763-GRSKD</th>\n",
       "      <td>2019-01-01</td>\n",
       "      <td>No</td>\n",
       "      <td>Month-to-month</td>\n",
       "      <td>Yes</td>\n",
       "      <td>Mailed check</td>\n",
       "      <td>49.95</td>\n",
       "      <td>649.35</td>\n",
       "      <td>Male</td>\n",
       "      <td>0</td>\n",
       "      <td>Yes</td>\n",
       "      <td>Yes</td>\n",
       "      <td>DSL</td>\n",
       "      <td>Yes</td>\n",
       "      <td>No</td>\n",
       "      <td>No</td>\n",
       "      <td>No</td>\n",
       "      <td>No</td>\n",
       "      <td>No</td>\n",
       "      <td>No</td>\n",
       "    </tr>\n",
       "    <tr>\n",
       "      <th>7469-LKBCI</th>\n",
       "      <td>2018-10-01</td>\n",
       "      <td>No</td>\n",
       "      <td>Two year</td>\n",
       "      <td>No</td>\n",
       "      <td>Credit card (automatic)</td>\n",
       "      <td>18.95</td>\n",
       "      <td>312.30</td>\n",
       "      <td>Male</td>\n",
       "      <td>0</td>\n",
       "      <td>No</td>\n",
       "      <td>No</td>\n",
       "      <td>NaN</td>\n",
       "      <td>NaN</td>\n",
       "      <td>NaN</td>\n",
       "      <td>NaN</td>\n",
       "      <td>NaN</td>\n",
       "      <td>NaN</td>\n",
       "      <td>NaN</td>\n",
       "      <td>No</td>\n",
       "    </tr>\n",
       "    <tr>\n",
       "      <th>8091-TTVAX</th>\n",
       "      <td>2015-04-01</td>\n",
       "      <td>No</td>\n",
       "      <td>One year</td>\n",
       "      <td>No</td>\n",
       "      <td>Credit card (automatic)</td>\n",
       "      <td>100.35</td>\n",
       "      <td>6111.31</td>\n",
       "      <td>Male</td>\n",
       "      <td>0</td>\n",
       "      <td>Yes</td>\n",
       "      <td>No</td>\n",
       "      <td>Fiber optic</td>\n",
       "      <td>No</td>\n",
       "      <td>No</td>\n",
       "      <td>Yes</td>\n",
       "      <td>No</td>\n",
       "      <td>Yes</td>\n",
       "      <td>Yes</td>\n",
       "      <td>Yes</td>\n",
       "    </tr>\n",
       "    <tr>\n",
       "      <th>0280-XJGEX</th>\n",
       "      <td>2015-09-01</td>\n",
       "      <td>No</td>\n",
       "      <td>Month-to-month</td>\n",
       "      <td>Yes</td>\n",
       "      <td>Bank transfer (automatic)</td>\n",
       "      <td>103.70</td>\n",
       "      <td>5496.10</td>\n",
       "      <td>Male</td>\n",
       "      <td>0</td>\n",
       "      <td>No</td>\n",
       "      <td>No</td>\n",
       "      <td>Fiber optic</td>\n",
       "      <td>No</td>\n",
       "      <td>Yes</td>\n",
       "      <td>Yes</td>\n",
       "      <td>No</td>\n",
       "      <td>Yes</td>\n",
       "      <td>Yes</td>\n",
       "      <td>Yes</td>\n",
       "    </tr>\n",
       "    <tr>\n",
       "      <th>5129-JLPIS</th>\n",
       "      <td>2018-01-01</td>\n",
       "      <td>No</td>\n",
       "      <td>Month-to-month</td>\n",
       "      <td>Yes</td>\n",
       "      <td>Electronic check</td>\n",
       "      <td>105.50</td>\n",
       "      <td>2637.50</td>\n",
       "      <td>Male</td>\n",
       "      <td>0</td>\n",
       "      <td>No</td>\n",
       "      <td>No</td>\n",
       "      <td>Fiber optic</td>\n",
       "      <td>Yes</td>\n",
       "      <td>No</td>\n",
       "      <td>Yes</td>\n",
       "      <td>Yes</td>\n",
       "      <td>Yes</td>\n",
       "      <td>Yes</td>\n",
       "      <td>No</td>\n",
       "    </tr>\n",
       "    <tr>\n",
       "      <th>3655-SNQYZ</th>\n",
       "      <td>2014-05-01</td>\n",
       "      <td>2016-03-01</td>\n",
       "      <td>Two year</td>\n",
       "      <td>No</td>\n",
       "      <td>Credit card (automatic)</td>\n",
       "      <td>113.25</td>\n",
       "      <td>2491.50</td>\n",
       "      <td>Female</td>\n",
       "      <td>0</td>\n",
       "      <td>Yes</td>\n",
       "      <td>Yes</td>\n",
       "      <td>Fiber optic</td>\n",
       "      <td>Yes</td>\n",
       "      <td>Yes</td>\n",
       "      <td>Yes</td>\n",
       "      <td>Yes</td>\n",
       "      <td>Yes</td>\n",
       "      <td>Yes</td>\n",
       "      <td>Yes</td>\n",
       "    </tr>\n",
       "    <tr>\n",
       "      <th>8191-XWSZG</th>\n",
       "      <td>2015-10-01</td>\n",
       "      <td>No</td>\n",
       "      <td>One year</td>\n",
       "      <td>No</td>\n",
       "      <td>Mailed check</td>\n",
       "      <td>20.65</td>\n",
       "      <td>1106.01</td>\n",
       "      <td>Female</td>\n",
       "      <td>0</td>\n",
       "      <td>No</td>\n",
       "      <td>No</td>\n",
       "      <td>NaN</td>\n",
       "      <td>NaN</td>\n",
       "      <td>NaN</td>\n",
       "      <td>NaN</td>\n",
       "      <td>NaN</td>\n",
       "      <td>NaN</td>\n",
       "      <td>NaN</td>\n",
       "      <td>No</td>\n",
       "    </tr>\n",
       "    <tr>\n",
       "      <th>9959-WOFKT</th>\n",
       "      <td>2014-03-01</td>\n",
       "      <td>No</td>\n",
       "      <td>Two year</td>\n",
       "      <td>No</td>\n",
       "      <td>Bank transfer (automatic)</td>\n",
       "      <td>106.70</td>\n",
       "      <td>8257.51</td>\n",
       "      <td>Male</td>\n",
       "      <td>0</td>\n",
       "      <td>No</td>\n",
       "      <td>Yes</td>\n",
       "      <td>Fiber optic</td>\n",
       "      <td>Yes</td>\n",
       "      <td>No</td>\n",
       "      <td>Yes</td>\n",
       "      <td>No</td>\n",
       "      <td>Yes</td>\n",
       "      <td>Yes</td>\n",
       "      <td>Yes</td>\n",
       "    </tr>\n",
       "    <tr>\n",
       "      <th>4190-MFLUW</th>\n",
       "      <td>2019-01-01</td>\n",
       "      <td>No</td>\n",
       "      <td>Month-to-month</td>\n",
       "      <td>No</td>\n",
       "      <td>Credit card (automatic)</td>\n",
       "      <td>55.20</td>\n",
       "      <td>789.36</td>\n",
       "      <td>Female</td>\n",
       "      <td>0</td>\n",
       "      <td>Yes</td>\n",
       "      <td>Yes</td>\n",
       "      <td>DSL</td>\n",
       "      <td>No</td>\n",
       "      <td>No</td>\n",
       "      <td>Yes</td>\n",
       "      <td>Yes</td>\n",
       "      <td>No</td>\n",
       "      <td>No</td>\n",
       "      <td>No</td>\n",
       "    </tr>\n",
       "    <tr>\n",
       "      <th>4183-MYFRB</th>\n",
       "      <td>2018-05-01</td>\n",
       "      <td>No</td>\n",
       "      <td>Month-to-month</td>\n",
       "      <td>Yes</td>\n",
       "      <td>Electronic check</td>\n",
       "      <td>90.05</td>\n",
       "      <td>1891.05</td>\n",
       "      <td>Female</td>\n",
       "      <td>0</td>\n",
       "      <td>No</td>\n",
       "      <td>No</td>\n",
       "      <td>Fiber optic</td>\n",
       "      <td>No</td>\n",
       "      <td>Yes</td>\n",
       "      <td>Yes</td>\n",
       "      <td>No</td>\n",
       "      <td>No</td>\n",
       "      <td>Yes</td>\n",
       "      <td>No</td>\n",
       "    </tr>\n",
       "  </tbody>\n",
       "</table>\n",
       "</div>"
      ],
      "text/plain": [
       "            BeginDate     EndDate            Type PaperlessBilling  \\\n",
       "customerID                                                           \n",
       "7590-VHVEG 2020-01-01          No  Month-to-month              Yes   \n",
       "5575-GNVDE 2017-04-01          No        One year               No   \n",
       "3668-QPYBK 2019-10-01          No  Month-to-month              Yes   \n",
       "7795-CFOCW 2016-05-01          No        One year               No   \n",
       "9237-HQITU 2019-09-01          No  Month-to-month              Yes   \n",
       "9305-CDSKC 2019-03-01          No  Month-to-month              Yes   \n",
       "1452-KIOVK 2018-04-01          No  Month-to-month              Yes   \n",
       "6713-OKOMC 2019-04-01          No  Month-to-month               No   \n",
       "7892-POOKP 2017-07-01          No  Month-to-month              Yes   \n",
       "6388-TABGU 2014-12-01  2017-05-01        One year               No   \n",
       "9763-GRSKD 2019-01-01          No  Month-to-month              Yes   \n",
       "7469-LKBCI 2018-10-01          No        Two year               No   \n",
       "8091-TTVAX 2015-04-01          No        One year               No   \n",
       "0280-XJGEX 2015-09-01          No  Month-to-month              Yes   \n",
       "5129-JLPIS 2018-01-01          No  Month-to-month              Yes   \n",
       "3655-SNQYZ 2014-05-01  2016-03-01        Two year               No   \n",
       "8191-XWSZG 2015-10-01          No        One year               No   \n",
       "9959-WOFKT 2014-03-01          No        Two year               No   \n",
       "4190-MFLUW 2019-01-01          No  Month-to-month               No   \n",
       "4183-MYFRB 2018-05-01          No  Month-to-month              Yes   \n",
       "\n",
       "                        PaymentMethod  MonthlyCharges  TotalCharges  gender  \\\n",
       "customerID                                                                    \n",
       "7590-VHVEG           Electronic check           29.85         31.04  Female   \n",
       "5575-GNVDE               Mailed check           56.95       2071.84    Male   \n",
       "3668-QPYBK               Mailed check           53.85        226.17    Male   \n",
       "7795-CFOCW  Bank transfer (automatic)           42.30       1960.60    Male   \n",
       "9237-HQITU           Electronic check           70.70        353.50  Female   \n",
       "9305-CDSKC           Electronic check           99.65       1150.96  Female   \n",
       "1452-KIOVK    Credit card (automatic)           89.10       2058.21    Male   \n",
       "6713-OKOMC               Mailed check           29.75        300.48  Female   \n",
       "7892-POOKP           Electronic check          104.80       3573.68  Female   \n",
       "6388-TABGU  Bank transfer (automatic)           56.15       1628.35    Male   \n",
       "9763-GRSKD               Mailed check           49.95        649.35    Male   \n",
       "7469-LKBCI    Credit card (automatic)           18.95        312.30    Male   \n",
       "8091-TTVAX    Credit card (automatic)          100.35       6111.31    Male   \n",
       "0280-XJGEX  Bank transfer (automatic)          103.70       5496.10    Male   \n",
       "5129-JLPIS           Electronic check          105.50       2637.50    Male   \n",
       "3655-SNQYZ    Credit card (automatic)          113.25       2491.50  Female   \n",
       "8191-XWSZG               Mailed check           20.65       1106.01  Female   \n",
       "9959-WOFKT  Bank transfer (automatic)          106.70       8257.51    Male   \n",
       "4190-MFLUW    Credit card (automatic)           55.20        789.36  Female   \n",
       "4183-MYFRB           Electronic check           90.05       1891.05  Female   \n",
       "\n",
       "            SeniorCitizen Partner Dependents InternetService OnlineSecurity  \\\n",
       "customerID                                                                    \n",
       "7590-VHVEG              0     Yes         No             DSL             No   \n",
       "5575-GNVDE              0      No         No             DSL            Yes   \n",
       "3668-QPYBK              0      No         No             DSL            Yes   \n",
       "7795-CFOCW              0      No         No             DSL            Yes   \n",
       "9237-HQITU              0      No         No     Fiber optic             No   \n",
       "9305-CDSKC              0      No         No     Fiber optic             No   \n",
       "1452-KIOVK              0      No        Yes     Fiber optic             No   \n",
       "6713-OKOMC              0      No         No             DSL            Yes   \n",
       "7892-POOKP              0     Yes         No     Fiber optic             No   \n",
       "6388-TABGU              0      No        Yes             DSL            Yes   \n",
       "9763-GRSKD              0     Yes        Yes             DSL            Yes   \n",
       "7469-LKBCI              0      No         No             NaN            NaN   \n",
       "8091-TTVAX              0     Yes         No     Fiber optic             No   \n",
       "0280-XJGEX              0      No         No     Fiber optic             No   \n",
       "5129-JLPIS              0      No         No     Fiber optic            Yes   \n",
       "3655-SNQYZ              0     Yes        Yes     Fiber optic            Yes   \n",
       "8191-XWSZG              0      No         No             NaN            NaN   \n",
       "9959-WOFKT              0      No        Yes     Fiber optic            Yes   \n",
       "4190-MFLUW              0     Yes        Yes             DSL             No   \n",
       "4183-MYFRB              0      No         No     Fiber optic             No   \n",
       "\n",
       "           OnlineBackup DeviceProtection TechSupport StreamingTV  \\\n",
       "customerID                                                         \n",
       "7590-VHVEG          Yes               No          No          No   \n",
       "5575-GNVDE           No              Yes          No          No   \n",
       "3668-QPYBK          Yes               No          No          No   \n",
       "7795-CFOCW           No              Yes         Yes          No   \n",
       "9237-HQITU           No               No          No          No   \n",
       "9305-CDSKC           No              Yes          No         Yes   \n",
       "1452-KIOVK          Yes               No          No         Yes   \n",
       "6713-OKOMC           No               No          No          No   \n",
       "7892-POOKP           No              Yes         Yes         Yes   \n",
       "6388-TABGU          Yes               No          No          No   \n",
       "9763-GRSKD           No               No          No          No   \n",
       "7469-LKBCI          NaN              NaN         NaN         NaN   \n",
       "8091-TTVAX           No              Yes          No         Yes   \n",
       "0280-XJGEX          Yes              Yes          No         Yes   \n",
       "5129-JLPIS           No              Yes         Yes         Yes   \n",
       "3655-SNQYZ          Yes              Yes         Yes         Yes   \n",
       "8191-XWSZG          NaN              NaN         NaN         NaN   \n",
       "9959-WOFKT           No              Yes          No         Yes   \n",
       "4190-MFLUW           No              Yes         Yes          No   \n",
       "4183-MYFRB          Yes              Yes          No          No   \n",
       "\n",
       "           StreamingMovies MultipleLines  \n",
       "customerID                                \n",
       "7590-VHVEG              No           NaN  \n",
       "5575-GNVDE              No            No  \n",
       "3668-QPYBK              No            No  \n",
       "7795-CFOCW              No           NaN  \n",
       "9237-HQITU              No            No  \n",
       "9305-CDSKC             Yes           Yes  \n",
       "1452-KIOVK              No           Yes  \n",
       "6713-OKOMC              No           NaN  \n",
       "7892-POOKP             Yes           Yes  \n",
       "6388-TABGU              No            No  \n",
       "9763-GRSKD              No            No  \n",
       "7469-LKBCI             NaN            No  \n",
       "8091-TTVAX             Yes           Yes  \n",
       "0280-XJGEX             Yes           Yes  \n",
       "5129-JLPIS             Yes            No  \n",
       "3655-SNQYZ             Yes           Yes  \n",
       "8191-XWSZG             NaN            No  \n",
       "9959-WOFKT             Yes           Yes  \n",
       "4190-MFLUW              No            No  \n",
       "4183-MYFRB             Yes            No  "
      ]
     },
     "execution_count": 18,
     "metadata": {},
     "output_type": "execute_result"
    }
   ],
   "source": [
    "data = data_contract.join(data_personal).join(data_internet).join(data_phone)\n",
    "\n",
    "data.info()\n",
    "data.head(20)"
   ]
  },
  {
   "cell_type": "markdown",
   "metadata": {},
   "source": [
    "Строим корреляционную карту"
   ]
  },
  {
   "cell_type": "code",
   "execution_count": 19,
   "metadata": {},
   "outputs": [
    {
     "data": {
      "image/png": "[encoded data removed]",
      "text/plain": [
       "<Figure size 1152x648 with 2 Axes>"
      ]
     },
     "metadata": {
      "needs_background": "light"
     },
     "output_type": "display_data"
    }
   ],
   "source": [
    "plt.figure(figsize=(16, 9))\n",
    "sns.heatmap(data.phik_matrix(interval_cols=data.describe().columns), annot=True);\n",
    "plt.show()"
   ]
  },
  {
   "cell_type": "markdown",
   "metadata": {},
   "source": [
    "Необходимо учитывать, что в данных пока ещё есть пропуски, но какие-то выводы уже можно сделать. Высокая корреляция между признаками MonthlyCharges и InternetService, StreamingTV и StreamingMovies - скорее всего подключение по оптоволокну и услуги стримингового телевидения и онлайн-кинотеатра стоят больше прочих, так же MonthlyCharges коррелирует с TotalCharges - чем больше пользователь платит в месяц, тем больше общая прибыль от этого клиента. Так же видим чёрный крест на месте признака gender. В целом карта достаточно яркая, многие признаки могут показать связь при определённых условиях"
   ]
  },
  {
   "cell_type": "markdown",
   "metadata": {},
   "source": [
    "### Цель проекта, план дальнейшей работы"
   ]
  },
  {
   "cell_type": "markdown",
   "metadata": {},
   "source": [
    "<b>Цель проекта</b> - обучить модель, которая будет справляться с поставленной бизнесом задачей классификации выявления клиентов, которые близки к тому, чтобы уйти\n",
    "\n",
    "<b>План работы:</b>\n",
    "- заполнить пропуски, создать новый признак lifetime - срок в днях, который клиент остаётся (или оставался) с компанией\n",
    "- создать целевой признак из колонки EndDate (0 - клиент не ушёл, 1 - клиент ушёл), удалить признаки BeginDate и EndDate\n",
    "- разделить выборки на обучающую и тестовую выборки, преобразовать признаки в числовой вид\n",
    "- обучить модели: DesicionTreeClassifier, CatBoostClassifier и LGBMClassifier; каждой модели подобрать гиперпараметры, которые дадут лучший результат по метрике\n",
    "- выбрать самую точную модель и испытать её на тестовой выборке"
   ]
  },
  {
   "cell_type": "markdown",
   "metadata": {},
   "source": [
    "## Подготовка данных"
   ]
  },
  {
   "cell_type": "markdown",
   "metadata": {},
   "source": [
    "Заполняем все пропуски значением 'No'"
   ]
  },
  {
   "cell_type": "code",
   "execution_count": 20,
   "metadata": {},
   "outputs": [
    {
     "name": "stdout",
     "output_type": "stream",
     "text": [
      "<class 'pandas.core.frame.DataFrame'>\n",
      "Index: 7043 entries, 7590-VHVEG to 3186-AJIEK\n",
      "Data columns (total 19 columns):\n",
      " #   Column            Non-Null Count  Dtype         \n",
      "---  ------            --------------  -----         \n",
      " 0   BeginDate         7043 non-null   datetime64[ns]\n",
      " 1   EndDate           7043 non-null   object        \n",
      " 2   Type              7043 non-null   object        \n",
      " 3   PaperlessBilling  7043 non-null   object        \n",
      " 4   PaymentMethod     7043 non-null   object        \n",
      " 5   MonthlyCharges    7043 non-null   float64       \n",
      " 6   TotalCharges      7043 non-null   float64       \n",
      " 7   gender            7043 non-null   object        \n",
      " 8   SeniorCitizen     7043 non-null   int64         \n",
      " 9   Partner           7043 non-null   object        \n",
      " 10  Dependents        7043 non-null   object        \n",
      " 11  InternetService   7043 non-null   object        \n",
      " 12  OnlineSecurity    7043 non-null   object        \n",
      " 13  OnlineBackup      7043 non-null   object        \n",
      " 14  DeviceProtection  7043 non-null   object        \n",
      " 15  TechSupport       7043 non-null   object        \n",
      " 16  StreamingTV       7043 non-null   object        \n",
      " 17  StreamingMovies   7043 non-null   object        \n",
      " 18  MultipleLines     7043 non-null   object        \n",
      "dtypes: datetime64[ns](1), float64(2), int64(1), object(15)\n",
      "memory usage: 1.3+ MB\n"
     ]
    }
   ],
   "source": [
    "data = data.fillna('No')\n",
    "data.info()"
   ]
  },
  {
   "cell_type": "markdown",
   "metadata": {},
   "source": [
    "Создаём целевой признак - столбец со значением '0' если клиент остаётся с компанией и '1' если он ушёл"
   ]
  },
  {
   "cell_type": "code",
   "execution_count": 21,
   "metadata": {},
   "outputs": [],
   "source": [
    "target = np.where(data['EndDate'] == 'No', 0, 1)"
   ]
  },
  {
   "cell_type": "markdown",
   "metadata": {},
   "source": [
    "Теперь мы можем изменить все значения 'No' в столбце 'EndDate' на актуальную дату - 1 февраля 2020 года, перевести этот столбец к типу datetime и создать новый признак lifetime, который будет отображать общее время сотрудничества клиента с компанией в днях"
   ]
  },
  {
   "cell_type": "code",
   "execution_count": 22,
   "metadata": {},
   "outputs": [
    {
     "data": {
      "text/html": [
       "<div>\n",
       "<style scoped>\n",
       "    .dataframe tbody tr th:only-of-type {\n",
       "        vertical-align: middle;\n",
       "    }\n",
       "\n",
       "    .dataframe tbody tr th {\n",
       "        vertical-align: top;\n",
       "    }\n",
       "\n",
       "    .dataframe thead th {\n",
       "        text-align: right;\n",
       "    }\n",
       "</style>\n",
       "<table border=\"1\" class=\"dataframe\">\n",
       "  <thead>\n",
       "    <tr style=\"text-align: right;\">\n",
       "      <th></th>\n",
       "      <th>BeginDate</th>\n",
       "      <th>EndDate</th>\n",
       "      <th>Type</th>\n",
       "      <th>PaperlessBilling</th>\n",
       "      <th>PaymentMethod</th>\n",
       "      <th>MonthlyCharges</th>\n",
       "      <th>TotalCharges</th>\n",
       "      <th>gender</th>\n",
       "      <th>SeniorCitizen</th>\n",
       "      <th>Partner</th>\n",
       "      <th>Dependents</th>\n",
       "      <th>InternetService</th>\n",
       "      <th>OnlineSecurity</th>\n",
       "      <th>OnlineBackup</th>\n",
       "      <th>DeviceProtection</th>\n",
       "      <th>TechSupport</th>\n",
       "      <th>StreamingTV</th>\n",
       "      <th>StreamingMovies</th>\n",
       "      <th>MultipleLines</th>\n",
       "      <th>lifetime</th>\n",
       "    </tr>\n",
       "    <tr>\n",
       "      <th>customerID</th>\n",
       "      <th></th>\n",
       "      <th></th>\n",
       "      <th></th>\n",
       "      <th></th>\n",
       "      <th></th>\n",
       "      <th></th>\n",
       "      <th></th>\n",
       "      <th></th>\n",
       "      <th></th>\n",
       "      <th></th>\n",
       "      <th></th>\n",
       "      <th></th>\n",
       "      <th></th>\n",
       "      <th></th>\n",
       "      <th></th>\n",
       "      <th></th>\n",
       "      <th></th>\n",
       "      <th></th>\n",
       "      <th></th>\n",
       "      <th></th>\n",
       "    </tr>\n",
       "  </thead>\n",
       "  <tbody>\n",
       "    <tr>\n",
       "      <th>7590-VHVEG</th>\n",
       "      <td>2020-01-01</td>\n",
       "      <td>2020-02-01</td>\n",
       "      <td>Month-to-month</td>\n",
       "      <td>Yes</td>\n",
       "      <td>Electronic check</td>\n",
       "      <td>29.85</td>\n",
       "      <td>31.04</td>\n",
       "      <td>Female</td>\n",
       "      <td>0</td>\n",
       "      <td>Yes</td>\n",
       "      <td>No</td>\n",
       "      <td>DSL</td>\n",
       "      <td>No</td>\n",
       "      <td>Yes</td>\n",
       "      <td>No</td>\n",
       "      <td>No</td>\n",
       "      <td>No</td>\n",
       "      <td>No</td>\n",
       "      <td>No</td>\n",
       "      <td>31</td>\n",
       "    </tr>\n",
       "    <tr>\n",
       "      <th>5575-GNVDE</th>\n",
       "      <td>2017-04-01</td>\n",
       "      <td>2020-02-01</td>\n",
       "      <td>One year</td>\n",
       "      <td>No</td>\n",
       "      <td>Mailed check</td>\n",
       "      <td>56.95</td>\n",
       "      <td>2071.84</td>\n",
       "      <td>Male</td>\n",
       "      <td>0</td>\n",
       "      <td>No</td>\n",
       "      <td>No</td>\n",
       "      <td>DSL</td>\n",
       "      <td>Yes</td>\n",
       "      <td>No</td>\n",
       "      <td>Yes</td>\n",
       "      <td>No</td>\n",
       "      <td>No</td>\n",
       "      <td>No</td>\n",
       "      <td>No</td>\n",
       "      <td>1036</td>\n",
       "    </tr>\n",
       "    <tr>\n",
       "      <th>3668-QPYBK</th>\n",
       "      <td>2019-10-01</td>\n",
       "      <td>2020-02-01</td>\n",
       "      <td>Month-to-month</td>\n",
       "      <td>Yes</td>\n",
       "      <td>Mailed check</td>\n",
       "      <td>53.85</td>\n",
       "      <td>226.17</td>\n",
       "      <td>Male</td>\n",
       "      <td>0</td>\n",
       "      <td>No</td>\n",
       "      <td>No</td>\n",
       "      <td>DSL</td>\n",
       "      <td>Yes</td>\n",
       "      <td>Yes</td>\n",
       "      <td>No</td>\n",
       "      <td>No</td>\n",
       "      <td>No</td>\n",
       "      <td>No</td>\n",
       "      <td>No</td>\n",
       "      <td>123</td>\n",
       "    </tr>\n",
       "    <tr>\n",
       "      <th>7795-CFOCW</th>\n",
       "      <td>2016-05-01</td>\n",
       "      <td>2020-02-01</td>\n",
       "      <td>One year</td>\n",
       "      <td>No</td>\n",
       "      <td>Bank transfer (automatic)</td>\n",
       "      <td>42.30</td>\n",
       "      <td>1960.60</td>\n",
       "      <td>Male</td>\n",
       "      <td>0</td>\n",
       "      <td>No</td>\n",
       "      <td>No</td>\n",
       "      <td>DSL</td>\n",
       "      <td>Yes</td>\n",
       "      <td>No</td>\n",
       "      <td>Yes</td>\n",
       "      <td>Yes</td>\n",
       "      <td>No</td>\n",
       "      <td>No</td>\n",
       "      <td>No</td>\n",
       "      <td>1371</td>\n",
       "    </tr>\n",
       "    <tr>\n",
       "      <th>9237-HQITU</th>\n",
       "      <td>2019-09-01</td>\n",
       "      <td>2020-02-01</td>\n",
       "      <td>Month-to-month</td>\n",
       "      <td>Yes</td>\n",
       "      <td>Electronic check</td>\n",
       "      <td>70.70</td>\n",
       "      <td>353.50</td>\n",
       "      <td>Female</td>\n",
       "      <td>0</td>\n",
       "      <td>No</td>\n",
       "      <td>No</td>\n",
       "      <td>Fiber optic</td>\n",
       "      <td>No</td>\n",
       "      <td>No</td>\n",
       "      <td>No</td>\n",
       "      <td>No</td>\n",
       "      <td>No</td>\n",
       "      <td>No</td>\n",
       "      <td>No</td>\n",
       "      <td>153</td>\n",
       "    </tr>\n",
       "    <tr>\n",
       "      <th>...</th>\n",
       "      <td>...</td>\n",
       "      <td>...</td>\n",
       "      <td>...</td>\n",
       "      <td>...</td>\n",
       "      <td>...</td>\n",
       "      <td>...</td>\n",
       "      <td>...</td>\n",
       "      <td>...</td>\n",
       "      <td>...</td>\n",
       "      <td>...</td>\n",
       "      <td>...</td>\n",
       "      <td>...</td>\n",
       "      <td>...</td>\n",
       "      <td>...</td>\n",
       "      <td>...</td>\n",
       "      <td>...</td>\n",
       "      <td>...</td>\n",
       "      <td>...</td>\n",
       "      <td>...</td>\n",
       "      <td>...</td>\n",
       "    </tr>\n",
       "    <tr>\n",
       "      <th>6840-RESVB</th>\n",
       "      <td>2018-02-01</td>\n",
       "      <td>2020-02-01</td>\n",
       "      <td>One year</td>\n",
       "      <td>Yes</td>\n",
       "      <td>Mailed check</td>\n",
       "      <td>84.80</td>\n",
       "      <td>2035.20</td>\n",
       "      <td>Male</td>\n",
       "      <td>0</td>\n",
       "      <td>Yes</td>\n",
       "      <td>Yes</td>\n",
       "      <td>DSL</td>\n",
       "      <td>Yes</td>\n",
       "      <td>No</td>\n",
       "      <td>Yes</td>\n",
       "      <td>Yes</td>\n",
       "      <td>Yes</td>\n",
       "      <td>Yes</td>\n",
       "      <td>Yes</td>\n",
       "      <td>730</td>\n",
       "    </tr>\n",
       "    <tr>\n",
       "      <th>2234-XADUH</th>\n",
       "      <td>2014-02-01</td>\n",
       "      <td>2020-02-01</td>\n",
       "      <td>One year</td>\n",
       "      <td>Yes</td>\n",
       "      <td>Credit card (automatic)</td>\n",
       "      <td>103.20</td>\n",
       "      <td>7430.40</td>\n",
       "      <td>Female</td>\n",
       "      <td>0</td>\n",
       "      <td>Yes</td>\n",
       "      <td>Yes</td>\n",
       "      <td>Fiber optic</td>\n",
       "      <td>No</td>\n",
       "      <td>Yes</td>\n",
       "      <td>Yes</td>\n",
       "      <td>No</td>\n",
       "      <td>Yes</td>\n",
       "      <td>Yes</td>\n",
       "      <td>Yes</td>\n",
       "      <td>2191</td>\n",
       "    </tr>\n",
       "    <tr>\n",
       "      <th>4801-JZAZL</th>\n",
       "      <td>2019-03-01</td>\n",
       "      <td>2020-02-01</td>\n",
       "      <td>Month-to-month</td>\n",
       "      <td>Yes</td>\n",
       "      <td>Electronic check</td>\n",
       "      <td>29.60</td>\n",
       "      <td>325.60</td>\n",
       "      <td>Female</td>\n",
       "      <td>0</td>\n",
       "      <td>Yes</td>\n",
       "      <td>Yes</td>\n",
       "      <td>DSL</td>\n",
       "      <td>Yes</td>\n",
       "      <td>No</td>\n",
       "      <td>No</td>\n",
       "      <td>No</td>\n",
       "      <td>No</td>\n",
       "      <td>No</td>\n",
       "      <td>No</td>\n",
       "      <td>337</td>\n",
       "    </tr>\n",
       "    <tr>\n",
       "      <th>8361-LTMKD</th>\n",
       "      <td>2019-07-01</td>\n",
       "      <td>2020-02-01</td>\n",
       "      <td>Month-to-month</td>\n",
       "      <td>Yes</td>\n",
       "      <td>Mailed check</td>\n",
       "      <td>74.40</td>\n",
       "      <td>520.80</td>\n",
       "      <td>Male</td>\n",
       "      <td>1</td>\n",
       "      <td>Yes</td>\n",
       "      <td>No</td>\n",
       "      <td>Fiber optic</td>\n",
       "      <td>No</td>\n",
       "      <td>No</td>\n",
       "      <td>No</td>\n",
       "      <td>No</td>\n",
       "      <td>No</td>\n",
       "      <td>No</td>\n",
       "      <td>Yes</td>\n",
       "      <td>215</td>\n",
       "    </tr>\n",
       "    <tr>\n",
       "      <th>3186-AJIEK</th>\n",
       "      <td>2014-08-01</td>\n",
       "      <td>2020-02-01</td>\n",
       "      <td>Two year</td>\n",
       "      <td>Yes</td>\n",
       "      <td>Bank transfer (automatic)</td>\n",
       "      <td>105.65</td>\n",
       "      <td>7251.82</td>\n",
       "      <td>Male</td>\n",
       "      <td>0</td>\n",
       "      <td>No</td>\n",
       "      <td>No</td>\n",
       "      <td>Fiber optic</td>\n",
       "      <td>Yes</td>\n",
       "      <td>No</td>\n",
       "      <td>Yes</td>\n",
       "      <td>Yes</td>\n",
       "      <td>Yes</td>\n",
       "      <td>Yes</td>\n",
       "      <td>No</td>\n",
       "      <td>2010</td>\n",
       "    </tr>\n",
       "  </tbody>\n",
       "</table>\n",
       "<p>7043 rows × 20 columns</p>\n",
       "</div>"
      ],
      "text/plain": [
       "            BeginDate    EndDate            Type PaperlessBilling  \\\n",
       "customerID                                                          \n",
       "7590-VHVEG 2020-01-01 2020-02-01  Month-to-month              Yes   \n",
       "5575-GNVDE 2017-04-01 2020-02-01        One year               No   \n",
       "3668-QPYBK 2019-10-01 2020-02-01  Month-to-month              Yes   \n",
       "7795-CFOCW 2016-05-01 2020-02-01        One year               No   \n",
       "9237-HQITU 2019-09-01 2020-02-01  Month-to-month              Yes   \n",
       "...               ...        ...             ...              ...   \n",
       "6840-RESVB 2018-02-01 2020-02-01        One year              Yes   \n",
       "2234-XADUH 2014-02-01 2020-02-01        One year              Yes   \n",
       "4801-JZAZL 2019-03-01 2020-02-01  Month-to-month              Yes   \n",
       "8361-LTMKD 2019-07-01 2020-02-01  Month-to-month              Yes   \n",
       "3186-AJIEK 2014-08-01 2020-02-01        Two year              Yes   \n",
       "\n",
       "                        PaymentMethod  MonthlyCharges  TotalCharges  gender  \\\n",
       "customerID                                                                    \n",
       "7590-VHVEG           Electronic check           29.85         31.04  Female   \n",
       "5575-GNVDE               Mailed check           56.95       2071.84    Male   \n",
       "3668-QPYBK               Mailed check           53.85        226.17    Male   \n",
       "7795-CFOCW  Bank transfer (automatic)           42.30       1960.60    Male   \n",
       "9237-HQITU           Electronic check           70.70        353.50  Female   \n",
       "...                               ...             ...           ...     ...   \n",
       "6840-RESVB               Mailed check           84.80       2035.20    Male   \n",
       "2234-XADUH    Credit card (automatic)          103.20       7430.40  Female   \n",
       "4801-JZAZL           Electronic check           29.60        325.60  Female   \n",
       "8361-LTMKD               Mailed check           74.40        520.80    Male   \n",
       "3186-AJIEK  Bank transfer (automatic)          105.65       7251.82    Male   \n",
       "\n",
       "            SeniorCitizen Partner Dependents InternetService OnlineSecurity  \\\n",
       "customerID                                                                    \n",
       "7590-VHVEG              0     Yes         No             DSL             No   \n",
       "5575-GNVDE              0      No         No             DSL            Yes   \n",
       "3668-QPYBK              0      No         No             DSL            Yes   \n",
       "7795-CFOCW              0      No         No             DSL            Yes   \n",
       "9237-HQITU              0      No         No     Fiber optic             No   \n",
       "...                   ...     ...        ...             ...            ...   \n",
       "6840-RESVB              0     Yes        Yes             DSL            Yes   \n",
       "2234-XADUH              0     Yes        Yes     Fiber optic             No   \n",
       "4801-JZAZL              0     Yes        Yes             DSL            Yes   \n",
       "8361-LTMKD              1     Yes         No     Fiber optic             No   \n",
       "3186-AJIEK              0      No         No     Fiber optic            Yes   \n",
       "\n",
       "           OnlineBackup DeviceProtection TechSupport StreamingTV  \\\n",
       "customerID                                                         \n",
       "7590-VHVEG          Yes               No          No          No   \n",
       "5575-GNVDE           No              Yes          No          No   \n",
       "3668-QPYBK          Yes               No          No          No   \n",
       "7795-CFOCW           No              Yes         Yes          No   \n",
       "9237-HQITU           No               No          No          No   \n",
       "...                 ...              ...         ...         ...   \n",
       "6840-RESVB           No              Yes         Yes         Yes   \n",
       "2234-XADUH          Yes              Yes          No         Yes   \n",
       "4801-JZAZL           No               No          No          No   \n",
       "8361-LTMKD           No               No          No          No   \n",
       "3186-AJIEK           No              Yes         Yes         Yes   \n",
       "\n",
       "           StreamingMovies MultipleLines  lifetime  \n",
       "customerID                                          \n",
       "7590-VHVEG              No            No        31  \n",
       "5575-GNVDE              No            No      1036  \n",
       "3668-QPYBK              No            No       123  \n",
       "7795-CFOCW              No            No      1371  \n",
       "9237-HQITU              No            No       153  \n",
       "...                    ...           ...       ...  \n",
       "6840-RESVB             Yes           Yes       730  \n",
       "2234-XADUH             Yes           Yes      2191  \n",
       "4801-JZAZL              No            No       337  \n",
       "8361-LTMKD              No           Yes       215  \n",
       "3186-AJIEK             Yes            No      2010  \n",
       "\n",
       "[7043 rows x 20 columns]"
      ]
     },
     "execution_count": 22,
     "metadata": {},
     "output_type": "execute_result"
    }
   ],
   "source": [
    "data['EndDate'] = np.where(data['EndDate'] == 'No', '2020-02-01', data['EndDate'])\n",
    "data['EndDate'] = pd.to_datetime(data['EndDate'], format='%Y-%m')\n",
    "\n",
    "data['lifetime'] = data['EndDate'] - data['BeginDate']\n",
    "data['lifetime'] = data['lifetime'].dt.days\n",
    "\n",
    "data"
   ]
  },
  {
   "cell_type": "markdown",
   "metadata": {},
   "source": [
    "Удаляем столбец 'EndDate', чтобы не допустить утечки целевого признака и 'BeginDate', который логически не смысла - дата начала сотрудничества сторон не может предсказать, как будут развиваться их отношения"
   ]
  },
  {
   "cell_type": "code",
   "execution_count": 23,
   "metadata": {},
   "outputs": [],
   "source": [
    "data = data.drop(['BeginDate', 'EndDate'], axis=1)"
   ]
  },
  {
   "cell_type": "markdown",
   "metadata": {},
   "source": [
    "Теперь у нас есть отдельная переменная, где находятся все необходимые нам признаки и отдельная переменная, куда записан целевой признак"
   ]
  },
  {
   "cell_type": "code",
   "execution_count": 24,
   "metadata": {},
   "outputs": [
    {
     "name": "stdout",
     "output_type": "stream",
     "text": [
      "[0 0 0 ... 0 0 0]\n"
     ]
    },
    {
     "data": {
      "text/html": [
       "<div>\n",
       "<style scoped>\n",
       "    .dataframe tbody tr th:only-of-type {\n",
       "        vertical-align: middle;\n",
       "    }\n",
       "\n",
       "    .dataframe tbody tr th {\n",
       "        vertical-align: top;\n",
       "    }\n",
       "\n",
       "    .dataframe thead th {\n",
       "        text-align: right;\n",
       "    }\n",
       "</style>\n",
       "<table border=\"1\" class=\"dataframe\">\n",
       "  <thead>\n",
       "    <tr style=\"text-align: right;\">\n",
       "      <th></th>\n",
       "      <th>Type</th>\n",
       "      <th>PaperlessBilling</th>\n",
       "      <th>PaymentMethod</th>\n",
       "      <th>MonthlyCharges</th>\n",
       "      <th>TotalCharges</th>\n",
       "      <th>gender</th>\n",
       "      <th>SeniorCitizen</th>\n",
       "      <th>Partner</th>\n",
       "      <th>Dependents</th>\n",
       "      <th>InternetService</th>\n",
       "      <th>OnlineSecurity</th>\n",
       "      <th>OnlineBackup</th>\n",
       "      <th>DeviceProtection</th>\n",
       "      <th>TechSupport</th>\n",
       "      <th>StreamingTV</th>\n",
       "      <th>StreamingMovies</th>\n",
       "      <th>MultipleLines</th>\n",
       "      <th>lifetime</th>\n",
       "    </tr>\n",
       "    <tr>\n",
       "      <th>customerID</th>\n",
       "      <th></th>\n",
       "      <th></th>\n",
       "      <th></th>\n",
       "      <th></th>\n",
       "      <th></th>\n",
       "      <th></th>\n",
       "      <th></th>\n",
       "      <th></th>\n",
       "      <th></th>\n",
       "      <th></th>\n",
       "      <th></th>\n",
       "      <th></th>\n",
       "      <th></th>\n",
       "      <th></th>\n",
       "      <th></th>\n",
       "      <th></th>\n",
       "      <th></th>\n",
       "      <th></th>\n",
       "    </tr>\n",
       "  </thead>\n",
       "  <tbody>\n",
       "    <tr>\n",
       "      <th>7590-VHVEG</th>\n",
       "      <td>Month-to-month</td>\n",
       "      <td>Yes</td>\n",
       "      <td>Electronic check</td>\n",
       "      <td>29.85</td>\n",
       "      <td>31.04</td>\n",
       "      <td>Female</td>\n",
       "      <td>0</td>\n",
       "      <td>Yes</td>\n",
       "      <td>No</td>\n",
       "      <td>DSL</td>\n",
       "      <td>No</td>\n",
       "      <td>Yes</td>\n",
       "      <td>No</td>\n",
       "      <td>No</td>\n",
       "      <td>No</td>\n",
       "      <td>No</td>\n",
       "      <td>No</td>\n",
       "      <td>31</td>\n",
       "    </tr>\n",
       "    <tr>\n",
       "      <th>5575-GNVDE</th>\n",
       "      <td>One year</td>\n",
       "      <td>No</td>\n",
       "      <td>Mailed check</td>\n",
       "      <td>56.95</td>\n",
       "      <td>2071.84</td>\n",
       "      <td>Male</td>\n",
       "      <td>0</td>\n",
       "      <td>No</td>\n",
       "      <td>No</td>\n",
       "      <td>DSL</td>\n",
       "      <td>Yes</td>\n",
       "      <td>No</td>\n",
       "      <td>Yes</td>\n",
       "      <td>No</td>\n",
       "      <td>No</td>\n",
       "      <td>No</td>\n",
       "      <td>No</td>\n",
       "      <td>1036</td>\n",
       "    </tr>\n",
       "    <tr>\n",
       "      <th>3668-QPYBK</th>\n",
       "      <td>Month-to-month</td>\n",
       "      <td>Yes</td>\n",
       "      <td>Mailed check</td>\n",
       "      <td>53.85</td>\n",
       "      <td>226.17</td>\n",
       "      <td>Male</td>\n",
       "      <td>0</td>\n",
       "      <td>No</td>\n",
       "      <td>No</td>\n",
       "      <td>DSL</td>\n",
       "      <td>Yes</td>\n",
       "      <td>Yes</td>\n",
       "      <td>No</td>\n",
       "      <td>No</td>\n",
       "      <td>No</td>\n",
       "      <td>No</td>\n",
       "      <td>No</td>\n",
       "      <td>123</td>\n",
       "    </tr>\n",
       "    <tr>\n",
       "      <th>7795-CFOCW</th>\n",
       "      <td>One year</td>\n",
       "      <td>No</td>\n",
       "      <td>Bank transfer (automatic)</td>\n",
       "      <td>42.30</td>\n",
       "      <td>1960.60</td>\n",
       "      <td>Male</td>\n",
       "      <td>0</td>\n",
       "      <td>No</td>\n",
       "      <td>No</td>\n",
       "      <td>DSL</td>\n",
       "      <td>Yes</td>\n",
       "      <td>No</td>\n",
       "      <td>Yes</td>\n",
       "      <td>Yes</td>\n",
       "      <td>No</td>\n",
       "      <td>No</td>\n",
       "      <td>No</td>\n",
       "      <td>1371</td>\n",
       "    </tr>\n",
       "    <tr>\n",
       "      <th>9237-HQITU</th>\n",
       "      <td>Month-to-month</td>\n",
       "      <td>Yes</td>\n",
       "      <td>Electronic check</td>\n",
       "      <td>70.70</td>\n",
       "      <td>353.50</td>\n",
       "      <td>Female</td>\n",
       "      <td>0</td>\n",
       "      <td>No</td>\n",
       "      <td>No</td>\n",
       "      <td>Fiber optic</td>\n",
       "      <td>No</td>\n",
       "      <td>No</td>\n",
       "      <td>No</td>\n",
       "      <td>No</td>\n",
       "      <td>No</td>\n",
       "      <td>No</td>\n",
       "      <td>No</td>\n",
       "      <td>153</td>\n",
       "    </tr>\n",
       "    <tr>\n",
       "      <th>...</th>\n",
       "      <td>...</td>\n",
       "      <td>...</td>\n",
       "      <td>...</td>\n",
       "      <td>...</td>\n",
       "      <td>...</td>\n",
       "      <td>...</td>\n",
       "      <td>...</td>\n",
       "      <td>...</td>\n",
       "      <td>...</td>\n",
       "      <td>...</td>\n",
       "      <td>...</td>\n",
       "      <td>...</td>\n",
       "      <td>...</td>\n",
       "      <td>...</td>\n",
       "      <td>...</td>\n",
       "      <td>...</td>\n",
       "      <td>...</td>\n",
       "      <td>...</td>\n",
       "    </tr>\n",
       "    <tr>\n",
       "      <th>6840-RESVB</th>\n",
       "      <td>One year</td>\n",
       "      <td>Yes</td>\n",
       "      <td>Mailed check</td>\n",
       "      <td>84.80</td>\n",
       "      <td>2035.20</td>\n",
       "      <td>Male</td>\n",
       "      <td>0</td>\n",
       "      <td>Yes</td>\n",
       "      <td>Yes</td>\n",
       "      <td>DSL</td>\n",
       "      <td>Yes</td>\n",
       "      <td>No</td>\n",
       "      <td>Yes</td>\n",
       "      <td>Yes</td>\n",
       "      <td>Yes</td>\n",
       "      <td>Yes</td>\n",
       "      <td>Yes</td>\n",
       "      <td>730</td>\n",
       "    </tr>\n",
       "    <tr>\n",
       "      <th>2234-XADUH</th>\n",
       "      <td>One year</td>\n",
       "      <td>Yes</td>\n",
       "      <td>Credit card (automatic)</td>\n",
       "      <td>103.20</td>\n",
       "      <td>7430.40</td>\n",
       "      <td>Female</td>\n",
       "      <td>0</td>\n",
       "      <td>Yes</td>\n",
       "      <td>Yes</td>\n",
       "      <td>Fiber optic</td>\n",
       "      <td>No</td>\n",
       "      <td>Yes</td>\n",
       "      <td>Yes</td>\n",
       "      <td>No</td>\n",
       "      <td>Yes</td>\n",
       "      <td>Yes</td>\n",
       "      <td>Yes</td>\n",
       "      <td>2191</td>\n",
       "    </tr>\n",
       "    <tr>\n",
       "      <th>4801-JZAZL</th>\n",
       "      <td>Month-to-month</td>\n",
       "      <td>Yes</td>\n",
       "      <td>Electronic check</td>\n",
       "      <td>29.60</td>\n",
       "      <td>325.60</td>\n",
       "      <td>Female</td>\n",
       "      <td>0</td>\n",
       "      <td>Yes</td>\n",
       "      <td>Yes</td>\n",
       "      <td>DSL</td>\n",
       "      <td>Yes</td>\n",
       "      <td>No</td>\n",
       "      <td>No</td>\n",
       "      <td>No</td>\n",
       "      <td>No</td>\n",
       "      <td>No</td>\n",
       "      <td>No</td>\n",
       "      <td>337</td>\n",
       "    </tr>\n",
       "    <tr>\n",
       "      <th>8361-LTMKD</th>\n",
       "      <td>Month-to-month</td>\n",
       "      <td>Yes</td>\n",
       "      <td>Mailed check</td>\n",
       "      <td>74.40</td>\n",
       "      <td>520.80</td>\n",
       "      <td>Male</td>\n",
       "      <td>1</td>\n",
       "      <td>Yes</td>\n",
       "      <td>No</td>\n",
       "      <td>Fiber optic</td>\n",
       "      <td>No</td>\n",
       "      <td>No</td>\n",
       "      <td>No</td>\n",
       "      <td>No</td>\n",
       "      <td>No</td>\n",
       "      <td>No</td>\n",
       "      <td>Yes</td>\n",
       "      <td>215</td>\n",
       "    </tr>\n",
       "    <tr>\n",
       "      <th>3186-AJIEK</th>\n",
       "      <td>Two year</td>\n",
       "      <td>Yes</td>\n",
       "      <td>Bank transfer (automatic)</td>\n",
       "      <td>105.65</td>\n",
       "      <td>7251.82</td>\n",
       "      <td>Male</td>\n",
       "      <td>0</td>\n",
       "      <td>No</td>\n",
       "      <td>No</td>\n",
       "      <td>Fiber optic</td>\n",
       "      <td>Yes</td>\n",
       "      <td>No</td>\n",
       "      <td>Yes</td>\n",
       "      <td>Yes</td>\n",
       "      <td>Yes</td>\n",
       "      <td>Yes</td>\n",
       "      <td>No</td>\n",
       "      <td>2010</td>\n",
       "    </tr>\n",
       "  </tbody>\n",
       "</table>\n",
       "<p>7043 rows × 18 columns</p>\n",
       "</div>"
      ],
      "text/plain": [
       "                      Type PaperlessBilling              PaymentMethod  \\\n",
       "customerID                                                               \n",
       "7590-VHVEG  Month-to-month              Yes           Electronic check   \n",
       "5575-GNVDE        One year               No               Mailed check   \n",
       "3668-QPYBK  Month-to-month              Yes               Mailed check   \n",
       "7795-CFOCW        One year               No  Bank transfer (automatic)   \n",
       "9237-HQITU  Month-to-month              Yes           Electronic check   \n",
       "...                    ...              ...                        ...   \n",
       "6840-RESVB        One year              Yes               Mailed check   \n",
       "2234-XADUH        One year              Yes    Credit card (automatic)   \n",
       "4801-JZAZL  Month-to-month              Yes           Electronic check   \n",
       "8361-LTMKD  Month-to-month              Yes               Mailed check   \n",
       "3186-AJIEK        Two year              Yes  Bank transfer (automatic)   \n",
       "\n",
       "            MonthlyCharges  TotalCharges  gender  SeniorCitizen Partner  \\\n",
       "customerID                                                                \n",
       "7590-VHVEG           29.85         31.04  Female              0     Yes   \n",
       "5575-GNVDE           56.95       2071.84    Male              0      No   \n",
       "3668-QPYBK           53.85        226.17    Male              0      No   \n",
       "7795-CFOCW           42.30       1960.60    Male              0      No   \n",
       "9237-HQITU           70.70        353.50  Female              0      No   \n",
       "...                    ...           ...     ...            ...     ...   \n",
       "6840-RESVB           84.80       2035.20    Male              0     Yes   \n",
       "2234-XADUH          103.20       7430.40  Female              0     Yes   \n",
       "4801-JZAZL           29.60        325.60  Female              0     Yes   \n",
       "8361-LTMKD           74.40        520.80    Male              1     Yes   \n",
       "3186-AJIEK          105.65       7251.82    Male              0      No   \n",
       "\n",
       "           Dependents InternetService OnlineSecurity OnlineBackup  \\\n",
       "customerID                                                          \n",
       "7590-VHVEG         No             DSL             No          Yes   \n",
       "5575-GNVDE         No             DSL            Yes           No   \n",
       "3668-QPYBK         No             DSL            Yes          Yes   \n",
       "7795-CFOCW         No             DSL            Yes           No   \n",
       "9237-HQITU         No     Fiber optic             No           No   \n",
       "...               ...             ...            ...          ...   \n",
       "6840-RESVB        Yes             DSL            Yes           No   \n",
       "2234-XADUH        Yes     Fiber optic             No          Yes   \n",
       "4801-JZAZL        Yes             DSL            Yes           No   \n",
       "8361-LTMKD         No     Fiber optic             No           No   \n",
       "3186-AJIEK         No     Fiber optic            Yes           No   \n",
       "\n",
       "           DeviceProtection TechSupport StreamingTV StreamingMovies  \\\n",
       "customerID                                                            \n",
       "7590-VHVEG               No          No          No              No   \n",
       "5575-GNVDE              Yes          No          No              No   \n",
       "3668-QPYBK               No          No          No              No   \n",
       "7795-CFOCW              Yes         Yes          No              No   \n",
       "9237-HQITU               No          No          No              No   \n",
       "...                     ...         ...         ...             ...   \n",
       "6840-RESVB              Yes         Yes         Yes             Yes   \n",
       "2234-XADUH              Yes          No         Yes             Yes   \n",
       "4801-JZAZL               No          No          No              No   \n",
       "8361-LTMKD               No          No          No              No   \n",
       "3186-AJIEK              Yes         Yes         Yes             Yes   \n",
       "\n",
       "           MultipleLines  lifetime  \n",
       "customerID                          \n",
       "7590-VHVEG            No        31  \n",
       "5575-GNVDE            No      1036  \n",
       "3668-QPYBK            No       123  \n",
       "7795-CFOCW            No      1371  \n",
       "9237-HQITU            No       153  \n",
       "...                  ...       ...  \n",
       "6840-RESVB           Yes       730  \n",
       "2234-XADUH           Yes      2191  \n",
       "4801-JZAZL            No       337  \n",
       "8361-LTMKD           Yes       215  \n",
       "3186-AJIEK            No      2010  \n",
       "\n",
       "[7043 rows x 18 columns]"
      ]
     },
     "execution_count": 24,
     "metadata": {},
     "output_type": "execute_result"
    }
   ],
   "source": [
    "print(target)\n",
    "data"
   ]
  },
  {
   "cell_type": "markdown",
   "metadata": {},
   "source": [
    "## Обучение моделей"
   ]
  },
  {
   "cell_type": "markdown",
   "metadata": {},
   "source": [
    "Импортируем нужные библиотеки"
   ]
  },
  {
   "cell_type": "code",
   "execution_count": 25,
   "metadata": {},
   "outputs": [
    {
     "name": "stdout",
     "output_type": "stream",
     "text": [
      "Requirement already satisfied: shap in /opt/conda/lib/python3.9/site-packages (0.42.1)\n",
      "Requirement already satisfied: pandas in /opt/conda/lib/python3.9/site-packages (from shap) (1.2.4)\n",
      "Requirement already satisfied: numba in /opt/conda/lib/python3.9/site-packages (from shap) (0.56.0)\n",
      "Requirement already satisfied: packaging>20.9 in /opt/conda/lib/python3.9/site-packages (from shap) (21.3)\n",
      "Requirement already satisfied: scikit-learn in /opt/conda/lib/python3.9/site-packages (from shap) (0.24.1)\n",
      "Requirement already satisfied: cloudpickle in /opt/conda/lib/python3.9/site-packages (from shap) (2.2.1)\n",
      "Requirement already satisfied: tqdm>=4.27.0 in /opt/conda/lib/python3.9/site-packages (from shap) (4.61.2)\n",
      "Requirement already satisfied: slicer==0.0.7 in /opt/conda/lib/python3.9/site-packages (from shap) (0.0.7)\n",
      "Requirement already satisfied: scipy in /opt/conda/lib/python3.9/site-packages (from shap) (1.9.1)\n",
      "Requirement already satisfied: numpy in /opt/conda/lib/python3.9/site-packages (from shap) (1.21.1)\n",
      "Requirement already satisfied: pyparsing!=3.0.5,>=2.0.2 in /opt/conda/lib/python3.9/site-packages (from packaging>20.9->shap) (2.4.7)\n",
      "Requirement already satisfied: setuptools in /opt/conda/lib/python3.9/site-packages (from numba->shap) (49.6.0.post20210108)\n",
      "Requirement already satisfied: llvmlite<0.40,>=0.39.0dev0 in /opt/conda/lib/python3.9/site-packages (from numba->shap) (0.39.0)\n",
      "Requirement already satisfied: python-dateutil>=2.7.3 in /opt/conda/lib/python3.9/site-packages (from pandas->shap) (2.8.1)\n",
      "Requirement already satisfied: pytz>=2017.3 in /opt/conda/lib/python3.9/site-packages (from pandas->shap) (2021.1)\n",
      "Requirement already satisfied: six>=1.5 in /opt/conda/lib/python3.9/site-packages (from python-dateutil>=2.7.3->pandas->shap) (1.16.0)\n",
      "Requirement already satisfied: joblib>=0.11 in /opt/conda/lib/python3.9/site-packages (from scikit-learn->shap) (1.1.0)\n",
      "Requirement already satisfied: threadpoolctl>=2.0.0 in /opt/conda/lib/python3.9/site-packages (from scikit-learn->shap) (3.1.0)\n"
     ]
    }
   ],
   "source": [
    "!pip install shap"
   ]
  },
  {
   "cell_type": "code",
   "execution_count": 44,
   "metadata": {},
   "outputs": [],
   "source": [
    "from sklearn.model_selection import train_test_split\n",
    "from sklearn.pipeline import Pipeline\n",
    "from sklearn.compose import ColumnTransformer\n",
    "from sklearn.preprocessing import OrdinalEncoder\n",
    "from sklearn.model_selection import GridSearchCV\n",
    "from sklearn.ensemble import RandomForestClassifier\n",
    "from catboost import CatBoostClassifier\n",
    "from lightgbm import LGBMClassifier\n",
    "from sklearn.metrics import roc_auc_score\n",
    "from sklearn.metrics import roc_curve\n",
    "import shap\n",
    "from sklearn.metrics import confusion_matrix"
   ]
  },
  {
   "cell_type": "markdown",
   "metadata": {},
   "source": [
    "Создаём переменную RANDOM_STATE"
   ]
  },
  {
   "cell_type": "code",
   "execution_count": 27,
   "metadata": {},
   "outputs": [],
   "source": [
    "RANDOM_STATE = 140823"
   ]
  },
  {
   "cell_type": "markdown",
   "metadata": {},
   "source": [
    "Меняем тип во всех столбцах с типом 'object' на тип 'category'"
   ]
  },
  {
   "cell_type": "code",
   "execution_count": 28,
   "metadata": {},
   "outputs": [],
   "source": [
    "for obj in data.select_dtypes(include=['object']).columns.tolist():\n",
    "    data[obj] = data[obj].astype('category')"
   ]
  },
  {
   "cell_type": "markdown",
   "metadata": {},
   "source": [
    "Создаём список с категориальными признаками"
   ]
  },
  {
   "cell_type": "code",
   "execution_count": 29,
   "metadata": {},
   "outputs": [],
   "source": [
    "cat_names = data.select_dtypes(include=['category']).columns.tolist()"
   ]
  },
  {
   "cell_type": "code",
   "execution_count": 30,
   "metadata": {},
   "outputs": [],
   "source": [
    "X_train, X_test, y_train, y_test = \\\n",
    "train_test_split(data, target, test_size=0.25, random_state=RANDOM_STATE)"
   ]
  },
  {
   "cell_type": "markdown",
   "metadata": {},
   "source": [
    "Делим данные на обучающую и контрольную выборки"
   ]
  },
  {
   "cell_type": "markdown",
   "metadata": {},
   "source": [
    "Далее мы будем рассматривать разные модели (RandomForestClassifier и алгоритмы градиентного бустинга LightGBM и CatBoost) и настраивать их гиперпараметры так, чтобы получить максимальный результат по метрике ROC-AUC"
   ]
  },
  {
   "cell_type": "markdown",
   "metadata": {},
   "source": [
    "### RandomForestClassifier"
   ]
  },
  {
   "cell_type": "markdown",
   "metadata": {},
   "source": [
    "Создаём переменные, в которые записываем нашу модель RandomForestClassifier, OrdinalEncoder (чтобы трансформировать значения в категориальных признаках из буквенных в числовые) и ColumnTransformer (чтобы можно было вставить эту трансформацию в пайплайн)\n",
    "\n",
    "После этого создаём пайплайн, в него загружаем OrdinalEncoder в трансформере и нашу модель\n",
    "\n",
    "Определяем, какие параметры у модели будут подбираться\n",
    "\n",
    "И наконец определяем GridSearchCV (который и будет подбирать наши параметры), указываем ему путь к пайплайну и параметрам, количество кросс-валидаций и метрики для оценки (по условию нам необходима ROC-AUC)"
   ]
  },
  {
   "cell_type": "code",
   "execution_count": 31,
   "metadata": {},
   "outputs": [],
   "source": [
    "rfc = RandomForestClassifier(criterion='entropy', random_state=RANDOM_STATE)\n",
    "encoder = OrdinalEncoder(handle_unknown='use_encoded_value', unknown_value=-1)\n",
    "transformer = ColumnTransformer(transformers=[('cat', encoder, cat_names)])\n",
    "\n",
    "pipeline = Pipeline([('encoder', transformer), ('classifier', rfc)])\n",
    "\n",
    "grid_params = {'classifier__n_estimators': [100, 160, 240],\n",
    "               'classifier__max_depth': [6, 8],\n",
    "               'classifier__min_samples_split': [2, 6, 10],\n",
    "               'classifier__min_samples_leaf': [1, 3, 4]\n",
    "              }\n",
    "\n",
    "grid_rfc = GridSearchCV(pipeline, grid_params, cv=5, scoring=['roc_auc', 'accuracy'],\n",
    "                        refit='roc_auc', return_train_score=True, verbose=3, n_jobs=-1)"
   ]
  },
  {
   "cell_type": "markdown",
   "metadata": {},
   "source": [
    "Начинаем процесс подбора гиперпараметров для нашей модели"
   ]
  },
  {
   "cell_type": "code",
   "execution_count": 32,
   "metadata": {
    "scrolled": true
   },
   "outputs": [
    {
     "name": "stdout",
     "output_type": "stream",
     "text": [
      "Fitting 5 folds for each of 54 candidates, totalling 270 fits\n",
      "[CV 1/5] END classifier__max_depth=6, classifier__min_samples_leaf=1, classifier__min_samples_split=2, classifier__n_estimators=100; accuracy: (train=0.843, test=0.842) roc_auc: (train=0.783, test=0.702) total time=   0.3s\n",
      "[CV 2/5] END classifier__max_depth=6, classifier__min_samples_leaf=1, classifier__min_samples_split=2, classifier__n_estimators=100; accuracy: (train=0.843, test=0.842) roc_auc: (train=0.787, test=0.689) total time=   0.3s\n",
      "[CV 3/5] END classifier__max_depth=6, classifier__min_samples_leaf=1, classifier__min_samples_split=2, classifier__n_estimators=100; accuracy: (train=0.842, test=0.843) roc_auc: (train=0.781, test=0.734) total time=   0.3s\n",
      "[CV 4/5] END classifier__max_depth=6, classifier__min_samples_leaf=1, classifier__min_samples_split=2, classifier__n_estimators=100; accuracy: (train=0.842, test=0.843) roc_auc: (train=0.786, test=0.698) total time=   0.3s\n",
      "[CV 5/5] END classifier__max_depth=6, classifier__min_samples_leaf=1, classifier__min_samples_split=2, classifier__n_estimators=100; accuracy: (train=0.842, test=0.843) roc_auc: (train=0.780, test=0.738) total time=   0.3s\n",
      "[CV 1/5] END classifier__max_depth=6, classifier__min_samples_leaf=1, classifier__min_samples_split=2, classifier__n_estimators=160; accuracy: (train=0.843, test=0.842) roc_auc: (train=0.784, test=0.701) total time=   0.4s\n",
      "[CV 2/5] END classifier__max_depth=6, classifier__min_samples_leaf=1, classifier__min_samples_split=2, classifier__n_estimators=160; accuracy: (train=0.843, test=0.842) roc_auc: (train=0.787, test=0.688) total time=   0.4s\n",
      "[CV 3/5] END classifier__max_depth=6, classifier__min_samples_leaf=1, classifier__min_samples_split=2, classifier__n_estimators=160; accuracy: (train=0.842, test=0.843) roc_auc: (train=0.782, test=0.730) total time=   0.4s\n",
      "[CV 4/5] END classifier__max_depth=6, classifier__min_samples_leaf=1, classifier__min_samples_split=2, classifier__n_estimators=160; accuracy: (train=0.842, test=0.843) roc_auc: (train=0.786, test=0.697) total time=   0.4s\n",
      "[CV 5/5] END classifier__max_depth=6, classifier__min_samples_leaf=1, classifier__min_samples_split=2, classifier__n_estimators=160; accuracy: (train=0.842, test=0.843) roc_auc: (train=0.780, test=0.739) total time=   0.4s\n",
      "[CV 1/5] END classifier__max_depth=6, classifier__min_samples_leaf=1, classifier__min_samples_split=2, classifier__n_estimators=240; accuracy: (train=0.843, test=0.842) roc_auc: (train=0.784, test=0.703) total time=   0.6s\n",
      "[CV 2/5] END classifier__max_depth=6, classifier__min_samples_leaf=1, classifier__min_samples_split=2, classifier__n_estimators=240; accuracy: (train=0.843, test=0.842) roc_auc: (train=0.787, test=0.689) total time=   0.6s\n",
      "[CV 3/5] END classifier__max_depth=6, classifier__min_samples_leaf=1, classifier__min_samples_split=2, classifier__n_estimators=240; accuracy: (train=0.842, test=0.843) roc_auc: (train=0.783, test=0.728) total time=   0.6s\n",
      "[CV 4/5] END classifier__max_depth=6, classifier__min_samples_leaf=1, classifier__min_samples_split=2, classifier__n_estimators=240; accuracy: (train=0.842, test=0.843) roc_auc: (train=0.786, test=0.699) total time=   0.6s\n",
      "[CV 5/5] END classifier__max_depth=6, classifier__min_samples_leaf=1, classifier__min_samples_split=2, classifier__n_estimators=240; accuracy: (train=0.842, test=0.843) roc_auc: (train=0.781, test=0.739) total time=   0.6s\n",
      "[CV 1/5] END classifier__max_depth=6, classifier__min_samples_leaf=1, classifier__min_samples_split=6, classifier__n_estimators=100; accuracy: (train=0.843, test=0.842) roc_auc: (train=0.783, test=0.702) total time=   0.3s\n",
      "[CV 2/5] END classifier__max_depth=6, classifier__min_samples_leaf=1, classifier__min_samples_split=6, classifier__n_estimators=100; accuracy: (train=0.843, test=0.842) roc_auc: (train=0.786, test=0.688) total time=   0.3s\n",
      "[CV 3/5] END classifier__max_depth=6, classifier__min_samples_leaf=1, classifier__min_samples_split=6, classifier__n_estimators=100; accuracy: (train=0.842, test=0.843) roc_auc: (train=0.780, test=0.733) total time=   0.3s\n",
      "[CV 4/5] END classifier__max_depth=6, classifier__min_samples_leaf=1, classifier__min_samples_split=6, classifier__n_estimators=100; accuracy: (train=0.842, test=0.843) roc_auc: (train=0.786, test=0.696) total time=   0.3s\n",
      "[CV 5/5] END classifier__max_depth=6, classifier__min_samples_leaf=1, classifier__min_samples_split=6, classifier__n_estimators=100; accuracy: (train=0.842, test=0.843) roc_auc: (train=0.780, test=0.738) total time=   0.3s\n",
      "[CV 1/5] END classifier__max_depth=6, classifier__min_samples_leaf=1, classifier__min_samples_split=6, classifier__n_estimators=160; accuracy: (train=0.843, test=0.842) roc_auc: (train=0.784, test=0.701) total time=   0.4s\n",
      "[CV 2/5] END classifier__max_depth=6, classifier__min_samples_leaf=1, classifier__min_samples_split=6, classifier__n_estimators=160; accuracy: (train=0.843, test=0.842) roc_auc: (train=0.786, test=0.688) total time=   0.4s\n",
      "[CV 3/5] END classifier__max_depth=6, classifier__min_samples_leaf=1, classifier__min_samples_split=6, classifier__n_estimators=160; accuracy: (train=0.842, test=0.843) roc_auc: (train=0.782, test=0.731) total time=   0.4s\n",
      "[CV 4/5] END classifier__max_depth=6, classifier__min_samples_leaf=1, classifier__min_samples_split=6, classifier__n_estimators=160; accuracy: (train=0.842, test=0.843) roc_auc: (train=0.786, test=0.696) total time=   0.4s\n",
      "[CV 5/5] END classifier__max_depth=6, classifier__min_samples_leaf=1, classifier__min_samples_split=6, classifier__n_estimators=160; accuracy: (train=0.842, test=0.843) roc_auc: (train=0.779, test=0.739) total time=   0.4s\n",
      "[CV 1/5] END classifier__max_depth=6, classifier__min_samples_leaf=1, classifier__min_samples_split=6, classifier__n_estimators=240; accuracy: (train=0.843, test=0.842) roc_auc: (train=0.783, test=0.703) total time=   0.6s\n",
      "[CV 2/5] END classifier__max_depth=6, classifier__min_samples_leaf=1, classifier__min_samples_split=6, classifier__n_estimators=240; accuracy: (train=0.843, test=0.842) roc_auc: (train=0.787, test=0.689) total time=   0.6s\n",
      "[CV 3/5] END classifier__max_depth=6, classifier__min_samples_leaf=1, classifier__min_samples_split=6, classifier__n_estimators=240; accuracy: (train=0.842, test=0.843) roc_auc: (train=0.783, test=0.728) total time=   0.6s\n",
      "[CV 4/5] END classifier__max_depth=6, classifier__min_samples_leaf=1, classifier__min_samples_split=6, classifier__n_estimators=240; accuracy: (train=0.842, test=0.843) roc_auc: (train=0.786, test=0.699) total time=   0.6s\n",
      "[CV 5/5] END classifier__max_depth=6, classifier__min_samples_leaf=1, classifier__min_samples_split=6, classifier__n_estimators=240; accuracy: (train=0.842, test=0.843) roc_auc: (train=0.780, test=0.738) total time=   0.6s\n",
      "[CV 1/5] END classifier__max_depth=6, classifier__min_samples_leaf=1, classifier__min_samples_split=10, classifier__n_estimators=100; accuracy: (train=0.843, test=0.842) roc_auc: (train=0.783, test=0.701) total time=   0.3s\n",
      "[CV 2/5] END classifier__max_depth=6, classifier__min_samples_leaf=1, classifier__min_samples_split=10, classifier__n_estimators=100; accuracy: (train=0.843, test=0.842) roc_auc: (train=0.787, test=0.686) total time=   0.3s\n",
      "[CV 3/5] END classifier__max_depth=6, classifier__min_samples_leaf=1, classifier__min_samples_split=10, classifier__n_estimators=100; accuracy: (train=0.842, test=0.843) roc_auc: (train=0.781, test=0.734) total time=   0.3s\n",
      "[CV 4/5] END classifier__max_depth=6, classifier__min_samples_leaf=1, classifier__min_samples_split=10, classifier__n_estimators=100; accuracy: (train=0.842, test=0.843) roc_auc: (train=0.784, test=0.698) total time=   0.3s\n",
      "[CV 5/5] END classifier__max_depth=6, classifier__min_samples_leaf=1, classifier__min_samples_split=10, classifier__n_estimators=100; accuracy: (train=0.842, test=0.843) roc_auc: (train=0.779, test=0.737) total time=   0.3s\n",
      "[CV 1/5] END classifier__max_depth=6, classifier__min_samples_leaf=1, classifier__min_samples_split=10, classifier__n_estimators=160; accuracy: (train=0.843, test=0.842) roc_auc: (train=0.784, test=0.701) total time=   0.4s\n",
      "[CV 2/5] END classifier__max_depth=6, classifier__min_samples_leaf=1, classifier__min_samples_split=10, classifier__n_estimators=160; accuracy: (train=0.843, test=0.842) roc_auc: (train=0.786, test=0.686) total time=   0.4s\n",
      "[CV 3/5] END classifier__max_depth=6, classifier__min_samples_leaf=1, classifier__min_samples_split=10, classifier__n_estimators=160; accuracy: (train=0.842, test=0.843) roc_auc: (train=0.782, test=0.732) total time=   0.4s\n",
      "[CV 4/5] END classifier__max_depth=6, classifier__min_samples_leaf=1, classifier__min_samples_split=10, classifier__n_estimators=160; accuracy: (train=0.842, test=0.843) roc_auc: (train=0.785, test=0.698) total time=   0.4s\n",
      "[CV 5/5] END classifier__max_depth=6, classifier__min_samples_leaf=1, classifier__min_samples_split=10, classifier__n_estimators=160; accuracy: (train=0.842, test=0.843) roc_auc: (train=0.779, test=0.738) total time=   0.4s\n",
      "[CV 1/5] END classifier__max_depth=6, classifier__min_samples_leaf=1, classifier__min_samples_split=10, classifier__n_estimators=240; accuracy: (train=0.843, test=0.842) roc_auc: (train=0.783, test=0.702) total time=   0.6s\n",
      "[CV 2/5] END classifier__max_depth=6, classifier__min_samples_leaf=1, classifier__min_samples_split=10, classifier__n_estimators=240; accuracy: (train=0.843, test=0.842) roc_auc: (train=0.787, test=0.687) total time=   0.6s\n",
      "[CV 3/5] END classifier__max_depth=6, classifier__min_samples_leaf=1, classifier__min_samples_split=10, classifier__n_estimators=240; accuracy: (train=0.842, test=0.843) roc_auc: (train=0.782, test=0.729) total time=   0.6s\n",
      "[CV 4/5] END classifier__max_depth=6, classifier__min_samples_leaf=1, classifier__min_samples_split=10, classifier__n_estimators=240; accuracy: (train=0.842, test=0.843) roc_auc: (train=0.786, test=0.700) total time=   0.6s\n",
      "[CV 5/5] END classifier__max_depth=6, classifier__min_samples_leaf=1, classifier__min_samples_split=10, classifier__n_estimators=240; accuracy: (train=0.842, test=0.843) roc_auc: (train=0.779, test=0.737) total time=   0.6s\n",
      "[CV 1/5] END classifier__max_depth=6, classifier__min_samples_leaf=3, classifier__min_samples_split=2, classifier__n_estimators=100; accuracy: (train=0.843, test=0.842) roc_auc: (train=0.782, test=0.701) total time=   0.3s\n",
      "[CV 2/5] END classifier__max_depth=6, classifier__min_samples_leaf=3, classifier__min_samples_split=2, classifier__n_estimators=100; accuracy: (train=0.843, test=0.842) roc_auc: (train=0.786, test=0.688) total time=   0.3s\n",
      "[CV 3/5] END classifier__max_depth=6, classifier__min_samples_leaf=3, classifier__min_samples_split=2, classifier__n_estimators=100; accuracy: (train=0.842, test=0.843) roc_auc: (train=0.780, test=0.732) total time=   0.3s\n",
      "[CV 4/5] END classifier__max_depth=6, classifier__min_samples_leaf=3, classifier__min_samples_split=2, classifier__n_estimators=100; accuracy: (train=0.842, test=0.843) roc_auc: (train=0.784, test=0.697) total time=   0.3s\n",
      "[CV 5/5] END classifier__max_depth=6, classifier__min_samples_leaf=3, classifier__min_samples_split=2, classifier__n_estimators=100; accuracy: (train=0.842, test=0.843) roc_auc: (train=0.778, test=0.737) total time=   0.3s\n",
      "[CV 1/5] END classifier__max_depth=6, classifier__min_samples_leaf=3, classifier__min_samples_split=2, classifier__n_estimators=160; accuracy: (train=0.843, test=0.842) roc_auc: (train=0.783, test=0.700) total time=   0.4s\n",
      "[CV 2/5] END classifier__max_depth=6, classifier__min_samples_leaf=3, classifier__min_samples_split=2, classifier__n_estimators=160; accuracy: (train=0.843, test=0.842) roc_auc: (train=0.785, test=0.689) total time=   0.4s\n",
      "[CV 3/5] END classifier__max_depth=6, classifier__min_samples_leaf=3, classifier__min_samples_split=2, classifier__n_estimators=160; accuracy: (train=0.842, test=0.843) roc_auc: (train=0.781, test=0.731) total time=   0.4s\n",
      "[CV 4/5] END classifier__max_depth=6, classifier__min_samples_leaf=3, classifier__min_samples_split=2, classifier__n_estimators=160; accuracy: (train=0.842, test=0.843) roc_auc: (train=0.785, test=0.696) total time=   0.4s\n",
      "[CV 5/5] END classifier__max_depth=6, classifier__min_samples_leaf=3, classifier__min_samples_split=2, classifier__n_estimators=160; accuracy: (train=0.842, test=0.843) roc_auc: (train=0.779, test=0.739) total time=   0.4s\n",
      "[CV 1/5] END classifier__max_depth=6, classifier__min_samples_leaf=3, classifier__min_samples_split=2, classifier__n_estimators=240; accuracy: (train=0.843, test=0.842) roc_auc: (train=0.782, test=0.702) total time=   0.6s\n",
      "[CV 2/5] END classifier__max_depth=6, classifier__min_samples_leaf=3, classifier__min_samples_split=2, classifier__n_estimators=240; accuracy: (train=0.843, test=0.842) roc_auc: (train=0.786, test=0.689) total time=   0.6s\n",
      "[CV 3/5] END classifier__max_depth=6, classifier__min_samples_leaf=3, classifier__min_samples_split=2, classifier__n_estimators=240; accuracy: (train=0.842, test=0.843) roc_auc: (train=0.782, test=0.727) total time=   0.6s\n",
      "[CV 4/5] END classifier__max_depth=6, classifier__min_samples_leaf=3, classifier__min_samples_split=2, classifier__n_estimators=240; accuracy: (train=0.842, test=0.843) roc_auc: (train=0.785, test=0.699) total time=   0.6s\n",
      "[CV 5/5] END classifier__max_depth=6, classifier__min_samples_leaf=3, classifier__min_samples_split=2, classifier__n_estimators=240; accuracy: (train=0.842, test=0.843) roc_auc: (train=0.779, test=0.738) total time=   0.6s\n",
      "[CV 1/5] END classifier__max_depth=6, classifier__min_samples_leaf=3, classifier__min_samples_split=6, classifier__n_estimators=100; accuracy: (train=0.843, test=0.842) roc_auc: (train=0.782, test=0.701) total time=   0.3s\n",
      "[CV 2/5] END classifier__max_depth=6, classifier__min_samples_leaf=3, classifier__min_samples_split=6, classifier__n_estimators=100; accuracy: (train=0.843, test=0.842) roc_auc: (train=0.786, test=0.688) total time=   0.3s\n",
      "[CV 3/5] END classifier__max_depth=6, classifier__min_samples_leaf=3, classifier__min_samples_split=6, classifier__n_estimators=100; accuracy: (train=0.842, test=0.843) roc_auc: (train=0.780, test=0.732) total time=   0.3s\n",
      "[CV 4/5] END classifier__max_depth=6, classifier__min_samples_leaf=3, classifier__min_samples_split=6, classifier__n_estimators=100; accuracy: (train=0.842, test=0.843) roc_auc: (train=0.784, test=0.697) total time=   0.3s\n",
      "[CV 5/5] END classifier__max_depth=6, classifier__min_samples_leaf=3, classifier__min_samples_split=6, classifier__n_estimators=100; accuracy: (train=0.842, test=0.843) roc_auc: (train=0.778, test=0.737) total time=   0.3s\n",
      "[CV 1/5] END classifier__max_depth=6, classifier__min_samples_leaf=3, classifier__min_samples_split=6, classifier__n_estimators=160; accuracy: (train=0.843, test=0.842) roc_auc: (train=0.783, test=0.700) total time=   0.4s\n",
      "[CV 2/5] END classifier__max_depth=6, classifier__min_samples_leaf=3, classifier__min_samples_split=6, classifier__n_estimators=160; accuracy: (train=0.843, test=0.842) roc_auc: (train=0.785, test=0.689) total time=   0.4s\n",
      "[CV 3/5] END classifier__max_depth=6, classifier__min_samples_leaf=3, classifier__min_samples_split=6, classifier__n_estimators=160; accuracy: (train=0.842, test=0.843) roc_auc: (train=0.781, test=0.731) total time=   0.4s\n",
      "[CV 4/5] END classifier__max_depth=6, classifier__min_samples_leaf=3, classifier__min_samples_split=6, classifier__n_estimators=160; accuracy: (train=0.842, test=0.843) roc_auc: (train=0.785, test=0.696) total time=   0.4s\n",
      "[CV 5/5] END classifier__max_depth=6, classifier__min_samples_leaf=3, classifier__min_samples_split=6, classifier__n_estimators=160; accuracy: (train=0.842, test=0.843) roc_auc: (train=0.779, test=0.739) total time=   0.4s\n",
      "[CV 1/5] END classifier__max_depth=6, classifier__min_samples_leaf=3, classifier__min_samples_split=6, classifier__n_estimators=240; accuracy: (train=0.843, test=0.842) roc_auc: (train=0.782, test=0.702) total time=   0.6s\n",
      "[CV 2/5] END classifier__max_depth=6, classifier__min_samples_leaf=3, classifier__min_samples_split=6, classifier__n_estimators=240; accuracy: (train=0.843, test=0.842) roc_auc: (train=0.786, test=0.689) total time=   0.6s\n",
      "[CV 3/5] END classifier__max_depth=6, classifier__min_samples_leaf=3, classifier__min_samples_split=6, classifier__n_estimators=240; accuracy: (train=0.842, test=0.843) roc_auc: (train=0.782, test=0.727) total time=   0.6s\n",
      "[CV 4/5] END classifier__max_depth=6, classifier__min_samples_leaf=3, classifier__min_samples_split=6, classifier__n_estimators=240; accuracy: (train=0.842, test=0.843) roc_auc: (train=0.785, test=0.699) total time=   0.6s\n",
      "[CV 5/5] END classifier__max_depth=6, classifier__min_samples_leaf=3, classifier__min_samples_split=6, classifier__n_estimators=240; accuracy: (train=0.842, test=0.843) roc_auc: (train=0.779, test=0.738) total time=   0.6s\n",
      "[CV 1/5] END classifier__max_depth=6, classifier__min_samples_leaf=3, classifier__min_samples_split=10, classifier__n_estimators=100; accuracy: (train=0.843, test=0.842) roc_auc: (train=0.782, test=0.700) total time=   0.3s\n",
      "[CV 2/5] END classifier__max_depth=6, classifier__min_samples_leaf=3, classifier__min_samples_split=10, classifier__n_estimators=100; accuracy: (train=0.843, test=0.842) roc_auc: (train=0.786, test=0.687) total time=   0.3s\n",
      "[CV 3/5] END classifier__max_depth=6, classifier__min_samples_leaf=3, classifier__min_samples_split=10, classifier__n_estimators=100; accuracy: (train=0.842, test=0.843) roc_auc: (train=0.780, test=0.734) total time=   0.3s\n",
      "[CV 4/5] END classifier__max_depth=6, classifier__min_samples_leaf=3, classifier__min_samples_split=10, classifier__n_estimators=100; accuracy: (train=0.842, test=0.843) roc_auc: (train=0.784, test=0.699) total time=   0.3s\n",
      "[CV 5/5] END classifier__max_depth=6, classifier__min_samples_leaf=3, classifier__min_samples_split=10, classifier__n_estimators=100; accuracy: (train=0.842, test=0.843) roc_auc: (train=0.778, test=0.737) total time=   0.3s\n",
      "[CV 1/5] END classifier__max_depth=6, classifier__min_samples_leaf=3, classifier__min_samples_split=10, classifier__n_estimators=160; accuracy: (train=0.843, test=0.842) roc_auc: (train=0.783, test=0.700) total time=   0.4s\n",
      "[CV 2/5] END classifier__max_depth=6, classifier__min_samples_leaf=3, classifier__min_samples_split=10, classifier__n_estimators=160; accuracy: (train=0.843, test=0.842) roc_auc: (train=0.786, test=0.687) total time=   0.4s\n",
      "[CV 3/5] END classifier__max_depth=6, classifier__min_samples_leaf=3, classifier__min_samples_split=10, classifier__n_estimators=160; accuracy: (train=0.842, test=0.843) roc_auc: (train=0.781, test=0.732) total time=   0.4s\n",
      "[CV 4/5] END classifier__max_depth=6, classifier__min_samples_leaf=3, classifier__min_samples_split=10, classifier__n_estimators=160; accuracy: (train=0.842, test=0.843) roc_auc: (train=0.784, test=0.697) total time=   0.4s\n",
      "[CV 5/5] END classifier__max_depth=6, classifier__min_samples_leaf=3, classifier__min_samples_split=10, classifier__n_estimators=160; accuracy: (train=0.842, test=0.843) roc_auc: (train=0.778, test=0.738) total time=   0.4s\n",
      "[CV 1/5] END classifier__max_depth=6, classifier__min_samples_leaf=3, classifier__min_samples_split=10, classifier__n_estimators=240; accuracy: (train=0.843, test=0.842) roc_auc: (train=0.782, test=0.701) total time=   0.6s\n",
      "[CV 2/5] END classifier__max_depth=6, classifier__min_samples_leaf=3, classifier__min_samples_split=10, classifier__n_estimators=240; accuracy: (train=0.843, test=0.842) roc_auc: (train=0.786, test=0.687) total time=   0.6s\n",
      "[CV 3/5] END classifier__max_depth=6, classifier__min_samples_leaf=3, classifier__min_samples_split=10, classifier__n_estimators=240; accuracy: (train=0.842, test=0.843) roc_auc: (train=0.781, test=0.729) total time=   0.6s\n",
      "[CV 4/5] END classifier__max_depth=6, classifier__min_samples_leaf=3, classifier__min_samples_split=10, classifier__n_estimators=240; accuracy: (train=0.842, test=0.843) roc_auc: (train=0.785, test=0.700) total time=   0.6s\n",
      "[CV 5/5] END classifier__max_depth=6, classifier__min_samples_leaf=3, classifier__min_samples_split=10, classifier__n_estimators=240; accuracy: (train=0.842, test=0.843) roc_auc: (train=0.779, test=0.737) total time=   0.6s\n",
      "[CV 1/5] END classifier__max_depth=6, classifier__min_samples_leaf=4, classifier__min_samples_split=2, classifier__n_estimators=100; accuracy: (train=0.843, test=0.842) roc_auc: (train=0.781, test=0.701) total time=   0.3s\n",
      "[CV 2/5] END classifier__max_depth=6, classifier__min_samples_leaf=4, classifier__min_samples_split=2, classifier__n_estimators=100; accuracy: (train=0.843, test=0.842) roc_auc: (train=0.785, test=0.689) total time=   0.3s\n",
      "[CV 3/5] END classifier__max_depth=6, classifier__min_samples_leaf=4, classifier__min_samples_split=2, classifier__n_estimators=100; accuracy: (train=0.842, test=0.843) roc_auc: (train=0.779, test=0.733) total time=   0.3s\n",
      "[CV 4/5] END classifier__max_depth=6, classifier__min_samples_leaf=4, classifier__min_samples_split=2, classifier__n_estimators=100; accuracy: (train=0.842, test=0.843) roc_auc: (train=0.783, test=0.697) total time=   0.3s\n",
      "[CV 5/5] END classifier__max_depth=6, classifier__min_samples_leaf=4, classifier__min_samples_split=2, classifier__n_estimators=100; accuracy: (train=0.842, test=0.843) roc_auc: (train=0.778, test=0.737) total time=   0.3s\n",
      "[CV 1/5] END classifier__max_depth=6, classifier__min_samples_leaf=4, classifier__min_samples_split=2, classifier__n_estimators=160; accuracy: (train=0.843, test=0.842) roc_auc: (train=0.783, test=0.701) total time=   0.4s\n",
      "[CV 2/5] END classifier__max_depth=6, classifier__min_samples_leaf=4, classifier__min_samples_split=2, classifier__n_estimators=160; accuracy: (train=0.843, test=0.842) roc_auc: (train=0.785, test=0.689) total time=   0.4s\n",
      "[CV 3/5] END classifier__max_depth=6, classifier__min_samples_leaf=4, classifier__min_samples_split=2, classifier__n_estimators=160; accuracy: (train=0.842, test=0.843) roc_auc: (train=0.780, test=0.730) total time=   0.4s\n",
      "[CV 4/5] END classifier__max_depth=6, classifier__min_samples_leaf=4, classifier__min_samples_split=2, classifier__n_estimators=160; accuracy: (train=0.842, test=0.843) roc_auc: (train=0.784, test=0.697) total time=   0.4s\n",
      "[CV 5/5] END classifier__max_depth=6, classifier__min_samples_leaf=4, classifier__min_samples_split=2, classifier__n_estimators=160; accuracy: (train=0.842, test=0.843) roc_auc: (train=0.778, test=0.738) total time=   0.4s\n",
      "[CV 1/5] END classifier__max_depth=6, classifier__min_samples_leaf=4, classifier__min_samples_split=2, classifier__n_estimators=240; accuracy: (train=0.843, test=0.842) roc_auc: (train=0.782, test=0.702) total time=   0.6s\n",
      "[CV 2/5] END classifier__max_depth=6, classifier__min_samples_leaf=4, classifier__min_samples_split=2, classifier__n_estimators=240; accuracy: (train=0.843, test=0.842) roc_auc: (train=0.785, test=0.689) total time=   0.6s\n",
      "[CV 3/5] END classifier__max_depth=6, classifier__min_samples_leaf=4, classifier__min_samples_split=2, classifier__n_estimators=240; accuracy: (train=0.842, test=0.843) roc_auc: (train=0.780, test=0.727) total time=   0.6s\n",
      "[CV 4/5] END classifier__max_depth=6, classifier__min_samples_leaf=4, classifier__min_samples_split=2, classifier__n_estimators=240; accuracy: (train=0.842, test=0.843) roc_auc: (train=0.785, test=0.699) total time=   0.6s\n",
      "[CV 5/5] END classifier__max_depth=6, classifier__min_samples_leaf=4, classifier__min_samples_split=2, classifier__n_estimators=240; accuracy: (train=0.842, test=0.843) roc_auc: (train=0.779, test=0.738) total time=   0.6s\n",
      "[CV 1/5] END classifier__max_depth=6, classifier__min_samples_leaf=4, classifier__min_samples_split=6, classifier__n_estimators=100; accuracy: (train=0.843, test=0.842) roc_auc: (train=0.781, test=0.701) total time=   0.3s\n",
      "[CV 2/5] END classifier__max_depth=6, classifier__min_samples_leaf=4, classifier__min_samples_split=6, classifier__n_estimators=100; accuracy: (train=0.843, test=0.842) roc_auc: (train=0.785, test=0.689) total time=   0.3s\n",
      "[CV 3/5] END classifier__max_depth=6, classifier__min_samples_leaf=4, classifier__min_samples_split=6, classifier__n_estimators=100; accuracy: (train=0.842, test=0.843) roc_auc: (train=0.779, test=0.733) total time=   0.3s\n",
      "[CV 4/5] END classifier__max_depth=6, classifier__min_samples_leaf=4, classifier__min_samples_split=6, classifier__n_estimators=100; accuracy: (train=0.842, test=0.843) roc_auc: (train=0.783, test=0.697) total time=   0.3s\n",
      "[CV 5/5] END classifier__max_depth=6, classifier__min_samples_leaf=4, classifier__min_samples_split=6, classifier__n_estimators=100; accuracy: (train=0.842, test=0.843) roc_auc: (train=0.778, test=0.737) total time=   0.3s\n",
      "[CV 1/5] END classifier__max_depth=6, classifier__min_samples_leaf=4, classifier__min_samples_split=6, classifier__n_estimators=160; accuracy: (train=0.843, test=0.842) roc_auc: (train=0.783, test=0.701) total time=   0.4s\n",
      "[CV 2/5] END classifier__max_depth=6, classifier__min_samples_leaf=4, classifier__min_samples_split=6, classifier__n_estimators=160; accuracy: (train=0.843, test=0.842) roc_auc: (train=0.785, test=0.689) total time=   0.4s\n",
      "[CV 3/5] END classifier__max_depth=6, classifier__min_samples_leaf=4, classifier__min_samples_split=6, classifier__n_estimators=160; accuracy: (train=0.842, test=0.843) roc_auc: (train=0.780, test=0.730) total time=   0.4s\n",
      "[CV 4/5] END classifier__max_depth=6, classifier__min_samples_leaf=4, classifier__min_samples_split=6, classifier__n_estimators=160; accuracy: (train=0.842, test=0.843) roc_auc: (train=0.784, test=0.697) total time=   0.4s\n",
      "[CV 5/5] END classifier__max_depth=6, classifier__min_samples_leaf=4, classifier__min_samples_split=6, classifier__n_estimators=160; accuracy: (train=0.842, test=0.843) roc_auc: (train=0.778, test=0.738) total time=   0.4s\n",
      "[CV 1/5] END classifier__max_depth=6, classifier__min_samples_leaf=4, classifier__min_samples_split=6, classifier__n_estimators=240; accuracy: (train=0.843, test=0.842) roc_auc: (train=0.782, test=0.702) total time=   0.6s\n",
      "[CV 2/5] END classifier__max_depth=6, classifier__min_samples_leaf=4, classifier__min_samples_split=6, classifier__n_estimators=240; accuracy: (train=0.843, test=0.842) roc_auc: (train=0.785, test=0.689) total time=   0.6s\n",
      "[CV 3/5] END classifier__max_depth=6, classifier__min_samples_leaf=4, classifier__min_samples_split=6, classifier__n_estimators=240; accuracy: (train=0.842, test=0.843) roc_auc: (train=0.780, test=0.727) total time=   0.6s\n",
      "[CV 4/5] END classifier__max_depth=6, classifier__min_samples_leaf=4, classifier__min_samples_split=6, classifier__n_estimators=240; accuracy: (train=0.842, test=0.843) roc_auc: (train=0.785, test=0.699) total time=   0.6s\n",
      "[CV 5/5] END classifier__max_depth=6, classifier__min_samples_leaf=4, classifier__min_samples_split=6, classifier__n_estimators=240; accuracy: (train=0.842, test=0.843) roc_auc: (train=0.779, test=0.738) total time=   0.6s\n",
      "[CV 1/5] END classifier__max_depth=6, classifier__min_samples_leaf=4, classifier__min_samples_split=10, classifier__n_estimators=100; accuracy: (train=0.843, test=0.842) roc_auc: (train=0.781, test=0.700) total time=   0.3s\n",
      "[CV 2/5] END classifier__max_depth=6, classifier__min_samples_leaf=4, classifier__min_samples_split=10, classifier__n_estimators=100; accuracy: (train=0.843, test=0.842) roc_auc: (train=0.786, test=0.688) total time=   0.3s\n",
      "[CV 3/5] END classifier__max_depth=6, classifier__min_samples_leaf=4, classifier__min_samples_split=10, classifier__n_estimators=100; accuracy: (train=0.842, test=0.843) roc_auc: (train=0.780, test=0.733) total time=   0.3s\n",
      "[CV 4/5] END classifier__max_depth=6, classifier__min_samples_leaf=4, classifier__min_samples_split=10, classifier__n_estimators=100; accuracy: (train=0.842, test=0.843) roc_auc: (train=0.783, test=0.699) total time=   0.3s\n",
      "[CV 5/5] END classifier__max_depth=6, classifier__min_samples_leaf=4, classifier__min_samples_split=10, classifier__n_estimators=100; accuracy: (train=0.842, test=0.843) roc_auc: (train=0.777, test=0.737) total time=   0.3s\n",
      "[CV 1/5] END classifier__max_depth=6, classifier__min_samples_leaf=4, classifier__min_samples_split=10, classifier__n_estimators=160; accuracy: (train=0.843, test=0.842) roc_auc: (train=0.782, test=0.701) total time=   0.4s\n",
      "[CV 2/5] END classifier__max_depth=6, classifier__min_samples_leaf=4, classifier__min_samples_split=10, classifier__n_estimators=160; accuracy: (train=0.843, test=0.842) roc_auc: (train=0.785, test=0.688) total time=   0.4s\n",
      "[CV 3/5] END classifier__max_depth=6, classifier__min_samples_leaf=4, classifier__min_samples_split=10, classifier__n_estimators=160; accuracy: (train=0.842, test=0.843) roc_auc: (train=0.780, test=0.731) total time=   0.4s\n",
      "[CV 4/5] END classifier__max_depth=6, classifier__min_samples_leaf=4, classifier__min_samples_split=10, classifier__n_estimators=160; accuracy: (train=0.842, test=0.843) roc_auc: (train=0.784, test=0.697) total time=   0.4s\n",
      "[CV 5/5] END classifier__max_depth=6, classifier__min_samples_leaf=4, classifier__min_samples_split=10, classifier__n_estimators=160; accuracy: (train=0.842, test=0.843) roc_auc: (train=0.778, test=0.738) total time=   0.4s\n",
      "[CV 1/5] END classifier__max_depth=6, classifier__min_samples_leaf=4, classifier__min_samples_split=10, classifier__n_estimators=240; accuracy: (train=0.843, test=0.842) roc_auc: (train=0.782, test=0.702) total time=   0.6s\n",
      "[CV 2/5] END classifier__max_depth=6, classifier__min_samples_leaf=4, classifier__min_samples_split=10, classifier__n_estimators=240; accuracy: (train=0.843, test=0.842) roc_auc: (train=0.786, test=0.688) total time=   0.6s\n",
      "[CV 3/5] END classifier__max_depth=6, classifier__min_samples_leaf=4, classifier__min_samples_split=10, classifier__n_estimators=240; accuracy: (train=0.842, test=0.843) roc_auc: (train=0.780, test=0.729) total time=   0.6s\n",
      "[CV 4/5] END classifier__max_depth=6, classifier__min_samples_leaf=4, classifier__min_samples_split=10, classifier__n_estimators=240; accuracy: (train=0.842, test=0.843) roc_auc: (train=0.785, test=0.700) total time=   0.6s\n",
      "[CV 5/5] END classifier__max_depth=6, classifier__min_samples_leaf=4, classifier__min_samples_split=10, classifier__n_estimators=240; accuracy: (train=0.842, test=0.843) roc_auc: (train=0.778, test=0.737) total time=   0.6s\n",
      "[CV 1/5] END classifier__max_depth=8, classifier__min_samples_leaf=1, classifier__min_samples_split=2, classifier__n_estimators=100; accuracy: (train=0.843, test=0.842) roc_auc: (train=0.868, test=0.690) total time=   0.3s\n",
      "[CV 2/5] END classifier__max_depth=8, classifier__min_samples_leaf=1, classifier__min_samples_split=2, classifier__n_estimators=100; accuracy: (train=0.843, test=0.842) roc_auc: (train=0.871, test=0.680) total time=   0.3s\n",
      "[CV 3/5] END classifier__max_depth=8, classifier__min_samples_leaf=1, classifier__min_samples_split=2, classifier__n_estimators=100; accuracy: (train=0.843, test=0.843) roc_auc: (train=0.869, test=0.712) total time=   0.3s\n",
      "[CV 4/5] END classifier__max_depth=8, classifier__min_samples_leaf=1, classifier__min_samples_split=2, classifier__n_estimators=100; accuracy: (train=0.843, test=0.843) roc_auc: (train=0.871, test=0.692) total time=   0.3s\n",
      "[CV 5/5] END classifier__max_depth=8, classifier__min_samples_leaf=1, classifier__min_samples_split=2, classifier__n_estimators=100; accuracy: (train=0.843, test=0.843) roc_auc: (train=0.870, test=0.729) total time=   0.3s\n",
      "[CV 1/5] END classifier__max_depth=8, classifier__min_samples_leaf=1, classifier__min_samples_split=2, classifier__n_estimators=160; accuracy: (train=0.843, test=0.842) roc_auc: (train=0.870, test=0.695) total time=   0.4s\n",
      "[CV 2/5] END classifier__max_depth=8, classifier__min_samples_leaf=1, classifier__min_samples_split=2, classifier__n_estimators=160; accuracy: (train=0.843, test=0.842) roc_auc: (train=0.871, test=0.676) total time=   0.4s\n",
      "[CV 3/5] END classifier__max_depth=8, classifier__min_samples_leaf=1, classifier__min_samples_split=2, classifier__n_estimators=160; accuracy: (train=0.843, test=0.843) roc_auc: (train=0.871, test=0.714) total time=   0.5s\n",
      "[CV 4/5] END classifier__max_depth=8, classifier__min_samples_leaf=1, classifier__min_samples_split=2, classifier__n_estimators=160; accuracy: (train=0.843, test=0.843) roc_auc: (train=0.871, test=0.689) total time=   0.5s\n",
      "[CV 5/5] END classifier__max_depth=8, classifier__min_samples_leaf=1, classifier__min_samples_split=2, classifier__n_estimators=160; accuracy: (train=0.843, test=0.843) roc_auc: (train=0.871, test=0.731) total time=   0.5s\n",
      "[CV 1/5] END classifier__max_depth=8, classifier__min_samples_leaf=1, classifier__min_samples_split=2, classifier__n_estimators=240; accuracy: (train=0.843, test=0.842) roc_auc: (train=0.870, test=0.694) total time=   0.7s\n",
      "[CV 2/5] END classifier__max_depth=8, classifier__min_samples_leaf=1, classifier__min_samples_split=2, classifier__n_estimators=240; accuracy: (train=0.843, test=0.842) roc_auc: (train=0.872, test=0.677) total time=   0.6s\n",
      "[CV 3/5] END classifier__max_depth=8, classifier__min_samples_leaf=1, classifier__min_samples_split=2, classifier__n_estimators=240; accuracy: (train=0.843, test=0.843) roc_auc: (train=0.872, test=0.715) total time=   0.6s\n",
      "[CV 4/5] END classifier__max_depth=8, classifier__min_samples_leaf=1, classifier__min_samples_split=2, classifier__n_estimators=240; accuracy: (train=0.843, test=0.843) roc_auc: (train=0.871, test=0.690) total time=   0.6s\n",
      "[CV 5/5] END classifier__max_depth=8, classifier__min_samples_leaf=1, classifier__min_samples_split=2, classifier__n_estimators=240; accuracy: (train=0.843, test=0.843) roc_auc: (train=0.872, test=0.731) total time=   0.6s\n",
      "[CV 1/5] END classifier__max_depth=8, classifier__min_samples_leaf=1, classifier__min_samples_split=6, classifier__n_estimators=100; accuracy: (train=0.843, test=0.842) roc_auc: (train=0.860, test=0.693) total time=   0.3s\n",
      "[CV 2/5] END classifier__max_depth=8, classifier__min_samples_leaf=1, classifier__min_samples_split=6, classifier__n_estimators=100; accuracy: (train=0.843, test=0.842) roc_auc: (train=0.863, test=0.682) total time=   0.3s\n",
      "[CV 3/5] END classifier__max_depth=8, classifier__min_samples_leaf=1, classifier__min_samples_split=6, classifier__n_estimators=100; accuracy: (train=0.842, test=0.842) roc_auc: (train=0.863, test=0.710) total time=   0.3s\n",
      "[CV 4/5] END classifier__max_depth=8, classifier__min_samples_leaf=1, classifier__min_samples_split=6, classifier__n_estimators=100; accuracy: (train=0.842, test=0.843) roc_auc: (train=0.864, test=0.688) total time=   0.3s\n",
      "[CV 5/5] END classifier__max_depth=8, classifier__min_samples_leaf=1, classifier__min_samples_split=6, classifier__n_estimators=100; accuracy: (train=0.842, test=0.843) roc_auc: (train=0.863, test=0.730) total time=   0.3s\n",
      "[CV 1/5] END classifier__max_depth=8, classifier__min_samples_leaf=1, classifier__min_samples_split=6, classifier__n_estimators=160; accuracy: (train=0.843, test=0.842) roc_auc: (train=0.862, test=0.693) total time=   0.5s\n",
      "[CV 2/5] END classifier__max_depth=8, classifier__min_samples_leaf=1, classifier__min_samples_split=6, classifier__n_estimators=160; accuracy: (train=0.843, test=0.842) roc_auc: (train=0.863, test=0.682) total time=   0.4s\n",
      "[CV 3/5] END classifier__max_depth=8, classifier__min_samples_leaf=1, classifier__min_samples_split=6, classifier__n_estimators=160; accuracy: (train=0.842, test=0.843) roc_auc: (train=0.864, test=0.712) total time=   0.5s\n",
      "[CV 4/5] END classifier__max_depth=8, classifier__min_samples_leaf=1, classifier__min_samples_split=6, classifier__n_estimators=160; accuracy: (train=0.842, test=0.843) roc_auc: (train=0.864, test=0.690) total time=   0.4s\n",
      "[CV 5/5] END classifier__max_depth=8, classifier__min_samples_leaf=1, classifier__min_samples_split=6, classifier__n_estimators=160; accuracy: (train=0.842, test=0.843) roc_auc: (train=0.864, test=0.731) total time=   0.4s\n",
      "[CV 1/5] END classifier__max_depth=8, classifier__min_samples_leaf=1, classifier__min_samples_split=6, classifier__n_estimators=240; accuracy: (train=0.843, test=0.842) roc_auc: (train=0.862, test=0.695) total time=   0.7s\n",
      "[CV 2/5] END classifier__max_depth=8, classifier__min_samples_leaf=1, classifier__min_samples_split=6, classifier__n_estimators=240; accuracy: (train=0.843, test=0.842) roc_auc: (train=0.863, test=0.683) total time=   0.6s\n",
      "[CV 3/5] END classifier__max_depth=8, classifier__min_samples_leaf=1, classifier__min_samples_split=6, classifier__n_estimators=240; accuracy: (train=0.842, test=0.843) roc_auc: (train=0.865, test=0.713) total time=   0.6s\n",
      "[CV 4/5] END classifier__max_depth=8, classifier__min_samples_leaf=1, classifier__min_samples_split=6, classifier__n_estimators=240; accuracy: (train=0.842, test=0.843) roc_auc: (train=0.864, test=0.692) total time=   0.6s\n",
      "[CV 5/5] END classifier__max_depth=8, classifier__min_samples_leaf=1, classifier__min_samples_split=6, classifier__n_estimators=240; accuracy: (train=0.842, test=0.843) roc_auc: (train=0.864, test=0.731) total time=   0.6s\n",
      "[CV 1/5] END classifier__max_depth=8, classifier__min_samples_leaf=1, classifier__min_samples_split=10, classifier__n_estimators=100; accuracy: (train=0.843, test=0.842) roc_auc: (train=0.851, test=0.693) total time=   0.3s\n",
      "[CV 2/5] END classifier__max_depth=8, classifier__min_samples_leaf=1, classifier__min_samples_split=10, classifier__n_estimators=100; accuracy: (train=0.843, test=0.842) roc_auc: (train=0.855, test=0.689) total time=   0.3s\n",
      "[CV 3/5] END classifier__max_depth=8, classifier__min_samples_leaf=1, classifier__min_samples_split=10, classifier__n_estimators=100; accuracy: (train=0.842, test=0.843) roc_auc: (train=0.855, test=0.722) total time=   0.3s\n",
      "[CV 4/5] END classifier__max_depth=8, classifier__min_samples_leaf=1, classifier__min_samples_split=10, classifier__n_estimators=100; accuracy: (train=0.842, test=0.843) roc_auc: (train=0.854, test=0.696) total time=   0.3s\n",
      "[CV 5/5] END classifier__max_depth=8, classifier__min_samples_leaf=1, classifier__min_samples_split=10, classifier__n_estimators=100; accuracy: (train=0.842, test=0.843) roc_auc: (train=0.853, test=0.732) total time=   0.3s\n",
      "[CV 1/5] END classifier__max_depth=8, classifier__min_samples_leaf=1, classifier__min_samples_split=10, classifier__n_estimators=160; accuracy: (train=0.843, test=0.842) roc_auc: (train=0.853, test=0.692) total time=   0.5s\n",
      "[CV 2/5] END classifier__max_depth=8, classifier__min_samples_leaf=1, classifier__min_samples_split=10, classifier__n_estimators=160; accuracy: (train=0.843, test=0.842) roc_auc: (train=0.855, test=0.684) total time=   0.4s\n",
      "[CV 3/5] END classifier__max_depth=8, classifier__min_samples_leaf=1, classifier__min_samples_split=10, classifier__n_estimators=160; accuracy: (train=0.842, test=0.843) roc_auc: (train=0.855, test=0.724) total time=   0.4s\n",
      "[CV 4/5] END classifier__max_depth=8, classifier__min_samples_leaf=1, classifier__min_samples_split=10, classifier__n_estimators=160; accuracy: (train=0.842, test=0.843) roc_auc: (train=0.854, test=0.696) total time=   0.5s\n",
      "[CV 5/5] END classifier__max_depth=8, classifier__min_samples_leaf=1, classifier__min_samples_split=10, classifier__n_estimators=160; accuracy: (train=0.842, test=0.843) roc_auc: (train=0.853, test=0.735) total time=   0.5s\n",
      "[CV 1/5] END classifier__max_depth=8, classifier__min_samples_leaf=1, classifier__min_samples_split=10, classifier__n_estimators=240; accuracy: (train=0.843, test=0.842) roc_auc: (train=0.853, test=0.692) total time=   0.7s\n",
      "[CV 2/5] END classifier__max_depth=8, classifier__min_samples_leaf=1, classifier__min_samples_split=10, classifier__n_estimators=240; accuracy: (train=0.843, test=0.842) roc_auc: (train=0.855, test=0.684) total time=   0.6s\n",
      "[CV 3/5] END classifier__max_depth=8, classifier__min_samples_leaf=1, classifier__min_samples_split=10, classifier__n_estimators=240; accuracy: (train=0.842, test=0.843) roc_auc: (train=0.855, test=0.723) total time=   0.6s\n",
      "[CV 4/5] END classifier__max_depth=8, classifier__min_samples_leaf=1, classifier__min_samples_split=10, classifier__n_estimators=240; accuracy: (train=0.842, test=0.843) roc_auc: (train=0.855, test=0.697) total time=   0.6s\n",
      "[CV 5/5] END classifier__max_depth=8, classifier__min_samples_leaf=1, classifier__min_samples_split=10, classifier__n_estimators=240; accuracy: (train=0.842, test=0.843) roc_auc: (train=0.854, test=0.734) total time=   0.6s\n",
      "[CV 1/5] END classifier__max_depth=8, classifier__min_samples_leaf=3, classifier__min_samples_split=2, classifier__n_estimators=100; accuracy: (train=0.843, test=0.842) roc_auc: (train=0.853, test=0.691) total time=   0.3s\n",
      "[CV 2/5] END classifier__max_depth=8, classifier__min_samples_leaf=3, classifier__min_samples_split=2, classifier__n_estimators=100; accuracy: (train=0.843, test=0.842) roc_auc: (train=0.855, test=0.682) total time=   0.3s\n",
      "[CV 3/5] END classifier__max_depth=8, classifier__min_samples_leaf=3, classifier__min_samples_split=2, classifier__n_estimators=100; accuracy: (train=0.843, test=0.842) roc_auc: (train=0.856, test=0.724) total time=   0.3s\n",
      "[CV 4/5] END classifier__max_depth=8, classifier__min_samples_leaf=3, classifier__min_samples_split=2, classifier__n_estimators=100; accuracy: (train=0.842, test=0.843) roc_auc: (train=0.852, test=0.691) total time=   0.3s\n",
      "[CV 5/5] END classifier__max_depth=8, classifier__min_samples_leaf=3, classifier__min_samples_split=2, classifier__n_estimators=100; accuracy: (train=0.842, test=0.843) roc_auc: (train=0.856, test=0.729) total time=   0.3s\n",
      "[CV 1/5] END classifier__max_depth=8, classifier__min_samples_leaf=3, classifier__min_samples_split=2, classifier__n_estimators=160; accuracy: (train=0.843, test=0.842) roc_auc: (train=0.853, test=0.690) total time=   0.5s\n",
      "[CV 2/5] END classifier__max_depth=8, classifier__min_samples_leaf=3, classifier__min_samples_split=2, classifier__n_estimators=160; accuracy: (train=0.843, test=0.842) roc_auc: (train=0.855, test=0.685) total time=   0.5s\n",
      "[CV 3/5] END classifier__max_depth=8, classifier__min_samples_leaf=3, classifier__min_samples_split=2, classifier__n_estimators=160; accuracy: (train=0.842, test=0.843) roc_auc: (train=0.855, test=0.721) total time=   0.4s\n",
      "[CV 4/5] END classifier__max_depth=8, classifier__min_samples_leaf=3, classifier__min_samples_split=2, classifier__n_estimators=160; accuracy: (train=0.842, test=0.843) roc_auc: (train=0.853, test=0.695) total time=   0.4s\n",
      "[CV 5/5] END classifier__max_depth=8, classifier__min_samples_leaf=3, classifier__min_samples_split=2, classifier__n_estimators=160; accuracy: (train=0.842, test=0.843) roc_auc: (train=0.856, test=0.731) total time=   0.5s\n",
      "[CV 1/5] END classifier__max_depth=8, classifier__min_samples_leaf=3, classifier__min_samples_split=2, classifier__n_estimators=240; accuracy: (train=0.843, test=0.842) roc_auc: (train=0.853, test=0.691) total time=   0.7s\n",
      "[CV 2/5] END classifier__max_depth=8, classifier__min_samples_leaf=3, classifier__min_samples_split=2, classifier__n_estimators=240; accuracy: (train=0.843, test=0.842) roc_auc: (train=0.856, test=0.684) total time=   0.6s\n",
      "[CV 3/5] END classifier__max_depth=8, classifier__min_samples_leaf=3, classifier__min_samples_split=2, classifier__n_estimators=240; accuracy: (train=0.842, test=0.843) roc_auc: (train=0.857, test=0.720) total time=   0.6s\n",
      "[CV 4/5] END classifier__max_depth=8, classifier__min_samples_leaf=3, classifier__min_samples_split=2, classifier__n_estimators=240; accuracy: (train=0.842, test=0.843) roc_auc: (train=0.854, test=0.694) total time=   0.7s\n",
      "[CV 5/5] END classifier__max_depth=8, classifier__min_samples_leaf=3, classifier__min_samples_split=2, classifier__n_estimators=240; accuracy: (train=0.842, test=0.843) roc_auc: (train=0.856, test=0.730) total time=   0.6s\n",
      "[CV 1/5] END classifier__max_depth=8, classifier__min_samples_leaf=3, classifier__min_samples_split=6, classifier__n_estimators=100; accuracy: (train=0.843, test=0.842) roc_auc: (train=0.853, test=0.691) total time=   0.3s\n",
      "[CV 2/5] END classifier__max_depth=8, classifier__min_samples_leaf=3, classifier__min_samples_split=6, classifier__n_estimators=100; accuracy: (train=0.843, test=0.842) roc_auc: (train=0.855, test=0.682) total time=   0.3s\n",
      "[CV 3/5] END classifier__max_depth=8, classifier__min_samples_leaf=3, classifier__min_samples_split=6, classifier__n_estimators=100; accuracy: (train=0.843, test=0.842) roc_auc: (train=0.856, test=0.724) total time=   0.3s\n",
      "[CV 4/5] END classifier__max_depth=8, classifier__min_samples_leaf=3, classifier__min_samples_split=6, classifier__n_estimators=100; accuracy: (train=0.842, test=0.843) roc_auc: (train=0.852, test=0.691) total time=   0.3s\n",
      "[CV 5/5] END classifier__max_depth=8, classifier__min_samples_leaf=3, classifier__min_samples_split=6, classifier__n_estimators=100; accuracy: (train=0.842, test=0.843) roc_auc: (train=0.856, test=0.729) total time=   0.3s\n",
      "[CV 1/5] END classifier__max_depth=8, classifier__min_samples_leaf=3, classifier__min_samples_split=6, classifier__n_estimators=160; accuracy: (train=0.843, test=0.842) roc_auc: (train=0.853, test=0.690) total time=   0.4s\n",
      "[CV 2/5] END classifier__max_depth=8, classifier__min_samples_leaf=3, classifier__min_samples_split=6, classifier__n_estimators=160; accuracy: (train=0.843, test=0.842) roc_auc: (train=0.855, test=0.685) total time=   0.4s\n",
      "[CV 3/5] END classifier__max_depth=8, classifier__min_samples_leaf=3, classifier__min_samples_split=6, classifier__n_estimators=160; accuracy: (train=0.842, test=0.843) roc_auc: (train=0.855, test=0.721) total time=   0.4s\n",
      "[CV 4/5] END classifier__max_depth=8, classifier__min_samples_leaf=3, classifier__min_samples_split=6, classifier__n_estimators=160; accuracy: (train=0.842, test=0.843) roc_auc: (train=0.853, test=0.695) total time=   0.4s\n",
      "[CV 5/5] END classifier__max_depth=8, classifier__min_samples_leaf=3, classifier__min_samples_split=6, classifier__n_estimators=160; accuracy: (train=0.842, test=0.843) roc_auc: (train=0.856, test=0.731) total time=   0.4s\n",
      "[CV 1/5] END classifier__max_depth=8, classifier__min_samples_leaf=3, classifier__min_samples_split=6, classifier__n_estimators=240; accuracy: (train=0.843, test=0.842) roc_auc: (train=0.853, test=0.691) total time=   0.7s\n",
      "[CV 2/5] END classifier__max_depth=8, classifier__min_samples_leaf=3, classifier__min_samples_split=6, classifier__n_estimators=240; accuracy: (train=0.843, test=0.842) roc_auc: (train=0.856, test=0.684) total time=   0.6s\n",
      "[CV 3/5] END classifier__max_depth=8, classifier__min_samples_leaf=3, classifier__min_samples_split=6, classifier__n_estimators=240; accuracy: (train=0.842, test=0.843) roc_auc: (train=0.857, test=0.720) total time=   0.6s\n",
      "[CV 4/5] END classifier__max_depth=8, classifier__min_samples_leaf=3, classifier__min_samples_split=6, classifier__n_estimators=240; accuracy: (train=0.842, test=0.843) roc_auc: (train=0.854, test=0.694) total time=   0.6s\n",
      "[CV 5/5] END classifier__max_depth=8, classifier__min_samples_leaf=3, classifier__min_samples_split=6, classifier__n_estimators=240; accuracy: (train=0.842, test=0.843) roc_auc: (train=0.856, test=0.730) total time=   0.8s\n",
      "[CV 1/5] END classifier__max_depth=8, classifier__min_samples_leaf=3, classifier__min_samples_split=10, classifier__n_estimators=100; accuracy: (train=0.843, test=0.842) roc_auc: (train=0.845, test=0.693) total time=   0.3s\n",
      "[CV 2/5] END classifier__max_depth=8, classifier__min_samples_leaf=3, classifier__min_samples_split=10, classifier__n_estimators=100; accuracy: (train=0.843, test=0.842) roc_auc: (train=0.849, test=0.683) total time=   0.3s\n",
      "[CV 3/5] END classifier__max_depth=8, classifier__min_samples_leaf=3, classifier__min_samples_split=10, classifier__n_estimators=100; accuracy: (train=0.842, test=0.843) roc_auc: (train=0.849, test=0.718) total time=   0.3s\n",
      "[CV 4/5] END classifier__max_depth=8, classifier__min_samples_leaf=3, classifier__min_samples_split=10, classifier__n_estimators=100; accuracy: (train=0.842, test=0.843) roc_auc: (train=0.850, test=0.698) total time=   0.3s\n",
      "[CV 5/5] END classifier__max_depth=8, classifier__min_samples_leaf=3, classifier__min_samples_split=10, classifier__n_estimators=100; accuracy: (train=0.842, test=0.843) roc_auc: (train=0.847, test=0.733) total time=   0.3s\n",
      "[CV 1/5] END classifier__max_depth=8, classifier__min_samples_leaf=3, classifier__min_samples_split=10, classifier__n_estimators=160; accuracy: (train=0.843, test=0.842) roc_auc: (train=0.847, test=0.695) total time=   0.4s\n",
      "[CV 2/5] END classifier__max_depth=8, classifier__min_samples_leaf=3, classifier__min_samples_split=10, classifier__n_estimators=160; accuracy: (train=0.843, test=0.842) roc_auc: (train=0.850, test=0.684) total time=   0.4s\n",
      "[CV 3/5] END classifier__max_depth=8, classifier__min_samples_leaf=3, classifier__min_samples_split=10, classifier__n_estimators=160; accuracy: (train=0.842, test=0.843) roc_auc: (train=0.850, test=0.723) total time=   0.4s\n",
      "[CV 4/5] END classifier__max_depth=8, classifier__min_samples_leaf=3, classifier__min_samples_split=10, classifier__n_estimators=160; accuracy: (train=0.842, test=0.843) roc_auc: (train=0.849, test=0.696) total time=   0.4s\n",
      "[CV 5/5] END classifier__max_depth=8, classifier__min_samples_leaf=3, classifier__min_samples_split=10, classifier__n_estimators=160; accuracy: (train=0.842, test=0.843) roc_auc: (train=0.847, test=0.735) total time=   0.4s\n",
      "[CV 1/5] END classifier__max_depth=8, classifier__min_samples_leaf=3, classifier__min_samples_split=10, classifier__n_estimators=240; accuracy: (train=0.843, test=0.842) roc_auc: (train=0.848, test=0.694) total time=   0.6s\n",
      "[CV 2/5] END classifier__max_depth=8, classifier__min_samples_leaf=3, classifier__min_samples_split=10, classifier__n_estimators=240; accuracy: (train=0.843, test=0.842) roc_auc: (train=0.850, test=0.684) total time=   0.6s\n",
      "[CV 3/5] END classifier__max_depth=8, classifier__min_samples_leaf=3, classifier__min_samples_split=10, classifier__n_estimators=240; accuracy: (train=0.842, test=0.843) roc_auc: (train=0.850, test=0.723) total time=   0.6s\n",
      "[CV 4/5] END classifier__max_depth=8, classifier__min_samples_leaf=3, classifier__min_samples_split=10, classifier__n_estimators=240; accuracy: (train=0.842, test=0.843) roc_auc: (train=0.851, test=0.697) total time=   0.6s\n",
      "[CV 5/5] END classifier__max_depth=8, classifier__min_samples_leaf=3, classifier__min_samples_split=10, classifier__n_estimators=240; accuracy: (train=0.842, test=0.843) roc_auc: (train=0.848, test=0.737) total time=   0.6s\n",
      "[CV 1/5] END classifier__max_depth=8, classifier__min_samples_leaf=4, classifier__min_samples_split=2, classifier__n_estimators=100; accuracy: (train=0.843, test=0.842) roc_auc: (train=0.844, test=0.695) total time=   0.3s\n",
      "[CV 2/5] END classifier__max_depth=8, classifier__min_samples_leaf=4, classifier__min_samples_split=2, classifier__n_estimators=100; accuracy: (train=0.843, test=0.842) roc_auc: (train=0.847, test=0.681) total time=   0.3s\n",
      "[CV 3/5] END classifier__max_depth=8, classifier__min_samples_leaf=4, classifier__min_samples_split=2, classifier__n_estimators=100; accuracy: (train=0.843, test=0.842) roc_auc: (train=0.847, test=0.717) total time=   0.3s\n",
      "[CV 4/5] END classifier__max_depth=8, classifier__min_samples_leaf=4, classifier__min_samples_split=2, classifier__n_estimators=100; accuracy: (train=0.842, test=0.843) roc_auc: (train=0.846, test=0.694) total time=   0.3s\n",
      "[CV 5/5] END classifier__max_depth=8, classifier__min_samples_leaf=4, classifier__min_samples_split=2, classifier__n_estimators=100; accuracy: (train=0.842, test=0.843) roc_auc: (train=0.845, test=0.731) total time=   0.3s\n",
      "[CV 1/5] END classifier__max_depth=8, classifier__min_samples_leaf=4, classifier__min_samples_split=2, classifier__n_estimators=160; accuracy: (train=0.843, test=0.842) roc_auc: (train=0.845, test=0.697) total time=   0.4s\n",
      "[CV 2/5] END classifier__max_depth=8, classifier__min_samples_leaf=4, classifier__min_samples_split=2, classifier__n_estimators=160; accuracy: (train=0.843, test=0.842) roc_auc: (train=0.848, test=0.680) total time=   0.5s\n",
      "[CV 3/5] END classifier__max_depth=8, classifier__min_samples_leaf=4, classifier__min_samples_split=2, classifier__n_estimators=160; accuracy: (train=0.842, test=0.843) roc_auc: (train=0.849, test=0.718) total time=   0.4s\n",
      "[CV 4/5] END classifier__max_depth=8, classifier__min_samples_leaf=4, classifier__min_samples_split=2, classifier__n_estimators=160; accuracy: (train=0.842, test=0.843) roc_auc: (train=0.847, test=0.695) total time=   0.5s\n",
      "[CV 5/5] END classifier__max_depth=8, classifier__min_samples_leaf=4, classifier__min_samples_split=2, classifier__n_estimators=160; accuracy: (train=0.842, test=0.843) roc_auc: (train=0.846, test=0.735) total time=   0.4s\n",
      "[CV 1/5] END classifier__max_depth=8, classifier__min_samples_leaf=4, classifier__min_samples_split=2, classifier__n_estimators=240; accuracy: (train=0.843, test=0.842) roc_auc: (train=0.845, test=0.695) total time=   0.7s\n",
      "[CV 2/5] END classifier__max_depth=8, classifier__min_samples_leaf=4, classifier__min_samples_split=2, classifier__n_estimators=240; accuracy: (train=0.843, test=0.842) roc_auc: (train=0.848, test=0.682) total time=   0.7s\n",
      "[CV 3/5] END classifier__max_depth=8, classifier__min_samples_leaf=4, classifier__min_samples_split=2, classifier__n_estimators=240; accuracy: (train=0.842, test=0.843) roc_auc: (train=0.848, test=0.719) total time=   0.6s\n",
      "[CV 4/5] END classifier__max_depth=8, classifier__min_samples_leaf=4, classifier__min_samples_split=2, classifier__n_estimators=240; accuracy: (train=0.842, test=0.843) roc_auc: (train=0.847, test=0.697) total time=   0.6s\n",
      "[CV 5/5] END classifier__max_depth=8, classifier__min_samples_leaf=4, classifier__min_samples_split=2, classifier__n_estimators=240; accuracy: (train=0.842, test=0.843) roc_auc: (train=0.846, test=0.732) total time=   0.6s\n",
      "[CV 1/5] END classifier__max_depth=8, classifier__min_samples_leaf=4, classifier__min_samples_split=6, classifier__n_estimators=100; accuracy: (train=0.843, test=0.842) roc_auc: (train=0.844, test=0.695) total time=   0.3s\n",
      "[CV 2/5] END classifier__max_depth=8, classifier__min_samples_leaf=4, classifier__min_samples_split=6, classifier__n_estimators=100; accuracy: (train=0.843, test=0.842) roc_auc: (train=0.847, test=0.681) total time=   0.3s\n",
      "[CV 3/5] END classifier__max_depth=8, classifier__min_samples_leaf=4, classifier__min_samples_split=6, classifier__n_estimators=100; accuracy: (train=0.843, test=0.842) roc_auc: (train=0.847, test=0.717) total time=   0.3s\n",
      "[CV 4/5] END classifier__max_depth=8, classifier__min_samples_leaf=4, classifier__min_samples_split=6, classifier__n_estimators=100; accuracy: (train=0.842, test=0.843) roc_auc: (train=0.846, test=0.694) total time=   0.3s\n",
      "[CV 5/5] END classifier__max_depth=8, classifier__min_samples_leaf=4, classifier__min_samples_split=6, classifier__n_estimators=100; accuracy: (train=0.842, test=0.843) roc_auc: (train=0.845, test=0.731) total time=   0.3s\n",
      "[CV 1/5] END classifier__max_depth=8, classifier__min_samples_leaf=4, classifier__min_samples_split=6, classifier__n_estimators=160; accuracy: (train=0.843, test=0.842) roc_auc: (train=0.845, test=0.697) total time=   0.5s\n",
      "[CV 2/5] END classifier__max_depth=8, classifier__min_samples_leaf=4, classifier__min_samples_split=6, classifier__n_estimators=160; accuracy: (train=0.843, test=0.842) roc_auc: (train=0.848, test=0.680) total time=   0.5s\n",
      "[CV 3/5] END classifier__max_depth=8, classifier__min_samples_leaf=4, classifier__min_samples_split=6, classifier__n_estimators=160; accuracy: (train=0.842, test=0.843) roc_auc: (train=0.849, test=0.718) total time=   0.5s\n",
      "[CV 4/5] END classifier__max_depth=8, classifier__min_samples_leaf=4, classifier__min_samples_split=6, classifier__n_estimators=160; accuracy: (train=0.842, test=0.843) roc_auc: (train=0.847, test=0.695) total time=   0.4s\n",
      "[CV 5/5] END classifier__max_depth=8, classifier__min_samples_leaf=4, classifier__min_samples_split=6, classifier__n_estimators=160; accuracy: (train=0.842, test=0.843) roc_auc: (train=0.846, test=0.735) total time=   0.4s\n",
      "[CV 1/5] END classifier__max_depth=8, classifier__min_samples_leaf=4, classifier__min_samples_split=6, classifier__n_estimators=240; accuracy: (train=0.843, test=0.842) roc_auc: (train=0.845, test=0.695) total time=   0.6s\n",
      "[CV 2/5] END classifier__max_depth=8, classifier__min_samples_leaf=4, classifier__min_samples_split=6, classifier__n_estimators=240; accuracy: (train=0.843, test=0.842) roc_auc: (train=0.848, test=0.682) total time=   0.6s\n",
      "[CV 3/5] END classifier__max_depth=8, classifier__min_samples_leaf=4, classifier__min_samples_split=6, classifier__n_estimators=240; accuracy: (train=0.842, test=0.843) roc_auc: (train=0.848, test=0.719) total time=   0.6s\n",
      "[CV 4/5] END classifier__max_depth=8, classifier__min_samples_leaf=4, classifier__min_samples_split=6, classifier__n_estimators=240; accuracy: (train=0.842, test=0.843) roc_auc: (train=0.847, test=0.697) total time=   0.6s\n",
      "[CV 5/5] END classifier__max_depth=8, classifier__min_samples_leaf=4, classifier__min_samples_split=6, classifier__n_estimators=240; accuracy: (train=0.842, test=0.843) roc_auc: (train=0.846, test=0.732) total time=   0.6s\n",
      "[CV 1/5] END classifier__max_depth=8, classifier__min_samples_leaf=4, classifier__min_samples_split=10, classifier__n_estimators=100; accuracy: (train=0.843, test=0.842) roc_auc: (train=0.842, test=0.689) total time=   0.3s\n",
      "[CV 2/5] END classifier__max_depth=8, classifier__min_samples_leaf=4, classifier__min_samples_split=10, classifier__n_estimators=100; accuracy: (train=0.843, test=0.842) roc_auc: (train=0.846, test=0.684) total time=   0.3s\n",
      "[CV 3/5] END classifier__max_depth=8, classifier__min_samples_leaf=4, classifier__min_samples_split=10, classifier__n_estimators=100; accuracy: (train=0.842, test=0.843) roc_auc: (train=0.846, test=0.724) total time=   0.3s\n",
      "[CV 4/5] END classifier__max_depth=8, classifier__min_samples_leaf=4, classifier__min_samples_split=10, classifier__n_estimators=100; accuracy: (train=0.842, test=0.843) roc_auc: (train=0.844, test=0.696) total time=   0.3s\n",
      "[CV 5/5] END classifier__max_depth=8, classifier__min_samples_leaf=4, classifier__min_samples_split=10, classifier__n_estimators=100; accuracy: (train=0.842, test=0.843) roc_auc: (train=0.843, test=0.735) total time=   0.3s\n",
      "[CV 1/5] END classifier__max_depth=8, classifier__min_samples_leaf=4, classifier__min_samples_split=10, classifier__n_estimators=160; accuracy: (train=0.843, test=0.842) roc_auc: (train=0.844, test=0.693) total time=   0.4s\n",
      "[CV 2/5] END classifier__max_depth=8, classifier__min_samples_leaf=4, classifier__min_samples_split=10, classifier__n_estimators=160; accuracy: (train=0.843, test=0.842) roc_auc: (train=0.847, test=0.685) total time=   0.5s\n",
      "[CV 3/5] END classifier__max_depth=8, classifier__min_samples_leaf=4, classifier__min_samples_split=10, classifier__n_estimators=160; accuracy: (train=0.842, test=0.843) roc_auc: (train=0.847, test=0.724) total time=   0.5s\n",
      "[CV 4/5] END classifier__max_depth=8, classifier__min_samples_leaf=4, classifier__min_samples_split=10, classifier__n_estimators=160; accuracy: (train=0.842, test=0.843) roc_auc: (train=0.844, test=0.695) total time=   0.4s\n",
      "[CV 5/5] END classifier__max_depth=8, classifier__min_samples_leaf=4, classifier__min_samples_split=10, classifier__n_estimators=160; accuracy: (train=0.842, test=0.843) roc_auc: (train=0.843, test=0.738) total time=   0.4s\n",
      "[CV 1/5] END classifier__max_depth=8, classifier__min_samples_leaf=4, classifier__min_samples_split=10, classifier__n_estimators=240; accuracy: (train=0.843, test=0.842) roc_auc: (train=0.844, test=0.693) total time=   0.6s\n",
      "[CV 2/5] END classifier__max_depth=8, classifier__min_samples_leaf=4, classifier__min_samples_split=10, classifier__n_estimators=240; accuracy: (train=0.843, test=0.842) roc_auc: (train=0.847, test=0.684) total time=   0.6s\n",
      "[CV 3/5] END classifier__max_depth=8, classifier__min_samples_leaf=4, classifier__min_samples_split=10, classifier__n_estimators=240; accuracy: (train=0.842, test=0.843) roc_auc: (train=0.846, test=0.723) total time=   0.6s\n",
      "[CV 4/5] END classifier__max_depth=8, classifier__min_samples_leaf=4, classifier__min_samples_split=10, classifier__n_estimators=240; accuracy: (train=0.842, test=0.843) roc_auc: (train=0.845, test=0.696) total time=   0.6s\n",
      "[CV 5/5] END classifier__max_depth=8, classifier__min_samples_leaf=4, classifier__min_samples_split=10, classifier__n_estimators=240; accuracy: (train=0.842, test=0.843) roc_auc: (train=0.844, test=0.738) total time=   0.7s\n"
     ]
    },
    {
     "data": {
      "text/plain": [
       "GridSearchCV(cv=5,\n",
       "             estimator=Pipeline(steps=[('encoder',\n",
       "                                        ColumnTransformer(transformers=[('cat',\n",
       "                                                                         OrdinalEncoder(handle_unknown='use_encoded_value',\n",
       "                                                                                        unknown_value=-1),\n",
       "                                                                         ['Type',\n",
       "                                                                          'PaperlessBilling',\n",
       "                                                                          'PaymentMethod',\n",
       "                                                                          'gender',\n",
       "                                                                          'Partner',\n",
       "                                                                          'Dependents',\n",
       "                                                                          'InternetService',\n",
       "                                                                          'OnlineSecurity',\n",
       "                                                                          'OnlineBackup',\n",
       "                                                                          'DeviceProtection',\n",
       "                                                                          'TechSupport',\n",
       "                                                                          'StreamingTV',\n",
       "                                                                          'StreamingMovies',\n",
       "                                                                          'MultipleLines'])])),\n",
       "                                       ('classifier',\n",
       "                                        RandomForestClassifier(criterion='entropy',\n",
       "                                                               random_state=140823))]),\n",
       "             n_jobs=-1,\n",
       "             param_grid={'classifier__max_depth': [6, 8],\n",
       "                         'classifier__min_samples_leaf': [1, 3, 4],\n",
       "                         'classifier__min_samples_split': [2, 6, 10],\n",
       "                         'classifier__n_estimators': [100, 160, 240]},\n",
       "             refit='roc_auc', return_train_score=True,\n",
       "             scoring=['roc_auc', 'accuracy'], verbose=3)"
      ]
     },
     "execution_count": 32,
     "metadata": {},
     "output_type": "execute_result"
    }
   ],
   "source": [
    "grid_rfc.fit(X_train, y_train)"
   ]
  },
  {
   "cell_type": "code",
   "execution_count": 33,
   "metadata": {
    "scrolled": false
   },
   "outputs": [
    {
     "name": "stdout",
     "output_type": "stream",
     "text": [
      "Лучшие параметры - {'classifier__max_depth': 6, 'classifier__min_samples_leaf': 1, 'classifier__min_samples_split': 2, 'classifier__n_estimators': 100} , лучший результат - 0.7119066307617606\n"
     ]
    }
   ],
   "source": [
    "print('Лучшие параметры -', grid_rfc.best_params_, ', лучший результат -', grid_rfc.best_score_)"
   ]
  },
  {
   "cell_type": "markdown",
   "metadata": {},
   "source": [
    "Такой результат нас не устроит, перейдем к более продвинутым алгоритмам"
   ]
  },
  {
   "cell_type": "markdown",
   "metadata": {},
   "source": [
    "### LGBMClassifier"
   ]
  },
  {
   "cell_type": "markdown",
   "metadata": {},
   "source": [
    "Объявляем алгоритм LightGBM Classifier, его настраиваемые параметры и оборачиваем его в GridSearchCV"
   ]
  },
  {
   "cell_type": "code",
   "execution_count": 34,
   "metadata": {},
   "outputs": [],
   "source": [
    "lgb = LGBMClassifier(random_state=RANDOM_STATE, n_jobs=-1)\n",
    "param_grid = {'max_depth': [4, 5, 6],\n",
    "              'learning_rate': [0.1, 0.15],\n",
    "              'num_leaves': [31, 52, 64],\n",
    "              'colsample_bytree': [0.8, 1],\n",
    "              'n_estimators': [160, 240, 400]\n",
    "             }\n",
    "grid_lgb = GridSearchCV(lgb, param_grid, scoring=['roc_auc', 'accuracy'],\n",
    "                   refit='roc_auc', return_train_score=True, cv=5, verbose=3, n_jobs=-1)"
   ]
  },
  {
   "cell_type": "markdown",
   "metadata": {},
   "source": [
    "Подбираем параметры"
   ]
  },
  {
   "cell_type": "code",
   "execution_count": 35,
   "metadata": {
    "scrolled": true
   },
   "outputs": [
    {
     "name": "stdout",
     "output_type": "stream",
     "text": [
      "Fitting 5 folds for each of 108 candidates, totalling 540 fits\n",
      "[CV 1/5] END colsample_bytree=0.8, learning_rate=0.1, max_depth=4, n_estimators=160, num_leaves=31; accuracy: (train=0.919, test=0.879) roc_auc: (train=0.957, test=0.894) total time=   0.8s\n",
      "[CV 2/5] END colsample_bytree=0.8, learning_rate=0.1, max_depth=4, n_estimators=160, num_leaves=31; accuracy: (train=0.922, test=0.866) roc_auc: (train=0.960, test=0.812) total time=   0.8s\n",
      "[CV 3/5] END colsample_bytree=0.8, learning_rate=0.1, max_depth=4, n_estimators=160, num_leaves=31; accuracy: (train=0.922, test=0.878) roc_auc: (train=0.959, test=0.863) total time=   0.7s\n",
      "[CV 4/5] END colsample_bytree=0.8, learning_rate=0.1, max_depth=4, n_estimators=160, num_leaves=31; accuracy: (train=0.924, test=0.868) roc_auc: (train=0.959, test=0.859) total time=   0.8s\n",
      "[CV 5/5] END colsample_bytree=0.8, learning_rate=0.1, max_depth=4, n_estimators=160, num_leaves=31; accuracy: (train=0.918, test=0.884) roc_auc: (train=0.957, test=0.890) total time=   0.7s\n",
      "[CV 1/5] END colsample_bytree=0.8, learning_rate=0.1, max_depth=4, n_estimators=160, num_leaves=52; accuracy: (train=0.919, test=0.879) roc_auc: (train=0.957, test=0.894) total time=   0.7s\n",
      "[CV 2/5] END colsample_bytree=0.8, learning_rate=0.1, max_depth=4, n_estimators=160, num_leaves=52; accuracy: (train=0.922, test=0.866) roc_auc: (train=0.960, test=0.812) total time=   0.9s\n",
      "[CV 3/5] END colsample_bytree=0.8, learning_rate=0.1, max_depth=4, n_estimators=160, num_leaves=52; accuracy: (train=0.922, test=0.878) roc_auc: (train=0.959, test=0.863) total time=   0.7s\n",
      "[CV 4/5] END colsample_bytree=0.8, learning_rate=0.1, max_depth=4, n_estimators=160, num_leaves=52; accuracy: (train=0.924, test=0.868) roc_auc: (train=0.959, test=0.859) total time=   0.9s\n",
      "[CV 5/5] END colsample_bytree=0.8, learning_rate=0.1, max_depth=4, n_estimators=160, num_leaves=52; accuracy: (train=0.918, test=0.884) roc_auc: (train=0.957, test=0.890) total time=   0.8s\n",
      "[CV 1/5] END colsample_bytree=0.8, learning_rate=0.1, max_depth=4, n_estimators=160, num_leaves=64; accuracy: (train=0.919, test=0.879) roc_auc: (train=0.957, test=0.894) total time=   0.8s\n",
      "[CV 2/5] END colsample_bytree=0.8, learning_rate=0.1, max_depth=4, n_estimators=160, num_leaves=64; accuracy: (train=0.922, test=0.866) roc_auc: (train=0.960, test=0.812) total time=   0.8s\n",
      "[CV 3/5] END colsample_bytree=0.8, learning_rate=0.1, max_depth=4, n_estimators=160, num_leaves=64; accuracy: (train=0.922, test=0.878) roc_auc: (train=0.959, test=0.863) total time=   0.7s\n",
      "[CV 4/5] END colsample_bytree=0.8, learning_rate=0.1, max_depth=4, n_estimators=160, num_leaves=64; accuracy: (train=0.924, test=0.868) roc_auc: (train=0.959, test=0.859) total time=   0.7s\n",
      "[CV 5/5] END colsample_bytree=0.8, learning_rate=0.1, max_depth=4, n_estimators=160, num_leaves=64; accuracy: (train=0.918, test=0.884) roc_auc: (train=0.957, test=0.890) total time=   0.7s\n",
      "[CV 1/5] END colsample_bytree=0.8, learning_rate=0.1, max_depth=4, n_estimators=240, num_leaves=31; accuracy: (train=0.941, test=0.902) roc_auc: (train=0.977, test=0.909) total time=   1.0s\n",
      "[CV 2/5] END colsample_bytree=0.8, learning_rate=0.1, max_depth=4, n_estimators=240, num_leaves=31; accuracy: (train=0.944, test=0.886) roc_auc: (train=0.981, test=0.839) total time=   1.0s\n",
      "[CV 3/5] END colsample_bytree=0.8, learning_rate=0.1, max_depth=4, n_estimators=240, num_leaves=31; accuracy: (train=0.942, test=0.884) roc_auc: (train=0.979, test=0.877) total time=   1.0s\n",
      "[CV 4/5] END colsample_bytree=0.8, learning_rate=0.1, max_depth=4, n_estimators=240, num_leaves=31; accuracy: (train=0.946, test=0.873) roc_auc: (train=0.978, test=0.869) total time=   1.1s\n",
      "[CV 5/5] END colsample_bytree=0.8, learning_rate=0.1, max_depth=4, n_estimators=240, num_leaves=31; accuracy: (train=0.939, test=0.897) roc_auc: (train=0.978, test=0.905) total time=   1.1s\n",
      "[CV 1/5] END colsample_bytree=0.8, learning_rate=0.1, max_depth=4, n_estimators=240, num_leaves=52; accuracy: (train=0.941, test=0.902) roc_auc: (train=0.977, test=0.909) total time=   1.1s\n",
      "[CV 2/5] END colsample_bytree=0.8, learning_rate=0.1, max_depth=4, n_estimators=240, num_leaves=52; accuracy: (train=0.944, test=0.886) roc_auc: (train=0.981, test=0.839) total time=   1.3s\n",
      "[CV 3/5] END colsample_bytree=0.8, learning_rate=0.1, max_depth=4, n_estimators=240, num_leaves=52; accuracy: (train=0.942, test=0.884) roc_auc: (train=0.979, test=0.877) total time=   1.0s\n",
      "[CV 4/5] END colsample_bytree=0.8, learning_rate=0.1, max_depth=4, n_estimators=240, num_leaves=52; accuracy: (train=0.946, test=0.873) roc_auc: (train=0.978, test=0.869) total time=   1.0s\n",
      "[CV 5/5] END colsample_bytree=0.8, learning_rate=0.1, max_depth=4, n_estimators=240, num_leaves=52; accuracy: (train=0.939, test=0.897) roc_auc: (train=0.978, test=0.905) total time=   1.1s\n",
      "[CV 1/5] END colsample_bytree=0.8, learning_rate=0.1, max_depth=4, n_estimators=240, num_leaves=64; accuracy: (train=0.941, test=0.902) roc_auc: (train=0.977, test=0.909) total time=   1.0s\n",
      "[CV 2/5] END colsample_bytree=0.8, learning_rate=0.1, max_depth=4, n_estimators=240, num_leaves=64; accuracy: (train=0.944, test=0.886) roc_auc: (train=0.981, test=0.839) total time=   1.0s\n",
      "[CV 3/5] END colsample_bytree=0.8, learning_rate=0.1, max_depth=4, n_estimators=240, num_leaves=64; accuracy: (train=0.942, test=0.884) roc_auc: (train=0.979, test=0.877) total time=   1.0s\n",
      "[CV 4/5] END colsample_bytree=0.8, learning_rate=0.1, max_depth=4, n_estimators=240, num_leaves=64; accuracy: (train=0.946, test=0.873) roc_auc: (train=0.978, test=0.869) total time=   1.0s\n",
      "[CV 5/5] END colsample_bytree=0.8, learning_rate=0.1, max_depth=4, n_estimators=240, num_leaves=64; accuracy: (train=0.939, test=0.897) roc_auc: (train=0.978, test=0.905) total time=   0.9s\n",
      "[CV 1/5] END colsample_bytree=0.8, learning_rate=0.1, max_depth=4, n_estimators=400, num_leaves=31; accuracy: (train=0.964, test=0.909) roc_auc: (train=0.993, test=0.915) total time=   1.5s\n",
      "[CV 2/5] END colsample_bytree=0.8, learning_rate=0.1, max_depth=4, n_estimators=400, num_leaves=31; accuracy: (train=0.968, test=0.900) roc_auc: (train=0.994, test=0.850) total time=   1.5s\n",
      "[CV 3/5] END colsample_bytree=0.8, learning_rate=0.1, max_depth=4, n_estimators=400, num_leaves=31; accuracy: (train=0.966, test=0.901) roc_auc: (train=0.994, test=0.889) total time=   1.6s\n",
      "[CV 4/5] END colsample_bytree=0.8, learning_rate=0.1, max_depth=4, n_estimators=400, num_leaves=31; accuracy: (train=0.969, test=0.883) roc_auc: (train=0.993, test=0.875) total time=   1.6s\n",
      "[CV 5/5] END colsample_bytree=0.8, learning_rate=0.1, max_depth=4, n_estimators=400, num_leaves=31; accuracy: (train=0.966, test=0.898) roc_auc: (train=0.992, test=0.916) total time=   1.5s\n",
      "[CV 1/5] END colsample_bytree=0.8, learning_rate=0.1, max_depth=4, n_estimators=400, num_leaves=52; accuracy: (train=0.964, test=0.909) roc_auc: (train=0.993, test=0.915) total time=   1.6s\n",
      "[CV 2/5] END colsample_bytree=0.8, learning_rate=0.1, max_depth=4, n_estimators=400, num_leaves=52; accuracy: (train=0.968, test=0.900) roc_auc: (train=0.994, test=0.850) total time=   1.6s\n",
      "[CV 3/5] END colsample_bytree=0.8, learning_rate=0.1, max_depth=4, n_estimators=400, num_leaves=52; accuracy: (train=0.966, test=0.901) roc_auc: (train=0.994, test=0.889) total time=   1.6s\n",
      "[CV 4/5] END colsample_bytree=0.8, learning_rate=0.1, max_depth=4, n_estimators=400, num_leaves=52; accuracy: (train=0.969, test=0.883) roc_auc: (train=0.993, test=0.875) total time=   1.7s\n",
      "[CV 5/5] END colsample_bytree=0.8, learning_rate=0.1, max_depth=4, n_estimators=400, num_leaves=52; accuracy: (train=0.966, test=0.898) roc_auc: (train=0.992, test=0.916) total time=   1.7s\n",
      "[CV 1/5] END colsample_bytree=0.8, learning_rate=0.1, max_depth=4, n_estimators=400, num_leaves=64; accuracy: (train=0.964, test=0.909) roc_auc: (train=0.993, test=0.915) total time=   1.4s\n",
      "[CV 2/5] END colsample_bytree=0.8, learning_rate=0.1, max_depth=4, n_estimators=400, num_leaves=64; accuracy: (train=0.968, test=0.900) roc_auc: (train=0.994, test=0.850) total time=   1.6s\n",
      "[CV 3/5] END colsample_bytree=0.8, learning_rate=0.1, max_depth=4, n_estimators=400, num_leaves=64; accuracy: (train=0.966, test=0.901) roc_auc: (train=0.994, test=0.889) total time=   1.7s\n",
      "[CV 4/5] END colsample_bytree=0.8, learning_rate=0.1, max_depth=4, n_estimators=400, num_leaves=64; accuracy: (train=0.969, test=0.883) roc_auc: (train=0.993, test=0.875) total time=   1.7s\n",
      "[CV 5/5] END colsample_bytree=0.8, learning_rate=0.1, max_depth=4, n_estimators=400, num_leaves=64; accuracy: (train=0.966, test=0.898) roc_auc: (train=0.992, test=0.916) total time=   1.6s\n",
      "[CV 1/5] END colsample_bytree=0.8, learning_rate=0.1, max_depth=5, n_estimators=160, num_leaves=31; accuracy: (train=0.939, test=0.880) roc_auc: (train=0.981, test=0.888) total time=   1.0s\n",
      "[CV 2/5] END colsample_bytree=0.8, learning_rate=0.1, max_depth=5, n_estimators=160, num_leaves=31; accuracy: (train=0.945, test=0.870) roc_auc: (train=0.983, test=0.817) total time=   0.9s\n",
      "[CV 3/5] END colsample_bytree=0.8, learning_rate=0.1, max_depth=5, n_estimators=160, num_leaves=31; accuracy: (train=0.942, test=0.882) roc_auc: (train=0.982, test=0.870) total time=   1.0s\n",
      "[CV 4/5] END colsample_bytree=0.8, learning_rate=0.1, max_depth=5, n_estimators=160, num_leaves=31; accuracy: (train=0.947, test=0.866) roc_auc: (train=0.984, test=0.856) total time=   1.1s\n",
      "[CV 5/5] END colsample_bytree=0.8, learning_rate=0.1, max_depth=5, n_estimators=160, num_leaves=31; accuracy: (train=0.937, test=0.876) roc_auc: (train=0.979, test=0.891) total time=   1.1s\n",
      "[CV 1/5] END colsample_bytree=0.8, learning_rate=0.1, max_depth=5, n_estimators=160, num_leaves=52; accuracy: (train=0.940, test=0.877) roc_auc: (train=0.981, test=0.889) total time=   1.1s\n",
      "[CV 2/5] END colsample_bytree=0.8, learning_rate=0.1, max_depth=5, n_estimators=160, num_leaves=52; accuracy: (train=0.945, test=0.870) roc_auc: (train=0.983, test=0.817) total time=   1.1s\n",
      "[CV 3/5] END colsample_bytree=0.8, learning_rate=0.1, max_depth=5, n_estimators=160, num_leaves=52; accuracy: (train=0.942, test=0.882) roc_auc: (train=0.982, test=0.870) total time=   1.1s\n",
      "[CV 4/5] END colsample_bytree=0.8, learning_rate=0.1, max_depth=5, n_estimators=160, num_leaves=52; accuracy: (train=0.947, test=0.866) roc_auc: (train=0.984, test=0.856) total time=   1.1s\n",
      "[CV 5/5] END colsample_bytree=0.8, learning_rate=0.1, max_depth=5, n_estimators=160, num_leaves=52; accuracy: (train=0.937, test=0.876) roc_auc: (train=0.979, test=0.891) total time=   1.0s\n",
      "[CV 1/5] END colsample_bytree=0.8, learning_rate=0.1, max_depth=5, n_estimators=160, num_leaves=64; accuracy: (train=0.940, test=0.877) roc_auc: (train=0.981, test=0.889) total time=   1.2s\n",
      "[CV 2/5] END colsample_bytree=0.8, learning_rate=0.1, max_depth=5, n_estimators=160, num_leaves=64; accuracy: (train=0.945, test=0.870) roc_auc: (train=0.983, test=0.817) total time=   1.1s\n",
      "[CV 3/5] END colsample_bytree=0.8, learning_rate=0.1, max_depth=5, n_estimators=160, num_leaves=64; accuracy: (train=0.942, test=0.882) roc_auc: (train=0.982, test=0.870) total time=   1.1s\n",
      "[CV 4/5] END colsample_bytree=0.8, learning_rate=0.1, max_depth=5, n_estimators=160, num_leaves=64; accuracy: (train=0.947, test=0.866) roc_auc: (train=0.984, test=0.856) total time=   1.1s\n",
      "[CV 5/5] END colsample_bytree=0.8, learning_rate=0.1, max_depth=5, n_estimators=160, num_leaves=64; accuracy: (train=0.937, test=0.876) roc_auc: (train=0.979, test=0.891) total time=   1.1s\n",
      "[CV 1/5] END colsample_bytree=0.8, learning_rate=0.1, max_depth=5, n_estimators=240, num_leaves=31; accuracy: (train=0.961, test=0.893) roc_auc: (train=0.992, test=0.905) total time=   1.4s\n",
      "[CV 2/5] END colsample_bytree=0.8, learning_rate=0.1, max_depth=5, n_estimators=240, num_leaves=31; accuracy: (train=0.967, test=0.886) roc_auc: (train=0.994, test=0.840) total time=   1.5s\n",
      "[CV 3/5] END colsample_bytree=0.8, learning_rate=0.1, max_depth=5, n_estimators=240, num_leaves=31; accuracy: (train=0.963, test=0.885) roc_auc: (train=0.993, test=0.884) total time=   1.4s\n",
      "[CV 4/5] END colsample_bytree=0.8, learning_rate=0.1, max_depth=5, n_estimators=240, num_leaves=31; accuracy: (train=0.968, test=0.875) roc_auc: (train=0.995, test=0.866) total time=   1.5s\n",
      "[CV 5/5] END colsample_bytree=0.8, learning_rate=0.1, max_depth=5, n_estimators=240, num_leaves=31; accuracy: (train=0.961, test=0.877) roc_auc: (train=0.992, test=0.898) total time=   1.5s\n",
      "[CV 1/5] END colsample_bytree=0.8, learning_rate=0.1, max_depth=5, n_estimators=240, num_leaves=52; accuracy: (train=0.960, test=0.895) roc_auc: (train=0.993, test=0.899) total time=   1.3s\n",
      "[CV 2/5] END colsample_bytree=0.8, learning_rate=0.1, max_depth=5, n_estimators=240, num_leaves=52; accuracy: (train=0.966, test=0.882) roc_auc: (train=0.994, test=0.835) total time=   1.3s\n",
      "[CV 3/5] END colsample_bytree=0.8, learning_rate=0.1, max_depth=5, n_estimators=240, num_leaves=52; accuracy: (train=0.963, test=0.885) roc_auc: (train=0.993, test=0.884) total time=   1.6s\n",
      "[CV 4/5] END colsample_bytree=0.8, learning_rate=0.1, max_depth=5, n_estimators=240, num_leaves=52; accuracy: (train=0.968, test=0.876) roc_auc: (train=0.995, test=0.866) total time=   1.5s\n",
      "[CV 5/5] END colsample_bytree=0.8, learning_rate=0.1, max_depth=5, n_estimators=240, num_leaves=52; accuracy: (train=0.961, test=0.877) roc_auc: (train=0.992, test=0.898) total time=   1.5s\n",
      "[CV 1/5] END colsample_bytree=0.8, learning_rate=0.1, max_depth=5, n_estimators=240, num_leaves=64; accuracy: (train=0.960, test=0.895) roc_auc: (train=0.993, test=0.899) total time=   1.5s\n",
      "[CV 2/5] END colsample_bytree=0.8, learning_rate=0.1, max_depth=5, n_estimators=240, num_leaves=64; accuracy: (train=0.966, test=0.882) roc_auc: (train=0.994, test=0.835) total time=   1.5s\n",
      "[CV 3/5] END colsample_bytree=0.8, learning_rate=0.1, max_depth=5, n_estimators=240, num_leaves=64; accuracy: (train=0.963, test=0.885) roc_auc: (train=0.993, test=0.884) total time=   1.3s\n",
      "[CV 4/5] END colsample_bytree=0.8, learning_rate=0.1, max_depth=5, n_estimators=240, num_leaves=64; accuracy: (train=0.968, test=0.876) roc_auc: (train=0.995, test=0.866) total time=   1.5s\n",
      "[CV 5/5] END colsample_bytree=0.8, learning_rate=0.1, max_depth=5, n_estimators=240, num_leaves=64; accuracy: (train=0.961, test=0.877) roc_auc: (train=0.992, test=0.898) total time=   1.5s\n",
      "[CV 1/5] END colsample_bytree=0.8, learning_rate=0.1, max_depth=5, n_estimators=400, num_leaves=31; accuracy: (train=0.984, test=0.902) roc_auc: (train=0.999, test=0.912) total time=   2.3s\n",
      "[CV 2/5] END colsample_bytree=0.8, learning_rate=0.1, max_depth=5, n_estimators=400, num_leaves=31; accuracy: (train=0.987, test=0.895) roc_auc: (train=1.000, test=0.846) total time=   2.3s\n",
      "[CV 3/5] END colsample_bytree=0.8, learning_rate=0.1, max_depth=5, n_estimators=400, num_leaves=31; accuracy: (train=0.986, test=0.899) roc_auc: (train=0.999, test=0.889) total time=   2.1s\n",
      "[CV 4/5] END colsample_bytree=0.8, learning_rate=0.1, max_depth=5, n_estimators=400, num_leaves=31; accuracy: (train=0.987, test=0.881) roc_auc: (train=0.999, test=0.872) total time=   2.2s\n",
      "[CV 5/5] END colsample_bytree=0.8, learning_rate=0.1, max_depth=5, n_estimators=400, num_leaves=31; accuracy: (train=0.981, test=0.899) roc_auc: (train=0.999, test=0.909) total time=   2.2s\n",
      "[CV 1/5] END colsample_bytree=0.8, learning_rate=0.1, max_depth=5, n_estimators=400, num_leaves=52; accuracy: (train=0.984, test=0.904) roc_auc: (train=0.999, test=0.914) total time=   2.2s\n",
      "[CV 2/5] END colsample_bytree=0.8, learning_rate=0.1, max_depth=5, n_estimators=400, num_leaves=52; accuracy: (train=0.987, test=0.896) roc_auc: (train=0.999, test=0.846) total time=   2.2s\n",
      "[CV 3/5] END colsample_bytree=0.8, learning_rate=0.1, max_depth=5, n_estimators=400, num_leaves=52; accuracy: (train=0.985, test=0.896) roc_auc: (train=0.999, test=0.888) total time=   2.1s\n",
      "[CV 4/5] END colsample_bytree=0.8, learning_rate=0.1, max_depth=5, n_estimators=400, num_leaves=52; accuracy: (train=0.988, test=0.883) roc_auc: (train=1.000, test=0.874) total time=   2.2s\n",
      "[CV 5/5] END colsample_bytree=0.8, learning_rate=0.1, max_depth=5, n_estimators=400, num_leaves=52; accuracy: (train=0.981, test=0.899) roc_auc: (train=0.999, test=0.909) total time=   2.3s\n",
      "[CV 1/5] END colsample_bytree=0.8, learning_rate=0.1, max_depth=5, n_estimators=400, num_leaves=64; accuracy: (train=0.984, test=0.904) roc_auc: (train=0.999, test=0.914) total time=   2.1s\n",
      "[CV 2/5] END colsample_bytree=0.8, learning_rate=0.1, max_depth=5, n_estimators=400, num_leaves=64; accuracy: (train=0.987, test=0.896) roc_auc: (train=0.999, test=0.846) total time=   2.1s\n",
      "[CV 3/5] END colsample_bytree=0.8, learning_rate=0.1, max_depth=5, n_estimators=400, num_leaves=64; accuracy: (train=0.985, test=0.896) roc_auc: (train=0.999, test=0.888) total time=   2.3s\n",
      "[CV 4/5] END colsample_bytree=0.8, learning_rate=0.1, max_depth=5, n_estimators=400, num_leaves=64; accuracy: (train=0.988, test=0.883) roc_auc: (train=1.000, test=0.874) total time=   2.4s\n",
      "[CV 5/5] END colsample_bytree=0.8, learning_rate=0.1, max_depth=5, n_estimators=400, num_leaves=64; accuracy: (train=0.981, test=0.899) roc_auc: (train=0.999, test=0.909) total time=   2.1s\n",
      "[CV 1/5] END colsample_bytree=0.8, learning_rate=0.1, max_depth=6, n_estimators=160, num_leaves=31; accuracy: (train=0.955, test=0.888) roc_auc: (train=0.990, test=0.896) total time=   1.2s\n",
      "[CV 2/5] END colsample_bytree=0.8, learning_rate=0.1, max_depth=6, n_estimators=160, num_leaves=31; accuracy: (train=0.961, test=0.880) roc_auc: (train=0.992, test=0.824) total time=   1.4s\n",
      "[CV 3/5] END colsample_bytree=0.8, learning_rate=0.1, max_depth=6, n_estimators=160, num_leaves=31; accuracy: (train=0.957, test=0.887) roc_auc: (train=0.993, test=0.867) total time=   1.2s\n",
      "[CV 4/5] END colsample_bytree=0.8, learning_rate=0.1, max_depth=6, n_estimators=160, num_leaves=31; accuracy: (train=0.960, test=0.867) roc_auc: (train=0.991, test=0.855) total time=   1.2s\n",
      "[CV 5/5] END colsample_bytree=0.8, learning_rate=0.1, max_depth=6, n_estimators=160, num_leaves=31; accuracy: (train=0.956, test=0.898) roc_auc: (train=0.990, test=0.906) total time=   1.2s\n",
      "[CV 1/5] END colsample_bytree=0.8, learning_rate=0.1, max_depth=6, n_estimators=160, num_leaves=52; accuracy: (train=0.956, test=0.886) roc_auc: (train=0.992, test=0.893) total time=   1.3s\n",
      "[CV 2/5] END colsample_bytree=0.8, learning_rate=0.1, max_depth=6, n_estimators=160, num_leaves=52; accuracy: (train=0.963, test=0.869) roc_auc: (train=0.994, test=0.824) total time=   1.4s\n",
      "[CV 3/5] END colsample_bytree=0.8, learning_rate=0.1, max_depth=6, n_estimators=160, num_leaves=52; accuracy: (train=0.957, test=0.882) roc_auc: (train=0.993, test=0.874) total time=   1.5s\n",
      "[CV 4/5] END colsample_bytree=0.8, learning_rate=0.1, max_depth=6, n_estimators=160, num_leaves=52; accuracy: (train=0.962, test=0.869) roc_auc: (train=0.993, test=0.862) total time=   1.4s\n",
      "[CV 5/5] END colsample_bytree=0.8, learning_rate=0.1, max_depth=6, n_estimators=160, num_leaves=52; accuracy: (train=0.958, test=0.889) roc_auc: (train=0.991, test=0.903) total time=   1.3s\n",
      "[CV 1/5] END colsample_bytree=0.8, learning_rate=0.1, max_depth=6, n_estimators=160, num_leaves=64; accuracy: (train=0.956, test=0.885) roc_auc: (train=0.992, test=0.892) total time=   1.3s\n",
      "[CV 2/5] END colsample_bytree=0.8, learning_rate=0.1, max_depth=6, n_estimators=160, num_leaves=64; accuracy: (train=0.963, test=0.868) roc_auc: (train=0.995, test=0.815) total time=   1.6s\n",
      "[CV 3/5] END colsample_bytree=0.8, learning_rate=0.1, max_depth=6, n_estimators=160, num_leaves=64; accuracy: (train=0.957, test=0.882) roc_auc: (train=0.993, test=0.874) total time=   1.3s\n",
      "[CV 4/5] END colsample_bytree=0.8, learning_rate=0.1, max_depth=6, n_estimators=160, num_leaves=64; accuracy: (train=0.961, test=0.877) roc_auc: (train=0.993, test=0.864) total time=   1.5s\n",
      "[CV 5/5] END colsample_bytree=0.8, learning_rate=0.1, max_depth=6, n_estimators=160, num_leaves=64; accuracy: (train=0.960, test=0.887) roc_auc: (train=0.992, test=0.904) total time=   1.3s\n",
      "[CV 1/5] END colsample_bytree=0.8, learning_rate=0.1, max_depth=6, n_estimators=240, num_leaves=31; accuracy: (train=0.974, test=0.902) roc_auc: (train=0.998, test=0.906) total time=   1.9s\n",
      "[CV 2/5] END colsample_bytree=0.8, learning_rate=0.1, max_depth=6, n_estimators=240, num_leaves=31; accuracy: (train=0.981, test=0.888) roc_auc: (train=0.999, test=0.834) total time=   1.9s\n",
      "[CV 3/5] END colsample_bytree=0.8, learning_rate=0.1, max_depth=6, n_estimators=240, num_leaves=31; accuracy: (train=0.978, test=0.894) roc_auc: (train=0.999, test=0.876) total time=   1.7s\n",
      "[CV 4/5] END colsample_bytree=0.8, learning_rate=0.1, max_depth=6, n_estimators=240, num_leaves=31; accuracy: (train=0.978, test=0.875) roc_auc: (train=0.998, test=0.863) total time=   1.6s\n",
      "[CV 5/5] END colsample_bytree=0.8, learning_rate=0.1, max_depth=6, n_estimators=240, num_leaves=31; accuracy: (train=0.977, test=0.902) roc_auc: (train=0.998, test=0.913) total time=   1.7s\n",
      "[CV 1/5] END colsample_bytree=0.8, learning_rate=0.1, max_depth=6, n_estimators=240, num_leaves=52; accuracy: (train=0.978, test=0.896) roc_auc: (train=0.998, test=0.905) total time=   2.0s\n",
      "[CV 2/5] END colsample_bytree=0.8, learning_rate=0.1, max_depth=6, n_estimators=240, num_leaves=52; accuracy: (train=0.980, test=0.882) roc_auc: (train=0.999, test=0.833) total time=   1.9s\n",
      "[CV 3/5] END colsample_bytree=0.8, learning_rate=0.1, max_depth=6, n_estimators=240, num_leaves=52; accuracy: (train=0.980, test=0.902) roc_auc: (train=0.999, test=0.884) total time=   1.9s\n",
      "[CV 4/5] END colsample_bytree=0.8, learning_rate=0.1, max_depth=6, n_estimators=240, num_leaves=52; accuracy: (train=0.982, test=0.874) roc_auc: (train=0.999, test=0.868) total time=   1.8s\n",
      "[CV 5/5] END colsample_bytree=0.8, learning_rate=0.1, max_depth=6, n_estimators=240, num_leaves=52; accuracy: (train=0.979, test=0.899) roc_auc: (train=0.998, test=0.913) total time=   1.8s\n",
      "[CV 1/5] END colsample_bytree=0.8, learning_rate=0.1, max_depth=6, n_estimators=240, num_leaves=64; accuracy: (train=0.978, test=0.897) roc_auc: (train=0.998, test=0.905) total time=   1.9s\n",
      "[CV 2/5] END colsample_bytree=0.8, learning_rate=0.1, max_depth=6, n_estimators=240, num_leaves=64; accuracy: (train=0.981, test=0.874) roc_auc: (train=0.998, test=0.825) total time=   1.9s\n",
      "[CV 3/5] END colsample_bytree=0.8, learning_rate=0.1, max_depth=6, n_estimators=240, num_leaves=64; accuracy: (train=0.979, test=0.897) roc_auc: (train=0.999, test=0.882) total time=   1.7s\n",
      "[CV 4/5] END colsample_bytree=0.8, learning_rate=0.1, max_depth=6, n_estimators=240, num_leaves=64; accuracy: (train=0.981, test=0.876) roc_auc: (train=0.998, test=0.870) total time=   1.7s\n",
      "[CV 5/5] END colsample_bytree=0.8, learning_rate=0.1, max_depth=6, n_estimators=240, num_leaves=64; accuracy: (train=0.981, test=0.894) roc_auc: (train=0.999, test=0.908) total time=   1.9s\n",
      "[CV 1/5] END colsample_bytree=0.8, learning_rate=0.1, max_depth=6, n_estimators=400, num_leaves=31; accuracy: (train=0.996, test=0.906) roc_auc: (train=1.000, test=0.906) total time=   2.9s\n",
      "[CV 2/5] END colsample_bytree=0.8, learning_rate=0.1, max_depth=6, n_estimators=400, num_leaves=31; accuracy: (train=0.996, test=0.896) roc_auc: (train=1.000, test=0.840) total time=   2.9s\n",
      "[CV 3/5] END colsample_bytree=0.8, learning_rate=0.1, max_depth=6, n_estimators=400, num_leaves=31; accuracy: (train=0.994, test=0.898) roc_auc: (train=1.000, test=0.879) total time=   2.6s\n",
      "[CV 4/5] END colsample_bytree=0.8, learning_rate=0.1, max_depth=6, n_estimators=400, num_leaves=31; accuracy: (train=0.996, test=0.882) roc_auc: (train=1.000, test=0.867) total time=   2.7s\n",
      "[CV 5/5] END colsample_bytree=0.8, learning_rate=0.1, max_depth=6, n_estimators=400, num_leaves=31; accuracy: (train=0.995, test=0.904) roc_auc: (train=1.000, test=0.911) total time=   2.9s\n",
      "[CV 1/5] END colsample_bytree=0.8, learning_rate=0.1, max_depth=6, n_estimators=400, num_leaves=52; accuracy: (train=0.996, test=0.905) roc_auc: (train=1.000, test=0.908) total time=   2.8s\n",
      "[CV 2/5] END colsample_bytree=0.8, learning_rate=0.1, max_depth=6, n_estimators=400, num_leaves=52; accuracy: (train=0.996, test=0.894) roc_auc: (train=1.000, test=0.840) total time=   3.0s\n",
      "[CV 3/5] END colsample_bytree=0.8, learning_rate=0.1, max_depth=6, n_estimators=400, num_leaves=52; accuracy: (train=0.996, test=0.896) roc_auc: (train=1.000, test=0.880) total time=   3.0s\n",
      "[CV 4/5] END colsample_bytree=0.8, learning_rate=0.1, max_depth=6, n_estimators=400, num_leaves=52; accuracy: (train=0.998, test=0.879) roc_auc: (train=1.000, test=0.870) total time=   3.0s\n",
      "[CV 5/5] END colsample_bytree=0.8, learning_rate=0.1, max_depth=6, n_estimators=400, num_leaves=52; accuracy: (train=0.996, test=0.899) roc_auc: (train=1.000, test=0.910) total time=   3.1s\n",
      "[CV 1/5] END colsample_bytree=0.8, learning_rate=0.1, max_depth=6, n_estimators=400, num_leaves=64; accuracy: (train=0.997, test=0.897) roc_auc: (train=1.000, test=0.906) total time=   3.3s\n",
      "[CV 2/5] END colsample_bytree=0.8, learning_rate=0.1, max_depth=6, n_estimators=400, num_leaves=64; accuracy: (train=0.996, test=0.890) roc_auc: (train=1.000, test=0.835) total time=   3.3s\n",
      "[CV 3/5] END colsample_bytree=0.8, learning_rate=0.1, max_depth=6, n_estimators=400, num_leaves=64; accuracy: (train=0.996, test=0.899) roc_auc: (train=1.000, test=0.884) total time=   3.1s\n",
      "[CV 4/5] END colsample_bytree=0.8, learning_rate=0.1, max_depth=6, n_estimators=400, num_leaves=64; accuracy: (train=0.995, test=0.876) roc_auc: (train=1.000, test=0.866) total time=   3.1s\n",
      "[CV 5/5] END colsample_bytree=0.8, learning_rate=0.1, max_depth=6, n_estimators=400, num_leaves=64; accuracy: (train=0.996, test=0.899) roc_auc: (train=1.000, test=0.909) total time=   3.1s\n",
      "[CV 1/5] END colsample_bytree=0.8, learning_rate=0.15, max_depth=4, n_estimators=160, num_leaves=31; accuracy: (train=0.938, test=0.886) roc_auc: (train=0.977, test=0.902) total time=   0.8s\n",
      "[CV 2/5] END colsample_bytree=0.8, learning_rate=0.15, max_depth=4, n_estimators=160, num_leaves=31; accuracy: (train=0.944, test=0.882) roc_auc: (train=0.980, test=0.833) total time=   0.8s\n",
      "[CV 3/5] END colsample_bytree=0.8, learning_rate=0.15, max_depth=4, n_estimators=160, num_leaves=31; accuracy: (train=0.943, test=0.889) roc_auc: (train=0.979, test=0.883) total time=   0.9s\n",
      "[CV 4/5] END colsample_bytree=0.8, learning_rate=0.15, max_depth=4, n_estimators=160, num_leaves=31; accuracy: (train=0.947, test=0.879) roc_auc: (train=0.978, test=0.865) total time=   0.7s\n",
      "[CV 5/5] END colsample_bytree=0.8, learning_rate=0.15, max_depth=4, n_estimators=160, num_leaves=31; accuracy: (train=0.941, test=0.898) roc_auc: (train=0.977, test=0.908) total time=   0.7s\n",
      "[CV 1/5] END colsample_bytree=0.8, learning_rate=0.15, max_depth=4, n_estimators=160, num_leaves=52; accuracy: (train=0.938, test=0.886) roc_auc: (train=0.977, test=0.902) total time=   0.7s\n",
      "[CV 2/5] END colsample_bytree=0.8, learning_rate=0.15, max_depth=4, n_estimators=160, num_leaves=52; accuracy: (train=0.944, test=0.882) roc_auc: (train=0.980, test=0.833) total time=   0.7s\n",
      "[CV 3/5] END colsample_bytree=0.8, learning_rate=0.15, max_depth=4, n_estimators=160, num_leaves=52; accuracy: (train=0.943, test=0.889) roc_auc: (train=0.979, test=0.883) total time=   0.7s\n",
      "[CV 4/5] END colsample_bytree=0.8, learning_rate=0.15, max_depth=4, n_estimators=160, num_leaves=52; accuracy: (train=0.947, test=0.879) roc_auc: (train=0.978, test=0.865) total time=   0.7s\n",
      "[CV 5/5] END colsample_bytree=0.8, learning_rate=0.15, max_depth=4, n_estimators=160, num_leaves=52; accuracy: (train=0.941, test=0.898) roc_auc: (train=0.977, test=0.908) total time=   0.8s\n",
      "[CV 1/5] END colsample_bytree=0.8, learning_rate=0.15, max_depth=4, n_estimators=160, num_leaves=64; accuracy: (train=0.938, test=0.886) roc_auc: (train=0.977, test=0.902) total time=   0.8s\n",
      "[CV 2/5] END colsample_bytree=0.8, learning_rate=0.15, max_depth=4, n_estimators=160, num_leaves=64; accuracy: (train=0.944, test=0.882) roc_auc: (train=0.980, test=0.833) total time=   0.7s\n",
      "[CV 3/5] END colsample_bytree=0.8, learning_rate=0.15, max_depth=4, n_estimators=160, num_leaves=64; accuracy: (train=0.943, test=0.889) roc_auc: (train=0.979, test=0.883) total time=   0.7s\n",
      "[CV 4/5] END colsample_bytree=0.8, learning_rate=0.15, max_depth=4, n_estimators=160, num_leaves=64; accuracy: (train=0.947, test=0.879) roc_auc: (train=0.978, test=0.865) total time=   0.7s\n",
      "[CV 5/5] END colsample_bytree=0.8, learning_rate=0.15, max_depth=4, n_estimators=160, num_leaves=64; accuracy: (train=0.941, test=0.898) roc_auc: (train=0.977, test=0.908) total time=   0.8s\n",
      "[CV 1/5] END colsample_bytree=0.8, learning_rate=0.15, max_depth=4, n_estimators=240, num_leaves=31; accuracy: (train=0.961, test=0.903) roc_auc: (train=0.990, test=0.910) total time=   1.0s\n",
      "[CV 2/5] END colsample_bytree=0.8, learning_rate=0.15, max_depth=4, n_estimators=240, num_leaves=31; accuracy: (train=0.963, test=0.892) roc_auc: (train=0.992, test=0.842) total time=   1.1s\n",
      "[CV 3/5] END colsample_bytree=0.8, learning_rate=0.15, max_depth=4, n_estimators=240, num_leaves=31; accuracy: (train=0.961, test=0.901) roc_auc: (train=0.993, test=0.891) total time=   1.1s\n",
      "[CV 4/5] END colsample_bytree=0.8, learning_rate=0.15, max_depth=4, n_estimators=240, num_leaves=31; accuracy: (train=0.963, test=0.886) roc_auc: (train=0.991, test=0.874) total time=   1.0s\n",
      "[CV 5/5] END colsample_bytree=0.8, learning_rate=0.15, max_depth=4, n_estimators=240, num_leaves=31; accuracy: (train=0.961, test=0.902) roc_auc: (train=0.989, test=0.917) total time=   1.1s\n",
      "[CV 1/5] END colsample_bytree=0.8, learning_rate=0.15, max_depth=4, n_estimators=240, num_leaves=52; accuracy: (train=0.961, test=0.903) roc_auc: (train=0.990, test=0.910) total time=   1.1s\n",
      "[CV 2/5] END colsample_bytree=0.8, learning_rate=0.15, max_depth=4, n_estimators=240, num_leaves=52; accuracy: (train=0.963, test=0.892) roc_auc: (train=0.992, test=0.842) total time=   1.3s\n",
      "[CV 3/5] END colsample_bytree=0.8, learning_rate=0.15, max_depth=4, n_estimators=240, num_leaves=52; accuracy: (train=0.961, test=0.901) roc_auc: (train=0.993, test=0.891) total time=   1.2s\n",
      "[CV 4/5] END colsample_bytree=0.8, learning_rate=0.15, max_depth=4, n_estimators=240, num_leaves=52; accuracy: (train=0.963, test=0.886) roc_auc: (train=0.991, test=0.874) total time=   1.0s\n",
      "[CV 5/5] END colsample_bytree=0.8, learning_rate=0.15, max_depth=4, n_estimators=240, num_leaves=52; accuracy: (train=0.961, test=0.902) roc_auc: (train=0.989, test=0.917) total time=   0.9s\n",
      "[CV 1/5] END colsample_bytree=0.8, learning_rate=0.15, max_depth=4, n_estimators=240, num_leaves=64; accuracy: (train=0.961, test=0.903) roc_auc: (train=0.990, test=0.910) total time=   1.0s\n",
      "[CV 2/5] END colsample_bytree=0.8, learning_rate=0.15, max_depth=4, n_estimators=240, num_leaves=64; accuracy: (train=0.963, test=0.892) roc_auc: (train=0.992, test=0.842) total time=   1.1s\n",
      "[CV 3/5] END colsample_bytree=0.8, learning_rate=0.15, max_depth=4, n_estimators=240, num_leaves=64; accuracy: (train=0.961, test=0.901) roc_auc: (train=0.993, test=0.891) total time=   1.3s\n",
      "[CV 4/5] END colsample_bytree=0.8, learning_rate=0.15, max_depth=4, n_estimators=240, num_leaves=64; accuracy: (train=0.963, test=0.886) roc_auc: (train=0.991, test=0.874) total time=   1.1s\n",
      "[CV 5/5] END colsample_bytree=0.8, learning_rate=0.15, max_depth=4, n_estimators=240, num_leaves=64; accuracy: (train=0.961, test=0.902) roc_auc: (train=0.989, test=0.917) total time=   1.2s\n",
      "[CV 1/5] END colsample_bytree=0.8, learning_rate=0.15, max_depth=4, n_estimators=400, num_leaves=31; accuracy: (train=0.981, test=0.906) roc_auc: (train=0.999, test=0.918) total time=   1.8s\n",
      "[CV 2/5] END colsample_bytree=0.8, learning_rate=0.15, max_depth=4, n_estimators=400, num_leaves=31; accuracy: (train=0.982, test=0.906) roc_auc: (train=0.999, test=0.854) total time=   1.8s\n",
      "[CV 3/5] END colsample_bytree=0.8, learning_rate=0.15, max_depth=4, n_estimators=400, num_leaves=31; accuracy: (train=0.984, test=0.907) roc_auc: (train=0.999, test=0.898) total time=   1.6s\n",
      "[CV 4/5] END colsample_bytree=0.8, learning_rate=0.15, max_depth=4, n_estimators=400, num_leaves=31; accuracy: (train=0.983, test=0.888) roc_auc: (train=0.999, test=0.879) total time=   1.6s\n",
      "[CV 5/5] END colsample_bytree=0.8, learning_rate=0.15, max_depth=4, n_estimators=400, num_leaves=31; accuracy: (train=0.981, test=0.904) roc_auc: (train=0.998, test=0.917) total time=   2.0s\n",
      "[CV 1/5] END colsample_bytree=0.8, learning_rate=0.15, max_depth=4, n_estimators=400, num_leaves=52; accuracy: (train=0.981, test=0.906) roc_auc: (train=0.999, test=0.918) total time=   1.6s\n",
      "[CV 2/5] END colsample_bytree=0.8, learning_rate=0.15, max_depth=4, n_estimators=400, num_leaves=52; accuracy: (train=0.982, test=0.906) roc_auc: (train=0.999, test=0.854) total time=   1.6s\n",
      "[CV 3/5] END colsample_bytree=0.8, learning_rate=0.15, max_depth=4, n_estimators=400, num_leaves=52; accuracy: (train=0.984, test=0.907) roc_auc: (train=0.999, test=0.898) total time=   1.5s\n",
      "[CV 4/5] END colsample_bytree=0.8, learning_rate=0.15, max_depth=4, n_estimators=400, num_leaves=52; accuracy: (train=0.983, test=0.888) roc_auc: (train=0.999, test=0.879) total time=   1.7s\n",
      "[CV 5/5] END colsample_bytree=0.8, learning_rate=0.15, max_depth=4, n_estimators=400, num_leaves=52; accuracy: (train=0.981, test=0.904) roc_auc: (train=0.998, test=0.917) total time=   1.6s\n",
      "[CV 1/5] END colsample_bytree=0.8, learning_rate=0.15, max_depth=4, n_estimators=400, num_leaves=64; accuracy: (train=0.981, test=0.906) roc_auc: (train=0.999, test=0.918) total time=   1.7s\n",
      "[CV 2/5] END colsample_bytree=0.8, learning_rate=0.15, max_depth=4, n_estimators=400, num_leaves=64; accuracy: (train=0.982, test=0.906) roc_auc: (train=0.999, test=0.854) total time=   1.5s\n",
      "[CV 3/5] END colsample_bytree=0.8, learning_rate=0.15, max_depth=4, n_estimators=400, num_leaves=64; accuracy: (train=0.984, test=0.907) roc_auc: (train=0.999, test=0.898) total time=   1.5s\n",
      "[CV 4/5] END colsample_bytree=0.8, learning_rate=0.15, max_depth=4, n_estimators=400, num_leaves=64; accuracy: (train=0.983, test=0.888) roc_auc: (train=0.999, test=0.879) total time=   1.7s\n",
      "[CV 5/5] END colsample_bytree=0.8, learning_rate=0.15, max_depth=4, n_estimators=400, num_leaves=64; accuracy: (train=0.981, test=0.904) roc_auc: (train=0.998, test=0.917) total time=   1.5s\n",
      "[CV 1/5] END colsample_bytree=0.8, learning_rate=0.15, max_depth=5, n_estimators=160, num_leaves=31; accuracy: (train=0.960, test=0.896) roc_auc: (train=0.992, test=0.909) total time=   0.9s\n",
      "[CV 2/5] END colsample_bytree=0.8, learning_rate=0.15, max_depth=5, n_estimators=160, num_leaves=31; accuracy: (train=0.965, test=0.891) roc_auc: (train=0.993, test=0.837) total time=   0.9s\n",
      "[CV 3/5] END colsample_bytree=0.8, learning_rate=0.15, max_depth=5, n_estimators=160, num_leaves=31; accuracy: (train=0.960, test=0.895) roc_auc: (train=0.994, test=0.879) total time=   1.0s\n",
      "[CV 4/5] END colsample_bytree=0.8, learning_rate=0.15, max_depth=5, n_estimators=160, num_leaves=31; accuracy: (train=0.966, test=0.875) roc_auc: (train=0.994, test=0.865) total time=   1.0s\n",
      "[CV 5/5] END colsample_bytree=0.8, learning_rate=0.15, max_depth=5, n_estimators=160, num_leaves=31; accuracy: (train=0.961, test=0.892) roc_auc: (train=0.992, test=0.910) total time=   1.0s\n",
      "[CV 1/5] END colsample_bytree=0.8, learning_rate=0.15, max_depth=5, n_estimators=160, num_leaves=52; accuracy: (train=0.960, test=0.896) roc_auc: (train=0.992, test=0.909) total time=   1.0s\n",
      "[CV 2/5] END colsample_bytree=0.8, learning_rate=0.15, max_depth=5, n_estimators=160, num_leaves=52; accuracy: (train=0.965, test=0.891) roc_auc: (train=0.993, test=0.837) total time=   0.9s\n",
      "[CV 3/5] END colsample_bytree=0.8, learning_rate=0.15, max_depth=5, n_estimators=160, num_leaves=52; accuracy: (train=0.960, test=0.895) roc_auc: (train=0.994, test=0.879) total time=   1.0s\n",
      "[CV 4/5] END colsample_bytree=0.8, learning_rate=0.15, max_depth=5, n_estimators=160, num_leaves=52; accuracy: (train=0.965, test=0.876) roc_auc: (train=0.994, test=0.864) total time=   1.1s\n",
      "[CV 5/5] END colsample_bytree=0.8, learning_rate=0.15, max_depth=5, n_estimators=160, num_leaves=52; accuracy: (train=0.962, test=0.895) roc_auc: (train=0.992, test=0.907) total time=   1.0s\n",
      "[CV 1/5] END colsample_bytree=0.8, learning_rate=0.15, max_depth=5, n_estimators=160, num_leaves=64; accuracy: (train=0.960, test=0.896) roc_auc: (train=0.992, test=0.909) total time=   0.9s\n",
      "[CV 2/5] END colsample_bytree=0.8, learning_rate=0.15, max_depth=5, n_estimators=160, num_leaves=64; accuracy: (train=0.965, test=0.891) roc_auc: (train=0.993, test=0.837) total time=   1.0s\n",
      "[CV 3/5] END colsample_bytree=0.8, learning_rate=0.15, max_depth=5, n_estimators=160, num_leaves=64; accuracy: (train=0.960, test=0.895) roc_auc: (train=0.994, test=0.879) total time=   1.0s\n",
      "[CV 4/5] END colsample_bytree=0.8, learning_rate=0.15, max_depth=5, n_estimators=160, num_leaves=64; accuracy: (train=0.965, test=0.876) roc_auc: (train=0.994, test=0.864) total time=   1.1s\n",
      "[CV 5/5] END colsample_bytree=0.8, learning_rate=0.15, max_depth=5, n_estimators=160, num_leaves=64; accuracy: (train=0.962, test=0.895) roc_auc: (train=0.992, test=0.907) total time=   1.0s\n",
      "[CV 1/5] END colsample_bytree=0.8, learning_rate=0.15, max_depth=5, n_estimators=240, num_leaves=31; accuracy: (train=0.979, test=0.903) roc_auc: (train=0.999, test=0.909) total time=   1.3s\n",
      "[CV 2/5] END colsample_bytree=0.8, learning_rate=0.15, max_depth=5, n_estimators=240, num_leaves=31; accuracy: (train=0.983, test=0.902) roc_auc: (train=0.999, test=0.843) total time=   1.5s\n",
      "[CV 3/5] END colsample_bytree=0.8, learning_rate=0.15, max_depth=5, n_estimators=240, num_leaves=31; accuracy: (train=0.982, test=0.905) roc_auc: (train=0.999, test=0.880) total time=   1.4s\n",
      "[CV 4/5] END colsample_bytree=0.8, learning_rate=0.15, max_depth=5, n_estimators=240, num_leaves=31; accuracy: (train=0.982, test=0.880) roc_auc: (train=0.999, test=0.873) total time=   1.4s\n",
      "[CV 5/5] END colsample_bytree=0.8, learning_rate=0.15, max_depth=5, n_estimators=240, num_leaves=31; accuracy: (train=0.982, test=0.896) roc_auc: (train=0.999, test=0.911) total time=   1.5s\n",
      "[CV 1/5] END colsample_bytree=0.8, learning_rate=0.15, max_depth=5, n_estimators=240, num_leaves=52; accuracy: (train=0.979, test=0.903) roc_auc: (train=0.999, test=0.909) total time=   1.3s\n",
      "[CV 2/5] END colsample_bytree=0.8, learning_rate=0.15, max_depth=5, n_estimators=240, num_leaves=52; accuracy: (train=0.983, test=0.904) roc_auc: (train=0.999, test=0.841) total time=   1.4s\n",
      "[CV 3/5] END colsample_bytree=0.8, learning_rate=0.15, max_depth=5, n_estimators=240, num_leaves=52; accuracy: (train=0.983, test=0.904) roc_auc: (train=0.999, test=0.880) total time=   1.5s\n",
      "[CV 4/5] END colsample_bytree=0.8, learning_rate=0.15, max_depth=5, n_estimators=240, num_leaves=52; accuracy: (train=0.982, test=0.884) roc_auc: (train=0.999, test=0.872) total time=   1.4s\n",
      "[CV 5/5] END colsample_bytree=0.8, learning_rate=0.15, max_depth=5, n_estimators=240, num_leaves=52; accuracy: (train=0.981, test=0.903) roc_auc: (train=0.998, test=0.908) total time=   1.4s\n",
      "[CV 1/5] END colsample_bytree=0.8, learning_rate=0.15, max_depth=5, n_estimators=240, num_leaves=64; accuracy: (train=0.979, test=0.903) roc_auc: (train=0.999, test=0.909) total time=   1.3s\n",
      "[CV 2/5] END colsample_bytree=0.8, learning_rate=0.15, max_depth=5, n_estimators=240, num_leaves=64; accuracy: (train=0.983, test=0.904) roc_auc: (train=0.999, test=0.841) total time=   1.4s\n",
      "[CV 3/5] END colsample_bytree=0.8, learning_rate=0.15, max_depth=5, n_estimators=240, num_leaves=64; accuracy: (train=0.983, test=0.904) roc_auc: (train=0.999, test=0.880) total time=   1.6s\n",
      "[CV 4/5] END colsample_bytree=0.8, learning_rate=0.15, max_depth=5, n_estimators=240, num_leaves=64; accuracy: (train=0.982, test=0.884) roc_auc: (train=0.999, test=0.872) total time=   1.5s\n",
      "[CV 5/5] END colsample_bytree=0.8, learning_rate=0.15, max_depth=5, n_estimators=240, num_leaves=64; accuracy: (train=0.981, test=0.903) roc_auc: (train=0.998, test=0.908) total time=   1.5s\n",
      "[CV 1/5] END colsample_bytree=0.8, learning_rate=0.15, max_depth=5, n_estimators=400, num_leaves=31; accuracy: (train=0.997, test=0.903) roc_auc: (train=1.000, test=0.903) total time=   2.1s\n",
      "[CV 2/5] END colsample_bytree=0.8, learning_rate=0.15, max_depth=5, n_estimators=400, num_leaves=31; accuracy: (train=0.997, test=0.900) roc_auc: (train=1.000, test=0.842) total time=   2.3s\n",
      "[CV 3/5] END colsample_bytree=0.8, learning_rate=0.15, max_depth=5, n_estimators=400, num_leaves=31; accuracy: (train=0.996, test=0.908) roc_auc: (train=1.000, test=0.881) total time=   2.2s\n",
      "[CV 4/5] END colsample_bytree=0.8, learning_rate=0.15, max_depth=5, n_estimators=400, num_leaves=31; accuracy: (train=0.996, test=0.884) roc_auc: (train=1.000, test=0.870) total time=   2.4s\n",
      "[CV 5/5] END colsample_bytree=0.8, learning_rate=0.15, max_depth=5, n_estimators=400, num_leaves=31; accuracy: (train=0.996, test=0.898) roc_auc: (train=1.000, test=0.914) total time=   2.0s\n",
      "[CV 1/5] END colsample_bytree=0.8, learning_rate=0.15, max_depth=5, n_estimators=400, num_leaves=52; accuracy: (train=0.997, test=0.903) roc_auc: (train=1.000, test=0.903) total time=   2.2s\n",
      "[CV 2/5] END colsample_bytree=0.8, learning_rate=0.15, max_depth=5, n_estimators=400, num_leaves=52; accuracy: (train=0.997, test=0.901) roc_auc: (train=1.000, test=0.844) total time=   2.3s\n",
      "[CV 3/5] END colsample_bytree=0.8, learning_rate=0.15, max_depth=5, n_estimators=400, num_leaves=52; accuracy: (train=0.997, test=0.903) roc_auc: (train=1.000, test=0.879) total time=   2.7s\n",
      "[CV 4/5] END colsample_bytree=0.8, learning_rate=0.15, max_depth=5, n_estimators=400, num_leaves=52; accuracy: (train=0.998, test=0.884) roc_auc: (train=1.000, test=0.871) total time=   2.1s\n",
      "[CV 5/5] END colsample_bytree=0.8, learning_rate=0.15, max_depth=5, n_estimators=400, num_leaves=52; accuracy: (train=0.996, test=0.899) roc_auc: (train=1.000, test=0.911) total time=   2.1s\n",
      "[CV 1/5] END colsample_bytree=0.8, learning_rate=0.15, max_depth=5, n_estimators=400, num_leaves=64; accuracy: (train=0.997, test=0.903) roc_auc: (train=1.000, test=0.903) total time=   2.4s\n",
      "[CV 2/5] END colsample_bytree=0.8, learning_rate=0.15, max_depth=5, n_estimators=400, num_leaves=64; accuracy: (train=0.997, test=0.901) roc_auc: (train=1.000, test=0.844) total time=   2.2s\n",
      "[CV 3/5] END colsample_bytree=0.8, learning_rate=0.15, max_depth=5, n_estimators=400, num_leaves=64; accuracy: (train=0.997, test=0.903) roc_auc: (train=1.000, test=0.879) total time=   2.4s\n",
      "[CV 4/5] END colsample_bytree=0.8, learning_rate=0.15, max_depth=5, n_estimators=400, num_leaves=64; accuracy: (train=0.998, test=0.884) roc_auc: (train=1.000, test=0.871) total time=   2.5s\n",
      "[CV 5/5] END colsample_bytree=0.8, learning_rate=0.15, max_depth=5, n_estimators=400, num_leaves=64; accuracy: (train=0.996, test=0.899) roc_auc: (train=1.000, test=0.911) total time=   2.2s\n",
      "[CV 1/5] END colsample_bytree=0.8, learning_rate=0.15, max_depth=6, n_estimators=160, num_leaves=31; accuracy: (train=0.977, test=0.900) roc_auc: (train=0.998, test=0.903) total time=   1.1s\n",
      "[CV 2/5] END colsample_bytree=0.8, learning_rate=0.15, max_depth=6, n_estimators=160, num_leaves=31; accuracy: (train=0.980, test=0.884) roc_auc: (train=0.998, test=0.822) total time=   1.5s\n",
      "[CV 3/5] END colsample_bytree=0.8, learning_rate=0.15, max_depth=6, n_estimators=160, num_leaves=31; accuracy: (train=0.980, test=0.894) roc_auc: (train=0.999, test=0.884) total time=   1.2s\n",
      "[CV 4/5] END colsample_bytree=0.8, learning_rate=0.15, max_depth=6, n_estimators=160, num_leaves=31; accuracy: (train=0.977, test=0.874) roc_auc: (train=0.998, test=0.858) total time=   1.2s\n",
      "[CV 5/5] END colsample_bytree=0.8, learning_rate=0.15, max_depth=6, n_estimators=160, num_leaves=31; accuracy: (train=0.978, test=0.901) roc_auc: (train=0.998, test=0.913) total time=   1.3s\n",
      "[CV 1/5] END colsample_bytree=0.8, learning_rate=0.15, max_depth=6, n_estimators=160, num_leaves=52; accuracy: (train=0.979, test=0.903) roc_auc: (train=0.998, test=0.904) total time=   1.4s\n",
      "[CV 2/5] END colsample_bytree=0.8, learning_rate=0.15, max_depth=6, n_estimators=160, num_leaves=52; accuracy: (train=0.982, test=0.896) roc_auc: (train=0.998, test=0.846) total time=   1.5s\n",
      "[CV 3/5] END colsample_bytree=0.8, learning_rate=0.15, max_depth=6, n_estimators=160, num_leaves=52; accuracy: (train=0.978, test=0.896) roc_auc: (train=0.999, test=0.879) total time=   1.3s\n",
      "[CV 4/5] END colsample_bytree=0.8, learning_rate=0.15, max_depth=6, n_estimators=160, num_leaves=52; accuracy: (train=0.980, test=0.873) roc_auc: (train=0.999, test=0.862) total time=   1.2s\n",
      "[CV 5/5] END colsample_bytree=0.8, learning_rate=0.15, max_depth=6, n_estimators=160, num_leaves=52; accuracy: (train=0.981, test=0.899) roc_auc: (train=0.999, test=0.904) total time=   1.4s\n",
      "[CV 1/5] END colsample_bytree=0.8, learning_rate=0.15, max_depth=6, n_estimators=160, num_leaves=64; accuracy: (train=0.979, test=0.903) roc_auc: (train=0.998, test=0.904) total time=   1.2s\n",
      "[CV 2/5] END colsample_bytree=0.8, learning_rate=0.15, max_depth=6, n_estimators=160, num_leaves=64; accuracy: (train=0.982, test=0.890) roc_auc: (train=0.999, test=0.845) total time=   1.3s\n",
      "[CV 3/5] END colsample_bytree=0.8, learning_rate=0.15, max_depth=6, n_estimators=160, num_leaves=64; accuracy: (train=0.983, test=0.895) roc_auc: (train=0.999, test=0.879) total time=   1.6s\n",
      "[CV 4/5] END colsample_bytree=0.8, learning_rate=0.15, max_depth=6, n_estimators=160, num_leaves=64; accuracy: (train=0.981, test=0.876) roc_auc: (train=0.999, test=0.863) total time=   1.4s\n",
      "[CV 5/5] END colsample_bytree=0.8, learning_rate=0.15, max_depth=6, n_estimators=160, num_leaves=64; accuracy: (train=0.981, test=0.903) roc_auc: (train=0.998, test=0.909) total time=   1.3s\n",
      "[CV 1/5] END colsample_bytree=0.8, learning_rate=0.15, max_depth=6, n_estimators=240, num_leaves=31; accuracy: (train=0.990, test=0.902) roc_auc: (train=1.000, test=0.904) total time=   1.8s\n",
      "[CV 2/5] END colsample_bytree=0.8, learning_rate=0.15, max_depth=6, n_estimators=240, num_leaves=31; accuracy: (train=0.992, test=0.890) roc_auc: (train=1.000, test=0.823) total time=   2.0s\n",
      "[CV 3/5] END colsample_bytree=0.8, learning_rate=0.15, max_depth=6, n_estimators=240, num_leaves=31; accuracy: (train=0.993, test=0.903) roc_auc: (train=1.000, test=0.888) total time=   1.9s\n",
      "[CV 4/5] END colsample_bytree=0.8, learning_rate=0.15, max_depth=6, n_estimators=240, num_leaves=31; accuracy: (train=0.992, test=0.874) roc_auc: (train=1.000, test=0.863) total time=   1.7s\n",
      "[CV 5/5] END colsample_bytree=0.8, learning_rate=0.15, max_depth=6, n_estimators=240, num_leaves=31; accuracy: (train=0.991, test=0.899) roc_auc: (train=1.000, test=0.910) total time=   1.8s\n",
      "[CV 1/5] END colsample_bytree=0.8, learning_rate=0.15, max_depth=6, n_estimators=240, num_leaves=52; accuracy: (train=0.995, test=0.899) roc_auc: (train=1.000, test=0.905) total time=   1.8s\n",
      "[CV 2/5] END colsample_bytree=0.8, learning_rate=0.15, max_depth=6, n_estimators=240, num_leaves=52; accuracy: (train=0.996, test=0.895) roc_auc: (train=1.000, test=0.842) total time=   2.0s\n",
      "[CV 3/5] END colsample_bytree=0.8, learning_rate=0.15, max_depth=6, n_estimators=240, num_leaves=52; accuracy: (train=0.993, test=0.901) roc_auc: (train=1.000, test=0.882) total time=   2.0s\n",
      "[CV 4/5] END colsample_bytree=0.8, learning_rate=0.15, max_depth=6, n_estimators=240, num_leaves=52; accuracy: (train=0.994, test=0.883) roc_auc: (train=1.000, test=0.864) total time=   1.9s\n",
      "[CV 5/5] END colsample_bytree=0.8, learning_rate=0.15, max_depth=6, n_estimators=240, num_leaves=52; accuracy: (train=0.996, test=0.895) roc_auc: (train=1.000, test=0.905) total time=   2.1s\n",
      "[CV 1/5] END colsample_bytree=0.8, learning_rate=0.15, max_depth=6, n_estimators=240, num_leaves=64; accuracy: (train=0.994, test=0.902) roc_auc: (train=1.000, test=0.905) total time=   1.8s\n",
      "[CV 2/5] END colsample_bytree=0.8, learning_rate=0.15, max_depth=6, n_estimators=240, num_leaves=64; accuracy: (train=0.993, test=0.892) roc_auc: (train=1.000, test=0.849) total time=   1.9s\n",
      "[CV 3/5] END colsample_bytree=0.8, learning_rate=0.15, max_depth=6, n_estimators=240, num_leaves=64; accuracy: (train=0.994, test=0.896) roc_auc: (train=1.000, test=0.883) total time=   1.9s\n",
      "[CV 4/5] END colsample_bytree=0.8, learning_rate=0.15, max_depth=6, n_estimators=240, num_leaves=64; accuracy: (train=0.997, test=0.883) roc_auc: (train=1.000, test=0.866) total time=   1.9s\n",
      "[CV 5/5] END colsample_bytree=0.8, learning_rate=0.15, max_depth=6, n_estimators=240, num_leaves=64; accuracy: (train=0.992, test=0.901) roc_auc: (train=1.000, test=0.907) total time=   1.8s\n",
      "[CV 1/5] END colsample_bytree=0.8, learning_rate=0.15, max_depth=6, n_estimators=400, num_leaves=31; accuracy: (train=1.000, test=0.903) roc_auc: (train=1.000, test=0.902) total time=   2.7s\n",
      "[CV 2/5] END colsample_bytree=0.8, learning_rate=0.15, max_depth=6, n_estimators=400, num_leaves=31; accuracy: (train=1.000, test=0.891) roc_auc: (train=1.000, test=0.832) total time=   2.9s\n",
      "[CV 3/5] END colsample_bytree=0.8, learning_rate=0.15, max_depth=6, n_estimators=400, num_leaves=31; accuracy: (train=1.000, test=0.902) roc_auc: (train=1.000, test=0.884) total time=   2.9s\n",
      "[CV 4/5] END colsample_bytree=0.8, learning_rate=0.15, max_depth=6, n_estimators=400, num_leaves=31; accuracy: (train=1.000, test=0.879) roc_auc: (train=1.000, test=0.859) total time=   2.9s\n",
      "[CV 5/5] END colsample_bytree=0.8, learning_rate=0.15, max_depth=6, n_estimators=400, num_leaves=31; accuracy: (train=1.000, test=0.901) roc_auc: (train=1.000, test=0.910) total time=   2.8s\n",
      "[CV 1/5] END colsample_bytree=0.8, learning_rate=0.15, max_depth=6, n_estimators=400, num_leaves=52; accuracy: (train=1.000, test=0.901) roc_auc: (train=1.000, test=0.900) total time=   3.0s\n",
      "[CV 2/5] END colsample_bytree=0.8, learning_rate=0.15, max_depth=6, n_estimators=400, num_leaves=52; accuracy: (train=0.999, test=0.893) roc_auc: (train=1.000, test=0.841) total time=   3.0s\n",
      "[CV 3/5] END colsample_bytree=0.8, learning_rate=0.15, max_depth=6, n_estimators=400, num_leaves=52; accuracy: (train=1.000, test=0.895) roc_auc: (train=1.000, test=0.880) total time=   3.3s\n",
      "[CV 4/5] END colsample_bytree=0.8, learning_rate=0.15, max_depth=6, n_estimators=400, num_leaves=52; accuracy: (train=1.000, test=0.884) roc_auc: (train=1.000, test=0.864) total time=   3.0s\n",
      "[CV 5/5] END colsample_bytree=0.8, learning_rate=0.15, max_depth=6, n_estimators=400, num_leaves=52; accuracy: (train=1.000, test=0.895) roc_auc: (train=1.000, test=0.905) total time=   3.1s\n",
      "[CV 1/5] END colsample_bytree=0.8, learning_rate=0.15, max_depth=6, n_estimators=400, num_leaves=64; accuracy: (train=1.000, test=0.902) roc_auc: (train=1.000, test=0.905) total time=   3.3s\n",
      "[CV 2/5] END colsample_bytree=0.8, learning_rate=0.15, max_depth=6, n_estimators=400, num_leaves=64; accuracy: (train=1.000, test=0.890) roc_auc: (train=1.000, test=0.845) total time=   3.2s\n",
      "[CV 3/5] END colsample_bytree=0.8, learning_rate=0.15, max_depth=6, n_estimators=400, num_leaves=64; accuracy: (train=1.000, test=0.895) roc_auc: (train=1.000, test=0.881) total time=   2.9s\n",
      "[CV 4/5] END colsample_bytree=0.8, learning_rate=0.15, max_depth=6, n_estimators=400, num_leaves=64; accuracy: (train=1.000, test=0.886) roc_auc: (train=1.000, test=0.864) total time=   3.2s\n",
      "[CV 5/5] END colsample_bytree=0.8, learning_rate=0.15, max_depth=6, n_estimators=400, num_leaves=64; accuracy: (train=1.000, test=0.897) roc_auc: (train=1.000, test=0.904) total time=   3.0s\n",
      "[CV 1/5] END colsample_bytree=1, learning_rate=0.1, max_depth=4, n_estimators=160, num_leaves=31; accuracy: (train=0.916, test=0.873) roc_auc: (train=0.956, test=0.883) total time=   0.7s\n",
      "[CV 2/5] END colsample_bytree=1, learning_rate=0.1, max_depth=4, n_estimators=160, num_leaves=31; accuracy: (train=0.928, test=0.874) roc_auc: (train=0.966, test=0.827) total time=   0.8s\n",
      "[CV 3/5] END colsample_bytree=1, learning_rate=0.1, max_depth=4, n_estimators=160, num_leaves=31; accuracy: (train=0.924, test=0.875) roc_auc: (train=0.962, test=0.861) total time=   0.9s\n",
      "[CV 4/5] END colsample_bytree=1, learning_rate=0.1, max_depth=4, n_estimators=160, num_leaves=31; accuracy: (train=0.925, test=0.863) roc_auc: (train=0.961, test=0.852) total time=   0.8s\n",
      "[CV 5/5] END colsample_bytree=1, learning_rate=0.1, max_depth=4, n_estimators=160, num_leaves=31; accuracy: (train=0.917, test=0.884) roc_auc: (train=0.957, test=0.888) total time=   0.9s\n",
      "[CV 1/5] END colsample_bytree=1, learning_rate=0.1, max_depth=4, n_estimators=160, num_leaves=52; accuracy: (train=0.916, test=0.873) roc_auc: (train=0.956, test=0.883) total time=   0.8s\n",
      "[CV 2/5] END colsample_bytree=1, learning_rate=0.1, max_depth=4, n_estimators=160, num_leaves=52; accuracy: (train=0.928, test=0.874) roc_auc: (train=0.966, test=0.827) total time=   0.9s\n",
      "[CV 3/5] END colsample_bytree=1, learning_rate=0.1, max_depth=4, n_estimators=160, num_leaves=52; accuracy: (train=0.924, test=0.875) roc_auc: (train=0.962, test=0.861) total time=   0.8s\n",
      "[CV 4/5] END colsample_bytree=1, learning_rate=0.1, max_depth=4, n_estimators=160, num_leaves=52; accuracy: (train=0.925, test=0.863) roc_auc: (train=0.961, test=0.852) total time=   0.7s\n",
      "[CV 5/5] END colsample_bytree=1, learning_rate=0.1, max_depth=4, n_estimators=160, num_leaves=52; accuracy: (train=0.917, test=0.884) roc_auc: (train=0.957, test=0.888) total time=   0.9s\n",
      "[CV 1/5] END colsample_bytree=1, learning_rate=0.1, max_depth=4, n_estimators=160, num_leaves=64; accuracy: (train=0.916, test=0.873) roc_auc: (train=0.956, test=0.883) total time=   0.8s\n",
      "[CV 2/5] END colsample_bytree=1, learning_rate=0.1, max_depth=4, n_estimators=160, num_leaves=64; accuracy: (train=0.928, test=0.874) roc_auc: (train=0.966, test=0.827) total time=   0.8s\n",
      "[CV 3/5] END colsample_bytree=1, learning_rate=0.1, max_depth=4, n_estimators=160, num_leaves=64; accuracy: (train=0.924, test=0.875) roc_auc: (train=0.962, test=0.861) total time=   0.7s\n",
      "[CV 4/5] END colsample_bytree=1, learning_rate=0.1, max_depth=4, n_estimators=160, num_leaves=64; accuracy: (train=0.925, test=0.863) roc_auc: (train=0.961, test=0.852) total time=   0.9s\n",
      "[CV 5/5] END colsample_bytree=1, learning_rate=0.1, max_depth=4, n_estimators=160, num_leaves=64; accuracy: (train=0.917, test=0.884) roc_auc: (train=0.957, test=0.888) total time=   0.8s\n",
      "[CV 1/5] END colsample_bytree=1, learning_rate=0.1, max_depth=4, n_estimators=240, num_leaves=31; accuracy: (train=0.941, test=0.890) roc_auc: (train=0.978, test=0.906) total time=   1.0s\n",
      "[CV 2/5] END colsample_bytree=1, learning_rate=0.1, max_depth=4, n_estimators=240, num_leaves=31; accuracy: (train=0.947, test=0.887) roc_auc: (train=0.981, test=0.839) total time=   1.1s\n",
      "[CV 3/5] END colsample_bytree=1, learning_rate=0.1, max_depth=4, n_estimators=240, num_leaves=31; accuracy: (train=0.945, test=0.891) roc_auc: (train=0.981, test=0.877) total time=   1.1s\n",
      "[CV 4/5] END colsample_bytree=1, learning_rate=0.1, max_depth=4, n_estimators=240, num_leaves=31; accuracy: (train=0.948, test=0.878) roc_auc: (train=0.980, test=0.868) total time=   1.0s\n",
      "[CV 5/5] END colsample_bytree=1, learning_rate=0.1, max_depth=4, n_estimators=240, num_leaves=31; accuracy: (train=0.939, test=0.889) roc_auc: (train=0.977, test=0.903) total time=   1.1s\n",
      "[CV 1/5] END colsample_bytree=1, learning_rate=0.1, max_depth=4, n_estimators=240, num_leaves=52; accuracy: (train=0.941, test=0.890) roc_auc: (train=0.978, test=0.906) total time=   1.0s\n",
      "[CV 2/5] END colsample_bytree=1, learning_rate=0.1, max_depth=4, n_estimators=240, num_leaves=52; accuracy: (train=0.947, test=0.887) roc_auc: (train=0.981, test=0.839) total time=   1.1s\n",
      "[CV 3/5] END colsample_bytree=1, learning_rate=0.1, max_depth=4, n_estimators=240, num_leaves=52; accuracy: (train=0.945, test=0.891) roc_auc: (train=0.981, test=0.877) total time=   1.0s\n",
      "[CV 4/5] END colsample_bytree=1, learning_rate=0.1, max_depth=4, n_estimators=240, num_leaves=52; accuracy: (train=0.948, test=0.878) roc_auc: (train=0.980, test=0.868) total time=   1.0s\n",
      "[CV 5/5] END colsample_bytree=1, learning_rate=0.1, max_depth=4, n_estimators=240, num_leaves=52; accuracy: (train=0.939, test=0.889) roc_auc: (train=0.977, test=0.903) total time=   1.2s\n",
      "[CV 1/5] END colsample_bytree=1, learning_rate=0.1, max_depth=4, n_estimators=240, num_leaves=64; accuracy: (train=0.941, test=0.890) roc_auc: (train=0.978, test=0.906) total time=   1.0s\n",
      "[CV 2/5] END colsample_bytree=1, learning_rate=0.1, max_depth=4, n_estimators=240, num_leaves=64; accuracy: (train=0.947, test=0.887) roc_auc: (train=0.981, test=0.839) total time=   1.1s\n",
      "[CV 3/5] END colsample_bytree=1, learning_rate=0.1, max_depth=4, n_estimators=240, num_leaves=64; accuracy: (train=0.945, test=0.891) roc_auc: (train=0.981, test=0.877) total time=   1.1s\n",
      "[CV 4/5] END colsample_bytree=1, learning_rate=0.1, max_depth=4, n_estimators=240, num_leaves=64; accuracy: (train=0.948, test=0.878) roc_auc: (train=0.980, test=0.868) total time=   1.1s\n",
      "[CV 5/5] END colsample_bytree=1, learning_rate=0.1, max_depth=4, n_estimators=240, num_leaves=64; accuracy: (train=0.939, test=0.889) roc_auc: (train=0.977, test=0.903) total time=   1.3s\n",
      "[CV 1/5] END colsample_bytree=1, learning_rate=0.1, max_depth=4, n_estimators=400, num_leaves=31; accuracy: (train=0.967, test=0.905) roc_auc: (train=0.993, test=0.915) total time=   1.6s\n",
      "[CV 2/5] END colsample_bytree=1, learning_rate=0.1, max_depth=4, n_estimators=400, num_leaves=31; accuracy: (train=0.969, test=0.900) roc_auc: (train=0.995, test=0.852) total time=   1.6s\n",
      "[CV 3/5] END colsample_bytree=1, learning_rate=0.1, max_depth=4, n_estimators=400, num_leaves=31; accuracy: (train=0.966, test=0.903) roc_auc: (train=0.994, test=0.890) total time=   1.5s\n",
      "[CV 4/5] END colsample_bytree=1, learning_rate=0.1, max_depth=4, n_estimators=400, num_leaves=31; accuracy: (train=0.968, test=0.887) roc_auc: (train=0.994, test=0.873) total time=   1.5s\n",
      "[CV 5/5] END colsample_bytree=1, learning_rate=0.1, max_depth=4, n_estimators=400, num_leaves=31; accuracy: (train=0.965, test=0.903) roc_auc: (train=0.992, test=0.914) total time=   1.7s\n",
      "[CV 1/5] END colsample_bytree=1, learning_rate=0.1, max_depth=4, n_estimators=400, num_leaves=52; accuracy: (train=0.967, test=0.905) roc_auc: (train=0.993, test=0.915) total time=   1.6s\n",
      "[CV 2/5] END colsample_bytree=1, learning_rate=0.1, max_depth=4, n_estimators=400, num_leaves=52; accuracy: (train=0.969, test=0.900) roc_auc: (train=0.995, test=0.852) total time=   1.8s\n",
      "[CV 3/5] END colsample_bytree=1, learning_rate=0.1, max_depth=4, n_estimators=400, num_leaves=52; accuracy: (train=0.966, test=0.903) roc_auc: (train=0.994, test=0.890) total time=   1.4s\n",
      "[CV 4/5] END colsample_bytree=1, learning_rate=0.1, max_depth=4, n_estimators=400, num_leaves=52; accuracy: (train=0.968, test=0.887) roc_auc: (train=0.994, test=0.873) total time=   1.6s\n",
      "[CV 5/5] END colsample_bytree=1, learning_rate=0.1, max_depth=4, n_estimators=400, num_leaves=52; accuracy: (train=0.965, test=0.903) roc_auc: (train=0.992, test=0.914) total time=   1.8s\n",
      "[CV 1/5] END colsample_bytree=1, learning_rate=0.1, max_depth=4, n_estimators=400, num_leaves=64; accuracy: (train=0.967, test=0.905) roc_auc: (train=0.993, test=0.915) total time=   1.6s\n",
      "[CV 2/5] END colsample_bytree=1, learning_rate=0.1, max_depth=4, n_estimators=400, num_leaves=64; accuracy: (train=0.969, test=0.900) roc_auc: (train=0.995, test=0.852) total time=   1.6s\n",
      "[CV 3/5] END colsample_bytree=1, learning_rate=0.1, max_depth=4, n_estimators=400, num_leaves=64; accuracy: (train=0.966, test=0.903) roc_auc: (train=0.994, test=0.890) total time=   1.5s\n",
      "[CV 4/5] END colsample_bytree=1, learning_rate=0.1, max_depth=4, n_estimators=400, num_leaves=64; accuracy: (train=0.968, test=0.887) roc_auc: (train=0.994, test=0.873) total time=   1.5s\n",
      "[CV 5/5] END colsample_bytree=1, learning_rate=0.1, max_depth=4, n_estimators=400, num_leaves=64; accuracy: (train=0.965, test=0.903) roc_auc: (train=0.992, test=0.914) total time=   1.6s\n",
      "[CV 1/5] END colsample_bytree=1, learning_rate=0.1, max_depth=5, n_estimators=160, num_leaves=31; accuracy: (train=0.941, test=0.885) roc_auc: (train=0.981, test=0.900) total time=   1.1s\n",
      "[CV 2/5] END colsample_bytree=1, learning_rate=0.1, max_depth=5, n_estimators=160, num_leaves=31; accuracy: (train=0.949, test=0.875) roc_auc: (train=0.985, test=0.819) total time=   1.0s\n",
      "[CV 3/5] END colsample_bytree=1, learning_rate=0.1, max_depth=5, n_estimators=160, num_leaves=31; accuracy: (train=0.947, test=0.887) roc_auc: (train=0.983, test=0.876) total time=   1.1s\n",
      "[CV 4/5] END colsample_bytree=1, learning_rate=0.1, max_depth=5, n_estimators=160, num_leaves=31; accuracy: (train=0.945, test=0.854) roc_auc: (train=0.985, test=0.860) total time=   1.2s\n",
      "[CV 5/5] END colsample_bytree=1, learning_rate=0.1, max_depth=5, n_estimators=160, num_leaves=31; accuracy: (train=0.941, test=0.885) roc_auc: (train=0.979, test=0.898) total time=   1.1s\n",
      "[CV 1/5] END colsample_bytree=1, learning_rate=0.1, max_depth=5, n_estimators=160, num_leaves=52; accuracy: (train=0.941, test=0.885) roc_auc: (train=0.981, test=0.900) total time=   1.0s\n",
      "[CV 2/5] END colsample_bytree=1, learning_rate=0.1, max_depth=5, n_estimators=160, num_leaves=52; accuracy: (train=0.949, test=0.875) roc_auc: (train=0.985, test=0.819) total time=   1.2s\n",
      "[CV 3/5] END colsample_bytree=1, learning_rate=0.1, max_depth=5, n_estimators=160, num_leaves=52; accuracy: (train=0.947, test=0.887) roc_auc: (train=0.983, test=0.876) total time=   1.0s\n",
      "[CV 4/5] END colsample_bytree=1, learning_rate=0.1, max_depth=5, n_estimators=160, num_leaves=52; accuracy: (train=0.945, test=0.854) roc_auc: (train=0.985, test=0.860) total time=   1.2s\n",
      "[CV 5/5] END colsample_bytree=1, learning_rate=0.1, max_depth=5, n_estimators=160, num_leaves=52; accuracy: (train=0.941, test=0.885) roc_auc: (train=0.979, test=0.898) total time=   1.0s\n",
      "[CV 1/5] END colsample_bytree=1, learning_rate=0.1, max_depth=5, n_estimators=160, num_leaves=64; accuracy: (train=0.941, test=0.885) roc_auc: (train=0.981, test=0.900) total time=   1.0s\n",
      "[CV 2/5] END colsample_bytree=1, learning_rate=0.1, max_depth=5, n_estimators=160, num_leaves=64; accuracy: (train=0.949, test=0.875) roc_auc: (train=0.985, test=0.819) total time=   1.0s\n",
      "[CV 3/5] END colsample_bytree=1, learning_rate=0.1, max_depth=5, n_estimators=160, num_leaves=64; accuracy: (train=0.947, test=0.887) roc_auc: (train=0.983, test=0.876) total time=   1.1s\n",
      "[CV 4/5] END colsample_bytree=1, learning_rate=0.1, max_depth=5, n_estimators=160, num_leaves=64; accuracy: (train=0.945, test=0.854) roc_auc: (train=0.985, test=0.860) total time=   1.1s\n",
      "[CV 5/5] END colsample_bytree=1, learning_rate=0.1, max_depth=5, n_estimators=160, num_leaves=64; accuracy: (train=0.941, test=0.885) roc_auc: (train=0.979, test=0.898) total time=   1.1s\n",
      "[CV 1/5] END colsample_bytree=1, learning_rate=0.1, max_depth=5, n_estimators=240, num_leaves=31; accuracy: (train=0.961, test=0.895) roc_auc: (train=0.993, test=0.905) total time=   1.3s\n",
      "[CV 2/5] END colsample_bytree=1, learning_rate=0.1, max_depth=5, n_estimators=240, num_leaves=31; accuracy: (train=0.968, test=0.883) roc_auc: (train=0.995, test=0.830) total time=   1.5s\n",
      "[CV 3/5] END colsample_bytree=1, learning_rate=0.1, max_depth=5, n_estimators=240, num_leaves=31; accuracy: (train=0.965, test=0.892) roc_auc: (train=0.995, test=0.884) total time=   1.4s\n",
      "[CV 4/5] END colsample_bytree=1, learning_rate=0.1, max_depth=5, n_estimators=240, num_leaves=31; accuracy: (train=0.971, test=0.875) roc_auc: (train=0.995, test=0.869) total time=   1.4s\n",
      "[CV 5/5] END colsample_bytree=1, learning_rate=0.1, max_depth=5, n_estimators=240, num_leaves=31; accuracy: (train=0.963, test=0.894) roc_auc: (train=0.993, test=0.911) total time=   1.5s\n",
      "[CV 1/5] END colsample_bytree=1, learning_rate=0.1, max_depth=5, n_estimators=240, num_leaves=52; accuracy: (train=0.961, test=0.895) roc_auc: (train=0.993, test=0.905) total time=   1.4s\n",
      "[CV 2/5] END colsample_bytree=1, learning_rate=0.1, max_depth=5, n_estimators=240, num_leaves=52; accuracy: (train=0.968, test=0.883) roc_auc: (train=0.995, test=0.830) total time=   1.7s\n",
      "[CV 3/5] END colsample_bytree=1, learning_rate=0.1, max_depth=5, n_estimators=240, num_leaves=52; accuracy: (train=0.965, test=0.892) roc_auc: (train=0.995, test=0.884) total time=   1.5s\n",
      "[CV 4/5] END colsample_bytree=1, learning_rate=0.1, max_depth=5, n_estimators=240, num_leaves=52; accuracy: (train=0.971, test=0.875) roc_auc: (train=0.995, test=0.869) total time=   1.6s\n",
      "[CV 5/5] END colsample_bytree=1, learning_rate=0.1, max_depth=5, n_estimators=240, num_leaves=52; accuracy: (train=0.963, test=0.894) roc_auc: (train=0.993, test=0.911) total time=   1.3s\n",
      "[CV 1/5] END colsample_bytree=1, learning_rate=0.1, max_depth=5, n_estimators=240, num_leaves=64; accuracy: (train=0.961, test=0.895) roc_auc: (train=0.993, test=0.905) total time=   1.4s\n",
      "[CV 2/5] END colsample_bytree=1, learning_rate=0.1, max_depth=5, n_estimators=240, num_leaves=64; accuracy: (train=0.968, test=0.883) roc_auc: (train=0.995, test=0.830) total time=   1.5s\n",
      "[CV 3/5] END colsample_bytree=1, learning_rate=0.1, max_depth=5, n_estimators=240, num_leaves=64; accuracy: (train=0.965, test=0.892) roc_auc: (train=0.995, test=0.884) total time=   1.7s\n",
      "[CV 4/5] END colsample_bytree=1, learning_rate=0.1, max_depth=5, n_estimators=240, num_leaves=64; accuracy: (train=0.971, test=0.875) roc_auc: (train=0.995, test=0.869) total time=   1.5s\n",
      "[CV 5/5] END colsample_bytree=1, learning_rate=0.1, max_depth=5, n_estimators=240, num_leaves=64; accuracy: (train=0.963, test=0.894) roc_auc: (train=0.993, test=0.911) total time=   1.5s\n",
      "[CV 1/5] END colsample_bytree=1, learning_rate=0.1, max_depth=5, n_estimators=400, num_leaves=31; accuracy: (train=0.986, test=0.903) roc_auc: (train=1.000, test=0.910) total time=   2.4s\n",
      "[CV 2/5] END colsample_bytree=1, learning_rate=0.1, max_depth=5, n_estimators=400, num_leaves=31; accuracy: (train=0.987, test=0.894) roc_auc: (train=1.000, test=0.838) total time=   2.4s\n",
      "[CV 3/5] END colsample_bytree=1, learning_rate=0.1, max_depth=5, n_estimators=400, num_leaves=31; accuracy: (train=0.987, test=0.900) roc_auc: (train=1.000, test=0.885) total time=   2.3s\n",
      "[CV 4/5] END colsample_bytree=1, learning_rate=0.1, max_depth=5, n_estimators=400, num_leaves=31; accuracy: (train=0.988, test=0.885) roc_auc: (train=1.000, test=0.875) total time=   2.2s\n",
      "[CV 5/5] END colsample_bytree=1, learning_rate=0.1, max_depth=5, n_estimators=400, num_leaves=31; accuracy: (train=0.985, test=0.902) roc_auc: (train=0.999, test=0.912) total time=   2.1s\n",
      "[CV 1/5] END colsample_bytree=1, learning_rate=0.1, max_depth=5, n_estimators=400, num_leaves=52; accuracy: (train=0.986, test=0.903) roc_auc: (train=1.000, test=0.910) total time=   2.1s\n",
      "[CV 2/5] END colsample_bytree=1, learning_rate=0.1, max_depth=5, n_estimators=400, num_leaves=52; accuracy: (train=0.987, test=0.894) roc_auc: (train=1.000, test=0.838) total time=   2.4s\n",
      "[CV 3/5] END colsample_bytree=1, learning_rate=0.1, max_depth=5, n_estimators=400, num_leaves=52; accuracy: (train=0.987, test=0.900) roc_auc: (train=1.000, test=0.885) total time=   2.2s\n",
      "[CV 4/5] END colsample_bytree=1, learning_rate=0.1, max_depth=5, n_estimators=400, num_leaves=52; accuracy: (train=0.988, test=0.885) roc_auc: (train=1.000, test=0.875) total time=   2.3s\n",
      "[CV 5/5] END colsample_bytree=1, learning_rate=0.1, max_depth=5, n_estimators=400, num_leaves=52; accuracy: (train=0.985, test=0.902) roc_auc: (train=0.999, test=0.912) total time=   2.7s\n",
      "[CV 1/5] END colsample_bytree=1, learning_rate=0.1, max_depth=5, n_estimators=400, num_leaves=64; accuracy: (train=0.986, test=0.903) roc_auc: (train=1.000, test=0.910) total time=   2.0s\n",
      "[CV 2/5] END colsample_bytree=1, learning_rate=0.1, max_depth=5, n_estimators=400, num_leaves=64; accuracy: (train=0.987, test=0.894) roc_auc: (train=1.000, test=0.838) total time=   2.3s\n",
      "[CV 3/5] END colsample_bytree=1, learning_rate=0.1, max_depth=5, n_estimators=400, num_leaves=64; accuracy: (train=0.987, test=0.900) roc_auc: (train=1.000, test=0.885) total time=   2.2s\n",
      "[CV 4/5] END colsample_bytree=1, learning_rate=0.1, max_depth=5, n_estimators=400, num_leaves=64; accuracy: (train=0.988, test=0.885) roc_auc: (train=1.000, test=0.875) total time=   2.4s\n",
      "[CV 5/5] END colsample_bytree=1, learning_rate=0.1, max_depth=5, n_estimators=400, num_leaves=64; accuracy: (train=0.985, test=0.902) roc_auc: (train=0.999, test=0.912) total time=   2.1s\n",
      "[CV 1/5] END colsample_bytree=1, learning_rate=0.1, max_depth=6, n_estimators=160, num_leaves=31; accuracy: (train=0.956, test=0.886) roc_auc: (train=0.992, test=0.899) total time=   1.3s\n",
      "[CV 2/5] END colsample_bytree=1, learning_rate=0.1, max_depth=6, n_estimators=160, num_leaves=31; accuracy: (train=0.965, test=0.877) roc_auc: (train=0.994, test=0.826) total time=   1.3s\n",
      "[CV 3/5] END colsample_bytree=1, learning_rate=0.1, max_depth=6, n_estimators=160, num_leaves=31; accuracy: (train=0.955, test=0.889) roc_auc: (train=0.993, test=0.865) total time=   1.2s\n",
      "[CV 4/5] END colsample_bytree=1, learning_rate=0.1, max_depth=6, n_estimators=160, num_leaves=31; accuracy: (train=0.963, test=0.872) roc_auc: (train=0.993, test=0.859) total time=   1.3s\n",
      "[CV 5/5] END colsample_bytree=1, learning_rate=0.1, max_depth=6, n_estimators=160, num_leaves=31; accuracy: (train=0.961, test=0.889) roc_auc: (train=0.992, test=0.894) total time=   1.2s\n",
      "[CV 1/5] END colsample_bytree=1, learning_rate=0.1, max_depth=6, n_estimators=160, num_leaves=52; accuracy: (train=0.962, test=0.880) roc_auc: (train=0.995, test=0.882) total time=   1.4s\n",
      "[CV 2/5] END colsample_bytree=1, learning_rate=0.1, max_depth=6, n_estimators=160, num_leaves=52; accuracy: (train=0.963, test=0.875) roc_auc: (train=0.994, test=0.820) total time=   1.3s\n",
      "[CV 3/5] END colsample_bytree=1, learning_rate=0.1, max_depth=6, n_estimators=160, num_leaves=52; accuracy: (train=0.962, test=0.891) roc_auc: (train=0.994, test=0.875) total time=   1.3s\n",
      "[CV 4/5] END colsample_bytree=1, learning_rate=0.1, max_depth=6, n_estimators=160, num_leaves=52; accuracy: (train=0.968, test=0.863) roc_auc: (train=0.994, test=0.852) total time=   1.4s\n",
      "[CV 5/5] END colsample_bytree=1, learning_rate=0.1, max_depth=6, n_estimators=160, num_leaves=52; accuracy: (train=0.961, test=0.895) roc_auc: (train=0.993, test=0.902) total time=   1.5s\n",
      "[CV 1/5] END colsample_bytree=1, learning_rate=0.1, max_depth=6, n_estimators=160, num_leaves=64; accuracy: (train=0.962, test=0.880) roc_auc: (train=0.995, test=0.882) total time=   1.5s\n",
      "[CV 2/5] END colsample_bytree=1, learning_rate=0.1, max_depth=6, n_estimators=160, num_leaves=64; accuracy: (train=0.963, test=0.875) roc_auc: (train=0.994, test=0.820) total time=   1.5s\n",
      "[CV 3/5] END colsample_bytree=1, learning_rate=0.1, max_depth=6, n_estimators=160, num_leaves=64; accuracy: (train=0.962, test=0.891) roc_auc: (train=0.994, test=0.875) total time=   1.3s\n",
      "[CV 4/5] END colsample_bytree=1, learning_rate=0.1, max_depth=6, n_estimators=160, num_leaves=64; accuracy: (train=0.968, test=0.863) roc_auc: (train=0.994, test=0.852) total time=   1.4s\n",
      "[CV 5/5] END colsample_bytree=1, learning_rate=0.1, max_depth=6, n_estimators=160, num_leaves=64; accuracy: (train=0.961, test=0.895) roc_auc: (train=0.993, test=0.902) total time=   1.4s\n",
      "[CV 1/5] END colsample_bytree=1, learning_rate=0.1, max_depth=6, n_estimators=240, num_leaves=31; accuracy: (train=0.977, test=0.897) roc_auc: (train=0.998, test=0.907) total time=   1.9s\n",
      "[CV 2/5] END colsample_bytree=1, learning_rate=0.1, max_depth=6, n_estimators=240, num_leaves=31; accuracy: (train=0.980, test=0.887) roc_auc: (train=0.999, test=0.833) total time=   1.8s\n",
      "[CV 3/5] END colsample_bytree=1, learning_rate=0.1, max_depth=6, n_estimators=240, num_leaves=31; accuracy: (train=0.978, test=0.893) roc_auc: (train=0.999, test=0.882) total time=   1.7s\n",
      "[CV 4/5] END colsample_bytree=1, learning_rate=0.1, max_depth=6, n_estimators=240, num_leaves=31; accuracy: (train=0.979, test=0.877) roc_auc: (train=0.999, test=0.862) total time=   1.7s\n",
      "[CV 5/5] END colsample_bytree=1, learning_rate=0.1, max_depth=6, n_estimators=240, num_leaves=31; accuracy: (train=0.979, test=0.889) roc_auc: (train=0.998, test=0.899) total time=   1.7s\n",
      "[CV 1/5] END colsample_bytree=1, learning_rate=0.1, max_depth=6, n_estimators=240, num_leaves=52; accuracy: (train=0.982, test=0.899) roc_auc: (train=0.999, test=0.898) total time=   1.7s\n",
      "[CV 2/5] END colsample_bytree=1, learning_rate=0.1, max_depth=6, n_estimators=240, num_leaves=52; accuracy: (train=0.984, test=0.885) roc_auc: (train=0.999, test=0.828) total time=   2.1s\n",
      "[CV 3/5] END colsample_bytree=1, learning_rate=0.1, max_depth=6, n_estimators=240, num_leaves=52; accuracy: (train=0.981, test=0.902) roc_auc: (train=0.999, test=0.882) total time=   1.8s\n",
      "[CV 4/5] END colsample_bytree=1, learning_rate=0.1, max_depth=6, n_estimators=240, num_leaves=52; accuracy: (train=0.982, test=0.872) roc_auc: (train=0.999, test=0.862) total time=   1.8s\n",
      "[CV 5/5] END colsample_bytree=1, learning_rate=0.1, max_depth=6, n_estimators=240, num_leaves=52; accuracy: (train=0.981, test=0.896) roc_auc: (train=0.999, test=0.903) total time=   1.7s\n",
      "[CV 1/5] END colsample_bytree=1, learning_rate=0.1, max_depth=6, n_estimators=240, num_leaves=64; accuracy: (train=0.982, test=0.899) roc_auc: (train=0.999, test=0.898) total time=   1.7s\n",
      "[CV 2/5] END colsample_bytree=1, learning_rate=0.1, max_depth=6, n_estimators=240, num_leaves=64; accuracy: (train=0.984, test=0.885) roc_auc: (train=0.999, test=0.828) total time=   1.8s\n",
      "[CV 3/5] END colsample_bytree=1, learning_rate=0.1, max_depth=6, n_estimators=240, num_leaves=64; accuracy: (train=0.981, test=0.902) roc_auc: (train=0.999, test=0.882) total time=   1.8s\n",
      "[CV 4/5] END colsample_bytree=1, learning_rate=0.1, max_depth=6, n_estimators=240, num_leaves=64; accuracy: (train=0.982, test=0.872) roc_auc: (train=0.999, test=0.862) total time=   1.9s\n",
      "[CV 5/5] END colsample_bytree=1, learning_rate=0.1, max_depth=6, n_estimators=240, num_leaves=64; accuracy: (train=0.981, test=0.896) roc_auc: (train=0.999, test=0.903) total time=   1.8s\n",
      "[CV 1/5] END colsample_bytree=1, learning_rate=0.1, max_depth=6, n_estimators=400, num_leaves=31; accuracy: (train=0.996, test=0.902) roc_auc: (train=1.000, test=0.912) total time=   2.8s\n",
      "[CV 2/5] END colsample_bytree=1, learning_rate=0.1, max_depth=6, n_estimators=400, num_leaves=31; accuracy: (train=0.996, test=0.895) roc_auc: (train=1.000, test=0.837) total time=   2.8s\n",
      "[CV 3/5] END colsample_bytree=1, learning_rate=0.1, max_depth=6, n_estimators=400, num_leaves=31; accuracy: (train=0.997, test=0.903) roc_auc: (train=1.000, test=0.884) total time=   2.8s\n",
      "[CV 4/5] END colsample_bytree=1, learning_rate=0.1, max_depth=6, n_estimators=400, num_leaves=31; accuracy: (train=0.997, test=0.875) roc_auc: (train=1.000, test=0.863) total time=   2.9s\n",
      "[CV 5/5] END colsample_bytree=1, learning_rate=0.1, max_depth=6, n_estimators=400, num_leaves=31; accuracy: (train=0.997, test=0.896) roc_auc: (train=1.000, test=0.905) total time=   3.0s\n",
      "[CV 1/5] END colsample_bytree=1, learning_rate=0.1, max_depth=6, n_estimators=400, num_leaves=52; accuracy: (train=0.997, test=0.900) roc_auc: (train=1.000, test=0.904) total time=   3.4s\n",
      "[CV 2/5] END colsample_bytree=1, learning_rate=0.1, max_depth=6, n_estimators=400, num_leaves=52; accuracy: (train=0.998, test=0.888) roc_auc: (train=1.000, test=0.829) total time=   3.1s\n",
      "[CV 3/5] END colsample_bytree=1, learning_rate=0.1, max_depth=6, n_estimators=400, num_leaves=52; accuracy: (train=0.997, test=0.902) roc_auc: (train=1.000, test=0.885) total time=   2.9s\n",
      "[CV 4/5] END colsample_bytree=1, learning_rate=0.1, max_depth=6, n_estimators=400, num_leaves=52; accuracy: (train=0.998, test=0.877) roc_auc: (train=1.000, test=0.865) total time=   3.0s\n",
      "[CV 5/5] END colsample_bytree=1, learning_rate=0.1, max_depth=6, n_estimators=400, num_leaves=52; accuracy: (train=0.996, test=0.900) roc_auc: (train=1.000, test=0.906) total time=   3.1s\n",
      "[CV 1/5] END colsample_bytree=1, learning_rate=0.1, max_depth=6, n_estimators=400, num_leaves=64; accuracy: (train=0.997, test=0.900) roc_auc: (train=1.000, test=0.904) total time=   3.0s\n",
      "[CV 2/5] END colsample_bytree=1, learning_rate=0.1, max_depth=6, n_estimators=400, num_leaves=64; accuracy: (train=0.997, test=0.889) roc_auc: (train=1.000, test=0.827) total time=   3.1s\n",
      "[CV 3/5] END colsample_bytree=1, learning_rate=0.1, max_depth=6, n_estimators=400, num_leaves=64; accuracy: (train=0.997, test=0.902) roc_auc: (train=1.000, test=0.885) total time=   3.0s\n",
      "[CV 4/5] END colsample_bytree=1, learning_rate=0.1, max_depth=6, n_estimators=400, num_leaves=64; accuracy: (train=0.998, test=0.877) roc_auc: (train=1.000, test=0.865) total time=   3.5s\n",
      "[CV 5/5] END colsample_bytree=1, learning_rate=0.1, max_depth=6, n_estimators=400, num_leaves=64; accuracy: (train=0.996, test=0.900) roc_auc: (train=1.000, test=0.906) total time=   2.8s\n",
      "[CV 1/5] END colsample_bytree=1, learning_rate=0.15, max_depth=4, n_estimators=160, num_leaves=31; accuracy: (train=0.939, test=0.890) roc_auc: (train=0.978, test=0.904) total time=   0.8s\n",
      "[CV 2/5] END colsample_bytree=1, learning_rate=0.15, max_depth=4, n_estimators=160, num_leaves=31; accuracy: (train=0.947, test=0.876) roc_auc: (train=0.981, test=0.836) total time=   0.8s\n",
      "[CV 3/5] END colsample_bytree=1, learning_rate=0.15, max_depth=4, n_estimators=160, num_leaves=31; accuracy: (train=0.941, test=0.884) roc_auc: (train=0.980, test=0.873) total time=   0.9s\n",
      "[CV 4/5] END colsample_bytree=1, learning_rate=0.15, max_depth=4, n_estimators=160, num_leaves=31; accuracy: (train=0.947, test=0.877) roc_auc: (train=0.981, test=0.864) total time=   0.8s\n",
      "[CV 5/5] END colsample_bytree=1, learning_rate=0.15, max_depth=4, n_estimators=160, num_leaves=31; accuracy: (train=0.941, test=0.898) roc_auc: (train=0.978, test=0.906) total time=   0.8s\n",
      "[CV 1/5] END colsample_bytree=1, learning_rate=0.15, max_depth=4, n_estimators=160, num_leaves=52; accuracy: (train=0.939, test=0.890) roc_auc: (train=0.978, test=0.904) total time=   0.7s\n",
      "[CV 2/5] END colsample_bytree=1, learning_rate=0.15, max_depth=4, n_estimators=160, num_leaves=52; accuracy: (train=0.947, test=0.876) roc_auc: (train=0.981, test=0.836) total time=   0.8s\n",
      "[CV 3/5] END colsample_bytree=1, learning_rate=0.15, max_depth=4, n_estimators=160, num_leaves=52; accuracy: (train=0.941, test=0.884) roc_auc: (train=0.980, test=0.873) total time=   0.7s\n",
      "[CV 4/5] END colsample_bytree=1, learning_rate=0.15, max_depth=4, n_estimators=160, num_leaves=52; accuracy: (train=0.947, test=0.877) roc_auc: (train=0.981, test=0.864) total time=   0.8s\n",
      "[CV 5/5] END colsample_bytree=1, learning_rate=0.15, max_depth=4, n_estimators=160, num_leaves=52; accuracy: (train=0.941, test=0.898) roc_auc: (train=0.978, test=0.906) total time=   0.7s\n",
      "[CV 1/5] END colsample_bytree=1, learning_rate=0.15, max_depth=4, n_estimators=160, num_leaves=64; accuracy: (train=0.939, test=0.890) roc_auc: (train=0.978, test=0.904) total time=   0.7s\n",
      "[CV 2/5] END colsample_bytree=1, learning_rate=0.15, max_depth=4, n_estimators=160, num_leaves=64; accuracy: (train=0.947, test=0.876) roc_auc: (train=0.981, test=0.836) total time=   0.8s\n",
      "[CV 3/5] END colsample_bytree=1, learning_rate=0.15, max_depth=4, n_estimators=160, num_leaves=64; accuracy: (train=0.941, test=0.884) roc_auc: (train=0.980, test=0.873) total time=   0.8s\n",
      "[CV 4/5] END colsample_bytree=1, learning_rate=0.15, max_depth=4, n_estimators=160, num_leaves=64; accuracy: (train=0.947, test=0.877) roc_auc: (train=0.981, test=0.864) total time=   0.7s\n",
      "[CV 5/5] END colsample_bytree=1, learning_rate=0.15, max_depth=4, n_estimators=160, num_leaves=64; accuracy: (train=0.941, test=0.898) roc_auc: (train=0.978, test=0.906) total time=   0.8s\n",
      "[CV 1/5] END colsample_bytree=1, learning_rate=0.15, max_depth=4, n_estimators=240, num_leaves=31; accuracy: (train=0.959, test=0.902) roc_auc: (train=0.991, test=0.910) total time=   0.9s\n",
      "[CV 2/5] END colsample_bytree=1, learning_rate=0.15, max_depth=4, n_estimators=240, num_leaves=31; accuracy: (train=0.965, test=0.896) roc_auc: (train=0.993, test=0.849) total time=   1.2s\n",
      "[CV 3/5] END colsample_bytree=1, learning_rate=0.15, max_depth=4, n_estimators=240, num_leaves=31; accuracy: (train=0.958, test=0.886) roc_auc: (train=0.993, test=0.879) total time=   1.0s\n",
      "[CV 4/5] END colsample_bytree=1, learning_rate=0.15, max_depth=4, n_estimators=240, num_leaves=31; accuracy: (train=0.966, test=0.883) roc_auc: (train=0.992, test=0.873) total time=   1.0s\n",
      "[CV 5/5] END colsample_bytree=1, learning_rate=0.15, max_depth=4, n_estimators=240, num_leaves=31; accuracy: (train=0.961, test=0.903) roc_auc: (train=0.989, test=0.916) total time=   1.0s\n",
      "[CV 1/5] END colsample_bytree=1, learning_rate=0.15, max_depth=4, n_estimators=240, num_leaves=52; accuracy: (train=0.959, test=0.902) roc_auc: (train=0.991, test=0.910) total time=   1.0s\n",
      "[CV 2/5] END colsample_bytree=1, learning_rate=0.15, max_depth=4, n_estimators=240, num_leaves=52; accuracy: (train=0.965, test=0.896) roc_auc: (train=0.993, test=0.849) total time=   1.0s\n",
      "[CV 3/5] END colsample_bytree=1, learning_rate=0.15, max_depth=4, n_estimators=240, num_leaves=52; accuracy: (train=0.958, test=0.886) roc_auc: (train=0.993, test=0.879) total time=   1.0s\n",
      "[CV 4/5] END colsample_bytree=1, learning_rate=0.15, max_depth=4, n_estimators=240, num_leaves=52; accuracy: (train=0.966, test=0.883) roc_auc: (train=0.992, test=0.873) total time=   1.1s\n",
      "[CV 5/5] END colsample_bytree=1, learning_rate=0.15, max_depth=4, n_estimators=240, num_leaves=52; accuracy: (train=0.961, test=0.903) roc_auc: (train=0.989, test=0.916) total time=   1.0s\n",
      "[CV 1/5] END colsample_bytree=1, learning_rate=0.15, max_depth=4, n_estimators=240, num_leaves=64; accuracy: (train=0.959, test=0.902) roc_auc: (train=0.991, test=0.910) total time=   1.0s\n",
      "[CV 2/5] END colsample_bytree=1, learning_rate=0.15, max_depth=4, n_estimators=240, num_leaves=64; accuracy: (train=0.965, test=0.896) roc_auc: (train=0.993, test=0.849) total time=   1.1s\n",
      "[CV 3/5] END colsample_bytree=1, learning_rate=0.15, max_depth=4, n_estimators=240, num_leaves=64; accuracy: (train=0.958, test=0.886) roc_auc: (train=0.993, test=0.879) total time=   1.2s\n",
      "[CV 4/5] END colsample_bytree=1, learning_rate=0.15, max_depth=4, n_estimators=240, num_leaves=64; accuracy: (train=0.966, test=0.883) roc_auc: (train=0.992, test=0.873) total time=   1.0s\n",
      "[CV 5/5] END colsample_bytree=1, learning_rate=0.15, max_depth=4, n_estimators=240, num_leaves=64; accuracy: (train=0.961, test=0.903) roc_auc: (train=0.989, test=0.916) total time=   1.2s\n",
      "[CV 1/5] END colsample_bytree=1, learning_rate=0.15, max_depth=4, n_estimators=400, num_leaves=31; accuracy: (train=0.981, test=0.907) roc_auc: (train=0.999, test=0.914) total time=   1.5s\n",
      "[CV 2/5] END colsample_bytree=1, learning_rate=0.15, max_depth=4, n_estimators=400, num_leaves=31; accuracy: (train=0.983, test=0.900) roc_auc: (train=0.999, test=0.849) total time=   1.8s\n",
      "[CV 3/5] END colsample_bytree=1, learning_rate=0.15, max_depth=4, n_estimators=400, num_leaves=31; accuracy: (train=0.983, test=0.909) roc_auc: (train=0.999, test=0.885) total time=   1.5s\n",
      "[CV 4/5] END colsample_bytree=1, learning_rate=0.15, max_depth=4, n_estimators=400, num_leaves=31; accuracy: (train=0.985, test=0.894) roc_auc: (train=0.999, test=0.877) total time=   1.7s\n",
      "[CV 5/5] END colsample_bytree=1, learning_rate=0.15, max_depth=4, n_estimators=400, num_leaves=31; accuracy: (train=0.981, test=0.904) roc_auc: (train=0.998, test=0.919) total time=   1.5s\n",
      "[CV 1/5] END colsample_bytree=1, learning_rate=0.15, max_depth=4, n_estimators=400, num_leaves=52; accuracy: (train=0.981, test=0.907) roc_auc: (train=0.999, test=0.914) total time=   1.9s\n",
      "[CV 2/5] END colsample_bytree=1, learning_rate=0.15, max_depth=4, n_estimators=400, num_leaves=52; accuracy: (train=0.983, test=0.900) roc_auc: (train=0.999, test=0.849) total time=   1.5s\n",
      "[CV 3/5] END colsample_bytree=1, learning_rate=0.15, max_depth=4, n_estimators=400, num_leaves=52; accuracy: (train=0.983, test=0.909) roc_auc: (train=0.999, test=0.885) total time=   1.5s\n",
      "[CV 4/5] END colsample_bytree=1, learning_rate=0.15, max_depth=4, n_estimators=400, num_leaves=52; accuracy: (train=0.985, test=0.894) roc_auc: (train=0.999, test=0.877) total time=   1.6s\n",
      "[CV 5/5] END colsample_bytree=1, learning_rate=0.15, max_depth=4, n_estimators=400, num_leaves=52; accuracy: (train=0.981, test=0.904) roc_auc: (train=0.998, test=0.919) total time=   1.7s\n",
      "[CV 1/5] END colsample_bytree=1, learning_rate=0.15, max_depth=4, n_estimators=400, num_leaves=64; accuracy: (train=0.981, test=0.907) roc_auc: (train=0.999, test=0.914) total time=   1.6s\n",
      "[CV 2/5] END colsample_bytree=1, learning_rate=0.15, max_depth=4, n_estimators=400, num_leaves=64; accuracy: (train=0.983, test=0.900) roc_auc: (train=0.999, test=0.849) total time=   1.7s\n",
      "[CV 3/5] END colsample_bytree=1, learning_rate=0.15, max_depth=4, n_estimators=400, num_leaves=64; accuracy: (train=0.983, test=0.909) roc_auc: (train=0.999, test=0.885) total time=   1.5s\n",
      "[CV 4/5] END colsample_bytree=1, learning_rate=0.15, max_depth=4, n_estimators=400, num_leaves=64; accuracy: (train=0.985, test=0.894) roc_auc: (train=0.999, test=0.877) total time=   1.6s\n",
      "[CV 5/5] END colsample_bytree=1, learning_rate=0.15, max_depth=4, n_estimators=400, num_leaves=64; accuracy: (train=0.981, test=0.904) roc_auc: (train=0.998, test=0.919) total time=   1.6s\n",
      "[CV 1/5] END colsample_bytree=1, learning_rate=0.15, max_depth=5, n_estimators=160, num_leaves=31; accuracy: (train=0.963, test=0.892) roc_auc: (train=0.994, test=0.901) total time=   1.0s\n",
      "[CV 2/5] END colsample_bytree=1, learning_rate=0.15, max_depth=5, n_estimators=160, num_leaves=31; accuracy: (train=0.967, test=0.879) roc_auc: (train=0.995, test=0.827) total time=   1.0s\n",
      "[CV 3/5] END colsample_bytree=1, learning_rate=0.15, max_depth=5, n_estimators=160, num_leaves=31; accuracy: (train=0.968, test=0.890) roc_auc: (train=0.995, test=0.876) total time=   1.0s\n",
      "[CV 4/5] END colsample_bytree=1, learning_rate=0.15, max_depth=5, n_estimators=160, num_leaves=31; accuracy: (train=0.969, test=0.880) roc_auc: (train=0.995, test=0.869) total time=   1.0s\n",
      "[CV 5/5] END colsample_bytree=1, learning_rate=0.15, max_depth=5, n_estimators=160, num_leaves=31; accuracy: (train=0.964, test=0.894) roc_auc: (train=0.992, test=0.904) total time=   1.0s\n",
      "[CV 1/5] END colsample_bytree=1, learning_rate=0.15, max_depth=5, n_estimators=160, num_leaves=52; accuracy: (train=0.963, test=0.892) roc_auc: (train=0.994, test=0.901) total time=   1.0s\n",
      "[CV 2/5] END colsample_bytree=1, learning_rate=0.15, max_depth=5, n_estimators=160, num_leaves=52; accuracy: (train=0.967, test=0.879) roc_auc: (train=0.995, test=0.827) total time=   1.1s\n",
      "[CV 3/5] END colsample_bytree=1, learning_rate=0.15, max_depth=5, n_estimators=160, num_leaves=52; accuracy: (train=0.965, test=0.886) roc_auc: (train=0.995, test=0.872) total time=   1.2s\n",
      "[CV 4/5] END colsample_bytree=1, learning_rate=0.15, max_depth=5, n_estimators=160, num_leaves=52; accuracy: (train=0.968, test=0.874) roc_auc: (train=0.994, test=0.868) total time=   2.1s\n",
      "[CV 5/5] END colsample_bytree=1, learning_rate=0.15, max_depth=5, n_estimators=160, num_leaves=52; accuracy: (train=0.964, test=0.894) roc_auc: (train=0.992, test=0.904) total time=   1.0s\n",
      "[CV 1/5] END colsample_bytree=1, learning_rate=0.15, max_depth=5, n_estimators=160, num_leaves=64; accuracy: (train=0.963, test=0.892) roc_auc: (train=0.994, test=0.901) total time=   0.9s\n",
      "[CV 2/5] END colsample_bytree=1, learning_rate=0.15, max_depth=5, n_estimators=160, num_leaves=64; accuracy: (train=0.967, test=0.879) roc_auc: (train=0.995, test=0.827) total time=   0.9s\n",
      "[CV 3/5] END colsample_bytree=1, learning_rate=0.15, max_depth=5, n_estimators=160, num_leaves=64; accuracy: (train=0.965, test=0.886) roc_auc: (train=0.995, test=0.872) total time=   1.1s\n",
      "[CV 4/5] END colsample_bytree=1, learning_rate=0.15, max_depth=5, n_estimators=160, num_leaves=64; accuracy: (train=0.968, test=0.874) roc_auc: (train=0.994, test=0.868) total time=   1.0s\n",
      "[CV 5/5] END colsample_bytree=1, learning_rate=0.15, max_depth=5, n_estimators=160, num_leaves=64; accuracy: (train=0.964, test=0.894) roc_auc: (train=0.992, test=0.904) total time=   1.0s\n",
      "[CV 1/5] END colsample_bytree=1, learning_rate=0.15, max_depth=5, n_estimators=240, num_leaves=31; accuracy: (train=0.981, test=0.900) roc_auc: (train=0.999, test=0.910) total time=   1.4s\n",
      "[CV 2/5] END colsample_bytree=1, learning_rate=0.15, max_depth=5, n_estimators=240, num_leaves=31; accuracy: (train=0.983, test=0.893) roc_auc: (train=0.999, test=0.834) total time=   1.5s\n",
      "[CV 3/5] END colsample_bytree=1, learning_rate=0.15, max_depth=5, n_estimators=240, num_leaves=31; accuracy: (train=0.984, test=0.902) roc_auc: (train=0.999, test=0.879) total time=   1.5s\n",
      "[CV 4/5] END colsample_bytree=1, learning_rate=0.15, max_depth=5, n_estimators=240, num_leaves=31; accuracy: (train=0.984, test=0.883) roc_auc: (train=0.999, test=0.871) total time=   1.4s\n",
      "[CV 5/5] END colsample_bytree=1, learning_rate=0.15, max_depth=5, n_estimators=240, num_leaves=31; accuracy: (train=0.983, test=0.899) roc_auc: (train=0.999, test=0.905) total time=   1.5s\n",
      "[CV 1/5] END colsample_bytree=1, learning_rate=0.15, max_depth=5, n_estimators=240, num_leaves=52; accuracy: (train=0.981, test=0.900) roc_auc: (train=0.999, test=0.910) total time=   1.4s\n",
      "[CV 2/5] END colsample_bytree=1, learning_rate=0.15, max_depth=5, n_estimators=240, num_leaves=52; accuracy: (train=0.983, test=0.893) roc_auc: (train=0.999, test=0.834) total time=   1.4s\n",
      "[CV 3/5] END colsample_bytree=1, learning_rate=0.15, max_depth=5, n_estimators=240, num_leaves=52; accuracy: (train=0.986, test=0.903) roc_auc: (train=0.999, test=0.879) total time=   1.5s\n",
      "[CV 4/5] END colsample_bytree=1, learning_rate=0.15, max_depth=5, n_estimators=240, num_leaves=52; accuracy: (train=0.985, test=0.878) roc_auc: (train=0.999, test=0.872) total time=   1.4s\n",
      "[CV 5/5] END colsample_bytree=1, learning_rate=0.15, max_depth=5, n_estimators=240, num_leaves=52; accuracy: (train=0.983, test=0.899) roc_auc: (train=0.999, test=0.905) total time=   1.6s\n",
      "[CV 1/5] END colsample_bytree=1, learning_rate=0.15, max_depth=5, n_estimators=240, num_leaves=64; accuracy: (train=0.981, test=0.900) roc_auc: (train=0.999, test=0.910) total time=   1.3s\n",
      "[CV 2/5] END colsample_bytree=1, learning_rate=0.15, max_depth=5, n_estimators=240, num_leaves=64; accuracy: (train=0.983, test=0.893) roc_auc: (train=0.999, test=0.834) total time=   1.5s\n",
      "[CV 3/5] END colsample_bytree=1, learning_rate=0.15, max_depth=5, n_estimators=240, num_leaves=64; accuracy: (train=0.986, test=0.903) roc_auc: (train=0.999, test=0.879) total time=   1.4s\n",
      "[CV 4/5] END colsample_bytree=1, learning_rate=0.15, max_depth=5, n_estimators=240, num_leaves=64; accuracy: (train=0.985, test=0.878) roc_auc: (train=0.999, test=0.872) total time=   1.7s\n",
      "[CV 5/5] END colsample_bytree=1, learning_rate=0.15, max_depth=5, n_estimators=240, num_leaves=64; accuracy: (train=0.983, test=0.899) roc_auc: (train=0.999, test=0.905) total time=   1.3s\n",
      "[CV 1/5] END colsample_bytree=1, learning_rate=0.15, max_depth=5, n_estimators=400, num_leaves=31; accuracy: (train=0.998, test=0.904) roc_auc: (train=1.000, test=0.910) total time=   2.1s\n",
      "[CV 2/5] END colsample_bytree=1, learning_rate=0.15, max_depth=5, n_estimators=400, num_leaves=31; accuracy: (train=0.996, test=0.898) roc_auc: (train=1.000, test=0.839) total time=   2.2s\n",
      "[CV 3/5] END colsample_bytree=1, learning_rate=0.15, max_depth=5, n_estimators=400, num_leaves=31; accuracy: (train=0.999, test=0.900) roc_auc: (train=1.000, test=0.876) total time=   2.3s\n",
      "[CV 4/5] END colsample_bytree=1, learning_rate=0.15, max_depth=5, n_estimators=400, num_leaves=31; accuracy: (train=0.999, test=0.883) roc_auc: (train=1.000, test=0.870) total time=   2.4s\n",
      "[CV 5/5] END colsample_bytree=1, learning_rate=0.15, max_depth=5, n_estimators=400, num_leaves=31; accuracy: (train=0.998, test=0.902) roc_auc: (train=1.000, test=0.904) total time=   2.5s\n",
      "[CV 1/5] END colsample_bytree=1, learning_rate=0.15, max_depth=5, n_estimators=400, num_leaves=52; accuracy: (train=0.998, test=0.904) roc_auc: (train=1.000, test=0.910) total time=   2.2s\n",
      "[CV 2/5] END colsample_bytree=1, learning_rate=0.15, max_depth=5, n_estimators=400, num_leaves=52; accuracy: (train=0.996, test=0.898) roc_auc: (train=1.000, test=0.839) total time=   2.4s\n",
      "[CV 3/5] END colsample_bytree=1, learning_rate=0.15, max_depth=5, n_estimators=400, num_leaves=52; accuracy: (train=0.998, test=0.900) roc_auc: (train=1.000, test=0.879) total time=   2.3s\n",
      "[CV 4/5] END colsample_bytree=1, learning_rate=0.15, max_depth=5, n_estimators=400, num_leaves=52; accuracy: (train=0.998, test=0.883) roc_auc: (train=1.000, test=0.871) total time=   2.2s\n",
      "[CV 5/5] END colsample_bytree=1, learning_rate=0.15, max_depth=5, n_estimators=400, num_leaves=52; accuracy: (train=0.998, test=0.902) roc_auc: (train=1.000, test=0.904) total time=   2.3s\n",
      "[CV 1/5] END colsample_bytree=1, learning_rate=0.15, max_depth=5, n_estimators=400, num_leaves=64; accuracy: (train=0.998, test=0.904) roc_auc: (train=1.000, test=0.910) total time=   2.2s\n",
      "[CV 2/5] END colsample_bytree=1, learning_rate=0.15, max_depth=5, n_estimators=400, num_leaves=64; accuracy: (train=0.996, test=0.898) roc_auc: (train=1.000, test=0.839) total time=   2.2s\n",
      "[CV 3/5] END colsample_bytree=1, learning_rate=0.15, max_depth=5, n_estimators=400, num_leaves=64; accuracy: (train=0.998, test=0.900) roc_auc: (train=1.000, test=0.879) total time=   2.2s\n",
      "[CV 4/5] END colsample_bytree=1, learning_rate=0.15, max_depth=5, n_estimators=400, num_leaves=64; accuracy: (train=0.998, test=0.883) roc_auc: (train=1.000, test=0.871) total time=   2.4s\n",
      "[CV 5/5] END colsample_bytree=1, learning_rate=0.15, max_depth=5, n_estimators=400, num_leaves=64; accuracy: (train=0.998, test=0.902) roc_auc: (train=1.000, test=0.904) total time=   2.4s\n",
      "[CV 1/5] END colsample_bytree=1, learning_rate=0.15, max_depth=6, n_estimators=160, num_leaves=31; accuracy: (train=0.979, test=0.896) roc_auc: (train=0.999, test=0.905) total time=   1.2s\n",
      "[CV 2/5] END colsample_bytree=1, learning_rate=0.15, max_depth=6, n_estimators=160, num_leaves=31; accuracy: (train=0.982, test=0.887) roc_auc: (train=0.999, test=0.828) total time=   1.2s\n",
      "[CV 3/5] END colsample_bytree=1, learning_rate=0.15, max_depth=6, n_estimators=160, num_leaves=31; accuracy: (train=0.980, test=0.901) roc_auc: (train=0.999, test=0.881) total time=   1.2s\n",
      "[CV 4/5] END colsample_bytree=1, learning_rate=0.15, max_depth=6, n_estimators=160, num_leaves=31; accuracy: (train=0.980, test=0.875) roc_auc: (train=0.998, test=0.864) total time=   1.2s\n",
      "[CV 5/5] END colsample_bytree=1, learning_rate=0.15, max_depth=6, n_estimators=160, num_leaves=31; accuracy: (train=0.980, test=0.898) roc_auc: (train=0.999, test=0.906) total time=   1.1s\n",
      "[CV 1/5] END colsample_bytree=1, learning_rate=0.15, max_depth=6, n_estimators=160, num_leaves=52; accuracy: (train=0.982, test=0.890) roc_auc: (train=0.999, test=0.897) total time=   1.3s\n",
      "[CV 2/5] END colsample_bytree=1, learning_rate=0.15, max_depth=6, n_estimators=160, num_leaves=52; accuracy: (train=0.983, test=0.879) roc_auc: (train=0.999, test=0.820) total time=   1.3s\n",
      "[CV 3/5] END colsample_bytree=1, learning_rate=0.15, max_depth=6, n_estimators=160, num_leaves=52; accuracy: (train=0.983, test=0.893) roc_auc: (train=0.999, test=0.873) total time=   1.2s\n",
      "[CV 4/5] END colsample_bytree=1, learning_rate=0.15, max_depth=6, n_estimators=160, num_leaves=52; accuracy: (train=0.987, test=0.871) roc_auc: (train=1.000, test=0.853) total time=   1.3s\n",
      "[CV 5/5] END colsample_bytree=1, learning_rate=0.15, max_depth=6, n_estimators=160, num_leaves=52; accuracy: (train=0.980, test=0.901) roc_auc: (train=0.998, test=0.902) total time=   1.4s\n",
      "[CV 1/5] END colsample_bytree=1, learning_rate=0.15, max_depth=6, n_estimators=160, num_leaves=64; accuracy: (train=0.982, test=0.890) roc_auc: (train=0.999, test=0.897) total time=   1.2s\n",
      "[CV 2/5] END colsample_bytree=1, learning_rate=0.15, max_depth=6, n_estimators=160, num_leaves=64; accuracy: (train=0.983, test=0.879) roc_auc: (train=0.999, test=0.820) total time=   1.2s\n",
      "[CV 3/5] END colsample_bytree=1, learning_rate=0.15, max_depth=6, n_estimators=160, num_leaves=64; accuracy: (train=0.983, test=0.893) roc_auc: (train=0.999, test=0.873) total time=   1.4s\n",
      "[CV 4/5] END colsample_bytree=1, learning_rate=0.15, max_depth=6, n_estimators=160, num_leaves=64; accuracy: (train=0.987, test=0.871) roc_auc: (train=1.000, test=0.853) total time=   1.4s\n",
      "[CV 5/5] END colsample_bytree=1, learning_rate=0.15, max_depth=6, n_estimators=160, num_leaves=64; accuracy: (train=0.980, test=0.901) roc_auc: (train=0.998, test=0.902) total time=   1.2s\n",
      "[CV 1/5] END colsample_bytree=1, learning_rate=0.15, max_depth=6, n_estimators=240, num_leaves=31; accuracy: (train=0.995, test=0.900) roc_auc: (train=1.000, test=0.903) total time=   1.7s\n",
      "[CV 2/5] END colsample_bytree=1, learning_rate=0.15, max_depth=6, n_estimators=240, num_leaves=31; accuracy: (train=0.993, test=0.893) roc_auc: (train=1.000, test=0.834) total time=   1.7s\n",
      "[CV 3/5] END colsample_bytree=1, learning_rate=0.15, max_depth=6, n_estimators=240, num_leaves=31; accuracy: (train=0.994, test=0.902) roc_auc: (train=1.000, test=0.886) total time=   1.7s\n",
      "[CV 4/5] END colsample_bytree=1, learning_rate=0.15, max_depth=6, n_estimators=240, num_leaves=31; accuracy: (train=0.994, test=0.875) roc_auc: (train=1.000, test=0.862) total time=   1.7s\n",
      "[CV 5/5] END colsample_bytree=1, learning_rate=0.15, max_depth=6, n_estimators=240, num_leaves=31; accuracy: (train=0.994, test=0.902) roc_auc: (train=1.000, test=0.911) total time=   1.8s\n",
      "[CV 1/5] END colsample_bytree=1, learning_rate=0.15, max_depth=6, n_estimators=240, num_leaves=52; accuracy: (train=0.997, test=0.897) roc_auc: (train=1.000, test=0.896) total time=   1.9s\n",
      "[CV 2/5] END colsample_bytree=1, learning_rate=0.15, max_depth=6, n_estimators=240, num_leaves=52; accuracy: (train=0.995, test=0.886) roc_auc: (train=1.000, test=0.829) total time=   1.8s\n",
      "[CV 3/5] END colsample_bytree=1, learning_rate=0.15, max_depth=6, n_estimators=240, num_leaves=52; accuracy: (train=0.996, test=0.898) roc_auc: (train=1.000, test=0.877) total time=   1.9s\n",
      "[CV 4/5] END colsample_bytree=1, learning_rate=0.15, max_depth=6, n_estimators=240, num_leaves=52; accuracy: (train=0.998, test=0.870) roc_auc: (train=1.000, test=0.856) total time=   2.2s\n",
      "[CV 5/5] END colsample_bytree=1, learning_rate=0.15, max_depth=6, n_estimators=240, num_leaves=52; accuracy: (train=0.994, test=0.898) roc_auc: (train=1.000, test=0.900) total time=   1.7s\n",
      "[CV 1/5] END colsample_bytree=1, learning_rate=0.15, max_depth=6, n_estimators=240, num_leaves=64; accuracy: (train=0.997, test=0.897) roc_auc: (train=1.000, test=0.896) total time=   1.8s\n",
      "[CV 2/5] END colsample_bytree=1, learning_rate=0.15, max_depth=6, n_estimators=240, num_leaves=64; accuracy: (train=0.995, test=0.886) roc_auc: (train=1.000, test=0.829) total time=   1.8s\n",
      "[CV 3/5] END colsample_bytree=1, learning_rate=0.15, max_depth=6, n_estimators=240, num_leaves=64; accuracy: (train=0.996, test=0.898) roc_auc: (train=1.000, test=0.877) total time=   1.9s\n",
      "[CV 4/5] END colsample_bytree=1, learning_rate=0.15, max_depth=6, n_estimators=240, num_leaves=64; accuracy: (train=0.998, test=0.870) roc_auc: (train=1.000, test=0.856) total time=   2.2s\n",
      "[CV 5/5] END colsample_bytree=1, learning_rate=0.15, max_depth=6, n_estimators=240, num_leaves=64; accuracy: (train=0.994, test=0.898) roc_auc: (train=1.000, test=0.900) total time=   1.9s\n",
      "[CV 1/5] END colsample_bytree=1, learning_rate=0.15, max_depth=6, n_estimators=400, num_leaves=31; accuracy: (train=1.000, test=0.901) roc_auc: (train=1.000, test=0.903) total time=   2.7s\n",
      "[CV 2/5] END colsample_bytree=1, learning_rate=0.15, max_depth=6, n_estimators=400, num_leaves=31; accuracy: (train=1.000, test=0.889) roc_auc: (train=1.000, test=0.837) total time=   3.1s\n",
      "[CV 3/5] END colsample_bytree=1, learning_rate=0.15, max_depth=6, n_estimators=400, num_leaves=31; accuracy: (train=1.000, test=0.905) roc_auc: (train=1.000, test=0.883) total time=   2.9s\n",
      "[CV 4/5] END colsample_bytree=1, learning_rate=0.15, max_depth=6, n_estimators=400, num_leaves=31; accuracy: (train=1.000, test=0.879) roc_auc: (train=1.000, test=0.865) total time=   3.3s\n",
      "[CV 5/5] END colsample_bytree=1, learning_rate=0.15, max_depth=6, n_estimators=400, num_leaves=31; accuracy: (train=1.000, test=0.902) roc_auc: (train=1.000, test=0.910) total time=   3.0s\n",
      "[CV 1/5] END colsample_bytree=1, learning_rate=0.15, max_depth=6, n_estimators=400, num_leaves=52; accuracy: (train=1.000, test=0.899) roc_auc: (train=1.000, test=0.901) total time=   3.1s\n",
      "[CV 2/5] END colsample_bytree=1, learning_rate=0.15, max_depth=6, n_estimators=400, num_leaves=52; accuracy: (train=1.000, test=0.896) roc_auc: (train=1.000, test=0.837) total time=   3.0s\n",
      "[CV 3/5] END colsample_bytree=1, learning_rate=0.15, max_depth=6, n_estimators=400, num_leaves=52; accuracy: (train=1.000, test=0.893) roc_auc: (train=1.000, test=0.874) total time=   3.0s\n",
      "[CV 4/5] END colsample_bytree=1, learning_rate=0.15, max_depth=6, n_estimators=400, num_leaves=52; accuracy: (train=1.000, test=0.875) roc_auc: (train=1.000, test=0.860) total time=   3.1s\n",
      "[CV 5/5] END colsample_bytree=1, learning_rate=0.15, max_depth=6, n_estimators=400, num_leaves=52; accuracy: (train=1.000, test=0.898) roc_auc: (train=1.000, test=0.906) total time=   3.0s\n",
      "[CV 1/5] END colsample_bytree=1, learning_rate=0.15, max_depth=6, n_estimators=400, num_leaves=64; accuracy: (train=1.000, test=0.899) roc_auc: (train=1.000, test=0.901) total time=   3.3s\n",
      "[CV 2/5] END colsample_bytree=1, learning_rate=0.15, max_depth=6, n_estimators=400, num_leaves=64; accuracy: (train=1.000, test=0.896) roc_auc: (train=1.000, test=0.837) total time=   3.2s\n",
      "[CV 3/5] END colsample_bytree=1, learning_rate=0.15, max_depth=6, n_estimators=400, num_leaves=64; accuracy: (train=1.000, test=0.893) roc_auc: (train=1.000, test=0.874) total time=   3.4s\n",
      "[CV 4/5] END colsample_bytree=1, learning_rate=0.15, max_depth=6, n_estimators=400, num_leaves=64; accuracy: (train=1.000, test=0.874) roc_auc: (train=1.000, test=0.861) total time=   3.3s\n",
      "[CV 5/5] END colsample_bytree=1, learning_rate=0.15, max_depth=6, n_estimators=400, num_leaves=64; accuracy: (train=1.000, test=0.898) roc_auc: (train=1.000, test=0.906) total time=   2.9s\n"
     ]
    },
    {
     "data": {
      "text/plain": [
       "GridSearchCV(cv=5, estimator=LGBMClassifier(random_state=140823), n_jobs=-1,\n",
       "             param_grid={'colsample_bytree': [0.8, 1],\n",
       "                         'learning_rate': [0.1, 0.15], 'max_depth': [4, 5, 6],\n",
       "                         'n_estimators': [160, 240, 400],\n",
       "                         'num_leaves': [31, 52, 64]},\n",
       "             refit='roc_auc', return_train_score=True,\n",
       "             scoring=['roc_auc', 'accuracy'], verbose=3)"
      ]
     },
     "execution_count": 35,
     "metadata": {},
     "output_type": "execute_result"
    }
   ],
   "source": [
    "grid_lgb.fit(X_train, y_train)"
   ]
  },
  {
   "cell_type": "code",
   "execution_count": 36,
   "metadata": {},
   "outputs": [
    {
     "name": "stdout",
     "output_type": "stream",
     "text": [
      "Лучшие параметры - {'colsample_bytree': 0.8, 'learning_rate': 0.15, 'max_depth': 4, 'n_estimators': 400, 'num_leaves': 31} , лучший результат - 0.893156500049853\n"
     ]
    }
   ],
   "source": [
    "print('Лучшие параметры -', grid_lgb.best_params_, ', лучший результат -', grid_lgb.best_score_)"
   ]
  },
  {
   "cell_type": "markdown",
   "metadata": {},
   "source": [
    "Хороший результат, мы достигли целевой метрики. Теперь посмотрим, как справится другой алгоритм градиентного бустинга - CatBoost"
   ]
  },
  {
   "cell_type": "markdown",
   "metadata": {},
   "source": [
    "### CatBoostClassifier"
   ]
  },
  {
   "cell_type": "markdown",
   "metadata": {},
   "source": [
    "CatBoost имеет встроенный метод подбора гиперпараметров, воспользуемся им\n",
    "\n",
    "Определяем изначальные параметры для нашего алгоритма и категориальные параметры, затем перечисляем параметры, которые будем подбирать"
   ]
  },
  {
   "cell_type": "code",
   "execution_count": 37,
   "metadata": {},
   "outputs": [],
   "source": [
    "cat = CatBoostClassifier(loss_function='CrossEntropy', eval_metric='AUC:hints=skip_train~false', iterations=3001,\n",
    "                         cat_features=cat_names, random_state=RANDOM_STATE, verbose=1000, metric_period=1000)\n",
    "\n",
    "parameters = {'depth': [4, 5, 6],\n",
    "              'learning_rate': [0.1, 0.15],\n",
    "              'l2_leaf_reg': [2, 3]\n",
    "             }"
   ]
  },
  {
   "cell_type": "markdown",
   "metadata": {},
   "source": [
    "Подбираем оптимальные"
   ]
  },
  {
   "cell_type": "code",
   "execution_count": 38,
   "metadata": {
    "scrolled": true
   },
   "outputs": [
    {
     "name": "stdout",
     "output_type": "stream",
     "text": [
      "0:\tlearn: 0.6976493\ttest: 0.6737372\tbest: 0.6737372 (0)\ttotal: 52.5ms\tremaining: 2m 37s\n",
      "1000:\tlearn: 0.9935779\ttest: 0.8997436\tbest: 0.8997436 (1000)\ttotal: 4.1s\tremaining: 8.2s\n",
      "2000:\tlearn: 0.9999387\ttest: 0.9082938\tbest: 0.9082938 (2000)\ttotal: 8.2s\tremaining: 4.1s\n",
      "3000:\tlearn: 1.0000000\ttest: 0.9085382\tbest: 0.9085382 (3000)\ttotal: 12.3s\tremaining: 0us\n",
      "\n",
      "bestTest = 0.9085382184\n",
      "bestIteration = 3000\n",
      "\n",
      "0:\tloss: 0.9085382\tbest: 0.9085382 (0)\ttotal: 12.8s\tremaining: 2m 20s\n",
      "0:\tlearn: 0.6976493\ttest: 0.6737372\tbest: 0.6737372 (0)\ttotal: 6.22ms\tremaining: 18.7s\n",
      "1000:\tlearn: 0.9992286\ttest: 0.9078921\tbest: 0.9078921 (1000)\ttotal: 4.03s\tremaining: 8.04s\n",
      "2000:\tlearn: 1.0000000\ttest: 0.9091341\tbest: 0.9091341 (2000)\ttotal: 8.12s\tremaining: 4.06s\n",
      "3000:\tlearn: 1.0000000\ttest: 0.9108013\tbest: 0.9108013 (3000)\ttotal: 12.3s\tremaining: 0us\n",
      "\n",
      "bestTest = 0.9108013284\n",
      "bestIteration = 3000\n",
      "\n",
      "1:\tloss: 0.9108013\tbest: 0.9108013 (1)\ttotal: 25.1s\tremaining: 2m 5s\n",
      "0:\tlearn: 0.6975973\ttest: 0.6737372\tbest: 0.6737372 (0)\ttotal: 4.75ms\tremaining: 14.3s\n",
      "1000:\tlearn: 0.9919294\ttest: 0.9051101\tbest: 0.9051101 (1000)\ttotal: 4.05s\tremaining: 8.08s\n",
      "2000:\tlearn: 0.9998300\ttest: 0.9088127\tbest: 0.9088127 (2000)\ttotal: 8.18s\tremaining: 4.09s\n",
      "3000:\tlearn: 0.9999987\ttest: 0.9115914\tbest: 0.9115914 (3000)\ttotal: 12.3s\tremaining: 0us\n",
      "\n",
      "bestTest = 0.9115914082\n",
      "bestIteration = 3000\n",
      "\n",
      "2:\tloss: 0.9115914\tbest: 0.9115914 (2)\ttotal: 37.4s\tremaining: 1m 52s\n",
      "0:\tlearn: 0.6975973\ttest: 0.6737372\tbest: 0.6737372 (0)\ttotal: 4.75ms\tremaining: 14.3s\n",
      "1000:\tlearn: 0.9980533\ttest: 0.9070183\tbest: 0.9070183 (1000)\ttotal: 3.96s\tremaining: 7.91s\n",
      "2000:\tlearn: 0.9999958\ttest: 0.9066768\tbest: 0.9070183 (1000)\ttotal: 8.03s\tremaining: 4.01s\n",
      "3000:\tlearn: 1.0000000\ttest: 0.9069313\tbest: 0.9070183 (1000)\ttotal: 12.1s\tremaining: 0us\n",
      "\n",
      "bestTest = 0.9070183191\n",
      "bestIteration = 1000\n",
      "\n",
      "3:\tloss: 0.9070183\tbest: 0.9115914 (2)\ttotal: 49.5s\tremaining: 1m 39s\n",
      "0:\tlearn: 0.7012699\ttest: 0.6783003\tbest: 0.6783003 (0)\ttotal: 6.89ms\tremaining: 20.7s\n",
      "1000:\tlearn: 0.9994667\ttest: 0.9071422\tbest: 0.9071422 (1000)\ttotal: 5s\tremaining: 9.98s\n",
      "2000:\tlearn: 1.0000000\ttest: 0.9067572\tbest: 0.9071422 (1000)\ttotal: 10s\tremaining: 5.01s\n",
      "3000:\tlearn: 1.0000000\ttest: 0.9063956\tbest: 0.9071422 (1000)\ttotal: 15.1s\tremaining: 0us\n",
      "\n",
      "bestTest = 0.9071421876\n",
      "bestIteration = 1000\n",
      "\n",
      "4:\tloss: 0.9071422\tbest: 0.9115914 (2)\ttotal: 1m 4s\tremaining: 1m 30s\n",
      "0:\tlearn: 0.7012699\ttest: 0.6783003\tbest: 0.6783003 (0)\ttotal: 5.87ms\tremaining: 17.6s\n",
      "1000:\tlearn: 0.9999953\ttest: 0.9026026\tbest: 0.9026026 (1000)\ttotal: 4.98s\tremaining: 9.95s\n",
      "2000:\tlearn: 1.0000000\ttest: 0.9016786\tbest: 0.9026026 (1000)\ttotal: 10.1s\tremaining: 5.04s\n",
      "3000:\tlearn: 1.0000000\ttest: 0.9015949\tbest: 0.9026026 (1000)\ttotal: 15s\tremaining: 0us\n",
      "\n",
      "bestTest = 0.9026025765\n",
      "bestIteration = 1000\n",
      "\n",
      "5:\tloss: 0.9026026\tbest: 0.9115914 (2)\ttotal: 1m 19s\tremaining: 1m 19s\n",
      "0:\tlearn: 0.7012179\ttest: 0.6783003\tbest: 0.6783003 (0)\ttotal: 5.6ms\tremaining: 16.8s\n",
      "1000:\tlearn: 0.9986564\ttest: 0.9081365\tbest: 0.9081365 (1000)\ttotal: 4.9s\tremaining: 9.78s\n",
      "2000:\tlearn: 0.9999987\ttest: 0.9091274\tbest: 0.9091274 (2000)\ttotal: 10s\tremaining: 5s\n",
      "3000:\tlearn: 1.0000000\ttest: 0.9106473\tbest: 0.9106473 (3000)\ttotal: 15s\tremaining: 0us\n",
      "\n",
      "bestTest = 0.9106473298\n",
      "bestIteration = 3000\n",
      "\n",
      "6:\tloss: 0.9106473\tbest: 0.9115914 (2)\ttotal: 1m 34s\tremaining: 1m 7s\n",
      "0:\tlearn: 0.7012179\ttest: 0.6783003\tbest: 0.6783003 (0)\ttotal: 6.07ms\tremaining: 18.2s\n",
      "1000:\tlearn: 0.9999784\ttest: 0.9046113\tbest: 0.9046113 (1000)\ttotal: 4.91s\tremaining: 9.81s\n",
      "2000:\tlearn: 1.0000000\ttest: 0.9058232\tbest: 0.9058232 (2000)\ttotal: 9.98s\tremaining: 4.99s\n",
      "3000:\tlearn: 1.0000000\ttest: 0.9037241\tbest: 0.9058232 (2000)\ttotal: 14.8s\tremaining: 0us\n",
      "\n",
      "bestTest = 0.905823156\n",
      "bestIteration = 2000\n",
      "\n",
      "7:\tloss: 0.9058232\tbest: 0.9115914 (2)\ttotal: 1m 49s\tremaining: 54.8s\n",
      "0:\tlearn: 0.7405534\ttest: 0.7337431\tbest: 0.7337431 (0)\ttotal: 8.3ms\tremaining: 24.9s\n",
      "1000:\tlearn: 0.9999886\ttest: 0.8992581\tbest: 0.8992581 (1000)\ttotal: 6.1s\tremaining: 12.2s\n",
      "2000:\tlearn: 1.0000000\ttest: 0.8999411\tbest: 0.8999411 (2000)\ttotal: 12.3s\tremaining: 6.14s\n",
      "3000:\tlearn: 1.0000000\ttest: 0.8985283\tbest: 0.8999411 (2000)\ttotal: 18.4s\tremaining: 0us\n",
      "\n",
      "bestTest = 0.8999410788\n",
      "bestIteration = 2000\n",
      "\n",
      "8:\tloss: 0.8999411\tbest: 0.9115914 (2)\ttotal: 2m 8s\tremaining: 42.7s\n",
      "0:\tlearn: 0.7405534\ttest: 0.7337431\tbest: 0.7337431 (0)\ttotal: 7.03ms\tremaining: 21.1s\n",
      "1000:\tlearn: 1.0000000\ttest: 0.8981601\tbest: 0.8981601 (1000)\ttotal: 6.31s\tremaining: 12.6s\n",
      "2000:\tlearn: 1.0000000\ttest: 0.8996933\tbest: 0.8996933 (2000)\ttotal: 12.6s\tremaining: 6.32s\n",
      "3000:\tlearn: 1.0000000\ttest: 0.8982270\tbest: 0.8996933 (2000)\ttotal: 18.5s\tremaining: 0us\n",
      "\n",
      "bestTest = 0.8996933419\n",
      "bestIteration = 2000\n",
      "\n",
      "9:\tloss: 0.8996933\tbest: 0.9115914 (2)\ttotal: 2m 26s\tremaining: 29.3s\n",
      "0:\tlearn: 0.7402616\ttest: 0.7341181\tbest: 0.7341181 (0)\ttotal: 7.9ms\tremaining: 23.7s\n",
      "1000:\tlearn: 0.9998972\ttest: 0.8944440\tbest: 0.8944440 (1000)\ttotal: 6.26s\tremaining: 12.5s\n",
      "2000:\tlearn: 1.0000000\ttest: 0.8925157\tbest: 0.8944440 (1000)\ttotal: 12.4s\tremaining: 6.22s\n",
      "3000:\tlearn: 1.0000000\ttest: 0.8958769\tbest: 0.8958769 (3000)\ttotal: 18.6s\tremaining: 0us\n",
      "\n",
      "bestTest = 0.8958768547\n",
      "bestIteration = 3000\n",
      "\n",
      "10:\tloss: 0.8958769\tbest: 0.9115914 (2)\ttotal: 2m 45s\tremaining: 15s\n",
      "0:\tlearn: 0.7402616\ttest: 0.7341181\tbest: 0.7341181 (0)\ttotal: 7.96ms\tremaining: 23.9s\n",
      "1000:\tlearn: 1.0000000\ttest: 0.8995862\tbest: 0.8995862 (1000)\ttotal: 6.17s\tremaining: 12.3s\n",
      "2000:\tlearn: 1.0000000\ttest: 0.8997201\tbest: 0.8997201 (2000)\ttotal: 12.5s\tremaining: 6.26s\n",
      "3000:\tlearn: 1.0000000\ttest: 0.9000281\tbest: 0.9000281 (3000)\ttotal: 18.5s\tremaining: 0us\n",
      "\n",
      "bestTest = 0.9000281215\n",
      "bestIteration = 3000\n",
      "\n",
      "11:\tloss: 0.9000281\tbest: 0.9115914 (2)\ttotal: 3m 3s\tremaining: 0us\n",
      "Estimating final quality...\n",
      "Training on fold [0/5]\n",
      "0:\tlearn: 0.7296678\ttest: 0.6866346\tbest: 0.6866346 (0)\ttotal: 4.72ms\tremaining: 14.2s\n",
      "1000:\tlearn: 0.9935271\ttest: 0.9045818\tbest: 0.9045818 (1000)\ttotal: 3.96s\tremaining: 7.91s\n",
      "2000:\tlearn: 0.9992443\ttest: 0.9092646\tbest: 0.9092646 (2000)\ttotal: 8.08s\tremaining: 4.04s\n",
      "3000:\tlearn: 0.9999810\ttest: 0.9081477\tbest: 0.9092646 (2000)\ttotal: 12.2s\tremaining: 0us\n",
      "\n",
      "bestTest = 0.9092646168\n",
      "bestIteration = 2000\n",
      "\n",
      "Training on fold [1/5]\n",
      "0:\tlearn: 0.7239061\ttest: 0.7298012\tbest: 0.7298012 (0)\ttotal: 4.47ms\tremaining: 13.4s\n",
      "1000:\tlearn: 0.9945812\ttest: 0.9192046\tbest: 0.9192046 (1000)\ttotal: 4.04s\tremaining: 8.07s\n",
      "2000:\tlearn: 0.9996074\ttest: 0.9197653\tbest: 0.9197653 (2000)\ttotal: 8.17s\tremaining: 4.08s\n",
      "3000:\tlearn: 0.9999868\ttest: 0.9219257\tbest: 0.9219257 (3000)\ttotal: 12.3s\tremaining: 0us\n",
      "\n",
      "bestTest = 0.9219256934\n",
      "bestIteration = 3000\n",
      "\n",
      "Training on fold [2/5]\n",
      "0:\tlearn: 0.6589780\ttest: 0.6942512\tbest: 0.6942512 (0)\ttotal: 5.12ms\tremaining: 15.3s\n",
      "1000:\tlearn: 0.9927748\ttest: 0.9416923\tbest: 0.9416923 (1000)\ttotal: 4s\tremaining: 8s\n",
      "2000:\tlearn: 0.9996805\ttest: 0.9372518\tbest: 0.9416923 (1000)\ttotal: 8s\tremaining: 4s\n",
      "3000:\tlearn: 0.9999873\ttest: 0.9351307\tbest: 0.9416923 (1000)\ttotal: 12.1s\tremaining: 0us\n",
      "\n",
      "bestTest = 0.9416922721\n",
      "bestIteration = 1000\n",
      "\n",
      "Training on fold [3/5]\n",
      "0:\tlearn: 0.6648310\ttest: 0.6697190\tbest: 0.6697190 (0)\ttotal: 4.98ms\tremaining: 14.9s\n",
      "1000:\tlearn: 0.9919363\ttest: 0.9325978\tbest: 0.9325978 (1000)\ttotal: 3.97s\tremaining: 7.94s\n",
      "2000:\tlearn: 0.9995238\ttest: 0.9382354\tbest: 0.9382354 (2000)\ttotal: 7.97s\tremaining: 3.98s\n",
      "3000:\tlearn: 0.9999850\ttest: 0.9383819\tbest: 0.9383819 (3000)\ttotal: 12.1s\tremaining: 0us\n",
      "\n",
      "bestTest = 0.938381863\n",
      "bestIteration = 3000\n",
      "\n",
      "Training on fold [4/5]\n",
      "0:\tlearn: 0.6724412\ttest: 0.6601378\tbest: 0.6601378 (0)\ttotal: 4.63ms\tremaining: 13.9s\n",
      "1000:\tlearn: 0.9930618\ttest: 0.8994497\tbest: 0.8994497 (1000)\ttotal: 3.94s\tremaining: 7.87s\n",
      "2000:\tlearn: 0.9995628\ttest: 0.9063606\tbest: 0.9063606 (2000)\ttotal: 8.01s\tremaining: 4s\n",
      "3000:\tlearn: 0.9999983\ttest: 0.9082777\tbest: 0.9082777 (3000)\ttotal: 12.1s\tremaining: 0us\n",
      "\n",
      "bestTest = 0.9082776973\n",
      "bestIteration = 3000\n",
      "\n"
     ]
    }
   ],
   "source": [
    "grid_cat = cat.grid_search(parameters, X_train, y_train, cv=5, partition_random_seed=RANDOM_STATE)"
   ]
  },
  {
   "cell_type": "code",
   "execution_count": 39,
   "metadata": {},
   "outputs": [
    {
     "name": "stdout",
     "output_type": "stream",
     "text": [
      "Лучшие параметры - {'iterations': 3001, 'loss_function': 'CrossEntropy', 'verbose': 1000, 'metric_period': 1000, 'eval_metric': 'AUC:hints=skip_train~false', 'random_state': 140823, 'cat_features': ['Type', 'PaperlessBilling', 'PaymentMethod', 'gender', 'Partner', 'Dependents', 'InternetService', 'OnlineSecurity', 'OnlineBackup', 'DeviceProtection', 'TechSupport', 'StreamingTV', 'StreamingMovies', 'MultipleLines'], 'depth': 4, 'l2_leaf_reg': 3, 'learning_rate': 0.1} , лучший результат - 0.9223727347021466\n"
     ]
    }
   ],
   "source": [
    "print('Лучшие параметры -', cat.get_params(), ', лучший результат -', grid_cat['cv_results']['test-AUC-mean'][-1])"
   ]
  },
  {
   "cell_type": "markdown",
   "metadata": {},
   "source": [
    "CatBoost показал ещё лучший результат, эту модель мы и будем использовать для определения клиентов, которые планируют уйти"
   ]
  },
  {
   "cell_type": "markdown",
   "metadata": {},
   "source": [
    "### Результаты обучения"
   ]
  },
  {
   "cell_type": "code",
   "execution_count": 43,
   "metadata": {},
   "outputs": [
    {
     "data": {
      "text/html": [
       "<div>\n",
       "<style scoped>\n",
       "    .dataframe tbody tr th:only-of-type {\n",
       "        vertical-align: middle;\n",
       "    }\n",
       "\n",
       "    .dataframe tbody tr th {\n",
       "        vertical-align: top;\n",
       "    }\n",
       "\n",
       "    .dataframe thead th {\n",
       "        text-align: right;\n",
       "    }\n",
       "</style>\n",
       "<table border=\"1\" class=\"dataframe\">\n",
       "  <thead>\n",
       "    <tr style=\"text-align: right;\">\n",
       "      <th></th>\n",
       "      <th>CatBoost</th>\n",
       "      <th>LightGBM</th>\n",
       "      <th>RandomForestRegressor</th>\n",
       "    </tr>\n",
       "  </thead>\n",
       "  <tbody>\n",
       "    <tr>\n",
       "      <th>Средняя точность предсказания лучшей модели, ROC-AUC</th>\n",
       "      <td>0.922373</td>\n",
       "      <td>0.893157</td>\n",
       "      <td>0.711907</td>\n",
       "    </tr>\n",
       "  </tbody>\n",
       "</table>\n",
       "</div>"
      ],
      "text/plain": [
       "                                                    CatBoost  LightGBM  \\\n",
       "Средняя точность предсказания лучшей модели, RO...  0.922373  0.893157   \n",
       "\n",
       "                                                    RandomForestRegressor  \n",
       "Средняя точность предсказания лучшей модели, RO...               0.711907  "
      ]
     },
     "execution_count": 43,
     "metadata": {},
     "output_type": "execute_result"
    }
   ],
   "source": [
    "pd.DataFrame(data={'CatBoost': [grid_cat['cv_results']['test-AUC-mean'][-1]],\n",
    "                   'LightGBM': [grid_lgb.best_score_],\n",
    "                   'RandomForestRegressor': [grid_rfc.best_score_]},\n",
    "             index=['Средняя точность предсказания лучшей модели, ROC-AUC'])"
   ]
  },
  {
   "cell_type": "markdown",
   "metadata": {},
   "source": [
    "Обучение завершено, лучшая модель определена, переходим к её тестированию и анализу результатов"
   ]
  },
  {
   "cell_type": "markdown",
   "metadata": {},
   "source": [
    "## Анализ лучшей модели"
   ]
  },
  {
   "cell_type": "markdown",
   "metadata": {},
   "source": [
    "Получаем предсказания на тестовой выборке"
   ]
  },
  {
   "cell_type": "code",
   "execution_count": 41,
   "metadata": {},
   "outputs": [
    {
     "name": "stdout",
     "output_type": "stream",
     "text": [
      "Результат предсказания CatBoostClassifier на тестовой выборке 0.930561507718987\n"
     ]
    },
    {
     "data": {
      "image/png": "[encoded data removed]",
      "text/plain": [
       "<Figure size 432x288 with 1 Axes>"
      ]
     },
     "metadata": {
      "needs_background": "light"
     },
     "output_type": "display_data"
    }
   ],
   "source": [
    "print('Результат предсказания CatBoostClassifier на тестовой выборке', roc_auc_score(y_test, cat.predict_proba(X_test)[:, 1]))\n",
    "\n",
    "fpr, tpr, thresholds = roc_curve(y_test, cat.predict_proba(X_test)[:, 1])\n",
    "\n",
    "plt.figure()\n",
    "\n",
    "plt.plot(fpr, tpr)\n",
    "plt.xlim(0,1)\n",
    "plt.ylim(0,1)\n",
    "\n",
    "plt.xlabel('False Positive Rate')\n",
    "plt.ylabel('True Positive Rate')\n",
    "plt.title('ROC-кривая на тестовом наборе данных')\n",
    "\n",
    "plt.show()"
   ]
  },
  {
   "cell_type": "markdown",
   "metadata": {},
   "source": [
    "Результат выше установленного бизнесом порога, цель проекта достигнута. Посмотрим на примере тестовых данных и обученной модели как именно признаки клиентов влияют на то, уйдут они или нет - чем ярче будет цвет на графике, тем информативнее эти клиенты стали для нашей модели."
   ]
  },
  {
   "cell_type": "code",
   "execution_count": 42,
   "metadata": {},
   "outputs": [
    {
     "data": {
      "image/png": "[encoded data removed]",
      "text/plain": [
       "<Figure size 432x432 with 2 Axes>"
      ]
     },
     "metadata": {
      "needs_background": "light"
     },
     "output_type": "display_data"
    },
    {
     "data": {
      "text/html": [
       "<div>\n",
       "<style scoped>\n",
       "    .dataframe tbody tr th:only-of-type {\n",
       "        vertical-align: middle;\n",
       "    }\n",
       "\n",
       "    .dataframe tbody tr th {\n",
       "        vertical-align: top;\n",
       "    }\n",
       "\n",
       "    .dataframe thead th {\n",
       "        text-align: right;\n",
       "    }\n",
       "</style>\n",
       "<table border=\"1\" class=\"dataframe\">\n",
       "  <thead>\n",
       "    <tr style=\"text-align: right;\">\n",
       "      <th></th>\n",
       "      <th>Влияение на целевой признак</th>\n",
       "    </tr>\n",
       "  </thead>\n",
       "  <tbody>\n",
       "    <tr>\n",
       "      <th>lifetime</th>\n",
       "      <td>44.791889</td>\n",
       "    </tr>\n",
       "    <tr>\n",
       "      <th>MonthlyCharges</th>\n",
       "      <td>14.054242</td>\n",
       "    </tr>\n",
       "    <tr>\n",
       "      <th>TotalCharges</th>\n",
       "      <td>12.199557</td>\n",
       "    </tr>\n",
       "    <tr>\n",
       "      <th>Type</th>\n",
       "      <td>7.174368</td>\n",
       "    </tr>\n",
       "    <tr>\n",
       "      <th>PaymentMethod</th>\n",
       "      <td>4.668265</td>\n",
       "    </tr>\n",
       "    <tr>\n",
       "      <th>Partner</th>\n",
       "      <td>2.440598</td>\n",
       "    </tr>\n",
       "    <tr>\n",
       "      <th>InternetService</th>\n",
       "      <td>2.077888</td>\n",
       "    </tr>\n",
       "    <tr>\n",
       "      <th>MultipleLines</th>\n",
       "      <td>1.644879</td>\n",
       "    </tr>\n",
       "    <tr>\n",
       "      <th>Dependents</th>\n",
       "      <td>1.512708</td>\n",
       "    </tr>\n",
       "    <tr>\n",
       "      <th>DeviceProtection</th>\n",
       "      <td>1.377947</td>\n",
       "    </tr>\n",
       "    <tr>\n",
       "      <th>OnlineBackup</th>\n",
       "      <td>1.317684</td>\n",
       "    </tr>\n",
       "    <tr>\n",
       "      <th>PaperlessBilling</th>\n",
       "      <td>1.303519</td>\n",
       "    </tr>\n",
       "    <tr>\n",
       "      <th>SeniorCitizen</th>\n",
       "      <td>1.109745</td>\n",
       "    </tr>\n",
       "    <tr>\n",
       "      <th>StreamingMovies</th>\n",
       "      <td>1.009899</td>\n",
       "    </tr>\n",
       "    <tr>\n",
       "      <th>gender</th>\n",
       "      <td>0.930259</td>\n",
       "    </tr>\n",
       "    <tr>\n",
       "      <th>TechSupport</th>\n",
       "      <td>0.863053</td>\n",
       "    </tr>\n",
       "    <tr>\n",
       "      <th>OnlineSecurity</th>\n",
       "      <td>0.821814</td>\n",
       "    </tr>\n",
       "    <tr>\n",
       "      <th>StreamingTV</th>\n",
       "      <td>0.701686</td>\n",
       "    </tr>\n",
       "  </tbody>\n",
       "</table>\n",
       "</div>"
      ],
      "text/plain": [
       "                  Влияение на целевой признак\n",
       "lifetime                            44.791889\n",
       "MonthlyCharges                      14.054242\n",
       "TotalCharges                        12.199557\n",
       "Type                                 7.174368\n",
       "PaymentMethod                        4.668265\n",
       "Partner                              2.440598\n",
       "InternetService                      2.077888\n",
       "MultipleLines                        1.644879\n",
       "Dependents                           1.512708\n",
       "DeviceProtection                     1.377947\n",
       "OnlineBackup                         1.317684\n",
       "PaperlessBilling                     1.303519\n",
       "SeniorCitizen                        1.109745\n",
       "StreamingMovies                      1.009899\n",
       "gender                               0.930259\n",
       "TechSupport                          0.863053\n",
       "OnlineSecurity                       0.821814\n",
       "StreamingTV                          0.701686"
      ]
     },
     "execution_count": 42,
     "metadata": {},
     "output_type": "execute_result"
    }
   ],
   "source": [
    "shap_test = shap.TreeExplainer(cat).shap_values(X_test)\n",
    "shap.summary_plot(shap_test, X_test, max_display=25, plot_size=(6, 6))\n",
    "pd.DataFrame(cat.get_feature_importance(), index=X_test.columns,\n",
    "             columns=['Влияение на целевой признак']).sort_values(by='Влияение на целевой признак', ascending=False)"
   ]
  },
  {
   "cell_type": "markdown",
   "metadata": {},
   "source": [
    "Видим, что признак lifetime, который мы сделали из колонок BeginDate и EndDate, влияет на целевой признак больше всего, причём самыми информативными стали клиенты, которые присоединились недавно, среди тех, кто стал клиентом уже давно, доля повлиявших на предсказания невелика. Так же информативными стали клиенты, общая и месячная суммы трат которых находятся в средних значениях или выше. Пенсионеры скорее были информативны, чем нет. Хорошую корреляцию так же показали признаки с типом договора и способом оплаты, а так же наличие партнёра и тип интернет подключения (или его отсутствие), но для них не удалось выделить таких закономерностей, как для пердыдущих признаков.\n",
    "\n",
    "Посмотрим на матрицу ошибок нашей модели"
   ]
  },
  {
   "cell_type": "code",
   "execution_count": 57,
   "metadata": {},
   "outputs": [
    {
     "data": {
      "image/png": "[encoded data removed]",
      "text/plain": [
       "<Figure size 432x288 with 2 Axes>"
      ]
     },
     "metadata": {
      "needs_background": "light"
     },
     "output_type": "display_data"
    },
    {
     "name": "stdout",
     "output_type": "stream",
     "text": [
      "Правильно определённые клиенты - 1649 неправильно определённые клиенты - 112\n"
     ]
    }
   ],
   "source": [
    "matrix = confusion_matrix(y_test, cat.predict(X_test))\n",
    "ax = sns.heatmap(matrix, annot=True, fmt='.0f')\n",
    "ax.set_xticklabels(['True', 'False'])\n",
    "ax.set_yticklabels(['True', 'False']);\n",
    "plt.show()\n",
    "\n",
    "print('Правильно определённые клиенты -', matrix[0][0] + matrix[1][1],\n",
    "      'неправильно определённые клиенты -', matrix[0][1] + matrix[1][0])"
   ]
  },
  {
   "cell_type": "markdown",
   "metadata": {},
   "source": [
    "Модель неправильно определила 112 клиентов, из них 22 - клиенты, которые ушли, но модель не смогла их опознать, и 90 - клиенты, которые не уходили, но модель предположила, что они хотят уйти - это показатель того, что модель скорее склонна будет выдавать промокоды и специальные условия тем, кто не хочет уйти, чем игнорировать тех, кто хочет - что подходит поставленной бизнесом задаче на удержание как можно большего числа клиентов"
   ]
  },
  {
   "cell_type": "markdown",
   "metadata": {},
   "source": [
    "## Отчёт по решению"
   ]
  },
  {
   "cell_type": "markdown",
   "metadata": {},
   "source": [
    "Нашей целью было обучить модель, которая будет выявлять клиентов, близких к тому, чтобы уйти, и мы её добились\n",
    "\n",
    "Что мы сделали:\n",
    "- заполнили пропуски и создали новый признак, содержащий срок, который клиент остаётся (или оставался) с компанией\n",
    "- создали целевой признак и удалили ненужные признаки \n",
    "- разделили выборки на обучающую и тестовую выборки, преобразовали признаки и обучили три модели: DesicionTreeClassifier, CatBoostClassifier и LGBMClassifier; каждой модели постарались подобрать гиперпараметры, которые дали бы лучший результат по метрике\n",
    "\n",
    "После этого мы испытали настроенный алгоритм CatBoost, который дал лучший результат, на тестовой выборке, и получили результат 0.93 по метрике ROC-AUC\n",
    "\n",
    "В процессе выполнения проекта возникли следующие трудности:\n",
    "- LightGBM не воспринимал категориальные признаки, т.к. они имели тип данных object - мы изменили тип данных всех таких признаков на category, и затем получили список всех категориальных признаков, который передавали моделям\n",
    "- OrdinalEncoder не работал в пайплайне, мы обернули его в ColumnTransformer\n",
    "\n",
    "Ключевыми этапами в решении задачи были:\n",
    "- анализ поставленной перед нами бизнес-задачи\n",
    "- анализ предоставленных в наше распоряжение данных\n",
    "- определение и создание целевого признака\n",
    "- подготовка данных, создание признаков, изменение типов данных\n",
    "- обучение моделей\n",
    "- анализ самой точной из моделей CatBoost и признаков, которые позволили добиться такой точности\n",
    "\n",
    "Нашей итоговой моделью вышел CatBoostClassifier со значениями максимальной глубины 4, коэффициента при члене регуляризации L2 функции потерь 3, а так же функцией потерь 'CrossEntropy'. Его скорость обучения мы установили на 0.1, а количество итераций - 3000, каждую тысячу итераций модель выводит результаты на экран и считает значение ROC-AUC. Также мы передали алгоритму список всех категориальных функций, а так же случайный порядок RANDOM_STATE = 140823 - дата, когда мы начали выполнять этот проект\n",
    "\n",
    "Для обучения моделей мы использовали практически все поступившие в наше распоряжение признаки, удалили только BeginDate и EndDate, но из двух этих признаков мы сделали новый признак 'lifetime', который невероятно повлиял на качество модели, а из EndDate мы сделали целевой признак\n",
    "\n",
    "Полный список признаков, на которых обучалась лучшая модель:\n",
    "\n",
    "- 'Type' - тип контракта (помесячный, раз в год или два)\n",
    "- 'PaperlessBilling' - приходит ли клиенту электронный расчётный счёт\n",
    "- 'PaymentMethod' - метод оплаты, которым пользуется клиент\n",
    "- 'MonthlyCharges' - прибыль, которую приносит клиент за месяц\n",
    "- 'TotalCharges' - прибыль, которую клиент принёс за всё время\n",
    "- 'gender' - пол клиента\n",
    "- 'SeniorCitizen' - является ли клиент пенсионером\n",
    "- 'Partner' - есть ли у клиента супруг/супруга\n",
    "- 'Dependents' - есть ли у клиента дети\n",
    "- 'InternetService' - какой у клиента тип интернет-подключения (или 'No' если интернет не подключен)\n",
    "- 'OnlineSecurity' - подключена ли у клиента услуга блокировки небезопасных сайтов\n",
    "- 'OnlineBackup' - подключена ли у клиента услуга облачного хранилища\n",
    "- 'DeviceProtection' - подключена ли у клиента услуга антивируса\n",
    "- 'TechSupport' - подключена ли у клиента услуга выделенной линии технической поддержки\n",
    "- 'StreamingTV' - подключена ли у клиента услуга стримингового телевидения\n",
    "- 'StreamingMovies' - подключена ли у клиента услуга доступа к каталогу фильмов\n",
    "- 'MultipleLines' - подключена ли у клиента услуга подключения телефона к нескольким линиям одновременно\n",
    "- 'lifetime' - общее время сотрудничества клиента с компанией в днях\n",
    "\n",
    "На этапах предобработки и подготовки данных мы объединили все датафреймы в один, заменили 11 пробелов у новых пользователей в категории TotalCharges на значение их поля MonthlyChargers и заполнили все пропуски в данных значением 'No' - в признаке InternetService мы определили таким образом пользователей, которые не пользуются интернет-услугами компании, а во всех остальных такое заполнение не создало третьей категории, что позволило избежать смещения. Всем категориальным признакам (это все признаки, кроме 'MonthlyCharges', 'TotalCharges' и 'lifetime') мы изменили тип данных на category\n",
    "\n",
    "Наш окончательный результат на лучшей модели - 0.93 по метрике ROC-AUC"
   ]
  }
 ],
 "metadata": {
  "ExecuteTimeLog": [
   {
    "duration": 4,
    "start_time": "2023-08-15T10:00:58.298Z"
   },
   {
    "duration": 63,
    "start_time": "2023-08-15T10:00:59.065Z"
   },
   {
    "duration": 389,
    "start_time": "2023-08-15T10:02:05.237Z"
   },
   {
    "duration": 19,
    "start_time": "2023-08-15T10:02:11.735Z"
   },
   {
    "duration": 544,
    "start_time": "2023-08-15T10:02:40.650Z"
   },
   {
    "duration": 125,
    "start_time": "2023-08-15T10:05:06.340Z"
   },
   {
    "duration": 30,
    "start_time": "2023-08-15T10:05:09.682Z"
   },
   {
    "duration": 18,
    "start_time": "2023-08-15T10:05:21.729Z"
   },
   {
    "duration": 16,
    "start_time": "2023-08-15T10:05:24.536Z"
   },
   {
    "duration": 13,
    "start_time": "2023-08-15T10:05:33.717Z"
   },
   {
    "duration": 391,
    "start_time": "2023-08-15T16:21:23.329Z"
   },
   {
    "duration": 329,
    "start_time": "2023-08-15T16:21:26.159Z"
   },
   {
    "duration": 50,
    "start_time": "2023-08-15T16:21:28.208Z"
   },
   {
    "duration": 21,
    "start_time": "2023-08-15T16:21:40.620Z"
   },
   {
    "duration": 43,
    "start_time": "2023-08-15T16:22:19.686Z"
   },
   {
    "duration": 28,
    "start_time": "2023-08-15T16:24:03.985Z"
   },
   {
    "duration": 678,
    "start_time": "2023-08-15T16:26:05.264Z"
   },
   {
    "duration": 203,
    "start_time": "2023-08-15T16:26:30.283Z"
   },
   {
    "duration": 26,
    "start_time": "2023-08-15T16:44:54.925Z"
   },
   {
    "duration": 25,
    "start_time": "2023-08-15T16:44:58.893Z"
   },
   {
    "duration": 29,
    "start_time": "2023-08-15T16:44:58.920Z"
   },
   {
    "duration": 27,
    "start_time": "2023-08-15T16:44:58.951Z"
   },
   {
    "duration": 79,
    "start_time": "2023-08-15T17:07:25.051Z"
   },
   {
    "duration": 8,
    "start_time": "2023-08-15T17:07:42.828Z"
   },
   {
    "duration": 107,
    "start_time": "2023-08-15T17:07:59.714Z"
   },
   {
    "duration": 23,
    "start_time": "2023-08-15T17:08:06.157Z"
   },
   {
    "duration": 30,
    "start_time": "2023-08-15T17:08:13.393Z"
   },
   {
    "duration": 25,
    "start_time": "2023-08-15T17:08:19.105Z"
   },
   {
    "duration": 14,
    "start_time": "2023-08-15T17:08:20.412Z"
   },
   {
    "duration": 16,
    "start_time": "2023-08-15T17:34:41.467Z"
   },
   {
    "duration": 7,
    "start_time": "2023-08-15T17:35:50.842Z"
   },
   {
    "duration": 28,
    "start_time": "2023-08-15T17:35:55.281Z"
   },
   {
    "duration": 27,
    "start_time": "2023-08-15T17:36:44.247Z"
   },
   {
    "duration": 28,
    "start_time": "2023-08-15T17:37:11.254Z"
   },
   {
    "duration": 11,
    "start_time": "2023-08-15T17:37:31.774Z"
   },
   {
    "duration": 23,
    "start_time": "2023-08-15T17:37:34.773Z"
   },
   {
    "duration": 5,
    "start_time": "2023-08-15T17:38:05.917Z"
   },
   {
    "duration": 10,
    "start_time": "2023-08-15T17:38:16.378Z"
   },
   {
    "duration": 11,
    "start_time": "2023-08-15T17:38:28.262Z"
   },
   {
    "duration": 9,
    "start_time": "2023-08-15T17:39:51.378Z"
   },
   {
    "duration": 64,
    "start_time": "2023-08-15T17:41:36.662Z"
   },
   {
    "duration": 19,
    "start_time": "2023-08-15T17:41:42.888Z"
   },
   {
    "duration": 102,
    "start_time": "2023-08-15T17:42:29.134Z"
   },
   {
    "duration": 22,
    "start_time": "2023-08-15T17:43:35.103Z"
   },
   {
    "duration": 102,
    "start_time": "2023-08-15T17:44:01.560Z"
   },
   {
    "duration": 15,
    "start_time": "2023-08-15T17:44:52.374Z"
   },
   {
    "duration": 10,
    "start_time": "2023-08-15T17:45:28.583Z"
   },
   {
    "duration": 29,
    "start_time": "2023-08-15T17:45:38.279Z"
   },
   {
    "duration": 100,
    "start_time": "2023-08-15T17:47:12.434Z"
   },
   {
    "duration": 101,
    "start_time": "2023-08-15T17:47:44.675Z"
   },
   {
    "duration": 10,
    "start_time": "2023-08-15T17:48:56.696Z"
   },
   {
    "duration": 76,
    "start_time": "2023-08-15T17:49:23.790Z"
   },
   {
    "duration": 19,
    "start_time": "2023-08-15T17:49:34.280Z"
   },
   {
    "duration": 17,
    "start_time": "2023-08-15T17:58:57.865Z"
   },
   {
    "duration": 10,
    "start_time": "2023-08-15T18:00:11.071Z"
   },
   {
    "duration": 11,
    "start_time": "2023-08-15T18:02:43.428Z"
   },
   {
    "duration": 11,
    "start_time": "2023-08-15T18:02:53.932Z"
   },
   {
    "duration": 133,
    "start_time": "2023-08-15T18:03:16.202Z"
   },
   {
    "duration": 18,
    "start_time": "2023-08-15T18:03:21.197Z"
   },
   {
    "duration": 8,
    "start_time": "2023-08-15T18:03:22.520Z"
   },
   {
    "duration": 14,
    "start_time": "2023-08-15T18:03:50.594Z"
   },
   {
    "duration": 18,
    "start_time": "2023-08-15T18:24:39.146Z"
   },
   {
    "duration": 44,
    "start_time": "2023-08-15T18:26:33.130Z"
   },
   {
    "duration": 25,
    "start_time": "2023-08-15T18:26:43.992Z"
   },
   {
    "duration": 518,
    "start_time": "2023-08-15T18:43:01.016Z"
   },
   {
    "duration": 470,
    "start_time": "2023-08-15T18:43:22.325Z"
   },
   {
    "duration": 764,
    "start_time": "2023-08-15T18:43:39.787Z"
   },
   {
    "duration": 72,
    "start_time": "2023-08-15T18:44:31.420Z"
   },
   {
    "duration": 927,
    "start_time": "2023-08-15T19:03:43.857Z"
   },
   {
    "duration": 823,
    "start_time": "2023-08-17T06:11:04.584Z"
   },
   {
    "duration": 359,
    "start_time": "2023-08-17T06:11:06.569Z"
   },
   {
    "duration": 18,
    "start_time": "2023-08-17T06:11:15.116Z"
   },
   {
    "duration": 14,
    "start_time": "2023-08-17T06:15:33.749Z"
   },
   {
    "duration": 31,
    "start_time": "2023-08-17T06:15:39.196Z"
   },
   {
    "duration": 40,
    "start_time": "2023-08-17T06:19:51.118Z"
   },
   {
    "duration": 17,
    "start_time": "2023-08-17T06:23:57.781Z"
   },
   {
    "duration": 115,
    "start_time": "2023-08-17T06:25:13.441Z"
   },
   {
    "duration": 14,
    "start_time": "2023-08-17T06:25:18.992Z"
   },
   {
    "duration": 20,
    "start_time": "2023-08-17T06:25:25.152Z"
   },
   {
    "duration": 53,
    "start_time": "2023-08-17T06:25:27.144Z"
   },
   {
    "duration": 13,
    "start_time": "2023-08-17T06:25:32.683Z"
   },
   {
    "duration": 23,
    "start_time": "2023-08-17T06:25:46.184Z"
   },
   {
    "duration": 3,
    "start_time": "2023-08-17T06:36:23.700Z"
   },
   {
    "duration": 4,
    "start_time": "2023-08-17T06:39:10.807Z"
   },
   {
    "duration": 5,
    "start_time": "2023-08-17T06:39:18.204Z"
   },
   {
    "duration": 4,
    "start_time": "2023-08-17T06:52:53.857Z"
   },
   {
    "duration": 31,
    "start_time": "2023-08-17T06:53:15.151Z"
   },
   {
    "duration": 80,
    "start_time": "2023-08-17T07:00:19.444Z"
   },
   {
    "duration": 1015,
    "start_time": "2023-08-17T07:01:04.986Z"
   },
   {
    "duration": 12,
    "start_time": "2023-08-17T07:01:06.283Z"
   },
   {
    "duration": 1282,
    "start_time": "2023-08-17T07:01:17.666Z"
   },
   {
    "duration": 26,
    "start_time": "2023-08-17T07:01:33.154Z"
   },
   {
    "duration": 13,
    "start_time": "2023-08-17T07:01:57.836Z"
   },
   {
    "duration": 38,
    "start_time": "2023-08-17T07:01:59.189Z"
   },
   {
    "duration": 25,
    "start_time": "2023-08-17T07:02:03.730Z"
   },
   {
    "duration": 4,
    "start_time": "2023-08-17T07:02:07.125Z"
   },
   {
    "duration": 893,
    "start_time": "2023-08-17T07:02:09.196Z"
   },
   {
    "duration": 865,
    "start_time": "2023-08-17T07:02:23.555Z"
   },
   {
    "duration": 5,
    "start_time": "2023-08-17T07:03:09.949Z"
   },
   {
    "duration": 8,
    "start_time": "2023-08-17T07:03:30.772Z"
   },
   {
    "duration": 873,
    "start_time": "2023-08-17T07:03:57.668Z"
   },
   {
    "duration": 7,
    "start_time": "2023-08-17T07:04:06.929Z"
   },
   {
    "duration": 4,
    "start_time": "2023-08-17T07:04:09.565Z"
   },
   {
    "duration": 34,
    "start_time": "2023-08-17T07:04:14.155Z"
   },
   {
    "duration": 18,
    "start_time": "2023-08-17T07:10:00.122Z"
   },
   {
    "duration": 97,
    "start_time": "2023-08-17T07:10:55.774Z"
   },
   {
    "duration": 14,
    "start_time": "2023-08-17T07:11:02.397Z"
   },
   {
    "duration": 6,
    "start_time": "2023-08-17T07:12:21.383Z"
   },
   {
    "duration": 17,
    "start_time": "2023-08-17T07:12:24.373Z"
   },
   {
    "duration": 33,
    "start_time": "2023-08-17T07:12:30.965Z"
   },
   {
    "duration": 5,
    "start_time": "2023-08-17T07:13:09.885Z"
   },
   {
    "duration": 28,
    "start_time": "2023-08-17T07:13:11.270Z"
   },
   {
    "duration": 18,
    "start_time": "2023-08-17T07:13:22.847Z"
   },
   {
    "duration": 29,
    "start_time": "2023-08-17T07:13:40.758Z"
   },
   {
    "duration": 14,
    "start_time": "2023-08-17T07:14:40.744Z"
   },
   {
    "duration": 8,
    "start_time": "2023-08-17T07:14:52.070Z"
   },
   {
    "duration": 23,
    "start_time": "2023-08-17T07:14:56.254Z"
   },
   {
    "duration": 46,
    "start_time": "2023-08-17T09:15:33.943Z"
   },
   {
    "duration": 784,
    "start_time": "2023-08-17T09:15:38.592Z"
   },
   {
    "duration": 327,
    "start_time": "2023-08-17T09:15:41.041Z"
   },
   {
    "duration": 15,
    "start_time": "2023-08-17T09:15:47.307Z"
   },
   {
    "duration": 321,
    "start_time": "2023-08-17T09:15:51.172Z"
   },
   {
    "duration": 543,
    "start_time": "2023-08-17T10:17:18.170Z"
   },
   {
    "duration": 104,
    "start_time": "2023-08-17T10:17:26.615Z"
   },
   {
    "duration": 83,
    "start_time": "2023-08-17T10:17:41.510Z"
   },
   {
    "duration": 87,
    "start_time": "2023-08-17T10:17:45.172Z"
   },
   {
    "duration": 98,
    "start_time": "2023-08-17T10:17:51.278Z"
   },
   {
    "duration": 95,
    "start_time": "2023-08-17T10:18:35.076Z"
   },
   {
    "duration": 109,
    "start_time": "2023-08-17T10:18:44.601Z"
   },
   {
    "duration": 176,
    "start_time": "2023-08-17T10:19:10.279Z"
   },
   {
    "duration": 69,
    "start_time": "2023-08-17T10:21:04.857Z"
   },
   {
    "duration": 10,
    "start_time": "2023-08-17T10:21:08.038Z"
   },
   {
    "duration": 18,
    "start_time": "2023-08-17T10:21:12.935Z"
   },
   {
    "duration": 100,
    "start_time": "2023-08-17T10:22:40.400Z"
   },
   {
    "duration": 98,
    "start_time": "2023-08-17T10:22:48.470Z"
   },
   {
    "duration": 115,
    "start_time": "2023-08-17T10:22:55.032Z"
   },
   {
    "duration": 1332,
    "start_time": "2023-08-17T16:58:12.671Z"
   },
   {
    "duration": 315,
    "start_time": "2023-08-17T16:58:15.595Z"
   },
   {
    "duration": 30,
    "start_time": "2023-08-17T16:58:18.109Z"
   },
   {
    "duration": 10,
    "start_time": "2023-08-17T16:58:20.754Z"
   },
   {
    "duration": 16,
    "start_time": "2023-08-17T16:58:23.294Z"
   },
   {
    "duration": 16,
    "start_time": "2023-08-17T16:58:25.981Z"
   },
   {
    "duration": 992,
    "start_time": "2023-08-17T16:58:55.836Z"
   },
   {
    "duration": 1011,
    "start_time": "2023-08-17T16:59:06.983Z"
   },
   {
    "duration": 285,
    "start_time": "2023-08-17T17:04:29.020Z"
   },
   {
    "duration": 269,
    "start_time": "2023-08-17T17:05:25.898Z"
   },
   {
    "duration": 270,
    "start_time": "2023-08-17T17:05:33.181Z"
   },
   {
    "duration": 276,
    "start_time": "2023-08-17T17:05:43.837Z"
   },
   {
    "duration": 373,
    "start_time": "2023-08-17T17:05:49.300Z"
   },
   {
    "duration": 258,
    "start_time": "2023-08-17T17:05:54.750Z"
   },
   {
    "duration": 262,
    "start_time": "2023-08-17T17:06:00.548Z"
   },
   {
    "duration": 239,
    "start_time": "2023-08-17T17:06:15.353Z"
   },
   {
    "duration": 263,
    "start_time": "2023-08-17T17:07:24.234Z"
   },
   {
    "duration": 606,
    "start_time": "2023-08-17T17:08:15.466Z"
   },
   {
    "duration": 463,
    "start_time": "2023-08-17T17:08:28.853Z"
   },
   {
    "duration": 438,
    "start_time": "2023-08-17T17:08:34.974Z"
   },
   {
    "duration": 550,
    "start_time": "2023-08-17T17:08:44.465Z"
   },
   {
    "duration": 425,
    "start_time": "2023-08-17T17:08:49.646Z"
   },
   {
    "duration": 577,
    "start_time": "2023-08-17T17:08:54.845Z"
   },
   {
    "duration": 260,
    "start_time": "2023-08-17T17:12:19.948Z"
   },
   {
    "duration": 496,
    "start_time": "2023-08-17T17:12:27.599Z"
   },
   {
    "duration": 437,
    "start_time": "2023-08-17T17:17:52.933Z"
   },
   {
    "duration": 671,
    "start_time": "2023-08-17T17:19:56.374Z"
   },
   {
    "duration": 514,
    "start_time": "2023-08-17T17:21:49.704Z"
   },
   {
    "duration": 640,
    "start_time": "2023-08-17T17:22:30.629Z"
   },
   {
    "duration": 496,
    "start_time": "2023-08-17T17:23:49.145Z"
   },
   {
    "duration": 496,
    "start_time": "2023-08-17T17:24:49.841Z"
   },
   {
    "duration": 159,
    "start_time": "2023-08-17T17:29:47.699Z"
   },
   {
    "duration": 470,
    "start_time": "2023-08-17T17:30:39.316Z"
   },
   {
    "duration": 402,
    "start_time": "2023-08-17T17:32:44.468Z"
   },
   {
    "duration": 383,
    "start_time": "2023-08-17T17:33:38.029Z"
   },
   {
    "duration": 76,
    "start_time": "2023-08-17T17:34:11.256Z"
   },
   {
    "duration": 128,
    "start_time": "2023-08-17T17:51:37.615Z"
   },
   {
    "duration": 3250,
    "start_time": "2023-08-17T18:46:54.516Z"
   },
   {
    "duration": 46,
    "start_time": "2023-08-17T18:47:08.655Z"
   },
   {
    "duration": 20,
    "start_time": "2023-08-17T18:47:46.356Z"
   },
   {
    "duration": 9,
    "start_time": "2023-08-17T18:47:53.706Z"
   },
   {
    "duration": 51,
    "start_time": "2023-08-17T18:47:58.561Z"
   },
   {
    "duration": 1729,
    "start_time": "2023-08-17T18:48:02.600Z"
   },
   {
    "duration": 25,
    "start_time": "2023-08-17T18:49:36.389Z"
   },
   {
    "duration": 1584,
    "start_time": "2023-08-17T18:49:41.422Z"
   },
   {
    "duration": 1592,
    "start_time": "2023-08-17T18:50:16.868Z"
   },
   {
    "duration": 1699,
    "start_time": "2023-08-17T18:50:26.076Z"
   },
   {
    "duration": 3674,
    "start_time": "2023-08-17T18:52:57.133Z"
   },
   {
    "duration": 3920,
    "start_time": "2023-08-17T18:53:30.708Z"
   },
   {
    "duration": 3927,
    "start_time": "2023-08-17T18:53:46.567Z"
   },
   {
    "duration": 3756,
    "start_time": "2023-08-17T18:55:44.885Z"
   },
   {
    "duration": 3707,
    "start_time": "2023-08-17T18:57:26.439Z"
   },
   {
    "duration": 3806,
    "start_time": "2023-08-17T18:57:46.709Z"
   },
   {
    "duration": 3564,
    "start_time": "2023-08-17T18:57:57.948Z"
   },
   {
    "duration": 3813,
    "start_time": "2023-08-17T18:58:17.181Z"
   },
   {
    "duration": 76,
    "start_time": "2023-08-18T05:14:23.683Z"
   },
   {
    "duration": 3224,
    "start_time": "2023-08-18T05:14:28.656Z"
   },
   {
    "duration": 1371,
    "start_time": "2023-08-18T05:14:31.882Z"
   },
   {
    "duration": 367,
    "start_time": "2023-08-18T05:14:33.254Z"
   },
   {
    "duration": 28,
    "start_time": "2023-08-18T05:14:33.623Z"
   },
   {
    "duration": 10,
    "start_time": "2023-08-18T05:14:33.653Z"
   },
   {
    "duration": 16,
    "start_time": "2023-08-18T05:14:33.664Z"
   },
   {
    "duration": 44,
    "start_time": "2023-08-18T05:14:33.682Z"
   },
   {
    "duration": 535,
    "start_time": "2023-08-18T05:14:33.728Z"
   },
   {
    "duration": 548,
    "start_time": "2023-08-18T05:14:34.265Z"
   },
   {
    "duration": 394,
    "start_time": "2023-08-18T05:14:34.815Z"
   },
   {
    "duration": 26,
    "start_time": "2023-08-18T05:14:35.210Z"
   },
   {
    "duration": 467,
    "start_time": "2023-08-18T05:14:35.237Z"
   },
   {
    "duration": 435,
    "start_time": "2023-08-18T05:16:33.955Z"
   },
   {
    "duration": 471,
    "start_time": "2023-08-18T05:17:23.104Z"
   },
   {
    "duration": 325,
    "start_time": "2023-08-18T05:18:48.935Z"
   },
   {
    "duration": 106,
    "start_time": "2023-08-18T05:19:13.507Z"
   },
   {
    "duration": 129,
    "start_time": "2023-08-18T05:19:35.699Z"
   },
   {
    "duration": 582,
    "start_time": "2023-08-18T05:24:17.681Z"
   },
   {
    "duration": 113,
    "start_time": "2023-08-18T05:25:03.007Z"
   },
   {
    "duration": 64,
    "start_time": "2023-08-18T08:49:26.547Z"
   },
   {
    "duration": 1477,
    "start_time": "2023-08-18T08:49:32.466Z"
   },
   {
    "duration": 3404,
    "start_time": "2023-08-18T08:49:38.529Z"
   },
   {
    "duration": 37,
    "start_time": "2023-08-18T08:49:41.935Z"
   },
   {
    "duration": 363,
    "start_time": "2023-08-18T08:49:45.259Z"
   },
   {
    "duration": 25,
    "start_time": "2023-08-18T08:49:46.900Z"
   },
   {
    "duration": 12,
    "start_time": "2023-08-18T08:49:49.571Z"
   },
   {
    "duration": 18,
    "start_time": "2023-08-18T08:49:52.055Z"
   },
   {
    "duration": 14,
    "start_time": "2023-08-18T08:49:54.230Z"
   },
   {
    "duration": 599,
    "start_time": "2023-08-18T08:49:55.738Z"
   },
   {
    "duration": 568,
    "start_time": "2023-08-18T08:49:58.703Z"
   },
   {
    "duration": 373,
    "start_time": "2023-08-18T08:50:01.997Z"
   },
   {
    "duration": 295,
    "start_time": "2023-08-18T08:54:40.799Z"
   },
   {
    "duration": 301,
    "start_time": "2023-08-18T08:56:13.818Z"
   },
   {
    "duration": 273,
    "start_time": "2023-08-18T08:56:48.013Z"
   },
   {
    "duration": 501,
    "start_time": "2023-08-18T08:57:21.113Z"
   },
   {
    "duration": 233,
    "start_time": "2023-08-18T09:10:50.117Z"
   },
   {
    "duration": 236,
    "start_time": "2023-08-18T09:12:53.216Z"
   },
   {
    "duration": 257,
    "start_time": "2023-08-18T09:14:07.795Z"
   },
   {
    "duration": 238,
    "start_time": "2023-08-18T09:15:50.021Z"
   },
   {
    "duration": 324,
    "start_time": "2023-08-18T09:16:43.812Z"
   },
   {
    "duration": 247,
    "start_time": "2023-08-18T09:17:15.894Z"
   },
   {
    "duration": 239,
    "start_time": "2023-08-18T09:17:32.773Z"
   },
   {
    "duration": 267,
    "start_time": "2023-08-18T09:18:04.526Z"
   },
   {
    "duration": 256,
    "start_time": "2023-08-18T09:18:11.789Z"
   },
   {
    "duration": 375,
    "start_time": "2023-08-18T09:18:15.885Z"
   },
   {
    "duration": 239,
    "start_time": "2023-08-18T09:18:20.845Z"
   },
   {
    "duration": 300,
    "start_time": "2023-08-18T09:18:53.501Z"
   },
   {
    "duration": 311,
    "start_time": "2023-08-18T09:25:43.584Z"
   },
   {
    "duration": 295,
    "start_time": "2023-08-18T09:26:49.177Z"
   },
   {
    "duration": 293,
    "start_time": "2023-08-18T09:26:54.138Z"
   },
   {
    "duration": 383,
    "start_time": "2023-08-18T09:27:09.552Z"
   },
   {
    "duration": 296,
    "start_time": "2023-08-18T09:27:17.128Z"
   },
   {
    "duration": 289,
    "start_time": "2023-08-18T09:27:26.576Z"
   },
   {
    "duration": 295,
    "start_time": "2023-08-18T09:27:35.576Z"
   },
   {
    "duration": 303,
    "start_time": "2023-08-18T09:27:45.057Z"
   },
   {
    "duration": 388,
    "start_time": "2023-08-18T09:32:50.391Z"
   },
   {
    "duration": 299,
    "start_time": "2023-08-18T09:33:06.458Z"
   },
   {
    "duration": 314,
    "start_time": "2023-08-18T09:35:35.364Z"
   },
   {
    "duration": 307,
    "start_time": "2023-08-18T09:36:07.596Z"
   },
   {
    "duration": 316,
    "start_time": "2023-08-18T09:37:06.636Z"
   },
   {
    "duration": 308,
    "start_time": "2023-08-18T09:37:10.982Z"
   },
   {
    "duration": 404,
    "start_time": "2023-08-18T09:37:29.037Z"
   },
   {
    "duration": 304,
    "start_time": "2023-08-18T09:38:29.470Z"
   },
   {
    "duration": 304,
    "start_time": "2023-08-18T09:39:24.206Z"
   },
   {
    "duration": 310,
    "start_time": "2023-08-18T09:39:45.054Z"
   },
   {
    "duration": 310,
    "start_time": "2023-08-18T09:40:05.389Z"
   },
   {
    "duration": 433,
    "start_time": "2023-08-18T09:46:44.019Z"
   },
   {
    "duration": 313,
    "start_time": "2023-08-18T09:46:51.699Z"
   },
   {
    "duration": 340,
    "start_time": "2023-08-18T09:50:30.187Z"
   },
   {
    "duration": 310,
    "start_time": "2023-08-18T09:50:34.684Z"
   },
   {
    "duration": 330,
    "start_time": "2023-08-18T09:51:08.960Z"
   },
   {
    "duration": 308,
    "start_time": "2023-08-18T09:51:23.369Z"
   },
   {
    "duration": 412,
    "start_time": "2023-08-18T09:51:57.298Z"
   },
   {
    "duration": 319,
    "start_time": "2023-08-18T09:52:18.040Z"
   },
   {
    "duration": 308,
    "start_time": "2023-08-18T09:53:03.528Z"
   },
   {
    "duration": 3581,
    "start_time": "2023-08-18T16:57:41.560Z"
   },
   {
    "duration": 1616,
    "start_time": "2023-08-18T16:57:45.143Z"
   },
   {
    "duration": 542,
    "start_time": "2023-08-18T16:57:49.210Z"
   },
   {
    "duration": 32,
    "start_time": "2023-08-18T16:57:52.594Z"
   },
   {
    "duration": 24,
    "start_time": "2023-08-18T16:58:11.328Z"
   },
   {
    "duration": 22,
    "start_time": "2023-08-18T16:58:14.145Z"
   },
   {
    "duration": 28,
    "start_time": "2023-08-18T16:58:17.314Z"
   },
   {
    "duration": 654,
    "start_time": "2023-08-18T16:58:19.251Z"
   },
   {
    "duration": 678,
    "start_time": "2023-08-18T16:58:47.954Z"
   },
   {
    "duration": 561,
    "start_time": "2023-08-18T17:11:03.099Z"
   },
   {
    "duration": 624,
    "start_time": "2023-08-18T17:11:15.612Z"
   },
   {
    "duration": 1045,
    "start_time": "2023-08-18T17:24:18.939Z"
   },
   {
    "duration": 938,
    "start_time": "2023-08-18T17:24:52.660Z"
   },
   {
    "duration": 972,
    "start_time": "2023-08-18T17:27:49.998Z"
   },
   {
    "duration": 1002,
    "start_time": "2023-08-18T17:28:15.573Z"
   },
   {
    "duration": 943,
    "start_time": "2023-08-18T17:28:42.761Z"
   },
   {
    "duration": 926,
    "start_time": "2023-08-18T17:28:55.959Z"
   },
   {
    "duration": 841,
    "start_time": "2023-08-18T17:29:47.899Z"
   },
   {
    "duration": 914,
    "start_time": "2023-08-18T17:31:56.005Z"
   },
   {
    "duration": 825,
    "start_time": "2023-08-18T17:32:43.314Z"
   },
   {
    "duration": 502,
    "start_time": "2023-08-18T17:34:15.720Z"
   },
   {
    "duration": 526,
    "start_time": "2023-08-18T17:36:52.860Z"
   },
   {
    "duration": 432,
    "start_time": "2023-08-18T17:38:51.953Z"
   },
   {
    "duration": 462,
    "start_time": "2023-08-18T17:42:01.586Z"
   },
   {
    "duration": 447,
    "start_time": "2023-08-18T17:42:09.902Z"
   },
   {
    "duration": 398,
    "start_time": "2023-08-18T17:42:29.347Z"
   },
   {
    "duration": 527,
    "start_time": "2023-08-18T17:43:27.261Z"
   },
   {
    "duration": 459,
    "start_time": "2023-08-18T17:43:53.199Z"
   },
   {
    "duration": 425,
    "start_time": "2023-08-18T17:44:22.129Z"
   },
   {
    "duration": 118,
    "start_time": "2023-08-18T17:52:24.753Z"
   },
   {
    "duration": 12,
    "start_time": "2023-08-18T17:52:43.706Z"
   },
   {
    "duration": 152,
    "start_time": "2023-08-18T17:54:56.226Z"
   },
   {
    "duration": 68,
    "start_time": "2023-08-18T17:55:09.125Z"
   },
   {
    "duration": 606,
    "start_time": "2023-08-18T17:55:26.017Z"
   },
   {
    "duration": 532,
    "start_time": "2023-08-18T17:56:00.195Z"
   },
   {
    "duration": 335,
    "start_time": "2023-08-18T17:57:22.967Z"
   },
   {
    "duration": 773,
    "start_time": "2023-08-18T17:58:23.717Z"
   },
   {
    "duration": 537,
    "start_time": "2023-08-18T17:59:05.380Z"
   },
   {
    "duration": 489,
    "start_time": "2023-08-18T18:06:10.215Z"
   },
   {
    "duration": 409,
    "start_time": "2023-08-18T18:08:54.016Z"
   },
   {
    "duration": 375,
    "start_time": "2023-08-18T18:09:41.812Z"
   },
   {
    "duration": 573,
    "start_time": "2023-08-18T18:09:51.696Z"
   },
   {
    "duration": 296,
    "start_time": "2023-08-18T18:13:29.451Z"
   },
   {
    "duration": 348,
    "start_time": "2023-08-18T18:13:39.064Z"
   },
   {
    "duration": 358,
    "start_time": "2023-08-18T18:13:49.429Z"
   },
   {
    "duration": 377,
    "start_time": "2023-08-18T18:14:07.736Z"
   },
   {
    "duration": 335,
    "start_time": "2023-08-18T18:16:34.153Z"
   },
   {
    "duration": 521,
    "start_time": "2023-08-18T18:16:48.511Z"
   },
   {
    "duration": 379,
    "start_time": "2023-08-18T18:17:00.457Z"
   },
   {
    "duration": 365,
    "start_time": "2023-08-18T18:17:23.078Z"
   },
   {
    "duration": 339,
    "start_time": "2023-08-18T18:17:43.338Z"
   },
   {
    "duration": 321,
    "start_time": "2023-08-18T18:17:58.575Z"
   },
   {
    "duration": 463,
    "start_time": "2023-08-18T18:18:10.219Z"
   },
   {
    "duration": 321,
    "start_time": "2023-08-18T18:18:20.839Z"
   },
   {
    "duration": 332,
    "start_time": "2023-08-18T18:19:33.607Z"
   },
   {
    "duration": 332,
    "start_time": "2023-08-18T18:19:44.276Z"
   },
   {
    "duration": 328,
    "start_time": "2023-08-18T18:19:53.833Z"
   },
   {
    "duration": 337,
    "start_time": "2023-08-18T18:20:24.341Z"
   },
   {
    "duration": 430,
    "start_time": "2023-08-18T18:20:52.466Z"
   },
   {
    "duration": 309,
    "start_time": "2023-08-18T18:22:12.459Z"
   },
   {
    "duration": 363,
    "start_time": "2023-08-18T18:22:24.786Z"
   },
   {
    "duration": 362,
    "start_time": "2023-08-18T18:24:36.501Z"
   },
   {
    "duration": 318,
    "start_time": "2023-08-18T18:24:46.869Z"
   },
   {
    "duration": 468,
    "start_time": "2023-08-18T18:24:54.509Z"
   },
   {
    "duration": 322,
    "start_time": "2023-08-18T18:25:02.437Z"
   },
   {
    "duration": 387,
    "start_time": "2023-08-18T18:25:30.178Z"
   },
   {
    "duration": 324,
    "start_time": "2023-08-18T18:26:25.005Z"
   },
   {
    "duration": 340,
    "start_time": "2023-08-18T18:26:58.925Z"
   },
   {
    "duration": 383,
    "start_time": "2023-08-18T18:27:12.237Z"
   },
   {
    "duration": 427,
    "start_time": "2023-08-18T18:27:29.538Z"
   },
   {
    "duration": 364,
    "start_time": "2023-08-18T18:28:38.470Z"
   },
   {
    "duration": 356,
    "start_time": "2023-08-18T18:28:48.015Z"
   },
   {
    "duration": 341,
    "start_time": "2023-08-18T18:30:51.713Z"
   },
   {
    "duration": 320,
    "start_time": "2023-08-18T18:30:58.166Z"
   },
   {
    "duration": 1301,
    "start_time": "2023-08-18T18:48:28.686Z"
   },
   {
    "duration": 1395,
    "start_time": "2023-08-18T18:56:03.857Z"
   },
   {
    "duration": 1184,
    "start_time": "2023-08-18T18:56:26.403Z"
   },
   {
    "duration": 1260,
    "start_time": "2023-08-18T18:56:43.305Z"
   },
   {
    "duration": 1296,
    "start_time": "2023-08-18T18:57:05.351Z"
   },
   {
    "duration": 1114,
    "start_time": "2023-08-18T18:58:37.746Z"
   },
   {
    "duration": 607,
    "start_time": "2023-08-18T18:59:20.470Z"
   },
   {
    "duration": 127,
    "start_time": "2023-08-18T19:00:17.107Z"
   },
   {
    "duration": 561,
    "start_time": "2023-08-18T19:17:24.597Z"
   },
   {
    "duration": 655,
    "start_time": "2023-08-18T19:17:36.809Z"
   },
   {
    "duration": 548,
    "start_time": "2023-08-18T19:18:16.158Z"
   },
   {
    "duration": 736,
    "start_time": "2023-08-18T19:18:59.709Z"
   },
   {
    "duration": 602,
    "start_time": "2023-08-18T19:23:17.944Z"
   },
   {
    "duration": 670,
    "start_time": "2023-08-18T19:23:20.446Z"
   },
   {
    "duration": 546,
    "start_time": "2023-08-18T19:23:24.311Z"
   },
   {
    "duration": 318,
    "start_time": "2023-08-18T19:23:33.596Z"
   },
   {
    "duration": 383,
    "start_time": "2023-08-18T19:25:32.671Z"
   },
   {
    "duration": 449,
    "start_time": "2023-08-18T19:26:14.970Z"
   },
   {
    "duration": 321,
    "start_time": "2023-08-18T19:26:57.065Z"
   },
   {
    "duration": 338,
    "start_time": "2023-08-18T19:28:23.269Z"
   },
   {
    "duration": 356,
    "start_time": "2023-08-18T19:29:12.859Z"
   },
   {
    "duration": 379,
    "start_time": "2023-08-18T19:29:49.111Z"
   },
   {
    "duration": 504,
    "start_time": "2023-08-18T19:30:21.452Z"
   },
   {
    "duration": 285,
    "start_time": "2023-08-18T19:30:30.956Z"
   },
   {
    "duration": 120,
    "start_time": "2023-08-18T19:31:17.091Z"
   },
   {
    "duration": 18,
    "start_time": "2023-08-18T19:36:54.823Z"
   },
   {
    "duration": 45,
    "start_time": "2023-08-18T19:37:07.772Z"
   },
   {
    "duration": 2000,
    "start_time": "2023-08-18T19:37:11.476Z"
   },
   {
    "duration": 4277,
    "start_time": "2023-08-18T19:37:23.713Z"
   },
   {
    "duration": 4327,
    "start_time": "2023-08-18T19:38:27.569Z"
   },
   {
    "duration": 108,
    "start_time": "2023-08-18T20:08:32.712Z"
   },
   {
    "duration": 130,
    "start_time": "2023-08-18T20:14:03.767Z"
   },
   {
    "duration": 27,
    "start_time": "2023-08-18T20:14:19.014Z"
   },
   {
    "duration": 127,
    "start_time": "2023-08-18T20:14:21.815Z"
   },
   {
    "duration": 115,
    "start_time": "2023-08-18T20:15:04.866Z"
   },
   {
    "duration": 106,
    "start_time": "2023-08-18T20:53:15.313Z"
   },
   {
    "duration": 116,
    "start_time": "2023-08-18T20:54:45.321Z"
   },
   {
    "duration": 116,
    "start_time": "2023-08-18T21:58:52.354Z"
   },
   {
    "duration": 2304,
    "start_time": "2023-08-19T16:26:46.656Z"
   },
   {
    "duration": 1750,
    "start_time": "2023-08-19T16:26:48.963Z"
   },
   {
    "duration": 98,
    "start_time": "2023-08-19T16:26:50.715Z"
   },
   {
    "duration": 24,
    "start_time": "2023-08-19T16:26:53.548Z"
   },
   {
    "duration": 13,
    "start_time": "2023-08-19T16:26:57.314Z"
   },
   {
    "duration": 15,
    "start_time": "2023-08-19T16:26:58.875Z"
   },
   {
    "duration": 44,
    "start_time": "2023-08-19T16:57:00.109Z"
   },
   {
    "duration": 2925,
    "start_time": "2023-08-19T16:57:09.463Z"
   },
   {
    "duration": 1282,
    "start_time": "2023-08-19T16:57:12.390Z"
   },
   {
    "duration": 369,
    "start_time": "2023-08-19T16:57:13.674Z"
   },
   {
    "duration": 25,
    "start_time": "2023-08-19T16:57:14.045Z"
   },
   {
    "duration": 9,
    "start_time": "2023-08-19T16:57:14.072Z"
   },
   {
    "duration": 151,
    "start_time": "2023-08-19T16:57:14.083Z"
   },
   {
    "duration": 13,
    "start_time": "2023-08-19T16:57:14.235Z"
   },
   {
    "duration": 591,
    "start_time": "2023-08-19T16:57:14.250Z"
   },
   {
    "duration": 551,
    "start_time": "2023-08-19T16:57:14.843Z"
   },
   {
    "duration": 303,
    "start_time": "2023-08-19T16:57:15.396Z"
   },
   {
    "duration": 17,
    "start_time": "2023-08-19T16:57:15.701Z"
   },
   {
    "duration": 350,
    "start_time": "2023-08-19T16:57:15.719Z"
   },
   {
    "duration": 20,
    "start_time": "2023-08-19T16:57:16.071Z"
   },
   {
    "duration": 110,
    "start_time": "2023-08-19T16:57:16.093Z"
   },
   {
    "duration": 489,
    "start_time": "2023-08-19T16:57:16.204Z"
   },
   {
    "duration": 12,
    "start_time": "2023-08-19T16:57:16.695Z"
   },
   {
    "duration": 191,
    "start_time": "2023-08-19T16:57:16.709Z"
   },
   {
    "duration": 38,
    "start_time": "2023-08-19T16:57:16.901Z"
   },
   {
    "duration": 3638,
    "start_time": "2023-08-19T16:57:16.941Z"
   },
   {
    "duration": 23,
    "start_time": "2023-08-19T17:38:54.767Z"
   },
   {
    "duration": 4,
    "start_time": "2023-08-19T17:39:27.148Z"
   },
   {
    "duration": 37,
    "start_time": "2023-08-19T17:45:36.499Z"
   },
   {
    "duration": 6,
    "start_time": "2023-08-19T17:48:31.104Z"
   },
   {
    "duration": 25,
    "start_time": "2023-08-19T17:48:47.161Z"
   },
   {
    "duration": 309,
    "start_time": "2023-08-19T17:54:55.131Z"
   },
   {
    "duration": 3,
    "start_time": "2023-08-19T17:55:36.212Z"
   },
   {
    "duration": 8,
    "start_time": "2023-08-19T17:57:15.472Z"
   },
   {
    "duration": 6,
    "start_time": "2023-08-19T18:01:39.126Z"
   },
   {
    "duration": 8,
    "start_time": "2023-08-19T18:07:53.540Z"
   },
   {
    "duration": 5,
    "start_time": "2023-08-19T18:07:55.263Z"
   },
   {
    "duration": 76,
    "start_time": "2023-08-19T18:43:34.096Z"
   },
   {
    "duration": 3,
    "start_time": "2023-08-19T18:43:43.973Z"
   },
   {
    "duration": 4,
    "start_time": "2023-08-19T18:43:45.282Z"
   },
   {
    "duration": 9946,
    "start_time": "2023-08-19T18:43:50.800Z"
   },
   {
    "duration": 15,
    "start_time": "2023-08-19T18:45:15.320Z"
   },
   {
    "duration": 427486,
    "start_time": "2023-08-19T18:45:33.674Z"
   },
   {
    "duration": 9,
    "start_time": "2023-08-19T18:53:07.422Z"
   },
   {
    "duration": 3,
    "start_time": "2023-08-19T18:53:24.160Z"
   },
   {
    "duration": 3,
    "start_time": "2023-08-19T18:53:26.170Z"
   },
   {
    "duration": 7382,
    "start_time": "2023-08-19T18:53:28.195Z"
   },
   {
    "duration": 3,
    "start_time": "2023-08-19T18:54:03.131Z"
   },
   {
    "duration": 3,
    "start_time": "2023-08-19T18:54:03.642Z"
   },
   {
    "duration": 7635,
    "start_time": "2023-08-19T18:54:04.293Z"
   },
   {
    "duration": 3,
    "start_time": "2023-08-19T18:54:34.579Z"
   },
   {
    "duration": 3,
    "start_time": "2023-08-19T18:54:35.196Z"
   },
   {
    "duration": 8110,
    "start_time": "2023-08-19T18:54:35.798Z"
   },
   {
    "duration": 0,
    "start_time": "2023-08-19T19:00:28.066Z"
   },
   {
    "duration": 657,
    "start_time": "2023-08-19T19:00:30.811Z"
   },
   {
    "duration": 10,
    "start_time": "2023-08-19T19:01:06.466Z"
   },
   {
    "duration": 3,
    "start_time": "2023-08-19T19:01:10.091Z"
   },
   {
    "duration": 738,
    "start_time": "2023-08-19T19:01:12.944Z"
   },
   {
    "duration": 3,
    "start_time": "2023-08-19T19:02:34.748Z"
   },
   {
    "duration": 3,
    "start_time": "2023-08-19T19:02:35.732Z"
   },
   {
    "duration": 701,
    "start_time": "2023-08-19T19:02:37.960Z"
   },
   {
    "duration": 156,
    "start_time": "2023-08-19T19:05:04.495Z"
   },
   {
    "duration": 3,
    "start_time": "2023-08-19T19:05:52.725Z"
   },
   {
    "duration": 3,
    "start_time": "2023-08-19T19:05:54.348Z"
   },
   {
    "duration": 653,
    "start_time": "2023-08-19T19:06:01.796Z"
   },
   {
    "duration": 3,
    "start_time": "2023-08-19T19:06:47.103Z"
   },
   {
    "duration": 2,
    "start_time": "2023-08-19T19:06:48.683Z"
   },
   {
    "duration": 1957480,
    "start_time": "2023-08-19T19:06:50.773Z"
   },
   {
    "duration": 8,
    "start_time": "2023-08-19T19:44:25.963Z"
   },
   {
    "duration": 54,
    "start_time": "2023-08-19T19:44:33.349Z"
   },
   {
    "duration": 8,
    "start_time": "2023-08-19T19:45:32.831Z"
   },
   {
    "duration": 3,
    "start_time": "2023-08-19T19:46:04.192Z"
   },
   {
    "duration": 4,
    "start_time": "2023-08-19T19:46:37.595Z"
   },
   {
    "duration": 13,
    "start_time": "2023-08-19T19:47:30.113Z"
   },
   {
    "duration": 4,
    "start_time": "2023-08-19T19:48:04.901Z"
   },
   {
    "duration": 4,
    "start_time": "2023-08-19T19:49:09.260Z"
   },
   {
    "duration": 3,
    "start_time": "2023-08-19T19:49:36.288Z"
   },
   {
    "duration": 8,
    "start_time": "2023-08-19T19:50:01.497Z"
   },
   {
    "duration": 8,
    "start_time": "2023-08-19T19:50:52.831Z"
   },
   {
    "duration": 2,
    "start_time": "2023-08-19T19:51:40.460Z"
   },
   {
    "duration": 3,
    "start_time": "2023-08-19T19:51:44.023Z"
   },
   {
    "duration": 3,
    "start_time": "2023-08-19T19:51:47.679Z"
   },
   {
    "duration": 9,
    "start_time": "2023-08-19T19:52:08.531Z"
   },
   {
    "duration": 9,
    "start_time": "2023-08-19T19:52:14.249Z"
   },
   {
    "duration": 8,
    "start_time": "2023-08-19T19:52:52.406Z"
   },
   {
    "duration": 8,
    "start_time": "2023-08-19T19:52:55.983Z"
   },
   {
    "duration": 59,
    "start_time": "2023-08-19T19:53:36.499Z"
   },
   {
    "duration": 3,
    "start_time": "2023-08-19T19:55:13.338Z"
   },
   {
    "duration": 45,
    "start_time": "2023-08-19T19:55:34.191Z"
   },
   {
    "duration": 4,
    "start_time": "2023-08-19T19:55:58.627Z"
   },
   {
    "duration": 8,
    "start_time": "2023-08-19T19:56:15.588Z"
   },
   {
    "duration": 4,
    "start_time": "2023-08-19T19:56:24.379Z"
   },
   {
    "duration": 3,
    "start_time": "2023-08-19T19:56:57.199Z"
   },
   {
    "duration": 3,
    "start_time": "2023-08-19T19:56:57.706Z"
   },
   {
    "duration": 465967,
    "start_time": "2023-08-19T19:57:01.199Z"
   },
   {
    "duration": 3,
    "start_time": "2023-08-19T20:05:04.710Z"
   },
   {
    "duration": 10,
    "start_time": "2023-08-19T20:07:24.226Z"
   },
   {
    "duration": 3,
    "start_time": "2023-08-19T20:07:44.024Z"
   },
   {
    "duration": 10,
    "start_time": "2023-08-19T20:07:52.327Z"
   },
   {
    "duration": 8,
    "start_time": "2023-08-19T20:08:16.491Z"
   },
   {
    "duration": 5,
    "start_time": "2023-08-19T20:08:28.242Z"
   },
   {
    "duration": 10,
    "start_time": "2023-08-19T20:08:34.691Z"
   },
   {
    "duration": 4,
    "start_time": "2023-08-19T20:08:38.544Z"
   },
   {
    "duration": 8,
    "start_time": "2023-08-19T20:08:48.141Z"
   },
   {
    "duration": 9,
    "start_time": "2023-08-19T20:08:52.293Z"
   },
   {
    "duration": 3,
    "start_time": "2023-08-19T20:09:02.679Z"
   },
   {
    "duration": 3,
    "start_time": "2023-08-19T20:09:42.186Z"
   },
   {
    "duration": 10,
    "start_time": "2023-08-19T20:09:45.017Z"
   },
   {
    "duration": 11,
    "start_time": "2023-08-19T20:09:49.623Z"
   },
   {
    "duration": 16,
    "start_time": "2023-08-19T20:10:22.389Z"
   },
   {
    "duration": 3,
    "start_time": "2023-08-19T20:11:04.394Z"
   },
   {
    "duration": 28,
    "start_time": "2023-08-19T20:11:27.530Z"
   },
   {
    "duration": 4,
    "start_time": "2023-08-19T20:11:40.178Z"
   },
   {
    "duration": 14,
    "start_time": "2023-08-19T20:11:57.878Z"
   },
   {
    "duration": 89,
    "start_time": "2023-08-19T20:12:50.618Z"
   },
   {
    "duration": 3,
    "start_time": "2023-08-19T20:16:52.248Z"
   },
   {
    "duration": 3,
    "start_time": "2023-08-19T20:16:54.687Z"
   },
   {
    "duration": 447445,
    "start_time": "2023-08-19T20:16:57.692Z"
   },
   {
    "duration": 4,
    "start_time": "2023-08-19T20:24:39.794Z"
   },
   {
    "duration": 26,
    "start_time": "2023-08-19T20:24:45.145Z"
   },
   {
    "duration": 4,
    "start_time": "2023-08-19T20:25:16.237Z"
   },
   {
    "duration": 3,
    "start_time": "2023-08-19T20:25:16.861Z"
   },
   {
    "duration": 478382,
    "start_time": "2023-08-19T20:25:18.819Z"
   },
   {
    "duration": 4,
    "start_time": "2023-08-19T20:33:18.243Z"
   },
   {
    "duration": 29,
    "start_time": "2023-08-19T20:33:29.168Z"
   },
   {
    "duration": 19,
    "start_time": "2023-08-19T20:33:38.787Z"
   },
   {
    "duration": 20,
    "start_time": "2023-08-19T20:37:18.561Z"
   },
   {
    "duration": 20,
    "start_time": "2023-08-19T20:42:23.660Z"
   },
   {
    "duration": 4,
    "start_time": "2023-08-19T21:05:25.491Z"
   },
   {
    "duration": 117,
    "start_time": "2023-08-19T21:05:29.536Z"
   },
   {
    "duration": 5,
    "start_time": "2023-08-19T21:37:36.724Z"
   },
   {
    "duration": 4,
    "start_time": "2023-08-19T21:38:21.404Z"
   },
   {
    "duration": 4,
    "start_time": "2023-08-19T21:38:27.184Z"
   },
   {
    "duration": 4,
    "start_time": "2023-08-19T21:38:39.240Z"
   },
   {
    "duration": 2925,
    "start_time": "2023-08-22T18:05:20.198Z"
   },
   {
    "duration": 1344,
    "start_time": "2023-08-22T18:05:23.125Z"
   },
   {
    "duration": 355,
    "start_time": "2023-08-22T18:05:24.470Z"
   },
   {
    "duration": 28,
    "start_time": "2023-08-22T18:05:24.827Z"
   },
   {
    "duration": 10,
    "start_time": "2023-08-22T18:05:24.857Z"
   },
   {
    "duration": 29,
    "start_time": "2023-08-22T18:05:24.868Z"
   },
   {
    "duration": 16,
    "start_time": "2023-08-22T18:05:24.898Z"
   },
   {
    "duration": 641,
    "start_time": "2023-08-22T18:05:24.916Z"
   },
   {
    "duration": 626,
    "start_time": "2023-08-22T18:05:25.560Z"
   },
   {
    "duration": 335,
    "start_time": "2023-08-22T18:05:26.190Z"
   },
   {
    "duration": 18,
    "start_time": "2023-08-22T18:05:26.527Z"
   },
   {
    "duration": 382,
    "start_time": "2023-08-22T18:05:26.547Z"
   },
   {
    "duration": 35,
    "start_time": "2023-08-22T18:05:26.931Z"
   },
   {
    "duration": 120,
    "start_time": "2023-08-22T18:05:26.968Z"
   },
   {
    "duration": 492,
    "start_time": "2023-08-22T18:05:27.090Z"
   },
   {
    "duration": 15,
    "start_time": "2023-08-22T18:05:27.584Z"
   },
   {
    "duration": 235,
    "start_time": "2023-08-22T18:05:27.601Z"
   },
   {
    "duration": 48,
    "start_time": "2023-08-22T18:05:27.838Z"
   },
   {
    "duration": 3933,
    "start_time": "2023-08-22T18:05:27.888Z"
   },
   {
    "duration": 38,
    "start_time": "2023-08-22T18:05:31.824Z"
   },
   {
    "duration": 21,
    "start_time": "2023-08-22T18:05:31.864Z"
   },
   {
    "duration": 58,
    "start_time": "2023-08-22T18:05:31.887Z"
   },
   {
    "duration": 7,
    "start_time": "2023-08-22T18:05:31.947Z"
   },
   {
    "duration": 49,
    "start_time": "2023-08-22T18:05:31.956Z"
   },
   {
    "duration": 444,
    "start_time": "2023-08-22T18:05:32.007Z"
   },
   {
    "duration": 3,
    "start_time": "2023-08-22T18:05:32.453Z"
   },
   {
    "duration": 19,
    "start_time": "2023-08-22T18:05:32.458Z"
   },
   {
    "duration": 10,
    "start_time": "2023-08-22T18:05:32.480Z"
   },
   {
    "duration": 118,
    "start_time": "2023-08-22T18:23:21.311Z"
   },
   {
    "duration": 4,
    "start_time": "2023-08-22T18:23:31.310Z"
   },
   {
    "duration": 13,
    "start_time": "2023-08-22T18:23:32.840Z"
   },
   {
    "duration": 5906,
    "start_time": "2023-08-22T18:23:45.948Z"
   },
   {
    "duration": 4,
    "start_time": "2023-08-22T18:24:22.537Z"
   },
   {
    "duration": 3125,
    "start_time": "2023-08-22T18:24:29.510Z"
   },
   {
    "duration": 20,
    "start_time": "2023-08-22T18:36:23.654Z"
   },
   {
    "duration": 5,
    "start_time": "2023-08-22T18:36:29.955Z"
   },
   {
    "duration": 11,
    "start_time": "2023-08-22T18:42:19.508Z"
   },
   {
    "duration": 4,
    "start_time": "2023-08-22T18:42:26.445Z"
   },
   {
    "duration": 2,
    "start_time": "2023-08-22T18:42:28.574Z"
   },
   {
    "duration": 10,
    "start_time": "2023-08-22T18:42:30.013Z"
   },
   {
    "duration": 6,
    "start_time": "2023-08-22T18:42:31.533Z"
   },
   {
    "duration": 5,
    "start_time": "2023-08-22T18:42:33.935Z"
   },
   {
    "duration": 40,
    "start_time": "2023-08-22T18:42:35.678Z"
   },
   {
    "duration": 6,
    "start_time": "2023-08-22T18:44:03.797Z"
   },
   {
    "duration": 5,
    "start_time": "2023-08-22T18:48:32.013Z"
   },
   {
    "duration": 149,
    "start_time": "2023-08-22T18:48:32.767Z"
   },
   {
    "duration": 6,
    "start_time": "2023-08-22T18:51:43.103Z"
   },
   {
    "duration": 31,
    "start_time": "2023-08-22T18:51:43.400Z"
   },
   {
    "duration": 7,
    "start_time": "2023-08-22T18:59:46.438Z"
   },
   {
    "duration": 39,
    "start_time": "2023-08-22T18:59:47.142Z"
   },
   {
    "duration": 5,
    "start_time": "2023-08-22T19:00:27.862Z"
   },
   {
    "duration": 31,
    "start_time": "2023-08-22T19:00:28.311Z"
   },
   {
    "duration": 5,
    "start_time": "2023-08-22T19:00:42.811Z"
   },
   {
    "duration": 33,
    "start_time": "2023-08-22T19:00:43.350Z"
   },
   {
    "duration": 6,
    "start_time": "2023-08-22T19:00:57.471Z"
   },
   {
    "duration": 33,
    "start_time": "2023-08-22T19:00:57.757Z"
   },
   {
    "duration": 8,
    "start_time": "2023-08-22T19:01:44.056Z"
   },
   {
    "duration": 32,
    "start_time": "2023-08-22T19:01:44.649Z"
   },
   {
    "duration": 6,
    "start_time": "2023-08-22T19:02:12.891Z"
   },
   {
    "duration": 33,
    "start_time": "2023-08-22T19:02:13.431Z"
   },
   {
    "duration": 6,
    "start_time": "2023-08-22T19:03:21.110Z"
   },
   {
    "duration": 4,
    "start_time": "2023-08-22T19:06:59.164Z"
   },
   {
    "duration": 6,
    "start_time": "2023-08-22T19:07:09.033Z"
   },
   {
    "duration": 32,
    "start_time": "2023-08-22T19:07:11.063Z"
   },
   {
    "duration": 4,
    "start_time": "2023-08-22T19:07:48.031Z"
   },
   {
    "duration": 6,
    "start_time": "2023-08-22T19:08:20.932Z"
   },
   {
    "duration": 5,
    "start_time": "2023-08-22T19:08:21.434Z"
   },
   {
    "duration": 35,
    "start_time": "2023-08-22T19:08:22.303Z"
   },
   {
    "duration": 6,
    "start_time": "2023-08-22T19:08:31.465Z"
   },
   {
    "duration": 5,
    "start_time": "2023-08-22T19:08:31.936Z"
   },
   {
    "duration": 36,
    "start_time": "2023-08-22T19:08:32.445Z"
   },
   {
    "duration": 7,
    "start_time": "2023-08-22T19:08:42.291Z"
   },
   {
    "duration": 33,
    "start_time": "2023-08-22T19:08:44.623Z"
   },
   {
    "duration": 5,
    "start_time": "2023-08-22T19:08:52.933Z"
   },
   {
    "duration": 43,
    "start_time": "2023-08-22T19:08:54.817Z"
   },
   {
    "duration": 6,
    "start_time": "2023-08-22T19:09:08.772Z"
   },
   {
    "duration": 33,
    "start_time": "2023-08-22T19:09:10.609Z"
   },
   {
    "duration": 6,
    "start_time": "2023-08-22T19:09:17.059Z"
   },
   {
    "duration": 154,
    "start_time": "2023-08-22T19:09:18.708Z"
   },
   {
    "duration": 6,
    "start_time": "2023-08-22T19:09:25.488Z"
   },
   {
    "duration": 5,
    "start_time": "2023-08-22T19:09:25.969Z"
   },
   {
    "duration": 21367,
    "start_time": "2023-08-22T19:09:27.767Z"
   },
   {
    "duration": 5,
    "start_time": "2023-08-22T19:09:52.830Z"
   },
   {
    "duration": 4076,
    "start_time": "2023-08-22T19:09:58.638Z"
   },
   {
    "duration": 5,
    "start_time": "2023-08-22T19:10:06.018Z"
   },
   {
    "duration": 21078,
    "start_time": "2023-08-22T19:10:06.335Z"
   },
   {
    "duration": 5,
    "start_time": "2023-08-22T19:15:06.020Z"
   },
   {
    "duration": 10312,
    "start_time": "2023-08-22T19:15:06.599Z"
   },
   {
    "duration": 6,
    "start_time": "2023-08-22T19:15:20.272Z"
   },
   {
    "duration": 2540,
    "start_time": "2023-08-22T19:15:20.587Z"
   },
   {
    "duration": 9,
    "start_time": "2023-08-22T19:16:39.787Z"
   },
   {
    "duration": 7641,
    "start_time": "2023-08-22T19:16:40.097Z"
   },
   {
    "duration": 5,
    "start_time": "2023-08-22T19:17:02.185Z"
   },
   {
    "duration": 8877,
    "start_time": "2023-08-22T19:17:02.616Z"
   },
   {
    "duration": 6,
    "start_time": "2023-08-22T19:17:14.757Z"
   },
   {
    "duration": 12140331,
    "start_time": "2023-08-22T19:17:15.019Z"
   },
   {
    "duration": 4,
    "start_time": "2023-08-22T22:39:57.825Z"
   },
   {
    "duration": 13,
    "start_time": "2023-08-22T22:40:05.977Z"
   },
   {
    "duration": 9,
    "start_time": "2023-08-22T22:40:55.546Z"
   },
   {
    "duration": 74,
    "start_time": "2023-08-22T22:46:02.242Z"
   },
   {
    "duration": 9,
    "start_time": "2023-08-22T22:46:45.771Z"
   },
   {
    "duration": 4,
    "start_time": "2023-08-22T22:46:51.365Z"
   },
   {
    "duration": 11,
    "start_time": "2023-08-22T22:50:36.307Z"
   },
   {
    "duration": 4,
    "start_time": "2023-08-22T22:50:41.781Z"
   },
   {
    "duration": 4,
    "start_time": "2023-08-22T23:40:01.182Z"
   },
   {
    "duration": 5844,
    "start_time": "2023-08-22T23:40:04.708Z"
   },
   {
    "duration": 22,
    "start_time": "2023-08-22T23:49:45.143Z"
   },
   {
    "duration": 5,
    "start_time": "2023-08-22T23:49:49.790Z"
   },
   {
    "duration": 7,
    "start_time": "2023-08-22T23:49:51.487Z"
   },
   {
    "duration": 20,
    "start_time": "2023-08-22T23:50:01.976Z"
   },
   {
    "duration": 4,
    "start_time": "2023-08-22T23:50:14.514Z"
   },
   {
    "duration": 69259,
    "start_time": "2023-08-22T23:50:14.931Z"
   },
   {
    "duration": 4,
    "start_time": "2023-08-22T23:51:28.976Z"
   },
   {
    "duration": 1706044,
    "start_time": "2023-08-22T23:51:29.943Z"
   },
   {
    "duration": 4,
    "start_time": "2023-08-23T00:20:01.135Z"
   },
   {
    "duration": 4,
    "start_time": "2023-08-23T00:21:18.628Z"
   },
   {
    "duration": 1311,
    "start_time": "2023-08-23T00:21:26.592Z"
   },
   {
    "duration": 1968,
    "start_time": "2023-08-23T00:22:27.619Z"
   },
   {
    "duration": 4,
    "start_time": "2023-08-23T00:22:29.589Z"
   },
   {
    "duration": 111,
    "start_time": "2023-08-23T00:22:29.594Z"
   },
   {
    "duration": 24,
    "start_time": "2023-08-23T00:22:29.707Z"
   },
   {
    "duration": 21,
    "start_time": "2023-08-23T00:22:29.733Z"
   },
   {
    "duration": 18,
    "start_time": "2023-08-23T00:22:29.755Z"
   },
   {
    "duration": 25,
    "start_time": "2023-08-23T00:22:29.775Z"
   },
   {
    "duration": 587,
    "start_time": "2023-08-23T00:22:29.802Z"
   },
   {
    "duration": 688,
    "start_time": "2023-08-23T00:22:30.391Z"
   },
   {
    "duration": 317,
    "start_time": "2023-08-23T00:22:31.081Z"
   },
   {
    "duration": 18,
    "start_time": "2023-08-23T00:22:31.400Z"
   },
   {
    "duration": 383,
    "start_time": "2023-08-23T00:22:31.419Z"
   },
   {
    "duration": 21,
    "start_time": "2023-08-23T00:22:31.804Z"
   },
   {
    "duration": 119,
    "start_time": "2023-08-23T00:22:31.828Z"
   },
   {
    "duration": 522,
    "start_time": "2023-08-23T00:22:31.949Z"
   },
   {
    "duration": 15,
    "start_time": "2023-08-23T00:22:32.473Z"
   },
   {
    "duration": 264,
    "start_time": "2023-08-23T00:22:32.490Z"
   },
   {
    "duration": 52,
    "start_time": "2023-08-23T00:22:32.755Z"
   },
   {
    "duration": 3780,
    "start_time": "2023-08-23T00:22:32.808Z"
   },
   {
    "duration": 22,
    "start_time": "2023-08-23T00:22:36.590Z"
   },
   {
    "duration": 3,
    "start_time": "2023-08-23T00:22:36.614Z"
   },
   {
    "duration": 50,
    "start_time": "2023-08-23T00:22:36.618Z"
   },
   {
    "duration": 6,
    "start_time": "2023-08-23T00:22:36.669Z"
   },
   {
    "duration": 24,
    "start_time": "2023-08-23T00:22:36.677Z"
   },
   {
    "duration": 4,
    "start_time": "2023-08-23T00:22:36.702Z"
   },
   {
    "duration": 10,
    "start_time": "2023-08-23T00:22:36.707Z"
   },
   {
    "duration": 29,
    "start_time": "2023-08-23T00:22:36.718Z"
   },
   {
    "duration": 24,
    "start_time": "2023-08-23T00:22:36.749Z"
   },
   {
    "duration": 13,
    "start_time": "2023-08-23T00:22:36.775Z"
   },
   {
    "duration": 4,
    "start_time": "2023-08-23T00:22:46.619Z"
   },
   {
    "duration": 912842,
    "start_time": "2023-08-23T00:22:47.869Z"
   },
   {
    "duration": 12,
    "start_time": "2023-08-23T00:38:21.795Z"
   },
   {
    "duration": 4,
    "start_time": "2023-08-23T00:38:37.735Z"
   },
   {
    "duration": 3,
    "start_time": "2023-08-23T00:38:54.882Z"
   },
   {
    "duration": 4,
    "start_time": "2023-08-23T00:39:41.016Z"
   },
   {
    "duration": 4,
    "start_time": "2023-08-23T00:39:45.924Z"
   },
   {
    "duration": 4,
    "start_time": "2023-08-23T00:57:37.043Z"
   },
   {
    "duration": 10,
    "start_time": "2023-08-23T00:57:38.097Z"
   },
   {
    "duration": 3,
    "start_time": "2023-08-23T00:59:05.168Z"
   },
   {
    "duration": 4,
    "start_time": "2023-08-23T00:59:05.829Z"
   },
   {
    "duration": 11,
    "start_time": "2023-08-23T00:59:09.400Z"
   },
   {
    "duration": 3,
    "start_time": "2023-08-23T00:59:27.238Z"
   },
   {
    "duration": 10,
    "start_time": "2023-08-23T00:59:33.610Z"
   },
   {
    "duration": 3,
    "start_time": "2023-08-23T01:04:00.483Z"
   },
   {
    "duration": 11,
    "start_time": "2023-08-23T01:07:01.290Z"
   },
   {
    "duration": 9,
    "start_time": "2023-08-23T01:07:08.082Z"
   },
   {
    "duration": 3,
    "start_time": "2023-08-23T01:07:19.002Z"
   },
   {
    "duration": 10,
    "start_time": "2023-08-23T01:07:21.134Z"
   },
   {
    "duration": 11,
    "start_time": "2023-08-23T01:08:32.929Z"
   },
   {
    "duration": 11,
    "start_time": "2023-08-23T01:08:59.984Z"
   },
   {
    "duration": 1455,
    "start_time": "2023-08-23T01:09:17.916Z"
   },
   {
    "duration": 5,
    "start_time": "2023-08-23T01:10:13.468Z"
   },
   {
    "duration": 3,
    "start_time": "2023-08-23T01:10:39.775Z"
   },
   {
    "duration": 9,
    "start_time": "2023-08-23T01:10:41.046Z"
   },
   {
    "duration": 587,
    "start_time": "2023-08-23T01:10:52.488Z"
   },
   {
    "duration": 4,
    "start_time": "2023-08-23T01:12:21.300Z"
   },
   {
    "duration": 3,
    "start_time": "2023-08-23T01:13:15.921Z"
   },
   {
    "duration": 4,
    "start_time": "2023-08-23T01:13:31.740Z"
   },
   {
    "duration": 91,
    "start_time": "2023-08-23T01:13:38.745Z"
   },
   {
    "duration": 3,
    "start_time": "2023-08-23T01:13:47.283Z"
   },
   {
    "duration": 4,
    "start_time": "2023-08-23T01:14:02.048Z"
   },
   {
    "duration": 76,
    "start_time": "2023-08-23T01:35:17.499Z"
   },
   {
    "duration": 74,
    "start_time": "2023-08-23T01:35:46.972Z"
   },
   {
    "duration": 77,
    "start_time": "2023-08-23T01:36:34.452Z"
   },
   {
    "duration": 9,
    "start_time": "2023-08-23T01:37:24.634Z"
   },
   {
    "duration": 138,
    "start_time": "2023-08-23T01:40:25.420Z"
   },
   {
    "duration": 12,
    "start_time": "2023-08-23T01:42:33.267Z"
   },
   {
    "duration": 3272,
    "start_time": "2023-08-23T01:43:14.142Z"
   },
   {
    "duration": 1037,
    "start_time": "2023-08-23T01:43:17.417Z"
   },
   {
    "duration": 143,
    "start_time": "2023-08-23T01:44:40.634Z"
   },
   {
    "duration": 1205,
    "start_time": "2023-08-23T01:49:15.144Z"
   },
   {
    "duration": 2913,
    "start_time": "2023-08-23T01:49:39.283Z"
   },
   {
    "duration": 1241,
    "start_time": "2023-08-23T01:58:18.659Z"
   },
   {
    "duration": 1266,
    "start_time": "2023-08-23T01:59:15.714Z"
   },
   {
    "duration": 1236,
    "start_time": "2023-08-23T01:59:28.578Z"
   },
   {
    "duration": 2172,
    "start_time": "2023-08-23T01:59:44.588Z"
   },
   {
    "duration": 11,
    "start_time": "2023-08-23T02:07:33.991Z"
   },
   {
    "duration": 22,
    "start_time": "2023-08-23T02:08:35.038Z"
   },
   {
    "duration": 105,
    "start_time": "2023-08-23T02:08:48.382Z"
   },
   {
    "duration": 12,
    "start_time": "2023-08-23T02:08:57.141Z"
   },
   {
    "duration": 27,
    "start_time": "2023-08-23T02:10:55.124Z"
   },
   {
    "duration": 16,
    "start_time": "2023-08-23T02:11:07.959Z"
   },
   {
    "duration": 16,
    "start_time": "2023-08-23T02:11:22.836Z"
   },
   {
    "duration": 16,
    "start_time": "2023-08-23T02:11:33.208Z"
   },
   {
    "duration": 13,
    "start_time": "2023-08-23T02:12:51.209Z"
   },
   {
    "duration": 19,
    "start_time": "2023-08-23T02:13:06.831Z"
   },
   {
    "duration": 11,
    "start_time": "2023-08-23T02:13:23.422Z"
   },
   {
    "duration": 17,
    "start_time": "2023-08-23T02:13:35.231Z"
   },
   {
    "duration": 12,
    "start_time": "2023-08-23T02:13:41.734Z"
   },
   {
    "duration": 21,
    "start_time": "2023-08-23T02:15:39.023Z"
   },
   {
    "duration": 20,
    "start_time": "2023-08-23T02:16:15.289Z"
   },
   {
    "duration": 23,
    "start_time": "2023-08-23T02:16:45.008Z"
   },
   {
    "duration": 21,
    "start_time": "2023-08-23T02:16:50.096Z"
   },
   {
    "duration": 19,
    "start_time": "2023-08-23T02:17:13.552Z"
   },
   {
    "duration": 14,
    "start_time": "2023-08-23T02:17:43.703Z"
   },
   {
    "duration": 2016,
    "start_time": "2023-08-23T02:17:55.529Z"
   },
   {
    "duration": 1963,
    "start_time": "2023-08-23T02:18:25.030Z"
   },
   {
    "duration": 2196,
    "start_time": "2023-08-23T02:18:50.646Z"
   },
   {
    "duration": 2051,
    "start_time": "2023-08-23T02:19:02.592Z"
   },
   {
    "duration": 2030,
    "start_time": "2023-08-23T02:19:20.871Z"
   },
   {
    "duration": 2212,
    "start_time": "2023-08-23T02:20:04.277Z"
   },
   {
    "duration": 2044,
    "start_time": "2023-08-23T02:20:46.169Z"
   },
   {
    "duration": 1978,
    "start_time": "2023-08-23T02:29:31.599Z"
   },
   {
    "duration": 1171,
    "start_time": "2023-08-23T02:29:33.579Z"
   },
   {
    "duration": 98,
    "start_time": "2023-08-23T02:29:34.752Z"
   },
   {
    "duration": 26,
    "start_time": "2023-08-23T02:29:34.853Z"
   },
   {
    "duration": 9,
    "start_time": "2023-08-23T02:29:34.881Z"
   },
   {
    "duration": 14,
    "start_time": "2023-08-23T02:29:34.891Z"
   },
   {
    "duration": 13,
    "start_time": "2023-08-23T02:29:34.906Z"
   },
   {
    "duration": 628,
    "start_time": "2023-08-23T02:29:34.920Z"
   },
   {
    "duration": 593,
    "start_time": "2023-08-23T02:29:35.550Z"
   },
   {
    "duration": 318,
    "start_time": "2023-08-23T02:29:36.145Z"
   },
   {
    "duration": 17,
    "start_time": "2023-08-23T02:29:36.466Z"
   },
   {
    "duration": 357,
    "start_time": "2023-08-23T02:29:36.484Z"
   },
   {
    "duration": 33,
    "start_time": "2023-08-23T02:29:36.843Z"
   },
   {
    "duration": 107,
    "start_time": "2023-08-23T02:29:36.877Z"
   },
   {
    "duration": 479,
    "start_time": "2023-08-23T02:29:36.985Z"
   },
   {
    "duration": 15,
    "start_time": "2023-08-23T02:29:37.467Z"
   },
   {
    "duration": 229,
    "start_time": "2023-08-23T02:29:37.484Z"
   },
   {
    "duration": 39,
    "start_time": "2023-08-23T02:29:37.715Z"
   },
   {
    "duration": 3559,
    "start_time": "2023-08-23T02:29:37.766Z"
   },
   {
    "duration": 20,
    "start_time": "2023-08-23T02:29:41.327Z"
   },
   {
    "duration": 3,
    "start_time": "2023-08-23T02:29:41.349Z"
   },
   {
    "duration": 37,
    "start_time": "2023-08-23T02:29:41.353Z"
   },
   {
    "duration": 5,
    "start_time": "2023-08-23T02:29:41.392Z"
   },
   {
    "duration": 23,
    "start_time": "2023-08-23T02:29:41.399Z"
   },
   {
    "duration": 2016,
    "start_time": "2023-08-23T02:29:41.424Z"
   },
   {
    "duration": 1297,
    "start_time": "2023-08-23T02:29:43.442Z"
   },
   {
    "duration": 3,
    "start_time": "2023-08-23T02:29:44.741Z"
   },
   {
    "duration": 33,
    "start_time": "2023-08-23T02:29:44.747Z"
   },
   {
    "duration": 167,
    "start_time": "2023-08-23T02:29:44.782Z"
   },
   {
    "duration": 0,
    "start_time": "2023-08-23T02:29:44.950Z"
   },
   {
    "duration": 0,
    "start_time": "2023-08-23T02:29:44.952Z"
   },
   {
    "duration": 0,
    "start_time": "2023-08-23T02:29:44.953Z"
   },
   {
    "duration": 0,
    "start_time": "2023-08-23T02:29:44.954Z"
   },
   {
    "duration": 0,
    "start_time": "2023-08-23T02:29:44.955Z"
   },
   {
    "duration": 0,
    "start_time": "2023-08-23T02:29:44.967Z"
   },
   {
    "duration": 0,
    "start_time": "2023-08-23T02:29:44.968Z"
   },
   {
    "duration": 0,
    "start_time": "2023-08-23T02:29:44.969Z"
   },
   {
    "duration": 0,
    "start_time": "2023-08-23T02:29:44.970Z"
   },
   {
    "duration": 0,
    "start_time": "2023-08-23T02:29:44.971Z"
   },
   {
    "duration": 0,
    "start_time": "2023-08-23T02:29:44.973Z"
   },
   {
    "duration": 0,
    "start_time": "2023-08-23T02:29:44.974Z"
   },
   {
    "duration": 0,
    "start_time": "2023-08-23T02:29:44.975Z"
   },
   {
    "duration": 1984,
    "start_time": "2023-08-23T02:32:04.226Z"
   },
   {
    "duration": 1117,
    "start_time": "2023-08-23T02:32:06.212Z"
   },
   {
    "duration": 98,
    "start_time": "2023-08-23T02:32:07.332Z"
   },
   {
    "duration": 29,
    "start_time": "2023-08-23T02:32:07.432Z"
   },
   {
    "duration": 10,
    "start_time": "2023-08-23T02:32:07.462Z"
   },
   {
    "duration": 30,
    "start_time": "2023-08-23T02:32:07.473Z"
   },
   {
    "duration": 14,
    "start_time": "2023-08-23T02:32:07.505Z"
   },
   {
    "duration": 647,
    "start_time": "2023-08-23T02:32:07.521Z"
   },
   {
    "duration": 595,
    "start_time": "2023-08-23T02:32:08.170Z"
   },
   {
    "duration": 322,
    "start_time": "2023-08-23T02:32:08.768Z"
   },
   {
    "duration": 20,
    "start_time": "2023-08-23T02:32:09.091Z"
   },
   {
    "duration": 377,
    "start_time": "2023-08-23T02:32:09.113Z"
   },
   {
    "duration": 21,
    "start_time": "2023-08-23T02:32:09.492Z"
   },
   {
    "duration": 121,
    "start_time": "2023-08-23T02:32:09.515Z"
   },
   {
    "duration": 481,
    "start_time": "2023-08-23T02:32:09.637Z"
   },
   {
    "duration": 17,
    "start_time": "2023-08-23T02:32:10.120Z"
   },
   {
    "duration": 216,
    "start_time": "2023-08-23T02:32:10.138Z"
   },
   {
    "duration": 54,
    "start_time": "2023-08-23T02:32:10.356Z"
   },
   {
    "duration": 3617,
    "start_time": "2023-08-23T02:32:10.412Z"
   },
   {
    "duration": 23,
    "start_time": "2023-08-23T02:32:14.031Z"
   },
   {
    "duration": 4,
    "start_time": "2023-08-23T02:32:14.055Z"
   },
   {
    "duration": 34,
    "start_time": "2023-08-23T02:32:14.061Z"
   },
   {
    "duration": 7,
    "start_time": "2023-08-23T02:32:14.097Z"
   },
   {
    "duration": 44,
    "start_time": "2023-08-23T02:32:14.106Z"
   },
   {
    "duration": 1953,
    "start_time": "2023-08-23T02:32:14.152Z"
   },
   {
    "duration": 1289,
    "start_time": "2023-08-23T02:32:16.107Z"
   },
   {
    "duration": 3,
    "start_time": "2023-08-23T02:32:17.398Z"
   },
   {
    "duration": 39,
    "start_time": "2023-08-23T02:32:17.405Z"
   },
   {
    "duration": 9,
    "start_time": "2023-08-23T02:32:17.445Z"
   },
   {
    "duration": 10,
    "start_time": "2023-08-23T02:32:17.456Z"
   },
   {
    "duration": 5,
    "start_time": "2023-08-23T02:32:17.468Z"
   },
   {
    "duration": 174335,
    "start_time": "2023-08-23T02:32:17.475Z"
   },
   {
    "duration": 3,
    "start_time": "2023-08-23T02:35:11.812Z"
   },
   {
    "duration": 7,
    "start_time": "2023-08-23T02:35:11.817Z"
   },
   {
    "duration": 998456,
    "start_time": "2023-08-23T02:35:11.825Z"
   },
   {
    "duration": 3,
    "start_time": "2023-08-23T02:51:50.283Z"
   },
   {
    "duration": 82,
    "start_time": "2023-08-23T02:51:50.288Z"
   },
   {
    "duration": 260150,
    "start_time": "2023-08-23T02:51:50.372Z"
   },
   {
    "duration": 4,
    "start_time": "2023-08-23T02:56:10.524Z"
   },
   {
    "duration": 135,
    "start_time": "2023-08-23T02:56:10.547Z"
   },
   {
    "duration": 2026,
    "start_time": "2023-08-23T02:56:10.684Z"
   },
   {
    "duration": 8,
    "start_time": "2023-08-23T02:56:12.712Z"
   },
   {
    "duration": 4,
    "start_time": "2023-08-23T02:58:31.524Z"
   },
   {
    "duration": 20,
    "start_time": "2023-08-23T02:59:13.452Z"
   },
   {
    "duration": 285,
    "start_time": "2023-08-23T03:00:01.830Z"
   },
   {
    "duration": 248,
    "start_time": "2023-08-23T03:00:09.781Z"
   },
   {
    "duration": 246,
    "start_time": "2023-08-23T03:01:33.980Z"
   },
   {
    "duration": 417,
    "start_time": "2023-08-23T03:01:42.777Z"
   },
   {
    "duration": 269,
    "start_time": "2023-08-23T03:04:49.439Z"
   },
   {
    "duration": 428,
    "start_time": "2023-08-23T03:26:43.895Z"
   },
   {
    "duration": 262,
    "start_time": "2023-08-23T03:28:56.806Z"
   },
   {
    "duration": 242,
    "start_time": "2023-08-23T03:29:06.189Z"
   },
   {
    "duration": 271,
    "start_time": "2023-08-23T03:29:36.656Z"
   },
   {
    "duration": 272,
    "start_time": "2023-08-23T03:31:00.552Z"
   },
   {
    "duration": 290,
    "start_time": "2023-08-23T03:31:29.211Z"
   },
   {
    "duration": 285,
    "start_time": "2023-08-23T03:32:04.019Z"
   }
  ],
  "kernelspec": {
   "display_name": "Python 3",
   "language": "python",
   "name": "python3"
  },
  "language_info": {
   "codemirror_mode": {
    "name": "ipython",
    "version": 3
   },
   "file_extension": ".py",
   "mimetype": "text/x-python",
   "name": "python",
   "nbconvert_exporter": "python",
   "pygments_lexer": "ipython3",
   "version": "3.8.5"
  },
  "toc": {
   "base_numbering": 1,
   "nav_menu": {},
   "number_sections": true,
   "sideBar": true,
   "skip_h1_title": true,
   "title_cell": "Table of Contents",
   "title_sidebar": "Contents",
   "toc_cell": false,
   "toc_position": {},
   "toc_section_display": true,
   "toc_window_display": true
  }
 },
 "nbformat": 4,
 "nbformat_minor": 2
}
