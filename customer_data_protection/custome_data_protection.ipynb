{
 "cells": [
  {
   "cell_type": "markdown",
   "metadata": {
    "toc": true
   },
   "source": [
    "<h1>Содержание<span class=\"tocSkip\"></span></h1>\n",
    "<div class=\"toc\"><ul class=\"toc-item\"><li><span><a href=\"#Загрузка-данных\" data-toc-modified-id=\"Загрузка-данных-1\"><span class=\"toc-item-num\">1&nbsp;&nbsp;</span>Загрузка данных</a></span></li><li><span><a href=\"#Умножение-матриц\" data-toc-modified-id=\"Умножение-матриц-2\"><span class=\"toc-item-num\">2&nbsp;&nbsp;</span>Умножение матриц</a></span></li><li><span><a href=\"#Алгоритм-преобразования\" data-toc-modified-id=\"Алгоритм-преобразования-3\"><span class=\"toc-item-num\">3&nbsp;&nbsp;</span>Алгоритм преобразования</a></span></li><li><span><a href=\"#Проверка-алгоритма\" data-toc-modified-id=\"Проверка-алгоритма-4\"><span class=\"toc-item-num\">4&nbsp;&nbsp;</span>Проверка алгоритма</a></span><ul class=\"toc-item\"><li><span><a href=\"#Разбиваем-исходные-данные-на-признаки-и-целевой-признак\" data-toc-modified-id=\"Разбиваем-исходные-данные-на-признаки-и-целевой-признак-4.1\"><span class=\"toc-item-num\">4.1&nbsp;&nbsp;</span>Разбиваем исходные данные на признаки и целевой признак</a></span></li><li><span><a href=\"#Считаем-результат-r2-метрики-на-исходных-данных\" data-toc-modified-id=\"Считаем-результат-r2-метрики-на-исходных-данных-4.2\"><span class=\"toc-item-num\">4.2&nbsp;&nbsp;</span>Считаем результат r2-метрики на исходных данных</a></span></li><li><span><a href=\"#Создаём-матрицу-кодирования-$P$-размером-x-на-x,-где-x---количество-столбцов-в-матрице-признаков\" data-toc-modified-id=\"Создаём-матрицу-кодирования-$P$-размером-x-на-x,-где-x---количество-столбцов-в-матрице-признаков-4.3\"><span class=\"toc-item-num\">4.3&nbsp;&nbsp;</span>Создаём матрицу кодирования $P$ размером x на x, где x - количество столбцов в матрице признаков</a></span></li><li><span><a href=\"#Проверяем-сгенерированную-матрицу-на-обратимость\" data-toc-modified-id=\"Проверяем-сгенерированную-матрицу-на-обратимость-4.4\"><span class=\"toc-item-num\">4.4&nbsp;&nbsp;</span>Проверяем сгенерированную матрицу на обратимость</a></span></li><li><span><a href=\"#Умножаем-матрицу-исходных-данных-на-матрицу-кодирования\" data-toc-modified-id=\"Умножаем-матрицу-исходных-данных-на-матрицу-кодирования-4.5\"><span class=\"toc-item-num\">4.5&nbsp;&nbsp;</span>Умножаем матрицу исходных данных на матрицу кодирования</a></span></li><li><span><a href=\"#Проверяем-результат-r2-метрики\" data-toc-modified-id=\"Проверяем-результат-r2-метрики-4.6\"><span class=\"toc-item-num\">4.6&nbsp;&nbsp;</span>Проверяем результат r2-метрики</a></span></li></ul></li><li><span><a href=\"#Общий-вывод\" data-toc-modified-id=\"Общий-вывод-5\"><span class=\"toc-item-num\">5&nbsp;&nbsp;</span>Общий вывод</a></span></li></ul></div>"
   ]
  },
  {
   "cell_type": "markdown",
   "metadata": {},
   "source": [
    "# Защита персональных данных клиентов"
   ]
  },
  {
   "cell_type": "markdown",
   "metadata": {},
   "source": [
    "В нашем распоряжении данные клиентов страховой компании «Хоть потоп», которые нам необходимо защитить. Разработаем такой метод преобразования данных, чтобы по ним было сложно восстановить персональную информацию и объясним корректность его работы.\n",
    "\n",
    "Нужно защитить данные, чтобы при преобразовании качество моделей машинного обучения не ухудшилось. Подбирать наилучшую модель не требуется."
   ]
  },
  {
   "cell_type": "markdown",
   "metadata": {},
   "source": [
    "## Загрузка данных"
   ]
  },
  {
   "cell_type": "markdown",
   "metadata": {},
   "source": [
    "Импортируем библиотеки"
   ]
  },
  {
   "cell_type": "code",
   "execution_count": 1,
   "metadata": {},
   "outputs": [],
   "source": [
    "import pandas as pd\n",
    "import numpy as np\n",
    "from sklearn.linear_model import LinearRegression\n",
    "from sklearn.metrics import r2_score"
   ]
  },
  {
   "cell_type": "markdown",
   "metadata": {},
   "source": [
    "Загружаем данные в переменную"
   ]
  },
  {
   "cell_type": "code",
   "execution_count": 2,
   "metadata": {},
   "outputs": [],
   "source": [
    "try:\n",
    "    data = pd.read_csv('/datasets/insurance.csv')\n",
    "except:\n",
    "    data = pd.reaf_csv('D:\\\\insurance.csv')"
   ]
  },
  {
   "cell_type": "markdown",
   "metadata": {},
   "source": [
    "Изучаем данные"
   ]
  },
  {
   "cell_type": "code",
   "execution_count": 3,
   "metadata": {},
   "outputs": [
    {
     "name": "stdout",
     "output_type": "stream",
     "text": [
      "<class 'pandas.core.frame.DataFrame'>\n",
      "RangeIndex: 5000 entries, 0 to 4999\n",
      "Data columns (total 5 columns):\n",
      " #   Column             Non-Null Count  Dtype  \n",
      "---  ------             --------------  -----  \n",
      " 0   Пол                5000 non-null   int64  \n",
      " 1   Возраст            5000 non-null   float64\n",
      " 2   Зарплата           5000 non-null   float64\n",
      " 3   Члены семьи        5000 non-null   int64  \n",
      " 4   Страховые выплаты  5000 non-null   int64  \n",
      "dtypes: float64(2), int64(3)\n",
      "memory usage: 195.4 KB\n"
     ]
    },
    {
     "data": {
      "text/html": [
       "<div>\n",
       "<style scoped>\n",
       "    .dataframe tbody tr th:only-of-type {\n",
       "        vertical-align: middle;\n",
       "    }\n",
       "\n",
       "    .dataframe tbody tr th {\n",
       "        vertical-align: top;\n",
       "    }\n",
       "\n",
       "    .dataframe thead th {\n",
       "        text-align: right;\n",
       "    }\n",
       "</style>\n",
       "<table border=\"1\" class=\"dataframe\">\n",
       "  <thead>\n",
       "    <tr style=\"text-align: right;\">\n",
       "      <th></th>\n",
       "      <th>Пол</th>\n",
       "      <th>Возраст</th>\n",
       "      <th>Зарплата</th>\n",
       "      <th>Члены семьи</th>\n",
       "      <th>Страховые выплаты</th>\n",
       "    </tr>\n",
       "  </thead>\n",
       "  <tbody>\n",
       "    <tr>\n",
       "      <th>0</th>\n",
       "      <td>1</td>\n",
       "      <td>41.0</td>\n",
       "      <td>49600.0</td>\n",
       "      <td>1</td>\n",
       "      <td>0</td>\n",
       "    </tr>\n",
       "    <tr>\n",
       "      <th>1</th>\n",
       "      <td>0</td>\n",
       "      <td>46.0</td>\n",
       "      <td>38000.0</td>\n",
       "      <td>1</td>\n",
       "      <td>1</td>\n",
       "    </tr>\n",
       "    <tr>\n",
       "      <th>2</th>\n",
       "      <td>0</td>\n",
       "      <td>29.0</td>\n",
       "      <td>21000.0</td>\n",
       "      <td>0</td>\n",
       "      <td>0</td>\n",
       "    </tr>\n",
       "    <tr>\n",
       "      <th>3</th>\n",
       "      <td>0</td>\n",
       "      <td>21.0</td>\n",
       "      <td>41700.0</td>\n",
       "      <td>2</td>\n",
       "      <td>0</td>\n",
       "    </tr>\n",
       "    <tr>\n",
       "      <th>4</th>\n",
       "      <td>1</td>\n",
       "      <td>28.0</td>\n",
       "      <td>26100.0</td>\n",
       "      <td>0</td>\n",
       "      <td>0</td>\n",
       "    </tr>\n",
       "    <tr>\n",
       "      <th>5</th>\n",
       "      <td>1</td>\n",
       "      <td>43.0</td>\n",
       "      <td>41000.0</td>\n",
       "      <td>2</td>\n",
       "      <td>1</td>\n",
       "    </tr>\n",
       "    <tr>\n",
       "      <th>6</th>\n",
       "      <td>1</td>\n",
       "      <td>39.0</td>\n",
       "      <td>39700.0</td>\n",
       "      <td>2</td>\n",
       "      <td>0</td>\n",
       "    </tr>\n",
       "    <tr>\n",
       "      <th>7</th>\n",
       "      <td>1</td>\n",
       "      <td>25.0</td>\n",
       "      <td>38600.0</td>\n",
       "      <td>4</td>\n",
       "      <td>0</td>\n",
       "    </tr>\n",
       "    <tr>\n",
       "      <th>8</th>\n",
       "      <td>1</td>\n",
       "      <td>36.0</td>\n",
       "      <td>49700.0</td>\n",
       "      <td>1</td>\n",
       "      <td>0</td>\n",
       "    </tr>\n",
       "    <tr>\n",
       "      <th>9</th>\n",
       "      <td>1</td>\n",
       "      <td>32.0</td>\n",
       "      <td>51700.0</td>\n",
       "      <td>1</td>\n",
       "      <td>0</td>\n",
       "    </tr>\n",
       "    <tr>\n",
       "      <th>10</th>\n",
       "      <td>1</td>\n",
       "      <td>25.0</td>\n",
       "      <td>36600.0</td>\n",
       "      <td>1</td>\n",
       "      <td>0</td>\n",
       "    </tr>\n",
       "    <tr>\n",
       "      <th>11</th>\n",
       "      <td>1</td>\n",
       "      <td>38.0</td>\n",
       "      <td>29300.0</td>\n",
       "      <td>0</td>\n",
       "      <td>0</td>\n",
       "    </tr>\n",
       "    <tr>\n",
       "      <th>12</th>\n",
       "      <td>0</td>\n",
       "      <td>23.0</td>\n",
       "      <td>39500.0</td>\n",
       "      <td>3</td>\n",
       "      <td>0</td>\n",
       "    </tr>\n",
       "    <tr>\n",
       "      <th>13</th>\n",
       "      <td>0</td>\n",
       "      <td>21.0</td>\n",
       "      <td>55000.0</td>\n",
       "      <td>0</td>\n",
       "      <td>0</td>\n",
       "    </tr>\n",
       "    <tr>\n",
       "      <th>14</th>\n",
       "      <td>0</td>\n",
       "      <td>40.0</td>\n",
       "      <td>43700.0</td>\n",
       "      <td>1</td>\n",
       "      <td>0</td>\n",
       "    </tr>\n",
       "    <tr>\n",
       "      <th>15</th>\n",
       "      <td>1</td>\n",
       "      <td>34.0</td>\n",
       "      <td>23300.0</td>\n",
       "      <td>0</td>\n",
       "      <td>0</td>\n",
       "    </tr>\n",
       "    <tr>\n",
       "      <th>16</th>\n",
       "      <td>1</td>\n",
       "      <td>26.0</td>\n",
       "      <td>48900.0</td>\n",
       "      <td>2</td>\n",
       "      <td>0</td>\n",
       "    </tr>\n",
       "    <tr>\n",
       "      <th>17</th>\n",
       "      <td>1</td>\n",
       "      <td>41.0</td>\n",
       "      <td>33200.0</td>\n",
       "      <td>2</td>\n",
       "      <td>0</td>\n",
       "    </tr>\n",
       "    <tr>\n",
       "      <th>18</th>\n",
       "      <td>1</td>\n",
       "      <td>42.0</td>\n",
       "      <td>49700.0</td>\n",
       "      <td>0</td>\n",
       "      <td>1</td>\n",
       "    </tr>\n",
       "    <tr>\n",
       "      <th>19</th>\n",
       "      <td>1</td>\n",
       "      <td>27.0</td>\n",
       "      <td>36900.0</td>\n",
       "      <td>0</td>\n",
       "      <td>0</td>\n",
       "    </tr>\n",
       "  </tbody>\n",
       "</table>\n",
       "</div>"
      ],
      "text/plain": [
       "    Пол  Возраст  Зарплата  Члены семьи  Страховые выплаты\n",
       "0     1     41.0   49600.0            1                  0\n",
       "1     0     46.0   38000.0            1                  1\n",
       "2     0     29.0   21000.0            0                  0\n",
       "3     0     21.0   41700.0            2                  0\n",
       "4     1     28.0   26100.0            0                  0\n",
       "5     1     43.0   41000.0            2                  1\n",
       "6     1     39.0   39700.0            2                  0\n",
       "7     1     25.0   38600.0            4                  0\n",
       "8     1     36.0   49700.0            1                  0\n",
       "9     1     32.0   51700.0            1                  0\n",
       "10    1     25.0   36600.0            1                  0\n",
       "11    1     38.0   29300.0            0                  0\n",
       "12    0     23.0   39500.0            3                  0\n",
       "13    0     21.0   55000.0            0                  0\n",
       "14    0     40.0   43700.0            1                  0\n",
       "15    1     34.0   23300.0            0                  0\n",
       "16    1     26.0   48900.0            2                  0\n",
       "17    1     41.0   33200.0            2                  0\n",
       "18    1     42.0   49700.0            0                  1\n",
       "19    1     27.0   36900.0            0                  0"
      ]
     },
     "execution_count": 3,
     "metadata": {},
     "output_type": "execute_result"
    },
    {
     "data": {
      "image/png": "[encoded data removed]",
      "text/plain": [
       "<Figure size 864x648 with 6 Axes>"
      ]
     },
     "metadata": {
      "needs_background": "light"
     },
     "output_type": "display_data"
    }
   ],
   "source": [
    "data.info()\n",
    "data.hist(figsize=(12,9));\n",
    "data.head(20)"
   ]
  },
  {
   "cell_type": "markdown",
   "metadata": {},
   "source": [
    "Пропусков в данных нет, все признкаки имеют числовой тип и не мешают обучению. Сами признаки имеют близкое к нормальному или адекватное распределение, признак пола взят равновесно. Приступим к решению задачи"
   ]
  },
  {
   "cell_type": "markdown",
   "metadata": {},
   "source": [
    "## Умножение матриц"
   ]
  },
  {
   "cell_type": "markdown",
   "metadata": {},
   "source": [
    "Изменится ли после умножения матрицы признаков на обратимую матрицу качество линейной регрессии?"
   ]
  },
  {
   "cell_type": "markdown",
   "metadata": {},
   "source": [
    "Обозначения:\n",
    "\n",
    "- $X$ — матрица признаков (нулевой столбец состоит из единиц)\n",
    "\n",
    "- $y$ — вектор целевого признака\n",
    "\n",
    "- $P$ — матрица, на которую умножаются признаки\n",
    "\n",
    "- $w$ — вектор весов линейной регрессии (нулевой элемент равен сдвигу)"
   ]
  },
  {
   "cell_type": "markdown",
   "metadata": {},
   "source": [
    "Предсказания:\n",
    "\n",
    "$$\n",
    "a = Xw\n",
    "$$\n",
    "\n",
    "Задача обучения:\n",
    "\n",
    "$$\n",
    "w = \\arg\\min_w MSE(Xw, y)\n",
    "$$\n",
    "\n",
    "Формула обучения:\n",
    "\n",
    "$$\n",
    "w = (X^T X)^{-1} X^T y\n",
    "$$"
   ]
  },
  {
   "cell_type": "markdown",
   "metadata": {},
   "source": [
    "**Ответ:** после умножения матрицы признаков на обратимую матрицу качество линейной регрессии не изменится."
   ]
  },
  {
   "cell_type": "markdown",
   "metadata": {},
   "source": [
    "**Обоснование:** $P$ - обратимая матрица, длина ребра которой - $n$ из $X(m,n)$. Если формула обучения для матрицы признаков $X$ (где нулевой столбец состоит из единиц) - это $w(X) = (X^T X)^{-1} X^T y$, то формула обучения для матрицы признаков $X$ (где нулевой столбец состоит из единиц), умноженной на матрицу $P$ - это $w(XP) = ((XP)^T (XP))^{-1} (XP)^T y$. Нам необходимо доказать равенство $a(X) = Xw(X) = XPw(XP) = a(XP)$. Если у нас это получится - это означает, что качество предсказаний линейной регресии не изменится, а если не получится, то такого вывода мы сделать не сможем.\n",
    "\n",
    "Для решения нам необъодимо знать правила ассациативности $A (B C) = (A B) C$ и раскрытия скобок обратного и транспонированного произведения $(A B)^T = B^T A^T$, $(A B)^{-1} = B^{-1} A^{-1}$, то, что $A$ и $A^{-1}$ сокращаются, а так же то, что при умножении матриц мы не можем менять множители местами, т.к. в общем случае произведение матриц некоммутативно, то есть $A B ≠ B A$\n",
    "\n",
    "Для начала раскроем скобки в формуле весов $w(XP) = ((XP)^T (XP))^{-1} (XP)^T y$\n",
    "\n",
    "$((XP)^T (XP))^{-1}$ = $(P^T X^T (XP))^{-1}$ = $(P^T (X^T X) P)^{-1}$ = $P^{-1} (X^T X)^{-1} (P^T)^{-1}$\n",
    "\n",
    "$(XP)^T = P^T X^T$\n",
    "\n",
    "Подставим их в $w(XP)$:\n",
    "\n",
    "$((XP)^T (XP))^{-1} (XP)^T y = P^{-1} (X^T X)^{-1} (P^T)^{-1} P^T X^T y$\n",
    "\n",
    "В получившейся формуле третий и четвёртый множитель $(P^T)^{-1} P^T$ сокращаются, и у нас остаётся $P^{-1} (X^T X)^{-1} X^T y$. Если подставить эту формулу в формулу предсказания $a(XP) = X P w(X P)$, то у нас получится\n",
    "\n",
    "$a(X P) = X P P^{-1} (X^T X)^{-1} X^T y$\n",
    "\n",
    "Второй и третий множители сокращаются, и у нас остаётся\n",
    "\n",
    "$a(X P) = X (X^T X)^{-1} X^T y$\n",
    "\n",
    "Теперь подставим w(X) в формулу предсказаний $a(X) = Xw(X)$\n",
    "\n",
    "$a(X) = X (X^T X)^{-1} X^T y$\n",
    "\n",
    "Тождество $a(X) = Xw(X) = X (X^T X)^{-1} X^T y = XPw(XP) = a(XP)$ выполняется, значит после умножения матрицы признаков на обратимую матрицу качество линейной регрессии не изменится."
   ]
  },
  {
   "cell_type": "markdown",
   "metadata": {},
   "source": [
    "## Алгоритм преобразования"
   ]
  },
  {
   "cell_type": "markdown",
   "metadata": {},
   "source": [
    "**Алгоритм**\n",
    "\n",
    "1. разбиваем исходные данные на признаки и целевой признак\n",
    "2. считаем результат r2-метрики на исходных данных\n",
    "3. создаём матрицу кодирования размером x на x, где x - количество столбцов в матрице признаков\n",
    "4. проверяем сгенерированную матрицу на обратимость\n",
    "5. умножаем матрицу исходных данных на матрицу кодирования (чтобы строки первой умножались на столбцы второй)\n",
    "6. проверяем результат r2-метрики - он должен быть идентичен результату из пункта 1"
   ]
  },
  {
   "cell_type": "markdown",
   "metadata": {},
   "source": [
    "**Обоснование**\n",
    "\n",
    "В предыдущем пункте мы алгебраически доказали, что результат после преобразования будет равен результату до. Теперь нам нужно создать квадратную кодирующую матрицу $P$, она должна быть обратимой и её длина и ширина должны быть равны количеству столбцов в матрице признаков (в нашем случае их будет 4) и умножить матрицу признаков на матрицу кодирования - в результате произведения матриц $X(m, n) P(n, n)$ у нас получится новая матрица признаков - по размеру она будет равна своей предшественнице, но все значения в ней будут отличаться в одинаковое количество раз."
   ]
  },
  {
   "cell_type": "markdown",
   "metadata": {},
   "source": [
    "## Проверка алгоритма"
   ]
  },
  {
   "cell_type": "markdown",
   "metadata": {},
   "source": [
    "### Разбиваем исходные данные на признаки и целевой признак"
   ]
  },
  {
   "cell_type": "code",
   "execution_count": 4,
   "metadata": {},
   "outputs": [],
   "source": [
    "features = data.drop('Страховые выплаты', axis=1)\n",
    "target = data['Страховые выплаты']"
   ]
  },
  {
   "cell_type": "markdown",
   "metadata": {},
   "source": [
    "### Считаем результат r2-метрики на исходных данных"
   ]
  },
  {
   "cell_type": "code",
   "execution_count": 5,
   "metadata": {},
   "outputs": [
    {
     "data": {
      "text/plain": [
       "LinearRegression()"
      ]
     },
     "execution_count": 5,
     "metadata": {},
     "output_type": "execute_result"
    }
   ],
   "source": [
    "model = LinearRegression()\n",
    "model.fit(features, target)"
   ]
  },
  {
   "cell_type": "code",
   "execution_count": 6,
   "metadata": {},
   "outputs": [
    {
     "data": {
      "text/plain": [
       "0.4249455028666801"
      ]
     },
     "execution_count": 6,
     "metadata": {},
     "output_type": "execute_result"
    }
   ],
   "source": [
    "result_before = r2_score(target, model.predict(features))\n",
    "result_before"
   ]
  },
  {
   "cell_type": "markdown",
   "metadata": {},
   "source": [
    "### Создаём матрицу кодирования $P$ размером x на x, где x - количество столбцов в матрице признаков"
   ]
  },
  {
   "cell_type": "code",
   "execution_count": 7,
   "metadata": {},
   "outputs": [
    {
     "data": {
      "text/plain": [
       "array([[49, 18, 88, 54],\n",
       "       [ 5, 89,  9, 51],\n",
       "       [ 7, 51, 17, 76],\n",
       "       [34, 53, 85, 42]])"
      ]
     },
     "execution_count": 7,
     "metadata": {},
     "output_type": "execute_result"
    }
   ],
   "source": [
    "P = np.random.randint(100, size=(features.shape[1], features.shape[1]))\n",
    "P"
   ]
  },
  {
   "cell_type": "markdown",
   "metadata": {},
   "source": [
    "### Проверяем сгенерированную матрицу на обратимость"
   ]
  },
  {
   "cell_type": "markdown",
   "metadata": {},
   "source": [
    "Проверяем $P$ на обратимость"
   ]
  },
  {
   "cell_type": "code",
   "execution_count": 8,
   "metadata": {},
   "outputs": [
    {
     "data": {
      "text/plain": [
       "-4709224.000000007"
      ]
     },
     "execution_count": 8,
     "metadata": {},
     "output_type": "execute_result"
    }
   ],
   "source": [
    "np.linalg.det(P)"
   ]
  },
  {
   "cell_type": "markdown",
   "metadata": {},
   "source": [
    "Определитель не равен нулю, поэтому матрица обратима"
   ]
  },
  {
   "cell_type": "markdown",
   "metadata": {},
   "source": [
    "### Умножаем матрицу исходных данных на матрицу кодирования"
   ]
  },
  {
   "cell_type": "code",
   "execution_count": 9,
   "metadata": {},
   "outputs": [
    {
     "data": {
      "text/html": [
       "<div>\n",
       "<style scoped>\n",
       "    .dataframe tbody tr th:only-of-type {\n",
       "        vertical-align: middle;\n",
       "    }\n",
       "\n",
       "    .dataframe tbody tr th {\n",
       "        vertical-align: top;\n",
       "    }\n",
       "\n",
       "    .dataframe thead th {\n",
       "        text-align: right;\n",
       "    }\n",
       "</style>\n",
       "<table border=\"1\" class=\"dataframe\">\n",
       "  <thead>\n",
       "    <tr style=\"text-align: right;\">\n",
       "      <th></th>\n",
       "      <th>Пол</th>\n",
       "      <th>Возраст</th>\n",
       "      <th>Зарплата</th>\n",
       "      <th>Члены семьи</th>\n",
       "    </tr>\n",
       "  </thead>\n",
       "  <tbody>\n",
       "    <tr>\n",
       "      <th>0</th>\n",
       "      <td>347488.0</td>\n",
       "      <td>2533320.0</td>\n",
       "      <td>843742.0</td>\n",
       "      <td>3771787.0</td>\n",
       "    </tr>\n",
       "    <tr>\n",
       "      <th>1</th>\n",
       "      <td>266264.0</td>\n",
       "      <td>1942147.0</td>\n",
       "      <td>646499.0</td>\n",
       "      <td>2890388.0</td>\n",
       "    </tr>\n",
       "    <tr>\n",
       "      <th>2</th>\n",
       "      <td>147145.0</td>\n",
       "      <td>1073581.0</td>\n",
       "      <td>357261.0</td>\n",
       "      <td>1597479.0</td>\n",
       "    </tr>\n",
       "    <tr>\n",
       "      <th>3</th>\n",
       "      <td>292073.0</td>\n",
       "      <td>2128675.0</td>\n",
       "      <td>709259.0</td>\n",
       "      <td>3170355.0</td>\n",
       "    </tr>\n",
       "    <tr>\n",
       "      <th>4</th>\n",
       "      <td>182889.0</td>\n",
       "      <td>1333610.0</td>\n",
       "      <td>444040.0</td>\n",
       "      <td>1985082.0</td>\n",
       "    </tr>\n",
       "    <tr>\n",
       "      <th>...</th>\n",
       "      <td>...</td>\n",
       "      <td>...</td>\n",
       "      <td>...</td>\n",
       "      <td>...</td>\n",
       "    </tr>\n",
       "    <tr>\n",
       "      <th>4995</th>\n",
       "      <td>250108.0</td>\n",
       "      <td>1823298.0</td>\n",
       "      <td>607322.0</td>\n",
       "      <td>2714712.0</td>\n",
       "    </tr>\n",
       "    <tr>\n",
       "      <th>4996</th>\n",
       "      <td>367004.0</td>\n",
       "      <td>2675479.0</td>\n",
       "      <td>891191.0</td>\n",
       "      <td>3984176.0</td>\n",
       "    </tr>\n",
       "    <tr>\n",
       "      <th>4997</th>\n",
       "      <td>237468.0</td>\n",
       "      <td>1730786.0</td>\n",
       "      <td>576650.0</td>\n",
       "      <td>2577504.0</td>\n",
       "    </tr>\n",
       "    <tr>\n",
       "      <th>4998</th>\n",
       "      <td>229161.0</td>\n",
       "      <td>1669835.0</td>\n",
       "      <td>556441.0</td>\n",
       "      <td>2486502.0</td>\n",
       "    </tr>\n",
       "    <tr>\n",
       "      <th>4999</th>\n",
       "      <td>284423.0</td>\n",
       "      <td>2073163.0</td>\n",
       "      <td>690625.0</td>\n",
       "      <td>3087124.0</td>\n",
       "    </tr>\n",
       "  </tbody>\n",
       "</table>\n",
       "<p>5000 rows × 4 columns</p>\n",
       "</div>"
      ],
      "text/plain": [
       "           Пол    Возраст  Зарплата  Члены семьи\n",
       "0     347488.0  2533320.0  843742.0    3771787.0\n",
       "1     266264.0  1942147.0  646499.0    2890388.0\n",
       "2     147145.0  1073581.0  357261.0    1597479.0\n",
       "3     292073.0  2128675.0  709259.0    3170355.0\n",
       "4     182889.0  1333610.0  444040.0    1985082.0\n",
       "...        ...        ...       ...          ...\n",
       "4995  250108.0  1823298.0  607322.0    2714712.0\n",
       "4996  367004.0  2675479.0  891191.0    3984176.0\n",
       "4997  237468.0  1730786.0  576650.0    2577504.0\n",
       "4998  229161.0  1669835.0  556441.0    2486502.0\n",
       "4999  284423.0  2073163.0  690625.0    3087124.0\n",
       "\n",
       "[5000 rows x 4 columns]"
      ]
     },
     "execution_count": 9,
     "metadata": {},
     "output_type": "execute_result"
    }
   ],
   "source": [
    "features_new = pd.DataFrame(features.values @ P, columns=features.columns, index=features.index)\n",
    "features_new"
   ]
  },
  {
   "cell_type": "markdown",
   "metadata": {},
   "source": [
    "Теперь дешифруем наши данные, чтобы убедиться, что они не пострадали"
   ]
  },
  {
   "cell_type": "code",
   "execution_count": 10,
   "metadata": {},
   "outputs": [
    {
     "data": {
      "text/html": [
       "<div>\n",
       "<style scoped>\n",
       "    .dataframe tbody tr th:only-of-type {\n",
       "        vertical-align: middle;\n",
       "    }\n",
       "\n",
       "    .dataframe tbody tr th {\n",
       "        vertical-align: top;\n",
       "    }\n",
       "\n",
       "    .dataframe thead th {\n",
       "        text-align: right;\n",
       "    }\n",
       "</style>\n",
       "<table border=\"1\" class=\"dataframe\">\n",
       "  <thead>\n",
       "    <tr style=\"text-align: right;\">\n",
       "      <th></th>\n",
       "      <th>0</th>\n",
       "      <th>1</th>\n",
       "      <th>2</th>\n",
       "      <th>3</th>\n",
       "    </tr>\n",
       "  </thead>\n",
       "  <tbody>\n",
       "    <tr>\n",
       "      <th>0</th>\n",
       "      <td>1.0</td>\n",
       "      <td>41.0</td>\n",
       "      <td>49600.0</td>\n",
       "      <td>1.0</td>\n",
       "    </tr>\n",
       "    <tr>\n",
       "      <th>1</th>\n",
       "      <td>-0.0</td>\n",
       "      <td>46.0</td>\n",
       "      <td>38000.0</td>\n",
       "      <td>1.0</td>\n",
       "    </tr>\n",
       "    <tr>\n",
       "      <th>2</th>\n",
       "      <td>-0.0</td>\n",
       "      <td>29.0</td>\n",
       "      <td>21000.0</td>\n",
       "      <td>0.0</td>\n",
       "    </tr>\n",
       "    <tr>\n",
       "      <th>3</th>\n",
       "      <td>-0.0</td>\n",
       "      <td>21.0</td>\n",
       "      <td>41700.0</td>\n",
       "      <td>2.0</td>\n",
       "    </tr>\n",
       "    <tr>\n",
       "      <th>4</th>\n",
       "      <td>1.0</td>\n",
       "      <td>28.0</td>\n",
       "      <td>26100.0</td>\n",
       "      <td>0.0</td>\n",
       "    </tr>\n",
       "    <tr>\n",
       "      <th>...</th>\n",
       "      <td>...</td>\n",
       "      <td>...</td>\n",
       "      <td>...</td>\n",
       "      <td>...</td>\n",
       "    </tr>\n",
       "    <tr>\n",
       "      <th>4995</th>\n",
       "      <td>-0.0</td>\n",
       "      <td>28.0</td>\n",
       "      <td>35700.0</td>\n",
       "      <td>2.0</td>\n",
       "    </tr>\n",
       "    <tr>\n",
       "      <th>4996</th>\n",
       "      <td>-0.0</td>\n",
       "      <td>34.0</td>\n",
       "      <td>52400.0</td>\n",
       "      <td>1.0</td>\n",
       "    </tr>\n",
       "    <tr>\n",
       "      <th>4997</th>\n",
       "      <td>-0.0</td>\n",
       "      <td>20.0</td>\n",
       "      <td>33900.0</td>\n",
       "      <td>2.0</td>\n",
       "    </tr>\n",
       "    <tr>\n",
       "      <th>4998</th>\n",
       "      <td>1.0</td>\n",
       "      <td>22.0</td>\n",
       "      <td>32700.0</td>\n",
       "      <td>3.0</td>\n",
       "    </tr>\n",
       "    <tr>\n",
       "      <th>4999</th>\n",
       "      <td>1.0</td>\n",
       "      <td>28.0</td>\n",
       "      <td>40600.0</td>\n",
       "      <td>1.0</td>\n",
       "    </tr>\n",
       "  </tbody>\n",
       "</table>\n",
       "<p>5000 rows × 4 columns</p>\n",
       "</div>"
      ],
      "text/plain": [
       "        0     1        2    3\n",
       "0     1.0  41.0  49600.0  1.0\n",
       "1    -0.0  46.0  38000.0  1.0\n",
       "2    -0.0  29.0  21000.0  0.0\n",
       "3    -0.0  21.0  41700.0  2.0\n",
       "4     1.0  28.0  26100.0  0.0\n",
       "...   ...   ...      ...  ...\n",
       "4995 -0.0  28.0  35700.0  2.0\n",
       "4996 -0.0  34.0  52400.0  1.0\n",
       "4997 -0.0  20.0  33900.0  2.0\n",
       "4998  1.0  22.0  32700.0  3.0\n",
       "4999  1.0  28.0  40600.0  1.0\n",
       "\n",
       "[5000 rows x 4 columns]"
      ]
     },
     "execution_count": 10,
     "metadata": {},
     "output_type": "execute_result"
    }
   ],
   "source": [
    "(features_new @ np.linalg.inv(P)).round(0)"
   ]
  },
  {
   "cell_type": "markdown",
   "metadata": {},
   "source": [
    "### Проверяем результат r2-метрики"
   ]
  },
  {
   "cell_type": "code",
   "execution_count": 11,
   "metadata": {},
   "outputs": [
    {
     "data": {
      "text/plain": [
       "LinearRegression()"
      ]
     },
     "execution_count": 11,
     "metadata": {},
     "output_type": "execute_result"
    }
   ],
   "source": [
    "model.fit(features_new, target)"
   ]
  },
  {
   "cell_type": "code",
   "execution_count": 12,
   "metadata": {},
   "outputs": [
    {
     "name": "stdout",
     "output_type": "stream",
     "text": [
      "Результат до преобразования: 0.4249455028666801\n",
      "Результат после преобразования: 0.4249455028666781\n",
      "Разница результатов до и после : 1.9984014443252818e-15\n"
     ]
    }
   ],
   "source": [
    "result_after = r2_score(target, model.predict(features_new))\n",
    "print('Результат до преобразования:', result_before)\n",
    "print('Результат после преобразования:', result_after)\n",
    "print('Разница результатов до и после :', result_before-result_after)"
   ]
  },
  {
   "cell_type": "markdown",
   "metadata": {},
   "source": [
    "Разница между r2 метриками очень мала, значит алгоритм преобразования составлен верно."
   ]
  },
  {
   "cell_type": "markdown",
   "metadata": {},
   "source": [
    "## Общий вывод"
   ]
  },
  {
   "cell_type": "markdown",
   "metadata": {},
   "source": [
    "Мы доказали, что умножение матрицы признаков на обратимую матрицу не влияет на результат предсказания линейной регресии, а затем составили алгоритм преобразования, в котором умножили матрицу признаков на обратимую матрицу $P$, чтобы зашифровать данные. После этого мы проверили алгоритм на данных страховой компании и убедились, что результаты практически идентичны."
   ]
  }
 ],
 "metadata": {
  "ExecuteTimeLog": [
   {
    "duration": 149,
    "start_time": "2023-05-12T14:37:15.601Z"
   },
   {
    "duration": 463,
    "start_time": "2023-05-12T14:37:56.129Z"
   },
   {
    "duration": 129,
    "start_time": "2023-05-12T14:38:25.653Z"
   },
   {
    "duration": 1208,
    "start_time": "2023-05-12T14:38:48.557Z"
   },
   {
    "duration": 900,
    "start_time": "2023-05-12T14:39:11.920Z"
   },
   {
    "duration": 812,
    "start_time": "2023-05-12T14:39:22.229Z"
   },
   {
    "duration": 1268,
    "start_time": "2023-05-16T14:24:53.366Z"
   },
   {
    "duration": 76,
    "start_time": "2023-05-16T14:24:55.614Z"
   },
   {
    "duration": 969,
    "start_time": "2023-05-16T14:24:59.865Z"
   },
   {
    "duration": 4,
    "start_time": "2023-05-16T14:26:02.146Z"
   },
   {
    "duration": 9,
    "start_time": "2023-05-16T14:26:13.432Z"
   },
   {
    "duration": 156,
    "start_time": "2023-05-16T14:29:39.330Z"
   },
   {
    "duration": 4,
    "start_time": "2023-05-16T14:29:44.810Z"
   },
   {
    "duration": 35,
    "start_time": "2023-05-16T14:29:48.302Z"
   },
   {
    "duration": 27,
    "start_time": "2023-05-16T14:29:55.703Z"
   },
   {
    "duration": 37,
    "start_time": "2023-05-16T15:08:42.090Z"
   },
   {
    "duration": 756,
    "start_time": "2023-05-16T15:08:44.250Z"
   },
   {
    "duration": 4,
    "start_time": "2023-05-16T15:09:05.755Z"
   },
   {
    "duration": 10,
    "start_time": "2023-05-16T15:09:08.363Z"
   },
   {
    "duration": 23,
    "start_time": "2023-05-16T15:09:16.824Z"
   },
   {
    "duration": 10,
    "start_time": "2023-05-16T15:11:25.344Z"
   },
   {
    "duration": 10,
    "start_time": "2023-05-16T15:11:31.534Z"
   },
   {
    "duration": 53,
    "start_time": "2023-05-16T15:11:31.547Z"
   },
   {
    "duration": 675,
    "start_time": "2023-05-16T15:11:31.601Z"
   },
   {
    "duration": 3,
    "start_time": "2023-05-16T15:11:32.278Z"
   },
   {
    "duration": 24,
    "start_time": "2023-05-16T15:11:32.283Z"
   },
   {
    "duration": 55,
    "start_time": "2023-05-16T15:11:32.308Z"
   },
   {
    "duration": 186,
    "start_time": "2023-05-16T15:11:32.366Z"
   },
   {
    "duration": 10,
    "start_time": "2023-05-16T15:11:32.554Z"
   },
   {
    "duration": 9,
    "start_time": "2023-05-16T15:11:32.566Z"
   },
   {
    "duration": 8,
    "start_time": "2023-05-16T15:11:32.577Z"
   },
   {
    "duration": 10,
    "start_time": "2023-05-16T15:12:55.249Z"
   },
   {
    "duration": 7,
    "start_time": "2023-05-16T15:13:27.182Z"
   },
   {
    "duration": 9,
    "start_time": "2023-05-16T15:13:29.286Z"
   },
   {
    "duration": 7,
    "start_time": "2023-05-16T15:13:54.830Z"
   },
   {
    "duration": 11,
    "start_time": "2023-05-16T15:13:55.754Z"
   },
   {
    "duration": 8,
    "start_time": "2023-05-16T15:13:56.175Z"
   },
   {
    "duration": 4,
    "start_time": "2023-05-16T15:13:57.198Z"
   },
   {
    "duration": 12,
    "start_time": "2023-05-16T15:13:58.251Z"
   },
   {
    "duration": 17,
    "start_time": "2023-05-16T15:14:00.926Z"
   },
   {
    "duration": 10,
    "start_time": "2023-05-16T15:14:01.647Z"
   },
   {
    "duration": 7,
    "start_time": "2023-05-16T15:46:53.079Z"
   },
   {
    "duration": 12,
    "start_time": "2023-05-16T15:46:57.298Z"
   },
   {
    "duration": 7,
    "start_time": "2023-05-16T15:47:12.737Z"
   },
   {
    "duration": 123,
    "start_time": "2023-05-16T15:47:14.836Z"
   },
   {
    "duration": 22,
    "start_time": "2023-05-16T15:53:14.566Z"
   },
   {
    "duration": 12,
    "start_time": "2023-05-16T15:53:35.946Z"
   },
   {
    "duration": 7,
    "start_time": "2023-05-16T15:57:47.239Z"
   },
   {
    "duration": 8,
    "start_time": "2023-05-16T15:57:58.152Z"
   },
   {
    "duration": 8,
    "start_time": "2023-05-16T15:58:08.310Z"
   },
   {
    "duration": 4,
    "start_time": "2023-05-16T16:42:27.013Z"
   },
   {
    "duration": 5,
    "start_time": "2023-05-16T16:45:49.592Z"
   },
   {
    "duration": 9,
    "start_time": "2023-05-16T16:46:26.108Z"
   },
   {
    "duration": 5,
    "start_time": "2023-05-16T16:46:53.000Z"
   },
   {
    "duration": 9,
    "start_time": "2023-05-16T16:49:40.389Z"
   },
   {
    "duration": 392,
    "start_time": "2023-05-16T16:56:16.600Z"
   },
   {
    "duration": 101,
    "start_time": "2023-05-16T16:59:22.208Z"
   },
   {
    "duration": 5,
    "start_time": "2023-05-16T17:01:32.700Z"
   },
   {
    "duration": 13,
    "start_time": "2023-05-16T17:01:38.362Z"
   },
   {
    "duration": 7,
    "start_time": "2023-05-16T17:01:41.845Z"
   },
   {
    "duration": 101,
    "start_time": "2023-05-16T17:01:43.117Z"
   },
   {
    "duration": 4,
    "start_time": "2023-05-16T17:03:48.823Z"
   },
   {
    "duration": 6,
    "start_time": "2023-05-16T17:04:37.157Z"
   },
   {
    "duration": 9,
    "start_time": "2023-05-16T17:17:24.179Z"
   },
   {
    "duration": 17,
    "start_time": "2023-05-16T17:17:46.551Z"
   },
   {
    "duration": 16,
    "start_time": "2023-05-16T17:31:20.922Z"
   },
   {
    "duration": 95,
    "start_time": "2023-05-17T17:07:48.291Z"
   },
   {
    "duration": 44,
    "start_time": "2023-05-17T17:39:06.296Z"
   },
   {
    "duration": 9,
    "start_time": "2023-05-17T19:26:23.268Z"
   },
   {
    "duration": 1067,
    "start_time": "2023-05-17T19:26:28.796Z"
   },
   {
    "duration": 120,
    "start_time": "2023-05-17T19:26:29.865Z"
   },
   {
    "duration": 1093,
    "start_time": "2023-05-17T19:26:29.987Z"
   },
   {
    "duration": 5,
    "start_time": "2023-05-17T19:26:31.083Z"
   },
   {
    "duration": 37,
    "start_time": "2023-05-17T19:26:31.089Z"
   },
   {
    "duration": 62,
    "start_time": "2023-05-17T19:26:31.129Z"
   },
   {
    "duration": 13,
    "start_time": "2023-05-17T19:26:31.249Z"
   },
   {
    "duration": 93,
    "start_time": "2023-05-17T19:26:31.265Z"
   },
   {
    "duration": 119,
    "start_time": "2023-05-17T19:26:31.360Z"
   },
   {
    "duration": 0,
    "start_time": "2023-05-17T19:26:31.481Z"
   },
   {
    "duration": 0,
    "start_time": "2023-05-17T19:26:31.483Z"
   },
   {
    "duration": 5,
    "start_time": "2023-05-17T19:29:48.730Z"
   },
   {
    "duration": 87,
    "start_time": "2023-05-17T19:30:17.234Z"
   },
   {
    "duration": 21,
    "start_time": "2023-05-17T19:30:30.934Z"
   },
   {
    "duration": 1036,
    "start_time": "2023-05-17T19:46:01.390Z"
   },
   {
    "duration": 30,
    "start_time": "2023-05-17T19:46:02.428Z"
   },
   {
    "duration": 914,
    "start_time": "2023-05-17T19:46:02.459Z"
   },
   {
    "duration": 4,
    "start_time": "2023-05-17T19:46:03.375Z"
   },
   {
    "duration": 11,
    "start_time": "2023-05-17T19:46:03.381Z"
   },
   {
    "duration": 70,
    "start_time": "2023-05-17T19:46:03.394Z"
   },
   {
    "duration": 84,
    "start_time": "2023-05-17T19:46:03.466Z"
   },
   {
    "duration": 7,
    "start_time": "2023-05-17T19:46:03.552Z"
   },
   {
    "duration": 89,
    "start_time": "2023-05-17T19:46:03.562Z"
   },
   {
    "duration": 17,
    "start_time": "2023-05-17T19:46:03.653Z"
   },
   {
    "duration": 81,
    "start_time": "2023-05-17T19:46:03.672Z"
   },
   {
    "duration": 100,
    "start_time": "2023-05-17T19:46:03.758Z"
   },
   {
    "duration": 1893,
    "start_time": "2023-05-18T11:41:53.371Z"
   },
   {
    "duration": 43,
    "start_time": "2023-05-18T11:41:55.267Z"
   },
   {
    "duration": 1048,
    "start_time": "2023-05-18T11:41:55.313Z"
   },
   {
    "duration": 4,
    "start_time": "2023-05-18T11:41:56.363Z"
   },
   {
    "duration": 24,
    "start_time": "2023-05-18T11:41:56.388Z"
   },
   {
    "duration": 10,
    "start_time": "2023-05-18T11:41:56.415Z"
   },
   {
    "duration": 66,
    "start_time": "2023-05-18T11:41:56.427Z"
   },
   {
    "duration": 16,
    "start_time": "2023-05-18T11:41:56.495Z"
   },
   {
    "duration": 84,
    "start_time": "2023-05-18T11:41:56.512Z"
   },
   {
    "duration": 29,
    "start_time": "2023-05-18T11:41:56.598Z"
   },
   {
    "duration": 11,
    "start_time": "2023-05-18T11:41:56.689Z"
   },
   {
    "duration": 102,
    "start_time": "2023-05-18T11:41:56.702Z"
   },
   {
    "duration": 2348,
    "start_time": "2023-05-18T14:14:42.363Z"
   },
   {
    "duration": 114,
    "start_time": "2023-05-18T14:14:44.714Z"
   },
   {
    "duration": 1906,
    "start_time": "2023-05-18T14:14:44.831Z"
   },
   {
    "duration": 6,
    "start_time": "2023-05-18T14:14:46.740Z"
   },
   {
    "duration": 13,
    "start_time": "2023-05-18T14:14:46.751Z"
   },
   {
    "duration": 198,
    "start_time": "2023-05-18T14:14:46.789Z"
   },
   {
    "duration": 6,
    "start_time": "2023-05-18T14:14:46.990Z"
   },
   {
    "duration": 11,
    "start_time": "2023-05-18T14:14:46.998Z"
   },
   {
    "duration": 81,
    "start_time": "2023-05-18T14:14:47.011Z"
   },
   {
    "duration": 98,
    "start_time": "2023-05-18T14:14:47.095Z"
   },
   {
    "duration": 94,
    "start_time": "2023-05-18T14:14:47.196Z"
   },
   {
    "duration": 12,
    "start_time": "2023-05-18T14:14:47.293Z"
   },
   {
    "duration": 87,
    "start_time": "2023-05-18T14:14:47.308Z"
   },
   {
    "duration": 240,
    "start_time": "2023-05-18T14:15:09.259Z"
   },
   {
    "duration": 22,
    "start_time": "2023-05-18T14:15:22.013Z"
   },
   {
    "duration": 25,
    "start_time": "2023-05-18T14:17:26.663Z"
   },
   {
    "duration": 19,
    "start_time": "2023-05-18T14:17:36.596Z"
   },
   {
    "duration": 23,
    "start_time": "2023-05-18T14:17:49.779Z"
   },
   {
    "duration": 20,
    "start_time": "2023-05-18T14:18:08.155Z"
   },
   {
    "duration": 40,
    "start_time": "2023-05-18T14:18:20.225Z"
   },
   {
    "duration": 38,
    "start_time": "2023-05-18T14:18:43.160Z"
   },
   {
    "duration": 79,
    "start_time": "2023-05-18T14:18:53.011Z"
   },
   {
    "duration": 17,
    "start_time": "2023-05-18T14:19:10.021Z"
   },
   {
    "duration": 19,
    "start_time": "2023-05-18T14:19:24.877Z"
   },
   {
    "duration": 2964,
    "start_time": "2023-05-18T14:20:56.328Z"
   },
   {
    "duration": 57,
    "start_time": "2023-05-18T14:20:59.295Z"
   },
   {
    "duration": 1858,
    "start_time": "2023-05-18T14:20:59.355Z"
   },
   {
    "duration": 6,
    "start_time": "2023-05-18T14:21:01.216Z"
   },
   {
    "duration": 44,
    "start_time": "2023-05-18T14:21:01.225Z"
   },
   {
    "duration": 100,
    "start_time": "2023-05-18T14:21:01.272Z"
   },
   {
    "duration": 50,
    "start_time": "2023-05-18T14:21:01.384Z"
   },
   {
    "duration": 26,
    "start_time": "2023-05-18T14:21:01.437Z"
   },
   {
    "duration": 78,
    "start_time": "2023-05-18T14:21:01.467Z"
   },
   {
    "duration": 111,
    "start_time": "2023-05-18T14:21:01.553Z"
   },
   {
    "duration": 80,
    "start_time": "2023-05-18T14:21:01.668Z"
   },
   {
    "duration": 105,
    "start_time": "2023-05-18T14:21:01.762Z"
   },
   {
    "duration": 114,
    "start_time": "2023-05-18T14:21:24.502Z"
   },
   {
    "duration": 111,
    "start_time": "2023-05-18T14:21:35.380Z"
   },
   {
    "duration": 24,
    "start_time": "2023-05-18T14:21:54.978Z"
   },
   {
    "duration": 50,
    "start_time": "2023-05-18T14:22:02.477Z"
   },
   {
    "duration": 2472,
    "start_time": "2023-05-18T14:22:21.925Z"
   },
   {
    "duration": 38,
    "start_time": "2023-05-18T14:22:24.411Z"
   },
   {
    "duration": 1584,
    "start_time": "2023-05-18T14:22:24.458Z"
   },
   {
    "duration": 10,
    "start_time": "2023-05-18T14:22:26.045Z"
   },
   {
    "duration": 50,
    "start_time": "2023-05-18T14:22:26.061Z"
   },
   {
    "duration": 111,
    "start_time": "2023-05-18T14:22:26.113Z"
   },
   {
    "duration": 56,
    "start_time": "2023-05-18T14:22:26.236Z"
   },
   {
    "duration": 7,
    "start_time": "2023-05-18T14:22:26.295Z"
   },
   {
    "duration": 22,
    "start_time": "2023-05-18T14:22:26.305Z"
   },
   {
    "duration": 158,
    "start_time": "2023-05-18T14:22:26.333Z"
   },
   {
    "duration": 13,
    "start_time": "2023-05-18T14:22:26.494Z"
   },
   {
    "duration": 182,
    "start_time": "2023-05-18T14:22:26.510Z"
   }
  ],
  "kernelspec": {
   "display_name": "Python 3",
   "language": "python",
   "name": "python3"
  },
  "language_info": {
   "codemirror_mode": {
    "name": "ipython",
    "version": 3
   },
   "file_extension": ".py",
   "mimetype": "text/x-python",
   "name": "python",
   "nbconvert_exporter": "python",
   "pygments_lexer": "ipython3",
   "version": "3.8.5"
  },
  "toc": {
   "base_numbering": 1,
   "nav_menu": {},
   "number_sections": true,
   "sideBar": true,
   "skip_h1_title": true,
   "title_cell": "Содержание",
   "title_sidebar": "Contents",
   "toc_cell": true,
   "toc_position": {},
   "toc_section_display": true,
   "toc_window_display": true
  }
 },
 "nbformat": 4,
 "nbformat_minor": 2
}
