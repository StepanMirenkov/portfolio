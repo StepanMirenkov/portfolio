{
 "cells": [
  {
   "cell_type": "markdown",
   "metadata": {},
   "source": [
    "# Анализ данных продаж игр для составления кампании на 2017 год"
   ]
  },
  {
   "cell_type": "markdown",
   "metadata": {},
   "source": [
    "### Описание проекта"
   ]
  },
  {
   "cell_type": "markdown",
   "metadata": {},
   "source": [
    "Вы работаете в интернет-магазине «Стримчик», который продаёт по всему миру компьютерные игры. Из открытых источников доступны исторические данные о продажах игр, оценки пользователей и экспертов, жанры и платформы (например, Xbox или PlayStation). Вам нужно выявить определяющие успешность игры закономерности. Это позволит сделать ставку на потенциально популярный продукт и спланировать рекламные кампании.\n",
    "\n",
    "Перед вами данные до 2016 года. Представим, что сейчас декабрь 2016 г., и вы планируете кампанию на 2017-й. Нужно отработать принцип работы с данными. Неважно, прогнозируете ли вы продажи на 2017 год по данным 2016-го или же 2027-й — по данным 2026 года.\n",
    "\n",
    "В наборе данных попадается аббревиатура ESRB (Entertainment Software Rating Board) — это ассоциация, определяющая возрастной рейтинг компьютерных игр. ESRB оценивает игровой контент и присваивает ему подходящую возрастную категорию, например, «Для взрослых», «Для детей младшего возраста» или «Для подростков».\n",
    "\n",
    "--------------------------------------------------------------------------------------------------------------------------------\n",
    "\n",
    "В нашем распоряжении датасет с данными о продажах игр с 1980 по 2016 год, за 2016 год данные не полные.\n",
    "\n",
    "Далее мы приведём данные в нужный нам порядок и изучим их внимательнее, определим период, который является актуальным и поможет нам с составлением прогноза на 2017 год, определим, как оценки критиков ии пользователей влияют на продажи игр, рассмотрим распределение рынка по жанрам и определим самый прибыльный, составим топ-5 популярных жанров и приставок в Северной Америке, Европе и Японии, а так же проверим две гипотезы: о том, что средние пользовательские рейтинги платформ Xbox One и PC одинаковые, и о том, что средние пользовательские рейтинги жанров Action и Sports разные."
   ]
  },
  {
   "cell_type": "markdown",
   "metadata": {},
   "source": [
    "### Изучение данных"
   ]
  },
  {
   "cell_type": "markdown",
   "metadata": {},
   "source": [
    "#### Импортируем библиотеки"
   ]
  },
  {
   "cell_type": "code",
   "execution_count": 1,
   "metadata": {},
   "outputs": [
    {
     "name": "stdout",
     "output_type": "stream",
     "text": [
      "Collecting squarify\n",
      "  Downloading squarify-0.4.3-py3-none-any.whl (4.3 kB)\n",
      "Installing collected packages: squarify\n",
      "Successfully installed squarify-0.4.3\n"
     ]
    }
   ],
   "source": [
    "!pip install squarify\n",
    "import pandas as pd\n",
    "import numpy as np\n",
    "import matplotlib as mlp\n",
    "import matplotlib.pyplot as plt\n",
    "import seaborn as sns\n",
    "import squarify\n",
    "from scipy import stats as st"
   ]
  },
  {
   "cell_type": "markdown",
   "metadata": {},
   "source": [
    "#### Импортируем данные из файла в датафрейм"
   ]
  },
  {
   "cell_type": "code",
   "execution_count": 2,
   "metadata": {},
   "outputs": [],
   "source": [
    "try:\n",
    "    data = pd.read_csv('/datasets/games.csv')\n",
    "except:\n",
    "    data = pd.read_csv('D:\\\\games.csv')"
   ]
  },
  {
   "cell_type": "markdown",
   "metadata": {},
   "source": [
    "#### Изучаем общую информацию о полученном датафрейме"
   ]
  },
  {
   "cell_type": "code",
   "execution_count": 3,
   "metadata": {},
   "outputs": [
    {
     "name": "stdout",
     "output_type": "stream",
     "text": [
      "<class 'pandas.core.frame.DataFrame'>\n",
      "RangeIndex: 16715 entries, 0 to 16714\n",
      "Data columns (total 11 columns):\n",
      " #   Column           Non-Null Count  Dtype  \n",
      "---  ------           --------------  -----  \n",
      " 0   Name             16713 non-null  object \n",
      " 1   Platform         16715 non-null  object \n",
      " 2   Year_of_Release  16446 non-null  float64\n",
      " 3   Genre            16713 non-null  object \n",
      " 4   NA_sales         16715 non-null  float64\n",
      " 5   EU_sales         16715 non-null  float64\n",
      " 6   JP_sales         16715 non-null  float64\n",
      " 7   Other_sales      16715 non-null  float64\n",
      " 8   Critic_Score     8137 non-null   float64\n",
      " 9   User_Score       10014 non-null  object \n",
      " 10  Rating           9949 non-null   object \n",
      "dtypes: float64(6), object(5)\n",
      "memory usage: 1.4+ MB\n"
     ]
    },
    {
     "data": {
      "text/html": [
       "<div>\n",
       "<style scoped>\n",
       "    .dataframe tbody tr th:only-of-type {\n",
       "        vertical-align: middle;\n",
       "    }\n",
       "\n",
       "    .dataframe tbody tr th {\n",
       "        vertical-align: top;\n",
       "    }\n",
       "\n",
       "    .dataframe thead th {\n",
       "        text-align: right;\n",
       "    }\n",
       "</style>\n",
       "<table border=\"1\" class=\"dataframe\">\n",
       "  <thead>\n",
       "    <tr style=\"text-align: right;\">\n",
       "      <th></th>\n",
       "      <th>Name</th>\n",
       "      <th>Platform</th>\n",
       "      <th>Year_of_Release</th>\n",
       "      <th>Genre</th>\n",
       "      <th>NA_sales</th>\n",
       "      <th>EU_sales</th>\n",
       "      <th>JP_sales</th>\n",
       "      <th>Other_sales</th>\n",
       "      <th>Critic_Score</th>\n",
       "      <th>User_Score</th>\n",
       "      <th>Rating</th>\n",
       "    </tr>\n",
       "  </thead>\n",
       "  <tbody>\n",
       "    <tr>\n",
       "      <th>0</th>\n",
       "      <td>Wii Sports</td>\n",
       "      <td>Wii</td>\n",
       "      <td>2006.0</td>\n",
       "      <td>Sports</td>\n",
       "      <td>41.36</td>\n",
       "      <td>28.96</td>\n",
       "      <td>3.77</td>\n",
       "      <td>8.45</td>\n",
       "      <td>76.0</td>\n",
       "      <td>8</td>\n",
       "      <td>E</td>\n",
       "    </tr>\n",
       "    <tr>\n",
       "      <th>1</th>\n",
       "      <td>Super Mario Bros.</td>\n",
       "      <td>NES</td>\n",
       "      <td>1985.0</td>\n",
       "      <td>Platform</td>\n",
       "      <td>29.08</td>\n",
       "      <td>3.58</td>\n",
       "      <td>6.81</td>\n",
       "      <td>0.77</td>\n",
       "      <td>NaN</td>\n",
       "      <td>NaN</td>\n",
       "      <td>NaN</td>\n",
       "    </tr>\n",
       "    <tr>\n",
       "      <th>2</th>\n",
       "      <td>Mario Kart Wii</td>\n",
       "      <td>Wii</td>\n",
       "      <td>2008.0</td>\n",
       "      <td>Racing</td>\n",
       "      <td>15.68</td>\n",
       "      <td>12.76</td>\n",
       "      <td>3.79</td>\n",
       "      <td>3.29</td>\n",
       "      <td>82.0</td>\n",
       "      <td>8.3</td>\n",
       "      <td>E</td>\n",
       "    </tr>\n",
       "    <tr>\n",
       "      <th>3</th>\n",
       "      <td>Wii Sports Resort</td>\n",
       "      <td>Wii</td>\n",
       "      <td>2009.0</td>\n",
       "      <td>Sports</td>\n",
       "      <td>15.61</td>\n",
       "      <td>10.93</td>\n",
       "      <td>3.28</td>\n",
       "      <td>2.95</td>\n",
       "      <td>80.0</td>\n",
       "      <td>8</td>\n",
       "      <td>E</td>\n",
       "    </tr>\n",
       "    <tr>\n",
       "      <th>4</th>\n",
       "      <td>Pokemon Red/Pokemon Blue</td>\n",
       "      <td>GB</td>\n",
       "      <td>1996.0</td>\n",
       "      <td>Role-Playing</td>\n",
       "      <td>11.27</td>\n",
       "      <td>8.89</td>\n",
       "      <td>10.22</td>\n",
       "      <td>1.00</td>\n",
       "      <td>NaN</td>\n",
       "      <td>NaN</td>\n",
       "      <td>NaN</td>\n",
       "    </tr>\n",
       "    <tr>\n",
       "      <th>5</th>\n",
       "      <td>Tetris</td>\n",
       "      <td>GB</td>\n",
       "      <td>1989.0</td>\n",
       "      <td>Puzzle</td>\n",
       "      <td>23.20</td>\n",
       "      <td>2.26</td>\n",
       "      <td>4.22</td>\n",
       "      <td>0.58</td>\n",
       "      <td>NaN</td>\n",
       "      <td>NaN</td>\n",
       "      <td>NaN</td>\n",
       "    </tr>\n",
       "    <tr>\n",
       "      <th>6</th>\n",
       "      <td>New Super Mario Bros.</td>\n",
       "      <td>DS</td>\n",
       "      <td>2006.0</td>\n",
       "      <td>Platform</td>\n",
       "      <td>11.28</td>\n",
       "      <td>9.14</td>\n",
       "      <td>6.50</td>\n",
       "      <td>2.88</td>\n",
       "      <td>89.0</td>\n",
       "      <td>8.5</td>\n",
       "      <td>E</td>\n",
       "    </tr>\n",
       "    <tr>\n",
       "      <th>7</th>\n",
       "      <td>Wii Play</td>\n",
       "      <td>Wii</td>\n",
       "      <td>2006.0</td>\n",
       "      <td>Misc</td>\n",
       "      <td>13.96</td>\n",
       "      <td>9.18</td>\n",
       "      <td>2.93</td>\n",
       "      <td>2.84</td>\n",
       "      <td>58.0</td>\n",
       "      <td>6.6</td>\n",
       "      <td>E</td>\n",
       "    </tr>\n",
       "    <tr>\n",
       "      <th>8</th>\n",
       "      <td>New Super Mario Bros. Wii</td>\n",
       "      <td>Wii</td>\n",
       "      <td>2009.0</td>\n",
       "      <td>Platform</td>\n",
       "      <td>14.44</td>\n",
       "      <td>6.94</td>\n",
       "      <td>4.70</td>\n",
       "      <td>2.24</td>\n",
       "      <td>87.0</td>\n",
       "      <td>8.4</td>\n",
       "      <td>E</td>\n",
       "    </tr>\n",
       "    <tr>\n",
       "      <th>9</th>\n",
       "      <td>Duck Hunt</td>\n",
       "      <td>NES</td>\n",
       "      <td>1984.0</td>\n",
       "      <td>Shooter</td>\n",
       "      <td>26.93</td>\n",
       "      <td>0.63</td>\n",
       "      <td>0.28</td>\n",
       "      <td>0.47</td>\n",
       "      <td>NaN</td>\n",
       "      <td>NaN</td>\n",
       "      <td>NaN</td>\n",
       "    </tr>\n",
       "    <tr>\n",
       "      <th>10</th>\n",
       "      <td>Nintendogs</td>\n",
       "      <td>DS</td>\n",
       "      <td>2005.0</td>\n",
       "      <td>Simulation</td>\n",
       "      <td>9.05</td>\n",
       "      <td>10.95</td>\n",
       "      <td>1.93</td>\n",
       "      <td>2.74</td>\n",
       "      <td>NaN</td>\n",
       "      <td>NaN</td>\n",
       "      <td>NaN</td>\n",
       "    </tr>\n",
       "    <tr>\n",
       "      <th>11</th>\n",
       "      <td>Mario Kart DS</td>\n",
       "      <td>DS</td>\n",
       "      <td>2005.0</td>\n",
       "      <td>Racing</td>\n",
       "      <td>9.71</td>\n",
       "      <td>7.47</td>\n",
       "      <td>4.13</td>\n",
       "      <td>1.90</td>\n",
       "      <td>91.0</td>\n",
       "      <td>8.6</td>\n",
       "      <td>E</td>\n",
       "    </tr>\n",
       "    <tr>\n",
       "      <th>12</th>\n",
       "      <td>Pokemon Gold/Pokemon Silver</td>\n",
       "      <td>GB</td>\n",
       "      <td>1999.0</td>\n",
       "      <td>Role-Playing</td>\n",
       "      <td>9.00</td>\n",
       "      <td>6.18</td>\n",
       "      <td>7.20</td>\n",
       "      <td>0.71</td>\n",
       "      <td>NaN</td>\n",
       "      <td>NaN</td>\n",
       "      <td>NaN</td>\n",
       "    </tr>\n",
       "    <tr>\n",
       "      <th>13</th>\n",
       "      <td>Wii Fit</td>\n",
       "      <td>Wii</td>\n",
       "      <td>2007.0</td>\n",
       "      <td>Sports</td>\n",
       "      <td>8.92</td>\n",
       "      <td>8.03</td>\n",
       "      <td>3.60</td>\n",
       "      <td>2.15</td>\n",
       "      <td>80.0</td>\n",
       "      <td>7.7</td>\n",
       "      <td>E</td>\n",
       "    </tr>\n",
       "    <tr>\n",
       "      <th>14</th>\n",
       "      <td>Kinect Adventures!</td>\n",
       "      <td>X360</td>\n",
       "      <td>2010.0</td>\n",
       "      <td>Misc</td>\n",
       "      <td>15.00</td>\n",
       "      <td>4.89</td>\n",
       "      <td>0.24</td>\n",
       "      <td>1.69</td>\n",
       "      <td>61.0</td>\n",
       "      <td>6.3</td>\n",
       "      <td>E</td>\n",
       "    </tr>\n",
       "    <tr>\n",
       "      <th>15</th>\n",
       "      <td>Wii Fit Plus</td>\n",
       "      <td>Wii</td>\n",
       "      <td>2009.0</td>\n",
       "      <td>Sports</td>\n",
       "      <td>9.01</td>\n",
       "      <td>8.49</td>\n",
       "      <td>2.53</td>\n",
       "      <td>1.77</td>\n",
       "      <td>80.0</td>\n",
       "      <td>7.4</td>\n",
       "      <td>E</td>\n",
       "    </tr>\n",
       "    <tr>\n",
       "      <th>16</th>\n",
       "      <td>Grand Theft Auto V</td>\n",
       "      <td>PS3</td>\n",
       "      <td>2013.0</td>\n",
       "      <td>Action</td>\n",
       "      <td>7.02</td>\n",
       "      <td>9.09</td>\n",
       "      <td>0.98</td>\n",
       "      <td>3.96</td>\n",
       "      <td>97.0</td>\n",
       "      <td>8.2</td>\n",
       "      <td>M</td>\n",
       "    </tr>\n",
       "    <tr>\n",
       "      <th>17</th>\n",
       "      <td>Grand Theft Auto: San Andreas</td>\n",
       "      <td>PS2</td>\n",
       "      <td>2004.0</td>\n",
       "      <td>Action</td>\n",
       "      <td>9.43</td>\n",
       "      <td>0.40</td>\n",
       "      <td>0.41</td>\n",
       "      <td>10.57</td>\n",
       "      <td>95.0</td>\n",
       "      <td>9</td>\n",
       "      <td>M</td>\n",
       "    </tr>\n",
       "    <tr>\n",
       "      <th>18</th>\n",
       "      <td>Super Mario World</td>\n",
       "      <td>SNES</td>\n",
       "      <td>1990.0</td>\n",
       "      <td>Platform</td>\n",
       "      <td>12.78</td>\n",
       "      <td>3.75</td>\n",
       "      <td>3.54</td>\n",
       "      <td>0.55</td>\n",
       "      <td>NaN</td>\n",
       "      <td>NaN</td>\n",
       "      <td>NaN</td>\n",
       "    </tr>\n",
       "    <tr>\n",
       "      <th>19</th>\n",
       "      <td>Brain Age: Train Your Brain in Minutes a Day</td>\n",
       "      <td>DS</td>\n",
       "      <td>2005.0</td>\n",
       "      <td>Misc</td>\n",
       "      <td>4.74</td>\n",
       "      <td>9.20</td>\n",
       "      <td>4.16</td>\n",
       "      <td>2.04</td>\n",
       "      <td>77.0</td>\n",
       "      <td>7.9</td>\n",
       "      <td>E</td>\n",
       "    </tr>\n",
       "  </tbody>\n",
       "</table>\n",
       "</div>"
      ],
      "text/plain": [
       "                                            Name Platform  Year_of_Release  \\\n",
       "0                                     Wii Sports      Wii           2006.0   \n",
       "1                              Super Mario Bros.      NES           1985.0   \n",
       "2                                 Mario Kart Wii      Wii           2008.0   \n",
       "3                              Wii Sports Resort      Wii           2009.0   \n",
       "4                       Pokemon Red/Pokemon Blue       GB           1996.0   \n",
       "5                                         Tetris       GB           1989.0   \n",
       "6                          New Super Mario Bros.       DS           2006.0   \n",
       "7                                       Wii Play      Wii           2006.0   \n",
       "8                      New Super Mario Bros. Wii      Wii           2009.0   \n",
       "9                                      Duck Hunt      NES           1984.0   \n",
       "10                                    Nintendogs       DS           2005.0   \n",
       "11                                 Mario Kart DS       DS           2005.0   \n",
       "12                   Pokemon Gold/Pokemon Silver       GB           1999.0   \n",
       "13                                       Wii Fit      Wii           2007.0   \n",
       "14                            Kinect Adventures!     X360           2010.0   \n",
       "15                                  Wii Fit Plus      Wii           2009.0   \n",
       "16                            Grand Theft Auto V      PS3           2013.0   \n",
       "17                 Grand Theft Auto: San Andreas      PS2           2004.0   \n",
       "18                             Super Mario World     SNES           1990.0   \n",
       "19  Brain Age: Train Your Brain in Minutes a Day       DS           2005.0   \n",
       "\n",
       "           Genre  NA_sales  EU_sales  JP_sales  Other_sales  Critic_Score  \\\n",
       "0         Sports     41.36     28.96      3.77         8.45          76.0   \n",
       "1       Platform     29.08      3.58      6.81         0.77           NaN   \n",
       "2         Racing     15.68     12.76      3.79         3.29          82.0   \n",
       "3         Sports     15.61     10.93      3.28         2.95          80.0   \n",
       "4   Role-Playing     11.27      8.89     10.22         1.00           NaN   \n",
       "5         Puzzle     23.20      2.26      4.22         0.58           NaN   \n",
       "6       Platform     11.28      9.14      6.50         2.88          89.0   \n",
       "7           Misc     13.96      9.18      2.93         2.84          58.0   \n",
       "8       Platform     14.44      6.94      4.70         2.24          87.0   \n",
       "9        Shooter     26.93      0.63      0.28         0.47           NaN   \n",
       "10    Simulation      9.05     10.95      1.93         2.74           NaN   \n",
       "11        Racing      9.71      7.47      4.13         1.90          91.0   \n",
       "12  Role-Playing      9.00      6.18      7.20         0.71           NaN   \n",
       "13        Sports      8.92      8.03      3.60         2.15          80.0   \n",
       "14          Misc     15.00      4.89      0.24         1.69          61.0   \n",
       "15        Sports      9.01      8.49      2.53         1.77          80.0   \n",
       "16        Action      7.02      9.09      0.98         3.96          97.0   \n",
       "17        Action      9.43      0.40      0.41        10.57          95.0   \n",
       "18      Platform     12.78      3.75      3.54         0.55           NaN   \n",
       "19          Misc      4.74      9.20      4.16         2.04          77.0   \n",
       "\n",
       "   User_Score Rating  \n",
       "0           8      E  \n",
       "1         NaN    NaN  \n",
       "2         8.3      E  \n",
       "3           8      E  \n",
       "4         NaN    NaN  \n",
       "5         NaN    NaN  \n",
       "6         8.5      E  \n",
       "7         6.6      E  \n",
       "8         8.4      E  \n",
       "9         NaN    NaN  \n",
       "10        NaN    NaN  \n",
       "11        8.6      E  \n",
       "12        NaN    NaN  \n",
       "13        7.7      E  \n",
       "14        6.3      E  \n",
       "15        7.4      E  \n",
       "16        8.2      M  \n",
       "17          9      M  \n",
       "18        NaN    NaN  \n",
       "19        7.9      E  "
      ]
     },
     "execution_count": 3,
     "metadata": {},
     "output_type": "execute_result"
    }
   ],
   "source": [
    "data.info()\n",
    "data.head(20)"
   ]
  },
  {
   "cell_type": "markdown",
   "metadata": {},
   "source": [
    "Отмечаем, что в столбце year_of_release после всех чисел стоит '.0', но год не может принимать дробные значения, можем поменять тип данных ячейки на целочисленный."
   ]
  },
  {
   "cell_type": "markdown",
   "metadata": {},
   "source": [
    "#### Строим общую гистограмму для всех числовых столбцов таблицы"
   ]
  },
  {
   "cell_type": "code",
   "execution_count": 4,
   "metadata": {},
   "outputs": [
    {
     "data": {
      "image/png": "[encoded data removed]",
      "text/plain": [
       "<Figure size 648x864 with 6 Axes>"
      ]
     },
     "metadata": {
      "needs_background": "light"
     },
     "output_type": "display_data"
    }
   ],
   "source": [
    "data.hist(figsize=(9, 12));"
   ]
  },
  {
   "cell_type": "markdown",
   "metadata": {},
   "source": [
    "Отмечаем, что метод не вывел гистограмму для user_score, и действительно, если посмотреть в .info(), то столбец user_score имеет тип данных 'object', можем поменять на 'float'"
   ]
  },
  {
   "cell_type": "markdown",
   "metadata": {},
   "source": [
    "После первичного знакомства с данными мы обнаружили два столбца, в которых нужно поменять тип данных, а так же мы теперь понимаем, что оценки критиков имеют близкое к нормальному распределение с положительным скосом, больше всего игр было выпущено в десятые года, что может помочь нам при составлении прогноза, а так же мы понимаем, что Северная Америка - крупнейший рынок, за ней идёт Европа, а затем - Япония и остальной мир."
   ]
  },
  {
   "cell_type": "markdown",
   "metadata": {},
   "source": [
    "### Предобработка данных"
   ]
  },
  {
   "cell_type": "markdown",
   "metadata": {},
   "source": [
    "#### Приводим названия столбцов к нижнему регистру"
   ]
  },
  {
   "cell_type": "code",
   "execution_count": 5,
   "metadata": {},
   "outputs": [
    {
     "data": {
      "text/plain": [
       "Index(['name', 'platform', 'year_of_release', 'genre', 'na_sales', 'eu_sales',\n",
       "       'jp_sales', 'other_sales', 'critic_score', 'user_score', 'rating'],\n",
       "      dtype='object')"
      ]
     },
     "execution_count": 5,
     "metadata": {},
     "output_type": "execute_result"
    }
   ],
   "source": [
    "data.columns = data.columns.str.lower()\n",
    "data.columns"
   ]
  },
  {
   "cell_type": "markdown",
   "metadata": {},
   "source": [
    "#### Начинаем обработку пропусков"
   ]
  },
  {
   "cell_type": "markdown",
   "metadata": {},
   "source": [
    "Находим количество пропущенных значений в столбцах"
   ]
  },
  {
   "cell_type": "code",
   "execution_count": 6,
   "metadata": {},
   "outputs": [
    {
     "data": {
      "text/plain": [
       "name                  2\n",
       "platform              0\n",
       "year_of_release     269\n",
       "genre                 2\n",
       "na_sales              0\n",
       "eu_sales              0\n",
       "jp_sales              0\n",
       "other_sales           0\n",
       "critic_score       8578\n",
       "user_score         6701\n",
       "rating             6766\n",
       "dtype: int64"
      ]
     },
     "execution_count": 6,
     "metadata": {},
     "output_type": "execute_result"
    }
   ],
   "source": [
    "data.isna().sum()"
   ]
  },
  {
   "cell_type": "markdown",
   "metadata": {},
   "source": [
    "Главная цель нашего исследования - составление прогноза на 2017 год, поэтому игры без указания года выпуска мы можем отбросить, причина появления этих пропусков может быть технической. Посмотрим на игры без названия, раз их всего две, и решим, что делать с ними. Пропуски в столбцах с оценками возможно появились в результате отсутсвия игр на каком-либо сайте с рейтингом или одним общим рейтингом на все платформы, который был записан только на одну и утерян на остальных, не будем пытаться их заполнить. Пустые значения в столбце rating нужно будет как-то обозначить, чтобы не исказить результаты, а причина их появления может быть в том, что у них нет оценки в рейтинге ESRB (возможно они оценены как-то по-другому)."
   ]
  },
  {
   "cell_type": "code",
   "execution_count": 7,
   "metadata": {},
   "outputs": [
    {
     "data": {
      "text/html": [
       "<div>\n",
       "<style scoped>\n",
       "    .dataframe tbody tr th:only-of-type {\n",
       "        vertical-align: middle;\n",
       "    }\n",
       "\n",
       "    .dataframe tbody tr th {\n",
       "        vertical-align: top;\n",
       "    }\n",
       "\n",
       "    .dataframe thead th {\n",
       "        text-align: right;\n",
       "    }\n",
       "</style>\n",
       "<table border=\"1\" class=\"dataframe\">\n",
       "  <thead>\n",
       "    <tr style=\"text-align: right;\">\n",
       "      <th></th>\n",
       "      <th>name</th>\n",
       "      <th>platform</th>\n",
       "      <th>year_of_release</th>\n",
       "      <th>genre</th>\n",
       "      <th>na_sales</th>\n",
       "      <th>eu_sales</th>\n",
       "      <th>jp_sales</th>\n",
       "      <th>other_sales</th>\n",
       "      <th>critic_score</th>\n",
       "      <th>user_score</th>\n",
       "      <th>rating</th>\n",
       "    </tr>\n",
       "  </thead>\n",
       "  <tbody>\n",
       "    <tr>\n",
       "      <th>659</th>\n",
       "      <td>NaN</td>\n",
       "      <td>GEN</td>\n",
       "      <td>1993.0</td>\n",
       "      <td>NaN</td>\n",
       "      <td>1.78</td>\n",
       "      <td>0.53</td>\n",
       "      <td>0.00</td>\n",
       "      <td>0.08</td>\n",
       "      <td>NaN</td>\n",
       "      <td>NaN</td>\n",
       "      <td>NaN</td>\n",
       "    </tr>\n",
       "    <tr>\n",
       "      <th>14244</th>\n",
       "      <td>NaN</td>\n",
       "      <td>GEN</td>\n",
       "      <td>1993.0</td>\n",
       "      <td>NaN</td>\n",
       "      <td>0.00</td>\n",
       "      <td>0.00</td>\n",
       "      <td>0.03</td>\n",
       "      <td>0.00</td>\n",
       "      <td>NaN</td>\n",
       "      <td>NaN</td>\n",
       "      <td>NaN</td>\n",
       "    </tr>\n",
       "  </tbody>\n",
       "</table>\n",
       "</div>"
      ],
      "text/plain": [
       "      name platform  year_of_release genre  na_sales  eu_sales  jp_sales  \\\n",
       "659    NaN      GEN           1993.0   NaN      1.78      0.53      0.00   \n",
       "14244  NaN      GEN           1993.0   NaN      0.00      0.00      0.03   \n",
       "\n",
       "       other_sales  critic_score user_score rating  \n",
       "659           0.08           NaN        NaN    NaN  \n",
       "14244         0.00           NaN        NaN    NaN  "
      ]
     },
     "execution_count": 7,
     "metadata": {},
     "output_type": "execute_result"
    }
   ],
   "source": [
    "data.query('name != name')"
   ]
  },
  {
   "cell_type": "markdown",
   "metadata": {},
   "source": [
    "Данные бесполезны ¯\\_(ツ)_/¯\n",
    "\n",
    "Возможно это какой-то сбой или ошибка оцифровки\n",
    "\n",
    "Отбросим игры без названия и года выпуска"
   ]
  },
  {
   "cell_type": "code",
   "execution_count": 8,
   "metadata": {},
   "outputs": [],
   "source": [
    "data = data.dropna(subset=['name'])\n",
    "data = data.dropna(subset=['year_of_release'])"
   ]
  },
  {
   "cell_type": "markdown",
   "metadata": {},
   "source": [
    "#### Меняем тип данных в столбцах где это нужно"
   ]
  },
  {
   "cell_type": "markdown",
   "metadata": {},
   "source": [
    "Меняем тип данных в столбце year_of_release на целочисленный"
   ]
  },
  {
   "cell_type": "code",
   "execution_count": 9,
   "metadata": {},
   "outputs": [
    {
     "data": {
      "text/plain": [
       "array([2006, 1985, 2008, 2009, 1996, 1989, 1984, 2005, 1999, 2007, 2010,\n",
       "       2013, 2004, 1990, 1988, 2002, 2001, 2011, 1998, 2015, 2012, 2014,\n",
       "       1992, 1997, 1993, 1994, 1982, 2016, 2003, 1986, 2000, 1995, 1991,\n",
       "       1981, 1987, 1980, 1983])"
      ]
     },
     "execution_count": 9,
     "metadata": {},
     "output_type": "execute_result"
    }
   ],
   "source": [
    "data.year_of_release = data.year_of_release.astype('int')\n",
    "data.year_of_release.unique()"
   ]
  },
  {
   "cell_type": "markdown",
   "metadata": {},
   "source": [
    "Выводим список значений user_score - столбец со средней оценкой зрителей, который почему-то имеет нечисловой формат"
   ]
  },
  {
   "cell_type": "code",
   "execution_count": 10,
   "metadata": {},
   "outputs": [
    {
     "data": {
      "text/plain": [
       "array(['8', nan, '8.3', '8.5', '6.6', '8.4', '8.6', '7.7', '6.3', '7.4',\n",
       "       '8.2', '9', '7.9', '8.1', '8.7', '7.1', '3.4', '5.3', '4.8', '3.2',\n",
       "       '8.9', '6.4', '7.8', '7.5', '2.6', '7.2', '9.2', '7', '7.3', '4.3',\n",
       "       '7.6', '5.7', '5', '9.1', '6.5', 'tbd', '8.8', '6.9', '9.4', '6.8',\n",
       "       '6.1', '6.7', '5.4', '4', '4.9', '4.5', '9.3', '6.2', '4.2', '6',\n",
       "       '3.7', '4.1', '5.8', '5.6', '5.5', '4.4', '4.6', '5.9', '3.9',\n",
       "       '3.1', '2.9', '5.2', '3.3', '4.7', '5.1', '3.5', '2.5', '1.9', '3',\n",
       "       '2.7', '2.2', '2', '9.5', '2.1', '3.6', '2.8', '1.8', '3.8', '0',\n",
       "       '1.6', '9.6', '2.4', '1.7', '1.1', '0.3', '1.5', '0.7', '1.2',\n",
       "       '2.3', '0.5', '1.3', '0.2', '0.6', '1.4', '0.9', '1', '9.7'],\n",
       "      dtype=object)"
      ]
     },
     "execution_count": 10,
     "metadata": {},
     "output_type": "execute_result"
    }
   ],
   "source": [
    "data.user_score.unique()"
   ]
  },
  {
   "cell_type": "markdown",
   "metadata": {},
   "source": [
    "Нам необходимо поменять тип данных в столбце user_score на числовой, чтобы с ним можно было проводить операции, но в нем содержится аббревиатура 'tbd' - 'to be determened' у игр, на которые слишком мало рецензий, чтобы можно было делать вывыоды о том, как к ним относятся пользователи; мы можем заменить его на NaN, потому что для наших целей 'tbd' не несёт в себе никакого смысла"
   ]
  },
  {
   "cell_type": "code",
   "execution_count": 11,
   "metadata": {},
   "outputs": [
    {
     "data": {
      "text/plain": [
       "array([8. , nan, 8.3, 8.5, 6.6, 8.4, 8.6, 7.7, 6.3, 7.4, 8.2, 9. , 7.9,\n",
       "       8.1, 8.7, 7.1, 3.4, 5.3, 4.8, 3.2, 8.9, 6.4, 7.8, 7.5, 2.6, 7.2,\n",
       "       9.2, 7. , 7.3, 4.3, 7.6, 5.7, 5. , 9.1, 6.5, 8.8, 6.9, 9.4, 6.8,\n",
       "       6.1, 6.7, 5.4, 4. , 4.9, 4.5, 9.3, 6.2, 4.2, 6. , 3.7, 4.1, 5.8,\n",
       "       5.6, 5.5, 4.4, 4.6, 5.9, 3.9, 3.1, 2.9, 5.2, 3.3, 4.7, 5.1, 3.5,\n",
       "       2.5, 1.9, 3. , 2.7, 2.2, 2. , 9.5, 2.1, 3.6, 2.8, 1.8, 3.8, 0. ,\n",
       "       1.6, 9.6, 2.4, 1.7, 1.1, 0.3, 1.5, 0.7, 1.2, 2.3, 0.5, 1.3, 0.2,\n",
       "       0.6, 1.4, 0.9, 1. , 9.7])"
      ]
     },
     "execution_count": 11,
     "metadata": {},
     "output_type": "execute_result"
    }
   ],
   "source": [
    "data.user_score = pd.to_numeric(data.user_score, errors='coerce')\n",
    "data.user_score.unique()"
   ]
  },
  {
   "cell_type": "markdown",
   "metadata": {},
   "source": [
    "Разделим на 10 оценки критиков, чтоды привести оценки критиков и пользователей к одному стилю"
   ]
  },
  {
   "cell_type": "code",
   "execution_count": 12,
   "metadata": {},
   "outputs": [
    {
     "data": {
      "text/plain": [
       "array([7.6, nan, 8.2, 8. , 8.9, 5.8, 8.7, 9.1, 6.1, 9.7, 9.5, 7.7, 8.8,\n",
       "       8.3, 9.4, 9.3, 8.5, 8.6, 9.8, 9.6, 9. , 8.4, 7.3, 7.4, 7.8, 9.2,\n",
       "       7.1, 7.2, 6.8, 6.2, 4.9, 6.7, 8.1, 6.6, 5.6, 7.9, 7. , 5.9, 6.4,\n",
       "       7.5, 6. , 6.3, 6.9, 5. , 2.5, 4.2, 4.4, 5.5, 4.8, 5.7, 2.9, 4.7,\n",
       "       6.5, 5.4, 2. , 5.3, 3.7, 3.8, 3.3, 5.2, 3. , 3.2, 4.3, 4.5, 5.1,\n",
       "       4. , 4.6, 3.9, 3.4, 4.1, 3.6, 3.1, 2.7, 3.5, 2.6, 1.9, 2.8, 2.3,\n",
       "       2.4, 2.1, 1.7, 1.3])"
      ]
     },
     "execution_count": 12,
     "metadata": {},
     "output_type": "execute_result"
    }
   ],
   "source": [
    "data.critic_score /= 10\n",
    "data.critic_score.unique()"
   ]
  },
  {
   "cell_type": "markdown",
   "metadata": {},
   "source": [
    "#### Обрабатываем пропущеные значения"
   ]
  },
  {
   "cell_type": "markdown",
   "metadata": {},
   "source": [
    "Чтобы пропуски не могли исказить данные все незаполненные рейтинги назовём 'unknown'"
   ]
  },
  {
   "cell_type": "code",
   "execution_count": 13,
   "metadata": {},
   "outputs": [],
   "source": [
    "data.rating = data.rating.fillna('unknown')"
   ]
  },
  {
   "cell_type": "markdown",
   "metadata": {},
   "source": [
    "Смотрим на результаты"
   ]
  },
  {
   "cell_type": "code",
   "execution_count": 14,
   "metadata": {},
   "outputs": [
    {
     "data": {
      "text/plain": [
       "name                  0\n",
       "platform              0\n",
       "year_of_release       0\n",
       "genre                 0\n",
       "na_sales              0\n",
       "eu_sales              0\n",
       "jp_sales              0\n",
       "other_sales           0\n",
       "critic_score       8461\n",
       "user_score         8981\n",
       "rating                0\n",
       "dtype: int64"
      ]
     },
     "execution_count": 14,
     "metadata": {},
     "output_type": "execute_result"
    }
   ],
   "source": [
    "data.isna().sum()"
   ]
  },
  {
   "cell_type": "markdown",
   "metadata": {},
   "source": [
    "#### Проверяем датасет на дубликаты"
   ]
  },
  {
   "cell_type": "code",
   "execution_count": 15,
   "metadata": {},
   "outputs": [
    {
     "data": {
      "text/plain": [
       "0"
      ]
     },
     "execution_count": 15,
     "metadata": {},
     "output_type": "execute_result"
    }
   ],
   "source": [
    "data.duplicated().sum()"
   ]
  },
  {
   "cell_type": "markdown",
   "metadata": {},
   "source": [
    "Дубликатов не обнаружено"
   ]
  },
  {
   "cell_type": "markdown",
   "metadata": {},
   "source": [
    "#### Добавляем столбец с общим числом продаж"
   ]
  },
  {
   "cell_type": "code",
   "execution_count": 16,
   "metadata": {},
   "outputs": [],
   "source": [
    "data['total_sales'] = data.na_sales + data.eu_sales + data.jp_sales + data.other_sales"
   ]
  },
  {
   "cell_type": "markdown",
   "metadata": {},
   "source": [
    "Мы не обнаружили в датафрейме дубликатов, что радует, а так же провели предобработку данных. Теперь у нас есть столбец с суммарными продажами игры во всех регионах, заполнены пропуски в поле рейтинга ESRB, чтобы данные не искажались, изменены типы столбцов, которые мы отметили во 2 части, а так же отсутствуют строки, пропуски в которых никак не помогли бы нам в нашем исследовании."
   ]
  },
  {
   "cell_type": "markdown",
   "metadata": {},
   "source": [
    "### Анализ данных"
   ]
  },
  {
   "cell_type": "markdown",
   "metadata": {},
   "source": [
    "#### Актуализируем данные"
   ]
  },
  {
   "cell_type": "markdown",
   "metadata": {},
   "source": [
    "Строим гистограмму для столбца year_of_release, которая покажет нам, сколько игр выходило в каждый год."
   ]
  },
  {
   "cell_type": "code",
   "execution_count": 17,
   "metadata": {},
   "outputs": [
    {
     "data": {
      "image/png": "[encoded data removed]",
      "text/plain": [
       "<Figure size 864x576 with 1 Axes>"
      ]
     },
     "metadata": {
      "needs_background": "light"
     },
     "output_type": "display_data"
    }
   ],
   "source": [
    "data.year_of_release.plot(kind='hist',\n",
    "                          grid=True,\n",
    "                          figsize=(12, 8),\n",
    "                          bins=data.year_of_release.nunique(),\n",
    "                          title='График количества вышедших игр по годам')\n",
    "plt.xlabel(\"Год\")\n",
    "plt.ylabel(\"Количество вышедших игр\")\n",
    "plt.show()"
   ]
  },
  {
   "cell_type": "markdown",
   "metadata": {},
   "source": [
    "Мы видим, что примерно до 1994 года игр выходило очень мало, соответственно рынок в это время отличался очень сильно, и данные за это время нерепрезентативны впринципе."
   ]
  },
  {
   "cell_type": "code",
   "execution_count": 18,
   "metadata": {},
   "outputs": [],
   "source": [
    "actual_data = data.query('year_of_release > 1993')"
   ]
  },
  {
   "cell_type": "markdown",
   "metadata": {},
   "source": [
    "Теперь проанализируем, как продажи на игровых платформах ведут себя на временном отрезке.\n",
    "\n",
    "Для начала определим самые популярные платформы за весь период наблюдений:"
   ]
  },
  {
   "cell_type": "code",
   "execution_count": 19,
   "metadata": {},
   "outputs": [
    {
     "data": {
      "text/html": [
       "<div>\n",
       "<style scoped>\n",
       "    .dataframe tbody tr th:only-of-type {\n",
       "        vertical-align: middle;\n",
       "    }\n",
       "\n",
       "    .dataframe tbody tr th {\n",
       "        vertical-align: top;\n",
       "    }\n",
       "\n",
       "    .dataframe thead th {\n",
       "        text-align: right;\n",
       "    }\n",
       "</style>\n",
       "<table border=\"1\" class=\"dataframe\">\n",
       "  <thead>\n",
       "    <tr style=\"text-align: right;\">\n",
       "      <th></th>\n",
       "      <th>total_sales</th>\n",
       "    </tr>\n",
       "    <tr>\n",
       "      <th>platform</th>\n",
       "      <th></th>\n",
       "    </tr>\n",
       "  </thead>\n",
       "  <tbody>\n",
       "    <tr>\n",
       "      <th>PS2</th>\n",
       "      <td>1233.56</td>\n",
       "    </tr>\n",
       "    <tr>\n",
       "      <th>X360</th>\n",
       "      <td>961.24</td>\n",
       "    </tr>\n",
       "    <tr>\n",
       "      <th>PS3</th>\n",
       "      <td>931.34</td>\n",
       "    </tr>\n",
       "    <tr>\n",
       "      <th>Wii</th>\n",
       "      <td>891.18</td>\n",
       "    </tr>\n",
       "    <tr>\n",
       "      <th>DS</th>\n",
       "      <td>802.76</td>\n",
       "    </tr>\n",
       "    <tr>\n",
       "      <th>PS</th>\n",
       "      <td>727.58</td>\n",
       "    </tr>\n",
       "    <tr>\n",
       "      <th>PS4</th>\n",
       "      <td>314.14</td>\n",
       "    </tr>\n",
       "    <tr>\n",
       "      <th>GBA</th>\n",
       "      <td>312.88</td>\n",
       "    </tr>\n",
       "    <tr>\n",
       "      <th>PSP</th>\n",
       "      <td>289.53</td>\n",
       "    </tr>\n",
       "    <tr>\n",
       "      <th>3DS</th>\n",
       "      <td>257.81</td>\n",
       "    </tr>\n",
       "    <tr>\n",
       "      <th>PC</th>\n",
       "      <td>252.66</td>\n",
       "    </tr>\n",
       "    <tr>\n",
       "      <th>XB</th>\n",
       "      <td>251.57</td>\n",
       "    </tr>\n",
       "    <tr>\n",
       "      <th>N64</th>\n",
       "      <td>218.01</td>\n",
       "    </tr>\n",
       "    <tr>\n",
       "      <th>GC</th>\n",
       "      <td>196.73</td>\n",
       "    </tr>\n",
       "    <tr>\n",
       "      <th>XOne</th>\n",
       "      <td>159.32</td>\n",
       "    </tr>\n",
       "    <tr>\n",
       "      <th>GB</th>\n",
       "      <td>152.08</td>\n",
       "    </tr>\n",
       "    <tr>\n",
       "      <th>SNES</th>\n",
       "      <td>84.67</td>\n",
       "    </tr>\n",
       "    <tr>\n",
       "      <th>WiiU</th>\n",
       "      <td>82.19</td>\n",
       "    </tr>\n",
       "    <tr>\n",
       "      <th>PSV</th>\n",
       "      <td>53.81</td>\n",
       "    </tr>\n",
       "    <tr>\n",
       "      <th>SAT</th>\n",
       "      <td>33.59</td>\n",
       "    </tr>\n",
       "    <tr>\n",
       "      <th>DC</th>\n",
       "      <td>15.95</td>\n",
       "    </tr>\n",
       "    <tr>\n",
       "      <th>GEN</th>\n",
       "      <td>8.13</td>\n",
       "    </tr>\n",
       "    <tr>\n",
       "      <th>WS</th>\n",
       "      <td>1.42</td>\n",
       "    </tr>\n",
       "    <tr>\n",
       "      <th>NG</th>\n",
       "      <td>1.23</td>\n",
       "    </tr>\n",
       "    <tr>\n",
       "      <th>SCD</th>\n",
       "      <td>0.36</td>\n",
       "    </tr>\n",
       "    <tr>\n",
       "      <th>TG16</th>\n",
       "      <td>0.16</td>\n",
       "    </tr>\n",
       "    <tr>\n",
       "      <th>NES</th>\n",
       "      <td>0.11</td>\n",
       "    </tr>\n",
       "    <tr>\n",
       "      <th>3DO</th>\n",
       "      <td>0.10</td>\n",
       "    </tr>\n",
       "    <tr>\n",
       "      <th>PCFX</th>\n",
       "      <td>0.03</td>\n",
       "    </tr>\n",
       "  </tbody>\n",
       "</table>\n",
       "</div>"
      ],
      "text/plain": [
       "          total_sales\n",
       "platform             \n",
       "PS2           1233.56\n",
       "X360           961.24\n",
       "PS3            931.34\n",
       "Wii            891.18\n",
       "DS             802.76\n",
       "PS             727.58\n",
       "PS4            314.14\n",
       "GBA            312.88\n",
       "PSP            289.53\n",
       "3DS            257.81\n",
       "PC             252.66\n",
       "XB             251.57\n",
       "N64            218.01\n",
       "GC             196.73\n",
       "XOne           159.32\n",
       "GB             152.08\n",
       "SNES            84.67\n",
       "WiiU            82.19\n",
       "PSV             53.81\n",
       "SAT             33.59\n",
       "DC              15.95\n",
       "GEN              8.13\n",
       "WS               1.42\n",
       "NG               1.23\n",
       "SCD              0.36\n",
       "TG16             0.16\n",
       "NES              0.11\n",
       "3DO              0.10\n",
       "PCFX             0.03"
      ]
     },
     "execution_count": 19,
     "metadata": {},
     "output_type": "execute_result"
    }
   ],
   "source": [
    "sales_by_platform = (\n",
    "actual_data\n",
    "    .pivot_table(index='platform', values='total_sales', aggfunc='sum')\n",
    "    .sort_values(by='total_sales', ascending=False)\n",
    "                    )\n",
    "sales_by_platform"
   ]
  },
  {
   "cell_type": "markdown",
   "metadata": {},
   "source": [
    "Между 6 и 7 по популярности платформами разница больше чем в два раза - рассмотрим 6 самых популярных платформ."
   ]
  },
  {
   "cell_type": "code",
   "execution_count": 20,
   "metadata": {
    "scrolled": false
   },
   "outputs": [
    {
     "data": {
      "image/png": "[encoded data removed]",
      "text/plain": [
       "<Figure size 864x576 with 1 Axes>"
      ]
     },
     "metadata": {
      "needs_background": "light"
     },
     "output_type": "display_data"
    }
   ],
   "source": [
    "sales_by_platform = sales_by_platform.index[:6]\n",
    "\n",
    "(\n",
    "actual_data\n",
    "    .query('platform in @sales_by_platform')\n",
    "    .pivot_table(index='year_of_release', columns='platform', values='total_sales', aggfunc='sum')\n",
    "    .plot(figsize=(12, 8), title='График продаж игр на самых популярных платформах по годам')\n",
    ")\n",
    "\n",
    "plt.xlabel(\"Год\")\n",
    "plt.ylabel(\"Количество проданных копий игры (млн.)\")\n",
    "plt.show()"
   ]
  },
  {
   "cell_type": "markdown",
   "metadata": {},
   "source": [
    "Невооружённым взглядом видно, что среднее время, которое живёт игровая платформа - 9-10 лет, и пик продаж на ней приходится на середину её жизненного цикла (между четвёртым и пятым годами).\n",
    "\n",
    "Исходя из этого, для построения прогноза на 2017 год возьмём данные за последние 5 лет - с 2012 года до 2016, данные за который могут быть представлены не в полном объёме."
   ]
  },
  {
   "cell_type": "code",
   "execution_count": 21,
   "metadata": {},
   "outputs": [],
   "source": [
    "actual_data = actual_data.query('year_of_release >= 2012')"
   ]
  },
  {
   "cell_type": "markdown",
   "metadata": {},
   "source": [
    "#### Анализируем актуальный период"
   ]
  },
  {
   "cell_type": "markdown",
   "metadata": {},
   "source": [
    "Посмотрим статистику по суммарным продажам и построим график."
   ]
  },
  {
   "cell_type": "code",
   "execution_count": 22,
   "metadata": {},
   "outputs": [
    {
     "data": {
      "image/png": "[encoded data removed]",
      "text/plain": [
       "<Figure size 864x576 with 1 Axes>"
      ]
     },
     "metadata": {
      "needs_background": "light"
     },
     "output_type": "display_data"
    },
    {
     "data": {
      "text/html": [
       "<div>\n",
       "<style scoped>\n",
       "    .dataframe tbody tr th:only-of-type {\n",
       "        vertical-align: middle;\n",
       "    }\n",
       "\n",
       "    .dataframe tbody tr th {\n",
       "        vertical-align: top;\n",
       "    }\n",
       "\n",
       "    .dataframe thead th {\n",
       "        text-align: right;\n",
       "    }\n",
       "</style>\n",
       "<table border=\"1\" class=\"dataframe\">\n",
       "  <thead>\n",
       "    <tr style=\"text-align: right;\">\n",
       "      <th></th>\n",
       "      <th>total_sales</th>\n",
       "    </tr>\n",
       "    <tr>\n",
       "      <th>platform</th>\n",
       "      <th></th>\n",
       "    </tr>\n",
       "  </thead>\n",
       "  <tbody>\n",
       "    <tr>\n",
       "      <th>PS4</th>\n",
       "      <td>314.14</td>\n",
       "    </tr>\n",
       "    <tr>\n",
       "      <th>PS3</th>\n",
       "      <td>288.79</td>\n",
       "    </tr>\n",
       "    <tr>\n",
       "      <th>X360</th>\n",
       "      <td>236.54</td>\n",
       "    </tr>\n",
       "    <tr>\n",
       "      <th>3DS</th>\n",
       "      <td>194.61</td>\n",
       "    </tr>\n",
       "    <tr>\n",
       "      <th>XOne</th>\n",
       "      <td>159.32</td>\n",
       "    </tr>\n",
       "    <tr>\n",
       "      <th>WiiU</th>\n",
       "      <td>82.19</td>\n",
       "    </tr>\n",
       "    <tr>\n",
       "      <th>PC</th>\n",
       "      <td>62.65</td>\n",
       "    </tr>\n",
       "    <tr>\n",
       "      <th>PSV</th>\n",
       "      <td>49.18</td>\n",
       "    </tr>\n",
       "    <tr>\n",
       "      <th>Wii</th>\n",
       "      <td>35.37</td>\n",
       "    </tr>\n",
       "    <tr>\n",
       "      <th>DS</th>\n",
       "      <td>12.55</td>\n",
       "    </tr>\n",
       "    <tr>\n",
       "      <th>PSP</th>\n",
       "      <td>11.19</td>\n",
       "    </tr>\n",
       "  </tbody>\n",
       "</table>\n",
       "</div>"
      ],
      "text/plain": [
       "          total_sales\n",
       "platform             \n",
       "PS4            314.14\n",
       "PS3            288.79\n",
       "X360           236.54\n",
       "3DS            194.61\n",
       "XOne           159.32\n",
       "WiiU            82.19\n",
       "PC              62.65\n",
       "PSV             49.18\n",
       "Wii             35.37\n",
       "DS              12.55\n",
       "PSP             11.19"
      ]
     },
     "execution_count": 22,
     "metadata": {},
     "output_type": "execute_result"
    }
   ],
   "source": [
    "(\n",
    "actual_data\n",
    "    .pivot_table(index='year_of_release', columns='platform', values='total_sales', aggfunc='sum')\n",
    "    .plot(xticks=actual_data.year_of_release.unique(),\n",
    "          figsize=(12, 8),\n",
    "          title='График продаж за актуальный период')\n",
    ")\n",
    "\n",
    "plt.xlabel(\"Год\")\n",
    "plt.ylabel(\"Количество проданных копий игры (млн.)\")\n",
    "plt.show()\n",
    "\n",
    "(\n",
    "actual_data\n",
    "    .pivot_table(index='platform', values='total_sales', aggfunc='sum')\n",
    "    .sort_values(by='total_sales', ascending=False)\n",
    ")"
   ]
  },
  {
   "cell_type": "markdown",
   "metadata": {},
   "source": [
    "Мы видим, что игры для DS и PSP уже не продаются - эти приставки мы можем не рассматривать. Так же мы видим, что данные за 2012 год уже потеряли актуальность, перенесём начало анализируемого периода на год вперёд."
   ]
  },
  {
   "cell_type": "code",
   "execution_count": 23,
   "metadata": {},
   "outputs": [
    {
     "data": {
      "image/png": "[encoded data removed]",
      "text/plain": [
       "<Figure size 864x576 with 1 Axes>"
      ]
     },
     "metadata": {
      "needs_background": "light"
     },
     "output_type": "display_data"
    }
   ],
   "source": [
    "actual_data = actual_data.query('platform != [\"PSP\", \"DS\"] and year_of_release != 2012')\n",
    "\n",
    "(\n",
    "actual_data\n",
    "    .pivot_table(index='year_of_release', columns='platform', values='total_sales', aggfunc='sum')\n",
    "    .plot(xticks=actual_data.year_of_release.unique(),\n",
    "          figsize=(12, 8), \n",
    "          title='График продаж за актуальный период')\n",
    ")\n",
    "\n",
    "plt.xlabel(\"Год\")\n",
    "plt.ylabel(\"Количество проданных копий игр на платформе (млн.)\")\n",
    "plt.show()"
   ]
  },
  {
   "cell_type": "markdown",
   "metadata": {},
   "source": [
    "PS3 и X360 уже прошли свой пик, и продажи на них падают год за годом. PS4 и XOne наоборот - появились только в 2013 году, и снижение продаж (которое демонстрируют все платформы) - явно следствие того, что данные за 2016 год представленны не в полном объёме. Именно на эти приставки и стоит сделать ставку по прибыльности в 2017 году, особенно на PS4. 3DS тоже не стоит списывать со счетов - он, не смотря на снижающиеся продажи, всё ещё идёт на третьем месте. Wii это платформа, которую мы знаем ещё по графику самых популярных за всё время - в 2009 году ей завидовали все, кроме PS2, с которой они делили рынок, но сейчас она имеет самые низкие общие продажи. Остальные платформы (особенно с поправкой на неполноту данных за 2016) не имеют взлётов или падений.\n",
    " \n",
    "Далее посмотрим на данные через призму диаграмм размаха:"
   ]
  },
  {
   "cell_type": "code",
   "execution_count": 24,
   "metadata": {},
   "outputs": [
    {
     "data": {
      "image/png": "[encoded data removed]",
      "text/plain": [
       "<Figure size 864x576 with 1 Axes>"
      ]
     },
     "metadata": {
      "needs_background": "light"
     },
     "output_type": "display_data"
    }
   ],
   "source": [
    "plt.figure(figsize=(12,8))\n",
    "sns.boxplot(data=actual_data, x='platform', y='total_sales')\n",
    "plt.title('Диаграмма размаха продаж за актуальный период')\n",
    "plt.xlabel(\"Платформа\")\n",
    "plt.ylabel(\"Среднее количество проданных копий игры (млн.)\")\n",
    "plt.show()"
   ]
  },
  {
   "cell_type": "markdown",
   "metadata": {},
   "source": [
    "Чёрными точками обозначены выбросы - в нашем случае это игры, которые заработали больше, чем 99% своих конкурентов.\n",
    "\n",
    "Посмотрим поближе на среднестатистические значения:"
   ]
  },
  {
   "cell_type": "code",
   "execution_count": 25,
   "metadata": {},
   "outputs": [
    {
     "data": {
      "image/png": "[encoded data removed]",
      "text/plain": [
       "<Figure size 864x576 with 1 Axes>"
      ]
     },
     "metadata": {
      "needs_background": "light"
     },
     "output_type": "display_data"
    }
   ],
   "source": [
    "plt.figure(figsize=(12,8))\n",
    "sns.boxplot(data=actual_data, x='platform', y='total_sales')\n",
    "plt.title('Диаграмма размаха продаж за актуальный период')\n",
    "plt.xlabel(\"Платформа\")\n",
    "plt.ylabel(\"Среднее количество проданных копий игры (млн.)\")\n",
    "plt.ylim(0, 3)\n",
    "plt.show()"
   ]
  },
  {
   "cell_type": "markdown",
   "metadata": {},
   "source": [
    "Взглянув на этот график и сопоставив его с предыдущими, мы можем прийти к выводу, что 3DS может и является третьей по продажам платформой, но игры на ней продаются не очень хорошо - скорее всего их просто выходит много, а вот Wii будучи последней по общим продажам имеет очень неплохие показатели продаж, так что на ней скорее всего ситуация обратная - игр выходит мало, но многие из них имеют относительный успех. Если говорить про PS4 и XOne как про платформы на которые мы будем делать ставку, то можно добавить, что медиана XOne немного выше, но у PS4 выше третий квартиль, верхний ус и гораздо больше выбросов, так что PS4 скорее та приставка где выходит много хитовых игр, тогда как выходящие на XOne игры имеют меньший шанс провалиться."
   ]
  },
  {
   "cell_type": "markdown",
   "metadata": {},
   "source": [
    "#### Определяем влияние оценок на продажи"
   ]
  },
  {
   "cell_type": "markdown",
   "metadata": {},
   "source": [
    "Смотрим, как влияют на продажи внутри самой популярной платформы (PS4) отзывы пользователей и критиков:"
   ]
  },
  {
   "cell_type": "code",
   "execution_count": 26,
   "metadata": {},
   "outputs": [
    {
     "data": {
      "text/plain": [
       "critic_score    0.406568\n",
       "user_score     -0.031957\n",
       "Name: total_sales, dtype: float64"
      ]
     },
     "execution_count": 26,
     "metadata": {},
     "output_type": "execute_result"
    },
    {
     "data": {
      "image/png": "[encoded data removed]",
      "text/plain": [
       "<Figure size 432x288 with 1 Axes>"
      ]
     },
     "metadata": {
      "needs_background": "light"
     },
     "output_type": "display_data"
    },
    {
     "data": {
      "image/png": "[encoded data removed]",
      "text/plain": [
       "<Figure size 432x288 with 1 Axes>"
      ]
     },
     "metadata": {
      "needs_background": "light"
     },
     "output_type": "display_data"
    }
   ],
   "source": [
    "ps4_data = actual_data.query('platform == \"PS4\"')\n",
    "\n",
    "(\n",
    "ps4_data\n",
    "    .pivot_table(index='critic_score', values='total_sales', aggfunc='count')\n",
    "    .plot(style='o', title='График зависимости продаж от оценок критиков', alpha=.95)\n",
    ");\n",
    "\n",
    "(\n",
    "ps4_data\n",
    "    .pivot_table(index='user_score', values='total_sales', aggfunc='count')\n",
    "    .plot(style='o', title='График зависимости продаж от оценок пользователей', alpha=.95)\n",
    ");\n",
    "\n",
    "# считаем корреляцию значений total_sales с critic_score и user_score\n",
    "ps4_data[['total_sales', 'critic_score', 'user_score']].corr()['total_sales'][1:]"
   ]
  },
  {
   "cell_type": "markdown",
   "metadata": {},
   "source": [
    "Первые выводы: оценки зрителей не влияют вообще, оценки критиков влияют слабо.\n",
    "\n",
    "Рассмотрим остальные актуальные платформы:"
   ]
  },
  {
   "cell_type": "code",
   "execution_count": 27,
   "metadata": {
    "scrolled": false
   },
   "outputs": [
    {
     "name": "stdout",
     "output_type": "stream",
     "text": [
      "PS3\n",
      "critic_score    0.334285\n",
      "user_score      0.002394\n",
      "Name: total_sales, dtype: float64\n",
      "X360\n",
      "critic_score    0.350345\n",
      "user_score     -0.011742\n",
      "Name: total_sales, dtype: float64\n",
      "3DS\n",
      "critic_score    0.357057\n",
      "user_score      0.241504\n",
      "Name: total_sales, dtype: float64\n",
      "XOne\n",
      "critic_score    0.416998\n",
      "user_score     -0.068925\n",
      "Name: total_sales, dtype: float64\n",
      "WiiU\n",
      "critic_score    0.376415\n",
      "user_score      0.419330\n",
      "Name: total_sales, dtype: float64\n",
      "Wii\n",
      "critic_score         NaN\n",
      "user_score      0.682942\n",
      "Name: total_sales, dtype: float64\n",
      "PC\n",
      "critic_score    0.196030\n",
      "user_score     -0.093842\n",
      "Name: total_sales, dtype: float64\n",
      "PSV\n",
      "critic_score    0.254742\n",
      "user_score      0.000942\n",
      "Name: total_sales, dtype: float64\n",
      "\n",
      "Все платформы\n"
     ]
    },
    {
     "data": {
      "text/plain": [
       "critic_score    0.313789\n",
       "user_score     -0.003068\n",
       "Name: total_sales, dtype: float64"
      ]
     },
     "execution_count": 27,
     "metadata": {},
     "output_type": "execute_result"
    }
   ],
   "source": [
    "for platform in actual_data.query('platform != \"PS4\"').platform.unique():\n",
    "    print(platform)\n",
    "    print(actual_data\n",
    "              .query('platform == @platform')[['total_sales', 'critic_score', 'user_score']]\n",
    "              .corr()['total_sales'][1:]\n",
    "         )\n",
    "print('\\nВсе платформы')\n",
    "actual_data[['total_sales', 'critic_score', 'user_score']].corr()['total_sales'][1:]"
   ]
  },
  {
   "cell_type": "markdown",
   "metadata": {},
   "source": [
    "Корреляция продаж с оценками пользователей либо отсутсвует, либо очень слаба (на Wii, WiiU и 3DS), корреляция с оценками критиков выше но всё равно оказывает малое влияние."
   ]
  },
  {
   "cell_type": "markdown",
   "metadata": {},
   "source": [
    "<div class=\"alert alert-block alert-success\">\n",
    "<b>✅Комментарий ревьюера:</b> Зависимость продаж от оценок пользователей и критиков проанализирована верно! </div>"
   ]
  },
  {
   "cell_type": "markdown",
   "metadata": {},
   "source": [
    "#### Рассматриваем распределение по жанрам"
   ]
  },
  {
   "cell_type": "code",
   "execution_count": 28,
   "metadata": {},
   "outputs": [
    {
     "data": {
      "image/png": "[encoded data removed]",
      "text/plain": [
       "<Figure size 960x640 with 1 Axes>"
      ]
     },
     "metadata": {
      "needs_background": "light"
     },
     "output_type": "display_data"
    },
    {
     "data": {
      "text/html": [
       "<div>\n",
       "<style scoped>\n",
       "    .dataframe tbody tr th:only-of-type {\n",
       "        vertical-align: middle;\n",
       "    }\n",
       "\n",
       "    .dataframe tbody tr th {\n",
       "        vertical-align: top;\n",
       "    }\n",
       "\n",
       "    .dataframe thead th {\n",
       "        text-align: right;\n",
       "    }\n",
       "</style>\n",
       "<table border=\"1\" class=\"dataframe\">\n",
       "  <thead>\n",
       "    <tr style=\"text-align: right;\">\n",
       "      <th></th>\n",
       "      <th>name</th>\n",
       "    </tr>\n",
       "    <tr>\n",
       "      <th>genre</th>\n",
       "      <th></th>\n",
       "    </tr>\n",
       "  </thead>\n",
       "  <tbody>\n",
       "    <tr>\n",
       "      <th>Action</th>\n",
       "      <td>752</td>\n",
       "    </tr>\n",
       "    <tr>\n",
       "      <th>Role-Playing</th>\n",
       "      <td>285</td>\n",
       "    </tr>\n",
       "    <tr>\n",
       "      <th>Adventure</th>\n",
       "      <td>211</td>\n",
       "    </tr>\n",
       "    <tr>\n",
       "      <th>Sports</th>\n",
       "      <td>208</td>\n",
       "    </tr>\n",
       "    <tr>\n",
       "      <th>Shooter</th>\n",
       "      <td>187</td>\n",
       "    </tr>\n",
       "    <tr>\n",
       "      <th>Misc</th>\n",
       "      <td>146</td>\n",
       "    </tr>\n",
       "    <tr>\n",
       "      <th>Racing</th>\n",
       "      <td>85</td>\n",
       "    </tr>\n",
       "    <tr>\n",
       "      <th>Fighting</th>\n",
       "      <td>79</td>\n",
       "    </tr>\n",
       "    <tr>\n",
       "      <th>Platform</th>\n",
       "      <td>72</td>\n",
       "    </tr>\n",
       "    <tr>\n",
       "      <th>Simulation</th>\n",
       "      <td>61</td>\n",
       "    </tr>\n",
       "    <tr>\n",
       "      <th>Strategy</th>\n",
       "      <td>55</td>\n",
       "    </tr>\n",
       "    <tr>\n",
       "      <th>Puzzle</th>\n",
       "      <td>17</td>\n",
       "    </tr>\n",
       "  </tbody>\n",
       "</table>\n",
       "</div>"
      ],
      "text/plain": [
       "              name\n",
       "genre             \n",
       "Action         752\n",
       "Role-Playing   285\n",
       "Adventure      211\n",
       "Sports         208\n",
       "Shooter        187\n",
       "Misc           146\n",
       "Racing          85\n",
       "Fighting        79\n",
       "Platform        72\n",
       "Simulation      61\n",
       "Strategy        55\n",
       "Puzzle          17"
      ]
     },
     "execution_count": 28,
     "metadata": {},
     "output_type": "execute_result"
    }
   ],
   "source": [
    "temp_data = actual_data.groupby('genre').size().reset_index(name='total_sales')\n",
    "labels = temp_data.apply(lambda x: str(x[0]) + \"\\n (\" + str(x[1]) + \")\", axis=1)\n",
    "sizes = temp_data['total_sales'].values.tolist()\n",
    "colors = [plt.cm.Spectral(i/float(len(labels))) for i in range(len(labels))]\n",
    "\n",
    "plt.figure(figsize=(12,8), dpi= 80)\n",
    "squarify.plot(sizes=sizes, label=labels, color=colors, alpha=.8)\n",
    "\n",
    "plt.title('Карта распределения жанров по количеству вышедших игр')\n",
    "plt.axis('off')\n",
    "plt.show()\n",
    "\n",
    "(\n",
    "actual_data\n",
    "    .pivot_table(index='genre', values='name', aggfunc='count')\n",
    "    .sort_values(by='name', ascending=False)\n",
    ")"
   ]
  },
  {
   "cell_type": "markdown",
   "metadata": {},
   "source": [
    "Больше всего выходит экшенов - более чем в два раза больше, чем ролевых игр, которые идут за ними. Шутеры, адвенчуры, спортивные игры - на третьем месте. Misc - это категория для игр, жанр которых сложно определить, поэтому их количеству не удивляемся. Из остальных категорий выделим пазлы как самые редко выпускаемые."
   ]
  },
  {
   "cell_type": "code",
   "execution_count": 29,
   "metadata": {},
   "outputs": [
    {
     "data": {
      "image/png": "[encoded data removed]",
      "text/plain": [
       "<Figure size 960x640 with 1 Axes>"
      ]
     },
     "metadata": {
      "needs_background": "light"
     },
     "output_type": "display_data"
    },
    {
     "data": {
      "text/html": [
       "<div>\n",
       "<style scoped>\n",
       "    .dataframe tbody tr th:only-of-type {\n",
       "        vertical-align: middle;\n",
       "    }\n",
       "\n",
       "    .dataframe tbody tr th {\n",
       "        vertical-align: top;\n",
       "    }\n",
       "\n",
       "    .dataframe thead th {\n",
       "        text-align: right;\n",
       "    }\n",
       "</style>\n",
       "<table border=\"1\" class=\"dataframe\">\n",
       "  <thead>\n",
       "    <tr style=\"text-align: right;\">\n",
       "      <th></th>\n",
       "      <th>total_sales</th>\n",
       "    </tr>\n",
       "    <tr>\n",
       "      <th>genre</th>\n",
       "      <th></th>\n",
       "    </tr>\n",
       "  </thead>\n",
       "  <tbody>\n",
       "    <tr>\n",
       "      <th>Action</th>\n",
       "      <td>320.51</td>\n",
       "    </tr>\n",
       "    <tr>\n",
       "      <th>Shooter</th>\n",
       "      <td>232.98</td>\n",
       "    </tr>\n",
       "    <tr>\n",
       "      <th>Sports</th>\n",
       "      <td>149.93</td>\n",
       "    </tr>\n",
       "    <tr>\n",
       "      <th>Role-Playing</th>\n",
       "      <td>144.86</td>\n",
       "    </tr>\n",
       "    <tr>\n",
       "      <th>Misc</th>\n",
       "      <td>62.57</td>\n",
       "    </tr>\n",
       "    <tr>\n",
       "      <th>Platform</th>\n",
       "      <td>41.94</td>\n",
       "    </tr>\n",
       "    <tr>\n",
       "      <th>Racing</th>\n",
       "      <td>39.89</td>\n",
       "    </tr>\n",
       "    <tr>\n",
       "      <th>Fighting</th>\n",
       "      <td>35.29</td>\n",
       "    </tr>\n",
       "    <tr>\n",
       "      <th>Adventure</th>\n",
       "      <td>22.90</td>\n",
       "    </tr>\n",
       "    <tr>\n",
       "      <th>Simulation</th>\n",
       "      <td>21.55</td>\n",
       "    </tr>\n",
       "    <tr>\n",
       "      <th>Strategy</th>\n",
       "      <td>10.06</td>\n",
       "    </tr>\n",
       "    <tr>\n",
       "      <th>Puzzle</th>\n",
       "      <td>3.17</td>\n",
       "    </tr>\n",
       "  </tbody>\n",
       "</table>\n",
       "</div>"
      ],
      "text/plain": [
       "              total_sales\n",
       "genre                    \n",
       "Action             320.51\n",
       "Shooter            232.98\n",
       "Sports             149.93\n",
       "Role-Playing       144.86\n",
       "Misc                62.57\n",
       "Platform            41.94\n",
       "Racing              39.89\n",
       "Fighting            35.29\n",
       "Adventure           22.90\n",
       "Simulation          21.55\n",
       "Strategy            10.06\n",
       "Puzzle               3.17"
      ]
     },
     "execution_count": 29,
     "metadata": {},
     "output_type": "execute_result"
    }
   ],
   "source": [
    "temp_data = actual_data.groupby('genre').total_sales.sum().round(2).reset_index(name='total_sales')\n",
    "labels = temp_data.apply(lambda x: str(x[0]) + \"\\n (\" + str(x[1]) + \")\", axis=1)\n",
    "sizes = temp_data['total_sales'].values.tolist()\n",
    "colors = [plt.cm.Spectral(i/float(len(labels))) for i in range(len(labels))]\n",
    "\n",
    "plt.figure(figsize=(12,8), dpi= 80)\n",
    "squarify.plot(sizes=sizes, label=labels, color=colors, alpha=.8)\n",
    "\n",
    "plt.title('Карта распределения продаж по жанрам (млн. копий)')\n",
    "plt.axis('off')\n",
    "plt.show()\n",
    "\n",
    "(\n",
    "actual_data\n",
    "    .pivot_table(index='genre', values='total_sales', aggfunc='sum')\n",
    "    .sort_values(by='total_sales', ascending=False)\n",
    ")"
   ]
  },
  {
   "cell_type": "markdown",
   "metadata": {},
   "source": [
    "Игры жанра экшн - самые продаваемые, за ними идут шутеры, и третье место делят между собой спортивные и ролевые игры. Все вместе они занимают практически 3/4 рынка, остальные жанры делят оставшуюся четверть. Можем отметить, что пазлы продаются хуже всего, но их и выходит очень мало, а вот шутеры, которые на 5 месте по количеству вышедших игр, берут второе место по продажам.\n",
    "\n",
    "Рассмотрим прибыльность всех жанров:"
   ]
  },
  {
   "cell_type": "code",
   "execution_count": 30,
   "metadata": {},
   "outputs": [
    {
     "data": {
      "text/html": [
       "<div>\n",
       "<style scoped>\n",
       "    .dataframe tbody tr th:only-of-type {\n",
       "        vertical-align: middle;\n",
       "    }\n",
       "\n",
       "    .dataframe tbody tr th {\n",
       "        vertical-align: top;\n",
       "    }\n",
       "\n",
       "    .dataframe thead tr th {\n",
       "        text-align: left;\n",
       "    }\n",
       "\n",
       "    .dataframe thead tr:last-of-type th {\n",
       "        text-align: right;\n",
       "    }\n",
       "</style>\n",
       "<table border=\"1\" class=\"dataframe\">\n",
       "  <thead>\n",
       "    <tr>\n",
       "      <th></th>\n",
       "      <th>sum</th>\n",
       "      <th>count</th>\n",
       "      <th>profitability</th>\n",
       "    </tr>\n",
       "    <tr>\n",
       "      <th></th>\n",
       "      <th>total_sales</th>\n",
       "      <th>total_sales</th>\n",
       "      <th></th>\n",
       "    </tr>\n",
       "    <tr>\n",
       "      <th>genre</th>\n",
       "      <th></th>\n",
       "      <th></th>\n",
       "      <th></th>\n",
       "    </tr>\n",
       "  </thead>\n",
       "  <tbody>\n",
       "    <tr>\n",
       "      <th>Shooter</th>\n",
       "      <td>232.98</td>\n",
       "      <td>187</td>\n",
       "      <td>1.245882</td>\n",
       "    </tr>\n",
       "    <tr>\n",
       "      <th>Sports</th>\n",
       "      <td>149.93</td>\n",
       "      <td>208</td>\n",
       "      <td>0.720817</td>\n",
       "    </tr>\n",
       "    <tr>\n",
       "      <th>Platform</th>\n",
       "      <td>41.94</td>\n",
       "      <td>72</td>\n",
       "      <td>0.582500</td>\n",
       "    </tr>\n",
       "    <tr>\n",
       "      <th>Role-Playing</th>\n",
       "      <td>144.86</td>\n",
       "      <td>285</td>\n",
       "      <td>0.508281</td>\n",
       "    </tr>\n",
       "    <tr>\n",
       "      <th>Racing</th>\n",
       "      <td>39.89</td>\n",
       "      <td>85</td>\n",
       "      <td>0.469294</td>\n",
       "    </tr>\n",
       "    <tr>\n",
       "      <th>Fighting</th>\n",
       "      <td>35.29</td>\n",
       "      <td>79</td>\n",
       "      <td>0.446709</td>\n",
       "    </tr>\n",
       "    <tr>\n",
       "      <th>Misc</th>\n",
       "      <td>62.57</td>\n",
       "      <td>146</td>\n",
       "      <td>0.428562</td>\n",
       "    </tr>\n",
       "    <tr>\n",
       "      <th>Action</th>\n",
       "      <td>320.51</td>\n",
       "      <td>752</td>\n",
       "      <td>0.426210</td>\n",
       "    </tr>\n",
       "    <tr>\n",
       "      <th>Simulation</th>\n",
       "      <td>21.55</td>\n",
       "      <td>61</td>\n",
       "      <td>0.353279</td>\n",
       "    </tr>\n",
       "    <tr>\n",
       "      <th>Puzzle</th>\n",
       "      <td>3.17</td>\n",
       "      <td>17</td>\n",
       "      <td>0.186471</td>\n",
       "    </tr>\n",
       "    <tr>\n",
       "      <th>Strategy</th>\n",
       "      <td>10.06</td>\n",
       "      <td>55</td>\n",
       "      <td>0.182909</td>\n",
       "    </tr>\n",
       "    <tr>\n",
       "      <th>Adventure</th>\n",
       "      <td>22.90</td>\n",
       "      <td>211</td>\n",
       "      <td>0.108531</td>\n",
       "    </tr>\n",
       "  </tbody>\n",
       "</table>\n",
       "</div>"
      ],
      "text/plain": [
       "                     sum       count profitability\n",
       "             total_sales total_sales              \n",
       "genre                                             \n",
       "Shooter           232.98         187      1.245882\n",
       "Sports            149.93         208      0.720817\n",
       "Platform           41.94          72      0.582500\n",
       "Role-Playing      144.86         285      0.508281\n",
       "Racing             39.89          85      0.469294\n",
       "Fighting           35.29          79      0.446709\n",
       "Misc               62.57         146      0.428562\n",
       "Action            320.51         752      0.426210\n",
       "Simulation         21.55          61      0.353279\n",
       "Puzzle              3.17          17      0.186471\n",
       "Strategy           10.06          55      0.182909\n",
       "Adventure          22.90         211      0.108531"
      ]
     },
     "execution_count": 30,
     "metadata": {},
     "output_type": "execute_result"
    }
   ],
   "source": [
    "profit = actual_data.pivot_table(index='genre', values='total_sales', aggfunc=['sum', 'count'])\n",
    "profit['profitability'] = profit['sum'].total_sales / profit['count'].total_sales\n",
    "profit.sort_values(by='profitability', ascending=False)"
   ]
  },
  {
   "cell_type": "markdown",
   "metadata": {},
   "source": [
    "Действительно, шутеры оказались самыми прибыльными, спортивные игры тоже продаются хорошо, экшены - самые продаваемые и производимые - ниже середины, а вот адвенчуры, третие по количеству выходов, находятся на самом дне окупаемости."
   ]
  },
  {
   "cell_type": "markdown",
   "metadata": {},
   "source": [
    "### Портрет покупателя  по регионам"
   ]
  },
  {
   "cell_type": "markdown",
   "metadata": {},
   "source": [
    "Создаём функцию для построения распределений:"
   ]
  },
  {
   "cell_type": "code",
   "execution_count": 31,
   "metadata": {},
   "outputs": [],
   "source": [
    "def top_5_plot(t_data, t_region, t_index, t_title):\n",
    "    (\n",
    "    t_data\n",
    "        .pivot_table(index=t_index, values=t_region, aggfunc='sum')\n",
    "        .sort_values(by=t_region, ascending=False)[:5]\n",
    "        .plot(kind='bar',\n",
    "            legend=False,\n",
    "            title=t_title)\n",
    "    )\n",
    "    plt.ylabel(\"Общее количество проданных копий игры (млн.)\")\n",
    "    plt.show()"
   ]
  },
  {
   "cell_type": "markdown",
   "metadata": {},
   "source": [
    "#### Северная Америка"
   ]
  },
  {
   "cell_type": "code",
   "execution_count": 32,
   "metadata": {},
   "outputs": [
    {
     "data": {
      "image/png": "[encoded data removed]",
      "text/plain": [
       "<Figure size 432x288 with 1 Axes>"
      ]
     },
     "metadata": {
      "needs_background": "light"
     },
     "output_type": "display_data"
    },
    {
     "data": {
      "image/png": "[encoded data removed]",
      "text/plain": [
       "<Figure size 432x288 with 1 Axes>"
      ]
     },
     "metadata": {
      "needs_background": "light"
     },
     "output_type": "display_data"
    },
    {
     "data": {
      "image/png": "[encoded data removed]",
      "text/plain": [
       "<Figure size 432x288 with 1 Axes>"
      ]
     },
     "metadata": {
      "needs_background": "light"
     },
     "output_type": "display_data"
    }
   ],
   "source": [
    "top_5_plot(t_data=actual_data, t_region='na_sales', t_index='platform', t_title='Топ 5 платформ в Северной Америке')\n",
    "top_5_plot(t_data=actual_data, t_region='na_sales', t_index='genre', t_title='Топ 5 жанров в Северной Америке')\n",
    "top_5_plot(t_data=actual_data,\n",
    "           t_region='na_sales',\n",
    "           t_index='rating',\n",
    "           t_title='Топ 5 по рейтингу от организации ESRB в Северной Америке')"
   ]
  },
  {
   "cell_type": "markdown",
   "metadata": {},
   "source": [
    "- самыми популярными платформами являются PS4 и XOne, затем идут их прошлые версии и 3DS\n",
    "- топ 5 популярных жанров повторяет топ 5 популярных жанров из пункта 4.4\n",
    "- наибольшим спросом пользуются игры для взрослой аудитории, много игр для которых мы указали рейтинг unknown\n",
    "\n",
    "В целом Северная Америка кажется регионом который не имеет уникальных особенностей."
   ]
  },
  {
   "cell_type": "markdown",
   "metadata": {},
   "source": [
    "#### Европа"
   ]
  },
  {
   "cell_type": "code",
   "execution_count": 33,
   "metadata": {},
   "outputs": [
    {
     "data": {
      "image/png": "[encoded data removed]",
      "text/plain": [
       "<Figure size 432x288 with 1 Axes>"
      ]
     },
     "metadata": {
      "needs_background": "light"
     },
     "output_type": "display_data"
    },
    {
     "data": {
      "image/png": "[encoded data removed]",
      "text/plain": [
       "<Figure size 432x288 with 1 Axes>"
      ]
     },
     "metadata": {
      "needs_background": "light"
     },
     "output_type": "display_data"
    },
    {
     "data": {
      "image/png": "[encoded data removed]",
      "text/plain": [
       "<Figure size 432x288 with 1 Axes>"
      ]
     },
     "metadata": {
      "needs_background": "light"
     },
     "output_type": "display_data"
    }
   ],
   "source": [
    "top_5_plot(t_data=actual_data, t_region='eu_sales', t_index='platform', t_title='Топ 5 платформ в Европе')\n",
    "top_5_plot(t_data=actual_data, t_region='eu_sales', t_index='genre', t_title='Топ 5 жанров в Европе')\n",
    "top_5_plot(t_data=actual_data,\n",
    "           t_region='eu_sales',\n",
    "           t_index='rating',\n",
    "           t_title='Топ 5 по рейтингу от организации ESRB в Европе')"
   ]
  },
  {
   "cell_type": "markdown",
   "metadata": {},
   "source": [
    "- в Европе продажи PS обгоняют продажи X\n",
    "- жанр гонок пользуется здесь бОльшим спросом чем в остальных регионах\n",
    "- игры рейтинга E обгоняют те, которые мы обозначили как unknown\n",
    "\n",
    "Приставка PS4 - с запасом самая популярная платформа в Европе прямо сейчас, учитывая, что в отрезок данных входят те года, когда PS3 и X360 ещё обходили свои новые аналоги."
   ]
  },
  {
   "cell_type": "markdown",
   "metadata": {},
   "source": [
    "#### Япония"
   ]
  },
  {
   "cell_type": "code",
   "execution_count": 34,
   "metadata": {},
   "outputs": [
    {
     "data": {
      "image/png": "[encoded data removed]",
      "text/plain": [
       "<Figure size 432x288 with 1 Axes>"
      ]
     },
     "metadata": {
      "needs_background": "light"
     },
     "output_type": "display_data"
    },
    {
     "data": {
      "image/png": "[encoded data removed]",
      "text/plain": [
       "<Figure size 432x288 with 1 Axes>"
      ]
     },
     "metadata": {
      "needs_background": "light"
     },
     "output_type": "display_data"
    },
    {
     "data": {
      "image/png": "[encoded data removed]",
      "text/plain": [
       "<Figure size 432x288 with 1 Axes>"
      ]
     },
     "metadata": {
      "needs_background": "light"
     },
     "output_type": "display_data"
    }
   ],
   "source": [
    "top_5_plot(t_data=actual_data, t_region='jp_sales', t_index='platform', t_title='Топ 5 платформ в Японии')\n",
    "top_5_plot(t_data=actual_data, t_region='jp_sales', t_index='genre', t_title='Топ 5 жанров в Японии')\n",
    "top_5_plot(t_data=actual_data,\n",
    "           t_region='jp_sales',\n",
    "           t_index='rating',\n",
    "           t_title='Топ 5 по рейтингу от организации ESRB в Японии')"
   ]
  },
  {
   "cell_type": "markdown",
   "metadata": {},
   "source": [
    "- 3DS - самая популярная платформа, в топ 5 PSV и WiiU, но нет XOne и X360\n",
    "- ролевые игры опережают экшны, шутеры гораздо менее популярны, файтинги 4 по популярности жанр\n",
    "- большая часть игр видимо не имеет рейтинга ESRB, скорее всего это локальный продукт\n",
    "- у популярных здесь платформ корреляция с оценками пользователей и критиков выше\n",
    "\n",
    "Япония сильно отличается от других рынков: сюда практически не следует возить игры для X360 и XOne, упор стоит сделать на ролевые игры и файтинги для 3DS, разнообразных PS, и WiiU."
   ]
  },
  {
   "cell_type": "markdown",
   "metadata": {},
   "source": [
    "### Проверка гипотез"
   ]
  },
  {
   "cell_type": "markdown",
   "metadata": {},
   "source": [
    "#### Гипотеза 1: средние пользовательские рейтинги платформ Xbox One и PC одинаковые"
   ]
  },
  {
   "cell_type": "markdown",
   "metadata": {},
   "source": [
    "Нулевая гипотеза - средние пользовательские рейтинги платформ Xbox One и PC одинаковые\n",
    "\n",
    "Альтернативная гипотеза - средние пользовательские рейтинги платформ Xbox One и PC разные"
   ]
  },
  {
   "cell_type": "code",
   "execution_count": 35,
   "metadata": {},
   "outputs": [
    {
     "name": "stdout",
     "output_type": "stream",
     "text": [
      "0.1475959401343032\n",
      "Не получилось отвергнуть нулевую гипотезу\n"
     ]
    }
   ],
   "source": [
    "xone = actual_data.query('platform == \"XOne\"').user_score\n",
    "pc = actual_data.query('platform == \"PC\"').user_score\n",
    "alpha = .05\n",
    "\n",
    "results = st.ttest_ind(xone, pc, equal_var=False, nan_policy='omit')\n",
    "\n",
    "print(results.pvalue)\n",
    "if results.pvalue < alpha:\n",
    "    print('Отвергаем нулевую гипотезу')\n",
    "else:\n",
    "    print('Не получилось отвергнуть нулевую гипотезу')"
   ]
  },
  {
   "cell_type": "markdown",
   "metadata": {},
   "source": [
    "Отвергнуть нулевую гипотезу не получилось, в нашей выборке средние пользовательские оценки игр на Xbox One и PC не имеют существенных отличий"
   ]
  },
  {
   "cell_type": "markdown",
   "metadata": {},
   "source": [
    "#### Гипотеза 2: средние пользовательские рейтинги жанров Action и Sports разные"
   ]
  },
  {
   "cell_type": "markdown",
   "metadata": {},
   "source": [
    "Нулевая гипотеза - средние пользовательские рейтинги жанров Action и Sports одинаковые\n",
    "\n",
    "Альтернативная гипотеза - средние пользовательские рейтинги жанров Action и Sports разные"
   ]
  },
  {
   "cell_type": "code",
   "execution_count": 36,
   "metadata": {},
   "outputs": [
    {
     "name": "stdout",
     "output_type": "stream",
     "text": [
      "2.4191414517472358e-20\n",
      "Отвергаем нулевую гипотезу\n"
     ]
    }
   ],
   "source": [
    "action = actual_data.query('genre == \"Action\"').user_score\n",
    "sports = actual_data.query('genre == \"Sports\"').user_score\n",
    "\n",
    "results = st.ttest_ind(action, sports, equal_var=False, nan_policy='omit')\n",
    "\n",
    "print(results.pvalue)\n",
    "if results.pvalue < alpha:\n",
    "    print('Отвергаем нулевую гипотезу')\n",
    "else:\n",
    "    print('Не получилось отвергнуть нулевую гипотезу')"
   ]
  },
  {
   "cell_type": "markdown",
   "metadata": {},
   "source": [
    "Отвергнута нулевая гипотеза, подтверждена альтернативная - с большой долей вероятности средние пользовательские рейтинги жанров Action и Sports имеют статистически значимые отличия"
   ]
  },
  {
   "cell_type": "markdown",
   "metadata": {},
   "source": [
    "### Общий вывод"
   ]
  },
  {
   "cell_type": "markdown",
   "metadata": {},
   "source": [
    "На этапе предобработки мы не обнаружили в датафрейме дубликатов, заполнили пропуски в поле рейтинга ESRB чтобы избежать искажения данных в 5 части, какие-то пропуски удалили, а какие-то сделали сами (в столбце с оценками пользователей заменили значение tbd на пропуски) а так же привели все столбцы к тому типу, который они должны иметь.\n",
    "\n",
    "На этапе анализа мы актуализировали выборку до данных с 2013 года, узнали, что в среднем платформы живут 10 лет и их пик приходится на 5 год продаж, определили перспективные платформы (XOne и особенно PS4), узнали, что оценки пользователей в среднем не влияют на продажи игр, а оценки критиков влияют но слабо. Определили самый популярный жанр (Action) и самый прибыльный (Shooter).\n",
    "\n",
    "Если давать какие-то конкретные рекомендации отделу маркетинга, то в Северной Америке будут пользаваться спросом экшены, шутеры, спортивные и ролевые игры для XOne и PS4 рейтинов M и E. В Европе рынок достаточно сильно похож нв Американский, больший акцент стоит сделать на PS4 и добавить гонки в список потенциально прибыльных жанров. На пользовательские оценки внимание можно не обращать внимания, оценки критиков будут влиять на продажи, но неменого. В Японии ситуация другая - там в списке самых популярных приставок - 3DS, и уже потом PS4, PSV и WiiU, и для них корреляция с оценками пользователей и критиков выше, два самых популярных жанра - экшены и ролевые (также там любят файтинги), а рейтинг там свой, поэтому о нём мы говорить не можем.\n",
    "\n",
    "Наконец, мы проверили две гипотезы - что средние пользовательские рейтинги платформ Xbox One и PC одинаковые и что средние пользовательские рейтинги жанров Action и Sports разные, и ни одну из них не опровергли, так что скорее всего они соответствуют действительности."
   ]
  }
 ],
 "metadata": {
  "ExecuteTimeLog": [
   {
    "duration": 107,
    "start_time": "2023-02-28T10:16:40.622Z"
   },
   {
    "duration": 365,
    "start_time": "2023-02-28T10:17:50.318Z"
   },
   {
    "duration": 4,
    "start_time": "2023-02-28T10:18:01.758Z"
   },
   {
    "duration": 132,
    "start_time": "2023-02-28T10:18:13.854Z"
   },
   {
    "duration": 242,
    "start_time": "2023-02-28T10:18:46.701Z"
   },
   {
    "duration": 4,
    "start_time": "2023-02-28T10:18:56.658Z"
   },
   {
    "duration": 35,
    "start_time": "2023-02-28T10:19:09.736Z"
   },
   {
    "duration": 1049,
    "start_time": "2023-02-28T10:19:52.176Z"
   },
   {
    "duration": 5,
    "start_time": "2023-02-28T10:21:02.358Z"
   },
   {
    "duration": 9,
    "start_time": "2023-02-28T10:21:18.870Z"
   },
   {
    "duration": 7,
    "start_time": "2023-02-28T10:21:59.685Z"
   },
   {
    "duration": 15,
    "start_time": "2023-02-28T10:23:06.033Z"
   },
   {
    "duration": 24,
    "start_time": "2023-02-28T10:27:28.709Z"
   },
   {
    "duration": 8,
    "start_time": "2023-02-28T10:28:01.030Z"
   },
   {
    "duration": 106,
    "start_time": "2023-02-28T10:30:17.341Z"
   },
   {
    "duration": 6,
    "start_time": "2023-02-28T10:30:22.435Z"
   },
   {
    "duration": 7,
    "start_time": "2023-02-28T10:30:24.766Z"
   },
   {
    "duration": 16,
    "start_time": "2023-02-28T10:30:27.452Z"
   },
   {
    "duration": 9,
    "start_time": "2023-02-28T10:36:15.390Z"
   },
   {
    "duration": 8,
    "start_time": "2023-02-28T10:36:57.065Z"
   },
   {
    "duration": 11,
    "start_time": "2023-02-28T10:37:32.926Z"
   },
   {
    "duration": 63,
    "start_time": "2023-02-28T10:39:42.641Z"
   },
   {
    "duration": 31,
    "start_time": "2023-02-28T10:41:56.324Z"
   },
   {
    "duration": 64,
    "start_time": "2023-02-28T10:42:08.483Z"
   },
   {
    "duration": 2,
    "start_time": "2023-02-28T10:46:35.191Z"
   },
   {
    "duration": 64,
    "start_time": "2023-02-28T10:46:35.195Z"
   },
   {
    "duration": 29,
    "start_time": "2023-02-28T10:46:35.260Z"
   },
   {
    "duration": 655,
    "start_time": "2023-02-28T10:46:35.291Z"
   },
   {
    "duration": 5,
    "start_time": "2023-02-28T10:46:42.234Z"
   },
   {
    "duration": 14,
    "start_time": "2023-02-28T10:46:45.681Z"
   },
   {
    "duration": 7,
    "start_time": "2023-02-28T10:46:49.601Z"
   },
   {
    "duration": 9,
    "start_time": "2023-02-28T10:46:52.634Z"
   },
   {
    "duration": 10876,
    "start_time": "2023-02-28T10:47:00.768Z"
   },
   {
    "duration": 9,
    "start_time": "2023-02-28T10:47:31.146Z"
   },
   {
    "duration": 3,
    "start_time": "2023-02-28T10:50:55.000Z"
   },
   {
    "duration": 55,
    "start_time": "2023-02-28T10:50:55.005Z"
   },
   {
    "duration": 28,
    "start_time": "2023-02-28T10:50:55.062Z"
   },
   {
    "duration": 645,
    "start_time": "2023-02-28T10:50:55.091Z"
   },
   {
    "duration": 5,
    "start_time": "2023-02-28T10:50:55.738Z"
   },
   {
    "duration": 9,
    "start_time": "2023-02-28T10:50:55.744Z"
   },
   {
    "duration": 14,
    "start_time": "2023-02-28T10:50:55.754Z"
   },
   {
    "duration": 25,
    "start_time": "2023-02-28T10:50:55.770Z"
   },
   {
    "duration": 6,
    "start_time": "2023-02-28T10:50:55.796Z"
   },
   {
    "duration": 10977,
    "start_time": "2023-02-28T10:50:55.804Z"
   },
   {
    "duration": 10,
    "start_time": "2023-02-28T10:51:16.226Z"
   },
   {
    "duration": 2,
    "start_time": "2023-02-28T10:58:39.177Z"
   },
   {
    "duration": 4,
    "start_time": "2023-02-28T11:02:06.935Z"
   },
   {
    "duration": 5,
    "start_time": "2023-02-28T11:02:28.045Z"
   },
   {
    "duration": 31,
    "start_time": "2023-02-28T11:02:36.878Z"
   },
   {
    "duration": 137,
    "start_time": "2023-02-28T11:10:09.160Z"
   },
   {
    "duration": 181,
    "start_time": "2023-02-28T11:12:02.246Z"
   },
   {
    "duration": 169,
    "start_time": "2023-02-28T11:12:14.733Z"
   },
   {
    "duration": 9,
    "start_time": "2023-02-28T11:14:59.402Z"
   },
   {
    "duration": 15,
    "start_time": "2023-02-28T11:27:14.656Z"
   },
   {
    "duration": 21,
    "start_time": "2023-02-28T11:28:41.210Z"
   },
   {
    "duration": 13,
    "start_time": "2023-02-28T11:29:49.499Z"
   },
   {
    "duration": 19,
    "start_time": "2023-02-28T11:30:05.726Z"
   },
   {
    "duration": 16,
    "start_time": "2023-02-28T11:30:37.315Z"
   },
   {
    "duration": 16,
    "start_time": "2023-02-28T11:34:00.320Z"
   },
   {
    "duration": 5,
    "start_time": "2023-02-28T11:37:16.523Z"
   },
   {
    "duration": 6,
    "start_time": "2023-02-28T11:37:30.665Z"
   },
   {
    "duration": 5,
    "start_time": "2023-02-28T11:37:41.271Z"
   },
   {
    "duration": 5,
    "start_time": "2023-02-28T11:38:01.611Z"
   },
   {
    "duration": 11,
    "start_time": "2023-02-28T11:38:16.357Z"
   },
   {
    "duration": 10,
    "start_time": "2023-02-28T11:38:33.043Z"
   },
   {
    "duration": 7,
    "start_time": "2023-02-28T11:38:49.881Z"
   },
   {
    "duration": 3,
    "start_time": "2023-02-28T11:40:00.206Z"
   },
   {
    "duration": 6,
    "start_time": "2023-02-28T11:40:09.176Z"
   },
   {
    "duration": 4,
    "start_time": "2023-02-28T11:40:21.007Z"
   },
   {
    "duration": 97,
    "start_time": "2023-02-28T11:40:26.949Z"
   },
   {
    "duration": 152,
    "start_time": "2023-02-28T11:43:41.039Z"
   },
   {
    "duration": 31,
    "start_time": "2023-02-28T11:52:02.750Z"
   },
   {
    "duration": 618,
    "start_time": "2023-02-28T11:52:14.555Z"
   },
   {
    "duration": 59,
    "start_time": "2023-02-28T11:52:42.984Z"
   },
   {
    "duration": 492,
    "start_time": "2023-02-28T11:52:49.528Z"
   },
   {
    "duration": 10,
    "start_time": "2023-02-28T11:54:11.067Z"
   },
   {
    "duration": 17,
    "start_time": "2023-02-28T11:54:28.358Z"
   },
   {
    "duration": 29,
    "start_time": "2023-02-28T11:55:25.433Z"
   },
   {
    "duration": 9,
    "start_time": "2023-02-28T11:55:58.356Z"
   },
   {
    "duration": 28,
    "start_time": "2023-02-28T11:56:26.625Z"
   },
   {
    "duration": 21,
    "start_time": "2023-02-28T11:59:27.620Z"
   },
   {
    "duration": 19,
    "start_time": "2023-02-28T11:59:36.984Z"
   },
   {
    "duration": 459,
    "start_time": "2023-02-28T11:59:41.022Z"
   },
   {
    "duration": 43,
    "start_time": "2023-02-28T13:59:07.190Z"
   },
   {
    "duration": 363,
    "start_time": "2023-02-28T13:59:15.971Z"
   },
   {
    "duration": 108,
    "start_time": "2023-02-28T13:59:16.336Z"
   },
   {
    "duration": 38,
    "start_time": "2023-02-28T13:59:16.447Z"
   },
   {
    "duration": 1117,
    "start_time": "2023-02-28T13:59:16.486Z"
   },
   {
    "duration": 5,
    "start_time": "2023-02-28T13:59:17.605Z"
   },
   {
    "duration": 14,
    "start_time": "2023-02-28T13:59:17.612Z"
   },
   {
    "duration": 29,
    "start_time": "2023-02-28T13:59:17.628Z"
   },
   {
    "duration": 10,
    "start_time": "2023-02-28T13:59:17.659Z"
   },
   {
    "duration": 58,
    "start_time": "2023-02-28T13:59:17.670Z"
   },
   {
    "duration": 11066,
    "start_time": "2023-02-28T13:59:17.740Z"
   },
   {
    "duration": 5,
    "start_time": "2023-02-28T13:59:28.807Z"
   },
   {
    "duration": 206,
    "start_time": "2023-02-28T13:59:28.813Z"
   },
   {
    "duration": 1292,
    "start_time": "2023-02-28T13:59:29.020Z"
   },
   {
    "duration": 0,
    "start_time": "2023-02-28T13:59:30.314Z"
   },
   {
    "duration": 0,
    "start_time": "2023-02-28T13:59:30.315Z"
   },
   {
    "duration": 0,
    "start_time": "2023-02-28T13:59:30.316Z"
   },
   {
    "duration": 14,
    "start_time": "2023-02-28T13:59:57.076Z"
   },
   {
    "duration": 11,
    "start_time": "2023-02-28T14:00:19.620Z"
   },
   {
    "duration": 15,
    "start_time": "2023-02-28T14:00:34.753Z"
   },
   {
    "duration": 441,
    "start_time": "2023-02-28T14:01:19.477Z"
   },
   {
    "duration": 7,
    "start_time": "2023-02-28T14:01:51.980Z"
   },
   {
    "duration": 8,
    "start_time": "2023-02-28T14:02:45.132Z"
   },
   {
    "duration": 157,
    "start_time": "2023-02-28T14:02:56.718Z"
   },
   {
    "duration": 20,
    "start_time": "2023-02-28T14:03:14.457Z"
   },
   {
    "duration": 44,
    "start_time": "2023-02-28T14:33:45.081Z"
   },
   {
    "duration": 447,
    "start_time": "2023-03-01T19:42:58.377Z"
   },
   {
    "duration": 209,
    "start_time": "2023-03-01T19:42:58.827Z"
   },
   {
    "duration": 39,
    "start_time": "2023-03-01T19:42:59.038Z"
   },
   {
    "duration": 1229,
    "start_time": "2023-03-01T19:42:59.079Z"
   },
   {
    "duration": 6,
    "start_time": "2023-03-01T19:43:00.310Z"
   },
   {
    "duration": 37,
    "start_time": "2023-03-01T19:43:00.318Z"
   },
   {
    "duration": 28,
    "start_time": "2023-03-01T19:43:00.356Z"
   },
   {
    "duration": 17,
    "start_time": "2023-03-01T19:43:00.386Z"
   },
   {
    "duration": 18,
    "start_time": "2023-03-01T19:43:00.405Z"
   },
   {
    "duration": 13394,
    "start_time": "2023-03-01T19:43:00.425Z"
   },
   {
    "duration": 5,
    "start_time": "2023-03-01T19:43:13.821Z"
   },
   {
    "duration": 206,
    "start_time": "2023-03-01T19:43:13.828Z"
   },
   {
    "duration": 15,
    "start_time": "2023-03-01T19:43:14.036Z"
   },
   {
    "duration": 47,
    "start_time": "2023-03-01T19:43:14.054Z"
   },
   {
    "duration": 0,
    "start_time": "2023-03-01T19:43:14.103Z"
   },
   {
    "duration": 0,
    "start_time": "2023-03-01T19:43:14.105Z"
   },
   {
    "duration": 38,
    "start_time": "2023-03-01T19:45:16.253Z"
   },
   {
    "duration": 521,
    "start_time": "2023-03-01T19:45:30.655Z"
   },
   {
    "duration": 114,
    "start_time": "2023-03-01T19:45:51.561Z"
   },
   {
    "duration": 15,
    "start_time": "2023-03-01T19:47:00.702Z"
   },
   {
    "duration": 208,
    "start_time": "2023-03-01T19:47:27.390Z"
   },
   {
    "duration": 103,
    "start_time": "2023-03-01T19:47:43.381Z"
   },
   {
    "duration": 201,
    "start_time": "2023-03-01T19:47:48.116Z"
   },
   {
    "duration": 242,
    "start_time": "2023-03-01T19:48:08.476Z"
   },
   {
    "duration": 238,
    "start_time": "2023-03-01T19:48:17.356Z"
   },
   {
    "duration": 193,
    "start_time": "2023-03-01T19:48:23.146Z"
   },
   {
    "duration": 830,
    "start_time": "2023-03-01T19:49:13.529Z"
   },
   {
    "duration": 279,
    "start_time": "2023-03-01T19:49:22.293Z"
   },
   {
    "duration": 158,
    "start_time": "2023-03-01T19:50:24.762Z"
   },
   {
    "duration": 202,
    "start_time": "2023-03-01T19:50:28.962Z"
   },
   {
    "duration": 205,
    "start_time": "2023-03-01T19:51:14.794Z"
   },
   {
    "duration": 209,
    "start_time": "2023-03-01T19:51:20.115Z"
   },
   {
    "duration": 206,
    "start_time": "2023-03-01T19:51:36.994Z"
   },
   {
    "duration": 220,
    "start_time": "2023-03-01T19:51:48.628Z"
   },
   {
    "duration": 135,
    "start_time": "2023-03-01T19:55:44.922Z"
   },
   {
    "duration": 12,
    "start_time": "2023-03-01T19:58:10.100Z"
   },
   {
    "duration": 196,
    "start_time": "2023-03-01T19:58:55.472Z"
   },
   {
    "duration": 205,
    "start_time": "2023-03-01T19:59:12.590Z"
   },
   {
    "duration": 235,
    "start_time": "2023-03-01T19:59:24.093Z"
   },
   {
    "duration": 24,
    "start_time": "2023-03-01T20:00:42.206Z"
   },
   {
    "duration": 319,
    "start_time": "2023-03-01T20:00:56.128Z"
   },
   {
    "duration": 12,
    "start_time": "2023-03-01T20:01:25.618Z"
   },
   {
    "duration": 219,
    "start_time": "2023-03-01T20:01:45.943Z"
   },
   {
    "duration": 224,
    "start_time": "2023-03-01T20:01:56.230Z"
   },
   {
    "duration": 9,
    "start_time": "2023-03-01T20:05:40.366Z"
   },
   {
    "duration": 8,
    "start_time": "2023-03-01T20:18:42.378Z"
   },
   {
    "duration": 5,
    "start_time": "2023-03-01T20:18:46.170Z"
   },
   {
    "duration": 14,
    "start_time": "2023-03-01T20:18:47.346Z"
   },
   {
    "duration": 283,
    "start_time": "2023-03-01T20:19:56.619Z"
   },
   {
    "duration": 166,
    "start_time": "2023-03-01T20:21:04.452Z"
   },
   {
    "duration": 293,
    "start_time": "2023-03-01T20:21:12.265Z"
   },
   {
    "duration": 283,
    "start_time": "2023-03-01T20:22:40.169Z"
   },
   {
    "duration": 15,
    "start_time": "2023-03-01T20:27:50.038Z"
   },
   {
    "duration": 10,
    "start_time": "2023-03-01T20:29:15.944Z"
   },
   {
    "duration": 7,
    "start_time": "2023-03-01T20:29:22.541Z"
   },
   {
    "duration": 1671,
    "start_time": "2023-03-01T20:29:48.649Z"
   },
   {
    "duration": 13,
    "start_time": "2023-03-01T20:30:06.399Z"
   },
   {
    "duration": 8,
    "start_time": "2023-03-01T20:30:11.886Z"
   },
   {
    "duration": 282,
    "start_time": "2023-03-01T20:30:17.643Z"
   },
   {
    "duration": 10,
    "start_time": "2023-03-01T20:31:27.986Z"
   },
   {
    "duration": 30,
    "start_time": "2023-03-01T20:31:46.132Z"
   },
   {
    "duration": 343,
    "start_time": "2023-03-01T20:32:19.595Z"
   },
   {
    "duration": 7,
    "start_time": "2023-03-01T20:34:58.297Z"
   },
   {
    "duration": 14,
    "start_time": "2023-03-01T20:34:59.890Z"
   },
   {
    "duration": 331,
    "start_time": "2023-03-01T20:35:05.692Z"
   },
   {
    "duration": 6,
    "start_time": "2023-03-01T20:35:26.857Z"
   },
   {
    "duration": 21,
    "start_time": "2023-03-01T20:35:27.800Z"
   },
   {
    "duration": 395,
    "start_time": "2023-03-01T20:35:29.499Z"
   },
   {
    "duration": 27,
    "start_time": "2023-03-01T20:38:15.699Z"
   },
   {
    "duration": 267,
    "start_time": "2023-03-01T20:41:05.800Z"
   },
   {
    "duration": 263,
    "start_time": "2023-03-01T20:41:34.714Z"
   },
   {
    "duration": 82,
    "start_time": "2023-03-01T20:49:20.751Z"
   },
   {
    "duration": 297,
    "start_time": "2023-03-01T20:49:33.428Z"
   },
   {
    "duration": 28,
    "start_time": "2023-03-01T20:52:30.284Z"
   },
   {
    "duration": 25,
    "start_time": "2023-03-01T20:52:42.556Z"
   },
   {
    "duration": 6,
    "start_time": "2023-03-01T20:52:55.238Z"
   },
   {
    "duration": 296,
    "start_time": "2023-03-01T20:53:04.676Z"
   },
   {
    "duration": 6,
    "start_time": "2023-03-01T21:00:30.858Z"
   },
   {
    "duration": 282,
    "start_time": "2023-03-01T21:00:33.069Z"
   },
   {
    "duration": 258,
    "start_time": "2023-03-01T21:06:53.806Z"
   },
   {
    "duration": 208,
    "start_time": "2023-03-01T21:08:36.199Z"
   },
   {
    "duration": 258,
    "start_time": "2023-03-01T21:15:01.238Z"
   },
   {
    "duration": 298,
    "start_time": "2023-03-01T21:15:41.511Z"
   },
   {
    "duration": 458,
    "start_time": "2023-03-01T21:54:59.290Z"
   },
   {
    "duration": 54,
    "start_time": "2023-03-01T21:54:59.750Z"
   },
   {
    "duration": 39,
    "start_time": "2023-03-01T21:54:59.806Z"
   },
   {
    "duration": 961,
    "start_time": "2023-03-01T21:54:59.847Z"
   },
   {
    "duration": 5,
    "start_time": "2023-03-01T21:55:00.811Z"
   },
   {
    "duration": 37,
    "start_time": "2023-03-01T21:55:00.818Z"
   },
   {
    "duration": 51,
    "start_time": "2023-03-01T21:55:00.857Z"
   },
   {
    "duration": 36,
    "start_time": "2023-03-01T21:55:00.910Z"
   },
   {
    "duration": 77,
    "start_time": "2023-03-01T21:55:00.949Z"
   },
   {
    "duration": 2598,
    "start_time": "2023-03-01T21:55:01.029Z"
   },
   {
    "duration": 0,
    "start_time": "2023-03-01T21:55:03.629Z"
   },
   {
    "duration": 0,
    "start_time": "2023-03-01T21:55:03.630Z"
   },
   {
    "duration": 0,
    "start_time": "2023-03-01T21:55:03.631Z"
   },
   {
    "duration": 0,
    "start_time": "2023-03-01T21:55:03.632Z"
   },
   {
    "duration": 0,
    "start_time": "2023-03-01T21:55:03.633Z"
   },
   {
    "duration": 0,
    "start_time": "2023-03-01T21:55:03.634Z"
   },
   {
    "duration": 0,
    "start_time": "2023-03-01T21:55:03.635Z"
   },
   {
    "duration": 0,
    "start_time": "2023-03-01T21:55:03.637Z"
   },
   {
    "duration": 0,
    "start_time": "2023-03-01T21:55:03.638Z"
   },
   {
    "duration": 785,
    "start_time": "2023-03-01T21:55:34.923Z"
   },
   {
    "duration": 757,
    "start_time": "2023-03-01T21:55:43.510Z"
   },
   {
    "duration": 3,
    "start_time": "2023-03-01T21:55:57.161Z"
   },
   {
    "duration": 57,
    "start_time": "2023-03-01T21:55:57.165Z"
   },
   {
    "duration": 31,
    "start_time": "2023-03-01T21:55:57.224Z"
   },
   {
    "duration": 761,
    "start_time": "2023-03-01T21:55:57.257Z"
   },
   {
    "duration": 5,
    "start_time": "2023-03-01T21:55:58.020Z"
   },
   {
    "duration": 17,
    "start_time": "2023-03-01T21:55:58.027Z"
   },
   {
    "duration": 11,
    "start_time": "2023-03-01T21:55:58.046Z"
   },
   {
    "duration": 6,
    "start_time": "2023-03-01T21:55:58.059Z"
   },
   {
    "duration": 40,
    "start_time": "2023-03-01T21:55:58.066Z"
   },
   {
    "duration": 1556,
    "start_time": "2023-03-01T21:55:58.107Z"
   },
   {
    "duration": 0,
    "start_time": "2023-03-01T21:55:59.665Z"
   },
   {
    "duration": 0,
    "start_time": "2023-03-01T21:55:59.667Z"
   },
   {
    "duration": 0,
    "start_time": "2023-03-01T21:55:59.668Z"
   },
   {
    "duration": 0,
    "start_time": "2023-03-01T21:55:59.669Z"
   },
   {
    "duration": 0,
    "start_time": "2023-03-01T21:55:59.671Z"
   },
   {
    "duration": 0,
    "start_time": "2023-03-01T21:55:59.672Z"
   },
   {
    "duration": 0,
    "start_time": "2023-03-01T21:55:59.674Z"
   },
   {
    "duration": 0,
    "start_time": "2023-03-01T21:55:59.676Z"
   },
   {
    "duration": 0,
    "start_time": "2023-03-01T21:55:59.678Z"
   },
   {
    "duration": 5,
    "start_time": "2023-03-01T22:04:40.017Z"
   },
   {
    "duration": 198,
    "start_time": "2023-03-01T22:04:40.024Z"
   },
   {
    "duration": 17,
    "start_time": "2023-03-01T22:04:40.224Z"
   },
   {
    "duration": 211,
    "start_time": "2023-03-01T22:04:40.243Z"
   },
   {
    "duration": 4,
    "start_time": "2023-03-01T22:04:40.457Z"
   },
   {
    "duration": 17,
    "start_time": "2023-03-01T22:04:40.463Z"
   },
   {
    "duration": 313,
    "start_time": "2023-03-01T22:04:40.482Z"
   },
   {
    "duration": 259,
    "start_time": "2023-03-01T22:04:40.798Z"
   },
   {
    "duration": 227,
    "start_time": "2023-03-01T22:04:41.059Z"
   },
   {
    "duration": 6,
    "start_time": "2023-03-01T22:14:34.218Z"
   },
   {
    "duration": 17,
    "start_time": "2023-03-01T22:14:35.635Z"
   },
   {
    "duration": 207,
    "start_time": "2023-03-01T22:14:59.617Z"
   },
   {
    "duration": 6,
    "start_time": "2023-03-01T22:26:39.331Z"
   },
   {
    "duration": 14,
    "start_time": "2023-03-01T22:26:42.452Z"
   },
   {
    "duration": 188,
    "start_time": "2023-03-01T22:41:40.704Z"
   },
   {
    "duration": 13,
    "start_time": "2023-03-01T22:58:02.410Z"
   },
   {
    "duration": 5,
    "start_time": "2023-03-01T22:58:20.947Z"
   },
   {
    "duration": 6,
    "start_time": "2023-03-01T22:58:44.970Z"
   },
   {
    "duration": 8,
    "start_time": "2023-03-01T22:59:37.377Z"
   },
   {
    "duration": 9,
    "start_time": "2023-03-01T22:59:52.986Z"
   },
   {
    "duration": 214,
    "start_time": "2023-03-01T23:02:56.570Z"
   },
   {
    "duration": 130,
    "start_time": "2023-03-01T23:03:14.869Z"
   },
   {
    "duration": 152,
    "start_time": "2023-03-01T23:04:04.795Z"
   },
   {
    "duration": 7,
    "start_time": "2023-03-01T23:04:20.868Z"
   },
   {
    "duration": 9,
    "start_time": "2023-03-01T23:04:29.162Z"
   },
   {
    "duration": 10,
    "start_time": "2023-03-01T23:04:34.221Z"
   },
   {
    "duration": 8,
    "start_time": "2023-03-01T23:04:36.045Z"
   },
   {
    "duration": 153,
    "start_time": "2023-03-01T23:04:37.594Z"
   },
   {
    "duration": 11,
    "start_time": "2023-03-01T23:04:50.515Z"
   },
   {
    "duration": 8,
    "start_time": "2023-03-01T23:04:51.023Z"
   },
   {
    "duration": 136,
    "start_time": "2023-03-01T23:05:18.361Z"
   },
   {
    "duration": 134,
    "start_time": "2023-03-01T23:06:31.333Z"
   },
   {
    "duration": 9,
    "start_time": "2023-03-01T23:06:49.126Z"
   },
   {
    "duration": 140,
    "start_time": "2023-03-01T23:07:06.165Z"
   },
   {
    "duration": 9,
    "start_time": "2023-03-01T23:07:09.807Z"
   },
   {
    "duration": 8,
    "start_time": "2023-03-01T23:13:05.624Z"
   },
   {
    "duration": 17,
    "start_time": "2023-03-01T23:13:14.393Z"
   },
   {
    "duration": 226,
    "start_time": "2023-03-01T23:13:16.701Z"
   },
   {
    "duration": 8,
    "start_time": "2023-03-01T23:13:49.006Z"
   },
   {
    "duration": 14,
    "start_time": "2023-03-01T23:13:52.617Z"
   },
   {
    "duration": 198,
    "start_time": "2023-03-01T23:13:55.167Z"
   },
   {
    "duration": 2,
    "start_time": "2023-03-01T23:15:06.364Z"
   },
   {
    "duration": 73,
    "start_time": "2023-03-01T23:15:06.368Z"
   },
   {
    "duration": 30,
    "start_time": "2023-03-01T23:15:06.442Z"
   },
   {
    "duration": 715,
    "start_time": "2023-03-01T23:15:06.473Z"
   },
   {
    "duration": 5,
    "start_time": "2023-03-01T23:15:07.190Z"
   },
   {
    "duration": 17,
    "start_time": "2023-03-01T23:15:07.196Z"
   },
   {
    "duration": 10,
    "start_time": "2023-03-01T23:15:07.215Z"
   },
   {
    "duration": 6,
    "start_time": "2023-03-01T23:15:07.227Z"
   },
   {
    "duration": 18,
    "start_time": "2023-03-01T23:15:07.235Z"
   },
   {
    "duration": 1510,
    "start_time": "2023-03-01T23:15:07.254Z"
   },
   {
    "duration": 0,
    "start_time": "2023-03-01T23:15:08.767Z"
   },
   {
    "duration": 0,
    "start_time": "2023-03-01T23:15:08.768Z"
   },
   {
    "duration": 0,
    "start_time": "2023-03-01T23:15:08.769Z"
   },
   {
    "duration": 0,
    "start_time": "2023-03-01T23:15:08.770Z"
   },
   {
    "duration": 0,
    "start_time": "2023-03-01T23:15:08.771Z"
   },
   {
    "duration": 0,
    "start_time": "2023-03-01T23:15:08.772Z"
   },
   {
    "duration": 0,
    "start_time": "2023-03-01T23:15:08.773Z"
   },
   {
    "duration": 0,
    "start_time": "2023-03-01T23:15:08.774Z"
   },
   {
    "duration": 1,
    "start_time": "2023-03-01T23:15:08.774Z"
   },
   {
    "duration": 0,
    "start_time": "2023-03-01T23:15:08.775Z"
   },
   {
    "duration": 5,
    "start_time": "2023-03-01T23:15:27.640Z"
   },
   {
    "duration": 5,
    "start_time": "2023-03-01T23:15:30.633Z"
   },
   {
    "duration": 181,
    "start_time": "2023-03-01T23:15:30.698Z"
   },
   {
    "duration": 7,
    "start_time": "2023-03-01T23:15:30.881Z"
   },
   {
    "duration": 15,
    "start_time": "2023-03-01T23:15:32.255Z"
   },
   {
    "duration": 204,
    "start_time": "2023-03-01T23:15:32.272Z"
   },
   {
    "duration": 6,
    "start_time": "2023-03-01T23:15:32.477Z"
   },
   {
    "duration": 24,
    "start_time": "2023-03-01T23:15:32.484Z"
   },
   {
    "duration": 270,
    "start_time": "2023-03-01T23:15:32.510Z"
   },
   {
    "duration": 268,
    "start_time": "2023-03-01T23:15:32.782Z"
   },
   {
    "duration": 214,
    "start_time": "2023-03-01T23:15:33.051Z"
   },
   {
    "duration": 177,
    "start_time": "2023-03-01T23:17:24.741Z"
   },
   {
    "duration": 7,
    "start_time": "2023-03-01T23:17:24.920Z"
   },
   {
    "duration": 19,
    "start_time": "2023-03-01T23:17:24.928Z"
   },
   {
    "duration": 221,
    "start_time": "2023-03-01T23:17:24.950Z"
   },
   {
    "duration": 6,
    "start_time": "2023-03-01T23:17:25.172Z"
   },
   {
    "duration": 28,
    "start_time": "2023-03-01T23:17:25.180Z"
   },
   {
    "duration": 369,
    "start_time": "2023-03-01T23:17:25.210Z"
   },
   {
    "duration": 251,
    "start_time": "2023-03-01T23:17:25.581Z"
   },
   {
    "duration": 222,
    "start_time": "2023-03-01T23:17:25.834Z"
   },
   {
    "duration": 16,
    "start_time": "2023-03-01T23:22:35.510Z"
   },
   {
    "duration": 311,
    "start_time": "2023-03-01T23:22:58.003Z"
   },
   {
    "duration": 321,
    "start_time": "2023-03-01T23:23:41.166Z"
   },
   {
    "duration": 156,
    "start_time": "2023-03-01T23:24:20.147Z"
   },
   {
    "duration": 149,
    "start_time": "2023-03-01T23:24:28.707Z"
   },
   {
    "duration": 71,
    "start_time": "2023-03-01T23:24:54.163Z"
   },
   {
    "duration": 158,
    "start_time": "2023-03-01T23:25:00.003Z"
   },
   {
    "duration": 171,
    "start_time": "2023-03-01T23:25:51.498Z"
   },
   {
    "duration": 156,
    "start_time": "2023-03-01T23:26:22.834Z"
   },
   {
    "duration": 318,
    "start_time": "2023-03-01T23:26:32.366Z"
   },
   {
    "duration": 243,
    "start_time": "2023-03-01T23:26:47.429Z"
   },
   {
    "duration": 12,
    "start_time": "2023-03-01T23:38:54.817Z"
   },
   {
    "duration": 152,
    "start_time": "2023-03-01T23:45:07.233Z"
   },
   {
    "duration": 1199,
    "start_time": "2023-03-01T23:45:39.666Z"
   },
   {
    "duration": 1147,
    "start_time": "2023-03-01T23:46:11.816Z"
   },
   {
    "duration": 14,
    "start_time": "2023-03-01T23:46:42.949Z"
   },
   {
    "duration": 159,
    "start_time": "2023-03-01T23:47:10.000Z"
   },
   {
    "duration": 43,
    "start_time": "2023-03-02T19:38:43.956Z"
   },
   {
    "duration": 442,
    "start_time": "2023-03-02T19:38:49.773Z"
   },
   {
    "duration": 93,
    "start_time": "2023-03-02T19:38:50.217Z"
   },
   {
    "duration": 36,
    "start_time": "2023-03-02T19:38:50.311Z"
   },
   {
    "duration": 1049,
    "start_time": "2023-03-02T19:38:50.349Z"
   },
   {
    "duration": 5,
    "start_time": "2023-03-02T19:38:51.400Z"
   },
   {
    "duration": 14,
    "start_time": "2023-03-02T19:38:51.407Z"
   },
   {
    "duration": 28,
    "start_time": "2023-03-02T19:38:51.422Z"
   },
   {
    "duration": 6,
    "start_time": "2023-03-02T19:38:51.452Z"
   },
   {
    "duration": 18,
    "start_time": "2023-03-02T19:38:51.459Z"
   },
   {
    "duration": 9820,
    "start_time": "2023-03-02T19:38:51.479Z"
   },
   {
    "duration": 4,
    "start_time": "2023-03-02T19:39:01.301Z"
   },
   {
    "duration": 34,
    "start_time": "2023-03-02T19:39:01.306Z"
   },
   {
    "duration": 241,
    "start_time": "2023-03-02T19:39:01.341Z"
   },
   {
    "duration": 8,
    "start_time": "2023-03-02T19:39:01.584Z"
   },
   {
    "duration": 66,
    "start_time": "2023-03-02T19:39:01.593Z"
   },
   {
    "duration": 217,
    "start_time": "2023-03-02T19:39:01.660Z"
   },
   {
    "duration": 5,
    "start_time": "2023-03-02T19:39:01.879Z"
   },
   {
    "duration": 370,
    "start_time": "2023-03-02T19:39:01.886Z"
   },
   {
    "duration": 235,
    "start_time": "2023-03-02T19:39:02.258Z"
   },
   {
    "duration": 226,
    "start_time": "2023-03-02T19:39:02.495Z"
   },
   {
    "duration": 161,
    "start_time": "2023-03-02T19:39:02.723Z"
   },
   {
    "duration": 169,
    "start_time": "2023-03-02T19:39:02.886Z"
   },
   {
    "duration": 10,
    "start_time": "2023-03-02T19:40:47.196Z"
   },
   {
    "duration": 244,
    "start_time": "2023-03-02T19:43:13.509Z"
   },
   {
    "duration": 278,
    "start_time": "2023-03-02T19:43:17.624Z"
   },
   {
    "duration": 341,
    "start_time": "2023-03-02T19:44:59.113Z"
   },
   {
    "duration": 21,
    "start_time": "2023-03-02T19:53:37.832Z"
   },
   {
    "duration": 39,
    "start_time": "2023-03-02T19:54:03.568Z"
   },
   {
    "duration": 7,
    "start_time": "2023-03-02T19:54:09.093Z"
   },
   {
    "duration": 8,
    "start_time": "2023-03-02T19:54:14.033Z"
   },
   {
    "duration": 21,
    "start_time": "2023-03-02T19:54:31.926Z"
   },
   {
    "duration": 27,
    "start_time": "2023-03-02T19:56:27.374Z"
   },
   {
    "duration": 24,
    "start_time": "2023-03-02T19:57:01.574Z"
   },
   {
    "duration": 41,
    "start_time": "2023-03-02T19:57:37.166Z"
   },
   {
    "duration": 172,
    "start_time": "2023-03-02T20:01:47.057Z"
   },
   {
    "duration": 181,
    "start_time": "2023-03-02T20:01:52.589Z"
   },
   {
    "duration": 12,
    "start_time": "2023-03-02T20:23:24.408Z"
   },
   {
    "duration": 10,
    "start_time": "2023-03-02T20:23:30.931Z"
   },
   {
    "duration": 9,
    "start_time": "2023-03-02T20:25:24.974Z"
   },
   {
    "duration": 9,
    "start_time": "2023-03-02T20:25:59.950Z"
   },
   {
    "duration": 6,
    "start_time": "2023-03-02T20:26:11.492Z"
   },
   {
    "duration": 10,
    "start_time": "2023-03-02T20:26:54.810Z"
   },
   {
    "duration": 9,
    "start_time": "2023-03-02T20:28:37.528Z"
   },
   {
    "duration": 15,
    "start_time": "2023-03-02T20:29:45.313Z"
   },
   {
    "duration": 12,
    "start_time": "2023-03-02T20:29:49.527Z"
   },
   {
    "duration": 9,
    "start_time": "2023-03-02T20:29:54.378Z"
   },
   {
    "duration": 10,
    "start_time": "2023-03-02T20:30:09.056Z"
   },
   {
    "duration": 8,
    "start_time": "2023-03-02T20:36:14.586Z"
   },
   {
    "duration": 3,
    "start_time": "2023-03-02T20:36:21.725Z"
   },
   {
    "duration": 33,
    "start_time": "2023-03-02T20:36:27.519Z"
   },
   {
    "duration": 9,
    "start_time": "2023-03-02T20:36:45.087Z"
   },
   {
    "duration": 9,
    "start_time": "2023-03-02T20:37:51.236Z"
   },
   {
    "duration": 9,
    "start_time": "2023-03-02T20:38:04.360Z"
   },
   {
    "duration": 143,
    "start_time": "2023-03-02T20:39:56.378Z"
   },
   {
    "duration": 279,
    "start_time": "2023-03-02T20:40:10.842Z"
   },
   {
    "duration": 284,
    "start_time": "2023-03-02T20:40:36.046Z"
   },
   {
    "duration": 276,
    "start_time": "2023-03-02T20:40:42.362Z"
   },
   {
    "duration": 270,
    "start_time": "2023-03-02T20:40:49.026Z"
   },
   {
    "duration": 3,
    "start_time": "2023-03-02T20:41:26.759Z"
   },
   {
    "duration": 60,
    "start_time": "2023-03-02T20:41:26.764Z"
   },
   {
    "duration": 38,
    "start_time": "2023-03-02T20:41:26.827Z"
   },
   {
    "duration": 657,
    "start_time": "2023-03-02T20:41:26.867Z"
   },
   {
    "duration": 5,
    "start_time": "2023-03-02T20:41:27.526Z"
   },
   {
    "duration": 21,
    "start_time": "2023-03-02T20:41:27.532Z"
   },
   {
    "duration": 10,
    "start_time": "2023-03-02T20:41:27.554Z"
   },
   {
    "duration": 6,
    "start_time": "2023-03-02T20:41:27.566Z"
   },
   {
    "duration": 16,
    "start_time": "2023-03-02T20:41:27.573Z"
   },
   {
    "duration": 4,
    "start_time": "2023-03-02T20:41:27.591Z"
   },
   {
    "duration": 11909,
    "start_time": "2023-03-02T20:41:27.597Z"
   },
   {
    "duration": 5,
    "start_time": "2023-03-02T20:41:39.507Z"
   },
   {
    "duration": 12,
    "start_time": "2023-03-02T20:41:39.514Z"
   },
   {
    "duration": 179,
    "start_time": "2023-03-02T20:41:39.527Z"
   },
   {
    "duration": 7,
    "start_time": "2023-03-02T20:41:39.708Z"
   },
   {
    "duration": 21,
    "start_time": "2023-03-02T20:41:39.716Z"
   },
   {
    "duration": 204,
    "start_time": "2023-03-02T20:41:39.738Z"
   },
   {
    "duration": 6,
    "start_time": "2023-03-02T20:41:39.948Z"
   },
   {
    "duration": 283,
    "start_time": "2023-03-02T20:41:39.955Z"
   },
   {
    "duration": 244,
    "start_time": "2023-03-02T20:41:40.239Z"
   },
   {
    "duration": 222,
    "start_time": "2023-03-02T20:41:40.485Z"
   },
   {
    "duration": 281,
    "start_time": "2023-03-02T20:41:40.708Z"
   },
   {
    "duration": 171,
    "start_time": "2023-03-02T20:41:40.990Z"
   },
   {
    "duration": 190,
    "start_time": "2023-03-02T20:41:41.163Z"
   },
   {
    "duration": 28,
    "start_time": "2023-03-02T20:41:41.355Z"
   },
   {
    "duration": 3,
    "start_time": "2023-03-02T20:51:04.519Z"
   },
   {
    "duration": 54,
    "start_time": "2023-03-02T20:51:04.524Z"
   },
   {
    "duration": 30,
    "start_time": "2023-03-02T20:51:04.658Z"
   },
   {
    "duration": 770,
    "start_time": "2023-03-02T20:51:04.690Z"
   },
   {
    "duration": 5,
    "start_time": "2023-03-02T20:51:05.461Z"
   },
   {
    "duration": 14,
    "start_time": "2023-03-02T20:51:05.468Z"
   },
   {
    "duration": 17,
    "start_time": "2023-03-02T20:51:05.484Z"
   },
   {
    "duration": 9,
    "start_time": "2023-03-02T20:51:05.502Z"
   },
   {
    "duration": 9,
    "start_time": "2023-03-02T20:51:05.513Z"
   },
   {
    "duration": 17,
    "start_time": "2023-03-02T20:51:05.523Z"
   },
   {
    "duration": 4,
    "start_time": "2023-03-02T20:51:05.549Z"
   },
   {
    "duration": 11135,
    "start_time": "2023-03-02T20:51:05.555Z"
   },
   {
    "duration": 5,
    "start_time": "2023-03-02T20:51:16.691Z"
   },
   {
    "duration": 11,
    "start_time": "2023-03-02T20:51:16.697Z"
   },
   {
    "duration": 190,
    "start_time": "2023-03-02T20:51:16.711Z"
   },
   {
    "duration": 7,
    "start_time": "2023-03-02T20:51:16.903Z"
   },
   {
    "duration": 16,
    "start_time": "2023-03-02T20:51:16.912Z"
   },
   {
    "duration": 221,
    "start_time": "2023-03-02T20:51:16.930Z"
   },
   {
    "duration": 5,
    "start_time": "2023-03-02T20:51:17.153Z"
   },
   {
    "duration": 294,
    "start_time": "2023-03-02T20:51:17.160Z"
   },
   {
    "duration": 264,
    "start_time": "2023-03-02T20:51:17.455Z"
   },
   {
    "duration": 244,
    "start_time": "2023-03-02T20:51:17.721Z"
   },
   {
    "duration": 299,
    "start_time": "2023-03-02T20:51:17.967Z"
   },
   {
    "duration": 183,
    "start_time": "2023-03-02T20:51:18.268Z"
   },
   {
    "duration": 190,
    "start_time": "2023-03-02T20:51:18.453Z"
   },
   {
    "duration": 30,
    "start_time": "2023-03-02T20:51:18.644Z"
   },
   {
    "duration": 8,
    "start_time": "2023-03-02T20:53:43.448Z"
   },
   {
    "duration": 2,
    "start_time": "2023-03-02T20:53:48.976Z"
   },
   {
    "duration": 56,
    "start_time": "2023-03-02T20:53:48.981Z"
   },
   {
    "duration": 34,
    "start_time": "2023-03-02T20:53:49.039Z"
   },
   {
    "duration": 788,
    "start_time": "2023-03-02T20:53:49.076Z"
   },
   {
    "duration": 5,
    "start_time": "2023-03-02T20:53:49.867Z"
   },
   {
    "duration": 17,
    "start_time": "2023-03-02T20:53:49.874Z"
   },
   {
    "duration": 16,
    "start_time": "2023-03-02T20:53:49.893Z"
   },
   {
    "duration": 10,
    "start_time": "2023-03-02T20:53:49.911Z"
   },
   {
    "duration": 32,
    "start_time": "2023-03-02T20:53:49.922Z"
   },
   {
    "duration": 16,
    "start_time": "2023-03-02T20:53:49.956Z"
   },
   {
    "duration": 6,
    "start_time": "2023-03-02T20:53:49.975Z"
   },
   {
    "duration": 10885,
    "start_time": "2023-03-02T20:53:49.983Z"
   },
   {
    "duration": 5,
    "start_time": "2023-03-02T20:54:00.870Z"
   },
   {
    "duration": 23,
    "start_time": "2023-03-02T20:54:00.876Z"
   },
   {
    "duration": 207,
    "start_time": "2023-03-02T20:54:00.900Z"
   },
   {
    "duration": 8,
    "start_time": "2023-03-02T20:54:01.109Z"
   },
   {
    "duration": 34,
    "start_time": "2023-03-02T20:54:01.119Z"
   },
   {
    "duration": 224,
    "start_time": "2023-03-02T20:54:01.155Z"
   },
   {
    "duration": 8,
    "start_time": "2023-03-02T20:54:01.381Z"
   },
   {
    "duration": 299,
    "start_time": "2023-03-02T20:54:01.391Z"
   },
   {
    "duration": 251,
    "start_time": "2023-03-02T20:54:01.692Z"
   },
   {
    "duration": 204,
    "start_time": "2023-03-02T20:54:01.944Z"
   },
   {
    "duration": 288,
    "start_time": "2023-03-02T20:54:02.150Z"
   },
   {
    "duration": 161,
    "start_time": "2023-03-02T20:54:02.440Z"
   },
   {
    "duration": 185,
    "start_time": "2023-03-02T20:54:02.602Z"
   },
   {
    "duration": 25,
    "start_time": "2023-03-02T20:54:02.789Z"
   },
   {
    "duration": 9,
    "start_time": "2023-03-02T20:54:54.225Z"
   },
   {
    "duration": 8,
    "start_time": "2023-03-02T20:56:00.965Z"
   },
   {
    "duration": 3,
    "start_time": "2023-03-02T20:56:06.674Z"
   },
   {
    "duration": 59,
    "start_time": "2023-03-02T20:56:06.679Z"
   },
   {
    "duration": 29,
    "start_time": "2023-03-02T20:56:06.740Z"
   },
   {
    "duration": 737,
    "start_time": "2023-03-02T20:56:06.770Z"
   },
   {
    "duration": 5,
    "start_time": "2023-03-02T20:56:07.510Z"
   },
   {
    "duration": 12,
    "start_time": "2023-03-02T20:56:07.517Z"
   },
   {
    "duration": 31,
    "start_time": "2023-03-02T20:56:07.530Z"
   },
   {
    "duration": 12,
    "start_time": "2023-03-02T20:56:07.563Z"
   },
   {
    "duration": 9,
    "start_time": "2023-03-02T20:56:07.577Z"
   },
   {
    "duration": 19,
    "start_time": "2023-03-02T20:56:07.587Z"
   },
   {
    "duration": 6,
    "start_time": "2023-03-02T20:56:07.609Z"
   },
   {
    "duration": 10109,
    "start_time": "2023-03-02T20:56:07.616Z"
   },
   {
    "duration": 4,
    "start_time": "2023-03-02T20:56:17.726Z"
   },
   {
    "duration": 19,
    "start_time": "2023-03-02T20:56:17.732Z"
   },
   {
    "duration": 5,
    "start_time": "2023-03-02T20:56:17.752Z"
   },
   {
    "duration": 195,
    "start_time": "2023-03-02T20:56:17.758Z"
   },
   {
    "duration": 7,
    "start_time": "2023-03-02T20:56:17.955Z"
   },
   {
    "duration": 16,
    "start_time": "2023-03-02T20:56:17.964Z"
   },
   {
    "duration": 235,
    "start_time": "2023-03-02T20:56:17.982Z"
   },
   {
    "duration": 5,
    "start_time": "2023-03-02T20:56:18.219Z"
   },
   {
    "duration": 310,
    "start_time": "2023-03-02T20:56:18.225Z"
   },
   {
    "duration": 261,
    "start_time": "2023-03-02T20:56:18.537Z"
   },
   {
    "duration": 221,
    "start_time": "2023-03-02T20:56:18.800Z"
   },
   {
    "duration": 302,
    "start_time": "2023-03-02T20:56:19.023Z"
   },
   {
    "duration": 194,
    "start_time": "2023-03-02T20:56:19.327Z"
   },
   {
    "duration": 197,
    "start_time": "2023-03-02T20:56:19.523Z"
   },
   {
    "duration": 37,
    "start_time": "2023-03-02T20:56:19.722Z"
   },
   {
    "duration": 48,
    "start_time": "2023-03-02T20:57:29.172Z"
   },
   {
    "duration": 199,
    "start_time": "2023-03-02T20:57:33.843Z"
   },
   {
    "duration": 331,
    "start_time": "2023-03-02T20:58:33.375Z"
   },
   {
    "duration": 276,
    "start_time": "2023-03-02T20:59:24.413Z"
   },
   {
    "duration": 415,
    "start_time": "2023-03-02T21:02:14.218Z"
   },
   {
    "duration": 269,
    "start_time": "2023-03-02T21:02:22.982Z"
   },
   {
    "duration": 1456,
    "start_time": "2023-03-02T21:03:56.927Z"
   },
   {
    "duration": 549,
    "start_time": "2023-03-02T21:05:16.151Z"
   },
   {
    "duration": 298,
    "start_time": "2023-03-02T21:09:32.281Z"
   },
   {
    "duration": 294,
    "start_time": "2023-03-02T21:10:30.149Z"
   },
   {
    "duration": 409,
    "start_time": "2023-03-02T21:12:26.790Z"
   },
   {
    "duration": 322,
    "start_time": "2023-03-02T21:13:02.548Z"
   },
   {
    "duration": 294,
    "start_time": "2023-03-02T21:13:23.860Z"
   },
   {
    "duration": 296,
    "start_time": "2023-03-02T21:14:27.417Z"
   },
   {
    "duration": 354,
    "start_time": "2023-03-02T21:14:36.150Z"
   },
   {
    "duration": 27,
    "start_time": "2023-03-02T21:21:05.708Z"
   },
   {
    "duration": 35,
    "start_time": "2023-03-02T21:21:32.582Z"
   },
   {
    "duration": 33,
    "start_time": "2023-03-02T21:21:54.764Z"
   },
   {
    "duration": 54,
    "start_time": "2023-03-02T21:23:23.175Z"
   },
   {
    "duration": 51,
    "start_time": "2023-03-02T21:23:30.190Z"
   },
   {
    "duration": 34,
    "start_time": "2023-03-02T21:24:00.976Z"
   },
   {
    "duration": 32,
    "start_time": "2023-03-02T21:24:39.207Z"
   },
   {
    "duration": 35,
    "start_time": "2023-03-02T21:24:47.917Z"
   },
   {
    "duration": 34,
    "start_time": "2023-03-02T21:26:28.278Z"
   },
   {
    "duration": 33,
    "start_time": "2023-03-02T21:26:52.529Z"
   },
   {
    "duration": 34,
    "start_time": "2023-03-02T21:27:06.696Z"
   },
   {
    "duration": 37,
    "start_time": "2023-03-02T21:28:52.798Z"
   },
   {
    "duration": 37,
    "start_time": "2023-03-02T21:29:24.737Z"
   },
   {
    "duration": 39,
    "start_time": "2023-03-02T21:29:59.459Z"
   },
   {
    "duration": 44,
    "start_time": "2023-03-02T21:30:14.040Z"
   },
   {
    "duration": 696,
    "start_time": "2023-03-02T21:51:36.269Z"
   },
   {
    "duration": 110,
    "start_time": "2023-03-02T21:51:49.904Z"
   },
   {
    "duration": 132,
    "start_time": "2023-03-02T21:52:10.730Z"
   },
   {
    "duration": 263,
    "start_time": "2023-03-02T21:52:40.376Z"
   },
   {
    "duration": 233,
    "start_time": "2023-03-02T21:53:47.531Z"
   },
   {
    "duration": 365,
    "start_time": "2023-03-02T22:02:15.301Z"
   },
   {
    "duration": 16,
    "start_time": "2023-03-02T22:03:23.351Z"
   },
   {
    "duration": 17,
    "start_time": "2023-03-02T22:03:33.282Z"
   },
   {
    "duration": 371,
    "start_time": "2023-03-02T22:03:51.263Z"
   },
   {
    "duration": 496,
    "start_time": "2023-03-02T22:04:05.987Z"
   },
   {
    "duration": 36,
    "start_time": "2023-03-02T22:05:07.215Z"
   },
   {
    "duration": 361,
    "start_time": "2023-03-02T22:06:17.217Z"
   },
   {
    "duration": 353,
    "start_time": "2023-03-02T22:06:20.921Z"
   },
   {
    "duration": 334,
    "start_time": "2023-03-02T22:06:23.933Z"
   },
   {
    "duration": 364,
    "start_time": "2023-03-02T22:30:16.411Z"
   },
   {
    "duration": 500,
    "start_time": "2023-03-02T22:30:19.252Z"
   },
   {
    "duration": 336,
    "start_time": "2023-03-02T22:30:22.698Z"
   },
   {
    "duration": 354,
    "start_time": "2023-03-02T22:46:23.117Z"
   },
   {
    "duration": 5,
    "start_time": "2023-03-02T23:00:22.574Z"
   },
   {
    "duration": 56,
    "start_time": "2023-03-02T23:36:41.426Z"
   },
   {
    "duration": 420,
    "start_time": "2023-03-02T23:48:19.564Z"
   },
   {
    "duration": 50,
    "start_time": "2023-03-02T23:48:19.986Z"
   },
   {
    "duration": 30,
    "start_time": "2023-03-02T23:48:20.038Z"
   },
   {
    "duration": 732,
    "start_time": "2023-03-02T23:48:20.069Z"
   },
   {
    "duration": 5,
    "start_time": "2023-03-02T23:48:20.802Z"
   },
   {
    "duration": 11,
    "start_time": "2023-03-02T23:48:20.809Z"
   },
   {
    "duration": 36,
    "start_time": "2023-03-02T23:48:20.822Z"
   },
   {
    "duration": 10,
    "start_time": "2023-03-02T23:48:20.860Z"
   },
   {
    "duration": 5,
    "start_time": "2023-03-02T23:48:20.871Z"
   },
   {
    "duration": 14,
    "start_time": "2023-03-02T23:48:20.879Z"
   },
   {
    "duration": 7,
    "start_time": "2023-03-02T23:48:20.895Z"
   },
   {
    "duration": 9747,
    "start_time": "2023-03-02T23:48:20.903Z"
   },
   {
    "duration": 4,
    "start_time": "2023-03-02T23:48:30.652Z"
   },
   {
    "duration": 29,
    "start_time": "2023-03-02T23:48:30.658Z"
   },
   {
    "duration": 27,
    "start_time": "2023-03-02T23:48:30.689Z"
   },
   {
    "duration": 232,
    "start_time": "2023-03-02T23:48:30.718Z"
   },
   {
    "duration": 8,
    "start_time": "2023-03-02T23:48:30.952Z"
   },
   {
    "duration": 32,
    "start_time": "2023-03-02T23:48:30.962Z"
   },
   {
    "duration": 219,
    "start_time": "2023-03-02T23:48:30.996Z"
   },
   {
    "duration": 6,
    "start_time": "2023-03-02T23:48:31.217Z"
   },
   {
    "duration": 317,
    "start_time": "2023-03-02T23:48:31.224Z"
   },
   {
    "duration": 251,
    "start_time": "2023-03-02T23:48:31.548Z"
   },
   {
    "duration": 213,
    "start_time": "2023-03-02T23:48:31.801Z"
   },
   {
    "duration": 308,
    "start_time": "2023-03-02T23:48:32.016Z"
   },
   {
    "duration": 46,
    "start_time": "2023-03-02T23:48:32.325Z"
   },
   {
    "duration": 171,
    "start_time": "2023-03-02T23:48:32.372Z"
   },
   {
    "duration": 170,
    "start_time": "2023-03-02T23:48:32.548Z"
   },
   {
    "duration": 37,
    "start_time": "2023-03-02T23:48:32.721Z"
   },
   {
    "duration": 479,
    "start_time": "2023-03-02T23:48:32.760Z"
   },
   {
    "duration": 367,
    "start_time": "2023-03-02T23:48:33.248Z"
   },
   {
    "duration": 363,
    "start_time": "2023-03-02T23:48:33.617Z"
   },
   {
    "duration": 9,
    "start_time": "2023-03-02T23:48:33.982Z"
   },
   {
    "duration": 14,
    "start_time": "2023-03-02T23:48:33.992Z"
   },
   {
    "duration": 41,
    "start_time": "2023-03-02T23:48:34.008Z"
   },
   {
    "duration": 12,
    "start_time": "2023-03-02T23:59:39.583Z"
   },
   {
    "duration": 10,
    "start_time": "2023-03-02T23:59:43.863Z"
   },
   {
    "duration": 784,
    "start_time": "2023-03-03T00:16:56.692Z"
   },
   {
    "duration": 53,
    "start_time": "2023-03-03T00:16:57.478Z"
   },
   {
    "duration": 35,
    "start_time": "2023-03-03T00:16:57.532Z"
   },
   {
    "duration": 898,
    "start_time": "2023-03-03T00:16:57.569Z"
   },
   {
    "duration": 5,
    "start_time": "2023-03-03T00:16:58.469Z"
   },
   {
    "duration": 14,
    "start_time": "2023-03-03T00:16:58.475Z"
   },
   {
    "duration": 16,
    "start_time": "2023-03-03T00:16:58.491Z"
   },
   {
    "duration": 11,
    "start_time": "2023-03-03T00:16:58.509Z"
   },
   {
    "duration": 30,
    "start_time": "2023-03-03T00:16:58.521Z"
   },
   {
    "duration": 16,
    "start_time": "2023-03-03T00:16:58.554Z"
   },
   {
    "duration": 6,
    "start_time": "2023-03-03T00:16:58.571Z"
   },
   {
    "duration": 9780,
    "start_time": "2023-03-03T00:16:58.579Z"
   },
   {
    "duration": 4,
    "start_time": "2023-03-03T00:17:08.361Z"
   },
   {
    "duration": 11,
    "start_time": "2023-03-03T00:17:08.367Z"
   },
   {
    "duration": 4,
    "start_time": "2023-03-03T00:17:08.380Z"
   },
   {
    "duration": 217,
    "start_time": "2023-03-03T00:17:08.385Z"
   },
   {
    "duration": 6,
    "start_time": "2023-03-03T00:17:08.604Z"
   },
   {
    "duration": 18,
    "start_time": "2023-03-03T00:17:08.612Z"
   },
   {
    "duration": 241,
    "start_time": "2023-03-03T00:17:08.631Z"
   },
   {
    "duration": 7,
    "start_time": "2023-03-03T00:17:08.874Z"
   },
   {
    "duration": 269,
    "start_time": "2023-03-03T00:17:08.883Z"
   },
   {
    "duration": 246,
    "start_time": "2023-03-03T00:17:09.154Z"
   },
   {
    "duration": 217,
    "start_time": "2023-03-03T00:17:09.402Z"
   },
   {
    "duration": 389,
    "start_time": "2023-03-03T00:17:09.620Z"
   },
   {
    "duration": 47,
    "start_time": "2023-03-03T00:17:10.010Z"
   },
   {
    "duration": 172,
    "start_time": "2023-03-03T00:17:10.058Z"
   },
   {
    "duration": 171,
    "start_time": "2023-03-03T00:17:10.232Z"
   },
   {
    "duration": 26,
    "start_time": "2023-03-03T00:17:10.406Z"
   },
   {
    "duration": 370,
    "start_time": "2023-03-03T00:17:10.434Z"
   },
   {
    "duration": 355,
    "start_time": "2023-03-03T00:17:10.806Z"
   },
   {
    "duration": 358,
    "start_time": "2023-03-03T00:17:11.163Z"
   },
   {
    "duration": 12,
    "start_time": "2023-03-03T00:17:11.523Z"
   },
   {
    "duration": 23,
    "start_time": "2023-03-03T00:17:11.536Z"
   },
   {
    "duration": 831,
    "start_time": "2023-03-03T15:08:36.329Z"
   },
   {
    "duration": 434,
    "start_time": "2023-03-03T15:08:37.162Z"
   },
   {
    "duration": 36,
    "start_time": "2023-03-03T15:08:37.598Z"
   },
   {
    "duration": 1077,
    "start_time": "2023-03-03T15:08:37.636Z"
   },
   {
    "duration": 7,
    "start_time": "2023-03-03T15:08:38.715Z"
   },
   {
    "duration": 10,
    "start_time": "2023-03-03T15:08:38.724Z"
   },
   {
    "duration": 16,
    "start_time": "2023-03-03T15:08:38.736Z"
   },
   {
    "duration": 11,
    "start_time": "2023-03-03T15:08:38.753Z"
   },
   {
    "duration": 6,
    "start_time": "2023-03-03T15:08:38.765Z"
   },
   {
    "duration": 14,
    "start_time": "2023-03-03T15:08:38.773Z"
   },
   {
    "duration": 6,
    "start_time": "2023-03-03T15:08:38.822Z"
   },
   {
    "duration": 9636,
    "start_time": "2023-03-03T15:08:38.829Z"
   },
   {
    "duration": 4,
    "start_time": "2023-03-03T15:08:48.467Z"
   },
   {
    "duration": 11,
    "start_time": "2023-03-03T15:08:48.473Z"
   },
   {
    "duration": 4,
    "start_time": "2023-03-03T15:08:48.486Z"
   },
   {
    "duration": 226,
    "start_time": "2023-03-03T15:08:48.492Z"
   },
   {
    "duration": 7,
    "start_time": "2023-03-03T15:08:48.721Z"
   },
   {
    "duration": 15,
    "start_time": "2023-03-03T15:08:48.730Z"
   },
   {
    "duration": 259,
    "start_time": "2023-03-03T15:08:48.746Z"
   },
   {
    "duration": 6,
    "start_time": "2023-03-03T15:08:49.007Z"
   },
   {
    "duration": 271,
    "start_time": "2023-03-03T15:08:49.014Z"
   },
   {
    "duration": 267,
    "start_time": "2023-03-03T15:08:49.287Z"
   },
   {
    "duration": 313,
    "start_time": "2023-03-03T15:08:49.556Z"
   },
   {
    "duration": 312,
    "start_time": "2023-03-03T15:08:49.870Z"
   },
   {
    "duration": 54,
    "start_time": "2023-03-03T15:08:50.183Z"
   },
   {
    "duration": 220,
    "start_time": "2023-03-03T15:08:50.239Z"
   },
   {
    "duration": 176,
    "start_time": "2023-03-03T15:08:50.461Z"
   },
   {
    "duration": 27,
    "start_time": "2023-03-03T15:08:50.640Z"
   },
   {
    "duration": 392,
    "start_time": "2023-03-03T15:08:50.670Z"
   },
   {
    "duration": 368,
    "start_time": "2023-03-03T15:08:51.064Z"
   },
   {
    "duration": 456,
    "start_time": "2023-03-03T15:08:51.434Z"
   },
   {
    "duration": 12,
    "start_time": "2023-03-03T15:08:51.891Z"
   },
   {
    "duration": 17,
    "start_time": "2023-03-03T15:08:51.905Z"
   },
   {
    "duration": 4,
    "start_time": "2023-03-03T15:25:33.498Z"
   },
   {
    "duration": 791,
    "start_time": "2023-03-03T15:28:23.083Z"
   },
   {
    "duration": 52,
    "start_time": "2023-03-03T15:28:23.876Z"
   },
   {
    "duration": 37,
    "start_time": "2023-03-03T15:28:23.929Z"
   },
   {
    "duration": 886,
    "start_time": "2023-03-03T15:28:23.967Z"
   },
   {
    "duration": 4,
    "start_time": "2023-03-03T15:28:24.855Z"
   },
   {
    "duration": 12,
    "start_time": "2023-03-03T15:28:24.861Z"
   },
   {
    "duration": 17,
    "start_time": "2023-03-03T15:28:24.874Z"
   },
   {
    "duration": 29,
    "start_time": "2023-03-03T15:28:24.892Z"
   },
   {
    "duration": 6,
    "start_time": "2023-03-03T15:28:24.923Z"
   },
   {
    "duration": 16,
    "start_time": "2023-03-03T15:28:24.931Z"
   },
   {
    "duration": 6,
    "start_time": "2023-03-03T15:28:24.950Z"
   },
   {
    "duration": 9438,
    "start_time": "2023-03-03T15:28:24.958Z"
   },
   {
    "duration": 5,
    "start_time": "2023-03-03T15:28:34.398Z"
   },
   {
    "duration": 26,
    "start_time": "2023-03-03T15:28:34.406Z"
   },
   {
    "duration": 15,
    "start_time": "2023-03-03T15:28:34.433Z"
   },
   {
    "duration": 224,
    "start_time": "2023-03-03T15:28:34.450Z"
   },
   {
    "duration": 7,
    "start_time": "2023-03-03T15:28:34.676Z"
   },
   {
    "duration": 16,
    "start_time": "2023-03-03T15:28:34.685Z"
   },
   {
    "duration": 256,
    "start_time": "2023-03-03T15:28:34.702Z"
   },
   {
    "duration": 7,
    "start_time": "2023-03-03T15:28:34.960Z"
   },
   {
    "duration": 283,
    "start_time": "2023-03-03T15:28:34.968Z"
   },
   {
    "duration": 252,
    "start_time": "2023-03-03T15:28:35.253Z"
   },
   {
    "duration": 227,
    "start_time": "2023-03-03T15:28:35.506Z"
   },
   {
    "duration": 404,
    "start_time": "2023-03-03T15:28:35.735Z"
   },
   {
    "duration": 36,
    "start_time": "2023-03-03T15:28:36.140Z"
   },
   {
    "duration": 182,
    "start_time": "2023-03-03T15:28:36.178Z"
   },
   {
    "duration": 171,
    "start_time": "2023-03-03T15:28:36.362Z"
   },
   {
    "duration": 27,
    "start_time": "2023-03-03T15:28:36.534Z"
   },
   {
    "duration": 377,
    "start_time": "2023-03-03T15:28:36.563Z"
   },
   {
    "duration": 380,
    "start_time": "2023-03-03T15:28:36.942Z"
   },
   {
    "duration": 382,
    "start_time": "2023-03-03T15:28:37.324Z"
   },
   {
    "duration": 17,
    "start_time": "2023-03-03T15:28:37.707Z"
   },
   {
    "duration": 10,
    "start_time": "2023-03-03T15:28:37.726Z"
   },
   {
    "duration": 58,
    "start_time": "2023-03-05T11:14:58.684Z"
   },
   {
    "duration": 4,
    "start_time": "2023-03-05T11:17:46.327Z"
   },
   {
    "duration": 3,
    "start_time": "2023-03-05T11:18:12.226Z"
   },
   {
    "duration": 851,
    "start_time": "2023-03-05T11:23:55.958Z"
   },
   {
    "duration": 185,
    "start_time": "2023-03-05T11:23:56.811Z"
   },
   {
    "duration": 47,
    "start_time": "2023-03-05T11:23:56.997Z"
   },
   {
    "duration": 1225,
    "start_time": "2023-03-05T11:23:57.046Z"
   },
   {
    "duration": 8,
    "start_time": "2023-03-05T11:23:58.273Z"
   },
   {
    "duration": 9,
    "start_time": "2023-03-05T11:23:58.283Z"
   },
   {
    "duration": 40,
    "start_time": "2023-03-05T11:23:58.294Z"
   },
   {
    "duration": 14,
    "start_time": "2023-03-05T11:23:58.335Z"
   },
   {
    "duration": 7,
    "start_time": "2023-03-05T11:23:58.350Z"
   },
   {
    "duration": 93,
    "start_time": "2023-03-05T11:23:58.359Z"
   },
   {
    "duration": 0,
    "start_time": "2023-03-05T11:23:58.454Z"
   },
   {
    "duration": 0,
    "start_time": "2023-03-05T11:23:58.455Z"
   },
   {
    "duration": 0,
    "start_time": "2023-03-05T11:23:58.456Z"
   },
   {
    "duration": 0,
    "start_time": "2023-03-05T11:23:58.457Z"
   },
   {
    "duration": 0,
    "start_time": "2023-03-05T11:23:58.458Z"
   },
   {
    "duration": 0,
    "start_time": "2023-03-05T11:23:58.459Z"
   },
   {
    "duration": 0,
    "start_time": "2023-03-05T11:23:58.459Z"
   },
   {
    "duration": 0,
    "start_time": "2023-03-05T11:23:58.460Z"
   },
   {
    "duration": 0,
    "start_time": "2023-03-05T11:23:58.461Z"
   },
   {
    "duration": 0,
    "start_time": "2023-03-05T11:23:58.463Z"
   },
   {
    "duration": 0,
    "start_time": "2023-03-05T11:23:58.464Z"
   },
   {
    "duration": 0,
    "start_time": "2023-03-05T11:23:58.465Z"
   },
   {
    "duration": 0,
    "start_time": "2023-03-05T11:23:58.466Z"
   },
   {
    "duration": 0,
    "start_time": "2023-03-05T11:23:58.468Z"
   },
   {
    "duration": 0,
    "start_time": "2023-03-05T11:23:58.469Z"
   },
   {
    "duration": 0,
    "start_time": "2023-03-05T11:23:58.470Z"
   },
   {
    "duration": 0,
    "start_time": "2023-03-05T11:23:58.470Z"
   },
   {
    "duration": 0,
    "start_time": "2023-03-05T11:23:58.471Z"
   },
   {
    "duration": 0,
    "start_time": "2023-03-05T11:23:58.472Z"
   },
   {
    "duration": 0,
    "start_time": "2023-03-05T11:23:58.473Z"
   },
   {
    "duration": 0,
    "start_time": "2023-03-05T11:23:58.474Z"
   },
   {
    "duration": 0,
    "start_time": "2023-03-05T11:23:58.475Z"
   },
   {
    "duration": 14,
    "start_time": "2023-03-05T11:25:17.936Z"
   },
   {
    "duration": 16,
    "start_time": "2023-03-05T11:26:09.800Z"
   },
   {
    "duration": 13,
    "start_time": "2023-03-05T11:26:18.459Z"
   },
   {
    "duration": 69,
    "start_time": "2023-03-05T11:34:31.076Z"
   },
   {
    "duration": 3,
    "start_time": "2023-03-05T11:34:35.675Z"
   },
   {
    "duration": 65,
    "start_time": "2023-03-05T11:34:35.680Z"
   },
   {
    "duration": 33,
    "start_time": "2023-03-05T11:34:35.747Z"
   },
   {
    "duration": 750,
    "start_time": "2023-03-05T11:34:35.782Z"
   },
   {
    "duration": 5,
    "start_time": "2023-03-05T11:34:36.534Z"
   },
   {
    "duration": 9,
    "start_time": "2023-03-05T11:34:36.541Z"
   },
   {
    "duration": 15,
    "start_time": "2023-03-05T11:34:36.552Z"
   },
   {
    "duration": 10,
    "start_time": "2023-03-05T11:34:36.569Z"
   },
   {
    "duration": 46,
    "start_time": "2023-03-05T11:34:36.580Z"
   },
   {
    "duration": 14,
    "start_time": "2023-03-05T11:34:36.629Z"
   },
   {
    "duration": 7,
    "start_time": "2023-03-05T11:34:36.645Z"
   },
   {
    "duration": 5,
    "start_time": "2023-03-05T11:34:36.654Z"
   },
   {
    "duration": 9,
    "start_time": "2023-03-05T11:34:36.663Z"
   },
   {
    "duration": 6,
    "start_time": "2023-03-05T11:34:36.674Z"
   },
   {
    "duration": 348,
    "start_time": "2023-03-05T11:34:36.681Z"
   },
   {
    "duration": 8,
    "start_time": "2023-03-05T11:34:37.031Z"
   },
   {
    "duration": 16,
    "start_time": "2023-03-05T11:34:37.041Z"
   },
   {
    "duration": 271,
    "start_time": "2023-03-05T11:34:37.059Z"
   },
   {
    "duration": 7,
    "start_time": "2023-03-05T11:34:37.333Z"
   },
   {
    "duration": 331,
    "start_time": "2023-03-05T11:34:37.341Z"
   },
   {
    "duration": 281,
    "start_time": "2023-03-05T11:34:37.674Z"
   },
   {
    "duration": 244,
    "start_time": "2023-03-05T11:34:37.957Z"
   },
   {
    "duration": 336,
    "start_time": "2023-03-05T11:34:38.203Z"
   },
   {
    "duration": 52,
    "start_time": "2023-03-05T11:34:38.541Z"
   },
   {
    "duration": 202,
    "start_time": "2023-03-05T11:34:38.594Z"
   },
   {
    "duration": 198,
    "start_time": "2023-03-05T11:34:38.798Z"
   },
   {
    "duration": 39,
    "start_time": "2023-03-05T11:34:38.997Z"
   },
   {
    "duration": 506,
    "start_time": "2023-03-05T11:34:39.038Z"
   },
   {
    "duration": 437,
    "start_time": "2023-03-05T11:34:39.546Z"
   },
   {
    "duration": 419,
    "start_time": "2023-03-05T11:34:39.985Z"
   },
   {
    "duration": 24,
    "start_time": "2023-03-05T11:34:40.405Z"
   },
   {
    "duration": 12,
    "start_time": "2023-03-05T11:34:40.430Z"
   },
   {
    "duration": 220,
    "start_time": "2023-03-05T11:36:18.110Z"
   },
   {
    "duration": 221,
    "start_time": "2023-03-05T11:36:23.883Z"
   },
   {
    "duration": 217,
    "start_time": "2023-03-05T11:45:32.082Z"
   },
   {
    "duration": 3,
    "start_time": "2023-03-05T11:46:22.227Z"
   },
   {
    "duration": 308,
    "start_time": "2023-03-05T11:46:46.283Z"
   },
   {
    "duration": 4,
    "start_time": "2023-03-05T11:52:34.840Z"
   },
   {
    "duration": 64,
    "start_time": "2023-03-05T11:52:34.846Z"
   },
   {
    "duration": 37,
    "start_time": "2023-03-05T11:52:34.912Z"
   },
   {
    "duration": 777,
    "start_time": "2023-03-05T11:52:34.951Z"
   },
   {
    "duration": 6,
    "start_time": "2023-03-05T11:52:35.730Z"
   },
   {
    "duration": 11,
    "start_time": "2023-03-05T11:52:35.737Z"
   },
   {
    "duration": 22,
    "start_time": "2023-03-05T11:52:35.749Z"
   },
   {
    "duration": 15,
    "start_time": "2023-03-05T11:52:35.773Z"
   },
   {
    "duration": 34,
    "start_time": "2023-03-05T11:52:35.790Z"
   },
   {
    "duration": 43,
    "start_time": "2023-03-05T11:52:35.826Z"
   },
   {
    "duration": 8,
    "start_time": "2023-03-05T11:52:35.872Z"
   },
   {
    "duration": 25,
    "start_time": "2023-03-05T11:52:35.882Z"
   },
   {
    "duration": 28,
    "start_time": "2023-03-05T11:52:35.909Z"
   },
   {
    "duration": 7,
    "start_time": "2023-03-05T11:52:35.939Z"
   },
   {
    "duration": 240,
    "start_time": "2023-03-05T11:52:35.947Z"
   },
   {
    "duration": 8,
    "start_time": "2023-03-05T11:52:36.189Z"
   },
   {
    "duration": 35,
    "start_time": "2023-03-05T11:52:36.199Z"
   },
   {
    "duration": 244,
    "start_time": "2023-03-05T11:52:36.236Z"
   },
   {
    "duration": 6,
    "start_time": "2023-03-05T11:52:36.482Z"
   },
   {
    "duration": 340,
    "start_time": "2023-03-05T11:52:36.489Z"
   },
   {
    "duration": 370,
    "start_time": "2023-03-05T11:52:36.831Z"
   },
   {
    "duration": 233,
    "start_time": "2023-03-05T11:52:37.203Z"
   },
   {
    "duration": 351,
    "start_time": "2023-03-05T11:52:37.438Z"
   },
   {
    "duration": 57,
    "start_time": "2023-03-05T11:52:37.790Z"
   },
   {
    "duration": 197,
    "start_time": "2023-03-05T11:52:37.849Z"
   },
   {
    "duration": 198,
    "start_time": "2023-03-05T11:52:38.047Z"
   },
   {
    "duration": 28,
    "start_time": "2023-03-05T11:52:38.246Z"
   },
   {
    "duration": 425,
    "start_time": "2023-03-05T11:52:38.276Z"
   },
   {
    "duration": 409,
    "start_time": "2023-03-05T11:52:38.704Z"
   },
   {
    "duration": 507,
    "start_time": "2023-03-05T11:52:39.121Z"
   },
   {
    "duration": 13,
    "start_time": "2023-03-05T11:52:39.630Z"
   },
   {
    "duration": 9,
    "start_time": "2023-03-05T11:52:39.645Z"
   },
   {
    "duration": 241,
    "start_time": "2023-03-05T11:53:32.128Z"
   },
   {
    "duration": 300,
    "start_time": "2023-03-05T11:53:36.886Z"
   },
   {
    "duration": 256,
    "start_time": "2023-03-05T11:53:47.936Z"
   },
   {
    "duration": 259,
    "start_time": "2023-03-05T11:54:37.030Z"
   },
   {
    "duration": 471,
    "start_time": "2023-03-05T12:00:36.680Z"
   },
   {
    "duration": 287,
    "start_time": "2023-03-05T12:01:15.788Z"
   },
   {
    "duration": 274,
    "start_time": "2023-03-05T12:01:18.776Z"
   },
   {
    "duration": 254,
    "start_time": "2023-03-05T12:09:32.441Z"
   },
   {
    "duration": 80,
    "start_time": "2023-03-05T12:14:32.171Z"
   },
   {
    "duration": 5,
    "start_time": "2023-03-05T12:19:14.785Z"
   },
   {
    "duration": 6,
    "start_time": "2023-03-05T12:19:17.968Z"
   },
   {
    "duration": 87,
    "start_time": "2023-03-05T12:20:18.471Z"
   },
   {
    "duration": 10,
    "start_time": "2023-03-05T12:30:02.587Z"
   },
   {
    "duration": 3,
    "start_time": "2023-03-05T12:30:16.166Z"
   },
   {
    "duration": 69,
    "start_time": "2023-03-05T12:30:16.171Z"
   },
   {
    "duration": 32,
    "start_time": "2023-03-05T12:30:16.243Z"
   },
   {
    "duration": 730,
    "start_time": "2023-03-05T12:30:16.276Z"
   },
   {
    "duration": 9,
    "start_time": "2023-03-05T12:30:17.008Z"
   },
   {
    "duration": 21,
    "start_time": "2023-03-05T12:30:17.018Z"
   },
   {
    "duration": 16,
    "start_time": "2023-03-05T12:30:17.041Z"
   },
   {
    "duration": 12,
    "start_time": "2023-03-05T12:30:17.059Z"
   },
   {
    "duration": 5,
    "start_time": "2023-03-05T12:30:17.073Z"
   },
   {
    "duration": 6,
    "start_time": "2023-03-05T12:30:17.079Z"
   },
   {
    "duration": 17,
    "start_time": "2023-03-05T12:30:17.113Z"
   },
   {
    "duration": 14,
    "start_time": "2023-03-05T12:30:17.132Z"
   },
   {
    "duration": 6,
    "start_time": "2023-03-05T12:30:17.148Z"
   },
   {
    "duration": 12,
    "start_time": "2023-03-05T12:30:17.156Z"
   },
   {
    "duration": 115,
    "start_time": "2023-03-05T12:30:17.170Z"
   },
   {
    "duration": 237,
    "start_time": "2023-03-05T12:30:17.287Z"
   },
   {
    "duration": 9,
    "start_time": "2023-03-05T12:30:17.526Z"
   },
   {
    "duration": 20,
    "start_time": "2023-03-05T12:30:17.537Z"
   },
   {
    "duration": 269,
    "start_time": "2023-03-05T12:30:17.559Z"
   },
   {
    "duration": 7,
    "start_time": "2023-03-05T12:30:17.830Z"
   },
   {
    "duration": 316,
    "start_time": "2023-03-05T12:30:17.839Z"
   },
   {
    "duration": 282,
    "start_time": "2023-03-05T12:30:18.157Z"
   },
   {
    "duration": 243,
    "start_time": "2023-03-05T12:30:18.440Z"
   },
   {
    "duration": 269,
    "start_time": "2023-03-05T12:30:18.685Z"
   },
   {
    "duration": 345,
    "start_time": "2023-03-05T12:30:18.955Z"
   },
   {
    "duration": 50,
    "start_time": "2023-03-05T12:30:19.302Z"
   },
   {
    "duration": 200,
    "start_time": "2023-03-05T12:30:19.353Z"
   },
   {
    "duration": 305,
    "start_time": "2023-03-05T12:30:19.555Z"
   },
   {
    "duration": 28,
    "start_time": "2023-03-05T12:30:19.863Z"
   },
   {
    "duration": 416,
    "start_time": "2023-03-05T12:30:19.893Z"
   },
   {
    "duration": 448,
    "start_time": "2023-03-05T12:30:20.311Z"
   },
   {
    "duration": 433,
    "start_time": "2023-03-05T12:30:20.761Z"
   },
   {
    "duration": 10,
    "start_time": "2023-03-05T12:30:21.195Z"
   },
   {
    "duration": 19,
    "start_time": "2023-03-05T12:30:21.225Z"
   },
   {
    "duration": 95,
    "start_time": "2023-03-05T12:36:36.054Z"
   },
   {
    "duration": 16,
    "start_time": "2023-03-05T12:46:55.025Z"
   },
   {
    "duration": 18,
    "start_time": "2023-03-05T12:47:08.988Z"
   },
   {
    "duration": 15,
    "start_time": "2023-03-05T12:47:24.587Z"
   },
   {
    "duration": 114,
    "start_time": "2023-03-05T12:49:33.595Z"
   },
   {
    "duration": 49,
    "start_time": "2023-03-05T14:59:44.474Z"
   },
   {
    "duration": 1349,
    "start_time": "2023-03-05T14:59:48.055Z"
   },
   {
    "duration": 91,
    "start_time": "2023-03-05T14:59:49.406Z"
   },
   {
    "duration": 35,
    "start_time": "2023-03-05T14:59:49.499Z"
   },
   {
    "duration": 631,
    "start_time": "2023-03-05T14:59:49.535Z"
   },
   {
    "duration": 4,
    "start_time": "2023-03-05T14:59:50.169Z"
   },
   {
    "duration": 15,
    "start_time": "2023-03-05T14:59:50.174Z"
   },
   {
    "duration": 31,
    "start_time": "2023-03-05T14:59:50.191Z"
   },
   {
    "duration": 12,
    "start_time": "2023-03-05T14:59:50.224Z"
   },
   {
    "duration": 9,
    "start_time": "2023-03-05T14:59:50.238Z"
   },
   {
    "duration": 13,
    "start_time": "2023-03-05T14:59:50.249Z"
   },
   {
    "duration": 14,
    "start_time": "2023-03-05T14:59:50.263Z"
   },
   {
    "duration": 6,
    "start_time": "2023-03-05T14:59:50.278Z"
   },
   {
    "duration": 4,
    "start_time": "2023-03-05T14:59:50.303Z"
   },
   {
    "duration": 9,
    "start_time": "2023-03-05T14:59:50.310Z"
   },
   {
    "duration": 19,
    "start_time": "2023-03-05T14:59:50.320Z"
   },
   {
    "duration": 4,
    "start_time": "2023-03-05T14:59:50.340Z"
   },
   {
    "duration": 228,
    "start_time": "2023-03-05T14:59:50.345Z"
   },
   {
    "duration": 6,
    "start_time": "2023-03-05T14:59:50.575Z"
   },
   {
    "duration": 33,
    "start_time": "2023-03-05T14:59:50.582Z"
   },
   {
    "duration": 244,
    "start_time": "2023-03-05T14:59:50.616Z"
   },
   {
    "duration": 5,
    "start_time": "2023-03-05T14:59:50.861Z"
   },
   {
    "duration": 295,
    "start_time": "2023-03-05T14:59:50.868Z"
   },
   {
    "duration": 333,
    "start_time": "2023-03-05T14:59:51.166Z"
   },
   {
    "duration": 223,
    "start_time": "2023-03-05T14:59:51.503Z"
   },
   {
    "duration": 226,
    "start_time": "2023-03-05T14:59:51.727Z"
   },
   {
    "duration": 297,
    "start_time": "2023-03-05T14:59:51.955Z"
   },
   {
    "duration": 50,
    "start_time": "2023-03-05T14:59:52.254Z"
   },
   {
    "duration": 174,
    "start_time": "2023-03-05T14:59:52.305Z"
   },
   {
    "duration": 174,
    "start_time": "2023-03-05T14:59:52.481Z"
   },
   {
    "duration": 28,
    "start_time": "2023-03-05T14:59:52.657Z"
   },
   {
    "duration": 381,
    "start_time": "2023-03-05T14:59:52.687Z"
   },
   {
    "duration": 647,
    "start_time": "2023-03-05T14:59:53.069Z"
   },
   {
    "duration": 720,
    "start_time": "2023-03-05T14:59:53.717Z"
   },
   {
    "duration": 10,
    "start_time": "2023-03-05T14:59:54.439Z"
   },
   {
    "duration": 10,
    "start_time": "2023-03-05T14:59:54.504Z"
   },
   {
    "duration": 64,
    "start_time": "2023-03-05T15:01:07.842Z"
   },
   {
    "duration": 2,
    "start_time": "2023-03-05T15:01:19.164Z"
   },
   {
    "duration": 52,
    "start_time": "2023-03-05T15:01:19.169Z"
   },
   {
    "duration": 30,
    "start_time": "2023-03-05T15:01:19.223Z"
   },
   {
    "duration": 665,
    "start_time": "2023-03-05T15:01:19.255Z"
   },
   {
    "duration": 5,
    "start_time": "2023-03-05T15:01:19.922Z"
   },
   {
    "duration": 24,
    "start_time": "2023-03-05T15:01:19.928Z"
   },
   {
    "duration": 17,
    "start_time": "2023-03-05T15:01:19.954Z"
   },
   {
    "duration": 8,
    "start_time": "2023-03-05T15:01:19.973Z"
   },
   {
    "duration": 6,
    "start_time": "2023-03-05T15:01:19.982Z"
   },
   {
    "duration": 16,
    "start_time": "2023-03-05T15:01:19.989Z"
   },
   {
    "duration": 15,
    "start_time": "2023-03-05T15:01:20.007Z"
   },
   {
    "duration": 7,
    "start_time": "2023-03-05T15:01:20.024Z"
   },
   {
    "duration": 6,
    "start_time": "2023-03-05T15:01:20.032Z"
   },
   {
    "duration": 13,
    "start_time": "2023-03-05T15:01:20.039Z"
   },
   {
    "duration": 18,
    "start_time": "2023-03-05T15:01:20.053Z"
   },
   {
    "duration": 4,
    "start_time": "2023-03-05T15:01:20.073Z"
   },
   {
    "duration": 236,
    "start_time": "2023-03-05T15:01:20.079Z"
   },
   {
    "duration": 7,
    "start_time": "2023-03-05T15:01:20.317Z"
   },
   {
    "duration": 27,
    "start_time": "2023-03-05T15:01:20.325Z"
   },
   {
    "duration": 222,
    "start_time": "2023-03-05T15:01:20.355Z"
   },
   {
    "duration": 7,
    "start_time": "2023-03-05T15:01:20.579Z"
   },
   {
    "duration": 300,
    "start_time": "2023-03-05T15:01:20.587Z"
   },
   {
    "duration": 521,
    "start_time": "2023-03-05T15:01:20.888Z"
   },
   {
    "duration": 430,
    "start_time": "2023-03-05T15:01:21.410Z"
   },
   {
    "duration": 489,
    "start_time": "2023-03-05T15:01:21.842Z"
   },
   {
    "duration": 611,
    "start_time": "2023-03-05T15:01:22.333Z"
   },
   {
    "duration": 35,
    "start_time": "2023-03-05T15:01:22.945Z"
   },
   {
    "duration": 188,
    "start_time": "2023-03-05T15:01:22.982Z"
   },
   {
    "duration": 173,
    "start_time": "2023-03-05T15:01:23.174Z"
   },
   {
    "duration": 25,
    "start_time": "2023-03-05T15:01:23.348Z"
   },
   {
    "duration": 373,
    "start_time": "2023-03-05T15:01:23.375Z"
   },
   {
    "duration": 440,
    "start_time": "2023-03-05T15:01:23.749Z"
   },
   {
    "duration": 386,
    "start_time": "2023-03-05T15:01:24.191Z"
   },
   {
    "duration": 10,
    "start_time": "2023-03-05T15:01:24.578Z"
   },
   {
    "duration": 23,
    "start_time": "2023-03-05T15:01:24.589Z"
   },
   {
    "duration": 251,
    "start_time": "2023-03-05T15:02:17.579Z"
   },
   {
    "duration": 261,
    "start_time": "2023-03-05T15:02:36.056Z"
   },
   {
    "duration": 219,
    "start_time": "2023-03-05T15:03:34.663Z"
   },
   {
    "duration": 231,
    "start_time": "2023-03-05T15:03:48.381Z"
   },
   {
    "duration": 1294,
    "start_time": "2023-03-05T20:09:43.479Z"
   },
   {
    "duration": 109,
    "start_time": "2023-03-05T20:09:44.775Z"
   },
   {
    "duration": 40,
    "start_time": "2023-03-05T20:09:44.886Z"
   },
   {
    "duration": 775,
    "start_time": "2023-03-05T20:09:44.929Z"
   },
   {
    "duration": 20,
    "start_time": "2023-03-05T20:09:45.706Z"
   },
   {
    "duration": 11,
    "start_time": "2023-03-05T20:09:45.729Z"
   },
   {
    "duration": 14,
    "start_time": "2023-03-05T20:09:45.741Z"
   },
   {
    "duration": 10,
    "start_time": "2023-03-05T20:09:45.756Z"
   },
   {
    "duration": 5,
    "start_time": "2023-03-05T20:09:45.767Z"
   },
   {
    "duration": 4,
    "start_time": "2023-03-05T20:09:45.774Z"
   },
   {
    "duration": 29,
    "start_time": "2023-03-05T20:09:45.780Z"
   },
   {
    "duration": 27,
    "start_time": "2023-03-05T20:09:45.810Z"
   },
   {
    "duration": 4,
    "start_time": "2023-03-05T20:09:45.839Z"
   },
   {
    "duration": 12,
    "start_time": "2023-03-05T20:09:45.844Z"
   },
   {
    "duration": 20,
    "start_time": "2023-03-05T20:09:45.857Z"
   },
   {
    "duration": 4,
    "start_time": "2023-03-05T20:09:45.879Z"
   },
   {
    "duration": 247,
    "start_time": "2023-03-05T20:09:45.885Z"
   },
   {
    "duration": 7,
    "start_time": "2023-03-05T20:09:46.134Z"
   },
   {
    "duration": 15,
    "start_time": "2023-03-05T20:09:46.142Z"
   },
   {
    "duration": 318,
    "start_time": "2023-03-05T20:09:46.158Z"
   },
   {
    "duration": 6,
    "start_time": "2023-03-05T20:09:46.479Z"
   },
   {
    "duration": 359,
    "start_time": "2023-03-05T20:09:46.487Z"
   },
   {
    "duration": 337,
    "start_time": "2023-03-05T20:09:46.848Z"
   },
   {
    "duration": 246,
    "start_time": "2023-03-05T20:09:47.190Z"
   },
   {
    "duration": 239,
    "start_time": "2023-03-05T20:09:47.437Z"
   },
   {
    "duration": 315,
    "start_time": "2023-03-05T20:09:47.677Z"
   },
   {
    "duration": 45,
    "start_time": "2023-03-05T20:09:47.993Z"
   },
   {
    "duration": 179,
    "start_time": "2023-03-05T20:09:48.042Z"
   },
   {
    "duration": 172,
    "start_time": "2023-03-05T20:09:48.226Z"
   },
   {
    "duration": 34,
    "start_time": "2023-03-05T20:09:48.401Z"
   },
   {
    "duration": 371,
    "start_time": "2023-03-05T20:09:48.437Z"
   },
   {
    "duration": 992,
    "start_time": "2023-03-05T20:09:48.812Z"
   },
   {
    "duration": 885,
    "start_time": "2023-03-05T20:09:49.815Z"
   },
   {
    "duration": 14,
    "start_time": "2023-03-05T20:09:50.702Z"
   },
   {
    "duration": 28,
    "start_time": "2023-03-05T20:09:50.719Z"
   },
   {
    "duration": 7,
    "start_time": "2023-03-05T20:29:24.701Z"
   },
   {
    "duration": 160,
    "start_time": "2023-03-05T20:31:13.419Z"
   },
   {
    "duration": 396,
    "start_time": "2023-03-05T20:32:56.850Z"
   },
   {
    "duration": 393,
    "start_time": "2023-03-05T20:33:24.250Z"
   },
   {
    "duration": 15,
    "start_time": "2023-03-05T20:35:40.291Z"
   },
   {
    "duration": 96,
    "start_time": "2023-03-05T20:35:40.308Z"
   },
   {
    "duration": 41,
    "start_time": "2023-03-05T20:35:40.406Z"
   },
   {
    "duration": 735,
    "start_time": "2023-03-05T20:35:40.449Z"
   },
   {
    "duration": 17,
    "start_time": "2023-03-05T20:35:41.185Z"
   },
   {
    "duration": 34,
    "start_time": "2023-03-05T20:35:41.206Z"
   },
   {
    "duration": 16,
    "start_time": "2023-03-05T20:35:41.242Z"
   },
   {
    "duration": 11,
    "start_time": "2023-03-05T20:35:41.260Z"
   },
   {
    "duration": 5,
    "start_time": "2023-03-05T20:35:41.272Z"
   },
   {
    "duration": 7,
    "start_time": "2023-03-05T20:35:41.279Z"
   },
   {
    "duration": 46,
    "start_time": "2023-03-05T20:35:41.288Z"
   },
   {
    "duration": 6,
    "start_time": "2023-03-05T20:35:41.336Z"
   },
   {
    "duration": 4,
    "start_time": "2023-03-05T20:35:41.344Z"
   },
   {
    "duration": 9,
    "start_time": "2023-03-05T20:35:41.349Z"
   },
   {
    "duration": 14,
    "start_time": "2023-03-05T20:35:41.360Z"
   },
   {
    "duration": 4,
    "start_time": "2023-03-05T20:35:41.375Z"
   },
   {
    "duration": 227,
    "start_time": "2023-03-05T20:35:41.381Z"
   },
   {
    "duration": 16,
    "start_time": "2023-03-05T20:35:41.609Z"
   },
   {
    "duration": 18,
    "start_time": "2023-03-05T20:35:41.629Z"
   },
   {
    "duration": 228,
    "start_time": "2023-03-05T20:35:41.649Z"
   },
   {
    "duration": 23,
    "start_time": "2023-03-05T20:35:41.879Z"
   },
   {
    "duration": 323,
    "start_time": "2023-03-05T20:35:41.911Z"
   },
   {
    "duration": 279,
    "start_time": "2023-03-05T20:35:42.238Z"
   },
   {
    "duration": 247,
    "start_time": "2023-03-05T20:35:42.519Z"
   },
   {
    "duration": 275,
    "start_time": "2023-03-05T20:35:42.767Z"
   },
   {
    "duration": 429,
    "start_time": "2023-03-05T20:35:43.043Z"
   },
   {
    "duration": 44,
    "start_time": "2023-03-05T20:35:43.474Z"
   },
   {
    "duration": 173,
    "start_time": "2023-03-05T20:35:43.525Z"
   },
   {
    "duration": 182,
    "start_time": "2023-03-05T20:35:43.701Z"
   },
   {
    "duration": 47,
    "start_time": "2023-03-05T20:35:43.885Z"
   },
   {
    "duration": 6,
    "start_time": "2023-03-05T20:35:43.937Z"
   },
   {
    "duration": 432,
    "start_time": "2023-03-05T20:35:43.944Z"
   },
   {
    "duration": 461,
    "start_time": "2023-03-05T20:35:44.377Z"
   },
   {
    "duration": 492,
    "start_time": "2023-03-05T20:35:44.840Z"
   },
   {
    "duration": 15,
    "start_time": "2023-03-05T20:35:45.336Z"
   },
   {
    "duration": 16,
    "start_time": "2023-03-05T20:35:45.353Z"
   },
   {
    "duration": 262,
    "start_time": "2023-03-05T20:37:44.249Z"
   },
   {
    "duration": 275,
    "start_time": "2023-03-05T20:49:13.863Z"
   },
   {
    "duration": 113,
    "start_time": "2023-03-05T21:01:45.223Z"
   },
   {
    "duration": 3147,
    "start_time": "2023-03-05T21:06:37.885Z"
   },
   {
    "duration": 32,
    "start_time": "2023-03-05T21:10:26.519Z"
   },
   {
    "duration": 1282,
    "start_time": "2023-03-05T21:10:39.591Z"
   },
   {
    "duration": 166,
    "start_time": "2023-03-05T21:11:10.626Z"
   },
   {
    "duration": 54,
    "start_time": "2023-03-05T21:13:59.021Z"
   },
   {
    "duration": 168,
    "start_time": "2023-03-05T21:18:43.064Z"
   },
   {
    "duration": 14,
    "start_time": "2023-03-05T21:20:57.030Z"
   },
   {
    "duration": 14,
    "start_time": "2023-03-05T21:21:45.622Z"
   },
   {
    "duration": 7,
    "start_time": "2023-03-05T21:21:49.686Z"
   },
   {
    "duration": 9,
    "start_time": "2023-03-05T21:22:08.731Z"
   },
   {
    "duration": 183,
    "start_time": "2023-03-05T21:22:28.467Z"
   },
   {
    "duration": 11,
    "start_time": "2023-03-05T21:23:07.860Z"
   },
   {
    "duration": 189,
    "start_time": "2023-03-05T21:23:38.034Z"
   },
   {
    "duration": 179,
    "start_time": "2023-03-05T21:24:04.667Z"
   },
   {
    "duration": 161,
    "start_time": "2023-03-05T21:24:14.511Z"
   },
   {
    "duration": 153,
    "start_time": "2023-03-05T21:24:35.327Z"
   },
   {
    "duration": 260,
    "start_time": "2023-03-05T21:26:53.221Z"
   },
   {
    "duration": 26,
    "start_time": "2023-03-05T21:28:58.135Z"
   },
   {
    "duration": 31,
    "start_time": "2023-03-05T21:29:22.214Z"
   },
   {
    "duration": 1544,
    "start_time": "2023-03-05T21:29:27.083Z"
   },
   {
    "duration": 942,
    "start_time": "2023-03-05T21:29:44.131Z"
   },
   {
    "duration": 37,
    "start_time": "2023-03-05T21:31:27.177Z"
   },
   {
    "duration": 4501,
    "start_time": "2023-03-05T21:31:35.312Z"
   },
   {
    "duration": 71,
    "start_time": "2023-03-05T21:31:39.816Z"
   },
   {
    "duration": 47,
    "start_time": "2023-03-05T21:31:39.888Z"
   },
   {
    "duration": 1004,
    "start_time": "2023-03-05T21:31:39.937Z"
   },
   {
    "duration": 71,
    "start_time": "2023-03-05T21:31:40.943Z"
   },
   {
    "duration": 27,
    "start_time": "2023-03-05T21:31:41.024Z"
   },
   {
    "duration": 60,
    "start_time": "2023-03-05T21:31:41.053Z"
   },
   {
    "duration": 35,
    "start_time": "2023-03-05T21:31:41.117Z"
   },
   {
    "duration": 45,
    "start_time": "2023-03-05T21:31:41.155Z"
   },
   {
    "duration": 37,
    "start_time": "2023-03-05T21:31:41.207Z"
   },
   {
    "duration": 14,
    "start_time": "2023-03-05T21:31:41.245Z"
   },
   {
    "duration": 48,
    "start_time": "2023-03-05T21:31:41.260Z"
   },
   {
    "duration": 34,
    "start_time": "2023-03-05T21:31:41.309Z"
   },
   {
    "duration": 47,
    "start_time": "2023-03-05T21:31:41.347Z"
   },
   {
    "duration": 34,
    "start_time": "2023-03-05T21:31:41.396Z"
   },
   {
    "duration": 14,
    "start_time": "2023-03-05T21:31:41.433Z"
   },
   {
    "duration": 547,
    "start_time": "2023-03-05T21:31:41.493Z"
   },
   {
    "duration": 61,
    "start_time": "2023-03-05T21:31:42.041Z"
   },
   {
    "duration": 51,
    "start_time": "2023-03-05T21:31:42.108Z"
   },
   {
    "duration": 307,
    "start_time": "2023-03-05T21:31:42.160Z"
   },
   {
    "duration": 5,
    "start_time": "2023-03-05T21:31:42.469Z"
   },
   {
    "duration": 306,
    "start_time": "2023-03-05T21:31:42.475Z"
   },
   {
    "duration": 267,
    "start_time": "2023-03-05T21:31:42.793Z"
   },
   {
    "duration": 273,
    "start_time": "2023-03-05T21:31:43.061Z"
   },
   {
    "duration": 340,
    "start_time": "2023-03-05T21:31:43.336Z"
   },
   {
    "duration": 328,
    "start_time": "2023-03-05T21:31:43.678Z"
   },
   {
    "duration": 42,
    "start_time": "2023-03-05T21:31:44.015Z"
   },
   {
    "duration": 174,
    "start_time": "2023-03-05T21:31:44.058Z"
   },
   {
    "duration": 178,
    "start_time": "2023-03-05T21:31:44.233Z"
   },
   {
    "duration": 33,
    "start_time": "2023-03-05T21:31:44.419Z"
   },
   {
    "duration": 0,
    "start_time": "2023-03-05T21:31:44.453Z"
   },
   {
    "duration": 0,
    "start_time": "2023-03-05T21:31:44.454Z"
   },
   {
    "duration": 0,
    "start_time": "2023-03-05T21:31:44.454Z"
   },
   {
    "duration": 0,
    "start_time": "2023-03-05T21:31:44.455Z"
   },
   {
    "duration": 0,
    "start_time": "2023-03-05T21:31:44.456Z"
   },
   {
    "duration": 0,
    "start_time": "2023-03-05T21:31:44.457Z"
   },
   {
    "duration": 25,
    "start_time": "2023-03-05T21:32:39.850Z"
   },
   {
    "duration": 174,
    "start_time": "2023-03-05T21:33:29.777Z"
   },
   {
    "duration": 174,
    "start_time": "2023-03-05T21:33:31.955Z"
   },
   {
    "duration": 184,
    "start_time": "2023-03-05T21:33:36.604Z"
   },
   {
    "duration": 27,
    "start_time": "2023-03-05T21:34:28.434Z"
   },
   {
    "duration": 28,
    "start_time": "2023-03-05T21:35:18.916Z"
   },
   {
    "duration": 277,
    "start_time": "2023-03-05T21:36:29.461Z"
   },
   {
    "duration": 500,
    "start_time": "2023-03-05T21:36:37.166Z"
   },
   {
    "duration": 5,
    "start_time": "2023-03-05T21:36:54.178Z"
   },
   {
    "duration": 6,
    "start_time": "2023-03-05T21:37:00.769Z"
   },
   {
    "duration": 6,
    "start_time": "2023-03-05T21:37:26.256Z"
   },
   {
    "duration": 9,
    "start_time": "2023-03-05T21:37:34.028Z"
   },
   {
    "duration": 273,
    "start_time": "2023-03-05T21:39:08.619Z"
   },
   {
    "duration": 2389,
    "start_time": "2023-03-05T21:39:33.783Z"
   },
   {
    "duration": 86,
    "start_time": "2023-03-05T21:39:36.174Z"
   },
   {
    "duration": 47,
    "start_time": "2023-03-05T21:39:36.261Z"
   },
   {
    "duration": 836,
    "start_time": "2023-03-05T21:39:36.312Z"
   },
   {
    "duration": 5,
    "start_time": "2023-03-05T21:39:37.150Z"
   },
   {
    "duration": 11,
    "start_time": "2023-03-05T21:39:37.156Z"
   },
   {
    "duration": 40,
    "start_time": "2023-03-05T21:39:37.168Z"
   },
   {
    "duration": 40,
    "start_time": "2023-03-05T21:39:37.209Z"
   },
   {
    "duration": 5,
    "start_time": "2023-03-05T21:39:37.251Z"
   },
   {
    "duration": 4,
    "start_time": "2023-03-05T21:39:37.259Z"
   },
   {
    "duration": 10,
    "start_time": "2023-03-05T21:39:37.265Z"
   },
   {
    "duration": 5,
    "start_time": "2023-03-05T21:39:37.276Z"
   },
   {
    "duration": 5,
    "start_time": "2023-03-05T21:39:37.282Z"
   },
   {
    "duration": 51,
    "start_time": "2023-03-05T21:39:37.288Z"
   },
   {
    "duration": 13,
    "start_time": "2023-03-05T21:39:37.341Z"
   },
   {
    "duration": 4,
    "start_time": "2023-03-05T21:39:37.356Z"
   },
   {
    "duration": 218,
    "start_time": "2023-03-05T21:39:37.361Z"
   },
   {
    "duration": 19,
    "start_time": "2023-03-05T21:39:37.580Z"
   },
   {
    "duration": 53,
    "start_time": "2023-03-05T21:39:37.600Z"
   },
   {
    "duration": 255,
    "start_time": "2023-03-05T21:39:37.655Z"
   },
   {
    "duration": 18,
    "start_time": "2023-03-05T21:39:37.922Z"
   },
   {
    "duration": 336,
    "start_time": "2023-03-05T21:39:37.941Z"
   },
   {
    "duration": 304,
    "start_time": "2023-03-05T21:39:38.279Z"
   },
   {
    "duration": 274,
    "start_time": "2023-03-05T21:39:38.585Z"
   },
   {
    "duration": 295,
    "start_time": "2023-03-05T21:39:38.860Z"
   },
   {
    "duration": 367,
    "start_time": "2023-03-05T21:39:39.157Z"
   },
   {
    "duration": 45,
    "start_time": "2023-03-05T21:39:39.526Z"
   },
   {
    "duration": 275,
    "start_time": "2023-03-05T21:39:39.574Z"
   },
   {
    "duration": 192,
    "start_time": "2023-03-05T21:39:39.851Z"
   },
   {
    "duration": 267,
    "start_time": "2023-03-05T21:39:40.045Z"
   },
   {
    "duration": 0,
    "start_time": "2023-03-05T21:39:40.314Z"
   },
   {
    "duration": 0,
    "start_time": "2023-03-05T21:39:40.315Z"
   },
   {
    "duration": 0,
    "start_time": "2023-03-05T21:39:40.316Z"
   },
   {
    "duration": 0,
    "start_time": "2023-03-05T21:39:40.317Z"
   },
   {
    "duration": 0,
    "start_time": "2023-03-05T21:39:40.319Z"
   },
   {
    "duration": 0,
    "start_time": "2023-03-05T21:39:40.320Z"
   },
   {
    "duration": 0,
    "start_time": "2023-03-05T21:39:40.321Z"
   },
   {
    "duration": 16,
    "start_time": "2023-03-05T21:40:04.020Z"
   },
   {
    "duration": 24,
    "start_time": "2023-03-05T21:40:29.335Z"
   },
   {
    "duration": 2853,
    "start_time": "2023-03-05T21:40:37.469Z"
   },
   {
    "duration": 87,
    "start_time": "2023-03-05T21:40:40.329Z"
   },
   {
    "duration": 51,
    "start_time": "2023-03-05T21:40:40.421Z"
   },
   {
    "duration": 1487,
    "start_time": "2023-03-05T21:40:40.475Z"
   },
   {
    "duration": 28,
    "start_time": "2023-03-05T21:40:41.965Z"
   },
   {
    "duration": 66,
    "start_time": "2023-03-05T21:40:41.995Z"
   },
   {
    "duration": 61,
    "start_time": "2023-03-05T21:40:42.063Z"
   },
   {
    "duration": 70,
    "start_time": "2023-03-05T21:40:42.126Z"
   },
   {
    "duration": 17,
    "start_time": "2023-03-05T21:40:42.197Z"
   },
   {
    "duration": 45,
    "start_time": "2023-03-05T21:40:42.216Z"
   },
   {
    "duration": 51,
    "start_time": "2023-03-05T21:40:42.263Z"
   },
   {
    "duration": 77,
    "start_time": "2023-03-05T21:40:42.316Z"
   },
   {
    "duration": 6,
    "start_time": "2023-03-05T21:40:42.394Z"
   },
   {
    "duration": 101,
    "start_time": "2023-03-05T21:40:42.403Z"
   },
   {
    "duration": 26,
    "start_time": "2023-03-05T21:40:42.506Z"
   },
   {
    "duration": 57,
    "start_time": "2023-03-05T21:40:42.538Z"
   },
   {
    "duration": 287,
    "start_time": "2023-03-05T21:40:42.597Z"
   },
   {
    "duration": 24,
    "start_time": "2023-03-05T21:40:42.885Z"
   },
   {
    "duration": 34,
    "start_time": "2023-03-05T21:40:42.915Z"
   },
   {
    "duration": 242,
    "start_time": "2023-03-05T21:40:42.951Z"
   },
   {
    "duration": 16,
    "start_time": "2023-03-05T21:40:43.205Z"
   },
   {
    "duration": 336,
    "start_time": "2023-03-05T21:40:43.225Z"
   },
   {
    "duration": 315,
    "start_time": "2023-03-05T21:40:43.563Z"
   },
   {
    "duration": 275,
    "start_time": "2023-03-05T21:40:43.880Z"
   },
   {
    "duration": 396,
    "start_time": "2023-03-05T21:40:44.157Z"
   },
   {
    "duration": 350,
    "start_time": "2023-03-05T21:40:44.555Z"
   },
   {
    "duration": 43,
    "start_time": "2023-03-05T21:40:44.907Z"
   },
   {
    "duration": 186,
    "start_time": "2023-03-05T21:40:44.952Z"
   },
   {
    "duration": 226,
    "start_time": "2023-03-05T21:40:45.142Z"
   },
   {
    "duration": 55,
    "start_time": "2023-03-05T21:40:45.369Z"
   },
   {
    "duration": 26,
    "start_time": "2023-03-05T21:40:45.429Z"
   },
   {
    "duration": 489,
    "start_time": "2023-03-05T21:40:45.456Z"
   },
   {
    "duration": 651,
    "start_time": "2023-03-05T21:40:45.946Z"
   },
   {
    "duration": 580,
    "start_time": "2023-03-05T21:40:46.602Z"
   },
   {
    "duration": 23,
    "start_time": "2023-03-05T21:40:47.184Z"
   },
   {
    "duration": 68,
    "start_time": "2023-03-05T21:40:47.209Z"
   },
   {
    "duration": 4065,
    "start_time": "2023-03-06T14:53:40.991Z"
   },
   {
    "duration": 104,
    "start_time": "2023-03-06T14:53:45.058Z"
   },
   {
    "duration": 34,
    "start_time": "2023-03-06T14:53:45.163Z"
   },
   {
    "duration": 716,
    "start_time": "2023-03-06T14:53:45.199Z"
   },
   {
    "duration": 5,
    "start_time": "2023-03-06T14:53:45.917Z"
   },
   {
    "duration": 21,
    "start_time": "2023-03-06T14:53:45.932Z"
   },
   {
    "duration": 31,
    "start_time": "2023-03-06T14:53:45.955Z"
   },
   {
    "duration": 16,
    "start_time": "2023-03-06T14:53:45.988Z"
   },
   {
    "duration": 31,
    "start_time": "2023-03-06T14:53:46.006Z"
   },
   {
    "duration": 21,
    "start_time": "2023-03-06T14:53:46.045Z"
   },
   {
    "duration": 23,
    "start_time": "2023-03-06T14:53:46.069Z"
   },
   {
    "duration": 15,
    "start_time": "2023-03-06T14:53:46.095Z"
   },
   {
    "duration": 15,
    "start_time": "2023-03-06T14:53:46.113Z"
   },
   {
    "duration": 54,
    "start_time": "2023-03-06T14:53:46.133Z"
   },
   {
    "duration": 47,
    "start_time": "2023-03-06T14:53:46.190Z"
   },
   {
    "duration": 24,
    "start_time": "2023-03-06T14:53:46.239Z"
   },
   {
    "duration": 267,
    "start_time": "2023-03-06T14:53:46.266Z"
   },
   {
    "duration": 13,
    "start_time": "2023-03-06T14:53:46.538Z"
   },
   {
    "duration": 21,
    "start_time": "2023-03-06T14:53:46.553Z"
   },
   {
    "duration": 285,
    "start_time": "2023-03-06T14:53:46.576Z"
   },
   {
    "duration": 8,
    "start_time": "2023-03-06T14:53:46.863Z"
   },
   {
    "duration": 334,
    "start_time": "2023-03-06T14:53:46.873Z"
   },
   {
    "duration": 407,
    "start_time": "2023-03-06T14:53:47.209Z"
   },
   {
    "duration": 250,
    "start_time": "2023-03-06T14:53:47.617Z"
   },
   {
    "duration": 281,
    "start_time": "2023-03-06T14:53:47.869Z"
   },
   {
    "duration": 401,
    "start_time": "2023-03-06T14:53:48.151Z"
   },
   {
    "duration": 44,
    "start_time": "2023-03-06T14:53:48.554Z"
   },
   {
    "duration": 190,
    "start_time": "2023-03-06T14:53:48.600Z"
   },
   {
    "duration": 183,
    "start_time": "2023-03-06T14:53:48.792Z"
   },
   {
    "duration": 27,
    "start_time": "2023-03-06T14:53:48.977Z"
   },
   {
    "duration": 5,
    "start_time": "2023-03-06T14:53:49.006Z"
   },
   {
    "duration": 516,
    "start_time": "2023-03-06T14:53:49.031Z"
   },
   {
    "duration": 419,
    "start_time": "2023-03-06T14:53:49.549Z"
   },
   {
    "duration": 431,
    "start_time": "2023-03-06T14:53:49.970Z"
   },
   {
    "duration": 11,
    "start_time": "2023-03-06T14:53:50.403Z"
   },
   {
    "duration": 47,
    "start_time": "2023-03-06T14:53:50.415Z"
   }
  ],
  "kernelspec": {
   "display_name": "Python 3",
   "language": "python",
   "name": "python3"
  },
  "language_info": {
   "codemirror_mode": {
    "name": "ipython",
    "version": 3
   },
   "file_extension": ".py",
   "mimetype": "text/x-python",
   "name": "python",
   "nbconvert_exporter": "python",
   "pygments_lexer": "ipython3",
   "version": "3.8.5"
  },
  "toc": {
   "base_numbering": 1,
   "nav_menu": {},
   "number_sections": true,
   "sideBar": true,
   "skip_h1_title": true,
   "title_cell": "Table of Contents",
   "title_sidebar": "Contents",
   "toc_cell": false,
   "toc_position": {
    "height": "calc(100% - 180px)",
    "left": "10px",
    "top": "150px",
    "width": "255.382px"
   },
   "toc_section_display": true,
   "toc_window_display": false
  }
 },
 "nbformat": 4,
 "nbformat_minor": 2
}
