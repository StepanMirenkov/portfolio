{
 "cells": [
  {
   "cell_type": "markdown",
   "metadata": {},
   "source": [
    "# Определение стоимости автомобилей"
   ]
  },
  {
   "cell_type": "markdown",
   "metadata": {},
   "source": [
    "Сервис по продаже автомобилей с пробегом «Не бит, не крашен» разрабатывает приложение для привлечения новых клиентов. В нём можно быстро узнать рыночную стоимость своего автомобиля. В вашем распоряжении исторические данные: технические характеристики, комплектации и цены автомобилей. Вам нужно построить модель для определения стоимости. \n",
    "\n",
    "Заказчику важны:\n",
    "\n",
    "- качество предсказания;\n",
    "- скорость предсказания;\n",
    "- время обучения."
   ]
  },
  {
   "cell_type": "markdown",
   "metadata": {},
   "source": [
    "## Подготовка данных"
   ]
  },
  {
   "cell_type": "markdown",
   "metadata": {},
   "source": [
    "### Импортируем библиотеки и данные"
   ]
  },
  {
   "cell_type": "markdown",
   "metadata": {},
   "source": [
    "Импортируем все необходимые библиотеки"
   ]
  },
  {
   "cell_type": "code",
   "execution_count": 20,
   "metadata": {},
   "outputs": [],
   "source": [
    "import pandas as pd\n",
    "import numpy as np\n",
    "\n",
    "from sklearn.model_selection import train_test_split, GridSearchCV\n",
    "from sklearn.metrics import mean_squared_error\n",
    "from catboost import CatBoostRegressor\n",
    "from lightgbm import LGBMRegressor\n",
    "from sklearn.preprocessing import OrdinalEncoder\n",
    "from sklearn.ensemble import RandomForestRegressor"
   ]
  },
  {
   "cell_type": "markdown",
   "metadata": {},
   "source": [
    "Загружаем данные"
   ]
  },
  {
   "cell_type": "code",
   "execution_count": 21,
   "metadata": {},
   "outputs": [],
   "source": [
    "data = pd.read_csv('/datasets/autos.csv')"
   ]
  },
  {
   "cell_type": "markdown",
   "metadata": {},
   "source": [
    "### Изучаем данные"
   ]
  },
  {
   "cell_type": "code",
   "execution_count": 22,
   "metadata": {
    "scrolled": false
   },
   "outputs": [
    {
     "name": "stdout",
     "output_type": "stream",
     "text": [
      "<class 'pandas.core.frame.DataFrame'>\n",
      "RangeIndex: 354369 entries, 0 to 354368\n",
      "Data columns (total 16 columns):\n",
      " #   Column             Non-Null Count   Dtype \n",
      "---  ------             --------------   ----- \n",
      " 0   DateCrawled        354369 non-null  object\n",
      " 1   Price              354369 non-null  int64 \n",
      " 2   VehicleType        316879 non-null  object\n",
      " 3   RegistrationYear   354369 non-null  int64 \n",
      " 4   Gearbox            334536 non-null  object\n",
      " 5   Power              354369 non-null  int64 \n",
      " 6   Model              334664 non-null  object\n",
      " 7   Kilometer          354369 non-null  int64 \n",
      " 8   RegistrationMonth  354369 non-null  int64 \n",
      " 9   FuelType           321474 non-null  object\n",
      " 10  Brand              354369 non-null  object\n",
      " 11  Repaired           283215 non-null  object\n",
      " 12  DateCreated        354369 non-null  object\n",
      " 13  NumberOfPictures   354369 non-null  int64 \n",
      " 14  PostalCode         354369 non-null  int64 \n",
      " 15  LastSeen           354369 non-null  object\n",
      "dtypes: int64(7), object(9)\n",
      "memory usage: 43.3+ MB\n"
     ]
    },
    {
     "data": {
      "text/html": [
       "<div>\n",
       "<style scoped>\n",
       "    .dataframe tbody tr th:only-of-type {\n",
       "        vertical-align: middle;\n",
       "    }\n",
       "\n",
       "    .dataframe tbody tr th {\n",
       "        vertical-align: top;\n",
       "    }\n",
       "\n",
       "    .dataframe thead th {\n",
       "        text-align: right;\n",
       "    }\n",
       "</style>\n",
       "<table border=\"1\" class=\"dataframe\">\n",
       "  <thead>\n",
       "    <tr style=\"text-align: right;\">\n",
       "      <th></th>\n",
       "      <th>DateCrawled</th>\n",
       "      <th>Price</th>\n",
       "      <th>VehicleType</th>\n",
       "      <th>RegistrationYear</th>\n",
       "      <th>Gearbox</th>\n",
       "      <th>Power</th>\n",
       "      <th>Model</th>\n",
       "      <th>Kilometer</th>\n",
       "      <th>RegistrationMonth</th>\n",
       "      <th>FuelType</th>\n",
       "      <th>Brand</th>\n",
       "      <th>Repaired</th>\n",
       "      <th>DateCreated</th>\n",
       "      <th>NumberOfPictures</th>\n",
       "      <th>PostalCode</th>\n",
       "      <th>LastSeen</th>\n",
       "    </tr>\n",
       "  </thead>\n",
       "  <tbody>\n",
       "    <tr>\n",
       "      <th>0</th>\n",
       "      <td>2016-03-24 11:52:17</td>\n",
       "      <td>480</td>\n",
       "      <td>NaN</td>\n",
       "      <td>1993</td>\n",
       "      <td>manual</td>\n",
       "      <td>0</td>\n",
       "      <td>golf</td>\n",
       "      <td>150000</td>\n",
       "      <td>0</td>\n",
       "      <td>petrol</td>\n",
       "      <td>volkswagen</td>\n",
       "      <td>NaN</td>\n",
       "      <td>2016-03-24 00:00:00</td>\n",
       "      <td>0</td>\n",
       "      <td>70435</td>\n",
       "      <td>2016-04-07 03:16:57</td>\n",
       "    </tr>\n",
       "    <tr>\n",
       "      <th>1</th>\n",
       "      <td>2016-03-24 10:58:45</td>\n",
       "      <td>18300</td>\n",
       "      <td>coupe</td>\n",
       "      <td>2011</td>\n",
       "      <td>manual</td>\n",
       "      <td>190</td>\n",
       "      <td>NaN</td>\n",
       "      <td>125000</td>\n",
       "      <td>5</td>\n",
       "      <td>gasoline</td>\n",
       "      <td>audi</td>\n",
       "      <td>yes</td>\n",
       "      <td>2016-03-24 00:00:00</td>\n",
       "      <td>0</td>\n",
       "      <td>66954</td>\n",
       "      <td>2016-04-07 01:46:50</td>\n",
       "    </tr>\n",
       "    <tr>\n",
       "      <th>2</th>\n",
       "      <td>2016-03-14 12:52:21</td>\n",
       "      <td>9800</td>\n",
       "      <td>suv</td>\n",
       "      <td>2004</td>\n",
       "      <td>auto</td>\n",
       "      <td>163</td>\n",
       "      <td>grand</td>\n",
       "      <td>125000</td>\n",
       "      <td>8</td>\n",
       "      <td>gasoline</td>\n",
       "      <td>jeep</td>\n",
       "      <td>NaN</td>\n",
       "      <td>2016-03-14 00:00:00</td>\n",
       "      <td>0</td>\n",
       "      <td>90480</td>\n",
       "      <td>2016-04-05 12:47:46</td>\n",
       "    </tr>\n",
       "    <tr>\n",
       "      <th>3</th>\n",
       "      <td>2016-03-17 16:54:04</td>\n",
       "      <td>1500</td>\n",
       "      <td>small</td>\n",
       "      <td>2001</td>\n",
       "      <td>manual</td>\n",
       "      <td>75</td>\n",
       "      <td>golf</td>\n",
       "      <td>150000</td>\n",
       "      <td>6</td>\n",
       "      <td>petrol</td>\n",
       "      <td>volkswagen</td>\n",
       "      <td>no</td>\n",
       "      <td>2016-03-17 00:00:00</td>\n",
       "      <td>0</td>\n",
       "      <td>91074</td>\n",
       "      <td>2016-03-17 17:40:17</td>\n",
       "    </tr>\n",
       "    <tr>\n",
       "      <th>4</th>\n",
       "      <td>2016-03-31 17:25:20</td>\n",
       "      <td>3600</td>\n",
       "      <td>small</td>\n",
       "      <td>2008</td>\n",
       "      <td>manual</td>\n",
       "      <td>69</td>\n",
       "      <td>fabia</td>\n",
       "      <td>90000</td>\n",
       "      <td>7</td>\n",
       "      <td>gasoline</td>\n",
       "      <td>skoda</td>\n",
       "      <td>no</td>\n",
       "      <td>2016-03-31 00:00:00</td>\n",
       "      <td>0</td>\n",
       "      <td>60437</td>\n",
       "      <td>2016-04-06 10:17:21</td>\n",
       "    </tr>\n",
       "    <tr>\n",
       "      <th>5</th>\n",
       "      <td>2016-04-04 17:36:23</td>\n",
       "      <td>650</td>\n",
       "      <td>sedan</td>\n",
       "      <td>1995</td>\n",
       "      <td>manual</td>\n",
       "      <td>102</td>\n",
       "      <td>3er</td>\n",
       "      <td>150000</td>\n",
       "      <td>10</td>\n",
       "      <td>petrol</td>\n",
       "      <td>bmw</td>\n",
       "      <td>yes</td>\n",
       "      <td>2016-04-04 00:00:00</td>\n",
       "      <td>0</td>\n",
       "      <td>33775</td>\n",
       "      <td>2016-04-06 19:17:07</td>\n",
       "    </tr>\n",
       "    <tr>\n",
       "      <th>6</th>\n",
       "      <td>2016-04-01 20:48:51</td>\n",
       "      <td>2200</td>\n",
       "      <td>convertible</td>\n",
       "      <td>2004</td>\n",
       "      <td>manual</td>\n",
       "      <td>109</td>\n",
       "      <td>2_reihe</td>\n",
       "      <td>150000</td>\n",
       "      <td>8</td>\n",
       "      <td>petrol</td>\n",
       "      <td>peugeot</td>\n",
       "      <td>no</td>\n",
       "      <td>2016-04-01 00:00:00</td>\n",
       "      <td>0</td>\n",
       "      <td>67112</td>\n",
       "      <td>2016-04-05 18:18:39</td>\n",
       "    </tr>\n",
       "    <tr>\n",
       "      <th>7</th>\n",
       "      <td>2016-03-21 18:54:38</td>\n",
       "      <td>0</td>\n",
       "      <td>sedan</td>\n",
       "      <td>1980</td>\n",
       "      <td>manual</td>\n",
       "      <td>50</td>\n",
       "      <td>other</td>\n",
       "      <td>40000</td>\n",
       "      <td>7</td>\n",
       "      <td>petrol</td>\n",
       "      <td>volkswagen</td>\n",
       "      <td>no</td>\n",
       "      <td>2016-03-21 00:00:00</td>\n",
       "      <td>0</td>\n",
       "      <td>19348</td>\n",
       "      <td>2016-03-25 16:47:58</td>\n",
       "    </tr>\n",
       "    <tr>\n",
       "      <th>8</th>\n",
       "      <td>2016-04-04 23:42:13</td>\n",
       "      <td>14500</td>\n",
       "      <td>bus</td>\n",
       "      <td>2014</td>\n",
       "      <td>manual</td>\n",
       "      <td>125</td>\n",
       "      <td>c_max</td>\n",
       "      <td>30000</td>\n",
       "      <td>8</td>\n",
       "      <td>petrol</td>\n",
       "      <td>ford</td>\n",
       "      <td>NaN</td>\n",
       "      <td>2016-04-04 00:00:00</td>\n",
       "      <td>0</td>\n",
       "      <td>94505</td>\n",
       "      <td>2016-04-04 23:42:13</td>\n",
       "    </tr>\n",
       "    <tr>\n",
       "      <th>9</th>\n",
       "      <td>2016-03-17 10:53:50</td>\n",
       "      <td>999</td>\n",
       "      <td>small</td>\n",
       "      <td>1998</td>\n",
       "      <td>manual</td>\n",
       "      <td>101</td>\n",
       "      <td>golf</td>\n",
       "      <td>150000</td>\n",
       "      <td>0</td>\n",
       "      <td>NaN</td>\n",
       "      <td>volkswagen</td>\n",
       "      <td>NaN</td>\n",
       "      <td>2016-03-17 00:00:00</td>\n",
       "      <td>0</td>\n",
       "      <td>27472</td>\n",
       "      <td>2016-03-31 17:17:06</td>\n",
       "    </tr>\n",
       "    <tr>\n",
       "      <th>10</th>\n",
       "      <td>2016-03-26 19:54:18</td>\n",
       "      <td>2000</td>\n",
       "      <td>sedan</td>\n",
       "      <td>2004</td>\n",
       "      <td>manual</td>\n",
       "      <td>105</td>\n",
       "      <td>3_reihe</td>\n",
       "      <td>150000</td>\n",
       "      <td>12</td>\n",
       "      <td>petrol</td>\n",
       "      <td>mazda</td>\n",
       "      <td>no</td>\n",
       "      <td>2016-03-26 00:00:00</td>\n",
       "      <td>0</td>\n",
       "      <td>96224</td>\n",
       "      <td>2016-04-06 10:45:34</td>\n",
       "    </tr>\n",
       "    <tr>\n",
       "      <th>11</th>\n",
       "      <td>2016-04-07 10:06:22</td>\n",
       "      <td>2799</td>\n",
       "      <td>wagon</td>\n",
       "      <td>2005</td>\n",
       "      <td>manual</td>\n",
       "      <td>140</td>\n",
       "      <td>passat</td>\n",
       "      <td>150000</td>\n",
       "      <td>12</td>\n",
       "      <td>gasoline</td>\n",
       "      <td>volkswagen</td>\n",
       "      <td>yes</td>\n",
       "      <td>2016-04-07 00:00:00</td>\n",
       "      <td>0</td>\n",
       "      <td>57290</td>\n",
       "      <td>2016-04-07 10:25:17</td>\n",
       "    </tr>\n",
       "    <tr>\n",
       "      <th>12</th>\n",
       "      <td>2016-03-15 22:49:09</td>\n",
       "      <td>999</td>\n",
       "      <td>wagon</td>\n",
       "      <td>1995</td>\n",
       "      <td>manual</td>\n",
       "      <td>115</td>\n",
       "      <td>passat</td>\n",
       "      <td>150000</td>\n",
       "      <td>11</td>\n",
       "      <td>petrol</td>\n",
       "      <td>volkswagen</td>\n",
       "      <td>NaN</td>\n",
       "      <td>2016-03-15 00:00:00</td>\n",
       "      <td>0</td>\n",
       "      <td>37269</td>\n",
       "      <td>2016-04-01 13:16:16</td>\n",
       "    </tr>\n",
       "    <tr>\n",
       "      <th>13</th>\n",
       "      <td>2016-03-21 21:37:40</td>\n",
       "      <td>2500</td>\n",
       "      <td>wagon</td>\n",
       "      <td>2004</td>\n",
       "      <td>manual</td>\n",
       "      <td>131</td>\n",
       "      <td>passat</td>\n",
       "      <td>150000</td>\n",
       "      <td>2</td>\n",
       "      <td>NaN</td>\n",
       "      <td>volkswagen</td>\n",
       "      <td>no</td>\n",
       "      <td>2016-03-21 00:00:00</td>\n",
       "      <td>0</td>\n",
       "      <td>90762</td>\n",
       "      <td>2016-03-23 02:50:54</td>\n",
       "    </tr>\n",
       "    <tr>\n",
       "      <th>14</th>\n",
       "      <td>2016-03-21 12:57:01</td>\n",
       "      <td>17999</td>\n",
       "      <td>suv</td>\n",
       "      <td>2011</td>\n",
       "      <td>manual</td>\n",
       "      <td>190</td>\n",
       "      <td>navara</td>\n",
       "      <td>70000</td>\n",
       "      <td>3</td>\n",
       "      <td>gasoline</td>\n",
       "      <td>nissan</td>\n",
       "      <td>no</td>\n",
       "      <td>2016-03-21 00:00:00</td>\n",
       "      <td>0</td>\n",
       "      <td>4177</td>\n",
       "      <td>2016-04-06 07:45:42</td>\n",
       "    </tr>\n",
       "    <tr>\n",
       "      <th>15</th>\n",
       "      <td>2016-03-11 21:39:15</td>\n",
       "      <td>450</td>\n",
       "      <td>small</td>\n",
       "      <td>1910</td>\n",
       "      <td>NaN</td>\n",
       "      <td>0</td>\n",
       "      <td>ka</td>\n",
       "      <td>5000</td>\n",
       "      <td>0</td>\n",
       "      <td>petrol</td>\n",
       "      <td>ford</td>\n",
       "      <td>NaN</td>\n",
       "      <td>2016-03-11 00:00:00</td>\n",
       "      <td>0</td>\n",
       "      <td>24148</td>\n",
       "      <td>2016-03-19 08:46:47</td>\n",
       "    </tr>\n",
       "    <tr>\n",
       "      <th>16</th>\n",
       "      <td>2016-04-01 12:46:46</td>\n",
       "      <td>300</td>\n",
       "      <td>NaN</td>\n",
       "      <td>2016</td>\n",
       "      <td>NaN</td>\n",
       "      <td>60</td>\n",
       "      <td>polo</td>\n",
       "      <td>150000</td>\n",
       "      <td>0</td>\n",
       "      <td>petrol</td>\n",
       "      <td>volkswagen</td>\n",
       "      <td>NaN</td>\n",
       "      <td>2016-04-01 00:00:00</td>\n",
       "      <td>0</td>\n",
       "      <td>38871</td>\n",
       "      <td>2016-04-01 12:46:46</td>\n",
       "    </tr>\n",
       "    <tr>\n",
       "      <th>17</th>\n",
       "      <td>2016-03-20 10:25:19</td>\n",
       "      <td>1750</td>\n",
       "      <td>small</td>\n",
       "      <td>2004</td>\n",
       "      <td>auto</td>\n",
       "      <td>75</td>\n",
       "      <td>twingo</td>\n",
       "      <td>150000</td>\n",
       "      <td>2</td>\n",
       "      <td>petrol</td>\n",
       "      <td>renault</td>\n",
       "      <td>no</td>\n",
       "      <td>2016-03-20 00:00:00</td>\n",
       "      <td>0</td>\n",
       "      <td>65599</td>\n",
       "      <td>2016-04-06 13:16:07</td>\n",
       "    </tr>\n",
       "    <tr>\n",
       "      <th>18</th>\n",
       "      <td>2016-03-23 15:48:05</td>\n",
       "      <td>7550</td>\n",
       "      <td>bus</td>\n",
       "      <td>2007</td>\n",
       "      <td>manual</td>\n",
       "      <td>136</td>\n",
       "      <td>c_max</td>\n",
       "      <td>150000</td>\n",
       "      <td>6</td>\n",
       "      <td>gasoline</td>\n",
       "      <td>ford</td>\n",
       "      <td>no</td>\n",
       "      <td>2016-03-23 00:00:00</td>\n",
       "      <td>0</td>\n",
       "      <td>88361</td>\n",
       "      <td>2016-04-05 18:45:11</td>\n",
       "    </tr>\n",
       "    <tr>\n",
       "      <th>19</th>\n",
       "      <td>2016-04-01 22:55:47</td>\n",
       "      <td>1850</td>\n",
       "      <td>bus</td>\n",
       "      <td>2004</td>\n",
       "      <td>manual</td>\n",
       "      <td>102</td>\n",
       "      <td>a_klasse</td>\n",
       "      <td>150000</td>\n",
       "      <td>1</td>\n",
       "      <td>petrol</td>\n",
       "      <td>mercedes_benz</td>\n",
       "      <td>no</td>\n",
       "      <td>2016-04-01 00:00:00</td>\n",
       "      <td>0</td>\n",
       "      <td>49565</td>\n",
       "      <td>2016-04-05 22:46:05</td>\n",
       "    </tr>\n",
       "  </tbody>\n",
       "</table>\n",
       "</div>"
      ],
      "text/plain": [
       "            DateCrawled  Price  VehicleType  RegistrationYear Gearbox  Power  \\\n",
       "0   2016-03-24 11:52:17    480          NaN              1993  manual      0   \n",
       "1   2016-03-24 10:58:45  18300        coupe              2011  manual    190   \n",
       "2   2016-03-14 12:52:21   9800          suv              2004    auto    163   \n",
       "3   2016-03-17 16:54:04   1500        small              2001  manual     75   \n",
       "4   2016-03-31 17:25:20   3600        small              2008  manual     69   \n",
       "5   2016-04-04 17:36:23    650        sedan              1995  manual    102   \n",
       "6   2016-04-01 20:48:51   2200  convertible              2004  manual    109   \n",
       "7   2016-03-21 18:54:38      0        sedan              1980  manual     50   \n",
       "8   2016-04-04 23:42:13  14500          bus              2014  manual    125   \n",
       "9   2016-03-17 10:53:50    999        small              1998  manual    101   \n",
       "10  2016-03-26 19:54:18   2000        sedan              2004  manual    105   \n",
       "11  2016-04-07 10:06:22   2799        wagon              2005  manual    140   \n",
       "12  2016-03-15 22:49:09    999        wagon              1995  manual    115   \n",
       "13  2016-03-21 21:37:40   2500        wagon              2004  manual    131   \n",
       "14  2016-03-21 12:57:01  17999          suv              2011  manual    190   \n",
       "15  2016-03-11 21:39:15    450        small              1910     NaN      0   \n",
       "16  2016-04-01 12:46:46    300          NaN              2016     NaN     60   \n",
       "17  2016-03-20 10:25:19   1750        small              2004    auto     75   \n",
       "18  2016-03-23 15:48:05   7550          bus              2007  manual    136   \n",
       "19  2016-04-01 22:55:47   1850          bus              2004  manual    102   \n",
       "\n",
       "       Model  Kilometer  RegistrationMonth  FuelType          Brand Repaired  \\\n",
       "0       golf     150000                  0    petrol     volkswagen      NaN   \n",
       "1        NaN     125000                  5  gasoline           audi      yes   \n",
       "2      grand     125000                  8  gasoline           jeep      NaN   \n",
       "3       golf     150000                  6    petrol     volkswagen       no   \n",
       "4      fabia      90000                  7  gasoline          skoda       no   \n",
       "5        3er     150000                 10    petrol            bmw      yes   \n",
       "6    2_reihe     150000                  8    petrol        peugeot       no   \n",
       "7      other      40000                  7    petrol     volkswagen       no   \n",
       "8      c_max      30000                  8    petrol           ford      NaN   \n",
       "9       golf     150000                  0       NaN     volkswagen      NaN   \n",
       "10   3_reihe     150000                 12    petrol          mazda       no   \n",
       "11    passat     150000                 12  gasoline     volkswagen      yes   \n",
       "12    passat     150000                 11    petrol     volkswagen      NaN   \n",
       "13    passat     150000                  2       NaN     volkswagen       no   \n",
       "14    navara      70000                  3  gasoline         nissan       no   \n",
       "15        ka       5000                  0    petrol           ford      NaN   \n",
       "16      polo     150000                  0    petrol     volkswagen      NaN   \n",
       "17    twingo     150000                  2    petrol        renault       no   \n",
       "18     c_max     150000                  6  gasoline           ford       no   \n",
       "19  a_klasse     150000                  1    petrol  mercedes_benz       no   \n",
       "\n",
       "            DateCreated  NumberOfPictures  PostalCode             LastSeen  \n",
       "0   2016-03-24 00:00:00                 0       70435  2016-04-07 03:16:57  \n",
       "1   2016-03-24 00:00:00                 0       66954  2016-04-07 01:46:50  \n",
       "2   2016-03-14 00:00:00                 0       90480  2016-04-05 12:47:46  \n",
       "3   2016-03-17 00:00:00                 0       91074  2016-03-17 17:40:17  \n",
       "4   2016-03-31 00:00:00                 0       60437  2016-04-06 10:17:21  \n",
       "5   2016-04-04 00:00:00                 0       33775  2016-04-06 19:17:07  \n",
       "6   2016-04-01 00:00:00                 0       67112  2016-04-05 18:18:39  \n",
       "7   2016-03-21 00:00:00                 0       19348  2016-03-25 16:47:58  \n",
       "8   2016-04-04 00:00:00                 0       94505  2016-04-04 23:42:13  \n",
       "9   2016-03-17 00:00:00                 0       27472  2016-03-31 17:17:06  \n",
       "10  2016-03-26 00:00:00                 0       96224  2016-04-06 10:45:34  \n",
       "11  2016-04-07 00:00:00                 0       57290  2016-04-07 10:25:17  \n",
       "12  2016-03-15 00:00:00                 0       37269  2016-04-01 13:16:16  \n",
       "13  2016-03-21 00:00:00                 0       90762  2016-03-23 02:50:54  \n",
       "14  2016-03-21 00:00:00                 0        4177  2016-04-06 07:45:42  \n",
       "15  2016-03-11 00:00:00                 0       24148  2016-03-19 08:46:47  \n",
       "16  2016-04-01 00:00:00                 0       38871  2016-04-01 12:46:46  \n",
       "17  2016-03-20 00:00:00                 0       65599  2016-04-06 13:16:07  \n",
       "18  2016-03-23 00:00:00                 0       88361  2016-04-05 18:45:11  \n",
       "19  2016-04-01 00:00:00                 0       49565  2016-04-05 22:46:05  "
      ]
     },
     "execution_count": 22,
     "metadata": {},
     "output_type": "execute_result"
    },
    {
     "data": {
      "image/png": "[encoded data removed]",
      "text/plain": [
       "<Figure size 864x576 with 9 Axes>"
      ]
     },
     "metadata": {
      "needs_background": "light"
     },
     "output_type": "display_data"
    }
   ],
   "source": [
    "data.info()\n",
    "data.hist(figsize=(12, 8), bins=30);\n",
    "data.head(20)"
   ]
  },
  {
   "cell_type": "code",
   "execution_count": 23,
   "metadata": {},
   "outputs": [
    {
     "name": "stdout",
     "output_type": "stream",
     "text": [
      "               Price  RegistrationYear          Power      Kilometer  \\\n",
      "count  354369.000000     354369.000000  354369.000000  354369.000000   \n",
      "mean     4416.656776       2004.234448     110.094337  128211.172535   \n",
      "std      4514.158514         90.227958     189.850405   37905.341530   \n",
      "min         0.000000       1000.000000       0.000000    5000.000000   \n",
      "25%      1050.000000       1999.000000      69.000000  125000.000000   \n",
      "50%      2700.000000       2003.000000     105.000000  150000.000000   \n",
      "75%      6400.000000       2008.000000     143.000000  150000.000000   \n",
      "max     20000.000000       9999.000000   20000.000000  150000.000000   \n",
      "\n",
      "       RegistrationMonth  NumberOfPictures     PostalCode  \n",
      "count      354369.000000          354369.0  354369.000000  \n",
      "mean            5.714645               0.0   50508.689087  \n",
      "std             3.726421               0.0   25783.096248  \n",
      "min             0.000000               0.0    1067.000000  \n",
      "25%             3.000000               0.0   30165.000000  \n",
      "50%             6.000000               0.0   49413.000000  \n",
      "75%             9.000000               0.0   71083.000000  \n",
      "max            12.000000               0.0   99998.000000  \n"
     ]
    },
    {
     "data": {
      "text/html": [
       "<div>\n",
       "<style scoped>\n",
       "    .dataframe tbody tr th:only-of-type {\n",
       "        vertical-align: middle;\n",
       "    }\n",
       "\n",
       "    .dataframe tbody tr th {\n",
       "        vertical-align: top;\n",
       "    }\n",
       "\n",
       "    .dataframe thead th {\n",
       "        text-align: right;\n",
       "    }\n",
       "</style>\n",
       "<table border=\"1\" class=\"dataframe\">\n",
       "  <thead>\n",
       "    <tr style=\"text-align: right;\">\n",
       "      <th></th>\n",
       "      <th>Price</th>\n",
       "      <th>RegistrationYear</th>\n",
       "      <th>Power</th>\n",
       "      <th>Kilometer</th>\n",
       "      <th>RegistrationMonth</th>\n",
       "      <th>NumberOfPictures</th>\n",
       "      <th>PostalCode</th>\n",
       "    </tr>\n",
       "  </thead>\n",
       "  <tbody>\n",
       "    <tr>\n",
       "      <th>Price</th>\n",
       "      <td>1.000000</td>\n",
       "      <td>0.026916</td>\n",
       "      <td>0.158872</td>\n",
       "      <td>-0.333199</td>\n",
       "      <td>0.110581</td>\n",
       "      <td>NaN</td>\n",
       "      <td>0.076055</td>\n",
       "    </tr>\n",
       "    <tr>\n",
       "      <th>RegistrationYear</th>\n",
       "      <td>0.026916</td>\n",
       "      <td>1.000000</td>\n",
       "      <td>-0.000828</td>\n",
       "      <td>-0.053447</td>\n",
       "      <td>-0.011619</td>\n",
       "      <td>NaN</td>\n",
       "      <td>-0.003459</td>\n",
       "    </tr>\n",
       "    <tr>\n",
       "      <th>Power</th>\n",
       "      <td>0.158872</td>\n",
       "      <td>-0.000828</td>\n",
       "      <td>1.000000</td>\n",
       "      <td>0.024002</td>\n",
       "      <td>0.043380</td>\n",
       "      <td>NaN</td>\n",
       "      <td>0.021665</td>\n",
       "    </tr>\n",
       "    <tr>\n",
       "      <th>Kilometer</th>\n",
       "      <td>-0.333199</td>\n",
       "      <td>-0.053447</td>\n",
       "      <td>0.024002</td>\n",
       "      <td>1.000000</td>\n",
       "      <td>0.009571</td>\n",
       "      <td>NaN</td>\n",
       "      <td>-0.007698</td>\n",
       "    </tr>\n",
       "    <tr>\n",
       "      <th>RegistrationMonth</th>\n",
       "      <td>0.110581</td>\n",
       "      <td>-0.011619</td>\n",
       "      <td>0.043380</td>\n",
       "      <td>0.009571</td>\n",
       "      <td>1.000000</td>\n",
       "      <td>NaN</td>\n",
       "      <td>0.013995</td>\n",
       "    </tr>\n",
       "    <tr>\n",
       "      <th>NumberOfPictures</th>\n",
       "      <td>NaN</td>\n",
       "      <td>NaN</td>\n",
       "      <td>NaN</td>\n",
       "      <td>NaN</td>\n",
       "      <td>NaN</td>\n",
       "      <td>NaN</td>\n",
       "      <td>NaN</td>\n",
       "    </tr>\n",
       "    <tr>\n",
       "      <th>PostalCode</th>\n",
       "      <td>0.076055</td>\n",
       "      <td>-0.003459</td>\n",
       "      <td>0.021665</td>\n",
       "      <td>-0.007698</td>\n",
       "      <td>0.013995</td>\n",
       "      <td>NaN</td>\n",
       "      <td>1.000000</td>\n",
       "    </tr>\n",
       "  </tbody>\n",
       "</table>\n",
       "</div>"
      ],
      "text/plain": [
       "                      Price  RegistrationYear     Power  Kilometer  \\\n",
       "Price              1.000000          0.026916  0.158872  -0.333199   \n",
       "RegistrationYear   0.026916          1.000000 -0.000828  -0.053447   \n",
       "Power              0.158872         -0.000828  1.000000   0.024002   \n",
       "Kilometer         -0.333199         -0.053447  0.024002   1.000000   \n",
       "RegistrationMonth  0.110581         -0.011619  0.043380   0.009571   \n",
       "NumberOfPictures        NaN               NaN       NaN        NaN   \n",
       "PostalCode         0.076055         -0.003459  0.021665  -0.007698   \n",
       "\n",
       "                   RegistrationMonth  NumberOfPictures  PostalCode  \n",
       "Price                       0.110581               NaN    0.076055  \n",
       "RegistrationYear           -0.011619               NaN   -0.003459  \n",
       "Power                       0.043380               NaN    0.021665  \n",
       "Kilometer                   0.009571               NaN   -0.007698  \n",
       "RegistrationMonth           1.000000               NaN    0.013995  \n",
       "NumberOfPictures                 NaN               NaN         NaN  \n",
       "PostalCode                  0.013995               NaN    1.000000  "
      ]
     },
     "execution_count": 23,
     "metadata": {},
     "output_type": "execute_result"
    }
   ],
   "source": [
    "print(data.describe())\n",
    "data.corr()"
   ]
  },
  {
   "cell_type": "code",
   "execution_count": 24,
   "metadata": {},
   "outputs": [
    {
     "data": {
      "text/plain": [
       "array(['volkswagen', 'audi', 'jeep', 'skoda', 'bmw', 'peugeot', 'ford',\n",
       "       'mazda', 'nissan', 'renault', 'mercedes_benz', 'opel', 'seat',\n",
       "       'citroen', 'honda', 'fiat', 'mini', 'smart', 'hyundai',\n",
       "       'sonstige_autos', 'alfa_romeo', 'subaru', 'volvo', 'mitsubishi',\n",
       "       'kia', 'suzuki', 'lancia', 'toyota', 'chevrolet', 'dacia',\n",
       "       'daihatsu', 'trabant', 'saab', 'chrysler', 'jaguar', 'daewoo',\n",
       "       'porsche', 'rover', 'land_rover', 'lada'], dtype=object)"
      ]
     },
     "execution_count": 24,
     "metadata": {},
     "output_type": "execute_result"
    }
   ],
   "source": [
    "data.Brand.unique()"
   ]
  },
  {
   "cell_type": "markdown",
   "metadata": {},
   "source": [
    "Анализируем данные по колонкам: \n",
    "\n",
    "\n",
    "- DateCreated — дата создания анкеты, PostalCode — почтовый индекс владельца анкеты, DateCrawled - дата скачивания анкеты из базы, LastSeen — дата последней активности пользователя. Предсказания на основе этих данных будут не совсем адекватны, уберём\n",
    "\n",
    "\n",
    "- Describe и hist показывают, что столбец NumberOfPictures состоит из одних нулей. По всей видимости, что-то сломалось, когда данные переводили в числовой вид. Удалим этот столбец, но стоит выяснить, в чём причина сбоя у тех, кто собирал данные.\n",
    "\n",
    "\n",
    "- Значения в признаке RegistrationYear - от 1000 до 9999, хотя большая часть, судя по гисторграмме, имеет реалистичное значение около 2000 - найдем интервал адекватных значений, неадекватные удалим\n",
    "\n",
    "\n",
    "- В столбце RegistrationMonth значения от 0 до 12 - в сумме получается 13. Где-то считали первый месяц как '0' (как принято), а где-то как '1'. Понять как именно - мы не сможем, так что этот столбец мы удалим - года регистрации хватит, а данные о месяце возможно и не были бы так полезны\n",
    "\n",
    "\n",
    "- Kilometr - пропусков нет, все значения лежат в адекватном интервале\n",
    "\n",
    "\n",
    "- Brand - всё в порядке\n",
    "\n",
    "\n",
    "- Пропуски имеются в пяти колонках: VehicleType, Gearbox, Model, FuelType и Repaired. Пропуски в Repaired мы не сможем заполнить - информация о том, был ли автомобиль в ремонте, индивидуальная для каждого авто - поставим заглушку. Пропуски в Model - удалим после того, как сделаем всё возможное, чтобы заполнить остальные данные. А пропуски в Gearbox, VehicleType и FuelType можно заполнить, сгруппировав по колонкам Brand и Model для тех строк, где нет пропуска в Model\n",
    "\n",
    "\n",
    "- Видим значения '0' в столбцах 'Price' и 'Power' - такого быть не может, нужно удалить или изменить\n",
    "\n",
    "\n",
    "-  В признаке FuelType есть значения 'petrol' и 'gasoline' - оба слова означают бензин на разных диалектах английского, объединим их под именем 'petrol'\n",
    "\n",
    "\n",
    "- Сильных корреляций не обнаружено"
   ]
  },
  {
   "cell_type": "markdown",
   "metadata": {},
   "source": [
    "### Удаляем аномалии, заполняем пропуски"
   ]
  },
  {
   "cell_type": "markdown",
   "metadata": {},
   "source": [
    "Прежде, чем удалять или менять какие-либо признаки, проверим данные на явные дубликаты. Если это сделать после, то в явные дубликаты могут попасть данные, которые изначально были разными"
   ]
  },
  {
   "cell_type": "code",
   "execution_count": 25,
   "metadata": {},
   "outputs": [
    {
     "data": {
      "text/plain": [
       "4"
      ]
     },
     "execution_count": 25,
     "metadata": {},
     "output_type": "execute_result"
    }
   ],
   "source": [
    "data.duplicated().sum()"
   ]
  },
  {
   "cell_type": "markdown",
   "metadata": {},
   "source": [
    "Удаляем явные дубликаты"
   ]
  },
  {
   "cell_type": "code",
   "execution_count": 26,
   "metadata": {},
   "outputs": [
    {
     "data": {
      "text/plain": [
       "0"
      ]
     },
     "execution_count": 26,
     "metadata": {},
     "output_type": "execute_result"
    }
   ],
   "source": [
    "data = data.drop_duplicates()\n",
    "data.duplicated().sum()"
   ]
  },
  {
   "cell_type": "markdown",
   "metadata": {},
   "source": [
    "Удаляем признаки, которые решили отбросить в предыдущем пункте"
   ]
  },
  {
   "cell_type": "code",
   "execution_count": 27,
   "metadata": {},
   "outputs": [
    {
     "data": {
      "text/html": [
       "<div>\n",
       "<style scoped>\n",
       "    .dataframe tbody tr th:only-of-type {\n",
       "        vertical-align: middle;\n",
       "    }\n",
       "\n",
       "    .dataframe tbody tr th {\n",
       "        vertical-align: top;\n",
       "    }\n",
       "\n",
       "    .dataframe thead th {\n",
       "        text-align: right;\n",
       "    }\n",
       "</style>\n",
       "<table border=\"1\" class=\"dataframe\">\n",
       "  <thead>\n",
       "    <tr style=\"text-align: right;\">\n",
       "      <th></th>\n",
       "      <th>Price</th>\n",
       "      <th>VehicleType</th>\n",
       "      <th>RegistrationYear</th>\n",
       "      <th>Gearbox</th>\n",
       "      <th>Power</th>\n",
       "      <th>Model</th>\n",
       "      <th>Kilometer</th>\n",
       "      <th>FuelType</th>\n",
       "      <th>Brand</th>\n",
       "      <th>Repaired</th>\n",
       "    </tr>\n",
       "  </thead>\n",
       "  <tbody>\n",
       "    <tr>\n",
       "      <th>0</th>\n",
       "      <td>480</td>\n",
       "      <td>NaN</td>\n",
       "      <td>1993</td>\n",
       "      <td>manual</td>\n",
       "      <td>0</td>\n",
       "      <td>golf</td>\n",
       "      <td>150000</td>\n",
       "      <td>petrol</td>\n",
       "      <td>volkswagen</td>\n",
       "      <td>NaN</td>\n",
       "    </tr>\n",
       "    <tr>\n",
       "      <th>1</th>\n",
       "      <td>18300</td>\n",
       "      <td>coupe</td>\n",
       "      <td>2011</td>\n",
       "      <td>manual</td>\n",
       "      <td>190</td>\n",
       "      <td>NaN</td>\n",
       "      <td>125000</td>\n",
       "      <td>gasoline</td>\n",
       "      <td>audi</td>\n",
       "      <td>yes</td>\n",
       "    </tr>\n",
       "    <tr>\n",
       "      <th>2</th>\n",
       "      <td>9800</td>\n",
       "      <td>suv</td>\n",
       "      <td>2004</td>\n",
       "      <td>auto</td>\n",
       "      <td>163</td>\n",
       "      <td>grand</td>\n",
       "      <td>125000</td>\n",
       "      <td>gasoline</td>\n",
       "      <td>jeep</td>\n",
       "      <td>NaN</td>\n",
       "    </tr>\n",
       "    <tr>\n",
       "      <th>3</th>\n",
       "      <td>1500</td>\n",
       "      <td>small</td>\n",
       "      <td>2001</td>\n",
       "      <td>manual</td>\n",
       "      <td>75</td>\n",
       "      <td>golf</td>\n",
       "      <td>150000</td>\n",
       "      <td>petrol</td>\n",
       "      <td>volkswagen</td>\n",
       "      <td>no</td>\n",
       "    </tr>\n",
       "    <tr>\n",
       "      <th>4</th>\n",
       "      <td>3600</td>\n",
       "      <td>small</td>\n",
       "      <td>2008</td>\n",
       "      <td>manual</td>\n",
       "      <td>69</td>\n",
       "      <td>fabia</td>\n",
       "      <td>90000</td>\n",
       "      <td>gasoline</td>\n",
       "      <td>skoda</td>\n",
       "      <td>no</td>\n",
       "    </tr>\n",
       "  </tbody>\n",
       "</table>\n",
       "</div>"
      ],
      "text/plain": [
       "   Price VehicleType  RegistrationYear Gearbox  Power  Model  Kilometer  \\\n",
       "0    480         NaN              1993  manual      0   golf     150000   \n",
       "1  18300       coupe              2011  manual    190    NaN     125000   \n",
       "2   9800         suv              2004    auto    163  grand     125000   \n",
       "3   1500       small              2001  manual     75   golf     150000   \n",
       "4   3600       small              2008  manual     69  fabia      90000   \n",
       "\n",
       "   FuelType       Brand Repaired  \n",
       "0    petrol  volkswagen      NaN  \n",
       "1  gasoline        audi      yes  \n",
       "2  gasoline        jeep      NaN  \n",
       "3    petrol  volkswagen       no  \n",
       "4  gasoline       skoda       no  "
      ]
     },
     "execution_count": 27,
     "metadata": {},
     "output_type": "execute_result"
    }
   ],
   "source": [
    "data = data.drop(['DateCreated', 'PostalCode', 'DateCrawled', 'LastSeen', 'NumberOfPictures', 'RegistrationMonth'], axis=1)\n",
    "\n",
    "data.head()"
   ]
  },
  {
   "cell_type": "markdown",
   "metadata": {},
   "source": [
    "#### Удаляем аномалии"
   ]
  },
  {
   "cell_type": "markdown",
   "metadata": {},
   "source": [
    "Определяем адекватный промежуток для признака RegistrationYear"
   ]
  },
  {
   "cell_type": "code",
   "execution_count": 28,
   "metadata": {},
   "outputs": [
    {
     "data": {
      "text/plain": [
       "<AxesSubplot:>"
      ]
     },
     "execution_count": 28,
     "metadata": {},
     "output_type": "execute_result"
    },
    {
     "data": {
      "image/png": "[encoded data removed]",
      "text/plain": [
       "<Figure size 432x288 with 1 Axes>"
      ]
     },
     "metadata": {
      "needs_background": "light"
     },
     "output_type": "display_data"
    }
   ],
   "source": [
    "data.query('1950 < RegistrationYear < 2023').RegistrationYear.hist()"
   ]
  },
  {
   "cell_type": "markdown",
   "metadata": {},
   "source": [
    "На основе гистограммы возьмём 1960 год как нижнюю границу и 2016 как верхнюю"
   ]
  },
  {
   "cell_type": "code",
   "execution_count": 29,
   "metadata": {},
   "outputs": [],
   "source": [
    "data = data.query('1960 < RegistrationYear < 2017')"
   ]
  },
  {
   "cell_type": "markdown",
   "metadata": {},
   "source": [
    "Меняем тип топлива 'gasoline' на 'petrol'"
   ]
  },
  {
   "cell_type": "code",
   "execution_count": 30,
   "metadata": {},
   "outputs": [
    {
     "name": "stdout",
     "output_type": "stream",
     "text": [
      "petrol      209705\n",
      "gasoline     96287\n",
      "lpg           5158\n",
      "cng            542\n",
      "hybrid         224\n",
      "other          192\n",
      "electric        89\n",
      "Name: FuelType, dtype: int64\n"
     ]
    },
    {
     "data": {
      "text/plain": [
       "petrol      305992\n",
       "lpg           5158\n",
       "cng            542\n",
       "hybrid         224\n",
       "other          192\n",
       "electric        89\n",
       "Name: FuelType, dtype: int64"
      ]
     },
     "execution_count": 30,
     "metadata": {},
     "output_type": "execute_result"
    }
   ],
   "source": [
    "print(data.FuelType.value_counts())\n",
    "\n",
    "data.FuelType = np.where(data.FuelType == 'gasoline', 'petrol', data.FuelType)\n",
    "\n",
    "data.FuelType.value_counts()"
   ]
  },
  {
   "cell_type": "markdown",
   "metadata": {},
   "source": [
    "Посмотрим на \"нули\" и другие низкие значения в Price и Power"
   ]
  },
  {
   "cell_type": "code",
   "execution_count": 31,
   "metadata": {},
   "outputs": [
    {
     "data": {
      "text/plain": [
       "0     9887\n",
       "1     1094\n",
       "2       10\n",
       "3        7\n",
       "4        1\n",
       "5       26\n",
       "7        3\n",
       "8        9\n",
       "9        8\n",
       "10      82\n",
       "11       5\n",
       "12       8\n",
       "13       7\n",
       "14       4\n",
       "15      25\n",
       "16       2\n",
       "17       5\n",
       "18       2\n",
       "19       3\n",
       "20      46\n",
       "Name: Price, dtype: int64"
      ]
     },
     "execution_count": 31,
     "metadata": {},
     "output_type": "execute_result"
    },
    {
     "data": {
      "image/png": "[encoded data removed]",
      "text/plain": [
       "<Figure size 432x288 with 1 Axes>"
      ]
     },
     "metadata": {
      "needs_background": "light"
     },
     "output_type": "display_data"
    }
   ],
   "source": [
    "data.query('0 < Price < 500').Price.hist(bins=50)\n",
    "data.Price.value_counts().sort_index().head(20)"
   ]
  },
  {
   "cell_type": "code",
   "execution_count": 32,
   "metadata": {},
   "outputs": [
    {
     "data": {
      "text/plain": [
       "0     36137\n",
       "1        30\n",
       "2        10\n",
       "3         8\n",
       "4        30\n",
       "5       102\n",
       "6        11\n",
       "7        11\n",
       "8         6\n",
       "9         4\n",
       "10       12\n",
       "11       27\n",
       "12       14\n",
       "13        6\n",
       "14       19\n",
       "15       15\n",
       "16        6\n",
       "17        7\n",
       "18       48\n",
       "19       10\n",
       "Name: Power, dtype: int64"
      ]
     },
     "execution_count": 32,
     "metadata": {},
     "output_type": "execute_result"
    }
   ],
   "source": [
    "data.Power.value_counts().sort_index().head(20)"
   ]
  },
  {
   "cell_type": "markdown",
   "metadata": {},
   "source": [
    "Значения цены меньше 200 отбросим - сервис продаёт машины, а не отдаёт в добрые руки. А вот Power меньше 50 попробуем перевести в NaN и заполнить как и другие пропуски, по модели авто, таким образом даже если в данных есть микрокары мы их не затронем"
   ]
  },
  {
   "cell_type": "code",
   "execution_count": 33,
   "metadata": {},
   "outputs": [
    {
     "data": {
      "text/html": [
       "<div>\n",
       "<style scoped>\n",
       "    .dataframe tbody tr th:only-of-type {\n",
       "        vertical-align: middle;\n",
       "    }\n",
       "\n",
       "    .dataframe tbody tr th {\n",
       "        vertical-align: top;\n",
       "    }\n",
       "\n",
       "    .dataframe thead th {\n",
       "        text-align: right;\n",
       "    }\n",
       "</style>\n",
       "<table border=\"1\" class=\"dataframe\">\n",
       "  <thead>\n",
       "    <tr style=\"text-align: right;\">\n",
       "      <th></th>\n",
       "      <th>Price</th>\n",
       "      <th>VehicleType</th>\n",
       "      <th>RegistrationYear</th>\n",
       "      <th>Gearbox</th>\n",
       "      <th>Power</th>\n",
       "      <th>Model</th>\n",
       "      <th>Kilometer</th>\n",
       "      <th>FuelType</th>\n",
       "      <th>Brand</th>\n",
       "      <th>Repaired</th>\n",
       "    </tr>\n",
       "  </thead>\n",
       "  <tbody>\n",
       "  </tbody>\n",
       "</table>\n",
       "</div>"
      ],
      "text/plain": [
       "Empty DataFrame\n",
       "Columns: [Price, VehicleType, RegistrationYear, Gearbox, Power, Model, Kilometer, FuelType, Brand, Repaired]\n",
       "Index: []"
      ]
     },
     "execution_count": 33,
     "metadata": {},
     "output_type": "execute_result"
    }
   ],
   "source": [
    "data.Power = data.Power.where(data.Power>51, np.nan)\n",
    "data = data.query('Price > 199')\n",
    "data.query('Power < 50')"
   ]
  },
  {
   "cell_type": "code",
   "execution_count": 34,
   "metadata": {},
   "outputs": [
    {
     "name": "stdout",
     "output_type": "stream",
     "text": [
      "<class 'pandas.core.frame.DataFrame'>\n",
      "Int64Index: 322884 entries, 0 to 354368\n",
      "Data columns (total 10 columns):\n",
      " #   Column            Non-Null Count   Dtype  \n",
      "---  ------            --------------   -----  \n",
      " 0   Price             322884 non-null  int64  \n",
      " 1   VehicleType       305220 non-null  object \n",
      " 2   RegistrationYear  322884 non-null  int64  \n",
      " 3   Gearbox           309138 non-null  object \n",
      " 4   Power             283690 non-null  float64\n",
      " 5   Model             308303 non-null  object \n",
      " 6   Kilometer         322884 non-null  int64  \n",
      " 7   FuelType          300971 non-null  object \n",
      " 8   Brand             322884 non-null  object \n",
      " 9   Repaired          266493 non-null  object \n",
      "dtypes: float64(1), int64(3), object(6)\n",
      "memory usage: 27.1+ MB\n"
     ]
    },
    {
     "data": {
      "text/plain": [
       "<AxesSubplot:>"
      ]
     },
     "execution_count": 34,
     "metadata": {},
     "output_type": "execute_result"
    },
    {
     "data": {
      "image/png": "[encoded data removed]",
      "text/plain": [
       "<Figure size 432x288 with 1 Axes>"
      ]
     },
     "metadata": {
      "needs_background": "light"
     },
     "output_type": "display_data"
    }
   ],
   "source": [
    "data.info()\n",
    "data.query('1000 < Power < 10000').Power.hist(bins=50)"
   ]
  },
  {
   "cell_type": "markdown",
   "metadata": {},
   "source": [
    "Также в признаке Power оставим только те объекты, у которых лошадиная сила меньше 2000"
   ]
  },
  {
   "cell_type": "code",
   "execution_count": 35,
   "metadata": {},
   "outputs": [
    {
     "data": {
      "text/html": [
       "<div>\n",
       "<style scoped>\n",
       "    .dataframe tbody tr th:only-of-type {\n",
       "        vertical-align: middle;\n",
       "    }\n",
       "\n",
       "    .dataframe tbody tr th {\n",
       "        vertical-align: top;\n",
       "    }\n",
       "\n",
       "    .dataframe thead th {\n",
       "        text-align: right;\n",
       "    }\n",
       "</style>\n",
       "<table border=\"1\" class=\"dataframe\">\n",
       "  <thead>\n",
       "    <tr style=\"text-align: right;\">\n",
       "      <th></th>\n",
       "      <th>Price</th>\n",
       "      <th>VehicleType</th>\n",
       "      <th>RegistrationYear</th>\n",
       "      <th>Gearbox</th>\n",
       "      <th>Power</th>\n",
       "      <th>Model</th>\n",
       "      <th>Kilometer</th>\n",
       "      <th>FuelType</th>\n",
       "      <th>Brand</th>\n",
       "      <th>Repaired</th>\n",
       "    </tr>\n",
       "  </thead>\n",
       "  <tbody>\n",
       "  </tbody>\n",
       "</table>\n",
       "</div>"
      ],
      "text/plain": [
       "Empty DataFrame\n",
       "Columns: [Price, VehicleType, RegistrationYear, Gearbox, Power, Model, Kilometer, FuelType, Brand, Repaired]\n",
       "Index: []"
      ]
     },
     "execution_count": 35,
     "metadata": {},
     "output_type": "execute_result"
    }
   ],
   "source": [
    "data = data.query('Power < 2000 or Power != Power')\n",
    "\n",
    "data.query('Power > 2000')"
   ]
  },
  {
   "cell_type": "code",
   "execution_count": 36,
   "metadata": {},
   "outputs": [
    {
     "name": "stdout",
     "output_type": "stream",
     "text": [
      "<class 'pandas.core.frame.DataFrame'>\n",
      "Int64Index: 322784 entries, 0 to 354368\n",
      "Data columns (total 10 columns):\n",
      " #   Column            Non-Null Count   Dtype  \n",
      "---  ------            --------------   -----  \n",
      " 0   Price             322784 non-null  int64  \n",
      " 1   VehicleType       305127 non-null  object \n",
      " 2   RegistrationYear  322784 non-null  int64  \n",
      " 3   Gearbox           309042 non-null  object \n",
      " 4   Power             283590 non-null  float64\n",
      " 5   Model             308215 non-null  object \n",
      " 6   Kilometer         322784 non-null  int64  \n",
      " 7   FuelType          300890 non-null  object \n",
      " 8   Brand             322784 non-null  object \n",
      " 9   Repaired          266433 non-null  object \n",
      "dtypes: float64(1), int64(3), object(6)\n",
      "memory usage: 27.1+ MB\n"
     ]
    }
   ],
   "source": [
    "data.info()"
   ]
  },
  {
   "cell_type": "markdown",
   "metadata": {},
   "source": [
    "#### Заполняем пропуски"
   ]
  },
  {
   "cell_type": "markdown",
   "metadata": {},
   "source": [
    "Изучаем пропуски"
   ]
  },
  {
   "cell_type": "code",
   "execution_count": 37,
   "metadata": {},
   "outputs": [
    {
     "data": {
      "text/plain": [
       "Price                   0\n",
       "VehicleType         17657\n",
       "RegistrationYear        0\n",
       "Gearbox             13742\n",
       "Power               39194\n",
       "Model               14569\n",
       "Kilometer               0\n",
       "FuelType            21894\n",
       "Brand                   0\n",
       "Repaired            56351\n",
       "dtype: int64"
      ]
     },
     "execution_count": 37,
     "metadata": {},
     "output_type": "execute_result"
    }
   ],
   "source": [
    "data.isna().sum()"
   ]
  },
  {
   "cell_type": "markdown",
   "metadata": {},
   "source": [
    "Пропуски имеются в шести признаках: VehicleType, Gearbox, Power, Model, FuelType и Repaired. Пропуски в Repaired мы не сможем заполнить - информация о том, был ли автомобиль в ремонте, индивидуальная для каждого авто. А пропуски в Power, Gearbox, VehicleType и FuelType можно заполнить исходя из колонок Brand и Modell."
   ]
  },
  {
   "cell_type": "code",
   "execution_count": 38,
   "metadata": {},
   "outputs": [
    {
     "data": {
      "text/plain": [
       "Price                   0\n",
       "VehicleType             0\n",
       "RegistrationYear        0\n",
       "Gearbox                 0\n",
       "Power                 330\n",
       "Model               14569\n",
       "Kilometer               0\n",
       "FuelType                0\n",
       "Brand                   0\n",
       "Repaired            56351\n",
       "dtype: int64"
      ]
     },
     "execution_count": 38,
     "metadata": {},
     "output_type": "execute_result"
    }
   ],
   "source": [
    "data['VehicleType'] = data.groupby(by=['Brand', 'Model'], dropna=False)['VehicleType'].apply(lambda x: x.fillna(x.mode()[0]))\n",
    "\n",
    "data['FuelType'] = data.groupby(by=['Brand', 'Model'], dropna=False)['FuelType'].apply(lambda x: x.fillna(x.mode()[0]))\n",
    "\n",
    "data['Power'] = data.groupby(by=['Brand', 'Model'], dropna=False)['Power'].apply(lambda x: x.fillna(x.idxmax()))\n",
    "\n",
    "data['Gearbox'] = data.groupby(by=['Brand', 'Model'], dropna=False)['Gearbox'].apply(lambda x: x.fillna(x.mode()[0]))\n",
    "\n",
    "data.isna().sum()"
   ]
  },
  {
   "cell_type": "markdown",
   "metadata": {},
   "source": [
    "Количество пропусков в Gearbox стало больше, чем до заполнения, но есть важная деталь - это не те же пропуски, к которым просто добавились новые. Если не проводить такое заполнение, пропуски будут в случайных объектах, а заполнив их таким способом мы заполнили их где возможно, но оставили их и сделали новые в тех объектах, которые позже отфильтруем при помощи .dropna(), в чём сейчас и убедимся.\n",
    "\n",
    "Заполним пропуски в признаке Repaired на 'unknown', удалим все оставшиеся пропуски и обновим индексы"
   ]
  },
  {
   "cell_type": "code",
   "execution_count": 39,
   "metadata": {},
   "outputs": [
    {
     "name": "stdout",
     "output_type": "stream",
     "text": [
      "<class 'pandas.core.frame.DataFrame'>\n",
      "RangeIndex: 307885 entries, 0 to 307884\n",
      "Data columns (total 10 columns):\n",
      " #   Column            Non-Null Count   Dtype  \n",
      "---  ------            --------------   -----  \n",
      " 0   Price             307885 non-null  int64  \n",
      " 1   VehicleType       307885 non-null  object \n",
      " 2   RegistrationYear  307885 non-null  int64  \n",
      " 3   Gearbox           307885 non-null  object \n",
      " 4   Power             307885 non-null  float64\n",
      " 5   Model             307885 non-null  object \n",
      " 6   Kilometer         307885 non-null  int64  \n",
      " 7   FuelType          307885 non-null  object \n",
      " 8   Brand             307885 non-null  object \n",
      " 9   Repaired          307885 non-null  object \n",
      "dtypes: float64(1), int64(3), object(6)\n",
      "memory usage: 23.5+ MB\n"
     ]
    },
    {
     "data": {
      "text/html": [
       "<div>\n",
       "<style scoped>\n",
       "    .dataframe tbody tr th:only-of-type {\n",
       "        vertical-align: middle;\n",
       "    }\n",
       "\n",
       "    .dataframe tbody tr th {\n",
       "        vertical-align: top;\n",
       "    }\n",
       "\n",
       "    .dataframe thead th {\n",
       "        text-align: right;\n",
       "    }\n",
       "</style>\n",
       "<table border=\"1\" class=\"dataframe\">\n",
       "  <thead>\n",
       "    <tr style=\"text-align: right;\">\n",
       "      <th></th>\n",
       "      <th>Price</th>\n",
       "      <th>VehicleType</th>\n",
       "      <th>RegistrationYear</th>\n",
       "      <th>Gearbox</th>\n",
       "      <th>Power</th>\n",
       "      <th>Model</th>\n",
       "      <th>Kilometer</th>\n",
       "      <th>FuelType</th>\n",
       "      <th>Brand</th>\n",
       "      <th>Repaired</th>\n",
       "    </tr>\n",
       "  </thead>\n",
       "  <tbody>\n",
       "    <tr>\n",
       "      <th>0</th>\n",
       "      <td>480</td>\n",
       "      <td>sedan</td>\n",
       "      <td>1993</td>\n",
       "      <td>manual</td>\n",
       "      <td>28942.0</td>\n",
       "      <td>golf</td>\n",
       "      <td>150000</td>\n",
       "      <td>petrol</td>\n",
       "      <td>volkswagen</td>\n",
       "      <td>unknown</td>\n",
       "    </tr>\n",
       "    <tr>\n",
       "      <th>1</th>\n",
       "      <td>9800</td>\n",
       "      <td>suv</td>\n",
       "      <td>2004</td>\n",
       "      <td>auto</td>\n",
       "      <td>163.0</td>\n",
       "      <td>grand</td>\n",
       "      <td>125000</td>\n",
       "      <td>petrol</td>\n",
       "      <td>jeep</td>\n",
       "      <td>unknown</td>\n",
       "    </tr>\n",
       "    <tr>\n",
       "      <th>2</th>\n",
       "      <td>1500</td>\n",
       "      <td>small</td>\n",
       "      <td>2001</td>\n",
       "      <td>manual</td>\n",
       "      <td>75.0</td>\n",
       "      <td>golf</td>\n",
       "      <td>150000</td>\n",
       "      <td>petrol</td>\n",
       "      <td>volkswagen</td>\n",
       "      <td>no</td>\n",
       "    </tr>\n",
       "    <tr>\n",
       "      <th>3</th>\n",
       "      <td>3600</td>\n",
       "      <td>small</td>\n",
       "      <td>2008</td>\n",
       "      <td>manual</td>\n",
       "      <td>69.0</td>\n",
       "      <td>fabia</td>\n",
       "      <td>90000</td>\n",
       "      <td>petrol</td>\n",
       "      <td>skoda</td>\n",
       "      <td>no</td>\n",
       "    </tr>\n",
       "    <tr>\n",
       "      <th>4</th>\n",
       "      <td>650</td>\n",
       "      <td>sedan</td>\n",
       "      <td>1995</td>\n",
       "      <td>manual</td>\n",
       "      <td>102.0</td>\n",
       "      <td>3er</td>\n",
       "      <td>150000</td>\n",
       "      <td>petrol</td>\n",
       "      <td>bmw</td>\n",
       "      <td>yes</td>\n",
       "    </tr>\n",
       "  </tbody>\n",
       "</table>\n",
       "</div>"
      ],
      "text/plain": [
       "   Price VehicleType  RegistrationYear Gearbox    Power  Model  Kilometer  \\\n",
       "0    480       sedan              1993  manual  28942.0   golf     150000   \n",
       "1   9800         suv              2004    auto    163.0  grand     125000   \n",
       "2   1500       small              2001  manual     75.0   golf     150000   \n",
       "3   3600       small              2008  manual     69.0  fabia      90000   \n",
       "4    650       sedan              1995  manual    102.0    3er     150000   \n",
       "\n",
       "  FuelType       Brand Repaired  \n",
       "0   petrol  volkswagen  unknown  \n",
       "1   petrol        jeep  unknown  \n",
       "2   petrol  volkswagen       no  \n",
       "3   petrol       skoda       no  \n",
       "4   petrol         bmw      yes  "
      ]
     },
     "execution_count": 39,
     "metadata": {},
     "output_type": "execute_result"
    }
   ],
   "source": [
    "data.Repaired = data.Repaired.fillna('unknown')\n",
    "\n",
    "data = data.dropna().reset_index(drop=True)\n",
    "\n",
    "data.info()\n",
    "\n",
    "data.head()"
   ]
  },
  {
   "cell_type": "markdown",
   "metadata": {},
   "source": [
    "## Обучение моделей"
   ]
  },
  {
   "cell_type": "markdown",
   "metadata": {},
   "source": [
    "Обозначаем категориальные признаки"
   ]
  },
  {
   "cell_type": "code",
   "execution_count": 40,
   "metadata": {
    "scrolled": true
   },
   "outputs": [
    {
     "name": "stdout",
     "output_type": "stream",
     "text": [
      "<class 'pandas.core.frame.DataFrame'>\n",
      "RangeIndex: 307885 entries, 0 to 307884\n",
      "Data columns (total 10 columns):\n",
      " #   Column            Non-Null Count   Dtype  \n",
      "---  ------            --------------   -----  \n",
      " 0   Price             307885 non-null  int64  \n",
      " 1   VehicleType       307885 non-null  object \n",
      " 2   RegistrationYear  307885 non-null  int64  \n",
      " 3   Gearbox           307885 non-null  object \n",
      " 4   Power             307885 non-null  float64\n",
      " 5   Model             307885 non-null  object \n",
      " 6   Kilometer         307885 non-null  int64  \n",
      " 7   FuelType          307885 non-null  object \n",
      " 8   Brand             307885 non-null  object \n",
      " 9   Repaired          307885 non-null  object \n",
      "dtypes: float64(1), int64(3), object(6)\n",
      "memory usage: 23.5+ MB\n"
     ]
    }
   ],
   "source": [
    "data.info()\n",
    "cat_features = ['VehicleType', 'Gearbox', 'Model', 'FuelType', 'Brand', 'Repaired']"
   ]
  },
  {
   "cell_type": "markdown",
   "metadata": {},
   "source": [
    "Меняем тип признаков object на тип category"
   ]
  },
  {
   "cell_type": "code",
   "execution_count": 41,
   "metadata": {},
   "outputs": [
    {
     "name": "stdout",
     "output_type": "stream",
     "text": [
      "<class 'pandas.core.frame.DataFrame'>\n",
      "RangeIndex: 307885 entries, 0 to 307884\n",
      "Data columns (total 10 columns):\n",
      " #   Column            Non-Null Count   Dtype   \n",
      "---  ------            --------------   -----   \n",
      " 0   Price             307885 non-null  int64   \n",
      " 1   VehicleType       307885 non-null  category\n",
      " 2   RegistrationYear  307885 non-null  int64   \n",
      " 3   Gearbox           307885 non-null  category\n",
      " 4   Power             307885 non-null  float64 \n",
      " 5   Model             307885 non-null  category\n",
      " 6   Kilometer         307885 non-null  int64   \n",
      " 7   FuelType          307885 non-null  category\n",
      " 8   Brand             307885 non-null  category\n",
      " 9   Repaired          307885 non-null  category\n",
      "dtypes: category(6), float64(1), int64(3)\n",
      "memory usage: 11.5 MB\n"
     ]
    }
   ],
   "source": [
    "for feature in cat_features:\n",
    "    data[feature] = data[feature].astype('category')\n",
    "data.info()"
   ]
  },
  {
   "cell_type": "markdown",
   "metadata": {},
   "source": [
    "Разбиваем данные на тренировочную и тестовую выборки"
   ]
  },
  {
   "cell_type": "code",
   "execution_count": 42,
   "metadata": {},
   "outputs": [],
   "source": [
    "X_train, X_test, y_train, y_test = train_test_split(\n",
    "    data.drop('Price', axis=1), data.Price, test_size=0.2, random_state=113)"
   ]
  },
  {
   "cell_type": "markdown",
   "metadata": {},
   "source": [
    "Создаём модели"
   ]
  },
  {
   "cell_type": "markdown",
   "metadata": {},
   "source": [
    "### CatBoostRegressor"
   ]
  },
  {
   "cell_type": "markdown",
   "metadata": {},
   "source": [
    "Алгоритм CatBoost очень удобен в обращении, начнём с него. Чтобы не подберать параметры слишком долго, подберём ему только максимальную глубину"
   ]
  },
  {
   "cell_type": "code",
   "execution_count": 48,
   "metadata": {},
   "outputs": [],
   "source": [
    "cat = CatBoostRegressor(loss_function='RMSE', iterations=201, learning_rate=0.1,\n",
    "                            cat_features=cat_features, random_state=113, verbose=100)\n",
    "param_grid = {\n",
    "    'depth': [10, 12, 14]\n",
    "}"
   ]
  },
  {
   "cell_type": "markdown",
   "metadata": {},
   "source": [
    "Запускаем пербор параметров встроенной функцией"
   ]
  },
  {
   "cell_type": "code",
   "execution_count": 49,
   "metadata": {
    "scrolled": true
   },
   "outputs": [
    {
     "name": "stdout",
     "output_type": "stream",
     "text": [
      "0:\tlearn: 6033.7845164\ttest: 6010.0921761\tbest: 6010.0921761 (0)\ttotal: 732ms\tremaining: 2m 26s\n",
      "100:\tlearn: 1632.4411305\ttest: 1658.8306587\tbest: 1658.8306587 (100)\ttotal: 40.7s\tremaining: 40.3s\n",
      "200:\tlearn: 1537.7968332\ttest: 1598.4177447\tbest: 1598.4177447 (200)\ttotal: 1m 23s\tremaining: 0us\n",
      "\n",
      "bestTest = 1598.417745\n",
      "bestIteration = 200\n",
      "\n",
      "0:\tloss: 1598.4177447\tbest: 1598.4177447 (0)\ttotal: 1m 24s\tremaining: 2m 48s\n",
      "0:\tlearn: 6027.5667753\ttest: 6003.3506754\tbest: 6003.3506754 (0)\ttotal: 787ms\tremaining: 2m 37s\n",
      "100:\tlearn: 1551.4539604\ttest: 1613.2382889\tbest: 1613.2382889 (100)\ttotal: 58.2s\tremaining: 57.6s\n",
      "200:\tlearn: 1449.6097200\ttest: 1564.6594947\tbest: 1564.6594947 (200)\ttotal: 1m 59s\tremaining: 0us\n",
      "\n",
      "bestTest = 1564.659495\n",
      "bestIteration = 200\n",
      "\n",
      "1:\tloss: 1564.6594947\tbest: 1564.6594947 (1)\ttotal: 3m 23s\tremaining: 1m 41s\n",
      "0:\tlearn: 6025.9451699\ttest: 6001.8065943\tbest: 6001.8065943 (0)\ttotal: 1.23s\tremaining: 4m 6s\n",
      "100:\tlearn: 1481.3384953\ttest: 1592.9209095\tbest: 1592.9209095 (100)\ttotal: 1m 36s\tremaining: 1m 35s\n",
      "200:\tlearn: 1359.9358041\ttest: 1546.8764295\tbest: 1546.8764295 (200)\ttotal: 3m 21s\tremaining: 0us\n",
      "\n",
      "bestTest = 1546.87643\n",
      "bestIteration = 200\n",
      "\n",
      "2:\tloss: 1546.8764295\tbest: 1546.8764295 (2)\ttotal: 6m 45s\tremaining: 0us\n",
      "Estimating final quality...\n",
      "Training on fold [0/4]\n",
      "0:\tlearn: 6020.4228456\ttest: 6027.7283781\tbest: 6027.7283781 (0)\ttotal: 1.17s\tremaining: 3m 54s\n",
      "100:\tlearn: 1477.7011325\ttest: 1612.0957323\tbest: 1612.0957323 (100)\ttotal: 1m 31s\tremaining: 1m 30s\n",
      "200:\tlearn: 1360.7777100\ttest: 1565.3924398\tbest: 1565.3924398 (200)\ttotal: 3m 9s\tremaining: 0us\n",
      "\n",
      "bestTest = 1565.39244\n",
      "bestIteration = 200\n",
      "\n",
      "Training on fold [1/4]\n",
      "0:\tlearn: 6019.6036718\ttest: 6016.8800531\tbest: 6016.8800531 (0)\ttotal: 1.15s\tremaining: 3m 50s\n",
      "100:\tlearn: 1468.6055792\ttest: 1629.6532709\tbest: 1629.6532709 (100)\ttotal: 1m 36s\tremaining: 1m 35s\n",
      "200:\tlearn: 1344.5061778\ttest: 1582.0450447\tbest: 1582.0450447 (200)\ttotal: 3m 16s\tremaining: 0us\n",
      "\n",
      "bestTest = 1582.045045\n",
      "bestIteration = 200\n",
      "\n",
      "Training on fold [2/4]\n",
      "0:\tlearn: 6017.7468889\ttest: 6026.4779732\tbest: 6026.4779732 (0)\ttotal: 1.15s\tremaining: 3m 50s\n",
      "100:\tlearn: 1479.9947890\ttest: 1601.9037307\tbest: 1601.9037307 (100)\ttotal: 1m 33s\tremaining: 1m 32s\n",
      "200:\tlearn: 1355.9578754\ttest: 1559.1005727\tbest: 1559.1005727 (200)\ttotal: 3m 14s\tremaining: 0us\n",
      "\n",
      "bestTest = 1559.100573\n",
      "bestIteration = 200\n",
      "\n",
      "Training on fold [3/4]\n",
      "0:\tlearn: 6023.1954266\ttest: 6011.9719481\tbest: 6011.9719481 (0)\ttotal: 1.02s\tremaining: 3m 24s\n",
      "100:\tlearn: 1472.9319070\ttest: 1598.1989563\tbest: 1598.1989563 (100)\ttotal: 1m 35s\tremaining: 1m 34s\n",
      "200:\tlearn: 1351.2958287\ttest: 1558.3207641\tbest: 1558.3207641 (200)\ttotal: 3m 15s\tremaining: 0us\n",
      "\n",
      "bestTest = 1558.320764\n",
      "bestIteration = 200\n",
      "\n",
      "CPU times: user 22min 40s, sys: 44.6 s, total: 23min 25s\n",
      "Wall time: 23min 30s\n"
     ]
    }
   ],
   "source": [
    "%%time\n",
    "grid_cat = cat.grid_search(param_grid, X_train, y_train, cv=4, partition_random_seed=113)"
   ]
  },
  {
   "cell_type": "code",
   "execution_count": 50,
   "metadata": {},
   "outputs": [
    {
     "name": "stdout",
     "output_type": "stream",
     "text": [
      "0:\tlearn: 4212.0141982\ttotal: 1.05s\tremaining: 3m 30s\n",
      "100:\tlearn: 1479.6905952\ttotal: 1m 46s\tremaining: 1m 45s\n",
      "200:\tlearn: 1371.4386863\ttotal: 3m 36s\tremaining: 0us\n",
      "3min 37s ± 0 ns per loop (mean ± std. dev. of 1 run, 1 loop each)\n",
      "CPU times: user 3min 30s, sys: 6.56 s, total: 3min 37s\n",
      "Wall time: 3min 37s\n"
     ]
    }
   ],
   "source": [
    "%%time\n",
    "train_cat = %timeit -n1 -r1 -o cat.copy().fit(X_train, y_train)"
   ]
  },
  {
   "cell_type": "code",
   "execution_count": 51,
   "metadata": {},
   "outputs": [
    {
     "name": "stdout",
     "output_type": "stream",
     "text": [
      "938 ms ± 0 ns per loop (mean ± std. dev. of 1 run, 1 loop each)\n",
      "CPU times: user 937 ms, sys: 162 µs, total: 937 ms\n",
      "Wall time: 939 ms\n"
     ]
    }
   ],
   "source": [
    "%%time\n",
    "predict_cat = %timeit -n1 -r1 -o cat.predict(X_train)"
   ]
  },
  {
   "cell_type": "markdown",
   "metadata": {},
   "source": [
    "Модель с лучшим показателем на тесте обучается четыре минуты. Сравним метрики и время обучения с другими моделями"
   ]
  },
  {
   "cell_type": "markdown",
   "metadata": {},
   "source": [
    "### LightGBM"
   ]
  },
  {
   "cell_type": "markdown",
   "metadata": {},
   "source": [
    "Теперь обучим и подберём параметры алгоритму LightGBM "
   ]
  },
  {
   "cell_type": "code",
   "execution_count": 44,
   "metadata": {},
   "outputs": [],
   "source": [
    "est_lgb = LGBMRegressor(metric='RMSE', learning_rate=0.1, random_state=113)\n",
    "param_grid = {\n",
    "    'num_leaves': [31, 52, 64]\n",
    "}\n",
    "lgb = GridSearchCV(est_lgb, param_grid, scoring='neg_root_mean_squared_error', cv=4, verbose=2)"
   ]
  },
  {
   "cell_type": "code",
   "execution_count": 45,
   "metadata": {
    "scrolled": true
   },
   "outputs": [
    {
     "name": "stdout",
     "output_type": "stream",
     "text": [
      "Fitting 4 folds for each of 3 candidates, totalling 12 fits\n",
      "[CV] END ......................................num_leaves=31; total time= 7.2min\n",
      "[CV] END ......................................num_leaves=31; total time=10.8min\n",
      "[CV] END ......................................num_leaves=31; total time= 3.2min\n",
      "[CV] END ......................................num_leaves=31; total time= 4.7min\n",
      "[CV] END ......................................num_leaves=52; total time=29.1min\n",
      "[CV] END ......................................num_leaves=52; total time=28.7min\n",
      "[CV] END ......................................num_leaves=52; total time=27.3min\n",
      "[CV] END ......................................num_leaves=52; total time=34.6min\n",
      "[CV] END ......................................num_leaves=64; total time=33.3min\n",
      "[CV] END ......................................num_leaves=64; total time=34.2min\n",
      "[CV] END ......................................num_leaves=64; total time=33.6min\n",
      "[CV] END ......................................num_leaves=64; total time=34.2min\n",
      "Лучшие параметры - {'num_leaves': 64}, лучший результат - 1573.3004555490722\n",
      "CPU times: user 4h 57min 47s, sys: 50.3 s, total: 4h 58min 37s\n",
      "Wall time: 4h 59min 4s\n"
     ]
    }
   ],
   "source": [
    "%%time\n",
    "lgb.fit(X_train, y_train)\n",
    "print(f'Лучшие параметры - {lgb.best_params_}, лучший результат - {-1 * lgb.best_score_}')"
   ]
  },
  {
   "cell_type": "code",
   "execution_count": 46,
   "metadata": {},
   "outputs": [
    {
     "name": "stdout",
     "output_type": "stream",
     "text": [
      "2min 48s ± 0 ns per loop (mean ± std. dev. of 1 run, 1 loop each)\n",
      "CPU times: user 2min 47s, sys: 303 ms, total: 2min 47s\n",
      "Wall time: 2min 48s\n"
     ]
    }
   ],
   "source": [
    "%%time\n",
    "train_lgb = %timeit -n1 -r1 -o lgb.best_estimator_.fit(X_train, y_train)"
   ]
  },
  {
   "cell_type": "code",
   "execution_count": 47,
   "metadata": {},
   "outputs": [
    {
     "name": "stdout",
     "output_type": "stream",
     "text": [
      "2.9 s ± 0 ns per loop (mean ± std. dev. of 1 run, 1 loop each)\n",
      "CPU times: user 2.91 s, sys: 2.8 ms, total: 2.91 s\n",
      "Wall time: 2.9 s\n"
     ]
    }
   ],
   "source": [
    "%%time\n",
    "predict_lgb = %timeit -n1 -r1 -o lgb.predict(X_train)"
   ]
  },
  {
   "cell_type": "markdown",
   "metadata": {},
   "source": [
    "Лучший результат чуть хуже, чем у CatBoost, но и модель намного менее сложная, а скорость обучения многократно выше. Но скорость предсказания выше у CatBoost"
   ]
  },
  {
   "cell_type": "markdown",
   "metadata": {},
   "source": [
    "### RandomForestRegressor"
   ]
  },
  {
   "cell_type": "markdown",
   "metadata": {},
   "source": [
    "Обычные модели, в отличие от моделей градиентного бустинга CatBoost и LightGBM, не умеют работать с категориальными признаками. Преобразуем их в численные"
   ]
  },
  {
   "cell_type": "code",
   "execution_count": 52,
   "metadata": {},
   "outputs": [],
   "source": [
    "enc = OrdinalEncoder()\n",
    "X_train[cat_features] = enc.fit_transform(X_train[cat_features])"
   ]
  },
  {
   "cell_type": "markdown",
   "metadata": {},
   "source": [
    "Объявляем модель и гиперпараметры"
   ]
  },
  {
   "cell_type": "code",
   "execution_count": 53,
   "metadata": {},
   "outputs": [],
   "source": [
    "est_forest = RandomForestRegressor(random_state=113)\n",
    "param_grid = {\n",
    "    'max_depth': [10, 14, 18]\n",
    "}\n",
    "forest = GridSearchCV(est_forest, param_grid, scoring='neg_root_mean_squared_error', n_jobs=-1, cv=4, verbose=2)"
   ]
  },
  {
   "cell_type": "markdown",
   "metadata": {},
   "source": [
    "Настраиваем"
   ]
  },
  {
   "cell_type": "code",
   "execution_count": 54,
   "metadata": {
    "scrolled": false
   },
   "outputs": [
    {
     "name": "stdout",
     "output_type": "stream",
     "text": [
      "Fitting 4 folds for each of 3 candidates, totalling 12 fits\n",
      "[CV] END .......................................max_depth=10; total time=  22.2s\n",
      "[CV] END .......................................max_depth=10; total time=  21.8s\n",
      "[CV] END .......................................max_depth=10; total time=  22.0s\n",
      "[CV] END .......................................max_depth=10; total time=  22.2s\n",
      "[CV] END .......................................max_depth=14; total time=  28.8s\n",
      "[CV] END .......................................max_depth=14; total time=  28.7s\n",
      "[CV] END .......................................max_depth=14; total time=  28.5s\n",
      "[CV] END .......................................max_depth=14; total time=  28.6s\n",
      "[CV] END .......................................max_depth=18; total time=  35.1s\n",
      "[CV] END .......................................max_depth=18; total time=  35.0s\n",
      "[CV] END .......................................max_depth=18; total time=  34.8s\n",
      "[CV] END .......................................max_depth=18; total time=  35.0s\n",
      "Лучшие параметры - {'max_depth': 18}, лучший результат - 1600.5020334056112\n",
      "CPU times: user 6min 26s, sys: 1.67 s, total: 6min 27s\n",
      "Wall time: 6min 28s\n"
     ]
    }
   ],
   "source": [
    "%%time\n",
    "forest.fit(X_train, y_train)\n",
    "print(f'Лучшие параметры - {forest.best_params_}, лучший результат - {-1 * forest.best_score_}')"
   ]
  },
  {
   "cell_type": "code",
   "execution_count": 55,
   "metadata": {},
   "outputs": [
    {
     "name": "stdout",
     "output_type": "stream",
     "text": [
      "45.4 s ± 0 ns per loop (mean ± std. dev. of 1 run, 1 loop each)\n",
      "CPU times: user 45 s, sys: 337 ms, total: 45.4 s\n",
      "Wall time: 45.4 s\n"
     ]
    }
   ],
   "source": [
    "%%time\n",
    "train_forest = %timeit -n1 -r1 -o forest.best_estimator_.fit(X_train, y_train)"
   ]
  },
  {
   "cell_type": "code",
   "execution_count": 56,
   "metadata": {},
   "outputs": [
    {
     "name": "stdout",
     "output_type": "stream",
     "text": [
      "5.47 s ± 0 ns per loop (mean ± std. dev. of 1 run, 1 loop each)\n",
      "CPU times: user 5.46 s, sys: 4.76 ms, total: 5.47 s\n",
      "Wall time: 5.47 s\n"
     ]
    }
   ],
   "source": [
    "%%time\n",
    "predict_forest = %timeit -n1 -r1 -o forest.predict(X_train)"
   ]
  },
  {
   "cell_type": "markdown",
   "metadata": {},
   "source": [
    "Модель на удивление не так далека по своим результатам от градиентного бустинга, и обучается довольно быстро. В перспективе у  моделей бустинга потенциал возможностей выше, но в тесте где мы меняем только один гиперпарметр модели она показывает хороший результат и обучается быстрее CatBoost'а"
   ]
  },
  {
   "cell_type": "markdown",
   "metadata": {},
   "source": [
    "### Результаты обучения"
   ]
  },
  {
   "cell_type": "code",
   "execution_count": 66,
   "metadata": {},
   "outputs": [
    {
     "data": {
      "text/html": [
       "<div>\n",
       "<style scoped>\n",
       "    .dataframe tbody tr th:only-of-type {\n",
       "        vertical-align: middle;\n",
       "    }\n",
       "\n",
       "    .dataframe tbody tr th {\n",
       "        vertical-align: top;\n",
       "    }\n",
       "\n",
       "    .dataframe thead th {\n",
       "        text-align: right;\n",
       "    }\n",
       "</style>\n",
       "<table border=\"1\" class=\"dataframe\">\n",
       "  <thead>\n",
       "    <tr style=\"text-align: right;\">\n",
       "      <th></th>\n",
       "      <th>CatBoost</th>\n",
       "      <th>LightGBM</th>\n",
       "      <th>RandomForestRegressor</th>\n",
       "    </tr>\n",
       "  </thead>\n",
       "  <tbody>\n",
       "    <tr>\n",
       "      <th>Точность предсказания, RMSE</th>\n",
       "      <td>1566.214705</td>\n",
       "      <td>1573.300456</td>\n",
       "      <td>1600.502033</td>\n",
       "    </tr>\n",
       "    <tr>\n",
       "      <th>Скорость обучения, сек.</th>\n",
       "      <td>217.757035</td>\n",
       "      <td>168.108602</td>\n",
       "      <td>45.397321</td>\n",
       "    </tr>\n",
       "    <tr>\n",
       "      <th>Скорость предсказания, сек.</th>\n",
       "      <td>0.938037</td>\n",
       "      <td>2.903692</td>\n",
       "      <td>5.470800</td>\n",
       "    </tr>\n",
       "  </tbody>\n",
       "</table>\n",
       "</div>"
      ],
      "text/plain": [
       "                                CatBoost     LightGBM  RandomForestRegressor\n",
       "Точность предсказания, RMSE  1566.214705  1573.300456            1600.502033\n",
       "Скорость обучения, сек.       217.757035   168.108602              45.397321\n",
       "Скорость предсказания, сек.     0.938037     2.903692               5.470800"
      ]
     },
     "execution_count": 66,
     "metadata": {},
     "output_type": "execute_result"
    }
   ],
   "source": [
    "pd.DataFrame(data={'CatBoost': [grid_cat['cv_results']['test-RMSE-mean'][-1], train_cat.average, predict_cat.average],\n",
    "                   'LightGBM': [-1 * lgb.best_score_, train_lgb.average, predict_lgb.average],\n",
    "                   'RandomForestRegressor': [-1 * forest.best_score_, train_forest.average, predict_forest.average]},\n",
    "             index=['Точность предсказания, RMSE', 'Скорость обучения, сек.', 'Скорость предсказания, сек.'])"
   ]
  },
  {
   "cell_type": "markdown",
   "metadata": {},
   "source": [
    "Лучшее предсказание нам дал алгоритм CatBoost, алгоритм LightGBM почти не уступил по точности, RandomForestRegressor тоже не отстал. По времени обучения обратная картина - быстрее всех RandomForestRegressor, затем LightGBM и CatBoost. Со скоростью предсказания CatBoost справился лучше всех, поэтому этот алгоритм признаем самым лучшим из рассматриевымых."
   ]
  },
  {
   "cell_type": "markdown",
   "metadata": {},
   "source": [
    "## Анализ моделей"
   ]
  },
  {
   "cell_type": "markdown",
   "metadata": {},
   "source": [
    "Посмотрим на результат лучшего алгоритма на тестовых данных"
   ]
  },
  {
   "cell_type": "code",
   "execution_count": 64,
   "metadata": {},
   "outputs": [
    {
     "name": "stdout",
     "output_type": "stream",
     "text": [
      "CPU times: user 3 µs, sys: 0 ns, total: 3 µs\n",
      "Wall time: 6.68 µs\n"
     ]
    },
    {
     "data": {
      "text/plain": [
       "1566.9703734353989"
      ]
     },
     "execution_count": 64,
     "metadata": {},
     "output_type": "execute_result"
    }
   ],
   "source": [
    "%time\n",
    "mean_squared_error(y_test, cat.predict(X_test), squared=False)"
   ]
  },
  {
   "cell_type": "markdown",
   "metadata": {},
   "source": [
    "Результат почти такой же, как на тренировочных данных, и получен очень быстро. Как уже было отмечено, алгоритм долго обучается, но точность и скорость предсказания - его сильные стороны."
   ]
  },
  {
   "cell_type": "markdown",
   "metadata": {},
   "source": [
    "## Общий вывод"
   ]
  },
  {
   "cell_type": "markdown",
   "metadata": {},
   "source": [
    "В ходе выполнения задачи мы обнаружили пропуски и аномалии в данных и проблемы с переносом количества фотографий в данные. Удалили аномалии и часть пропусков, другую часть заполнили. Хорошие данные передали алгоритмам CatBoost и LightGBM, а так же модели RandomForestRegressor. В ходе обучения выяснили, что алгоритмы градиентного бустинга лучше справляются с поставленной задачей. По трём задачам заказчика - точности предсказания, скорости обучения и скорости предсказания, скажем следующее: алгоритм CatBoost быстрее предсказывает, а LightGBM быстрее обучается, по точности предсказания они примерно одинаковы"
   ]
  }
 ],
 "metadata": {
  "ExecuteTimeLog": [
   {
    "duration": 345,
    "start_time": "2023-05-26T15:17:32.843Z"
   },
   {
    "duration": 3391,
    "start_time": "2023-05-26T15:17:34.718Z"
   },
   {
    "duration": 157,
    "start_time": "2023-05-26T15:18:05.340Z"
   },
   {
    "duration": 200,
    "start_time": "2023-05-26T15:18:36.069Z"
   },
   {
    "duration": 116,
    "start_time": "2023-05-26T15:26:14.370Z"
   },
   {
    "duration": 431,
    "start_time": "2023-05-29T16:40:08.992Z"
   },
   {
    "duration": 1124,
    "start_time": "2023-05-29T16:40:10.824Z"
   },
   {
    "duration": 249,
    "start_time": "2023-05-29T16:40:13.065Z"
   },
   {
    "duration": 123,
    "start_time": "2023-05-29T16:40:15.651Z"
   },
   {
    "duration": 20,
    "start_time": "2023-05-29T16:40:47.258Z"
   },
   {
    "duration": 19,
    "start_time": "2023-05-29T16:41:20.272Z"
   },
   {
    "duration": 1297,
    "start_time": "2023-05-29T16:42:24.324Z"
   },
   {
    "duration": 1152,
    "start_time": "2023-05-29T16:43:38.782Z"
   },
   {
    "duration": 36,
    "start_time": "2023-05-29T16:46:47.189Z"
   },
   {
    "duration": 5,
    "start_time": "2023-05-29T16:52:48.774Z"
   },
   {
    "duration": 35,
    "start_time": "2023-05-29T17:25:43.534Z"
   },
   {
    "duration": 48,
    "start_time": "2023-05-30T07:01:50.941Z"
   },
   {
    "duration": 382,
    "start_time": "2023-05-30T07:01:55.351Z"
   },
   {
    "duration": 2868,
    "start_time": "2023-05-30T07:01:57.621Z"
   },
   {
    "duration": 1444,
    "start_time": "2023-05-30T07:02:03.633Z"
   },
   {
    "duration": 4,
    "start_time": "2023-05-30T07:02:11.760Z"
   },
   {
    "duration": 35,
    "start_time": "2023-05-30T07:06:21.611Z"
   },
   {
    "duration": 635,
    "start_time": "2023-05-30T07:06:33.159Z"
   },
   {
    "duration": 822,
    "start_time": "2023-05-30T07:07:06.278Z"
   },
   {
    "duration": 5,
    "start_time": "2023-05-30T07:07:47.388Z"
   },
   {
    "duration": 665,
    "start_time": "2023-05-30T07:07:58.982Z"
   },
   {
    "duration": 9,
    "start_time": "2023-05-30T07:09:44.793Z"
   },
   {
    "duration": 249,
    "start_time": "2023-05-30T07:17:57.218Z"
   },
   {
    "duration": 4,
    "start_time": "2023-05-30T07:18:20.825Z"
   },
   {
    "duration": 8,
    "start_time": "2023-05-30T07:28:08.590Z"
   },
   {
    "duration": 12,
    "start_time": "2023-05-30T07:52:18.671Z"
   },
   {
    "duration": 14,
    "start_time": "2023-05-30T07:52:28.661Z"
   },
   {
    "duration": 48,
    "start_time": "2023-05-30T07:52:42.091Z"
   },
   {
    "duration": 40,
    "start_time": "2023-05-30T07:52:51.940Z"
   },
   {
    "duration": 42,
    "start_time": "2023-05-30T15:37:02.851Z"
   },
   {
    "duration": 368,
    "start_time": "2023-05-30T15:37:22.531Z"
   },
   {
    "duration": 2800,
    "start_time": "2023-05-30T15:37:24.954Z"
   },
   {
    "duration": 1300,
    "start_time": "2023-05-30T15:37:29.820Z"
   },
   {
    "duration": 60,
    "start_time": "2023-05-30T15:39:39.640Z"
   },
   {
    "duration": 36,
    "start_time": "2023-05-30T15:40:44.400Z"
   },
   {
    "duration": 30,
    "start_time": "2023-05-30T15:45:13.232Z"
   },
   {
    "duration": 23,
    "start_time": "2023-05-30T15:45:43.174Z"
   },
   {
    "duration": 9,
    "start_time": "2023-05-30T15:54:51.516Z"
   },
   {
    "duration": 98,
    "start_time": "2023-05-30T15:55:29.605Z"
   },
   {
    "duration": 91,
    "start_time": "2023-05-30T15:57:01.353Z"
   },
   {
    "duration": 84,
    "start_time": "2023-05-30T15:57:15.398Z"
   },
   {
    "duration": 646,
    "start_time": "2023-05-30T15:57:29.415Z"
   },
   {
    "duration": 272,
    "start_time": "2023-05-30T15:57:55.715Z"
   },
   {
    "duration": 18,
    "start_time": "2023-05-30T15:59:01.375Z"
   },
   {
    "duration": 9,
    "start_time": "2023-05-30T16:07:40.750Z"
   },
   {
    "duration": 8,
    "start_time": "2023-05-30T16:08:02.563Z"
   },
   {
    "duration": 3,
    "start_time": "2023-05-30T16:08:07.663Z"
   },
   {
    "duration": 22,
    "start_time": "2023-05-30T16:08:12.096Z"
   },
   {
    "duration": 5,
    "start_time": "2023-05-30T16:08:26.831Z"
   },
   {
    "duration": 27,
    "start_time": "2023-05-30T16:08:47.688Z"
   },
   {
    "duration": 657,
    "start_time": "2023-05-30T16:08:56.551Z"
   },
   {
    "duration": 26,
    "start_time": "2023-05-30T16:09:09.172Z"
   },
   {
    "duration": 21,
    "start_time": "2023-05-30T16:09:15.511Z"
   },
   {
    "duration": 26,
    "start_time": "2023-05-30T16:09:16.247Z"
   },
   {
    "duration": 2,
    "start_time": "2023-05-30T16:41:16.933Z"
   },
   {
    "duration": 648,
    "start_time": "2023-05-30T16:41:19.201Z"
   },
   {
    "duration": 917,
    "start_time": "2023-05-30T16:41:21.989Z"
   },
   {
    "duration": 28,
    "start_time": "2023-05-30T16:42:10.186Z"
   },
   {
    "duration": 21,
    "start_time": "2023-05-30T16:42:14.401Z"
   },
   {
    "duration": 25,
    "start_time": "2023-05-30T16:42:16.118Z"
   },
   {
    "duration": 35,
    "start_time": "2023-05-30T16:42:20.405Z"
   },
   {
    "duration": 10,
    "start_time": "2023-05-30T16:42:35.252Z"
   },
   {
    "duration": 23,
    "start_time": "2023-05-30T16:45:03.604Z"
   },
   {
    "duration": 26,
    "start_time": "2023-05-30T16:48:24.096Z"
   },
   {
    "duration": 29,
    "start_time": "2023-05-30T16:48:30.160Z"
   },
   {
    "duration": 1125,
    "start_time": "2023-05-30T16:49:04.592Z"
   },
   {
    "duration": 11,
    "start_time": "2023-05-30T16:50:11.592Z"
   },
   {
    "duration": 22,
    "start_time": "2023-05-30T16:52:19.096Z"
   },
   {
    "duration": 16,
    "start_time": "2023-05-30T16:53:13.859Z"
   },
   {
    "duration": 19,
    "start_time": "2023-05-30T16:54:29.461Z"
   },
   {
    "duration": 41,
    "start_time": "2023-05-30T20:33:51.260Z"
   },
   {
    "duration": 411,
    "start_time": "2023-05-30T20:34:03.588Z"
   },
   {
    "duration": 2800,
    "start_time": "2023-05-30T20:34:05.264Z"
   },
   {
    "duration": 1597,
    "start_time": "2023-05-30T20:34:09.862Z"
   },
   {
    "duration": 146,
    "start_time": "2023-05-30T20:34:19.453Z"
   },
   {
    "duration": 69,
    "start_time": "2023-05-30T20:51:49.585Z"
   },
   {
    "duration": 38,
    "start_time": "2023-05-30T20:52:12.808Z"
   },
   {
    "duration": 55,
    "start_time": "2023-05-30T20:52:40.365Z"
   },
   {
    "duration": 729,
    "start_time": "2023-05-30T20:52:49.377Z"
   },
   {
    "duration": 44,
    "start_time": "2023-05-30T20:52:56.422Z"
   },
   {
    "duration": 75,
    "start_time": "2023-05-30T20:53:00.188Z"
   },
   {
    "duration": 10,
    "start_time": "2023-05-30T20:57:12.151Z"
   },
   {
    "duration": 7,
    "start_time": "2023-05-30T20:58:00.199Z"
   },
   {
    "duration": 8,
    "start_time": "2023-05-30T20:58:27.844Z"
   },
   {
    "duration": 9,
    "start_time": "2023-05-30T20:58:40.292Z"
   },
   {
    "duration": 73,
    "start_time": "2023-05-31T16:10:54.310Z"
   },
   {
    "duration": 428,
    "start_time": "2023-05-31T16:13:52.316Z"
   },
   {
    "duration": 1160,
    "start_time": "2023-05-31T16:13:52.747Z"
   },
   {
    "duration": 1555,
    "start_time": "2023-05-31T16:13:53.909Z"
   },
   {
    "duration": 176,
    "start_time": "2023-05-31T16:13:55.466Z"
   },
   {
    "duration": 28,
    "start_time": "2023-05-31T16:13:55.643Z"
   },
   {
    "duration": 169,
    "start_time": "2023-05-31T16:13:55.672Z"
   },
   {
    "duration": 18,
    "start_time": "2023-05-31T16:19:43.709Z"
   },
   {
    "duration": 37,
    "start_time": "2023-05-31T16:41:43.950Z"
   },
   {
    "duration": 15,
    "start_time": "2023-05-31T16:43:08.137Z"
   },
   {
    "duration": 17,
    "start_time": "2023-05-31T16:43:22.812Z"
   },
   {
    "duration": 3,
    "start_time": "2023-05-31T16:43:32.184Z"
   },
   {
    "duration": 929,
    "start_time": "2023-05-31T16:43:32.189Z"
   },
   {
    "duration": 1058,
    "start_time": "2023-05-31T16:43:33.121Z"
   },
   {
    "duration": 169,
    "start_time": "2023-05-31T16:43:34.180Z"
   },
   {
    "duration": 27,
    "start_time": "2023-05-31T16:43:34.352Z"
   },
   {
    "duration": 130,
    "start_time": "2023-05-31T16:43:34.381Z"
   },
   {
    "duration": 22,
    "start_time": "2023-05-31T16:43:34.513Z"
   },
   {
    "duration": 14,
    "start_time": "2023-05-31T16:43:34.537Z"
   },
   {
    "duration": 102,
    "start_time": "2023-05-31T16:43:38.526Z"
   },
   {
    "duration": 32,
    "start_time": "2023-05-31T16:43:46.704Z"
   },
   {
    "duration": 33,
    "start_time": "2023-05-31T16:44:06.814Z"
   },
   {
    "duration": 9,
    "start_time": "2023-05-31T16:44:09.890Z"
   },
   {
    "duration": 9,
    "start_time": "2023-05-31T16:44:12.210Z"
   },
   {
    "duration": 692,
    "start_time": "2023-05-31T16:44:36.477Z"
   },
   {
    "duration": 2,
    "start_time": "2023-05-31T16:46:35.908Z"
   },
   {
    "duration": 755,
    "start_time": "2023-05-31T16:46:35.911Z"
   },
   {
    "duration": 1067,
    "start_time": "2023-05-31T16:46:36.668Z"
   },
   {
    "duration": 158,
    "start_time": "2023-05-31T16:46:37.736Z"
   },
   {
    "duration": 34,
    "start_time": "2023-05-31T16:46:37.896Z"
   },
   {
    "duration": 100,
    "start_time": "2023-05-31T16:46:37.931Z"
   },
   {
    "duration": 10,
    "start_time": "2023-05-31T16:46:38.033Z"
   },
   {
    "duration": 10,
    "start_time": "2023-05-31T16:46:38.045Z"
   },
   {
    "duration": 16,
    "start_time": "2023-05-31T16:46:38.057Z"
   },
   {
    "duration": 61,
    "start_time": "2023-05-31T16:46:38.074Z"
   },
   {
    "duration": 8,
    "start_time": "2023-05-31T16:46:38.138Z"
   },
   {
    "duration": 9,
    "start_time": "2023-05-31T16:46:38.148Z"
   },
   {
    "duration": 77,
    "start_time": "2023-05-31T16:46:38.159Z"
   },
   {
    "duration": 17,
    "start_time": "2023-05-31T16:46:38.237Z"
   },
   {
    "duration": 922,
    "start_time": "2023-05-31T16:46:38.255Z"
   },
   {
    "duration": 52,
    "start_time": "2023-06-01T07:40:25.036Z"
   },
   {
    "duration": 355,
    "start_time": "2023-06-01T07:40:36.731Z"
   },
   {
    "duration": 2860,
    "start_time": "2023-06-01T07:40:37.088Z"
   },
   {
    "duration": 1754,
    "start_time": "2023-06-01T07:40:39.949Z"
   },
   {
    "duration": 184,
    "start_time": "2023-06-01T07:40:41.706Z"
   },
   {
    "duration": 29,
    "start_time": "2023-06-01T07:40:41.892Z"
   },
   {
    "duration": 97,
    "start_time": "2023-06-01T07:40:41.923Z"
   },
   {
    "duration": 10,
    "start_time": "2023-06-01T07:40:42.021Z"
   },
   {
    "duration": 7,
    "start_time": "2023-06-01T07:40:42.032Z"
   },
   {
    "duration": 46,
    "start_time": "2023-06-01T07:40:42.041Z"
   },
   {
    "duration": 36,
    "start_time": "2023-06-01T07:40:42.090Z"
   },
   {
    "duration": 9,
    "start_time": "2023-06-01T07:40:42.127Z"
   },
   {
    "duration": 26,
    "start_time": "2023-06-01T07:40:42.137Z"
   },
   {
    "duration": 79,
    "start_time": "2023-06-01T07:40:42.165Z"
   },
   {
    "duration": 18,
    "start_time": "2023-06-01T07:40:42.246Z"
   },
   {
    "duration": 345,
    "start_time": "2023-06-01T07:40:42.265Z"
   },
   {
    "duration": 4,
    "start_time": "2023-06-01T07:45:06.288Z"
   },
   {
    "duration": 743,
    "start_time": "2023-06-01T07:45:06.294Z"
   },
   {
    "duration": 1091,
    "start_time": "2023-06-01T07:45:07.039Z"
   },
   {
    "duration": 165,
    "start_time": "2023-06-01T07:45:08.132Z"
   },
   {
    "duration": 24,
    "start_time": "2023-06-01T07:45:08.299Z"
   },
   {
    "duration": 115,
    "start_time": "2023-06-01T07:45:08.324Z"
   },
   {
    "duration": 10,
    "start_time": "2023-06-01T07:45:08.441Z"
   },
   {
    "duration": 34,
    "start_time": "2023-06-01T07:45:08.453Z"
   },
   {
    "duration": 28,
    "start_time": "2023-06-01T07:45:08.489Z"
   },
   {
    "duration": 39,
    "start_time": "2023-06-01T07:45:08.518Z"
   },
   {
    "duration": 29,
    "start_time": "2023-06-01T07:45:08.559Z"
   },
   {
    "duration": 14,
    "start_time": "2023-06-01T07:45:08.590Z"
   },
   {
    "duration": 115,
    "start_time": "2023-06-01T07:45:08.606Z"
   },
   {
    "duration": 19,
    "start_time": "2023-06-01T07:45:08.724Z"
   },
   {
    "duration": 1102,
    "start_time": "2023-06-01T07:45:11.691Z"
   },
   {
    "duration": 16,
    "start_time": "2023-06-01T07:45:30.008Z"
   },
   {
    "duration": 77,
    "start_time": "2023-06-01T07:46:10.749Z"
   },
   {
    "duration": 6,
    "start_time": "2023-06-01T08:01:44.176Z"
   },
   {
    "duration": 827,
    "start_time": "2023-06-01T08:01:44.186Z"
   },
   {
    "duration": 1209,
    "start_time": "2023-06-01T08:01:45.015Z"
   },
   {
    "duration": 176,
    "start_time": "2023-06-01T08:01:46.226Z"
   },
   {
    "duration": 23,
    "start_time": "2023-06-01T08:01:46.403Z"
   },
   {
    "duration": 109,
    "start_time": "2023-06-01T08:01:46.428Z"
   },
   {
    "duration": 9,
    "start_time": "2023-06-01T08:01:46.539Z"
   },
   {
    "duration": 31,
    "start_time": "2023-06-01T08:01:46.549Z"
   },
   {
    "duration": 19,
    "start_time": "2023-06-01T08:01:46.581Z"
   },
   {
    "duration": 27,
    "start_time": "2023-06-01T08:01:46.603Z"
   },
   {
    "duration": 10,
    "start_time": "2023-06-01T08:01:46.631Z"
   },
   {
    "duration": 33,
    "start_time": "2023-06-01T08:01:46.642Z"
   },
   {
    "duration": 80,
    "start_time": "2023-06-01T08:01:46.678Z"
   },
   {
    "duration": 35,
    "start_time": "2023-06-01T08:01:46.760Z"
   },
   {
    "duration": 1173,
    "start_time": "2023-06-01T08:01:46.796Z"
   },
   {
    "duration": 175,
    "start_time": "2023-06-01T08:05:06.787Z"
   },
   {
    "duration": 434,
    "start_time": "2023-06-01T17:53:16.478Z"
   },
   {
    "duration": 3591,
    "start_time": "2023-06-01T17:53:16.914Z"
   },
   {
    "duration": 2051,
    "start_time": "2023-06-01T17:53:20.508Z"
   },
   {
    "duration": 205,
    "start_time": "2023-06-01T17:53:22.566Z"
   },
   {
    "duration": 38,
    "start_time": "2023-06-01T17:53:22.773Z"
   },
   {
    "duration": 166,
    "start_time": "2023-06-01T17:53:22.813Z"
   },
   {
    "duration": 17,
    "start_time": "2023-06-01T17:53:22.981Z"
   },
   {
    "duration": 11,
    "start_time": "2023-06-01T17:53:23.000Z"
   },
   {
    "duration": 40,
    "start_time": "2023-06-01T17:53:23.012Z"
   },
   {
    "duration": 47,
    "start_time": "2023-06-01T17:53:23.064Z"
   },
   {
    "duration": 12,
    "start_time": "2023-06-01T17:53:23.113Z"
   },
   {
    "duration": 9,
    "start_time": "2023-06-01T17:53:23.127Z"
   },
   {
    "duration": 110,
    "start_time": "2023-06-01T17:53:23.160Z"
   },
   {
    "duration": 29,
    "start_time": "2023-06-01T17:53:23.273Z"
   },
   {
    "duration": 1439,
    "start_time": "2023-06-01T17:53:23.304Z"
   },
   {
    "duration": 278,
    "start_time": "2023-06-01T17:53:24.746Z"
   },
   {
    "duration": 1573,
    "start_time": "2023-06-03T10:09:40.615Z"
   },
   {
    "duration": 32,
    "start_time": "2023-06-03T10:29:05.392Z"
   },
   {
    "duration": 3952,
    "start_time": "2023-06-03T10:29:05.426Z"
   },
   {
    "duration": 1897,
    "start_time": "2023-06-03T10:29:09.383Z"
   },
   {
    "duration": 185,
    "start_time": "2023-06-03T10:29:11.282Z"
   },
   {
    "duration": 39,
    "start_time": "2023-06-03T10:29:11.470Z"
   },
   {
    "duration": 122,
    "start_time": "2023-06-03T10:29:11.512Z"
   },
   {
    "duration": 17,
    "start_time": "2023-06-03T10:29:11.635Z"
   },
   {
    "duration": 12,
    "start_time": "2023-06-03T10:29:11.654Z"
   },
   {
    "duration": 31,
    "start_time": "2023-06-03T10:29:11.668Z"
   },
   {
    "duration": 84,
    "start_time": "2023-06-03T10:29:11.703Z"
   },
   {
    "duration": 15,
    "start_time": "2023-06-03T10:29:11.797Z"
   },
   {
    "duration": 8,
    "start_time": "2023-06-03T10:29:11.813Z"
   },
   {
    "duration": 88,
    "start_time": "2023-06-03T10:29:11.822Z"
   },
   {
    "duration": 32,
    "start_time": "2023-06-03T10:29:11.912Z"
   },
   {
    "duration": 1334,
    "start_time": "2023-06-03T10:29:11.946Z"
   },
   {
    "duration": 207,
    "start_time": "2023-06-03T10:29:13.283Z"
   },
   {
    "duration": 131,
    "start_time": "2023-06-03T10:29:17.109Z"
   },
   {
    "duration": 3615,
    "start_time": "2023-06-03T10:30:19.197Z"
   },
   {
    "duration": 7,
    "start_time": "2023-06-03T10:31:42.079Z"
   },
   {
    "duration": 27,
    "start_time": "2023-06-03T10:32:02.096Z"
   },
   {
    "duration": 7,
    "start_time": "2023-06-03T10:32:44.895Z"
   },
   {
    "duration": 18,
    "start_time": "2023-06-03T10:33:35.286Z"
   },
   {
    "duration": 73,
    "start_time": "2023-06-03T10:34:49.204Z"
   },
   {
    "duration": 330,
    "start_time": "2023-06-03T10:34:54.675Z"
   },
   {
    "duration": 22,
    "start_time": "2023-06-03T10:35:50.293Z"
   },
   {
    "duration": 237,
    "start_time": "2023-06-03T10:35:53.155Z"
   },
   {
    "duration": 253,
    "start_time": "2023-06-03T10:36:30.526Z"
   },
   {
    "duration": 236,
    "start_time": "2023-06-03T10:36:42.983Z"
   },
   {
    "duration": 231,
    "start_time": "2023-06-03T10:36:57.872Z"
   },
   {
    "duration": 134,
    "start_time": "2023-06-03T10:37:24.326Z"
   },
   {
    "duration": 3,
    "start_time": "2023-06-03T10:37:28.309Z"
   },
   {
    "duration": 17,
    "start_time": "2023-06-03T10:37:36.255Z"
   },
   {
    "duration": 23,
    "start_time": "2023-06-03T10:37:53.982Z"
   },
   {
    "duration": 5929,
    "start_time": "2023-06-03T10:37:59.699Z"
   },
   {
    "duration": 6118,
    "start_time": "2023-06-03T10:38:52.499Z"
   },
   {
    "duration": 6159,
    "start_time": "2023-06-03T10:39:19.048Z"
   },
   {
    "duration": 117,
    "start_time": "2023-06-03T10:43:14.011Z"
   },
   {
    "duration": 3,
    "start_time": "2023-06-03T10:44:10.100Z"
   },
   {
    "duration": 7773,
    "start_time": "2023-06-03T10:44:12.967Z"
   },
   {
    "duration": 7,
    "start_time": "2023-06-03T10:44:42.502Z"
   },
   {
    "duration": 7929,
    "start_time": "2023-06-03T10:44:43.903Z"
   },
   {
    "duration": 60,
    "start_time": "2023-06-03T10:45:30.722Z"
   },
   {
    "duration": 9,
    "start_time": "2023-06-03T10:47:40.945Z"
   },
   {
    "duration": 10,
    "start_time": "2023-06-03T11:11:08.921Z"
   },
   {
    "duration": 15,
    "start_time": "2023-06-03T11:11:15.895Z"
   },
   {
    "duration": 3,
    "start_time": "2023-06-03T11:11:59.507Z"
   },
   {
    "duration": 6649,
    "start_time": "2023-06-03T11:12:00.041Z"
   },
   {
    "duration": 51,
    "start_time": "2023-06-03T11:12:06.697Z"
   },
   {
    "duration": 12,
    "start_time": "2023-06-03T11:12:06.752Z"
   },
   {
    "duration": 11,
    "start_time": "2023-06-03T12:47:29.076Z"
   },
   {
    "duration": 4,
    "start_time": "2023-06-03T12:47:35.070Z"
   },
   {
    "duration": 327,
    "start_time": "2023-06-03T12:47:39.280Z"
   },
   {
    "duration": 5944,
    "start_time": "2023-06-03T12:48:25.507Z"
   },
   {
    "duration": 10,
    "start_time": "2023-06-03T12:48:59.786Z"
   },
   {
    "duration": 4,
    "start_time": "2023-06-03T12:49:07.406Z"
   },
   {
    "duration": 5,
    "start_time": "2023-06-03T12:49:15.313Z"
   },
   {
    "duration": 3234,
    "start_time": "2023-06-04T14:42:48.030Z"
   },
   {
    "duration": 1739,
    "start_time": "2023-06-04T14:42:51.267Z"
   },
   {
    "duration": 3208,
    "start_time": "2023-06-04T14:42:53.008Z"
   },
   {
    "duration": 1400,
    "start_time": "2023-06-04T14:42:56.220Z"
   },
   {
    "duration": 188,
    "start_time": "2023-06-04T14:42:57.623Z"
   },
   {
    "duration": 33,
    "start_time": "2023-06-04T14:42:57.813Z"
   },
   {
    "duration": 148,
    "start_time": "2023-06-04T14:42:57.848Z"
   },
   {
    "duration": 11,
    "start_time": "2023-06-04T14:42:58.002Z"
   },
   {
    "duration": 8,
    "start_time": "2023-06-04T14:42:58.015Z"
   },
   {
    "duration": 25,
    "start_time": "2023-06-04T14:42:58.026Z"
   },
   {
    "duration": 51,
    "start_time": "2023-06-04T14:42:58.053Z"
   },
   {
    "duration": 11,
    "start_time": "2023-06-04T14:42:58.109Z"
   },
   {
    "duration": 8,
    "start_time": "2023-06-04T14:42:58.123Z"
   },
   {
    "duration": 105,
    "start_time": "2023-06-04T14:42:58.133Z"
   },
   {
    "duration": 43,
    "start_time": "2023-06-04T14:42:58.240Z"
   },
   {
    "duration": 1280,
    "start_time": "2023-06-04T14:42:58.285Z"
   },
   {
    "duration": 223,
    "start_time": "2023-06-04T14:42:59.566Z"
   },
   {
    "duration": 121,
    "start_time": "2023-06-04T14:42:59.791Z"
   },
   {
    "duration": 2,
    "start_time": "2023-06-04T14:42:59.914Z"
   },
   {
    "duration": 357,
    "start_time": "2023-06-04T14:44:09.874Z"
   },
   {
    "duration": 4594,
    "start_time": "2023-06-04T14:44:12.107Z"
   },
   {
    "duration": 37,
    "start_time": "2023-06-04T14:44:23.951Z"
   },
   {
    "duration": 5,
    "start_time": "2023-06-04T14:44:26.126Z"
   },
   {
    "duration": 2,
    "start_time": "2023-06-04T14:44:30.172Z"
   },
   {
    "duration": 5,
    "start_time": "2023-06-04T14:46:35.500Z"
   },
   {
    "duration": 43,
    "start_time": "2023-06-04T17:52:53.268Z"
   },
   {
    "duration": 3241,
    "start_time": "2023-06-04T17:52:58.598Z"
   },
   {
    "duration": 1753,
    "start_time": "2023-06-04T17:53:01.843Z"
   },
   {
    "duration": 3305,
    "start_time": "2023-06-04T17:53:03.598Z"
   },
   {
    "duration": 1334,
    "start_time": "2023-06-04T17:53:06.906Z"
   },
   {
    "duration": 166,
    "start_time": "2023-06-04T17:53:08.242Z"
   },
   {
    "duration": 44,
    "start_time": "2023-06-04T17:53:08.410Z"
   },
   {
    "duration": 75,
    "start_time": "2023-06-04T17:53:08.456Z"
   },
   {
    "duration": 415,
    "start_time": "2023-06-04T17:53:23.164Z"
   },
   {
    "duration": 449,
    "start_time": "2023-06-04T17:53:49.057Z"
   },
   {
    "duration": 189,
    "start_time": "2023-06-04T17:54:09.239Z"
   },
   {
    "duration": 22,
    "start_time": "2023-06-04T17:59:03.492Z"
   },
   {
    "duration": 110,
    "start_time": "2023-06-04T17:59:07.059Z"
   },
   {
    "duration": 26,
    "start_time": "2023-06-04T17:59:15.818Z"
   },
   {
    "duration": 16,
    "start_time": "2023-06-04T17:59:18.127Z"
   },
   {
    "duration": 90,
    "start_time": "2023-06-04T17:59:24.442Z"
   },
   {
    "duration": 17,
    "start_time": "2023-06-04T17:59:36.405Z"
   },
   {
    "duration": 117,
    "start_time": "2023-06-04T17:59:37.435Z"
   },
   {
    "duration": 139,
    "start_time": "2023-06-04T18:00:56.508Z"
   },
   {
    "duration": 675,
    "start_time": "2023-06-04T18:01:56.860Z"
   },
   {
    "duration": 203,
    "start_time": "2023-06-04T18:02:05.154Z"
   },
   {
    "duration": 180,
    "start_time": "2023-06-04T18:02:26.010Z"
   },
   {
    "duration": 208,
    "start_time": "2023-06-04T18:03:32.394Z"
   },
   {
    "duration": 195,
    "start_time": "2023-06-04T18:04:12.262Z"
   },
   {
    "duration": 12,
    "start_time": "2023-06-04T18:04:34.867Z"
   },
   {
    "duration": 90,
    "start_time": "2023-06-04T18:04:55.327Z"
   },
   {
    "duration": 44,
    "start_time": "2023-06-04T18:05:06.919Z"
   },
   {
    "duration": 71,
    "start_time": "2023-06-04T18:05:11.446Z"
   },
   {
    "duration": 25,
    "start_time": "2023-06-04T18:08:34.812Z"
   },
   {
    "duration": 324,
    "start_time": "2023-06-04T18:08:41.258Z"
   },
   {
    "duration": 128,
    "start_time": "2023-06-04T18:08:49.220Z"
   },
   {
    "duration": 2083,
    "start_time": "2023-06-04T18:09:16.319Z"
   },
   {
    "duration": 3,
    "start_time": "2023-06-04T18:09:18.405Z"
   },
   {
    "duration": 804,
    "start_time": "2023-06-04T18:09:18.409Z"
   },
   {
    "duration": 1302,
    "start_time": "2023-06-04T18:09:19.215Z"
   },
   {
    "duration": 176,
    "start_time": "2023-06-04T18:09:20.518Z"
   },
   {
    "duration": 43,
    "start_time": "2023-06-04T18:09:20.695Z"
   },
   {
    "duration": 189,
    "start_time": "2023-06-04T18:09:20.740Z"
   },
   {
    "duration": 28,
    "start_time": "2023-06-04T18:09:20.930Z"
   },
   {
    "duration": 105,
    "start_time": "2023-06-04T18:09:20.960Z"
   },
   {
    "duration": 186,
    "start_time": "2023-06-04T18:09:21.067Z"
   },
   {
    "duration": 8,
    "start_time": "2023-06-04T18:09:21.254Z"
   },
   {
    "duration": 41,
    "start_time": "2023-06-04T18:09:21.263Z"
   },
   {
    "duration": 236,
    "start_time": "2023-06-04T18:10:31.905Z"
   },
   {
    "duration": 228,
    "start_time": "2023-06-04T18:11:50.676Z"
   },
   {
    "duration": 35,
    "start_time": "2023-06-04T18:12:17.215Z"
   },
   {
    "duration": 227,
    "start_time": "2023-06-04T18:12:19.375Z"
   },
   {
    "duration": 2084,
    "start_time": "2023-06-04T18:12:53.382Z"
   },
   {
    "duration": 3,
    "start_time": "2023-06-04T18:12:55.468Z"
   },
   {
    "duration": 831,
    "start_time": "2023-06-04T18:12:55.473Z"
   },
   {
    "duration": 1197,
    "start_time": "2023-06-04T18:12:56.307Z"
   },
   {
    "duration": 167,
    "start_time": "2023-06-04T18:12:57.506Z"
   },
   {
    "duration": 24,
    "start_time": "2023-06-04T18:12:57.675Z"
   },
   {
    "duration": 199,
    "start_time": "2023-06-04T18:12:57.701Z"
   },
   {
    "duration": 27,
    "start_time": "2023-06-04T18:12:57.901Z"
   },
   {
    "duration": 83,
    "start_time": "2023-06-04T18:12:57.931Z"
   },
   {
    "duration": 189,
    "start_time": "2023-06-04T18:12:58.028Z"
   },
   {
    "duration": 17,
    "start_time": "2023-06-04T18:12:58.224Z"
   },
   {
    "duration": 40,
    "start_time": "2023-06-04T18:12:58.242Z"
   },
   {
    "duration": 309,
    "start_time": "2023-06-04T18:12:58.283Z"
   },
   {
    "duration": 79,
    "start_time": "2023-06-04T18:13:30.939Z"
   },
   {
    "duration": 2214,
    "start_time": "2023-06-04T19:19:03.779Z"
   },
   {
    "duration": 1461,
    "start_time": "2023-06-04T19:19:05.996Z"
   },
   {
    "duration": 915,
    "start_time": "2023-06-04T19:19:07.458Z"
   },
   {
    "duration": 1336,
    "start_time": "2023-06-04T19:19:08.376Z"
   },
   {
    "duration": 211,
    "start_time": "2023-06-04T19:19:09.714Z"
   },
   {
    "duration": 46,
    "start_time": "2023-06-04T19:19:09.932Z"
   },
   {
    "duration": 265,
    "start_time": "2023-06-04T19:19:09.980Z"
   },
   {
    "duration": 31,
    "start_time": "2023-06-04T19:19:10.247Z"
   },
   {
    "duration": 115,
    "start_time": "2023-06-04T19:19:10.281Z"
   },
   {
    "duration": 223,
    "start_time": "2023-06-04T19:19:10.398Z"
   },
   {
    "duration": 16,
    "start_time": "2023-06-04T19:19:10.625Z"
   },
   {
    "duration": 65,
    "start_time": "2023-06-04T19:19:10.643Z"
   },
   {
    "duration": 337,
    "start_time": "2023-06-04T19:19:10.710Z"
   },
   {
    "duration": 34,
    "start_time": "2023-06-04T19:19:11.049Z"
   },
   {
    "duration": 94,
    "start_time": "2023-06-04T19:19:11.085Z"
   },
   {
    "duration": 25,
    "start_time": "2023-06-04T19:19:11.181Z"
   },
   {
    "duration": 1098,
    "start_time": "2023-06-04T19:19:11.208Z"
   },
   {
    "duration": 196,
    "start_time": "2023-06-04T19:19:12.308Z"
   },
   {
    "duration": 130,
    "start_time": "2023-06-04T19:19:12.507Z"
   },
   {
    "duration": 3,
    "start_time": "2023-06-04T19:19:12.643Z"
   },
   {
    "duration": 316,
    "start_time": "2023-06-04T19:19:12.648Z"
   },
   {
    "duration": 3969,
    "start_time": "2023-06-04T19:19:12.965Z"
   },
   {
    "duration": 21,
    "start_time": "2023-06-04T19:19:16.936Z"
   },
   {
    "duration": 6,
    "start_time": "2023-06-04T19:19:16.958Z"
   },
   {
    "duration": 27,
    "start_time": "2023-06-04T19:19:16.965Z"
   },
   {
    "duration": 126,
    "start_time": "2023-06-04T19:19:16.993Z"
   },
   {
    "duration": 0,
    "start_time": "2023-06-04T19:19:17.121Z"
   },
   {
    "duration": 2210,
    "start_time": "2023-06-04T19:20:03.257Z"
   },
   {
    "duration": 4,
    "start_time": "2023-06-04T19:20:05.471Z"
   },
   {
    "duration": 870,
    "start_time": "2023-06-04T19:20:05.476Z"
   },
   {
    "duration": 1330,
    "start_time": "2023-06-04T19:20:06.348Z"
   },
   {
    "duration": 201,
    "start_time": "2023-06-04T19:20:07.682Z"
   },
   {
    "duration": 53,
    "start_time": "2023-06-04T19:20:07.885Z"
   },
   {
    "duration": 209,
    "start_time": "2023-06-04T19:20:07.942Z"
   },
   {
    "duration": 24,
    "start_time": "2023-06-04T19:20:08.153Z"
   },
   {
    "duration": 126,
    "start_time": "2023-06-04T19:20:08.179Z"
   },
   {
    "duration": 206,
    "start_time": "2023-06-04T19:20:08.306Z"
   },
   {
    "duration": 28,
    "start_time": "2023-06-04T19:20:08.514Z"
   },
   {
    "duration": 56,
    "start_time": "2023-06-04T19:20:08.544Z"
   },
   {
    "duration": 344,
    "start_time": "2023-06-04T19:20:08.602Z"
   },
   {
    "duration": 34,
    "start_time": "2023-06-04T19:20:08.949Z"
   },
   {
    "duration": 98,
    "start_time": "2023-06-04T19:20:08.984Z"
   },
   {
    "duration": 18,
    "start_time": "2023-06-04T19:20:09.084Z"
   },
   {
    "duration": 1318,
    "start_time": "2023-06-04T19:20:09.104Z"
   },
   {
    "duration": 205,
    "start_time": "2023-06-04T19:20:10.434Z"
   },
   {
    "duration": 105,
    "start_time": "2023-06-04T19:20:10.644Z"
   },
   {
    "duration": 4,
    "start_time": "2023-06-04T19:20:10.751Z"
   },
   {
    "duration": 361,
    "start_time": "2023-06-04T19:20:10.757Z"
   },
   {
    "duration": 3753,
    "start_time": "2023-06-04T19:20:11.119Z"
   },
   {
    "duration": 24,
    "start_time": "2023-06-04T19:20:14.874Z"
   },
   {
    "duration": 5,
    "start_time": "2023-06-04T19:20:14.900Z"
   },
   {
    "duration": 9,
    "start_time": "2023-06-04T19:20:14.907Z"
   },
   {
    "duration": 18,
    "start_time": "2023-06-04T19:20:14.917Z"
   },
   {
    "duration": 0,
    "start_time": "2023-06-04T19:20:14.940Z"
   },
   {
    "duration": 77,
    "start_time": "2023-06-04T19:26:57.671Z"
   },
   {
    "duration": 2395,
    "start_time": "2023-06-04T19:29:06.463Z"
   },
   {
    "duration": 5,
    "start_time": "2023-06-04T19:29:08.861Z"
   },
   {
    "duration": 899,
    "start_time": "2023-06-04T19:29:08.868Z"
   },
   {
    "duration": 1518,
    "start_time": "2023-06-04T19:29:09.771Z"
   },
   {
    "duration": 180,
    "start_time": "2023-06-04T19:29:11.291Z"
   },
   {
    "duration": 26,
    "start_time": "2023-06-04T19:29:11.473Z"
   },
   {
    "duration": 234,
    "start_time": "2023-06-04T19:29:11.501Z"
   },
   {
    "duration": 36,
    "start_time": "2023-06-04T19:29:11.736Z"
   },
   {
    "duration": 105,
    "start_time": "2023-06-04T19:29:11.774Z"
   },
   {
    "duration": 229,
    "start_time": "2023-06-04T19:29:11.882Z"
   },
   {
    "duration": 26,
    "start_time": "2023-06-04T19:29:12.113Z"
   },
   {
    "duration": 45,
    "start_time": "2023-06-04T19:29:12.145Z"
   },
   {
    "duration": 302,
    "start_time": "2023-06-04T19:29:12.192Z"
   },
   {
    "duration": 47,
    "start_time": "2023-06-04T19:29:12.495Z"
   },
   {
    "duration": 71,
    "start_time": "2023-06-04T19:29:12.544Z"
   },
   {
    "duration": 84,
    "start_time": "2023-06-04T19:29:12.616Z"
   },
   {
    "duration": 18,
    "start_time": "2023-06-04T19:29:12.702Z"
   },
   {
    "duration": 1257,
    "start_time": "2023-06-04T19:29:12.728Z"
   },
   {
    "duration": 200,
    "start_time": "2023-06-04T19:29:13.988Z"
   },
   {
    "duration": 15,
    "start_time": "2023-06-04T19:36:07.211Z"
   },
   {
    "duration": 51,
    "start_time": "2023-06-04T21:12:38.482Z"
   },
   {
    "duration": 3482,
    "start_time": "2023-06-04T21:12:41.154Z"
   },
   {
    "duration": 1931,
    "start_time": "2023-06-04T21:12:44.639Z"
   },
   {
    "duration": 4216,
    "start_time": "2023-06-04T21:12:46.571Z"
   },
   {
    "duration": 1357,
    "start_time": "2023-06-04T21:12:50.789Z"
   },
   {
    "duration": 165,
    "start_time": "2023-06-04T21:12:52.151Z"
   },
   {
    "duration": 50,
    "start_time": "2023-06-04T21:12:52.318Z"
   },
   {
    "duration": 212,
    "start_time": "2023-06-04T21:12:52.370Z"
   },
   {
    "duration": 29,
    "start_time": "2023-06-04T21:12:52.584Z"
   },
   {
    "duration": 165,
    "start_time": "2023-06-04T21:12:52.626Z"
   },
   {
    "duration": 258,
    "start_time": "2023-06-04T21:12:52.795Z"
   },
   {
    "duration": 14,
    "start_time": "2023-06-04T21:12:53.054Z"
   },
   {
    "duration": 72,
    "start_time": "2023-06-04T21:12:53.070Z"
   },
   {
    "duration": 320,
    "start_time": "2023-06-04T21:12:53.144Z"
   },
   {
    "duration": 31,
    "start_time": "2023-06-04T21:12:53.466Z"
   },
   {
    "duration": 113,
    "start_time": "2023-06-04T21:12:53.499Z"
   },
   {
    "duration": 95,
    "start_time": "2023-06-04T21:12:53.614Z"
   },
   {
    "duration": 40,
    "start_time": "2023-06-04T21:12:53.710Z"
   },
   {
    "duration": 1342,
    "start_time": "2023-06-04T21:12:53.755Z"
   },
   {
    "duration": 222,
    "start_time": "2023-06-04T21:12:55.099Z"
   },
   {
    "duration": 135,
    "start_time": "2023-06-04T21:12:55.326Z"
   },
   {
    "duration": 11,
    "start_time": "2023-06-04T21:12:55.463Z"
   },
   {
    "duration": 346,
    "start_time": "2023-06-04T21:12:55.479Z"
   },
   {
    "duration": 4458,
    "start_time": "2023-06-04T21:12:55.827Z"
   },
   {
    "duration": 17,
    "start_time": "2023-06-04T21:13:00.286Z"
   },
   {
    "duration": 5,
    "start_time": "2023-06-04T21:13:00.305Z"
   },
   {
    "duration": 7,
    "start_time": "2023-06-04T21:13:00.312Z"
   },
   {
    "duration": 101,
    "start_time": "2023-06-04T21:13:00.320Z"
   },
   {
    "duration": 0,
    "start_time": "2023-06-04T21:13:00.423Z"
   },
   {
    "duration": 3,
    "start_time": "2023-06-04T21:13:13.985Z"
   },
   {
    "duration": 141,
    "start_time": "2023-06-04T21:13:14.623Z"
   },
   {
    "duration": 14,
    "start_time": "2023-06-04T21:13:39.285Z"
   },
   {
    "duration": 8,
    "start_time": "2023-06-04T21:15:08.749Z"
   },
   {
    "duration": 33,
    "start_time": "2023-06-04T21:15:24.112Z"
   },
   {
    "duration": 5,
    "start_time": "2023-06-04T21:15:30.402Z"
   },
   {
    "duration": 5,
    "start_time": "2023-06-04T21:15:37.658Z"
   },
   {
    "duration": 8,
    "start_time": "2023-06-04T21:15:41.824Z"
   },
   {
    "duration": 6,
    "start_time": "2023-06-04T21:17:13.058Z"
   },
   {
    "duration": 8,
    "start_time": "2023-06-04T21:21:25.726Z"
   },
   {
    "duration": 8,
    "start_time": "2023-06-04T21:21:27.222Z"
   },
   {
    "duration": 5,
    "start_time": "2023-06-04T21:21:28.181Z"
   },
   {
    "duration": 19,
    "start_time": "2023-06-04T21:21:29.171Z"
   },
   {
    "duration": 3,
    "start_time": "2023-06-04T21:22:48.762Z"
   },
   {
    "duration": 3,
    "start_time": "2023-06-04T21:22:49.414Z"
   },
   {
    "duration": 25,
    "start_time": "2023-06-04T21:22:50.008Z"
   },
   {
    "duration": 3,
    "start_time": "2023-06-04T21:34:50.392Z"
   },
   {
    "duration": 462,
    "start_time": "2023-06-04T21:34:55.720Z"
   },
   {
    "duration": 11,
    "start_time": "2023-06-04T21:38:11.265Z"
   },
   {
    "duration": 89,
    "start_time": "2023-06-04T21:38:22.717Z"
   },
   {
    "duration": 122,
    "start_time": "2023-06-04T21:39:39.119Z"
   },
   {
    "duration": 76,
    "start_time": "2023-06-04T21:51:35.671Z"
   },
   {
    "duration": 2571,
    "start_time": "2023-06-04T21:51:39.951Z"
   },
   {
    "duration": 1667,
    "start_time": "2023-06-04T21:51:42.524Z"
   },
   {
    "duration": 1015,
    "start_time": "2023-06-04T21:51:44.194Z"
   },
   {
    "duration": 1557,
    "start_time": "2023-06-04T21:51:45.211Z"
   },
   {
    "duration": 197,
    "start_time": "2023-06-04T21:51:46.771Z"
   },
   {
    "duration": 41,
    "start_time": "2023-06-04T21:51:46.969Z"
   },
   {
    "duration": 258,
    "start_time": "2023-06-04T21:51:47.012Z"
   },
   {
    "duration": 26,
    "start_time": "2023-06-04T21:51:47.282Z"
   },
   {
    "duration": 160,
    "start_time": "2023-06-04T21:51:47.310Z"
   },
   {
    "duration": 279,
    "start_time": "2023-06-04T21:51:47.473Z"
   },
   {
    "duration": 15,
    "start_time": "2023-06-04T21:51:47.755Z"
   },
   {
    "duration": 76,
    "start_time": "2023-06-04T21:51:47.771Z"
   },
   {
    "duration": 412,
    "start_time": "2023-06-04T21:51:47.854Z"
   },
   {
    "duration": 46,
    "start_time": "2023-06-04T21:51:48.268Z"
   },
   {
    "duration": 120,
    "start_time": "2023-06-04T21:51:48.316Z"
   },
   {
    "duration": 120,
    "start_time": "2023-06-04T21:51:48.438Z"
   },
   {
    "duration": 33,
    "start_time": "2023-06-04T21:51:48.560Z"
   },
   {
    "duration": 1592,
    "start_time": "2023-06-04T21:51:48.595Z"
   },
   {
    "duration": 258,
    "start_time": "2023-06-04T21:51:50.189Z"
   },
   {
    "duration": 144,
    "start_time": "2023-06-04T21:51:50.449Z"
   },
   {
    "duration": 2,
    "start_time": "2023-06-04T21:51:50.595Z"
   },
   {
    "duration": 379,
    "start_time": "2023-06-04T21:51:50.599Z"
   },
   {
    "duration": 5059,
    "start_time": "2023-06-04T21:51:50.982Z"
   },
   {
    "duration": 34,
    "start_time": "2023-06-04T21:51:56.042Z"
   },
   {
    "duration": 12,
    "start_time": "2023-06-04T21:51:56.079Z"
   },
   {
    "duration": 7,
    "start_time": "2023-06-04T21:51:56.093Z"
   },
   {
    "duration": 130,
    "start_time": "2023-06-04T21:51:56.102Z"
   },
   {
    "duration": 3,
    "start_time": "2023-06-04T21:51:56.238Z"
   },
   {
    "duration": 118,
    "start_time": "2023-06-04T21:51:56.245Z"
   },
   {
    "duration": 27,
    "start_time": "2023-06-04T21:53:16.953Z"
   },
   {
    "duration": 24,
    "start_time": "2023-06-04T21:55:12.856Z"
   },
   {
    "duration": 2797,
    "start_time": "2023-06-05T19:18:10.290Z"
   },
   {
    "duration": 1545,
    "start_time": "2023-06-05T19:18:13.089Z"
   },
   {
    "duration": 3019,
    "start_time": "2023-06-05T19:18:14.637Z"
   },
   {
    "duration": 1041,
    "start_time": "2023-06-05T19:18:17.657Z"
   },
   {
    "duration": 156,
    "start_time": "2023-06-05T19:18:18.706Z"
   },
   {
    "duration": 31,
    "start_time": "2023-06-05T19:18:18.864Z"
   },
   {
    "duration": 183,
    "start_time": "2023-06-05T19:18:18.896Z"
   },
   {
    "duration": 29,
    "start_time": "2023-06-05T19:18:19.081Z"
   },
   {
    "duration": 69,
    "start_time": "2023-06-05T19:18:19.112Z"
   },
   {
    "duration": 185,
    "start_time": "2023-06-05T19:18:19.182Z"
   },
   {
    "duration": 7,
    "start_time": "2023-06-05T19:18:19.369Z"
   },
   {
    "duration": 59,
    "start_time": "2023-06-05T19:18:19.378Z"
   },
   {
    "duration": 253,
    "start_time": "2023-06-05T19:18:19.438Z"
   },
   {
    "duration": 38,
    "start_time": "2023-06-05T19:18:19.693Z"
   },
   {
    "duration": 53,
    "start_time": "2023-06-05T19:18:19.733Z"
   },
   {
    "duration": 63,
    "start_time": "2023-06-05T19:18:19.788Z"
   },
   {
    "duration": 28,
    "start_time": "2023-06-05T19:18:19.853Z"
   },
   {
    "duration": 951,
    "start_time": "2023-06-05T19:18:19.882Z"
   },
   {
    "duration": 139,
    "start_time": "2023-06-05T19:18:20.834Z"
   },
   {
    "duration": 100,
    "start_time": "2023-06-05T19:18:28.788Z"
   },
   {
    "duration": 3,
    "start_time": "2023-06-05T19:18:48.592Z"
   },
   {
    "duration": 3,
    "start_time": "2023-06-05T19:18:49.012Z"
   },
   {
    "duration": 9,
    "start_time": "2023-06-05T19:20:30.155Z"
   },
   {
    "duration": 9,
    "start_time": "2023-06-05T19:20:40.914Z"
   },
   {
    "duration": 4,
    "start_time": "2023-06-05T19:20:44.996Z"
   },
   {
    "duration": 125,
    "start_time": "2023-06-05T19:22:48.590Z"
   },
   {
    "duration": 2,
    "start_time": "2023-06-05T19:22:50.151Z"
   },
   {
    "duration": 251,
    "start_time": "2023-06-05T19:22:55.995Z"
   },
   {
    "duration": 3,
    "start_time": "2023-06-05T19:23:22.300Z"
   },
   {
    "duration": 67,
    "start_time": "2023-06-05T19:24:58.490Z"
   },
   {
    "duration": 48808,
    "start_time": "2023-06-05T19:25:00.104Z"
   },
   {
    "duration": 28,
    "start_time": "2023-06-05T19:29:45.283Z"
   },
   {
    "duration": 9,
    "start_time": "2023-06-05T19:30:54.391Z"
   },
   {
    "duration": 9,
    "start_time": "2023-06-05T19:31:05.817Z"
   },
   {
    "duration": 2,
    "start_time": "2023-06-05T19:31:25.207Z"
   },
   {
    "duration": 160,
    "start_time": "2023-06-05T19:32:04.057Z"
   },
   {
    "duration": 226,
    "start_time": "2023-06-05T19:32:11.391Z"
   },
   {
    "duration": 136,
    "start_time": "2023-06-05T19:48:02.438Z"
   },
   {
    "duration": 5720,
    "start_time": "2023-06-05T19:48:03.847Z"
   },
   {
    "duration": 47,
    "start_time": "2023-06-06T15:52:44.765Z"
   },
   {
    "duration": 1342,
    "start_time": "2023-06-06T15:52:51.671Z"
   },
   {
    "duration": 3373,
    "start_time": "2023-06-06T15:52:53.015Z"
   },
   {
    "duration": 1615,
    "start_time": "2023-06-06T15:52:56.389Z"
   },
   {
    "duration": 195,
    "start_time": "2023-06-06T15:52:58.007Z"
   },
   {
    "duration": 31,
    "start_time": "2023-06-06T15:52:58.205Z"
   },
   {
    "duration": 209,
    "start_time": "2023-06-06T15:52:58.238Z"
   },
   {
    "duration": 29,
    "start_time": "2023-06-06T15:52:58.449Z"
   },
   {
    "duration": 72,
    "start_time": "2023-06-06T15:52:58.480Z"
   },
   {
    "duration": 195,
    "start_time": "2023-06-06T15:52:58.553Z"
   },
   {
    "duration": 8,
    "start_time": "2023-06-06T15:52:58.751Z"
   },
   {
    "duration": 61,
    "start_time": "2023-06-06T15:52:58.760Z"
   },
   {
    "duration": 271,
    "start_time": "2023-06-06T15:52:58.823Z"
   },
   {
    "duration": 31,
    "start_time": "2023-06-06T15:52:59.096Z"
   },
   {
    "duration": 71,
    "start_time": "2023-06-06T15:52:59.128Z"
   },
   {
    "duration": 55,
    "start_time": "2023-06-06T15:52:59.201Z"
   },
   {
    "duration": 32,
    "start_time": "2023-06-06T15:52:59.258Z"
   },
   {
    "duration": 1060,
    "start_time": "2023-06-06T15:52:59.292Z"
   },
   {
    "duration": 172,
    "start_time": "2023-06-06T15:53:00.354Z"
   },
   {
    "duration": 81,
    "start_time": "2023-06-06T15:53:00.528Z"
   },
   {
    "duration": 0,
    "start_time": "2023-06-06T15:53:00.611Z"
   },
   {
    "duration": 86,
    "start_time": "2023-06-06T15:53:54.494Z"
   },
   {
    "duration": 74,
    "start_time": "2023-06-06T15:54:06.379Z"
   },
   {
    "duration": 56,
    "start_time": "2023-06-06T15:54:23.069Z"
   },
   {
    "duration": 4,
    "start_time": "2023-06-06T15:57:01.191Z"
   },
   {
    "duration": 811,
    "start_time": "2023-06-06T15:57:01.197Z"
   },
   {
    "duration": 1100,
    "start_time": "2023-06-06T15:57:02.010Z"
   },
   {
    "duration": 148,
    "start_time": "2023-06-06T15:57:03.112Z"
   },
   {
    "duration": 32,
    "start_time": "2023-06-06T15:57:03.262Z"
   },
   {
    "duration": 166,
    "start_time": "2023-06-06T15:57:03.296Z"
   },
   {
    "duration": 31,
    "start_time": "2023-06-06T15:57:03.465Z"
   },
   {
    "duration": 88,
    "start_time": "2023-06-06T15:57:03.498Z"
   },
   {
    "duration": 173,
    "start_time": "2023-06-06T15:57:03.587Z"
   },
   {
    "duration": 16,
    "start_time": "2023-06-06T15:57:03.762Z"
   },
   {
    "duration": 45,
    "start_time": "2023-06-06T15:57:03.781Z"
   },
   {
    "duration": 261,
    "start_time": "2023-06-06T15:57:03.828Z"
   },
   {
    "duration": 31,
    "start_time": "2023-06-06T15:57:04.091Z"
   },
   {
    "duration": 71,
    "start_time": "2023-06-06T15:57:04.124Z"
   },
   {
    "duration": 53,
    "start_time": "2023-06-06T15:57:04.197Z"
   },
   {
    "duration": 38,
    "start_time": "2023-06-06T15:57:04.251Z"
   },
   {
    "duration": 1020,
    "start_time": "2023-06-06T15:57:04.291Z"
   },
   {
    "duration": 153,
    "start_time": "2023-06-06T15:57:05.312Z"
   },
   {
    "duration": 63,
    "start_time": "2023-06-06T15:57:05.466Z"
   },
   {
    "duration": 153,
    "start_time": "2023-06-06T15:57:05.530Z"
   },
   {
    "duration": 58,
    "start_time": "2023-06-06T15:57:05.685Z"
   },
   {
    "duration": 5,
    "start_time": "2023-06-06T16:24:26.587Z"
   },
   {
    "duration": 883,
    "start_time": "2023-06-06T16:24:26.595Z"
   },
   {
    "duration": 1234,
    "start_time": "2023-06-06T16:24:27.481Z"
   },
   {
    "duration": 188,
    "start_time": "2023-06-06T16:24:28.717Z"
   },
   {
    "duration": 25,
    "start_time": "2023-06-06T16:24:28.907Z"
   },
   {
    "duration": 202,
    "start_time": "2023-06-06T16:24:28.934Z"
   },
   {
    "duration": 25,
    "start_time": "2023-06-06T16:24:29.138Z"
   },
   {
    "duration": 99,
    "start_time": "2023-06-06T16:24:29.165Z"
   },
   {
    "duration": 215,
    "start_time": "2023-06-06T16:24:29.265Z"
   },
   {
    "duration": 11,
    "start_time": "2023-06-06T16:24:29.482Z"
   },
   {
    "duration": 53,
    "start_time": "2023-06-06T16:24:29.496Z"
   },
   {
    "duration": 328,
    "start_time": "2023-06-06T16:24:29.552Z"
   },
   {
    "duration": 33,
    "start_time": "2023-06-06T16:24:29.882Z"
   },
   {
    "duration": 81,
    "start_time": "2023-06-06T16:24:29.916Z"
   },
   {
    "duration": 80,
    "start_time": "2023-06-06T16:24:29.999Z"
   },
   {
    "duration": 25,
    "start_time": "2023-06-06T16:24:30.080Z"
   },
   {
    "duration": 1130,
    "start_time": "2023-06-06T16:24:30.107Z"
   },
   {
    "duration": 164,
    "start_time": "2023-06-06T16:24:31.239Z"
   },
   {
    "duration": 59,
    "start_time": "2023-06-06T16:24:31.404Z"
   },
   {
    "duration": 152,
    "start_time": "2023-06-06T16:24:31.479Z"
   },
   {
    "duration": 61,
    "start_time": "2023-06-06T16:24:31.633Z"
   },
   {
    "duration": 5,
    "start_time": "2023-06-06T16:24:31.695Z"
   },
   {
    "duration": 101,
    "start_time": "2023-06-06T16:24:31.703Z"
   },
   {
    "duration": 14,
    "start_time": "2023-06-06T16:24:31.806Z"
   },
   {
    "duration": 0,
    "start_time": "2023-06-06T16:24:31.822Z"
   },
   {
    "duration": 0,
    "start_time": "2023-06-06T16:24:31.824Z"
   },
   {
    "duration": 3,
    "start_time": "2023-06-06T16:25:06.222Z"
   },
   {
    "duration": 92,
    "start_time": "2023-06-06T16:25:06.601Z"
   },
   {
    "duration": 47,
    "start_time": "2023-06-06T16:31:10.857Z"
   },
   {
    "duration": 21,
    "start_time": "2023-06-06T16:31:22.057Z"
   },
   {
    "duration": 12,
    "start_time": "2023-06-06T16:31:30.406Z"
   },
   {
    "duration": 36,
    "start_time": "2023-06-06T16:31:54.931Z"
   },
   {
    "duration": 48,
    "start_time": "2023-06-06T16:31:57.484Z"
   },
   {
    "duration": 20,
    "start_time": "2023-06-06T16:31:57.534Z"
   },
   {
    "duration": 29,
    "start_time": "2023-06-06T16:31:57.556Z"
   },
   {
    "duration": 152,
    "start_time": "2023-06-06T16:31:57.592Z"
   },
   {
    "duration": 12,
    "start_time": "2023-06-06T16:31:57.745Z"
   },
   {
    "duration": 0,
    "start_time": "2023-06-06T16:31:57.759Z"
   },
   {
    "duration": 0,
    "start_time": "2023-06-06T16:31:57.760Z"
   },
   {
    "duration": 0,
    "start_time": "2023-06-06T16:31:57.761Z"
   },
   {
    "duration": 3,
    "start_time": "2023-06-06T16:32:38.940Z"
   },
   {
    "duration": 4,
    "start_time": "2023-06-06T16:41:01.631Z"
   },
   {
    "duration": 7277,
    "start_time": "2023-06-06T16:41:02.314Z"
   },
   {
    "duration": 3,
    "start_time": "2023-06-06T16:42:06.565Z"
   },
   {
    "duration": 4,
    "start_time": "2023-06-06T16:44:09.202Z"
   },
   {
    "duration": 116693,
    "start_time": "2023-06-06T16:44:09.207Z"
   },
   {
    "duration": 4,
    "start_time": "2023-06-06T16:46:56.639Z"
   },
   {
    "duration": 3,
    "start_time": "2023-06-06T16:48:55.459Z"
   },
   {
    "duration": 504821,
    "start_time": "2023-06-06T16:48:56.176Z"
   },
   {
    "duration": 9,
    "start_time": "2023-06-06T16:57:20.999Z"
   },
   {
    "duration": 9,
    "start_time": "2023-06-06T17:01:45.125Z"
   },
   {
    "duration": 3,
    "start_time": "2023-06-06T17:01:55.655Z"
   },
   {
    "duration": 688,
    "start_time": "2023-06-06T17:01:59.269Z"
   },
   {
    "duration": 19,
    "start_time": "2023-06-06T17:02:12.091Z"
   },
   {
    "duration": 3,
    "start_time": "2023-06-06T17:06:23.489Z"
   },
   {
    "duration": 4902,
    "start_time": "2023-06-06T17:06:25.504Z"
   },
   {
    "duration": 4,
    "start_time": "2023-06-06T17:06:52.375Z"
   },
   {
    "duration": 4,
    "start_time": "2023-06-06T17:07:12.956Z"
   },
   {
    "duration": 3,
    "start_time": "2023-06-06T17:07:31.643Z"
   },
   {
    "duration": 4,
    "start_time": "2023-06-06T17:07:38.224Z"
   },
   {
    "duration": 4,
    "start_time": "2023-06-06T17:07:46.793Z"
   },
   {
    "duration": 5,
    "start_time": "2023-06-06T17:07:52.510Z"
   },
   {
    "duration": 5,
    "start_time": "2023-06-06T17:08:08.989Z"
   },
   {
    "duration": 4,
    "start_time": "2023-06-06T17:08:16.205Z"
   },
   {
    "duration": 189,
    "start_time": "2023-06-06T17:20:57.417Z"
   },
   {
    "duration": 20,
    "start_time": "2023-06-06T17:20:59.982Z"
   },
   {
    "duration": 14,
    "start_time": "2023-06-06T17:21:14.243Z"
   },
   {
    "duration": 73,
    "start_time": "2023-06-06T17:23:56.935Z"
   },
   {
    "duration": 3,
    "start_time": "2023-06-06T17:24:35.819Z"
   },
   {
    "duration": 8040,
    "start_time": "2023-06-06T17:24:36.731Z"
   },
   {
    "duration": 3,
    "start_time": "2023-06-06T17:25:01.312Z"
   },
   {
    "duration": 11404,
    "start_time": "2023-06-06T17:25:01.861Z"
   },
   {
    "duration": 4,
    "start_time": "2023-06-06T17:25:32.954Z"
   },
   {
    "duration": 4,
    "start_time": "2023-06-06T17:25:41.891Z"
   },
   {
    "duration": 4,
    "start_time": "2023-06-06T17:25:53.109Z"
   },
   {
    "duration": 4,
    "start_time": "2023-06-06T17:26:41.228Z"
   },
   {
    "duration": 5169,
    "start_time": "2023-06-06T17:26:41.940Z"
   },
   {
    "duration": 9,
    "start_time": "2023-06-06T17:30:13.393Z"
   },
   {
    "duration": 82,
    "start_time": "2023-06-06T17:30:14.151Z"
   },
   {
    "duration": 13,
    "start_time": "2023-06-06T17:30:27.260Z"
   },
   {
    "duration": 3,
    "start_time": "2023-06-06T17:30:32.054Z"
   },
   {
    "duration": 173820,
    "start_time": "2023-06-06T17:30:32.445Z"
   },
   {
    "duration": 4,
    "start_time": "2023-06-06T17:33:30.212Z"
   },
   {
    "duration": 164536,
    "start_time": "2023-06-06T17:33:30.845Z"
   },
   {
    "duration": 54,
    "start_time": "2023-06-07T07:07:18.720Z"
   },
   {
    "duration": 79,
    "start_time": "2023-06-07T07:07:20.255Z"
   },
   {
    "duration": 1502,
    "start_time": "2023-06-07T07:07:32.455Z"
   },
   {
    "duration": 2925,
    "start_time": "2023-06-07T07:07:33.960Z"
   },
   {
    "duration": 1689,
    "start_time": "2023-06-07T07:07:36.887Z"
   },
   {
    "duration": 195,
    "start_time": "2023-06-07T07:07:38.579Z"
   },
   {
    "duration": 41,
    "start_time": "2023-06-07T07:07:38.777Z"
   },
   {
    "duration": 282,
    "start_time": "2023-06-07T07:07:38.820Z"
   },
   {
    "duration": 29,
    "start_time": "2023-06-07T07:07:39.105Z"
   },
   {
    "duration": 107,
    "start_time": "2023-06-07T07:07:39.137Z"
   },
   {
    "duration": 235,
    "start_time": "2023-06-07T07:07:39.247Z"
   },
   {
    "duration": 9,
    "start_time": "2023-06-07T07:07:39.485Z"
   },
   {
    "duration": 72,
    "start_time": "2023-06-07T07:07:39.496Z"
   },
   {
    "duration": 310,
    "start_time": "2023-06-07T07:07:39.571Z"
   },
   {
    "duration": 34,
    "start_time": "2023-06-07T07:07:39.883Z"
   },
   {
    "duration": 85,
    "start_time": "2023-06-07T07:07:39.919Z"
   },
   {
    "duration": 74,
    "start_time": "2023-06-07T07:07:40.006Z"
   },
   {
    "duration": 25,
    "start_time": "2023-06-07T07:07:40.082Z"
   },
   {
    "duration": 1158,
    "start_time": "2023-06-07T07:07:40.109Z"
   },
   {
    "duration": 164,
    "start_time": "2023-06-07T07:07:41.270Z"
   },
   {
    "duration": 70,
    "start_time": "2023-06-07T07:07:41.436Z"
   },
   {
    "duration": 166,
    "start_time": "2023-06-07T07:07:41.508Z"
   },
   {
    "duration": 42,
    "start_time": "2023-06-07T07:07:41.676Z"
   },
   {
    "duration": 4,
    "start_time": "2023-06-07T07:07:41.720Z"
   },
   {
    "duration": 170388,
    "start_time": "2023-06-07T07:07:41.725Z"
   },
   {
    "duration": 5,
    "start_time": "2023-06-07T07:10:32.114Z"
   },
   {
    "duration": 1776,
    "start_time": "2023-06-07T07:37:10.334Z"
   },
   {
    "duration": 14,
    "start_time": "2023-06-07T07:37:22.981Z"
   },
   {
    "duration": 1284,
    "start_time": "2023-06-07T07:37:22.999Z"
   },
   {
    "duration": 1898,
    "start_time": "2023-06-07T07:37:24.286Z"
   },
   {
    "duration": 248,
    "start_time": "2023-06-07T07:37:26.192Z"
   },
   {
    "duration": 49,
    "start_time": "2023-06-07T07:37:26.443Z"
   },
   {
    "duration": 249,
    "start_time": "2023-06-07T07:37:26.494Z"
   },
   {
    "duration": 42,
    "start_time": "2023-06-07T07:37:26.746Z"
   },
   {
    "duration": 119,
    "start_time": "2023-06-07T07:37:26.793Z"
   },
   {
    "duration": 262,
    "start_time": "2023-06-07T07:37:26.915Z"
   },
   {
    "duration": 19,
    "start_time": "2023-06-07T07:37:27.179Z"
   },
   {
    "duration": 72,
    "start_time": "2023-06-07T07:37:27.200Z"
   },
   {
    "duration": 367,
    "start_time": "2023-06-07T07:37:27.274Z"
   },
   {
    "duration": 42,
    "start_time": "2023-06-07T07:37:27.643Z"
   },
   {
    "duration": 77,
    "start_time": "2023-06-07T07:37:27.689Z"
   },
   {
    "duration": 65,
    "start_time": "2023-06-07T07:37:27.768Z"
   },
   {
    "duration": 45,
    "start_time": "2023-06-07T07:37:27.835Z"
   },
   {
    "duration": 1394,
    "start_time": "2023-06-07T07:37:27.883Z"
   },
   {
    "duration": 268,
    "start_time": "2023-06-07T07:37:29.279Z"
   },
   {
    "duration": 87,
    "start_time": "2023-06-07T07:37:29.548Z"
   },
   {
    "duration": 196,
    "start_time": "2023-06-07T07:37:29.638Z"
   },
   {
    "duration": 68,
    "start_time": "2023-06-07T07:37:29.836Z"
   },
   {
    "duration": 6,
    "start_time": "2023-06-07T07:37:33.472Z"
   },
   {
    "duration": 9,
    "start_time": "2023-06-07T07:37:36.955Z"
   },
   {
    "duration": 33237,
    "start_time": "2023-06-07T07:37:38.199Z"
   },
   {
    "duration": 6,
    "start_time": "2023-06-07T07:38:18.002Z"
   },
   {
    "duration": 1778,
    "start_time": "2023-06-07T07:38:53.181Z"
   },
   {
    "duration": 1161,
    "start_time": "2023-06-07T07:38:54.961Z"
   },
   {
    "duration": 2074,
    "start_time": "2023-06-07T07:38:56.124Z"
   },
   {
    "duration": 273,
    "start_time": "2023-06-07T07:38:58.201Z"
   },
   {
    "duration": 46,
    "start_time": "2023-06-07T07:38:58.479Z"
   },
   {
    "duration": 289,
    "start_time": "2023-06-07T07:38:58.527Z"
   },
   {
    "duration": 32,
    "start_time": "2023-06-07T07:38:58.819Z"
   },
   {
    "duration": 142,
    "start_time": "2023-06-07T07:38:58.854Z"
   },
   {
    "duration": 290,
    "start_time": "2023-06-07T07:38:59.003Z"
   },
   {
    "duration": 13,
    "start_time": "2023-06-07T07:38:59.297Z"
   },
   {
    "duration": 95,
    "start_time": "2023-06-07T07:38:59.312Z"
   },
   {
    "duration": 452,
    "start_time": "2023-06-07T07:38:59.409Z"
   },
   {
    "duration": 48,
    "start_time": "2023-06-07T07:38:59.863Z"
   },
   {
    "duration": 134,
    "start_time": "2023-06-07T07:38:59.914Z"
   },
   {
    "duration": 126,
    "start_time": "2023-06-07T07:39:00.050Z"
   },
   {
    "duration": 34,
    "start_time": "2023-06-07T07:39:00.178Z"
   },
   {
    "duration": 1690,
    "start_time": "2023-06-07T07:39:00.213Z"
   },
   {
    "duration": 239,
    "start_time": "2023-06-07T07:39:01.906Z"
   },
   {
    "duration": 117,
    "start_time": "2023-06-07T07:39:02.148Z"
   },
   {
    "duration": 207,
    "start_time": "2023-06-07T07:39:02.271Z"
   },
   {
    "duration": 55,
    "start_time": "2023-06-07T07:39:02.482Z"
   },
   {
    "duration": 4,
    "start_time": "2023-06-07T07:39:16.253Z"
   },
   {
    "duration": 52908,
    "start_time": "2023-06-07T07:39:16.804Z"
   },
   {
    "duration": 5,
    "start_time": "2023-06-07T07:40:11.604Z"
   },
   {
    "duration": 1927,
    "start_time": "2023-06-07T07:43:57.115Z"
   },
   {
    "duration": 1151,
    "start_time": "2023-06-07T07:43:59.048Z"
   },
   {
    "duration": 1751,
    "start_time": "2023-06-07T07:44:00.201Z"
   },
   {
    "duration": 258,
    "start_time": "2023-06-07T07:44:01.956Z"
   },
   {
    "duration": 47,
    "start_time": "2023-06-07T07:44:02.216Z"
   },
   {
    "duration": 342,
    "start_time": "2023-06-07T07:44:02.266Z"
   },
   {
    "duration": 37,
    "start_time": "2023-06-07T07:44:02.610Z"
   },
   {
    "duration": 168,
    "start_time": "2023-06-07T07:44:02.649Z"
   },
   {
    "duration": 285,
    "start_time": "2023-06-07T07:44:02.820Z"
   },
   {
    "duration": 14,
    "start_time": "2023-06-07T07:44:03.109Z"
   },
   {
    "duration": 111,
    "start_time": "2023-06-07T07:44:03.125Z"
   },
   {
    "duration": 430,
    "start_time": "2023-06-07T07:44:03.241Z"
   },
   {
    "duration": 37,
    "start_time": "2023-06-07T07:44:03.681Z"
   },
   {
    "duration": 92,
    "start_time": "2023-06-07T07:44:03.720Z"
   },
   {
    "duration": 100,
    "start_time": "2023-06-07T07:44:03.814Z"
   },
   {
    "duration": 32,
    "start_time": "2023-06-07T07:44:03.917Z"
   },
   {
    "duration": 1598,
    "start_time": "2023-06-07T07:44:03.956Z"
   },
   {
    "duration": 193,
    "start_time": "2023-06-07T07:44:05.556Z"
   },
   {
    "duration": 90,
    "start_time": "2023-06-07T07:44:05.752Z"
   },
   {
    "duration": 184,
    "start_time": "2023-06-07T07:44:05.844Z"
   },
   {
    "duration": 85,
    "start_time": "2023-06-07T07:44:06.031Z"
   },
   {
    "duration": 17,
    "start_time": "2023-06-07T07:44:08.652Z"
   },
   {
    "duration": 148,
    "start_time": "2023-06-07T07:58:42.629Z"
   },
   {
    "duration": 1873,
    "start_time": "2023-06-07T07:58:49.010Z"
   },
   {
    "duration": 1216,
    "start_time": "2023-06-07T07:58:50.890Z"
   },
   {
    "duration": 1988,
    "start_time": "2023-06-07T07:58:52.111Z"
   },
   {
    "duration": 260,
    "start_time": "2023-06-07T07:58:54.107Z"
   },
   {
    "duration": 54,
    "start_time": "2023-06-07T07:58:54.379Z"
   },
   {
    "duration": 316,
    "start_time": "2023-06-07T07:58:54.435Z"
   },
   {
    "duration": 46,
    "start_time": "2023-06-07T07:58:54.754Z"
   },
   {
    "duration": 136,
    "start_time": "2023-06-07T07:58:54.802Z"
   },
   {
    "duration": 284,
    "start_time": "2023-06-07T07:58:54.941Z"
   },
   {
    "duration": 13,
    "start_time": "2023-06-07T07:58:55.227Z"
   },
   {
    "duration": 82,
    "start_time": "2023-06-07T07:58:55.243Z"
   },
   {
    "duration": 405,
    "start_time": "2023-06-07T07:58:55.327Z"
   },
   {
    "duration": 67,
    "start_time": "2023-06-07T07:58:55.734Z"
   },
   {
    "duration": 89,
    "start_time": "2023-06-07T07:58:55.806Z"
   },
   {
    "duration": 82,
    "start_time": "2023-06-07T07:58:55.897Z"
   },
   {
    "duration": 33,
    "start_time": "2023-06-07T07:58:55.981Z"
   },
   {
    "duration": 1907,
    "start_time": "2023-06-07T07:58:56.017Z"
   },
   {
    "duration": 273,
    "start_time": "2023-06-07T07:58:57.926Z"
   },
   {
    "duration": 91,
    "start_time": "2023-06-07T07:58:58.208Z"
   },
   {
    "duration": 225,
    "start_time": "2023-06-07T07:58:58.302Z"
   },
   {
    "duration": 68,
    "start_time": "2023-06-07T07:58:58.529Z"
   },
   {
    "duration": 135,
    "start_time": "2023-06-07T07:59:34.507Z"
   },
   {
    "duration": 255,
    "start_time": "2023-06-07T07:59:35.508Z"
   },
   {
    "duration": 108,
    "start_time": "2023-06-07T07:59:40.946Z"
   },
   {
    "duration": 13,
    "start_time": "2023-06-07T07:59:47.182Z"
   },
   {
    "duration": 1554,
    "start_time": "2023-06-07T08:07:55.015Z"
   },
   {
    "duration": 972,
    "start_time": "2023-06-07T08:07:56.571Z"
   },
   {
    "duration": 1796,
    "start_time": "2023-06-07T08:07:57.545Z"
   },
   {
    "duration": 234,
    "start_time": "2023-06-07T08:07:59.344Z"
   },
   {
    "duration": 45,
    "start_time": "2023-06-07T08:07:59.580Z"
   },
   {
    "duration": 256,
    "start_time": "2023-06-07T08:07:59.627Z"
   },
   {
    "duration": 30,
    "start_time": "2023-06-07T08:07:59.885Z"
   },
   {
    "duration": 114,
    "start_time": "2023-06-07T08:07:59.917Z"
   },
   {
    "duration": 245,
    "start_time": "2023-06-07T08:08:00.033Z"
   },
   {
    "duration": 15,
    "start_time": "2023-06-07T08:08:00.284Z"
   },
   {
    "duration": 82,
    "start_time": "2023-06-07T08:08:00.301Z"
   },
   {
    "duration": 337,
    "start_time": "2023-06-07T08:08:00.385Z"
   },
   {
    "duration": 67,
    "start_time": "2023-06-07T08:08:00.724Z"
   },
   {
    "duration": 77,
    "start_time": "2023-06-07T08:08:00.794Z"
   },
   {
    "duration": 109,
    "start_time": "2023-06-07T08:08:00.881Z"
   },
   {
    "duration": 22,
    "start_time": "2023-06-07T08:08:00.998Z"
   },
   {
    "duration": 1607,
    "start_time": "2023-06-07T08:08:01.022Z"
   },
   {
    "duration": 215,
    "start_time": "2023-06-07T08:08:02.630Z"
   },
   {
    "duration": 115,
    "start_time": "2023-06-07T08:08:02.856Z"
   },
   {
    "duration": 154,
    "start_time": "2023-06-07T08:08:02.991Z"
   },
   {
    "duration": 63,
    "start_time": "2023-06-07T08:08:03.147Z"
   },
   {
    "duration": 7,
    "start_time": "2023-06-07T08:08:07.391Z"
   },
   {
    "duration": 1861,
    "start_time": "2023-06-07T08:18:00.474Z"
   },
   {
    "duration": 1077,
    "start_time": "2023-06-07T08:18:02.337Z"
   },
   {
    "duration": 1625,
    "start_time": "2023-06-07T08:18:03.417Z"
   },
   {
    "duration": 247,
    "start_time": "2023-06-07T08:18:05.044Z"
   },
   {
    "duration": 44,
    "start_time": "2023-06-07T08:18:05.294Z"
   },
   {
    "duration": 274,
    "start_time": "2023-06-07T08:18:05.340Z"
   },
   {
    "duration": 26,
    "start_time": "2023-06-07T08:18:05.615Z"
   },
   {
    "duration": 106,
    "start_time": "2023-06-07T08:18:05.643Z"
   },
   {
    "duration": 243,
    "start_time": "2023-06-07T08:18:05.751Z"
   },
   {
    "duration": 14,
    "start_time": "2023-06-07T08:18:05.995Z"
   },
   {
    "duration": 88,
    "start_time": "2023-06-07T08:18:06.011Z"
   },
   {
    "duration": 348,
    "start_time": "2023-06-07T08:18:06.101Z"
   },
   {
    "duration": 60,
    "start_time": "2023-06-07T08:18:06.451Z"
   },
   {
    "duration": 92,
    "start_time": "2023-06-07T08:18:06.514Z"
   },
   {
    "duration": 101,
    "start_time": "2023-06-07T08:18:06.608Z"
   },
   {
    "duration": 30,
    "start_time": "2023-06-07T08:18:06.711Z"
   },
   {
    "duration": 1373,
    "start_time": "2023-06-07T08:18:06.743Z"
   },
   {
    "duration": 211,
    "start_time": "2023-06-07T08:18:08.119Z"
   },
   {
    "duration": 97,
    "start_time": "2023-06-07T08:18:08.332Z"
   },
   {
    "duration": 216,
    "start_time": "2023-06-07T08:18:08.431Z"
   },
   {
    "duration": 61,
    "start_time": "2023-06-07T08:18:08.649Z"
   },
   {
    "duration": 4,
    "start_time": "2023-06-07T08:18:08.711Z"
   },
   {
    "duration": 88216,
    "start_time": "2023-06-07T08:18:08.717Z"
   },
   {
    "duration": 13,
    "start_time": "2023-06-07T08:19:36.935Z"
   },
   {
    "duration": 0,
    "start_time": "2023-06-07T08:19:36.951Z"
   },
   {
    "duration": 11,
    "start_time": "2023-06-07T08:19:43.510Z"
   },
   {
    "duration": 203296,
    "start_time": "2023-06-07T08:19:44.246Z"
   },
   {
    "duration": 6,
    "start_time": "2023-06-07T08:25:47.743Z"
   },
   {
    "duration": 264302,
    "start_time": "2023-06-07T08:25:49.346Z"
   },
   {
    "duration": 1262,
    "start_time": "2023-06-07T20:27:34.911Z"
   },
   {
    "duration": 1150,
    "start_time": "2023-06-07T20:27:36.175Z"
   },
   {
    "duration": 1503,
    "start_time": "2023-06-07T20:27:37.327Z"
   },
   {
    "duration": 157,
    "start_time": "2023-06-07T20:27:38.833Z"
   },
   {
    "duration": 33,
    "start_time": "2023-06-07T20:27:38.992Z"
   },
   {
    "duration": 196,
    "start_time": "2023-06-07T20:27:39.026Z"
   },
   {
    "duration": 23,
    "start_time": "2023-06-07T20:27:39.223Z"
   },
   {
    "duration": 102,
    "start_time": "2023-06-07T20:27:39.248Z"
   },
   {
    "duration": 196,
    "start_time": "2023-06-07T20:27:39.352Z"
   },
   {
    "duration": 8,
    "start_time": "2023-06-07T20:27:39.550Z"
   },
   {
    "duration": 58,
    "start_time": "2023-06-07T20:27:39.560Z"
   },
   {
    "duration": 293,
    "start_time": "2023-06-07T20:27:39.619Z"
   },
   {
    "duration": 29,
    "start_time": "2023-06-07T20:27:39.914Z"
   },
   {
    "duration": 80,
    "start_time": "2023-06-07T20:27:39.944Z"
   },
   {
    "duration": 81,
    "start_time": "2023-06-07T20:27:40.026Z"
   },
   {
    "duration": 16,
    "start_time": "2023-06-07T20:27:40.109Z"
   },
   {
    "duration": 1099,
    "start_time": "2023-06-07T20:27:40.126Z"
   },
   {
    "duration": 202,
    "start_time": "2023-06-07T20:27:41.227Z"
   },
   {
    "duration": 80,
    "start_time": "2023-06-07T20:27:41.430Z"
   },
   {
    "duration": 143,
    "start_time": "2023-06-07T20:27:41.512Z"
   },
   {
    "duration": 48,
    "start_time": "2023-06-07T20:27:41.657Z"
   },
   {
    "duration": 3,
    "start_time": "2023-06-07T20:34:09.856Z"
   },
   {
    "duration": 117900,
    "start_time": "2023-06-07T20:34:12.448Z"
   },
   {
    "duration": 124,
    "start_time": "2023-06-07T20:37:58.394Z"
   },
   {
    "duration": 4,
    "start_time": "2023-06-07T20:38:06.409Z"
   },
   {
    "duration": 8,
    "start_time": "2023-06-07T20:38:51.553Z"
   },
   {
    "duration": 5,
    "start_time": "2023-06-07T20:39:52.941Z"
   },
   {
    "duration": 1307373,
    "start_time": "2023-06-07T20:40:22.397Z"
   },
   {
    "duration": 10,
    "start_time": "2023-06-07T21:02:09.772Z"
   },
   {
    "duration": 249,
    "start_time": "2023-06-07T21:03:36.023Z"
   },
   {
    "duration": 242,
    "start_time": "2023-06-07T21:04:38.734Z"
   },
   {
    "duration": 260,
    "start_time": "2023-06-07T21:04:55.192Z"
   },
   {
    "duration": 10,
    "start_time": "2023-06-07T21:05:27.645Z"
   },
   {
    "duration": 4,
    "start_time": "2023-06-07T21:08:24.212Z"
   },
   {
    "duration": 3,
    "start_time": "2023-06-07T21:16:35.345Z"
   },
   {
    "duration": 24636,
    "start_time": "2023-06-07T21:16:38.047Z"
   },
   {
    "duration": 4,
    "start_time": "2023-06-07T21:18:09.059Z"
   },
   {
    "duration": 49211,
    "start_time": "2023-06-07T21:18:10.067Z"
   },
   {
    "duration": 702,
    "start_time": "2023-06-07T21:21:03.384Z"
   },
   {
    "duration": 9,
    "start_time": "2023-06-07T21:24:28.857Z"
   },
   {
    "duration": 3,
    "start_time": "2023-06-07T21:27:02.601Z"
   },
   {
    "duration": 77590,
    "start_time": "2023-06-07T21:27:03.191Z"
   },
   {
    "duration": 5,
    "start_time": "2023-06-07T21:31:01.917Z"
   },
   {
    "duration": 26952,
    "start_time": "2023-06-07T21:31:02.738Z"
   },
   {
    "duration": 3,
    "start_time": "2023-06-07T21:31:34.436Z"
   },
   {
    "duration": 22137,
    "start_time": "2023-06-07T21:31:35.244Z"
   },
   {
    "duration": 4,
    "start_time": "2023-06-07T21:32:27.195Z"
   },
   {
    "duration": 277769,
    "start_time": "2023-06-07T21:32:27.709Z"
   },
   {
    "duration": 4,
    "start_time": "2023-06-07T21:37:14.517Z"
   },
   {
    "duration": 349315,
    "start_time": "2023-06-07T21:37:15.170Z"
   },
   {
    "duration": 637,
    "start_time": "2023-06-07T22:01:05.417Z"
   },
   {
    "duration": 3,
    "start_time": "2023-06-07T22:01:13.261Z"
   },
   {
    "duration": 352936,
    "start_time": "2023-06-07T22:01:20.319Z"
   },
   {
    "duration": 4,
    "start_time": "2023-06-07T22:07:39.799Z"
   },
   {
    "duration": 3,
    "start_time": "2023-06-07T22:07:58.280Z"
   },
   {
    "duration": 25,
    "start_time": "2023-06-07T22:08:48.980Z"
   },
   {
    "duration": 353623,
    "start_time": "2023-06-07T22:08:53.915Z"
   },
   {
    "duration": 5220,
    "start_time": "2023-06-07T22:26:37.759Z"
   },
   {
    "duration": 60,
    "start_time": "2023-06-07T22:27:11.248Z"
   },
   {
    "duration": 35,
    "start_time": "2023-06-07T22:27:47.211Z"
   },
   {
    "duration": 2760,
    "start_time": "2023-06-07T22:27:51.319Z"
   },
   {
    "duration": 877,
    "start_time": "2023-06-07T22:28:23.512Z"
   },
   {
    "duration": 250,
    "start_time": "2023-06-07T22:35:10.707Z"
   },
   {
    "duration": 717,
    "start_time": "2023-06-07T22:35:11.269Z"
   },
   {
    "duration": 3,
    "start_time": "2023-06-07T22:54:29.685Z"
   },
   {
    "duration": 776,
    "start_time": "2023-06-07T22:54:31.672Z"
   },
   {
    "duration": 1218,
    "start_time": "2023-06-07T22:54:34.206Z"
   },
   {
    "duration": 151,
    "start_time": "2023-06-07T22:54:36.490Z"
   },
   {
    "duration": 23,
    "start_time": "2023-06-07T22:54:45.220Z"
   },
   {
    "duration": 181,
    "start_time": "2023-06-07T22:54:47.954Z"
   },
   {
    "duration": 24,
    "start_time": "2023-06-07T22:54:57.674Z"
   },
   {
    "duration": 87,
    "start_time": "2023-06-07T22:54:59.992Z"
   },
   {
    "duration": 184,
    "start_time": "2023-06-07T22:55:07.392Z"
   },
   {
    "duration": 10,
    "start_time": "2023-06-07T22:55:09.169Z"
   },
   {
    "duration": 46,
    "start_time": "2023-06-07T22:55:24.049Z"
   },
   {
    "duration": 289,
    "start_time": "2023-06-07T22:55:25.680Z"
   },
   {
    "duration": 34,
    "start_time": "2023-06-07T22:55:33.899Z"
   },
   {
    "duration": 86,
    "start_time": "2023-06-07T22:55:35.208Z"
   },
   {
    "duration": 81,
    "start_time": "2023-06-07T22:55:39.905Z"
   },
   {
    "duration": 1032,
    "start_time": "2023-06-07T22:55:55.065Z"
   },
   {
    "duration": 999,
    "start_time": "2023-06-07T23:02:11.940Z"
   },
   {
    "duration": 82,
    "start_time": "2023-06-07T23:03:33.036Z"
   },
   {
    "duration": 956,
    "start_time": "2023-06-07T23:05:27.668Z"
   },
   {
    "duration": 80,
    "start_time": "2023-06-07T23:05:34.018Z"
   },
   {
    "duration": 170,
    "start_time": "2023-06-07T23:09:43.661Z"
   },
   {
    "duration": 4,
    "start_time": "2023-06-07T23:10:22.433Z"
   },
   {
    "duration": 762,
    "start_time": "2023-06-07T23:10:22.439Z"
   },
   {
    "duration": 1044,
    "start_time": "2023-06-07T23:10:23.203Z"
   },
   {
    "duration": 150,
    "start_time": "2023-06-07T23:10:24.249Z"
   },
   {
    "duration": 413,
    "start_time": "2023-06-07T23:10:28.348Z"
   },
   {
    "duration": 853,
    "start_time": "2023-06-07T23:11:57.821Z"
   },
   {
    "duration": 23,
    "start_time": "2023-06-07T23:16:05.695Z"
   },
   {
    "duration": 60,
    "start_time": "2023-06-07T23:17:58.233Z"
   },
   {
    "duration": 71,
    "start_time": "2023-06-07T23:18:05.045Z"
   },
   {
    "duration": 58,
    "start_time": "2023-06-07T23:18:14.520Z"
   },
   {
    "duration": 52,
    "start_time": "2023-06-07T23:18:29.368Z"
   },
   {
    "duration": 1351,
    "start_time": "2023-06-07T23:20:35.472Z"
   },
   {
    "duration": 127,
    "start_time": "2023-06-07T23:21:00.537Z"
   },
   {
    "duration": 3,
    "start_time": "2023-06-07T23:21:05.259Z"
   },
   {
    "duration": 792,
    "start_time": "2023-06-07T23:21:05.264Z"
   },
   {
    "duration": 1052,
    "start_time": "2023-06-07T23:21:06.058Z"
   },
   {
    "duration": 146,
    "start_time": "2023-06-07T23:21:07.112Z"
   },
   {
    "duration": 27,
    "start_time": "2023-06-07T23:21:07.260Z"
   },
   {
    "duration": 413,
    "start_time": "2023-06-07T23:21:07.288Z"
   },
   {
    "duration": 864,
    "start_time": "2023-06-07T23:21:07.703Z"
   },
   {
    "duration": 34,
    "start_time": "2023-06-07T23:21:08.569Z"
   },
   {
    "duration": 198,
    "start_time": "2023-06-07T23:21:08.605Z"
   },
   {
    "duration": 25,
    "start_time": "2023-06-07T23:21:08.805Z"
   },
   {
    "duration": 95,
    "start_time": "2023-06-07T23:21:08.833Z"
   },
   {
    "duration": 194,
    "start_time": "2023-06-07T23:21:08.930Z"
   },
   {
    "duration": 10,
    "start_time": "2023-06-07T23:21:09.126Z"
   },
   {
    "duration": 63,
    "start_time": "2023-06-07T23:21:09.138Z"
   },
   {
    "duration": 300,
    "start_time": "2023-06-07T23:21:09.202Z"
   },
   {
    "duration": 35,
    "start_time": "2023-06-07T23:21:09.504Z"
   },
   {
    "duration": 92,
    "start_time": "2023-06-07T23:21:09.541Z"
   },
   {
    "duration": 82,
    "start_time": "2023-06-07T23:21:09.634Z"
   },
   {
    "duration": 59,
    "start_time": "2023-06-07T23:21:09.718Z"
   },
   {
    "duration": 128,
    "start_time": "2023-06-07T23:21:14.250Z"
   },
   {
    "duration": 4,
    "start_time": "2023-06-07T23:21:25.377Z"
   },
   {
    "duration": 756,
    "start_time": "2023-06-07T23:21:28.544Z"
   },
   {
    "duration": 1179,
    "start_time": "2023-06-07T23:21:31.378Z"
   },
   {
    "duration": 142,
    "start_time": "2023-06-07T23:21:35.440Z"
   },
   {
    "duration": 23,
    "start_time": "2023-06-07T23:21:36.488Z"
   },
   {
    "duration": 371,
    "start_time": "2023-06-07T23:21:40.488Z"
   },
   {
    "duration": 788,
    "start_time": "2023-06-07T23:21:42.016Z"
   },
   {
    "duration": 33,
    "start_time": "2023-06-07T23:21:43.808Z"
   },
   {
    "duration": 162,
    "start_time": "2023-06-07T23:21:47.098Z"
   },
   {
    "duration": 23,
    "start_time": "2023-06-07T23:21:49.394Z"
   },
   {
    "duration": 83,
    "start_time": "2023-06-07T23:21:51.272Z"
   },
   {
    "duration": 173,
    "start_time": "2023-06-07T23:21:53.304Z"
   },
   {
    "duration": 8,
    "start_time": "2023-06-07T23:21:55.256Z"
   },
   {
    "duration": 40,
    "start_time": "2023-06-07T23:21:57.408Z"
   },
   {
    "duration": 263,
    "start_time": "2023-06-07T23:21:59.992Z"
   },
   {
    "duration": 34,
    "start_time": "2023-06-07T23:22:02.520Z"
   },
   {
    "duration": 80,
    "start_time": "2023-06-07T23:22:04.431Z"
   },
   {
    "duration": 74,
    "start_time": "2023-06-07T23:22:07.320Z"
   },
   {
    "duration": 126,
    "start_time": "2023-06-07T23:22:13.763Z"
   },
   {
    "duration": 1934,
    "start_time": "2023-06-07T23:23:01.187Z"
   },
   {
    "duration": 3,
    "start_time": "2023-06-07T23:23:15.868Z"
   },
   {
    "duration": 819,
    "start_time": "2023-06-07T23:23:15.873Z"
   },
   {
    "duration": 1219,
    "start_time": "2023-06-07T23:23:16.694Z"
   },
   {
    "duration": 159,
    "start_time": "2023-06-07T23:23:17.915Z"
   },
   {
    "duration": 24,
    "start_time": "2023-06-07T23:23:18.077Z"
   },
   {
    "duration": 417,
    "start_time": "2023-06-07T23:23:18.103Z"
   },
   {
    "duration": 835,
    "start_time": "2023-06-07T23:23:18.522Z"
   },
   {
    "duration": 39,
    "start_time": "2023-06-07T23:23:19.358Z"
   },
   {
    "duration": 179,
    "start_time": "2023-06-07T23:23:19.398Z"
   },
   {
    "duration": 24,
    "start_time": "2023-06-07T23:23:19.578Z"
   },
   {
    "duration": 105,
    "start_time": "2023-06-07T23:23:19.606Z"
   },
   {
    "duration": 195,
    "start_time": "2023-06-07T23:23:19.713Z"
   },
   {
    "duration": 8,
    "start_time": "2023-06-07T23:23:19.910Z"
   },
   {
    "duration": 46,
    "start_time": "2023-06-07T23:23:19.920Z"
   },
   {
    "duration": 290,
    "start_time": "2023-06-07T23:23:19.977Z"
   },
   {
    "duration": 40,
    "start_time": "2023-06-07T23:23:20.268Z"
   },
   {
    "duration": 88,
    "start_time": "2023-06-07T23:23:20.310Z"
   },
   {
    "duration": 87,
    "start_time": "2023-06-07T23:23:20.399Z"
   },
   {
    "duration": 1344,
    "start_time": "2023-06-07T23:23:28.588Z"
   },
   {
    "duration": 2442,
    "start_time": "2023-06-07T23:23:37.362Z"
   },
   {
    "duration": 3,
    "start_time": "2023-06-07T23:23:54.997Z"
   },
   {
    "duration": 787,
    "start_time": "2023-06-07T23:23:55.002Z"
   },
   {
    "duration": 1145,
    "start_time": "2023-06-07T23:23:55.791Z"
   },
   {
    "duration": 157,
    "start_time": "2023-06-07T23:23:56.938Z"
   },
   {
    "duration": 23,
    "start_time": "2023-06-07T23:23:57.097Z"
   },
   {
    "duration": 413,
    "start_time": "2023-06-07T23:23:57.121Z"
   },
   {
    "duration": 909,
    "start_time": "2023-06-07T23:23:57.536Z"
   },
   {
    "duration": 49,
    "start_time": "2023-06-07T23:23:58.447Z"
   },
   {
    "duration": 174,
    "start_time": "2023-06-07T23:23:58.498Z"
   },
   {
    "duration": 25,
    "start_time": "2023-06-07T23:23:58.688Z"
   },
   {
    "duration": 98,
    "start_time": "2023-06-07T23:23:58.715Z"
   },
   {
    "duration": 181,
    "start_time": "2023-06-07T23:23:58.815Z"
   },
   {
    "duration": 7,
    "start_time": "2023-06-07T23:23:58.998Z"
   },
   {
    "duration": 42,
    "start_time": "2023-06-07T23:23:59.007Z"
   },
   {
    "duration": 298,
    "start_time": "2023-06-07T23:23:59.051Z"
   },
   {
    "duration": 40,
    "start_time": "2023-06-07T23:23:59.350Z"
   },
   {
    "duration": 96,
    "start_time": "2023-06-07T23:23:59.392Z"
   },
   {
    "duration": 78,
    "start_time": "2023-06-07T23:23:59.490Z"
   },
   {
    "duration": 2084,
    "start_time": "2023-06-07T23:24:02.667Z"
   },
   {
    "duration": 1418,
    "start_time": "2023-06-07T23:24:19.131Z"
   },
   {
    "duration": 1250,
    "start_time": "2023-06-07T23:24:34.011Z"
   },
   {
    "duration": 3,
    "start_time": "2023-06-07T23:24:47.828Z"
   },
   {
    "duration": 856,
    "start_time": "2023-06-07T23:24:47.833Z"
   },
   {
    "duration": 1127,
    "start_time": "2023-06-07T23:24:48.691Z"
   },
   {
    "duration": 170,
    "start_time": "2023-06-07T23:24:49.819Z"
   },
   {
    "duration": 26,
    "start_time": "2023-06-07T23:24:49.992Z"
   },
   {
    "duration": 478,
    "start_time": "2023-06-07T23:24:50.020Z"
   },
   {
    "duration": 932,
    "start_time": "2023-06-07T23:24:50.500Z"
   },
   {
    "duration": 33,
    "start_time": "2023-06-07T23:24:51.434Z"
   },
   {
    "duration": 187,
    "start_time": "2023-06-07T23:24:51.484Z"
   },
   {
    "duration": 27,
    "start_time": "2023-06-07T23:24:51.673Z"
   },
   {
    "duration": 98,
    "start_time": "2023-06-07T23:24:51.713Z"
   },
   {
    "duration": 339,
    "start_time": "2023-06-07T23:24:51.813Z"
   },
   {
    "duration": 9,
    "start_time": "2023-06-07T23:24:52.154Z"
   },
   {
    "duration": 42,
    "start_time": "2023-06-07T23:24:52.176Z"
   },
   {
    "duration": 304,
    "start_time": "2023-06-07T23:24:52.220Z"
   },
   {
    "duration": 34,
    "start_time": "2023-06-07T23:24:52.525Z"
   },
   {
    "duration": 100,
    "start_time": "2023-06-07T23:24:52.561Z"
   },
   {
    "duration": 84,
    "start_time": "2023-06-07T23:24:52.663Z"
   },
   {
    "duration": 1207,
    "start_time": "2023-06-07T23:24:55.265Z"
   },
   {
    "duration": 4,
    "start_time": "2023-06-07T23:25:13.652Z"
   },
   {
    "duration": 741,
    "start_time": "2023-06-07T23:25:13.658Z"
   },
   {
    "duration": 1119,
    "start_time": "2023-06-07T23:25:14.401Z"
   },
   {
    "duration": 168,
    "start_time": "2023-06-07T23:25:15.522Z"
   },
   {
    "duration": 23,
    "start_time": "2023-06-07T23:25:15.691Z"
   },
   {
    "duration": 412,
    "start_time": "2023-06-07T23:25:15.716Z"
   },
   {
    "duration": 926,
    "start_time": "2023-06-07T23:25:16.130Z"
   },
   {
    "duration": 53,
    "start_time": "2023-06-07T23:25:17.058Z"
   },
   {
    "duration": 309,
    "start_time": "2023-06-07T23:25:17.113Z"
   },
   {
    "duration": 22,
    "start_time": "2023-06-07T23:25:17.424Z"
   },
   {
    "duration": 102,
    "start_time": "2023-06-07T23:25:17.448Z"
   },
   {
    "duration": 231,
    "start_time": "2023-06-07T23:25:17.552Z"
   },
   {
    "duration": 12,
    "start_time": "2023-06-07T23:25:17.785Z"
   },
   {
    "duration": 48,
    "start_time": "2023-06-07T23:25:17.800Z"
   },
   {
    "duration": 313,
    "start_time": "2023-06-07T23:25:17.850Z"
   },
   {
    "duration": 47,
    "start_time": "2023-06-07T23:25:18.164Z"
   },
   {
    "duration": 97,
    "start_time": "2023-06-07T23:25:18.213Z"
   },
   {
    "duration": 93,
    "start_time": "2023-06-07T23:25:18.312Z"
   },
   {
    "duration": 1128,
    "start_time": "2023-06-07T23:25:22.515Z"
   },
   {
    "duration": 54,
    "start_time": "2023-06-07T23:27:18.131Z"
   },
   {
    "duration": 4,
    "start_time": "2023-06-07T23:27:25.917Z"
   },
   {
    "duration": 769,
    "start_time": "2023-06-07T23:27:25.923Z"
   },
   {
    "duration": 1172,
    "start_time": "2023-06-07T23:27:26.694Z"
   },
   {
    "duration": 150,
    "start_time": "2023-06-07T23:27:27.867Z"
   },
   {
    "duration": 23,
    "start_time": "2023-06-07T23:27:28.019Z"
   },
   {
    "duration": 403,
    "start_time": "2023-06-07T23:27:28.043Z"
   },
   {
    "duration": 816,
    "start_time": "2023-06-07T23:27:28.448Z"
   },
   {
    "duration": 33,
    "start_time": "2023-06-07T23:27:29.266Z"
   },
   {
    "duration": 180,
    "start_time": "2023-06-07T23:27:29.300Z"
   },
   {
    "duration": 22,
    "start_time": "2023-06-07T23:27:29.481Z"
   },
   {
    "duration": 105,
    "start_time": "2023-06-07T23:27:29.506Z"
   },
   {
    "duration": 187,
    "start_time": "2023-06-07T23:27:29.614Z"
   },
   {
    "duration": 8,
    "start_time": "2023-06-07T23:27:29.802Z"
   },
   {
    "duration": 45,
    "start_time": "2023-06-07T23:27:29.811Z"
   },
   {
    "duration": 285,
    "start_time": "2023-06-07T23:27:29.858Z"
   },
   {
    "duration": 46,
    "start_time": "2023-06-07T23:27:30.145Z"
   },
   {
    "duration": 84,
    "start_time": "2023-06-07T23:27:30.193Z"
   },
   {
    "duration": 80,
    "start_time": "2023-06-07T23:27:30.278Z"
   },
   {
    "duration": 44,
    "start_time": "2023-06-07T23:27:33.257Z"
   },
   {
    "duration": 33,
    "start_time": "2023-06-07T23:27:53.243Z"
   },
   {
    "duration": 44,
    "start_time": "2023-06-07T23:27:59.236Z"
   },
   {
    "duration": 892,
    "start_time": "2023-06-07T23:28:57.085Z"
   },
   {
    "duration": 1159,
    "start_time": "2023-06-07T23:29:21.181Z"
   },
   {
    "duration": 896,
    "start_time": "2023-06-07T23:35:03.524Z"
   },
   {
    "duration": 4,
    "start_time": "2023-06-07T23:35:17.808Z"
   },
   {
    "duration": 802,
    "start_time": "2023-06-07T23:35:17.814Z"
   },
   {
    "duration": 1278,
    "start_time": "2023-06-07T23:35:18.618Z"
   },
   {
    "duration": 150,
    "start_time": "2023-06-07T23:35:19.897Z"
   },
   {
    "duration": 34,
    "start_time": "2023-06-07T23:35:20.049Z"
   },
   {
    "duration": 440,
    "start_time": "2023-06-07T23:35:20.085Z"
   },
   {
    "duration": 872,
    "start_time": "2023-06-07T23:35:20.527Z"
   },
   {
    "duration": 35,
    "start_time": "2023-06-07T23:35:21.401Z"
   },
   {
    "duration": 207,
    "start_time": "2023-06-07T23:35:21.438Z"
   },
   {
    "duration": 41,
    "start_time": "2023-06-07T23:35:21.647Z"
   },
   {
    "duration": 99,
    "start_time": "2023-06-07T23:35:21.691Z"
   },
   {
    "duration": 180,
    "start_time": "2023-06-07T23:35:21.792Z"
   },
   {
    "duration": 8,
    "start_time": "2023-06-07T23:35:21.988Z"
   },
   {
    "duration": 59,
    "start_time": "2023-06-07T23:35:21.998Z"
   },
   {
    "duration": 288,
    "start_time": "2023-06-07T23:35:22.059Z"
   },
   {
    "duration": 49,
    "start_time": "2023-06-07T23:35:22.348Z"
   },
   {
    "duration": 82,
    "start_time": "2023-06-07T23:35:22.399Z"
   },
   {
    "duration": 87,
    "start_time": "2023-06-07T23:35:22.482Z"
   },
   {
    "duration": 910,
    "start_time": "2023-06-07T23:35:26.336Z"
   },
   {
    "duration": 83,
    "start_time": "2023-06-07T23:35:45.789Z"
   },
   {
    "duration": 836,
    "start_time": "2023-06-07T23:35:56.726Z"
   },
   {
    "duration": 18,
    "start_time": "2023-06-07T23:36:29.029Z"
   },
   {
    "duration": 3,
    "start_time": "2023-06-07T23:42:28.139Z"
   },
   {
    "duration": 746,
    "start_time": "2023-06-07T23:42:28.145Z"
   },
   {
    "duration": 1036,
    "start_time": "2023-06-07T23:42:28.893Z"
   },
   {
    "duration": 153,
    "start_time": "2023-06-07T23:42:29.930Z"
   },
   {
    "duration": 23,
    "start_time": "2023-06-07T23:42:30.085Z"
   },
   {
    "duration": 407,
    "start_time": "2023-06-07T23:42:30.110Z"
   },
   {
    "duration": 862,
    "start_time": "2023-06-07T23:42:30.518Z"
   },
   {
    "duration": 34,
    "start_time": "2023-06-07T23:42:31.382Z"
   },
   {
    "duration": 388,
    "start_time": "2023-06-07T23:42:31.418Z"
   },
   {
    "duration": 23,
    "start_time": "2023-06-07T23:42:31.808Z"
   },
   {
    "duration": 96,
    "start_time": "2023-06-07T23:42:31.833Z"
   },
   {
    "duration": 182,
    "start_time": "2023-06-07T23:42:31.931Z"
   },
   {
    "duration": 7,
    "start_time": "2023-06-07T23:42:32.115Z"
   },
   {
    "duration": 43,
    "start_time": "2023-06-07T23:42:32.123Z"
   },
   {
    "duration": 283,
    "start_time": "2023-06-07T23:42:32.167Z"
   },
   {
    "duration": 38,
    "start_time": "2023-06-07T23:42:32.451Z"
   },
   {
    "duration": 88,
    "start_time": "2023-06-07T23:42:32.491Z"
   },
   {
    "duration": 76,
    "start_time": "2023-06-07T23:42:32.581Z"
   },
   {
    "duration": 1090,
    "start_time": "2023-06-07T23:42:45.065Z"
   },
   {
    "duration": 4,
    "start_time": "2023-06-07T23:47:12.484Z"
   },
   {
    "duration": 722,
    "start_time": "2023-06-07T23:47:12.490Z"
   },
   {
    "duration": 1085,
    "start_time": "2023-06-07T23:47:13.214Z"
   },
   {
    "duration": 153,
    "start_time": "2023-06-07T23:47:14.301Z"
   },
   {
    "duration": 28,
    "start_time": "2023-06-07T23:47:14.456Z"
   },
   {
    "duration": 407,
    "start_time": "2023-06-07T23:47:14.486Z"
   },
   {
    "duration": 856,
    "start_time": "2023-06-07T23:47:14.895Z"
   },
   {
    "duration": 37,
    "start_time": "2023-06-07T23:47:15.752Z"
   },
   {
    "duration": 327,
    "start_time": "2023-06-07T23:47:15.791Z"
   },
   {
    "duration": 23,
    "start_time": "2023-06-07T23:47:16.120Z"
   },
   {
    "duration": 100,
    "start_time": "2023-06-07T23:47:16.145Z"
   },
   {
    "duration": 233,
    "start_time": "2023-06-07T23:47:16.247Z"
   },
   {
    "duration": 8,
    "start_time": "2023-06-07T23:47:16.482Z"
   },
   {
    "duration": 41,
    "start_time": "2023-06-07T23:47:16.492Z"
   },
   {
    "duration": 308,
    "start_time": "2023-06-07T23:47:16.535Z"
   },
   {
    "duration": 42,
    "start_time": "2023-06-07T23:47:16.845Z"
   },
   {
    "duration": 90,
    "start_time": "2023-06-07T23:47:16.889Z"
   },
   {
    "duration": 79,
    "start_time": "2023-06-07T23:47:16.981Z"
   },
   {
    "duration": 872,
    "start_time": "2023-06-07T23:47:19.321Z"
   },
   {
    "duration": 3,
    "start_time": "2023-06-07T23:47:56.962Z"
   },
   {
    "duration": 708,
    "start_time": "2023-06-07T23:47:56.969Z"
   },
   {
    "duration": 1061,
    "start_time": "2023-06-07T23:47:57.679Z"
   },
   {
    "duration": 147,
    "start_time": "2023-06-07T23:47:58.742Z"
   },
   {
    "duration": 23,
    "start_time": "2023-06-07T23:47:58.892Z"
   },
   {
    "duration": 388,
    "start_time": "2023-06-07T23:47:58.917Z"
   },
   {
    "duration": 838,
    "start_time": "2023-06-07T23:47:59.306Z"
   },
   {
    "duration": 45,
    "start_time": "2023-06-07T23:48:00.145Z"
   },
   {
    "duration": 185,
    "start_time": "2023-06-07T23:48:00.191Z"
   },
   {
    "duration": 23,
    "start_time": "2023-06-07T23:48:00.378Z"
   },
   {
    "duration": 91,
    "start_time": "2023-06-07T23:48:00.404Z"
   },
   {
    "duration": 339,
    "start_time": "2023-06-07T23:48:00.497Z"
   },
   {
    "duration": 8,
    "start_time": "2023-06-07T23:48:00.837Z"
   },
   {
    "duration": 62,
    "start_time": "2023-06-07T23:48:00.847Z"
   },
   {
    "duration": 287,
    "start_time": "2023-06-07T23:48:00.910Z"
   },
   {
    "duration": 34,
    "start_time": "2023-06-07T23:48:01.198Z"
   },
   {
    "duration": 116,
    "start_time": "2023-06-07T23:48:01.234Z"
   },
   {
    "duration": 200,
    "start_time": "2023-06-07T23:48:01.351Z"
   },
   {
    "duration": 1056,
    "start_time": "2023-06-07T23:48:04.162Z"
   },
   {
    "duration": 4,
    "start_time": "2023-06-07T23:52:56.218Z"
   },
   {
    "duration": 728,
    "start_time": "2023-06-07T23:52:56.224Z"
   },
   {
    "duration": 1084,
    "start_time": "2023-06-07T23:52:56.954Z"
   },
   {
    "duration": 158,
    "start_time": "2023-06-07T23:52:58.040Z"
   },
   {
    "duration": 22,
    "start_time": "2023-06-07T23:52:58.200Z"
   },
   {
    "duration": 392,
    "start_time": "2023-06-07T23:52:58.224Z"
   },
   {
    "duration": 840,
    "start_time": "2023-06-07T23:52:58.617Z"
   },
   {
    "duration": 41,
    "start_time": "2023-06-07T23:52:59.459Z"
   },
   {
    "duration": 166,
    "start_time": "2023-06-07T23:52:59.501Z"
   },
   {
    "duration": 27,
    "start_time": "2023-06-07T23:52:59.669Z"
   },
   {
    "duration": 103,
    "start_time": "2023-06-07T23:52:59.698Z"
   },
   {
    "duration": 180,
    "start_time": "2023-06-07T23:52:59.802Z"
   },
   {
    "duration": 8,
    "start_time": "2023-06-07T23:52:59.983Z"
   },
   {
    "duration": 41,
    "start_time": "2023-06-07T23:52:59.992Z"
   },
   {
    "duration": 453,
    "start_time": "2023-06-07T23:53:00.035Z"
   },
   {
    "duration": 33,
    "start_time": "2023-06-07T23:53:00.490Z"
   },
   {
    "duration": 88,
    "start_time": "2023-06-07T23:53:00.525Z"
   },
   {
    "duration": 90,
    "start_time": "2023-06-07T23:53:00.614Z"
   },
   {
    "duration": 808,
    "start_time": "2023-06-07T23:53:03.092Z"
   },
   {
    "duration": 52,
    "start_time": "2023-06-07T23:54:35.518Z"
   },
   {
    "duration": 35,
    "start_time": "2023-06-07T23:54:40.220Z"
   },
   {
    "duration": 29,
    "start_time": "2023-06-07T23:55:45.935Z"
   },
   {
    "duration": 41,
    "start_time": "2023-06-07T23:55:53.144Z"
   },
   {
    "duration": 3,
    "start_time": "2023-06-07T23:58:49.910Z"
   },
   {
    "duration": 749,
    "start_time": "2023-06-07T23:58:49.914Z"
   },
   {
    "duration": 1031,
    "start_time": "2023-06-07T23:58:50.665Z"
   },
   {
    "duration": 155,
    "start_time": "2023-06-07T23:58:51.698Z"
   },
   {
    "duration": 31,
    "start_time": "2023-06-07T23:58:51.855Z"
   },
   {
    "duration": 394,
    "start_time": "2023-06-07T23:58:51.888Z"
   },
   {
    "duration": 833,
    "start_time": "2023-06-07T23:58:52.284Z"
   },
   {
    "duration": 37,
    "start_time": "2023-06-07T23:58:53.119Z"
   },
   {
    "duration": 182,
    "start_time": "2023-06-07T23:58:53.158Z"
   },
   {
    "duration": 23,
    "start_time": "2023-06-07T23:58:53.341Z"
   },
   {
    "duration": 84,
    "start_time": "2023-06-07T23:58:53.376Z"
   },
   {
    "duration": 190,
    "start_time": "2023-06-07T23:58:53.462Z"
   },
   {
    "duration": 7,
    "start_time": "2023-06-07T23:58:53.654Z"
   },
   {
    "duration": 47,
    "start_time": "2023-06-07T23:58:53.663Z"
   },
   {
    "duration": 280,
    "start_time": "2023-06-07T23:58:53.712Z"
   },
   {
    "duration": 34,
    "start_time": "2023-06-07T23:58:53.994Z"
   },
   {
    "duration": 94,
    "start_time": "2023-06-07T23:58:54.029Z"
   },
   {
    "duration": 86,
    "start_time": "2023-06-07T23:58:54.124Z"
   },
   {
    "duration": 997,
    "start_time": "2023-06-07T23:58:54.211Z"
   },
   {
    "duration": 84,
    "start_time": "2023-06-07T23:58:55.210Z"
   },
   {
    "duration": 214,
    "start_time": "2023-06-07T23:58:55.296Z"
   },
   {
    "duration": 76,
    "start_time": "2023-06-07T23:58:55.511Z"
   },
   {
    "duration": 169,
    "start_time": "2023-06-07T23:58:55.589Z"
   },
   {
    "duration": 3,
    "start_time": "2023-06-07T23:59:31.521Z"
   },
   {
    "duration": 774,
    "start_time": "2023-06-07T23:59:31.526Z"
   },
   {
    "duration": 1032,
    "start_time": "2023-06-07T23:59:32.302Z"
   },
   {
    "duration": 153,
    "start_time": "2023-06-07T23:59:33.336Z"
   },
   {
    "duration": 23,
    "start_time": "2023-06-07T23:59:33.492Z"
   },
   {
    "duration": 413,
    "start_time": "2023-06-07T23:59:33.517Z"
   },
   {
    "duration": 813,
    "start_time": "2023-06-07T23:59:33.931Z"
   },
   {
    "duration": 47,
    "start_time": "2023-06-07T23:59:34.746Z"
   },
   {
    "duration": 187,
    "start_time": "2023-06-07T23:59:34.795Z"
   },
   {
    "duration": 23,
    "start_time": "2023-06-07T23:59:34.984Z"
   },
   {
    "duration": 100,
    "start_time": "2023-06-07T23:59:35.010Z"
   },
   {
    "duration": 188,
    "start_time": "2023-06-07T23:59:35.111Z"
   },
   {
    "duration": 8,
    "start_time": "2023-06-07T23:59:35.301Z"
   },
   {
    "duration": 62,
    "start_time": "2023-06-07T23:59:35.310Z"
   },
   {
    "duration": 288,
    "start_time": "2023-06-07T23:59:35.374Z"
   },
   {
    "duration": 45,
    "start_time": "2023-06-07T23:59:35.664Z"
   },
   {
    "duration": 91,
    "start_time": "2023-06-07T23:59:35.711Z"
   },
   {
    "duration": 91,
    "start_time": "2023-06-07T23:59:35.804Z"
   },
   {
    "duration": 1113,
    "start_time": "2023-06-07T23:59:35.897Z"
   },
   {
    "duration": 89,
    "start_time": "2023-06-07T23:59:37.012Z"
   },
   {
    "duration": 225,
    "start_time": "2023-06-07T23:59:37.104Z"
   },
   {
    "duration": 4,
    "start_time": "2023-06-08T00:10:31.090Z"
   },
   {
    "duration": 828,
    "start_time": "2023-06-08T00:10:31.095Z"
   },
   {
    "duration": 1237,
    "start_time": "2023-06-08T00:10:31.925Z"
   },
   {
    "duration": 155,
    "start_time": "2023-06-08T00:10:33.163Z"
   },
   {
    "duration": 23,
    "start_time": "2023-06-08T00:10:33.320Z"
   },
   {
    "duration": 404,
    "start_time": "2023-06-08T00:10:33.345Z"
   },
   {
    "duration": 828,
    "start_time": "2023-06-08T00:10:33.751Z"
   },
   {
    "duration": 32,
    "start_time": "2023-06-08T00:10:34.581Z"
   },
   {
    "duration": 185,
    "start_time": "2023-06-08T00:10:34.615Z"
   },
   {
    "duration": 22,
    "start_time": "2023-06-08T00:10:34.802Z"
   },
   {
    "duration": 98,
    "start_time": "2023-06-08T00:10:34.827Z"
   },
   {
    "duration": 196,
    "start_time": "2023-06-08T00:10:34.926Z"
   },
   {
    "duration": 8,
    "start_time": "2023-06-08T00:10:35.124Z"
   },
   {
    "duration": 53,
    "start_time": "2023-06-08T00:10:35.133Z"
   },
   {
    "duration": 289,
    "start_time": "2023-06-08T00:10:35.187Z"
   },
   {
    "duration": 35,
    "start_time": "2023-06-08T00:10:35.478Z"
   },
   {
    "duration": 95,
    "start_time": "2023-06-08T00:10:35.515Z"
   },
   {
    "duration": 86,
    "start_time": "2023-06-08T00:10:35.611Z"
   },
   {
    "duration": 813,
    "start_time": "2023-06-08T00:10:48.459Z"
   },
   {
    "duration": 88,
    "start_time": "2023-06-08T00:10:50.745Z"
   },
   {
    "duration": 210,
    "start_time": "2023-06-08T00:10:53.722Z"
   },
   {
    "duration": 3,
    "start_time": "2023-06-08T00:11:25.467Z"
   },
   {
    "duration": 753,
    "start_time": "2023-06-08T00:11:25.472Z"
   },
   {
    "duration": 1255,
    "start_time": "2023-06-08T00:11:26.228Z"
   },
   {
    "duration": 156,
    "start_time": "2023-06-08T00:11:27.485Z"
   },
   {
    "duration": 36,
    "start_time": "2023-06-08T00:11:27.642Z"
   },
   {
    "duration": 416,
    "start_time": "2023-06-08T00:11:27.679Z"
   },
   {
    "duration": 829,
    "start_time": "2023-06-08T00:11:28.097Z"
   },
   {
    "duration": 32,
    "start_time": "2023-06-08T00:11:28.928Z"
   },
   {
    "duration": 185,
    "start_time": "2023-06-08T00:11:28.961Z"
   },
   {
    "duration": 29,
    "start_time": "2023-06-08T00:11:29.148Z"
   },
   {
    "duration": 82,
    "start_time": "2023-06-08T00:11:29.179Z"
   },
   {
    "duration": 202,
    "start_time": "2023-06-08T00:11:29.262Z"
   },
   {
    "duration": 13,
    "start_time": "2023-06-08T00:11:29.465Z"
   },
   {
    "duration": 54,
    "start_time": "2023-06-08T00:11:29.480Z"
   },
   {
    "duration": 267,
    "start_time": "2023-06-08T00:11:29.536Z"
   },
   {
    "duration": 32,
    "start_time": "2023-06-08T00:11:29.805Z"
   },
   {
    "duration": 99,
    "start_time": "2023-06-08T00:11:29.839Z"
   },
   {
    "duration": 96,
    "start_time": "2023-06-08T00:11:29.939Z"
   },
   {
    "duration": 1135,
    "start_time": "2023-06-08T00:11:30.037Z"
   },
   {
    "duration": 81,
    "start_time": "2023-06-08T00:11:31.174Z"
   },
   {
    "duration": 221,
    "start_time": "2023-06-08T00:11:31.256Z"
   },
   {
    "duration": 3,
    "start_time": "2023-06-08T00:17:09.803Z"
   },
   {
    "duration": 707,
    "start_time": "2023-06-08T00:17:09.809Z"
   },
   {
    "duration": 1029,
    "start_time": "2023-06-08T00:17:10.518Z"
   },
   {
    "duration": 160,
    "start_time": "2023-06-08T00:17:11.548Z"
   },
   {
    "duration": 28,
    "start_time": "2023-06-08T00:17:11.711Z"
   },
   {
    "duration": 394,
    "start_time": "2023-06-08T00:17:11.741Z"
   },
   {
    "duration": 928,
    "start_time": "2023-06-08T00:17:12.137Z"
   },
   {
    "duration": 35,
    "start_time": "2023-06-08T00:17:13.067Z"
   },
   {
    "duration": 183,
    "start_time": "2023-06-08T00:17:13.104Z"
   },
   {
    "duration": 23,
    "start_time": "2023-06-08T00:17:13.289Z"
   },
   {
    "duration": 125,
    "start_time": "2023-06-08T00:17:13.315Z"
   },
   {
    "duration": 193,
    "start_time": "2023-06-08T00:17:13.442Z"
   },
   {
    "duration": 9,
    "start_time": "2023-06-08T00:17:13.638Z"
   },
   {
    "duration": 58,
    "start_time": "2023-06-08T00:17:13.649Z"
   },
   {
    "duration": 294,
    "start_time": "2023-06-08T00:17:13.710Z"
   },
   {
    "duration": 36,
    "start_time": "2023-06-08T00:17:14.006Z"
   },
   {
    "duration": 99,
    "start_time": "2023-06-08T00:17:14.044Z"
   },
   {
    "duration": 96,
    "start_time": "2023-06-08T00:17:14.145Z"
   },
   {
    "duration": 1051,
    "start_time": "2023-06-08T00:17:14.243Z"
   },
   {
    "duration": 91,
    "start_time": "2023-06-08T00:17:15.297Z"
   },
   {
    "duration": 218,
    "start_time": "2023-06-08T00:17:15.390Z"
   },
   {
    "duration": 3,
    "start_time": "2023-06-08T00:18:50.135Z"
   },
   {
    "duration": 1489,
    "start_time": "2023-06-08T00:18:58.863Z"
   },
   {
    "duration": 1077,
    "start_time": "2023-06-08T00:19:00.354Z"
   },
   {
    "duration": 1403,
    "start_time": "2023-06-08T00:19:01.433Z"
   },
   {
    "duration": 159,
    "start_time": "2023-06-08T00:19:02.838Z"
   },
   {
    "duration": 24,
    "start_time": "2023-06-08T00:19:02.999Z"
   },
   {
    "duration": 462,
    "start_time": "2023-06-08T00:19:03.024Z"
   },
   {
    "duration": 919,
    "start_time": "2023-06-08T00:19:03.488Z"
   },
   {
    "duration": 34,
    "start_time": "2023-06-08T00:19:04.408Z"
   },
   {
    "duration": 189,
    "start_time": "2023-06-08T00:19:04.444Z"
   },
   {
    "duration": 23,
    "start_time": "2023-06-08T00:19:04.635Z"
   },
   {
    "duration": 91,
    "start_time": "2023-06-08T00:19:04.660Z"
   },
   {
    "duration": 202,
    "start_time": "2023-06-08T00:19:04.753Z"
   },
   {
    "duration": 10,
    "start_time": "2023-06-08T00:19:04.957Z"
   },
   {
    "duration": 50,
    "start_time": "2023-06-08T00:19:04.977Z"
   },
   {
    "duration": 304,
    "start_time": "2023-06-08T00:19:05.029Z"
   },
   {
    "duration": 42,
    "start_time": "2023-06-08T00:19:05.335Z"
   },
   {
    "duration": 98,
    "start_time": "2023-06-08T00:19:05.379Z"
   },
   {
    "duration": 77,
    "start_time": "2023-06-08T00:19:05.479Z"
   },
   {
    "duration": 1174,
    "start_time": "2023-06-08T00:19:05.558Z"
   },
   {
    "duration": 216,
    "start_time": "2023-06-08T00:19:06.734Z"
   },
   {
    "duration": 1189,
    "start_time": "2023-06-08T00:23:41.117Z"
   },
   {
    "duration": 786,
    "start_time": "2023-06-08T00:23:42.308Z"
   },
   {
    "duration": 1282,
    "start_time": "2023-06-08T00:23:43.096Z"
   },
   {
    "duration": 158,
    "start_time": "2023-06-08T00:23:44.380Z"
   },
   {
    "duration": 37,
    "start_time": "2023-06-08T00:23:44.540Z"
   },
   {
    "duration": 451,
    "start_time": "2023-06-08T00:23:44.579Z"
   },
   {
    "duration": 952,
    "start_time": "2023-06-08T00:23:45.032Z"
   },
   {
    "duration": 35,
    "start_time": "2023-06-08T00:23:45.986Z"
   },
   {
    "duration": 186,
    "start_time": "2023-06-08T00:23:46.023Z"
   },
   {
    "duration": 23,
    "start_time": "2023-06-08T00:23:46.213Z"
   },
   {
    "duration": 110,
    "start_time": "2023-06-08T00:23:46.237Z"
   },
   {
    "duration": 193,
    "start_time": "2023-06-08T00:23:46.349Z"
   },
   {
    "duration": 7,
    "start_time": "2023-06-08T00:23:46.544Z"
   },
   {
    "duration": 59,
    "start_time": "2023-06-08T00:23:46.552Z"
   },
   {
    "duration": 287,
    "start_time": "2023-06-08T00:23:46.613Z"
   },
   {
    "duration": 32,
    "start_time": "2023-06-08T00:23:46.902Z"
   },
   {
    "duration": 93,
    "start_time": "2023-06-08T00:23:46.935Z"
   },
   {
    "duration": 89,
    "start_time": "2023-06-08T00:23:47.030Z"
   },
   {
    "duration": 1137,
    "start_time": "2023-06-08T00:23:47.121Z"
   },
   {
    "duration": 221,
    "start_time": "2023-06-08T00:23:48.260Z"
   },
   {
    "duration": 95,
    "start_time": "2023-06-08T00:23:48.482Z"
   },
   {
    "duration": 152,
    "start_time": "2023-06-08T00:23:48.578Z"
   },
   {
    "duration": 34,
    "start_time": "2023-06-08T00:23:48.732Z"
   },
   {
    "duration": 3,
    "start_time": "2023-06-08T00:23:48.777Z"
   },
   {
    "duration": 1389664,
    "start_time": "2023-06-08T00:23:48.781Z"
   },
   {
    "duration": 1032,
    "start_time": "2023-06-08T00:46:58.446Z"
   },
   {
    "duration": 3,
    "start_time": "2023-06-08T00:46:59.479Z"
   },
   {
    "duration": 79192,
    "start_time": "2023-06-08T00:46:59.485Z"
   },
   {
    "duration": 3230,
    "start_time": "2023-06-08T00:48:18.678Z"
   },
   {
    "duration": 693,
    "start_time": "2023-06-08T00:48:21.977Z"
   },
   {
    "duration": 4,
    "start_time": "2023-06-08T00:48:22.672Z"
   },
   {
    "duration": 410902,
    "start_time": "2023-06-08T00:48:22.678Z"
   },
   {
    "duration": 5712,
    "start_time": "2023-06-08T00:55:13.582Z"
   },
   {
    "duration": 284,
    "start_time": "2023-06-08T00:55:19.296Z"
   },
   {
    "duration": 810,
    "start_time": "2023-06-08T00:55:19.583Z"
   },
   {
    "duration": 3360,
    "start_time": "2023-06-08T03:41:21.150Z"
   },
   {
    "duration": 1311,
    "start_time": "2023-06-08T03:41:24.513Z"
   },
   {
    "duration": 2171,
    "start_time": "2023-06-08T03:41:25.827Z"
   },
   {
    "duration": 242,
    "start_time": "2023-06-08T03:41:28.001Z"
   },
   {
    "duration": 38,
    "start_time": "2023-06-08T03:41:28.245Z"
   },
   {
    "duration": 574,
    "start_time": "2023-06-08T03:43:33.860Z"
   },
   {
    "duration": 1214,
    "start_time": "2023-06-08T03:43:34.566Z"
   },
   {
    "duration": 42,
    "start_time": "2023-06-08T03:43:53.421Z"
   },
   {
    "duration": 200,
    "start_time": "2023-06-08T03:44:10.504Z"
   },
   {
    "duration": 34,
    "start_time": "2023-06-08T03:44:12.945Z"
   },
   {
    "duration": 81,
    "start_time": "2023-06-08T03:44:25.109Z"
   },
   {
    "duration": 231,
    "start_time": "2023-06-08T03:44:35.466Z"
   },
   {
    "duration": 64,
    "start_time": "2023-06-08T03:44:45.010Z"
   },
   {
    "duration": 475,
    "start_time": "2023-06-08T03:44:48.182Z"
   },
   {
    "duration": 46,
    "start_time": "2023-06-08T03:45:28.087Z"
   },
   {
    "duration": 93,
    "start_time": "2023-06-08T03:45:34.692Z"
   },
   {
    "duration": 73,
    "start_time": "2023-06-08T03:45:47.851Z"
   },
   {
    "duration": 1330,
    "start_time": "2023-06-08T03:46:11.871Z"
   },
   {
    "duration": 4,
    "start_time": "2023-06-08T03:48:54.647Z"
   },
   {
    "duration": 840,
    "start_time": "2023-06-08T03:48:54.654Z"
   },
   {
    "duration": 1260,
    "start_time": "2023-06-08T03:48:55.496Z"
   },
   {
    "duration": 173,
    "start_time": "2023-06-08T03:48:56.758Z"
   },
   {
    "duration": 28,
    "start_time": "2023-06-08T03:48:56.934Z"
   },
   {
    "duration": 445,
    "start_time": "2023-06-08T03:48:56.965Z"
   },
   {
    "duration": 951,
    "start_time": "2023-06-08T03:48:57.412Z"
   },
   {
    "duration": 42,
    "start_time": "2023-06-08T03:48:58.365Z"
   },
   {
    "duration": 208,
    "start_time": "2023-06-08T03:48:58.409Z"
   },
   {
    "duration": 41,
    "start_time": "2023-06-08T03:48:58.619Z"
   },
   {
    "duration": 164,
    "start_time": "2023-06-08T03:48:58.662Z"
   },
   {
    "duration": 215,
    "start_time": "2023-06-08T03:48:58.829Z"
   },
   {
    "duration": 9,
    "start_time": "2023-06-08T03:48:59.047Z"
   },
   {
    "duration": 44,
    "start_time": "2023-06-08T03:48:59.058Z"
   },
   {
    "duration": 347,
    "start_time": "2023-06-08T03:48:59.104Z"
   },
   {
    "duration": 41,
    "start_time": "2023-06-08T03:48:59.453Z"
   },
   {
    "duration": 88,
    "start_time": "2023-06-08T03:48:59.496Z"
   },
   {
    "duration": 80,
    "start_time": "2023-06-08T03:48:59.585Z"
   },
   {
    "duration": 11,
    "start_time": "2023-06-08T03:49:14.794Z"
   },
   {
    "duration": 1190,
    "start_time": "2023-06-08T03:49:16.479Z"
   },
   {
    "duration": 5,
    "start_time": "2023-06-08T03:49:43.753Z"
   },
   {
    "duration": 52,
    "start_time": "2023-06-08T03:50:32.805Z"
   },
   {
    "duration": 53,
    "start_time": "2023-06-08T03:51:01.263Z"
   },
   {
    "duration": 4,
    "start_time": "2023-06-08T03:51:31.543Z"
   },
   {
    "duration": 979,
    "start_time": "2023-06-08T03:51:31.550Z"
   },
   {
    "duration": 1290,
    "start_time": "2023-06-08T03:51:32.531Z"
   },
   {
    "duration": 171,
    "start_time": "2023-06-08T03:51:33.823Z"
   },
   {
    "duration": 22,
    "start_time": "2023-06-08T03:51:33.997Z"
   },
   {
    "duration": 467,
    "start_time": "2023-06-08T03:51:34.021Z"
   },
   {
    "duration": 935,
    "start_time": "2023-06-08T03:51:34.489Z"
   },
   {
    "duration": 47,
    "start_time": "2023-06-08T03:51:35.426Z"
   },
   {
    "duration": 200,
    "start_time": "2023-06-08T03:51:35.474Z"
   },
   {
    "duration": 24,
    "start_time": "2023-06-08T03:51:35.676Z"
   },
   {
    "duration": 89,
    "start_time": "2023-06-08T03:51:35.703Z"
   },
   {
    "duration": 209,
    "start_time": "2023-06-08T03:51:35.794Z"
   },
   {
    "duration": 9,
    "start_time": "2023-06-08T03:51:36.006Z"
   },
   {
    "duration": 63,
    "start_time": "2023-06-08T03:51:36.016Z"
   },
   {
    "duration": 293,
    "start_time": "2023-06-08T03:51:36.082Z"
   },
   {
    "duration": 36,
    "start_time": "2023-06-08T03:51:36.377Z"
   },
   {
    "duration": 89,
    "start_time": "2023-06-08T03:51:36.415Z"
   },
   {
    "duration": 80,
    "start_time": "2023-06-08T03:51:36.506Z"
   },
   {
    "duration": 17,
    "start_time": "2023-06-08T03:51:58.363Z"
   },
   {
    "duration": 1272,
    "start_time": "2023-06-08T03:51:59.105Z"
   },
   {
    "duration": 4,
    "start_time": "2023-06-08T03:52:01.915Z"
   },
   {
    "duration": 32,
    "start_time": "2023-06-08T03:52:02.996Z"
   },
   {
    "duration": 38,
    "start_time": "2023-06-08T03:52:08.019Z"
   },
   {
    "duration": 73,
    "start_time": "2023-06-08T03:52:24.067Z"
   },
   {
    "duration": 193,
    "start_time": "2023-06-08T03:55:36.628Z"
   },
   {
    "duration": 69,
    "start_time": "2023-06-08T03:55:40.813Z"
   },
   {
    "duration": 166,
    "start_time": "2023-06-08T03:55:44.290Z"
   },
   {
    "duration": 49,
    "start_time": "2023-06-08T03:55:48.817Z"
   },
   {
    "duration": 161,
    "start_time": "2023-06-08T08:04:37.014Z"
   },
   {
    "duration": 65,
    "start_time": "2023-06-08T08:12:16.910Z"
   },
   {
    "duration": 1814,
    "start_time": "2023-06-08T08:12:22.937Z"
   },
   {
    "duration": 15,
    "start_time": "2023-06-08T08:12:36.107Z"
   },
   {
    "duration": 5,
    "start_time": "2023-06-08T08:22:56.745Z"
   },
   {
    "duration": 1469,
    "start_time": "2023-06-08T08:22:56.753Z"
   },
   {
    "duration": 1516,
    "start_time": "2023-06-08T08:22:58.225Z"
   },
   {
    "duration": 206,
    "start_time": "2023-06-08T08:22:59.743Z"
   },
   {
    "duration": 42,
    "start_time": "2023-06-08T08:22:59.952Z"
   },
   {
    "duration": 510,
    "start_time": "2023-06-08T08:22:59.996Z"
   },
   {
    "duration": 926,
    "start_time": "2023-06-08T08:23:00.510Z"
   },
   {
    "duration": 54,
    "start_time": "2023-06-08T08:23:01.438Z"
   },
   {
    "duration": 246,
    "start_time": "2023-06-08T08:23:01.495Z"
   },
   {
    "duration": 26,
    "start_time": "2023-06-08T08:23:01.742Z"
   },
   {
    "duration": 98,
    "start_time": "2023-06-08T08:23:01.771Z"
   },
   {
    "duration": 247,
    "start_time": "2023-06-08T08:23:01.871Z"
   },
   {
    "duration": 8,
    "start_time": "2023-06-08T08:23:02.119Z"
   },
   {
    "duration": 65,
    "start_time": "2023-06-08T08:23:02.129Z"
   },
   {
    "duration": 267,
    "start_time": "2023-06-08T08:23:02.197Z"
   },
   {
    "duration": 31,
    "start_time": "2023-06-08T08:23:02.466Z"
   },
   {
    "duration": 74,
    "start_time": "2023-06-08T08:23:02.498Z"
   },
   {
    "duration": 81,
    "start_time": "2023-06-08T08:23:02.574Z"
   },
   {
    "duration": 1050,
    "start_time": "2023-06-08T08:23:02.656Z"
   },
   {
    "duration": 211,
    "start_time": "2023-06-08T08:23:03.708Z"
   },
   {
    "duration": 82,
    "start_time": "2023-06-08T08:23:03.921Z"
   },
   {
    "duration": 192,
    "start_time": "2023-06-08T08:23:04.016Z"
   },
   {
    "duration": 37,
    "start_time": "2023-06-08T08:23:04.210Z"
   },
   {
    "duration": 27,
    "start_time": "2023-06-08T08:23:04.248Z"
   },
   {
    "duration": 1426528,
    "start_time": "2023-06-08T08:23:04.276Z"
   },
   {
    "duration": 234893,
    "start_time": "2023-06-08T08:46:50.806Z"
   },
   {
    "duration": 947,
    "start_time": "2023-06-08T08:50:45.700Z"
   },
   {
    "duration": 3,
    "start_time": "2023-06-08T08:50:46.649Z"
   },
   {
    "duration": 1025900,
    "start_time": "2023-06-08T08:50:46.655Z"
   },
   {
    "duration": 108,
    "start_time": "2023-06-08T09:07:52.557Z"
   },
   {
    "duration": 117,
    "start_time": "2023-06-08T09:07:52.668Z"
   },
   {
    "duration": 559,
    "start_time": "2023-06-08T09:07:52.787Z"
   },
   {
    "duration": 3,
    "start_time": "2023-06-08T09:07:53.348Z"
   },
   {
    "duration": 1358,
    "start_time": "2023-06-08T09:08:57.486Z"
   },
   {
    "duration": 807,
    "start_time": "2023-06-08T09:08:58.846Z"
   },
   {
    "duration": 1225,
    "start_time": "2023-06-08T09:08:59.654Z"
   },
   {
    "duration": 168,
    "start_time": "2023-06-08T09:09:00.881Z"
   },
   {
    "duration": 23,
    "start_time": "2023-06-08T09:09:01.051Z"
   },
   {
    "duration": 431,
    "start_time": "2023-06-08T09:09:01.076Z"
   },
   {
    "duration": 833,
    "start_time": "2023-06-08T09:09:01.509Z"
   },
   {
    "duration": 33,
    "start_time": "2023-06-08T09:09:02.344Z"
   },
   {
    "duration": 183,
    "start_time": "2023-06-08T09:09:02.379Z"
   },
   {
    "duration": 22,
    "start_time": "2023-06-08T09:09:02.564Z"
   },
   {
    "duration": 101,
    "start_time": "2023-06-08T09:09:02.587Z"
   },
   {
    "duration": 166,
    "start_time": "2023-06-08T09:09:02.690Z"
   },
   {
    "duration": 8,
    "start_time": "2023-06-08T09:09:02.857Z"
   },
   {
    "duration": 183,
    "start_time": "2023-06-08T09:09:02.867Z"
   },
   {
    "duration": 235,
    "start_time": "2023-06-08T09:09:03.052Z"
   },
   {
    "duration": 38,
    "start_time": "2023-06-08T09:09:03.289Z"
   },
   {
    "duration": 65,
    "start_time": "2023-06-08T09:09:03.329Z"
   },
   {
    "duration": 81,
    "start_time": "2023-06-08T09:09:03.396Z"
   },
   {
    "duration": 1149,
    "start_time": "2023-06-08T09:09:03.479Z"
   },
   {
    "duration": 198,
    "start_time": "2023-06-08T09:09:04.630Z"
   },
   {
    "duration": 61,
    "start_time": "2023-06-08T09:09:04.830Z"
   },
   {
    "duration": 161,
    "start_time": "2023-06-08T09:09:04.893Z"
   },
   {
    "duration": 27,
    "start_time": "2023-06-08T09:09:05.056Z"
   },
   {
    "duration": 15,
    "start_time": "2023-06-08T09:09:05.086Z"
   },
   {
    "duration": 1349145,
    "start_time": "2023-06-08T09:09:05.104Z"
   },
   {
    "duration": 960,
    "start_time": "2023-06-08T09:35:06.320Z"
   },
   {
    "duration": 3,
    "start_time": "2023-06-08T09:35:07.283Z"
   },
   {
    "duration": 643431,
    "start_time": "2023-06-08T09:35:07.288Z"
   },
   {
    "duration": 398,
    "start_time": "2023-06-08T09:45:50.721Z"
   },
   {
    "duration": 141,
    "start_time": "2023-06-08T09:45:51.121Z"
   },
   {
    "duration": 599,
    "start_time": "2023-06-08T09:45:51.263Z"
   },
   {
    "duration": 4,
    "start_time": "2023-06-08T09:45:51.863Z"
   },
   {
    "duration": 387466,
    "start_time": "2023-06-08T09:45:51.868Z"
   },
   {
    "duration": 46476,
    "start_time": "2023-06-08T09:52:19.336Z"
   },
   {
    "duration": 5612,
    "start_time": "2023-06-08T09:53:05.813Z"
   },
   {
    "duration": 226,
    "start_time": "2023-06-08T09:53:11.435Z"
   },
   {
    "duration": 12,
    "start_time": "2023-06-08T09:53:11.663Z"
   },
   {
    "duration": 0,
    "start_time": "2023-06-08T09:53:11.677Z"
   },
   {
    "duration": 0,
    "start_time": "2023-06-08T09:53:11.678Z"
   },
   {
    "duration": 10,
    "start_time": "2023-06-08T09:53:21.176Z"
   },
   {
    "duration": 4,
    "start_time": "2023-06-08T09:54:15.639Z"
   },
   {
    "duration": 717,
    "start_time": "2023-06-08T09:54:15.645Z"
   },
   {
    "duration": 1084,
    "start_time": "2023-06-08T09:54:16.364Z"
   },
   {
    "duration": 153,
    "start_time": "2023-06-08T09:54:17.450Z"
   },
   {
    "duration": 29,
    "start_time": "2023-06-08T09:54:17.605Z"
   },
   {
    "duration": 367,
    "start_time": "2023-06-08T09:54:17.636Z"
   },
   {
    "duration": 783,
    "start_time": "2023-06-08T09:54:18.005Z"
   },
   {
    "duration": 43,
    "start_time": "2023-06-08T09:54:18.789Z"
   },
   {
    "duration": 158,
    "start_time": "2023-06-08T09:54:18.834Z"
   },
   {
    "duration": 32,
    "start_time": "2023-06-08T09:54:18.994Z"
   },
   {
    "duration": 74,
    "start_time": "2023-06-08T09:54:19.029Z"
   },
   {
    "duration": 200,
    "start_time": "2023-06-08T09:54:19.115Z"
   },
   {
    "duration": 8,
    "start_time": "2023-06-08T09:54:19.317Z"
   },
   {
    "duration": 37,
    "start_time": "2023-06-08T09:54:19.326Z"
   },
   {
    "duration": 264,
    "start_time": "2023-06-08T09:54:19.365Z"
   },
   {
    "duration": 31,
    "start_time": "2023-06-08T09:54:19.631Z"
   },
   {
    "duration": 87,
    "start_time": "2023-06-08T09:54:19.664Z"
   },
   {
    "duration": 103,
    "start_time": "2023-06-08T09:54:19.753Z"
   },
   {
    "duration": 991,
    "start_time": "2023-06-08T09:54:27.775Z"
   },
   {
    "duration": 91,
    "start_time": "2023-06-08T09:55:32.767Z"
   },
   {
    "duration": 3,
    "start_time": "2023-06-08T09:55:42.163Z"
   },
   {
    "duration": 739,
    "start_time": "2023-06-08T09:55:42.169Z"
   },
   {
    "duration": 1046,
    "start_time": "2023-06-08T09:55:42.910Z"
   },
   {
    "duration": 160,
    "start_time": "2023-06-08T09:55:43.957Z"
   },
   {
    "duration": 25,
    "start_time": "2023-06-08T09:55:44.118Z"
   },
   {
    "duration": 365,
    "start_time": "2023-06-08T09:55:44.145Z"
   },
   {
    "duration": 748,
    "start_time": "2023-06-08T09:55:44.515Z"
   },
   {
    "duration": 54,
    "start_time": "2023-06-08T09:55:45.265Z"
   },
   {
    "duration": 231,
    "start_time": "2023-06-08T09:55:45.321Z"
   },
   {
    "duration": 24,
    "start_time": "2023-06-08T09:55:45.554Z"
   },
   {
    "duration": 109,
    "start_time": "2023-06-08T09:55:45.582Z"
   },
   {
    "duration": 172,
    "start_time": "2023-06-08T09:55:45.693Z"
   },
   {
    "duration": 8,
    "start_time": "2023-06-08T09:55:45.867Z"
   },
   {
    "duration": 58,
    "start_time": "2023-06-08T09:55:45.877Z"
   },
   {
    "duration": 266,
    "start_time": "2023-06-08T09:55:45.937Z"
   },
   {
    "duration": 41,
    "start_time": "2023-06-08T09:55:46.205Z"
   },
   {
    "duration": 78,
    "start_time": "2023-06-08T09:55:46.247Z"
   },
   {
    "duration": 95,
    "start_time": "2023-06-08T09:55:46.327Z"
   },
   {
    "duration": 1036,
    "start_time": "2023-06-08T09:55:49.521Z"
   },
   {
    "duration": 67,
    "start_time": "2023-06-08T09:56:07.614Z"
   },
   {
    "duration": 187,
    "start_time": "2023-06-08T09:56:15.176Z"
   },
   {
    "duration": 3,
    "start_time": "2023-06-08T09:59:43.912Z"
   },
   {
    "duration": 695,
    "start_time": "2023-06-08T09:59:43.919Z"
   },
   {
    "duration": 1063,
    "start_time": "2023-06-08T09:59:44.616Z"
   },
   {
    "duration": 161,
    "start_time": "2023-06-08T09:59:45.681Z"
   },
   {
    "duration": 31,
    "start_time": "2023-06-08T09:59:45.845Z"
   },
   {
    "duration": 453,
    "start_time": "2023-06-08T09:59:45.878Z"
   },
   {
    "duration": 875,
    "start_time": "2023-06-08T09:59:46.332Z"
   },
   {
    "duration": 39,
    "start_time": "2023-06-08T09:59:47.209Z"
   },
   {
    "duration": 199,
    "start_time": "2023-06-08T09:59:47.250Z"
   },
   {
    "duration": 28,
    "start_time": "2023-06-08T09:59:47.451Z"
   },
   {
    "duration": 152,
    "start_time": "2023-06-08T09:59:47.482Z"
   },
   {
    "duration": 175,
    "start_time": "2023-06-08T09:59:47.635Z"
   },
   {
    "duration": 8,
    "start_time": "2023-06-08T09:59:47.815Z"
   },
   {
    "duration": 45,
    "start_time": "2023-06-08T09:59:47.825Z"
   },
   {
    "duration": 261,
    "start_time": "2023-06-08T09:59:47.872Z"
   },
   {
    "duration": 34,
    "start_time": "2023-06-08T09:59:48.135Z"
   },
   {
    "duration": 136,
    "start_time": "2023-06-08T09:59:48.171Z"
   },
   {
    "duration": 159,
    "start_time": "2023-06-08T09:59:48.315Z"
   },
   {
    "duration": 116,
    "start_time": "2023-06-08T09:59:48.476Z"
   },
   {
    "duration": 2,
    "start_time": "2023-06-08T09:59:48.594Z"
   },
   {
    "duration": 1050,
    "start_time": "2023-06-08T09:59:48.598Z"
   },
   {
    "duration": 71,
    "start_time": "2023-06-08T09:59:49.650Z"
   },
   {
    "duration": 187,
    "start_time": "2023-06-08T09:59:49.723Z"
   },
   {
    "duration": 3,
    "start_time": "2023-06-08T10:01:29.960Z"
   },
   {
    "duration": 695,
    "start_time": "2023-06-08T10:01:29.966Z"
   },
   {
    "duration": 1056,
    "start_time": "2023-06-08T10:01:30.663Z"
   },
   {
    "duration": 167,
    "start_time": "2023-06-08T10:01:31.721Z"
   },
   {
    "duration": 34,
    "start_time": "2023-06-08T10:01:31.891Z"
   },
   {
    "duration": 353,
    "start_time": "2023-06-08T10:01:31.927Z"
   },
   {
    "duration": 754,
    "start_time": "2023-06-08T10:01:32.281Z"
   },
   {
    "duration": 37,
    "start_time": "2023-06-08T10:01:33.036Z"
   },
   {
    "duration": 171,
    "start_time": "2023-06-08T10:01:33.075Z"
   },
   {
    "duration": 78,
    "start_time": "2023-06-08T10:01:33.248Z"
   },
   {
    "duration": 22,
    "start_time": "2023-06-08T10:01:33.329Z"
   },
   {
    "duration": 87,
    "start_time": "2023-06-08T10:01:33.352Z"
   },
   {
    "duration": 80,
    "start_time": "2023-06-08T10:01:33.440Z"
   },
   {
    "duration": 176,
    "start_time": "2023-06-08T10:01:33.522Z"
   },
   {
    "duration": 17,
    "start_time": "2023-06-08T10:01:33.700Z"
   },
   {
    "duration": 38,
    "start_time": "2023-06-08T10:01:33.718Z"
   },
   {
    "duration": 289,
    "start_time": "2023-06-08T10:01:33.758Z"
   },
   {
    "duration": 32,
    "start_time": "2023-06-08T10:01:34.049Z"
   },
   {
    "duration": 76,
    "start_time": "2023-06-08T10:01:34.082Z"
   },
   {
    "duration": 81,
    "start_time": "2023-06-08T10:01:34.159Z"
   },
   {
    "duration": 74,
    "start_time": "2023-06-08T10:01:34.241Z"
   },
   {
    "duration": 2,
    "start_time": "2023-06-08T10:01:34.317Z"
   },
   {
    "duration": 1044,
    "start_time": "2023-06-08T10:01:34.321Z"
   },
   {
    "duration": 82,
    "start_time": "2023-06-08T10:01:35.367Z"
   },
   {
    "duration": 201,
    "start_time": "2023-06-08T10:01:35.451Z"
   },
   {
    "duration": 3,
    "start_time": "2023-06-08T10:03:26.745Z"
   },
   {
    "duration": 24565,
    "start_time": "2023-06-08T10:03:27.529Z"
   },
   {
    "duration": 1312,
    "start_time": "2023-06-08T10:04:12.530Z"
   },
   {
    "duration": 780,
    "start_time": "2023-06-08T10:04:13.844Z"
   },
   {
    "duration": 1247,
    "start_time": "2023-06-08T10:04:14.625Z"
   },
   {
    "duration": 195,
    "start_time": "2023-06-08T10:04:15.875Z"
   },
   {
    "duration": 23,
    "start_time": "2023-06-08T10:04:16.072Z"
   },
   {
    "duration": 510,
    "start_time": "2023-06-08T10:04:16.097Z"
   },
   {
    "duration": 923,
    "start_time": "2023-06-08T10:04:16.608Z"
   },
   {
    "duration": 42,
    "start_time": "2023-06-08T10:04:17.533Z"
   },
   {
    "duration": 176,
    "start_time": "2023-06-08T10:04:17.579Z"
   },
   {
    "duration": 22,
    "start_time": "2023-06-08T10:04:17.758Z"
   },
   {
    "duration": 84,
    "start_time": "2023-06-08T10:04:17.782Z"
   },
   {
    "duration": 183,
    "start_time": "2023-06-08T10:04:17.868Z"
   },
   {
    "duration": 8,
    "start_time": "2023-06-08T10:04:18.052Z"
   },
   {
    "duration": 73,
    "start_time": "2023-06-08T10:04:18.062Z"
   },
   {
    "duration": 316,
    "start_time": "2023-06-08T10:04:18.137Z"
   },
   {
    "duration": 32,
    "start_time": "2023-06-08T10:04:18.454Z"
   },
   {
    "duration": 79,
    "start_time": "2023-06-08T10:04:18.487Z"
   },
   {
    "duration": 72,
    "start_time": "2023-06-08T10:04:18.568Z"
   },
   {
    "duration": 77,
    "start_time": "2023-06-08T10:04:18.642Z"
   },
   {
    "duration": 1151,
    "start_time": "2023-06-08T10:04:18.721Z"
   },
   {
    "duration": 218,
    "start_time": "2023-06-08T10:04:19.873Z"
   },
   {
    "duration": 66,
    "start_time": "2023-06-08T10:04:20.092Z"
   },
   {
    "duration": 171,
    "start_time": "2023-06-08T10:04:20.160Z"
   },
   {
    "duration": 28,
    "start_time": "2023-06-08T10:04:20.333Z"
   },
   {
    "duration": 4,
    "start_time": "2023-06-08T10:04:31.848Z"
   },
   {
    "duration": 452687,
    "start_time": "2023-06-08T10:04:32.761Z"
   },
   {
    "duration": 4,
    "start_time": "2023-06-08T10:12:40.770Z"
   },
   {
    "duration": 787,
    "start_time": "2023-06-08T10:12:40.776Z"
   },
   {
    "duration": 1061,
    "start_time": "2023-06-08T10:12:41.566Z"
   },
   {
    "duration": 163,
    "start_time": "2023-06-08T10:12:42.629Z"
   },
   {
    "duration": 29,
    "start_time": "2023-06-08T10:12:42.795Z"
   },
   {
    "duration": 362,
    "start_time": "2023-06-08T10:12:42.826Z"
   },
   {
    "duration": 761,
    "start_time": "2023-06-08T10:12:43.190Z"
   },
   {
    "duration": 42,
    "start_time": "2023-06-08T10:12:43.953Z"
   },
   {
    "duration": 178,
    "start_time": "2023-06-08T10:12:43.997Z"
   },
   {
    "duration": 22,
    "start_time": "2023-06-08T10:12:44.176Z"
   },
   {
    "duration": 84,
    "start_time": "2023-06-08T10:12:44.201Z"
   },
   {
    "duration": 171,
    "start_time": "2023-06-08T10:12:44.287Z"
   },
   {
    "duration": 9,
    "start_time": "2023-06-08T10:12:44.459Z"
   },
   {
    "duration": 57,
    "start_time": "2023-06-08T10:12:44.469Z"
   },
   {
    "duration": 237,
    "start_time": "2023-06-08T10:12:44.528Z"
   },
   {
    "duration": 31,
    "start_time": "2023-06-08T10:12:44.767Z"
   },
   {
    "duration": 83,
    "start_time": "2023-06-08T10:12:44.799Z"
   },
   {
    "duration": 73,
    "start_time": "2023-06-08T10:12:44.884Z"
   },
   {
    "duration": 73,
    "start_time": "2023-06-08T10:12:44.958Z"
   },
   {
    "duration": 712,
    "start_time": "2023-06-08T10:12:45.032Z"
   },
   {
    "duration": 0,
    "start_time": "2023-06-08T10:12:45.746Z"
   },
   {
    "duration": 0,
    "start_time": "2023-06-08T10:12:45.747Z"
   },
   {
    "duration": 0,
    "start_time": "2023-06-08T10:12:45.748Z"
   },
   {
    "duration": 0,
    "start_time": "2023-06-08T10:12:45.749Z"
   },
   {
    "duration": 1063,
    "start_time": "2023-06-08T10:13:21.497Z"
   },
   {
    "duration": 205,
    "start_time": "2023-06-08T10:13:29.274Z"
   },
   {
    "duration": 67,
    "start_time": "2023-06-08T10:13:32.008Z"
   },
   {
    "duration": 141,
    "start_time": "2023-06-08T10:13:34.209Z"
   },
   {
    "duration": 29,
    "start_time": "2023-06-08T10:13:36.464Z"
   },
   {
    "duration": 4,
    "start_time": "2023-06-08T10:13:40.889Z"
   },
   {
    "duration": 76257,
    "start_time": "2023-06-08T10:13:41.710Z"
   },
   {
    "duration": 3,
    "start_time": "2023-06-08T10:22:00.552Z"
   },
   {
    "duration": 829,
    "start_time": "2023-06-08T10:22:00.557Z"
   },
   {
    "duration": 1155,
    "start_time": "2023-06-08T10:22:01.387Z"
   },
   {
    "duration": 157,
    "start_time": "2023-06-08T10:22:02.544Z"
   },
   {
    "duration": 29,
    "start_time": "2023-06-08T10:22:02.703Z"
   },
   {
    "duration": 343,
    "start_time": "2023-06-08T10:22:02.734Z"
   },
   {
    "duration": 784,
    "start_time": "2023-06-08T10:22:03.078Z"
   },
   {
    "duration": 37,
    "start_time": "2023-06-08T10:22:03.865Z"
   },
   {
    "duration": 224,
    "start_time": "2023-06-08T10:22:03.904Z"
   },
   {
    "duration": 26,
    "start_time": "2023-06-08T10:22:04.130Z"
   },
   {
    "duration": 124,
    "start_time": "2023-06-08T10:22:04.160Z"
   },
   {
    "duration": 227,
    "start_time": "2023-06-08T10:22:04.286Z"
   },
   {
    "duration": 10,
    "start_time": "2023-06-08T10:22:04.516Z"
   },
   {
    "duration": 132,
    "start_time": "2023-06-08T10:22:04.528Z"
   },
   {
    "duration": 299,
    "start_time": "2023-06-08T10:22:04.662Z"
   },
   {
    "duration": 36,
    "start_time": "2023-06-08T10:22:04.967Z"
   },
   {
    "duration": 77,
    "start_time": "2023-06-08T10:22:05.004Z"
   },
   {
    "duration": 106,
    "start_time": "2023-06-08T10:22:05.083Z"
   },
   {
    "duration": 124,
    "start_time": "2023-06-08T10:22:05.192Z"
   },
   {
    "duration": 1301,
    "start_time": "2023-06-08T10:22:05.318Z"
   },
   {
    "duration": 251,
    "start_time": "2023-06-08T10:22:06.621Z"
   },
   {
    "duration": 90,
    "start_time": "2023-06-08T10:22:06.874Z"
   },
   {
    "duration": 176,
    "start_time": "2023-06-08T10:22:06.966Z"
   },
   {
    "duration": 39,
    "start_time": "2023-06-08T10:22:07.144Z"
   },
   {
    "duration": 670,
    "start_time": "2023-06-08T10:22:16.236Z"
   },
   {
    "duration": 4,
    "start_time": "2023-06-08T10:22:25.165Z"
   },
   {
    "duration": 1224,
    "start_time": "2023-06-08T16:52:21.525Z"
   },
   {
    "duration": 987,
    "start_time": "2023-06-08T16:52:22.750Z"
   },
   {
    "duration": 1398,
    "start_time": "2023-06-08T16:52:23.738Z"
   },
   {
    "duration": 189,
    "start_time": "2023-06-08T16:52:25.139Z"
   },
   {
    "duration": 31,
    "start_time": "2023-06-08T16:52:25.331Z"
   },
   {
    "duration": 488,
    "start_time": "2023-06-08T16:52:25.364Z"
   },
   {
    "duration": 888,
    "start_time": "2023-06-08T16:52:25.854Z"
   },
   {
    "duration": 5,
    "start_time": "2023-06-08T16:52:29.024Z"
   },
   {
    "duration": 395,
    "start_time": "2023-06-08T16:52:40.563Z"
   },
   {
    "duration": 25,
    "start_time": "2023-06-08T16:53:16.024Z"
   },
   {
    "duration": 164,
    "start_time": "2023-06-08T16:53:21.137Z"
   },
   {
    "duration": 22,
    "start_time": "2023-06-08T16:53:24.547Z"
   },
   {
    "duration": 76,
    "start_time": "2023-06-08T16:53:28.973Z"
   },
   {
    "duration": 145,
    "start_time": "2023-06-08T16:53:44.847Z"
   },
   {
    "duration": 10,
    "start_time": "2023-06-08T16:53:47.489Z"
   },
   {
    "duration": 42,
    "start_time": "2023-06-08T16:53:49.319Z"
   },
   {
    "duration": 209,
    "start_time": "2023-06-08T16:53:50.409Z"
   },
   {
    "duration": 30,
    "start_time": "2023-06-08T16:53:52.688Z"
   },
   {
    "duration": 64,
    "start_time": "2023-06-08T16:53:53.326Z"
   },
   {
    "duration": 64,
    "start_time": "2023-06-08T16:53:56.224Z"
   },
   {
    "duration": 71,
    "start_time": "2023-06-08T16:53:57.583Z"
   },
   {
    "duration": 958,
    "start_time": "2023-06-08T16:54:14.781Z"
   },
   {
    "duration": 167,
    "start_time": "2023-06-08T16:54:33.392Z"
   },
   {
    "duration": 67,
    "start_time": "2023-06-08T16:54:38.984Z"
   },
   {
    "duration": 143,
    "start_time": "2023-06-08T16:54:41.184Z"
   },
   {
    "duration": 29,
    "start_time": "2023-06-08T16:54:43.263Z"
   },
   {
    "duration": 4,
    "start_time": "2023-06-08T16:55:25.453Z"
   },
   {
    "duration": 45753,
    "start_time": "2023-06-08T16:55:26.657Z"
   },
   {
    "duration": 3,
    "start_time": "2023-06-08T16:56:57.615Z"
   },
   {
    "duration": 143493,
    "start_time": "2023-06-08T16:56:58.227Z"
   },
   {
    "duration": 1221,
    "start_time": "2023-06-08T16:59:38.436Z"
   },
   {
    "duration": 723,
    "start_time": "2023-06-08T16:59:39.659Z"
   },
   {
    "duration": 1133,
    "start_time": "2023-06-08T16:59:40.384Z"
   },
   {
    "duration": 159,
    "start_time": "2023-06-08T16:59:41.518Z"
   },
   {
    "duration": 23,
    "start_time": "2023-06-08T16:59:41.679Z"
   },
   {
    "duration": 390,
    "start_time": "2023-06-08T16:59:41.715Z"
   },
   {
    "duration": 788,
    "start_time": "2023-06-08T16:59:42.106Z"
   },
   {
    "duration": 44,
    "start_time": "2023-06-08T16:59:42.895Z"
   },
   {
    "duration": 162,
    "start_time": "2023-06-08T16:59:42.940Z"
   },
   {
    "duration": 28,
    "start_time": "2023-06-08T16:59:43.103Z"
   },
   {
    "duration": 90,
    "start_time": "2023-06-08T16:59:43.133Z"
   },
   {
    "duration": 170,
    "start_time": "2023-06-08T16:59:43.225Z"
   },
   {
    "duration": 19,
    "start_time": "2023-06-08T16:59:43.396Z"
   },
   {
    "duration": 41,
    "start_time": "2023-06-08T16:59:43.418Z"
   },
   {
    "duration": 237,
    "start_time": "2023-06-08T16:59:43.461Z"
   },
   {
    "duration": 35,
    "start_time": "2023-06-08T16:59:43.699Z"
   },
   {
    "duration": 64,
    "start_time": "2023-06-08T16:59:43.736Z"
   },
   {
    "duration": 63,
    "start_time": "2023-06-08T16:59:43.815Z"
   },
   {
    "duration": 956,
    "start_time": "2023-06-08T16:59:43.880Z"
   },
   {
    "duration": 169,
    "start_time": "2023-06-08T16:59:44.837Z"
   },
   {
    "duration": 66,
    "start_time": "2023-06-08T16:59:45.008Z"
   },
   {
    "duration": 156,
    "start_time": "2023-06-08T16:59:45.076Z"
   },
   {
    "duration": 29,
    "start_time": "2023-06-08T16:59:45.234Z"
   },
   {
    "duration": 3,
    "start_time": "2023-06-08T16:59:45.264Z"
   },
   {
    "duration": 1416079,
    "start_time": "2023-06-08T16:59:45.268Z"
   },
   {
    "duration": 244709,
    "start_time": "2023-06-08T17:23:21.349Z"
   },
   {
    "duration": 1081,
    "start_time": "2023-06-08T17:27:26.059Z"
   },
   {
    "duration": 5,
    "start_time": "2023-06-08T17:27:27.154Z"
   },
   {
    "duration": 877825,
    "start_time": "2023-06-08T17:27:27.161Z"
   },
   {
    "duration": 196,
    "start_time": "2023-06-08T17:42:04.988Z"
   },
   {
    "duration": 342,
    "start_time": "2023-06-08T17:42:05.185Z"
   },
   {
    "duration": 740,
    "start_time": "2023-06-08T17:42:05.528Z"
   },
   {
    "duration": 3,
    "start_time": "2023-06-08T17:42:06.270Z"
   },
   {
    "duration": 446475,
    "start_time": "2023-06-08T17:42:06.274Z"
   },
   {
    "duration": 50380,
    "start_time": "2023-06-08T17:49:32.758Z"
   },
   {
    "duration": 5746,
    "start_time": "2023-06-08T17:50:23.141Z"
   },
   {
    "duration": 16,
    "start_time": "2023-06-08T17:50:28.890Z"
   },
   {
    "duration": 0,
    "start_time": "2023-06-08T17:50:28.908Z"
   },
   {
    "duration": 0,
    "start_time": "2023-06-08T17:50:28.909Z"
   },
   {
    "duration": 0,
    "start_time": "2023-06-08T17:50:28.917Z"
   },
   {
    "duration": 0,
    "start_time": "2023-06-08T17:50:28.918Z"
   },
   {
    "duration": 4,
    "start_time": "2023-06-08T17:58:40.266Z"
   },
   {
    "duration": 320994,
    "start_time": "2023-06-08T17:58:42.412Z"
   },
   {
    "duration": 5,
    "start_time": "2023-06-08T18:04:05.881Z"
   },
   {
    "duration": 332480,
    "start_time": "2023-06-08T18:04:06.759Z"
   },
   {
    "duration": 4,
    "start_time": "2023-06-08T18:09:45.237Z"
   },
   {
    "duration": 301280,
    "start_time": "2023-06-08T18:09:47.279Z"
   },
   {
    "duration": 11,
    "start_time": "2023-06-08T18:14:58.614Z"
   },
   {
    "duration": 1507,
    "start_time": "2023-06-08T18:19:27.893Z"
   },
   {
    "duration": 812,
    "start_time": "2023-06-08T18:19:29.402Z"
   },
   {
    "duration": 1229,
    "start_time": "2023-06-08T18:19:30.218Z"
   },
   {
    "duration": 200,
    "start_time": "2023-06-08T18:19:31.449Z"
   },
   {
    "duration": 39,
    "start_time": "2023-06-08T18:19:31.651Z"
   },
   {
    "duration": 458,
    "start_time": "2023-06-08T18:19:31.692Z"
   },
   {
    "duration": 881,
    "start_time": "2023-06-08T18:19:32.152Z"
   },
   {
    "duration": 38,
    "start_time": "2023-06-08T18:19:33.034Z"
   },
   {
    "duration": 179,
    "start_time": "2023-06-08T18:19:33.074Z"
   },
   {
    "duration": 25,
    "start_time": "2023-06-08T18:19:33.257Z"
   },
   {
    "duration": 99,
    "start_time": "2023-06-08T18:19:33.284Z"
   },
   {
    "duration": 191,
    "start_time": "2023-06-08T18:19:33.385Z"
   },
   {
    "duration": 8,
    "start_time": "2023-06-08T18:19:33.577Z"
   },
   {
    "duration": 55,
    "start_time": "2023-06-08T18:19:33.586Z"
   },
   {
    "duration": 239,
    "start_time": "2023-06-08T18:19:33.646Z"
   },
   {
    "duration": 58,
    "start_time": "2023-06-08T18:19:33.886Z"
   },
   {
    "duration": 68,
    "start_time": "2023-06-08T18:19:33.946Z"
   },
   {
    "duration": 118,
    "start_time": "2023-06-08T18:19:34.018Z"
   },
   {
    "duration": 1114,
    "start_time": "2023-06-08T18:19:34.141Z"
   },
   {
    "duration": 240,
    "start_time": "2023-06-08T18:19:35.258Z"
   },
   {
    "duration": 107,
    "start_time": "2023-06-08T18:19:35.500Z"
   },
   {
    "duration": 202,
    "start_time": "2023-06-08T18:19:35.609Z"
   },
   {
    "duration": 48,
    "start_time": "2023-06-08T18:19:35.812Z"
   },
   {
    "duration": 4,
    "start_time": "2023-06-08T18:19:35.862Z"
   },
   {
    "duration": 1486685,
    "start_time": "2023-06-08T18:19:35.867Z"
   },
   {
    "duration": 248926,
    "start_time": "2023-06-08T18:44:22.553Z"
   },
   {
    "duration": 1226,
    "start_time": "2023-06-08T18:48:31.481Z"
   },
   {
    "duration": 81,
    "start_time": "2023-06-08T18:48:32.715Z"
   },
   {
    "duration": 0,
    "start_time": "2023-06-08T18:48:32.798Z"
   },
   {
    "duration": 0,
    "start_time": "2023-06-08T18:48:32.800Z"
   },
   {
    "duration": 0,
    "start_time": "2023-06-08T18:48:32.800Z"
   },
   {
    "duration": 0,
    "start_time": "2023-06-08T18:48:32.802Z"
   },
   {
    "duration": 0,
    "start_time": "2023-06-08T18:48:32.803Z"
   },
   {
    "duration": 0,
    "start_time": "2023-06-08T18:48:32.804Z"
   },
   {
    "duration": 0,
    "start_time": "2023-06-08T18:48:32.806Z"
   },
   {
    "duration": 0,
    "start_time": "2023-06-08T18:48:32.807Z"
   },
   {
    "duration": 0,
    "start_time": "2023-06-08T18:48:32.808Z"
   },
   {
    "duration": 0,
    "start_time": "2023-06-08T18:48:32.810Z"
   },
   {
    "duration": 0,
    "start_time": "2023-06-08T18:48:32.811Z"
   },
   {
    "duration": 6,
    "start_time": "2023-06-08T18:48:54.242Z"
   },
   {
    "duration": 640862,
    "start_time": "2023-06-08T18:48:54.250Z"
   },
   {
    "duration": 288,
    "start_time": "2023-06-08T18:59:35.113Z"
   },
   {
    "duration": 208,
    "start_time": "2023-06-08T18:59:35.403Z"
   },
   {
    "duration": 633,
    "start_time": "2023-06-08T18:59:35.614Z"
   },
   {
    "duration": 4,
    "start_time": "2023-06-08T18:59:36.249Z"
   },
   {
    "duration": 429256,
    "start_time": "2023-06-08T18:59:36.254Z"
   },
   {
    "duration": 49664,
    "start_time": "2023-06-08T19:06:45.511Z"
   },
   {
    "duration": 5730,
    "start_time": "2023-06-08T19:07:35.177Z"
   },
   {
    "duration": 31,
    "start_time": "2023-06-08T19:07:40.908Z"
   },
   {
    "duration": 0,
    "start_time": "2023-06-08T19:07:40.942Z"
   },
   {
    "duration": 0,
    "start_time": "2023-06-08T19:07:40.942Z"
   },
   {
    "duration": 1385,
    "start_time": "2023-06-08T19:08:27.906Z"
   },
   {
    "duration": 939,
    "start_time": "2023-06-08T19:08:29.293Z"
   },
   {
    "duration": 1304,
    "start_time": "2023-06-08T19:08:30.244Z"
   },
   {
    "duration": 190,
    "start_time": "2023-06-08T19:08:31.555Z"
   },
   {
    "duration": 33,
    "start_time": "2023-06-08T19:08:31.747Z"
   },
   {
    "duration": 544,
    "start_time": "2023-06-08T19:08:31.782Z"
   },
   {
    "duration": 959,
    "start_time": "2023-06-08T19:08:32.328Z"
   },
   {
    "duration": 57,
    "start_time": "2023-06-08T19:08:33.288Z"
   },
   {
    "duration": 170,
    "start_time": "2023-06-08T19:08:33.350Z"
   },
   {
    "duration": 23,
    "start_time": "2023-06-08T19:08:33.522Z"
   },
   {
    "duration": 133,
    "start_time": "2023-06-08T19:08:33.549Z"
   },
   {
    "duration": 181,
    "start_time": "2023-06-08T19:08:33.684Z"
   },
   {
    "duration": 10,
    "start_time": "2023-06-08T19:08:33.867Z"
   },
   {
    "duration": 75,
    "start_time": "2023-06-08T19:08:33.880Z"
   },
   {
    "duration": 309,
    "start_time": "2023-06-08T19:08:33.956Z"
   },
   {
    "duration": 40,
    "start_time": "2023-06-08T19:08:34.267Z"
   },
   {
    "duration": 86,
    "start_time": "2023-06-08T19:08:34.309Z"
   },
   {
    "duration": 94,
    "start_time": "2023-06-08T19:08:34.397Z"
   },
   {
    "duration": 1202,
    "start_time": "2023-06-08T19:08:34.493Z"
   },
   {
    "duration": 241,
    "start_time": "2023-06-08T19:08:35.697Z"
   },
   {
    "duration": 69,
    "start_time": "2023-06-08T19:08:35.939Z"
   },
   {
    "duration": 239,
    "start_time": "2023-06-08T19:08:36.010Z"
   },
   {
    "duration": 28,
    "start_time": "2023-06-08T19:08:36.250Z"
   },
   {
    "duration": 3,
    "start_time": "2023-06-08T19:08:36.279Z"
   },
   {
    "duration": 251276,
    "start_time": "2023-06-08T19:08:36.284Z"
   },
   {
    "duration": 1261,
    "start_time": "2023-06-08T19:13:09.747Z"
   },
   {
    "duration": 828,
    "start_time": "2023-06-08T19:13:11.010Z"
   },
   {
    "duration": 1228,
    "start_time": "2023-06-08T19:13:11.840Z"
   },
   {
    "duration": 181,
    "start_time": "2023-06-08T19:13:13.071Z"
   },
   {
    "duration": 30,
    "start_time": "2023-06-08T19:13:13.254Z"
   },
   {
    "duration": 431,
    "start_time": "2023-06-08T19:13:13.286Z"
   },
   {
    "duration": 893,
    "start_time": "2023-06-08T19:13:13.718Z"
   },
   {
    "duration": 48,
    "start_time": "2023-06-08T19:13:14.612Z"
   },
   {
    "duration": 151,
    "start_time": "2023-06-08T19:13:14.661Z"
   },
   {
    "duration": 23,
    "start_time": "2023-06-08T19:13:14.817Z"
   },
   {
    "duration": 95,
    "start_time": "2023-06-08T19:13:14.842Z"
   },
   {
    "duration": 164,
    "start_time": "2023-06-08T19:13:14.944Z"
   },
   {
    "duration": 36,
    "start_time": "2023-06-08T19:13:15.110Z"
   },
   {
    "duration": 53,
    "start_time": "2023-06-08T19:13:15.148Z"
   },
   {
    "duration": 300,
    "start_time": "2023-06-08T19:13:15.203Z"
   },
   {
    "duration": 41,
    "start_time": "2023-06-08T19:13:15.505Z"
   },
   {
    "duration": 81,
    "start_time": "2023-06-08T19:13:15.548Z"
   },
   {
    "duration": 77,
    "start_time": "2023-06-08T19:13:15.630Z"
   },
   {
    "duration": 1059,
    "start_time": "2023-06-08T19:13:15.709Z"
   },
   {
    "duration": 223,
    "start_time": "2023-06-08T19:13:16.769Z"
   },
   {
    "duration": 85,
    "start_time": "2023-06-08T19:13:16.993Z"
   },
   {
    "duration": 162,
    "start_time": "2023-06-08T19:13:17.079Z"
   },
   {
    "duration": 31,
    "start_time": "2023-06-08T19:13:17.242Z"
   },
   {
    "duration": 3,
    "start_time": "2023-06-08T19:13:17.274Z"
   },
   {
    "duration": 1212,
    "start_time": "2023-06-08T19:16:06.560Z"
   },
   {
    "duration": 908,
    "start_time": "2023-06-08T19:16:07.774Z"
   },
   {
    "duration": 1175,
    "start_time": "2023-06-08T19:16:08.684Z"
   },
   {
    "duration": 183,
    "start_time": "2023-06-08T19:16:09.862Z"
   },
   {
    "duration": 22,
    "start_time": "2023-06-08T19:16:10.046Z"
   },
   {
    "duration": 400,
    "start_time": "2023-06-08T19:16:10.070Z"
   },
   {
    "duration": 841,
    "start_time": "2023-06-08T19:16:10.472Z"
   },
   {
    "duration": 40,
    "start_time": "2023-06-08T19:16:11.315Z"
   },
   {
    "duration": 153,
    "start_time": "2023-06-08T19:16:11.356Z"
   },
   {
    "duration": 32,
    "start_time": "2023-06-08T19:16:11.511Z"
   },
   {
    "duration": 94,
    "start_time": "2023-06-08T19:16:11.544Z"
   },
   {
    "duration": 156,
    "start_time": "2023-06-08T19:16:11.640Z"
   },
   {
    "duration": 8,
    "start_time": "2023-06-08T19:16:11.798Z"
   },
   {
    "duration": 47,
    "start_time": "2023-06-08T19:16:11.808Z"
   },
   {
    "duration": 282,
    "start_time": "2023-06-08T19:16:11.857Z"
   },
   {
    "duration": 30,
    "start_time": "2023-06-08T19:16:12.140Z"
   },
   {
    "duration": 85,
    "start_time": "2023-06-08T19:16:12.171Z"
   },
   {
    "duration": 57,
    "start_time": "2023-06-08T19:16:12.257Z"
   },
   {
    "duration": 1056,
    "start_time": "2023-06-08T19:16:12.315Z"
   },
   {
    "duration": 217,
    "start_time": "2023-06-08T19:16:13.372Z"
   },
   {
    "duration": 79,
    "start_time": "2023-06-08T19:16:13.590Z"
   },
   {
    "duration": 176,
    "start_time": "2023-06-08T19:16:13.671Z"
   },
   {
    "duration": 30,
    "start_time": "2023-06-08T19:16:13.849Z"
   },
   {
    "duration": 4,
    "start_time": "2023-06-08T19:16:13.881Z"
   },
   {
    "duration": 1381,
    "start_time": "2023-06-08T19:19:44.332Z"
   },
   {
    "duration": 815,
    "start_time": "2023-06-08T19:19:45.715Z"
   },
   {
    "duration": 1249,
    "start_time": "2023-06-08T19:19:46.531Z"
   },
   {
    "duration": 179,
    "start_time": "2023-06-08T19:19:47.782Z"
   },
   {
    "duration": 25,
    "start_time": "2023-06-08T19:19:47.963Z"
   },
   {
    "duration": 420,
    "start_time": "2023-06-08T19:19:47.989Z"
   },
   {
    "duration": 852,
    "start_time": "2023-06-08T19:19:48.410Z"
   },
   {
    "duration": 35,
    "start_time": "2023-06-08T19:19:49.264Z"
   },
   {
    "duration": 194,
    "start_time": "2023-06-08T19:19:49.300Z"
   },
   {
    "duration": 34,
    "start_time": "2023-06-08T19:19:49.495Z"
   },
   {
    "duration": 73,
    "start_time": "2023-06-08T19:19:49.530Z"
   },
   {
    "duration": 175,
    "start_time": "2023-06-08T19:19:49.604Z"
   },
   {
    "duration": 8,
    "start_time": "2023-06-08T19:19:49.780Z"
   },
   {
    "duration": 55,
    "start_time": "2023-06-08T19:19:49.791Z"
   },
   {
    "duration": 257,
    "start_time": "2023-06-08T19:19:49.847Z"
   },
   {
    "duration": 40,
    "start_time": "2023-06-08T19:19:50.105Z"
   },
   {
    "duration": 78,
    "start_time": "2023-06-08T19:19:50.147Z"
   },
   {
    "duration": 64,
    "start_time": "2023-06-08T19:19:50.230Z"
   },
   {
    "duration": 1044,
    "start_time": "2023-06-08T19:19:50.295Z"
   },
   {
    "duration": 186,
    "start_time": "2023-06-08T19:19:51.341Z"
   },
   {
    "duration": 60,
    "start_time": "2023-06-08T19:19:51.529Z"
   },
   {
    "duration": 170,
    "start_time": "2023-06-08T19:19:51.590Z"
   },
   {
    "duration": 28,
    "start_time": "2023-06-08T19:19:51.762Z"
   },
   {
    "duration": 651,
    "start_time": "2023-06-08T19:20:00.687Z"
   },
   {
    "duration": 4,
    "start_time": "2023-06-08T19:20:07.610Z"
   },
   {
    "duration": 1435,
    "start_time": "2023-06-08T19:26:04.864Z"
   },
   {
    "duration": 867,
    "start_time": "2023-06-08T19:26:06.301Z"
   },
   {
    "duration": 1435,
    "start_time": "2023-06-08T19:26:07.169Z"
   },
   {
    "duration": 252,
    "start_time": "2023-06-08T19:26:08.605Z"
   },
   {
    "duration": 30,
    "start_time": "2023-06-08T19:26:08.860Z"
   },
   {
    "duration": 541,
    "start_time": "2023-06-08T19:26:08.892Z"
   },
   {
    "duration": 970,
    "start_time": "2023-06-08T19:26:09.434Z"
   },
   {
    "duration": 57,
    "start_time": "2023-06-08T19:26:10.405Z"
   },
   {
    "duration": 189,
    "start_time": "2023-06-08T19:26:10.464Z"
   },
   {
    "duration": 22,
    "start_time": "2023-06-08T19:26:10.656Z"
   },
   {
    "duration": 103,
    "start_time": "2023-06-08T19:26:10.679Z"
   },
   {
    "duration": 182,
    "start_time": "2023-06-08T19:26:10.784Z"
   },
   {
    "duration": 9,
    "start_time": "2023-06-08T19:26:10.968Z"
   },
   {
    "duration": 75,
    "start_time": "2023-06-08T19:26:10.979Z"
   },
   {
    "duration": 253,
    "start_time": "2023-06-08T19:26:11.055Z"
   },
   {
    "duration": 48,
    "start_time": "2023-06-08T19:26:11.315Z"
   },
   {
    "duration": 90,
    "start_time": "2023-06-08T19:26:11.364Z"
   },
   {
    "duration": 105,
    "start_time": "2023-06-08T19:26:11.456Z"
   },
   {
    "duration": 1076,
    "start_time": "2023-06-08T19:26:11.563Z"
   },
   {
    "duration": 236,
    "start_time": "2023-06-08T19:26:12.640Z"
   },
   {
    "duration": 81,
    "start_time": "2023-06-08T19:26:12.877Z"
   },
   {
    "duration": 198,
    "start_time": "2023-06-08T19:26:12.960Z"
   },
   {
    "duration": 29,
    "start_time": "2023-06-08T19:26:13.159Z"
   },
   {
    "duration": 4,
    "start_time": "2023-06-08T19:26:23.655Z"
   },
   {
    "duration": 25092,
    "start_time": "2023-06-08T19:26:24.491Z"
   },
   {
    "duration": 4,
    "start_time": "2023-06-08T19:26:54.249Z"
   },
   {
    "duration": 295248,
    "start_time": "2023-06-08T19:27:11.379Z"
   },
   {
    "duration": 2,
    "start_time": "2023-06-08T19:32:34.349Z"
   },
   {
    "duration": 1388,
    "start_time": "2023-06-08T19:46:10.500Z"
   },
   {
    "duration": 859,
    "start_time": "2023-06-08T19:46:11.890Z"
   },
   {
    "duration": 1264,
    "start_time": "2023-06-08T19:46:12.750Z"
   },
   {
    "duration": 174,
    "start_time": "2023-06-08T19:46:14.018Z"
   },
   {
    "duration": 40,
    "start_time": "2023-06-08T19:46:14.194Z"
   },
   {
    "duration": 510,
    "start_time": "2023-06-08T19:46:14.244Z"
   },
   {
    "duration": 1017,
    "start_time": "2023-06-08T19:46:14.756Z"
   },
   {
    "duration": 66,
    "start_time": "2023-06-08T19:46:15.775Z"
   },
   {
    "duration": 190,
    "start_time": "2023-06-08T19:46:15.843Z"
   },
   {
    "duration": 35,
    "start_time": "2023-06-08T19:46:16.035Z"
   },
   {
    "duration": 97,
    "start_time": "2023-06-08T19:46:16.071Z"
   },
   {
    "duration": 184,
    "start_time": "2023-06-08T19:46:16.169Z"
   },
   {
    "duration": 9,
    "start_time": "2023-06-08T19:46:16.355Z"
   },
   {
    "duration": 66,
    "start_time": "2023-06-08T19:46:16.366Z"
   },
   {
    "duration": 276,
    "start_time": "2023-06-08T19:46:16.433Z"
   },
   {
    "duration": 37,
    "start_time": "2023-06-08T19:46:16.733Z"
   },
   {
    "duration": 205,
    "start_time": "2023-06-08T19:46:16.772Z"
   },
   {
    "duration": 81,
    "start_time": "2023-06-08T19:46:16.978Z"
   },
   {
    "duration": 1233,
    "start_time": "2023-06-08T19:46:17.061Z"
   },
   {
    "duration": 215,
    "start_time": "2023-06-08T19:46:18.295Z"
   },
   {
    "duration": 78,
    "start_time": "2023-06-08T19:46:18.511Z"
   },
   {
    "duration": 173,
    "start_time": "2023-06-08T19:46:18.591Z"
   },
   {
    "duration": 27,
    "start_time": "2023-06-08T19:46:18.765Z"
   },
   {
    "duration": 7,
    "start_time": "2023-06-08T19:46:22.942Z"
   },
   {
    "duration": 5,
    "start_time": "2023-06-08T19:46:26.460Z"
   },
   {
    "duration": 3,
    "start_time": "2023-06-08T19:52:59.057Z"
   },
   {
    "duration": 887,
    "start_time": "2023-06-08T19:52:59.062Z"
   },
   {
    "duration": 1136,
    "start_time": "2023-06-08T19:52:59.950Z"
   },
   {
    "duration": 183,
    "start_time": "2023-06-08T19:53:01.087Z"
   },
   {
    "duration": 22,
    "start_time": "2023-06-08T19:53:01.272Z"
   },
   {
    "duration": 433,
    "start_time": "2023-06-08T19:53:01.296Z"
   },
   {
    "duration": 904,
    "start_time": "2023-06-08T19:53:01.731Z"
   },
   {
    "duration": 37,
    "start_time": "2023-06-08T19:53:02.637Z"
   },
   {
    "duration": 197,
    "start_time": "2023-06-08T19:53:02.676Z"
   },
   {
    "duration": 20,
    "start_time": "2023-06-08T19:53:02.874Z"
   },
   {
    "duration": 144,
    "start_time": "2023-06-08T19:53:02.896Z"
   },
   {
    "duration": 169,
    "start_time": "2023-06-08T19:53:03.042Z"
   },
   {
    "duration": 31,
    "start_time": "2023-06-08T19:53:03.212Z"
   },
   {
    "duration": 53,
    "start_time": "2023-06-08T19:53:03.253Z"
   },
   {
    "duration": 274,
    "start_time": "2023-06-08T19:53:03.308Z"
   },
   {
    "duration": 64,
    "start_time": "2023-06-08T19:53:03.583Z"
   },
   {
    "duration": 80,
    "start_time": "2023-06-08T19:53:03.649Z"
   },
   {
    "duration": 111,
    "start_time": "2023-06-08T19:53:03.731Z"
   },
   {
    "duration": 1134,
    "start_time": "2023-06-08T19:53:03.844Z"
   },
   {
    "duration": 228,
    "start_time": "2023-06-08T19:53:04.980Z"
   },
   {
    "duration": 95,
    "start_time": "2023-06-08T19:53:05.230Z"
   },
   {
    "duration": 231,
    "start_time": "2023-06-08T19:53:05.345Z"
   },
   {
    "duration": 59,
    "start_time": "2023-06-08T19:53:05.578Z"
   },
   {
    "duration": 4,
    "start_time": "2023-06-08T19:53:33.751Z"
   },
   {
    "duration": 1343,
    "start_time": "2023-06-08T19:56:59.460Z"
   },
   {
    "duration": 944,
    "start_time": "2023-06-08T19:57:00.805Z"
   },
   {
    "duration": 1287,
    "start_time": "2023-06-08T19:57:01.765Z"
   },
   {
    "duration": 193,
    "start_time": "2023-06-08T19:57:03.055Z"
   },
   {
    "duration": 25,
    "start_time": "2023-06-08T19:57:03.250Z"
   },
   {
    "duration": 445,
    "start_time": "2023-06-08T19:57:03.276Z"
   },
   {
    "duration": 983,
    "start_time": "2023-06-08T19:57:03.722Z"
   },
   {
    "duration": 49,
    "start_time": "2023-06-08T19:57:04.707Z"
   },
   {
    "duration": 202,
    "start_time": "2023-06-08T19:57:04.757Z"
   },
   {
    "duration": 23,
    "start_time": "2023-06-08T19:57:04.962Z"
   },
   {
    "duration": 108,
    "start_time": "2023-06-08T19:57:04.987Z"
   },
   {
    "duration": 197,
    "start_time": "2023-06-08T19:57:05.096Z"
   },
   {
    "duration": 11,
    "start_time": "2023-06-08T19:57:05.294Z"
   },
   {
    "duration": 128,
    "start_time": "2023-06-08T19:57:05.326Z"
   },
   {
    "duration": 307,
    "start_time": "2023-06-08T19:57:05.455Z"
   },
   {
    "duration": 33,
    "start_time": "2023-06-08T19:57:05.764Z"
   },
   {
    "duration": 107,
    "start_time": "2023-06-08T19:57:05.798Z"
   },
   {
    "duration": 77,
    "start_time": "2023-06-08T19:57:05.922Z"
   },
   {
    "duration": 1153,
    "start_time": "2023-06-08T19:57:06.000Z"
   },
   {
    "duration": 218,
    "start_time": "2023-06-08T19:57:07.155Z"
   },
   {
    "duration": 85,
    "start_time": "2023-06-08T19:57:07.375Z"
   },
   {
    "duration": 180,
    "start_time": "2023-06-08T19:57:07.461Z"
   },
   {
    "duration": 29,
    "start_time": "2023-06-08T19:57:07.654Z"
   },
   {
    "duration": 3,
    "start_time": "2023-06-08T19:57:07.684Z"
   },
   {
    "duration": 7,
    "start_time": "2023-06-08T19:57:15.714Z"
   },
   {
    "duration": 265,
    "start_time": "2023-06-08T19:57:18.847Z"
   },
   {
    "duration": 1458,
    "start_time": "2023-06-08T20:03:39.138Z"
   },
   {
    "duration": 872,
    "start_time": "2023-06-08T20:03:40.597Z"
   },
   {
    "duration": 1283,
    "start_time": "2023-06-08T20:03:41.471Z"
   },
   {
    "duration": 208,
    "start_time": "2023-06-08T20:03:42.756Z"
   },
   {
    "duration": 36,
    "start_time": "2023-06-08T20:03:42.967Z"
   },
   {
    "duration": 453,
    "start_time": "2023-06-08T20:03:43.004Z"
   },
   {
    "duration": 995,
    "start_time": "2023-06-08T20:03:43.458Z"
   },
   {
    "duration": 34,
    "start_time": "2023-06-08T20:03:44.462Z"
   },
   {
    "duration": 186,
    "start_time": "2023-06-08T20:03:44.497Z"
   },
   {
    "duration": 21,
    "start_time": "2023-06-08T20:03:44.684Z"
   },
   {
    "duration": 94,
    "start_time": "2023-06-08T20:03:44.706Z"
   },
   {
    "duration": 191,
    "start_time": "2023-06-08T20:03:44.801Z"
   },
   {
    "duration": 8,
    "start_time": "2023-06-08T20:03:44.993Z"
   },
   {
    "duration": 105,
    "start_time": "2023-06-08T20:03:45.003Z"
   },
   {
    "duration": 337,
    "start_time": "2023-06-08T20:03:45.109Z"
   },
   {
    "duration": 41,
    "start_time": "2023-06-08T20:03:45.450Z"
   },
   {
    "duration": 106,
    "start_time": "2023-06-08T20:03:45.492Z"
   },
   {
    "duration": 174,
    "start_time": "2023-06-08T20:03:45.599Z"
   },
   {
    "duration": 1171,
    "start_time": "2023-06-08T20:03:48.312Z"
   },
   {
    "duration": 3,
    "start_time": "2023-06-08T20:35:34.483Z"
   },
   {
    "duration": 720,
    "start_time": "2023-06-08T20:35:34.487Z"
   },
   {
    "duration": 996,
    "start_time": "2023-06-08T20:35:35.209Z"
   },
   {
    "duration": 151,
    "start_time": "2023-06-08T20:35:36.207Z"
   },
   {
    "duration": 21,
    "start_time": "2023-06-08T20:35:36.361Z"
   },
   {
    "duration": 345,
    "start_time": "2023-06-08T20:35:36.384Z"
   },
   {
    "duration": 710,
    "start_time": "2023-06-08T20:35:36.730Z"
   },
   {
    "duration": 31,
    "start_time": "2023-06-08T20:35:37.442Z"
   },
   {
    "duration": 167,
    "start_time": "2023-06-08T20:35:37.474Z"
   },
   {
    "duration": 21,
    "start_time": "2023-06-08T20:35:37.642Z"
   },
   {
    "duration": 89,
    "start_time": "2023-06-08T20:35:37.665Z"
   },
   {
    "duration": 157,
    "start_time": "2023-06-08T20:35:37.756Z"
   },
   {
    "duration": 12,
    "start_time": "2023-06-08T20:35:37.915Z"
   },
   {
    "duration": 38,
    "start_time": "2023-06-08T20:35:37.928Z"
   },
   {
    "duration": 270,
    "start_time": "2023-06-08T20:35:37.967Z"
   },
   {
    "duration": 33,
    "start_time": "2023-06-08T20:35:38.239Z"
   },
   {
    "duration": 83,
    "start_time": "2023-06-08T20:35:38.274Z"
   },
   {
    "duration": 84,
    "start_time": "2023-06-08T20:35:38.359Z"
   },
   {
    "duration": 1013,
    "start_time": "2023-06-08T20:35:38.445Z"
   },
   {
    "duration": 170,
    "start_time": "2023-06-08T20:35:39.460Z"
   },
   {
    "duration": 58,
    "start_time": "2023-06-08T20:35:39.632Z"
   },
   {
    "duration": 157,
    "start_time": "2023-06-08T20:35:39.691Z"
   },
   {
    "duration": 29,
    "start_time": "2023-06-08T20:35:39.850Z"
   },
   {
    "duration": 3,
    "start_time": "2023-06-08T20:35:39.881Z"
   },
   {
    "duration": 3,
    "start_time": "2023-06-08T20:35:45.652Z"
   },
   {
    "duration": 17944572,
    "start_time": "2023-06-08T20:35:46.451Z"
   },
   {
    "duration": 168203,
    "start_time": "2023-06-09T01:34:51.025Z"
   },
   {
    "duration": 2907,
    "start_time": "2023-06-09T01:37:39.230Z"
   },
   {
    "duration": 78,
    "start_time": "2023-06-09T01:37:42.139Z"
   },
   {
    "duration": 1410081,
    "start_time": "2023-06-09T01:37:42.224Z"
   },
   {
    "duration": 217762,
    "start_time": "2023-06-09T02:01:12.307Z"
   },
   {
    "duration": 942,
    "start_time": "2023-06-09T02:04:50.070Z"
   },
   {
    "duration": 554,
    "start_time": "2023-06-09T02:04:51.015Z"
   },
   {
    "duration": 3,
    "start_time": "2023-06-09T02:04:51.570Z"
   },
   {
    "duration": 388340,
    "start_time": "2023-06-09T02:04:51.575Z"
   },
   {
    "duration": 45402,
    "start_time": "2023-06-09T02:11:19.916Z"
   },
   {
    "duration": 5476,
    "start_time": "2023-06-09T02:12:05.320Z"
   },
   {
    "duration": 11,
    "start_time": "2023-06-09T02:13:24.341Z"
   },
   {
    "duration": 10,
    "start_time": "2023-06-09T02:13:43.526Z"
   },
   {
    "duration": 5,
    "start_time": "2023-06-09T02:14:37.151Z"
   },
   {
    "duration": 4,
    "start_time": "2023-06-09T02:14:41.890Z"
   },
   {
    "duration": 9,
    "start_time": "2023-06-09T02:14:58.311Z"
   },
   {
    "duration": 9,
    "start_time": "2023-06-09T02:16:22.067Z"
   },
   {
    "duration": 8,
    "start_time": "2023-06-09T02:17:13.746Z"
   },
   {
    "duration": 265,
    "start_time": "2023-06-09T02:18:04.459Z"
   },
   {
    "duration": 72,
    "start_time": "2023-06-09T02:18:38.222Z"
   },
   {
    "duration": 8,
    "start_time": "2023-06-09T02:33:50.252Z"
   }
  ],
  "kernelspec": {
   "display_name": "Python 3",
   "language": "python",
   "name": "python3"
  },
  "language_info": {
   "codemirror_mode": {
    "name": "ipython",
    "version": 3
   },
   "file_extension": ".py",
   "mimetype": "text/x-python",
   "name": "python",
   "nbconvert_exporter": "python",
   "pygments_lexer": "ipython3",
   "version": "3.8.5"
  },
  "toc": {
   "base_numbering": 1,
   "nav_menu": {},
   "number_sections": true,
   "sideBar": true,
   "skip_h1_title": true,
   "title_cell": "Table of Contents",
   "title_sidebar": "Contents",
   "toc_cell": false,
   "toc_position": {},
   "toc_section_display": true,
   "toc_window_display": false
  }
 },
 "nbformat": 4,
 "nbformat_minor": 2
}
