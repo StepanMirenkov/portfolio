{
 "cells": [
  {
   "cell_type": "markdown",
   "metadata": {},
   "source": [
    "# Выбор локации для скважины"
   ]
  },
  {
   "cell_type": "markdown",
   "metadata": {},
   "source": [
    "Допустим, вы работаете в добывающей компании «ГлавРосГосНефть». Нужно решить, где бурить новую скважину.\n",
    "\n",
    "Вам предоставлены пробы нефти в трёх регионах: в каждом 10 000 месторождений, где измерили качество нефти и объём её запасов. Постройте модель машинного обучения, которая поможет определить регион, где добыча принесёт наибольшую прибыль. Проанализируйте возможную прибыль и риски техникой *Bootstrap.*\n",
    "\n",
    "Шаги для выбора локации:\n",
    "\n",
    "- В избранном регионе ищут месторождения, для каждого определяют значения признаков;\n",
    "- Строят модель и оценивают объём запасов;\n",
    "- Выбирают месторождения с самым высокими оценками значений. Количество месторождений зависит от бюджета компании и стоимости разработки одной скважины;\n",
    "- Прибыль равна суммарной прибыли отобранных месторождений."
   ]
  },
  {
   "cell_type": "markdown",
   "metadata": {},
   "source": [
    "## Загрузка и подготовка данных"
   ]
  },
  {
   "cell_type": "markdown",
   "metadata": {},
   "source": [
    "### Импортируем нужные библиотеки и функции"
   ]
  },
  {
   "cell_type": "code",
   "execution_count": 1,
   "metadata": {},
   "outputs": [],
   "source": [
    "import pandas as pd\n",
    "import numpy as np\n",
    "from scipy import stats as st\n",
    "from sklearn.linear_model import LinearRegression\n",
    "from sklearn.preprocessing import StandardScaler\n",
    "from sklearn.model_selection import train_test_split\n",
    "from sklearn.metrics import mean_squared_error"
   ]
  },
  {
   "cell_type": "markdown",
   "metadata": {},
   "source": [
    "### Записываем данные о регионах в переменные"
   ]
  },
  {
   "cell_type": "code",
   "execution_count": 2,
   "metadata": {},
   "outputs": [],
   "source": [
    "try:\n",
    "    region_1 = pd.read_csv('/datasets/geo_data_0.csv')\n",
    "    region_2 = pd.read_csv('/datasets/geo_data_1.csv')\n",
    "    region_3 = pd.read_csv('/datasets/geo_data_2.csv')\n",
    "    \n",
    "except:\n",
    "    region_1 = pd.read_csv('D:\\\\geo_data_0.csv')\n",
    "    region_2 = pd.read_csv('D:\\\\geo_data_1.csv')\n",
    "    region_3 = pd.read_csv('D:\\\\geo_data_2.csv')"
   ]
  },
  {
   "cell_type": "markdown",
   "metadata": {},
   "source": [
    "### Изучаем данные о регионах"
   ]
  },
  {
   "cell_type": "markdown",
   "metadata": {},
   "source": [
    "Данные распределены по 3-м датафреймам, поэтому для каждого датафрейма вызовем 4 функции - info, чтобы оценить общую информацию о датафрейме, наличие пропусков и т.п., hist всех числовых параметров - чтобы визуально оценить распределение, минимальные и максимальные значения параметров, часто встречающиеся значения и т.п., corr - чтобы отследить корреляцию между признаками и head чтобы оценить встречающиеся в датафрейме данные."
   ]
  },
  {
   "cell_type": "markdown",
   "metadata": {},
   "source": [
    "#### Первый регион"
   ]
  },
  {
   "cell_type": "code",
   "execution_count": 3,
   "metadata": {
    "scrolled": false
   },
   "outputs": [
    {
     "name": "stdout",
     "output_type": "stream",
     "text": [
      "<class 'pandas.core.frame.DataFrame'>\n",
      "RangeIndex: 100000 entries, 0 to 99999\n",
      "Data columns (total 5 columns):\n",
      " #   Column   Non-Null Count   Dtype  \n",
      "---  ------   --------------   -----  \n",
      " 0   id       100000 non-null  object \n",
      " 1   f0       100000 non-null  float64\n",
      " 2   f1       100000 non-null  float64\n",
      " 3   f2       100000 non-null  float64\n",
      " 4   product  100000 non-null  float64\n",
      "dtypes: float64(4), object(1)\n",
      "memory usage: 3.8+ MB\n",
      "\n",
      "Корреляция с целевым показателем product\n",
      "                f0        f1        f2   product\n",
      "f0       1.000000 -0.440723 -0.003153  0.143536\n",
      "f1      -0.440723  1.000000  0.001724 -0.192356\n",
      "f2      -0.003153  0.001724  1.000000  0.483663\n",
      "product  0.143536 -0.192356  0.483663  1.000000\n"
     ]
    },
    {
     "data": {
      "text/html": [
       "<div>\n",
       "<style scoped>\n",
       "    .dataframe tbody tr th:only-of-type {\n",
       "        vertical-align: middle;\n",
       "    }\n",
       "\n",
       "    .dataframe tbody tr th {\n",
       "        vertical-align: top;\n",
       "    }\n",
       "\n",
       "    .dataframe thead th {\n",
       "        text-align: right;\n",
       "    }\n",
       "</style>\n",
       "<table border=\"1\" class=\"dataframe\">\n",
       "  <thead>\n",
       "    <tr style=\"text-align: right;\">\n",
       "      <th></th>\n",
       "      <th>id</th>\n",
       "      <th>f0</th>\n",
       "      <th>f1</th>\n",
       "      <th>f2</th>\n",
       "      <th>product</th>\n",
       "    </tr>\n",
       "  </thead>\n",
       "  <tbody>\n",
       "    <tr>\n",
       "      <th>0</th>\n",
       "      <td>txEyH</td>\n",
       "      <td>0.705745</td>\n",
       "      <td>-0.497823</td>\n",
       "      <td>1.221170</td>\n",
       "      <td>105.280062</td>\n",
       "    </tr>\n",
       "    <tr>\n",
       "      <th>1</th>\n",
       "      <td>2acmU</td>\n",
       "      <td>1.334711</td>\n",
       "      <td>-0.340164</td>\n",
       "      <td>4.365080</td>\n",
       "      <td>73.037750</td>\n",
       "    </tr>\n",
       "    <tr>\n",
       "      <th>2</th>\n",
       "      <td>409Wp</td>\n",
       "      <td>1.022732</td>\n",
       "      <td>0.151990</td>\n",
       "      <td>1.419926</td>\n",
       "      <td>85.265647</td>\n",
       "    </tr>\n",
       "    <tr>\n",
       "      <th>3</th>\n",
       "      <td>iJLyR</td>\n",
       "      <td>-0.032172</td>\n",
       "      <td>0.139033</td>\n",
       "      <td>2.978566</td>\n",
       "      <td>168.620776</td>\n",
       "    </tr>\n",
       "    <tr>\n",
       "      <th>4</th>\n",
       "      <td>Xdl7t</td>\n",
       "      <td>1.988431</td>\n",
       "      <td>0.155413</td>\n",
       "      <td>4.751769</td>\n",
       "      <td>154.036647</td>\n",
       "    </tr>\n",
       "    <tr>\n",
       "      <th>5</th>\n",
       "      <td>wX4Hy</td>\n",
       "      <td>0.969570</td>\n",
       "      <td>0.489775</td>\n",
       "      <td>-0.735383</td>\n",
       "      <td>64.741541</td>\n",
       "    </tr>\n",
       "    <tr>\n",
       "      <th>6</th>\n",
       "      <td>tL6pL</td>\n",
       "      <td>0.645075</td>\n",
       "      <td>0.530656</td>\n",
       "      <td>1.780266</td>\n",
       "      <td>49.055285</td>\n",
       "    </tr>\n",
       "    <tr>\n",
       "      <th>7</th>\n",
       "      <td>BYPU6</td>\n",
       "      <td>-0.400648</td>\n",
       "      <td>0.808337</td>\n",
       "      <td>-5.624670</td>\n",
       "      <td>72.943292</td>\n",
       "    </tr>\n",
       "    <tr>\n",
       "      <th>8</th>\n",
       "      <td>j9Oui</td>\n",
       "      <td>0.643105</td>\n",
       "      <td>-0.551583</td>\n",
       "      <td>2.372141</td>\n",
       "      <td>113.356160</td>\n",
       "    </tr>\n",
       "    <tr>\n",
       "      <th>9</th>\n",
       "      <td>OLuZU</td>\n",
       "      <td>2.173381</td>\n",
       "      <td>0.563698</td>\n",
       "      <td>9.441852</td>\n",
       "      <td>127.910945</td>\n",
       "    </tr>\n",
       "    <tr>\n",
       "      <th>10</th>\n",
       "      <td>b8WQ6</td>\n",
       "      <td>0.371066</td>\n",
       "      <td>-0.036585</td>\n",
       "      <td>0.009208</td>\n",
       "      <td>70.326617</td>\n",
       "    </tr>\n",
       "    <tr>\n",
       "      <th>11</th>\n",
       "      <td>1YYm1</td>\n",
       "      <td>0.015920</td>\n",
       "      <td>1.062729</td>\n",
       "      <td>-0.722248</td>\n",
       "      <td>45.110381</td>\n",
       "    </tr>\n",
       "    <tr>\n",
       "      <th>12</th>\n",
       "      <td>zIYPq</td>\n",
       "      <td>-0.276476</td>\n",
       "      <td>0.924865</td>\n",
       "      <td>0.095584</td>\n",
       "      <td>89.158678</td>\n",
       "    </tr>\n",
       "    <tr>\n",
       "      <th>13</th>\n",
       "      <td>iqTqq</td>\n",
       "      <td>0.212696</td>\n",
       "      <td>-0.111147</td>\n",
       "      <td>5.770095</td>\n",
       "      <td>164.298520</td>\n",
       "    </tr>\n",
       "    <tr>\n",
       "      <th>14</th>\n",
       "      <td>Ct5yY</td>\n",
       "      <td>-0.018578</td>\n",
       "      <td>0.187516</td>\n",
       "      <td>2.944683</td>\n",
       "      <td>158.633720</td>\n",
       "    </tr>\n",
       "    <tr>\n",
       "      <th>15</th>\n",
       "      <td>Q77WQ</td>\n",
       "      <td>1.324566</td>\n",
       "      <td>-0.419149</td>\n",
       "      <td>-4.097429</td>\n",
       "      <td>60.677876</td>\n",
       "    </tr>\n",
       "    <tr>\n",
       "      <th>16</th>\n",
       "      <td>6vJcD</td>\n",
       "      <td>-0.000247</td>\n",
       "      <td>0.360146</td>\n",
       "      <td>0.794115</td>\n",
       "      <td>163.143987</td>\n",
       "    </tr>\n",
       "    <tr>\n",
       "      <th>17</th>\n",
       "      <td>AgRR6</td>\n",
       "      <td>0.380913</td>\n",
       "      <td>1.114558</td>\n",
       "      <td>0.992377</td>\n",
       "      <td>125.942543</td>\n",
       "    </tr>\n",
       "    <tr>\n",
       "      <th>18</th>\n",
       "      <td>tgSSC</td>\n",
       "      <td>0.160021</td>\n",
       "      <td>0.788151</td>\n",
       "      <td>7.629164</td>\n",
       "      <td>113.793566</td>\n",
       "    </tr>\n",
       "    <tr>\n",
       "      <th>19</th>\n",
       "      <td>s2g8E</td>\n",
       "      <td>0.593078</td>\n",
       "      <td>-0.414964</td>\n",
       "      <td>-0.715774</td>\n",
       "      <td>28.207978</td>\n",
       "    </tr>\n",
       "  </tbody>\n",
       "</table>\n",
       "</div>"
      ],
      "text/plain": [
       "       id        f0        f1        f2     product\n",
       "0   txEyH  0.705745 -0.497823  1.221170  105.280062\n",
       "1   2acmU  1.334711 -0.340164  4.365080   73.037750\n",
       "2   409Wp  1.022732  0.151990  1.419926   85.265647\n",
       "3   iJLyR -0.032172  0.139033  2.978566  168.620776\n",
       "4   Xdl7t  1.988431  0.155413  4.751769  154.036647\n",
       "5   wX4Hy  0.969570  0.489775 -0.735383   64.741541\n",
       "6   tL6pL  0.645075  0.530656  1.780266   49.055285\n",
       "7   BYPU6 -0.400648  0.808337 -5.624670   72.943292\n",
       "8   j9Oui  0.643105 -0.551583  2.372141  113.356160\n",
       "9   OLuZU  2.173381  0.563698  9.441852  127.910945\n",
       "10  b8WQ6  0.371066 -0.036585  0.009208   70.326617\n",
       "11  1YYm1  0.015920  1.062729 -0.722248   45.110381\n",
       "12  zIYPq -0.276476  0.924865  0.095584   89.158678\n",
       "13  iqTqq  0.212696 -0.111147  5.770095  164.298520\n",
       "14  Ct5yY -0.018578  0.187516  2.944683  158.633720\n",
       "15  Q77WQ  1.324566 -0.419149 -4.097429   60.677876\n",
       "16  6vJcD -0.000247  0.360146  0.794115  163.143987\n",
       "17  AgRR6  0.380913  1.114558  0.992377  125.942543\n",
       "18  tgSSC  0.160021  0.788151  7.629164  113.793566\n",
       "19  s2g8E  0.593078 -0.414964 -0.715774   28.207978"
      ]
     },
     "execution_count": 3,
     "metadata": {},
     "output_type": "execute_result"
    },
    {
     "data": {
      "image/png": "[encoded data removed]",
      "text/plain": [
       "<Figure size 720x576 with 4 Axes>"
      ]
     },
     "metadata": {
      "needs_background": "light"
     },
     "output_type": "display_data"
    }
   ],
   "source": [
    "region_1.info()\n",
    "region_1.hist(figsize=(10, 8));\n",
    "print()\n",
    "print('Корреляция с целевым показателем product\\n', region_1.corr())\n",
    "region_1.head(20)"
   ]
  },
  {
   "cell_type": "markdown",
   "metadata": {},
   "source": [
    "Пустых значений нет, все столбцы имеют нужный тип, сильной корреляции не обнаружено, данные распределены близко к нормальному, кажется, с этим датафреймом всё в порядке. Сразу отмечаем, что столбец 'id' хранит в себе уникальный идентефикатор скважины, нужно будет проверить его на предмет дубликатов и потом отбросить, т.к. он бесполезен при машинном обучении."
   ]
  },
  {
   "cell_type": "markdown",
   "metadata": {},
   "source": [
    "#### Второй регион"
   ]
  },
  {
   "cell_type": "code",
   "execution_count": 4,
   "metadata": {
    "scrolled": false
   },
   "outputs": [
    {
     "name": "stdout",
     "output_type": "stream",
     "text": [
      "<class 'pandas.core.frame.DataFrame'>\n",
      "RangeIndex: 100000 entries, 0 to 99999\n",
      "Data columns (total 5 columns):\n",
      " #   Column   Non-Null Count   Dtype  \n",
      "---  ------   --------------   -----  \n",
      " 0   id       100000 non-null  object \n",
      " 1   f0       100000 non-null  float64\n",
      " 2   f1       100000 non-null  float64\n",
      " 3   f2       100000 non-null  float64\n",
      " 4   product  100000 non-null  float64\n",
      "dtypes: float64(4), object(1)\n",
      "memory usage: 3.8+ MB\n",
      "\n",
      "Корреляция с целевым показателем product\n",
      "                f0        f1        f2   product\n",
      "f0       1.000000  0.182287 -0.001777 -0.030491\n",
      "f1       0.182287  1.000000 -0.002595 -0.010155\n",
      "f2      -0.001777 -0.002595  1.000000  0.999397\n",
      "product -0.030491 -0.010155  0.999397  1.000000\n"
     ]
    },
    {
     "data": {
      "text/html": [
       "<div>\n",
       "<style scoped>\n",
       "    .dataframe tbody tr th:only-of-type {\n",
       "        vertical-align: middle;\n",
       "    }\n",
       "\n",
       "    .dataframe tbody tr th {\n",
       "        vertical-align: top;\n",
       "    }\n",
       "\n",
       "    .dataframe thead th {\n",
       "        text-align: right;\n",
       "    }\n",
       "</style>\n",
       "<table border=\"1\" class=\"dataframe\">\n",
       "  <thead>\n",
       "    <tr style=\"text-align: right;\">\n",
       "      <th></th>\n",
       "      <th>id</th>\n",
       "      <th>f0</th>\n",
       "      <th>f1</th>\n",
       "      <th>f2</th>\n",
       "      <th>product</th>\n",
       "    </tr>\n",
       "  </thead>\n",
       "  <tbody>\n",
       "    <tr>\n",
       "      <th>0</th>\n",
       "      <td>kBEdx</td>\n",
       "      <td>-15.001348</td>\n",
       "      <td>-8.276000</td>\n",
       "      <td>-0.005876</td>\n",
       "      <td>3.179103</td>\n",
       "    </tr>\n",
       "    <tr>\n",
       "      <th>1</th>\n",
       "      <td>62mP7</td>\n",
       "      <td>14.272088</td>\n",
       "      <td>-3.475083</td>\n",
       "      <td>0.999183</td>\n",
       "      <td>26.953261</td>\n",
       "    </tr>\n",
       "    <tr>\n",
       "      <th>2</th>\n",
       "      <td>vyE1P</td>\n",
       "      <td>6.263187</td>\n",
       "      <td>-5.948386</td>\n",
       "      <td>5.001160</td>\n",
       "      <td>134.766305</td>\n",
       "    </tr>\n",
       "    <tr>\n",
       "      <th>3</th>\n",
       "      <td>KcrkZ</td>\n",
       "      <td>-13.081196</td>\n",
       "      <td>-11.506057</td>\n",
       "      <td>4.999415</td>\n",
       "      <td>137.945408</td>\n",
       "    </tr>\n",
       "    <tr>\n",
       "      <th>4</th>\n",
       "      <td>AHL4O</td>\n",
       "      <td>12.702195</td>\n",
       "      <td>-8.147433</td>\n",
       "      <td>5.004363</td>\n",
       "      <td>134.766305</td>\n",
       "    </tr>\n",
       "    <tr>\n",
       "      <th>5</th>\n",
       "      <td>HHckp</td>\n",
       "      <td>-3.327590</td>\n",
       "      <td>-2.205276</td>\n",
       "      <td>3.003647</td>\n",
       "      <td>84.038886</td>\n",
       "    </tr>\n",
       "    <tr>\n",
       "      <th>6</th>\n",
       "      <td>h5Ujo</td>\n",
       "      <td>-11.142655</td>\n",
       "      <td>-10.133399</td>\n",
       "      <td>4.002382</td>\n",
       "      <td>110.992147</td>\n",
       "    </tr>\n",
       "    <tr>\n",
       "      <th>7</th>\n",
       "      <td>muH9x</td>\n",
       "      <td>4.234715</td>\n",
       "      <td>-0.001354</td>\n",
       "      <td>2.004588</td>\n",
       "      <td>53.906522</td>\n",
       "    </tr>\n",
       "    <tr>\n",
       "      <th>8</th>\n",
       "      <td>YiRkx</td>\n",
       "      <td>13.355129</td>\n",
       "      <td>-0.332068</td>\n",
       "      <td>4.998647</td>\n",
       "      <td>134.766305</td>\n",
       "    </tr>\n",
       "    <tr>\n",
       "      <th>9</th>\n",
       "      <td>jG6Gi</td>\n",
       "      <td>1.069227</td>\n",
       "      <td>-11.025667</td>\n",
       "      <td>4.997844</td>\n",
       "      <td>137.945408</td>\n",
       "    </tr>\n",
       "    <tr>\n",
       "      <th>10</th>\n",
       "      <td>7uHUe</td>\n",
       "      <td>11.777049</td>\n",
       "      <td>-5.334084</td>\n",
       "      <td>2.003033</td>\n",
       "      <td>53.906522</td>\n",
       "    </tr>\n",
       "    <tr>\n",
       "      <th>11</th>\n",
       "      <td>OXyvW</td>\n",
       "      <td>16.320755</td>\n",
       "      <td>-0.562946</td>\n",
       "      <td>-0.001783</td>\n",
       "      <td>0.000000</td>\n",
       "    </tr>\n",
       "    <tr>\n",
       "      <th>12</th>\n",
       "      <td>cB8re</td>\n",
       "      <td>7.736313</td>\n",
       "      <td>-6.093374</td>\n",
       "      <td>3.982531</td>\n",
       "      <td>107.813044</td>\n",
       "    </tr>\n",
       "    <tr>\n",
       "      <th>13</th>\n",
       "      <td>igmai</td>\n",
       "      <td>6.695604</td>\n",
       "      <td>-0.749449</td>\n",
       "      <td>-0.007630</td>\n",
       "      <td>0.000000</td>\n",
       "    </tr>\n",
       "    <tr>\n",
       "      <th>14</th>\n",
       "      <td>3OdkE</td>\n",
       "      <td>-10.985487</td>\n",
       "      <td>-5.605994</td>\n",
       "      <td>2.991130</td>\n",
       "      <td>84.038886</td>\n",
       "    </tr>\n",
       "    <tr>\n",
       "      <th>15</th>\n",
       "      <td>3tVUO</td>\n",
       "      <td>-0.347599</td>\n",
       "      <td>-6.275884</td>\n",
       "      <td>-0.003448</td>\n",
       "      <td>3.179103</td>\n",
       "    </tr>\n",
       "    <tr>\n",
       "      <th>16</th>\n",
       "      <td>siveY</td>\n",
       "      <td>12.300570</td>\n",
       "      <td>2.944454</td>\n",
       "      <td>2.005541</td>\n",
       "      <td>53.906522</td>\n",
       "    </tr>\n",
       "    <tr>\n",
       "      <th>17</th>\n",
       "      <td>gIqzq</td>\n",
       "      <td>8.900460</td>\n",
       "      <td>-5.632857</td>\n",
       "      <td>4.994324</td>\n",
       "      <td>134.766305</td>\n",
       "    </tr>\n",
       "    <tr>\n",
       "      <th>18</th>\n",
       "      <td>zO5EU</td>\n",
       "      <td>-13.412826</td>\n",
       "      <td>-4.729495</td>\n",
       "      <td>2.998590</td>\n",
       "      <td>84.038886</td>\n",
       "    </tr>\n",
       "    <tr>\n",
       "      <th>19</th>\n",
       "      <td>dkcEb</td>\n",
       "      <td>-4.373526</td>\n",
       "      <td>-8.590017</td>\n",
       "      <td>2.995379</td>\n",
       "      <td>84.038886</td>\n",
       "    </tr>\n",
       "  </tbody>\n",
       "</table>\n",
       "</div>"
      ],
      "text/plain": [
       "       id         f0         f1        f2     product\n",
       "0   kBEdx -15.001348  -8.276000 -0.005876    3.179103\n",
       "1   62mP7  14.272088  -3.475083  0.999183   26.953261\n",
       "2   vyE1P   6.263187  -5.948386  5.001160  134.766305\n",
       "3   KcrkZ -13.081196 -11.506057  4.999415  137.945408\n",
       "4   AHL4O  12.702195  -8.147433  5.004363  134.766305\n",
       "5   HHckp  -3.327590  -2.205276  3.003647   84.038886\n",
       "6   h5Ujo -11.142655 -10.133399  4.002382  110.992147\n",
       "7   muH9x   4.234715  -0.001354  2.004588   53.906522\n",
       "8   YiRkx  13.355129  -0.332068  4.998647  134.766305\n",
       "9   jG6Gi   1.069227 -11.025667  4.997844  137.945408\n",
       "10  7uHUe  11.777049  -5.334084  2.003033   53.906522\n",
       "11  OXyvW  16.320755  -0.562946 -0.001783    0.000000\n",
       "12  cB8re   7.736313  -6.093374  3.982531  107.813044\n",
       "13  igmai   6.695604  -0.749449 -0.007630    0.000000\n",
       "14  3OdkE -10.985487  -5.605994  2.991130   84.038886\n",
       "15  3tVUO  -0.347599  -6.275884 -0.003448    3.179103\n",
       "16  siveY  12.300570   2.944454  2.005541   53.906522\n",
       "17  gIqzq   8.900460  -5.632857  4.994324  134.766305\n",
       "18  zO5EU -13.412826  -4.729495  2.998590   84.038886\n",
       "19  dkcEb  -4.373526  -8.590017  2.995379   84.038886"
      ]
     },
     "execution_count": 4,
     "metadata": {},
     "output_type": "execute_result"
    },
    {
     "data": {
      "image/png": "[encoded data removed]",
      "text/plain": [
       "<Figure size 720x576 with 4 Axes>"
      ]
     },
     "metadata": {
      "needs_background": "light"
     },
     "output_type": "display_data"
    }
   ],
   "source": [
    "region_2.info()\n",
    "region_2.hist(figsize=(10, 8));\n",
    "print()\n",
    "print('Корреляция с целевым показателем product\\n', region_2.corr())\n",
    "region_2.head(20)"
   ]
  },
  {
   "cell_type": "markdown",
   "metadata": {},
   "source": [
    "Пропусков нет, но параметр 'f2' и целевой признак 'product' распределены ненормально, а их коэффициент корреляции почти единица. Если это не утечка целевого признака (по гистограмме можно предположить как это, так и обратное), то это хорошая корреляция, а между собой остальные параметры распределены близко к нормальному и других сильных корреляций нет. Можем отметить что средние значения параметров гораздо больше чем у первой выборки, если все выборки имеют стандартные значения параметров."
   ]
  },
  {
   "cell_type": "markdown",
   "metadata": {},
   "source": [
    "#### Третий регион"
   ]
  },
  {
   "cell_type": "code",
   "execution_count": 5,
   "metadata": {
    "scrolled": false
   },
   "outputs": [
    {
     "name": "stdout",
     "output_type": "stream",
     "text": [
      "<class 'pandas.core.frame.DataFrame'>\n",
      "RangeIndex: 100000 entries, 0 to 99999\n",
      "Data columns (total 5 columns):\n",
      " #   Column   Non-Null Count   Dtype  \n",
      "---  ------   --------------   -----  \n",
      " 0   id       100000 non-null  object \n",
      " 1   f0       100000 non-null  float64\n",
      " 2   f1       100000 non-null  float64\n",
      " 3   f2       100000 non-null  float64\n",
      " 4   product  100000 non-null  float64\n",
      "dtypes: float64(4), object(1)\n",
      "memory usage: 3.8+ MB\n",
      "\n",
      "Корреляция с целевым показателем product\n",
      "                f0        f1        f2   product\n",
      "f0       1.000000  0.000528 -0.000448 -0.001987\n",
      "f1       0.000528  1.000000  0.000779 -0.001012\n",
      "f2      -0.000448  0.000779  1.000000  0.445871\n",
      "product -0.001987 -0.001012  0.445871  1.000000\n"
     ]
    },
    {
     "data": {
      "text/html": [
       "<div>\n",
       "<style scoped>\n",
       "    .dataframe tbody tr th:only-of-type {\n",
       "        vertical-align: middle;\n",
       "    }\n",
       "\n",
       "    .dataframe tbody tr th {\n",
       "        vertical-align: top;\n",
       "    }\n",
       "\n",
       "    .dataframe thead th {\n",
       "        text-align: right;\n",
       "    }\n",
       "</style>\n",
       "<table border=\"1\" class=\"dataframe\">\n",
       "  <thead>\n",
       "    <tr style=\"text-align: right;\">\n",
       "      <th></th>\n",
       "      <th>id</th>\n",
       "      <th>f0</th>\n",
       "      <th>f1</th>\n",
       "      <th>f2</th>\n",
       "      <th>product</th>\n",
       "    </tr>\n",
       "  </thead>\n",
       "  <tbody>\n",
       "    <tr>\n",
       "      <th>0</th>\n",
       "      <td>fwXo0</td>\n",
       "      <td>-1.146987</td>\n",
       "      <td>0.963328</td>\n",
       "      <td>-0.828965</td>\n",
       "      <td>27.758673</td>\n",
       "    </tr>\n",
       "    <tr>\n",
       "      <th>1</th>\n",
       "      <td>WJtFt</td>\n",
       "      <td>0.262778</td>\n",
       "      <td>0.269839</td>\n",
       "      <td>-2.530187</td>\n",
       "      <td>56.069697</td>\n",
       "    </tr>\n",
       "    <tr>\n",
       "      <th>2</th>\n",
       "      <td>ovLUW</td>\n",
       "      <td>0.194587</td>\n",
       "      <td>0.289035</td>\n",
       "      <td>-5.586433</td>\n",
       "      <td>62.871910</td>\n",
       "    </tr>\n",
       "    <tr>\n",
       "      <th>3</th>\n",
       "      <td>q6cA6</td>\n",
       "      <td>2.236060</td>\n",
       "      <td>-0.553760</td>\n",
       "      <td>0.930038</td>\n",
       "      <td>114.572842</td>\n",
       "    </tr>\n",
       "    <tr>\n",
       "      <th>4</th>\n",
       "      <td>WPMUX</td>\n",
       "      <td>-0.515993</td>\n",
       "      <td>1.716266</td>\n",
       "      <td>5.899011</td>\n",
       "      <td>149.600746</td>\n",
       "    </tr>\n",
       "    <tr>\n",
       "      <th>5</th>\n",
       "      <td>LzZXx</td>\n",
       "      <td>-0.758092</td>\n",
       "      <td>0.710691</td>\n",
       "      <td>2.585887</td>\n",
       "      <td>90.222465</td>\n",
       "    </tr>\n",
       "    <tr>\n",
       "      <th>6</th>\n",
       "      <td>WBHRv</td>\n",
       "      <td>-0.574891</td>\n",
       "      <td>0.317727</td>\n",
       "      <td>1.773745</td>\n",
       "      <td>45.641478</td>\n",
       "    </tr>\n",
       "    <tr>\n",
       "      <th>7</th>\n",
       "      <td>XO8fn</td>\n",
       "      <td>-1.906649</td>\n",
       "      <td>-2.458350</td>\n",
       "      <td>-0.177097</td>\n",
       "      <td>72.480640</td>\n",
       "    </tr>\n",
       "    <tr>\n",
       "      <th>8</th>\n",
       "      <td>ybmQ5</td>\n",
       "      <td>1.776292</td>\n",
       "      <td>-0.279356</td>\n",
       "      <td>3.004156</td>\n",
       "      <td>106.616832</td>\n",
       "    </tr>\n",
       "    <tr>\n",
       "      <th>9</th>\n",
       "      <td>OilcN</td>\n",
       "      <td>-1.214452</td>\n",
       "      <td>-0.439314</td>\n",
       "      <td>5.922514</td>\n",
       "      <td>52.954532</td>\n",
       "    </tr>\n",
       "    <tr>\n",
       "      <th>10</th>\n",
       "      <td>myq2g</td>\n",
       "      <td>0.628659</td>\n",
       "      <td>-2.120049</td>\n",
       "      <td>5.362437</td>\n",
       "      <td>166.799132</td>\n",
       "    </tr>\n",
       "    <tr>\n",
       "      <th>11</th>\n",
       "      <td>V9R1y</td>\n",
       "      <td>-0.544565</td>\n",
       "      <td>0.039088</td>\n",
       "      <td>8.635293</td>\n",
       "      <td>150.859435</td>\n",
       "    </tr>\n",
       "    <tr>\n",
       "      <th>12</th>\n",
       "      <td>bKDo0</td>\n",
       "      <td>-0.960453</td>\n",
       "      <td>-0.127113</td>\n",
       "      <td>7.764734</td>\n",
       "      <td>96.910855</td>\n",
       "    </tr>\n",
       "    <tr>\n",
       "      <th>13</th>\n",
       "      <td>eXvhs</td>\n",
       "      <td>1.432891</td>\n",
       "      <td>-1.242074</td>\n",
       "      <td>3.557168</td>\n",
       "      <td>8.704162</td>\n",
       "    </tr>\n",
       "    <tr>\n",
       "      <th>14</th>\n",
       "      <td>wI4j3</td>\n",
       "      <td>-0.935464</td>\n",
       "      <td>2.420523</td>\n",
       "      <td>1.150536</td>\n",
       "      <td>116.829811</td>\n",
       "    </tr>\n",
       "    <tr>\n",
       "      <th>15</th>\n",
       "      <td>XOWTx</td>\n",
       "      <td>-2.628353</td>\n",
       "      <td>0.937303</td>\n",
       "      <td>0.057847</td>\n",
       "      <td>68.655498</td>\n",
       "    </tr>\n",
       "    <tr>\n",
       "      <th>16</th>\n",
       "      <td>2oVFv</td>\n",
       "      <td>-0.428050</td>\n",
       "      <td>-2.246556</td>\n",
       "      <td>6.970420</td>\n",
       "      <td>84.500464</td>\n",
       "    </tr>\n",
       "    <tr>\n",
       "      <th>17</th>\n",
       "      <td>0wbDA</td>\n",
       "      <td>0.735307</td>\n",
       "      <td>0.913124</td>\n",
       "      <td>7.899539</td>\n",
       "      <td>96.284701</td>\n",
       "    </tr>\n",
       "    <tr>\n",
       "      <th>18</th>\n",
       "      <td>NhHaR</td>\n",
       "      <td>0.706261</td>\n",
       "      <td>-0.993553</td>\n",
       "      <td>3.155582</td>\n",
       "      <td>48.052268</td>\n",
       "    </tr>\n",
       "    <tr>\n",
       "      <th>19</th>\n",
       "      <td>DMNMZ</td>\n",
       "      <td>-1.867846</td>\n",
       "      <td>2.744144</td>\n",
       "      <td>5.918278</td>\n",
       "      <td>153.815137</td>\n",
       "    </tr>\n",
       "  </tbody>\n",
       "</table>\n",
       "</div>"
      ],
      "text/plain": [
       "       id        f0        f1        f2     product\n",
       "0   fwXo0 -1.146987  0.963328 -0.828965   27.758673\n",
       "1   WJtFt  0.262778  0.269839 -2.530187   56.069697\n",
       "2   ovLUW  0.194587  0.289035 -5.586433   62.871910\n",
       "3   q6cA6  2.236060 -0.553760  0.930038  114.572842\n",
       "4   WPMUX -0.515993  1.716266  5.899011  149.600746\n",
       "5   LzZXx -0.758092  0.710691  2.585887   90.222465\n",
       "6   WBHRv -0.574891  0.317727  1.773745   45.641478\n",
       "7   XO8fn -1.906649 -2.458350 -0.177097   72.480640\n",
       "8   ybmQ5  1.776292 -0.279356  3.004156  106.616832\n",
       "9   OilcN -1.214452 -0.439314  5.922514   52.954532\n",
       "10  myq2g  0.628659 -2.120049  5.362437  166.799132\n",
       "11  V9R1y -0.544565  0.039088  8.635293  150.859435\n",
       "12  bKDo0 -0.960453 -0.127113  7.764734   96.910855\n",
       "13  eXvhs  1.432891 -1.242074  3.557168    8.704162\n",
       "14  wI4j3 -0.935464  2.420523  1.150536  116.829811\n",
       "15  XOWTx -2.628353  0.937303  0.057847   68.655498\n",
       "16  2oVFv -0.428050 -2.246556  6.970420   84.500464\n",
       "17  0wbDA  0.735307  0.913124  7.899539   96.284701\n",
       "18  NhHaR  0.706261 -0.993553  3.155582   48.052268\n",
       "19  DMNMZ -1.867846  2.744144  5.918278  153.815137"
      ]
     },
     "execution_count": 5,
     "metadata": {},
     "output_type": "execute_result"
    },
    {
     "data": {
      "image/png": "[encoded data removed]",
      "text/plain": [
       "<Figure size 720x576 with 4 Axes>"
      ]
     },
     "metadata": {
      "needs_background": "light"
     },
     "output_type": "display_data"
    }
   ],
   "source": [
    "region_3.info()\n",
    "region_3.hist(figsize=(10, 8));\n",
    "print()\n",
    "print('Корреляция с целевым показателем product\\n', region_3.corr())\n",
    "region_3.head(20)"
   ]
  },
  {
   "cell_type": "markdown",
   "metadata": {},
   "source": [
    "Данные распределены близко к нормальному, сильных корреляций между параметрами нет, пропусков тоже нет. Средние значения признаков между первым и вторым датафреймом, после проверки на дубликаты наверное лучше стандартизировать параметры всех выборок. "
   ]
  },
  {
   "cell_type": "markdown",
   "metadata": {},
   "source": [
    "### Проверка на дубликаты"
   ]
  },
  {
   "cell_type": "markdown",
   "metadata": {},
   "source": [
    "Для начала проверим датафреймы на явные дубликаты"
   ]
  },
  {
   "cell_type": "code",
   "execution_count": 6,
   "metadata": {},
   "outputs": [
    {
     "name": "stdout",
     "output_type": "stream",
     "text": [
      "Количество очевидных дубликатов в датафреймах - 0 0 0\n"
     ]
    }
   ],
   "source": [
    "print('Количество очевидных дубликатов в датафреймах -',\n",
    "      region_1.duplicated().sum(), region_2.duplicated().sum(), region_3.duplicated().sum())"
   ]
  },
  {
   "cell_type": "markdown",
   "metadata": {},
   "source": [
    "Явных дубликатов не обнаружено, но у нас есть столбец 'id', в котором хранятся уникальные идентификаторы всех скважин. Если мы не обнаружим дубликатов и там, то можно смело двигаться дальше"
   ]
  },
  {
   "cell_type": "code",
   "execution_count": 7,
   "metadata": {},
   "outputs": [
    {
     "name": "stdout",
     "output_type": "stream",
     "text": [
      "Количество дубликатов в столбце id - 10 4 4\n"
     ]
    }
   ],
   "source": [
    "print('Количество дубликатов в столбце id -',\n",
    "      region_1.id.duplicated().sum(), region_2.id.duplicated().sum(), region_3.id.duplicated().sum())"
   ]
  },
  {
   "cell_type": "markdown",
   "metadata": {},
   "source": [
    "Обнаружено несколько повторяющихся значений. Мы не знаем - ошибка это или нет, и если нет, и это одна скважина, то какие значения параметров для неё актуальны. Удалим оба вхождения, чтобы избежать возможных рисков вхождения ошибочных данных в выборки"
   ]
  },
  {
   "cell_type": "code",
   "execution_count": 8,
   "metadata": {},
   "outputs": [
    {
     "name": "stdout",
     "output_type": "stream",
     "text": [
      "<class 'pandas.core.frame.DataFrame'>\n",
      "RangeIndex: 99980 entries, 0 to 99979\n",
      "Data columns (total 5 columns):\n",
      " #   Column   Non-Null Count  Dtype  \n",
      "---  ------   --------------  -----  \n",
      " 0   id       99980 non-null  object \n",
      " 1   f0       99980 non-null  float64\n",
      " 2   f1       99980 non-null  float64\n",
      " 3   f2       99980 non-null  float64\n",
      " 4   product  99980 non-null  float64\n",
      "dtypes: float64(4), object(1)\n",
      "memory usage: 3.8+ MB\n",
      "<class 'pandas.core.frame.DataFrame'>\n",
      "RangeIndex: 99992 entries, 0 to 99991\n",
      "Data columns (total 5 columns):\n",
      " #   Column   Non-Null Count  Dtype  \n",
      "---  ------   --------------  -----  \n",
      " 0   id       99992 non-null  object \n",
      " 1   f0       99992 non-null  float64\n",
      " 2   f1       99992 non-null  float64\n",
      " 3   f2       99992 non-null  float64\n",
      " 4   product  99992 non-null  float64\n",
      "dtypes: float64(4), object(1)\n",
      "memory usage: 3.8+ MB\n",
      "<class 'pandas.core.frame.DataFrame'>\n",
      "RangeIndex: 99992 entries, 0 to 99991\n",
      "Data columns (total 5 columns):\n",
      " #   Column   Non-Null Count  Dtype  \n",
      "---  ------   --------------  -----  \n",
      " 0   id       99992 non-null  object \n",
      " 1   f0       99992 non-null  float64\n",
      " 2   f1       99992 non-null  float64\n",
      " 3   f2       99992 non-null  float64\n",
      " 4   product  99992 non-null  float64\n",
      "dtypes: float64(4), object(1)\n",
      "memory usage: 3.8+ MB\n"
     ]
    }
   ],
   "source": [
    "region_1 = region_1.drop_duplicates(subset='id', keep=False).reset_index(drop=True)\n",
    "region_2 = region_2.drop_duplicates(subset='id', keep=False).reset_index(drop=True)\n",
    "region_3 = region_3.drop_duplicates(subset='id', keep=False).reset_index(drop=True)\n",
    "\n",
    "region_1.info()\n",
    "region_2.info()\n",
    "region_3.info()"
   ]
  },
  {
   "cell_type": "markdown",
   "metadata": {},
   "source": [
    "Всё получилось, идём дальше"
   ]
  },
  {
   "cell_type": "markdown",
   "metadata": {},
   "source": [
    "## Обучение и проверка модели"
   ]
  },
  {
   "cell_type": "markdown",
   "metadata": {},
   "source": [
    "На предыдущем этапе мы часто выполняли одни и те же действия с трёмя наборами данных, чтобы не усложнять код мы можем определить функцию для всех действий, которые нам необходимы, и выполнить её на наших данных"
   ]
  },
  {
   "cell_type": "code",
   "execution_count": 10,
   "metadata": {},
   "outputs": [],
   "source": [
    "scaler = StandardScaler()\n",
    "\n",
    "def prediction(data):\n",
    "    X = data.drop(['id', 'product'], axis=1)\n",
    "    y = data['product']\n",
    "    X_train, X_valid, y_train, y_valid = train_test_split(X, y, test_size=0.25, random_state=113)\n",
    "    \n",
    "    X_train = scaler.fit_transform(X_train)\n",
    "    X_valid = scaler.transform(X_valid)\n",
    "    \n",
    "    model = LinearRegression()\n",
    "    model.fit(X_train, y_train)\n",
    "    predictions = pd.Series(model.predict(X_valid), index=y_valid.index)\n",
    "    rmse = mean_squared_error(y_valid, model.predict(X_valid), squared=False)\n",
    "    return y_valid, predictions, rmse"
   ]
  },
  {
   "cell_type": "code",
   "execution_count": 11,
   "metadata": {},
   "outputs": [
    {
     "name": "stdout",
     "output_type": "stream",
     "text": [
      "Средний запас предсказанного сырья  1 региона - 92.72 тыс. баррелей. RMSE модели - 37.798618376108635\n",
      "Средний запас предсказанного сырья  2 региона - 69.37 тыс. баррелей. RMSE модели - 0.8866257842148186\n",
      "Средний запас предсказанного сырья  3 региона - 94.98 тыс. баррелей. RMSE модели - 39.90406582762287\n"
     ]
    }
   ],
   "source": [
    "target_1, predictions_1, rmse_1 = prediction(region_1)\n",
    "print(f'Средний запас предсказанного сырья  1 региона - {predictions_1.mean():.2f} тыс. баррелей. RMSE модели - {rmse_1}')\n",
    "\n",
    "target_2, predictions_2, rmse_2 = prediction(region_2)\n",
    "print(f'Средний запас предсказанного сырья  2 региона - {predictions_2.mean():.2f} тыс. баррелей. RMSE модели - {rmse_2}')\n",
    "\n",
    "target_3, predictions_3, rmse_3 = prediction(region_3)\n",
    "print(f'Средний запас предсказанного сырья  3 региона - {predictions_3.mean():.2f} тыс. баррелей. RMSE модели - {rmse_3}')"
   ]
  },
  {
   "cell_type": "markdown",
   "metadata": {},
   "source": [
    "У 1 и 3 региона больше средний предсказанный запас, но так же RMSE гораздо больше, чем у более скромного на средние баррели второго региона. Если мы вспомним гистограммы из предыдущего этапа, то в 1 и 3 наборе данных распределение столбца product было близко к нормальному, а у второго набора оно было равномерным с двумя пиковыми значениями - возле минимума (нуля) и возле максимума, так что возможно и 200 и 500 скважин с хорошим объемом продукта там может набраться."
   ]
  },
  {
   "cell_type": "markdown",
   "metadata": {},
   "source": [
    "## Подготовка к расчёту прибыли"
   ]
  },
  {
   "cell_type": "markdown",
   "metadata": {},
   "source": [
    "### Сохраняем ключевые значения"
   ]
  },
  {
   "cell_type": "markdown",
   "metadata": {},
   "source": [
    "Чтобы подготовиться к рассчёту прибыли, сохраним все ключевые значения в отдельные глобальные переменные, которые и будем использовать в рассчётах(на случай если они изменятся в будущем, такой параметр как доход с одного барреля весьма вероятно будет ходить вверх-вниз). Наши переменные:\n",
    "- количество точек, которые исследуют при разведке региона (research_spots, значение по умолчанию - 500)\n",
    "- количество точек, которые отбирают для разработки при помощи машинного обучения (top_spots, значение по умолчанию - 200)\n",
    "- бюджет на разработку скважин в регионе (region_budget, значение по условию задачи -  10000000000 (10 млрд.))\n",
    "- доход с одного барреля (barrel_profit, значение по условию задачи - 450)\n",
    "- доход с одной единицы целевого признака product, с тысячи баррелей (pассчитывается по формуле доход с одного барреля * 1000)\n",
    "- максимально допустимая вероятность убытков, превышение которой исключает регион из возможных вариантов (max_loss_prob, значение по умолчанию - 0.025)"
   ]
  },
  {
   "cell_type": "code",
   "execution_count": 12,
   "metadata": {},
   "outputs": [],
   "source": [
    "RESEARCH_SPOTS = 500\n",
    "TOP_SPOTS = 200\n",
    "REGION_BUDGET = 10_000_000_000\n",
    "BARREL_PROFIT = 450\n",
    "PRODUCT_PROFIT = BARREL_PROFIT * 1000\n",
    "MAX_LOSS_PROB = 0.025"
   ]
  },
  {
   "cell_type": "markdown",
   "metadata": {},
   "source": [
    "### Считаем безубыток по новой скважине"
   ]
  },
  {
   "cell_type": "markdown",
   "metadata": {},
   "source": [
    "Теперь посчитаем достаточный объём сырья (единицы product) для безубыточной разработки новой скважины по формуле бюджет региона / количество скважин в регионе / доход с одной единицы сырья"
   ]
  },
  {
   "cell_type": "code",
   "execution_count": 13,
   "metadata": {},
   "outputs": [
    {
     "data": {
      "text/plain": [
       "111.11111111111111"
      ]
     },
     "execution_count": 13,
     "metadata": {},
     "output_type": "execute_result"
    }
   ],
   "source": [
    "REGION_BUDGET / TOP_SPOTS / PRODUCT_PROFIT"
   ]
  },
  {
   "cell_type": "markdown",
   "metadata": {},
   "source": [
    "111 и 1 в периоде. Это больше, чем 93 и 95 единиц в 1 и 3 регионе соответственно, и намного больше, чем во 2 регионе с его 70 баррелями в среднем. Если в 1 и 3 регионе нам необходимо улучшить средний результат примерно на 25%, то во 2 нам требуется увеличение уже более чем на 50% от среднего значения. Разработка второго региона кажется уже менее вероятной, но пока мы не увидим цифры, сдаваться рано.\n",
    "\n",
    "Теперь определим функцию для расчёта прибыли по выбранным скважинам и предсказаниям модели"
   ]
  },
  {
   "cell_type": "markdown",
   "metadata": {},
   "source": [
    "### Определяем функцию для расчёта прибыли"
   ]
  },
  {
   "cell_type": "code",
   "execution_count": 14,
   "metadata": {},
   "outputs": [],
   "source": [
    "def profit(target, predictions):\n",
    "    target.index = range(len(target))\n",
    "    predictions.index = target.index\n",
    "    spots = predictions.sort_values(ascending=False)[:TOP_SPOTS]\n",
    "    income = target[spots.index].sum() * PRODUCT_PROFIT\n",
    "    profit = income - REGION_BUDGET\n",
    "    return profit"
   ]
  },
  {
   "cell_type": "markdown",
   "metadata": {},
   "source": [
    "Посчитаем прибыль с лучших, по предсказаниям наших моделей, скважин каждого региона"
   ]
  },
  {
   "cell_type": "code",
   "execution_count": 15,
   "metadata": {},
   "outputs": [
    {
     "name": "stdout",
     "output_type": "stream",
     "text": [
      "Прибыль с лучших 200 скважин в 1 регионе 3168502834 рублей\n",
      "Прибыль с лучших 200 скважин во 2 регионе 2415086697 рублей\n",
      "Прибыль с лучших 200 скважин в 3 регионе 2778499595 рублей\n"
     ]
    }
   ],
   "source": [
    "print(f'Прибыль с лучших {TOP_SPOTS} скважин в 1 регионе {profit(target_1, predictions_1):.0f} рублей')\n",
    "print(f'Прибыль с лучших {TOP_SPOTS} скважин во 2 регионе {profit(target_2, predictions_2):.0f} рублей')\n",
    "print(f'Прибыль с лучших {TOP_SPOTS} скважин в 3 регионе {profit(target_3, predictions_3):.0f} рублей')"
   ]
  },
  {
   "cell_type": "markdown",
   "metadata": {},
   "source": [
    "Прибыль реально получить во всех трёх регионах, это уже радует! Теперь посчитаем, каком регионе мы в среднем получим самую большую прибыль, и самое главное, в каком у нас минимальный шанс получить убыток"
   ]
  },
  {
   "cell_type": "markdown",
   "metadata": {},
   "source": [
    "## Расчёт прибыли и рисков "
   ]
  },
  {
   "cell_type": "markdown",
   "metadata": {},
   "source": [
    "### Определяем функцию с bootstrap"
   ]
  },
  {
   "cell_type": "markdown",
   "metadata": {},
   "source": [
    "Определяем функцию bootstrap_profit - с её помощью мы создаём 1000 случайных выборок из нашей основной выборки, на которые мы применяем нашу функцию profit\n",
    "\n",
    "Такой объём данных позволит нам получить представление о прибыльности не лучших 200 скважин в регионе, а лучших 200 из 500, которые случайно исследуют при разведке региона"
   ]
  },
  {
   "cell_type": "code",
   "execution_count": 16,
   "metadata": {},
   "outputs": [],
   "source": [
    "state = np.random.RandomState(113)\n",
    "\n",
    "def bootstrap_profit(target, predictions):\n",
    "    values = []\n",
    "    for i in range(1000):\n",
    "        subsample_target = target.sample(n=RESEARCH_SPOTS, replace=True, random_state=state)\n",
    "        subsample_predictions = predictions[subsample_target.index]\n",
    "        values.append(profit(subsample_target, subsample_predictions))\n",
    "    values = pd.Series(values)\n",
    "    mean = values.mean()\n",
    "    lower = values.quantile(0.025)\n",
    "    upper = values.quantile(0.975)\n",
    "    loss = (values < 0).sum() / 1000\n",
    "    return mean, lower, upper, loss"
   ]
  },
  {
   "cell_type": "markdown",
   "metadata": {},
   "source": [
    "### Рассчёт прибыли и рисков"
   ]
  },
  {
   "cell_type": "code",
   "execution_count": 17,
   "metadata": {},
   "outputs": [
    {
     "name": "stdout",
     "output_type": "stream",
     "text": [
      "Регион 1:\n",
      "Средняя прибыль - 413463621 рублей\n",
      "95%-тный доверительный интервал - от -80529388 до 913761553 рублей\n",
      "Вероятность убытка - 5.30%\n",
      "Убытки превышают предельное значение, регион не рассматривается к разработке \n"
     ]
    }
   ],
   "source": [
    "mean_1, lower_1, upper_1, loss_1 = bootstrap_profit(target_1, predictions_1)\n",
    "\n",
    "print('Регион 1:')\n",
    "print(f'Средняя прибыль - {mean_1:.0f} рублей')\n",
    "print(f'95%-тный доверительный интервал - от {lower_1:.0f} до {upper_1:.0f} рублей')\n",
    "print(f'Вероятность убытка - {loss_1:.2%}')\n",
    "if loss_1 > MAX_LOSS_PROB:\n",
    "    print('Убытки превышают предельное значение, регион не рассматривается к разработке ')"
   ]
  },
  {
   "cell_type": "code",
   "execution_count": 18,
   "metadata": {},
   "outputs": [
    {
     "name": "stdout",
     "output_type": "stream",
     "text": [
      "Регион 2:\n",
      "Средняя прибыль - 503837343 рублей\n",
      "95%-тный доверительный интервал - от 122365082 до 920157247 рублей\n",
      "Вероятность убытка - 0.30%\n"
     ]
    }
   ],
   "source": [
    "mean_2, lower_2, upper_2, loss_2 = bootstrap_profit(target_2, predictions_2)\n",
    "\n",
    "print('Регион 2:')\n",
    "print(f'Средняя прибыль - {mean_2:.0f} рублей')\n",
    "print(f'95%-тный доверительный интервал - от {lower_2:.0f} до {upper_2:.0f} рублей')\n",
    "print(f'Вероятность убытка - {loss_2:.2%}')\n",
    "if loss_2 > MAX_LOSS_PROB:\n",
    "    print('Убытки превышают предельное значение, регион не рассматривается к разработке ')"
   ]
  },
  {
   "cell_type": "code",
   "execution_count": 19,
   "metadata": {
    "scrolled": true
   },
   "outputs": [
    {
     "name": "stdout",
     "output_type": "stream",
     "text": [
      "Регион 3:\n",
      "Средняя прибыль - 326148304 рублей\n",
      "95%-тный доверительный интервал - от -180151111 до 824717538 рублей\n",
      "Вероятность убытка - 10.50%\n",
      "Вероятность убытка превышает предельное значение, регион не рассматривается к разработке \n"
     ]
    }
   ],
   "source": [
    "mean_3, lower_3, upper_3, loss_3 = bootstrap_profit(target_3, predictions_3)\n",
    "\n",
    "print('Регион 3:')\n",
    "print(f'Средняя прибыль - {mean_3:.0f} рублей')\n",
    "print(f'95%-тный доверительный интервал - от {lower_3:.0f} до {upper_3:.0f} рублей')\n",
    "print(f'Вероятность убытка - {loss_3:.2%}')\n",
    "if loss_3 > MAX_LOSS_PROB:\n",
    "    print('Вероятность убытка превышает предельное значение, регион не рассматривается к разработке ')"
   ]
  },
  {
   "cell_type": "markdown",
   "metadata": {},
   "source": [
    "### Предлагаемый регион для разработки"
   ]
  },
  {
   "cell_type": "markdown",
   "metadata": {},
   "source": [
    "Для разработки месторождения предлагаю второй регион, в остальных регионах слишком велик риск убытка\n",
    "\n",
    "Второй регион, не смотря на ненормальное распределение, кажется, благодаря сильной корреляции параметра 'f2' с целевым признаком и вследствие этого хорошей предсказуемостью, является самым перспективным для бурения новых скважин. Наша функция предсказала ему самую большую среднюю прибыль, самый высокий доверительный интервал и самую маленькую вероятность убытка."
   ]
  }
 ],
 "metadata": {
  "ExecuteTimeLog": [
   {
    "duration": 409,
    "start_time": "2023-04-23T13:52:01.017Z"
   },
   {
    "duration": 1614,
    "start_time": "2023-04-23T13:52:01.991Z"
   },
   {
    "duration": 10,
    "start_time": "2023-04-23T14:09:16.885Z"
   },
   {
    "duration": 396,
    "start_time": "2023-04-23T14:09:17.911Z"
   },
   {
    "duration": 19,
    "start_time": "2023-04-23T14:09:50.998Z"
   },
   {
    "duration": 12,
    "start_time": "2023-04-23T14:09:51.019Z"
   },
   {
    "duration": 16,
    "start_time": "2023-04-23T14:09:51.032Z"
   },
   {
    "duration": 70,
    "start_time": "2023-04-23T14:21:42.438Z"
   },
   {
    "duration": 15,
    "start_time": "2023-04-23T14:21:50.703Z"
   },
   {
    "duration": 24,
    "start_time": "2023-04-23T14:24:22.517Z"
   },
   {
    "duration": 763,
    "start_time": "2023-04-23T14:24:39.199Z"
   },
   {
    "duration": 557,
    "start_time": "2023-04-23T14:25:10.282Z"
   },
   {
    "duration": 1619,
    "start_time": "2023-04-23T14:26:09.550Z"
   },
   {
    "duration": 1170,
    "start_time": "2023-04-23T14:27:06.905Z"
   },
   {
    "duration": 1772,
    "start_time": "2023-04-23T14:27:14.089Z"
   },
   {
    "duration": 503,
    "start_time": "2023-04-23T14:27:56.908Z"
   },
   {
    "duration": 9,
    "start_time": "2023-04-23T14:30:04.698Z"
   },
   {
    "duration": 6,
    "start_time": "2023-04-23T14:30:09.182Z"
   },
   {
    "duration": 1640,
    "start_time": "2023-04-23T14:30:11.630Z"
   },
   {
    "duration": 3,
    "start_time": "2023-04-23T14:32:20.976Z"
   },
   {
    "duration": 393,
    "start_time": "2023-04-23T14:32:20.985Z"
   },
   {
    "duration": 677,
    "start_time": "2023-04-23T14:32:21.380Z"
   },
   {
    "duration": 595,
    "start_time": "2023-04-23T14:32:22.059Z"
   },
   {
    "duration": 605,
    "start_time": "2023-04-23T14:32:22.655Z"
   },
   {
    "duration": 3,
    "start_time": "2023-04-23T14:43:15.102Z"
   },
   {
    "duration": 14,
    "start_time": "2023-04-23T15:02:26.044Z"
   },
   {
    "duration": 1713,
    "start_time": "2023-04-23T19:27:30.955Z"
   },
   {
    "duration": 779,
    "start_time": "2023-04-23T19:27:34.732Z"
   },
   {
    "duration": 11,
    "start_time": "2023-04-23T19:27:53.063Z"
   },
   {
    "duration": 34,
    "start_time": "2023-04-23T19:27:55.273Z"
   },
   {
    "duration": 13,
    "start_time": "2023-04-23T19:31:11.123Z"
   },
   {
    "duration": 33,
    "start_time": "2023-04-23T19:31:12.939Z"
   },
   {
    "duration": 3,
    "start_time": "2023-04-23T19:57:59.013Z"
   },
   {
    "duration": 556,
    "start_time": "2023-04-23T20:18:57.801Z"
   },
   {
    "duration": 533,
    "start_time": "2023-04-23T20:19:13.854Z"
   },
   {
    "duration": 632,
    "start_time": "2023-04-23T20:19:25.192Z"
   },
   {
    "duration": 4,
    "start_time": "2023-04-23T20:35:57.884Z"
   },
   {
    "duration": 138,
    "start_time": "2023-04-23T20:39:24.894Z"
   },
   {
    "duration": 6,
    "start_time": "2023-04-23T20:40:17.514Z"
   },
   {
    "duration": 92,
    "start_time": "2023-04-23T20:40:19.806Z"
   },
   {
    "duration": 438,
    "start_time": "2023-04-23T20:41:01.161Z"
   },
   {
    "duration": 9,
    "start_time": "2023-04-23T21:18:47.796Z"
   },
   {
    "duration": 3,
    "start_time": "2023-04-23T21:18:52.965Z"
   },
   {
    "duration": 58,
    "start_time": "2023-04-23T21:19:01.827Z"
   },
   {
    "duration": 13,
    "start_time": "2023-04-23T21:19:03.443Z"
   },
   {
    "duration": 13,
    "start_time": "2023-04-23T21:20:14.895Z"
   },
   {
    "duration": 160,
    "start_time": "2023-04-23T21:20:27.618Z"
   },
   {
    "duration": 13,
    "start_time": "2023-04-23T21:20:29.382Z"
   },
   {
    "duration": 1437,
    "start_time": "2023-04-23T21:20:45.704Z"
   },
   {
    "duration": 430,
    "start_time": "2023-04-23T21:20:51.275Z"
   },
   {
    "duration": 557,
    "start_time": "2023-04-23T21:20:54.661Z"
   },
   {
    "duration": 555,
    "start_time": "2023-04-23T21:20:59.380Z"
   },
   {
    "duration": 605,
    "start_time": "2023-04-23T21:21:03.041Z"
   },
   {
    "duration": 168,
    "start_time": "2023-04-23T21:21:08.837Z"
   },
   {
    "duration": 15,
    "start_time": "2023-04-23T21:21:11.049Z"
   },
   {
    "duration": 5,
    "start_time": "2023-04-23T21:24:05.941Z"
   },
   {
    "duration": 370,
    "start_time": "2023-04-23T21:24:07.338Z"
   },
   {
    "duration": 52,
    "start_time": "2023-04-23T21:28:13.991Z"
   },
   {
    "duration": 51,
    "start_time": "2023-04-23T21:28:21.539Z"
   },
   {
    "duration": 147,
    "start_time": "2023-04-23T21:29:37.973Z"
   },
   {
    "duration": 72,
    "start_time": "2023-04-23T21:30:18.940Z"
   },
   {
    "duration": 137,
    "start_time": "2023-04-23T21:30:23.743Z"
   },
   {
    "duration": 47,
    "start_time": "2023-04-23T21:30:49.526Z"
   },
   {
    "duration": 94,
    "start_time": "2023-04-23T21:42:12.645Z"
   },
   {
    "duration": 120,
    "start_time": "2023-04-23T21:42:31.453Z"
   },
   {
    "duration": 45,
    "start_time": "2023-04-23T21:43:03.216Z"
   },
   {
    "duration": 11,
    "start_time": "2023-04-23T21:44:34.495Z"
   },
   {
    "duration": 713,
    "start_time": "2023-04-23T22:03:50.254Z"
   },
   {
    "duration": 1882,
    "start_time": "2023-04-23T22:04:02.251Z"
   },
   {
    "duration": 537,
    "start_time": "2023-04-23T22:04:18.209Z"
   },
   {
    "duration": 1489,
    "start_time": "2023-04-23T22:04:39.707Z"
   },
   {
    "duration": 541,
    "start_time": "2023-04-23T22:04:51.183Z"
   },
   {
    "duration": 553,
    "start_time": "2023-04-23T22:05:03.186Z"
   },
   {
    "duration": 567,
    "start_time": "2023-04-23T22:05:17.679Z"
   },
   {
    "duration": 675,
    "start_time": "2023-04-23T22:05:28.512Z"
   },
   {
    "duration": 566,
    "start_time": "2023-04-23T22:06:29.442Z"
   },
   {
    "duration": 551,
    "start_time": "2023-04-23T22:07:24.117Z"
   },
   {
    "duration": 529,
    "start_time": "2023-04-23T22:07:51.275Z"
   },
   {
    "duration": 620,
    "start_time": "2023-04-23T22:08:15.571Z"
   },
   {
    "duration": 549,
    "start_time": "2023-04-23T22:08:26.321Z"
   },
   {
    "duration": 490,
    "start_time": "2023-04-23T22:08:45.329Z"
   },
   {
    "duration": 45,
    "start_time": "2023-04-23T22:41:09.544Z"
   },
   {
    "duration": 5,
    "start_time": "2023-04-23T22:41:14.096Z"
   },
   {
    "duration": 372,
    "start_time": "2023-04-23T22:41:15.426Z"
   },
   {
    "duration": 360,
    "start_time": "2023-04-23T22:41:22.730Z"
   },
   {
    "duration": 398,
    "start_time": "2023-04-23T22:41:24.602Z"
   },
   {
    "duration": 10,
    "start_time": "2023-04-23T22:45:32.206Z"
   },
   {
    "duration": 3,
    "start_time": "2023-04-23T22:45:34.773Z"
   },
   {
    "duration": 4,
    "start_time": "2023-04-23T22:45:35.487Z"
   },
   {
    "duration": 4,
    "start_time": "2023-04-23T22:48:32.097Z"
   },
   {
    "duration": 1529,
    "start_time": "2023-04-23T23:07:59.361Z"
   },
   {
    "duration": 424,
    "start_time": "2023-04-23T23:08:00.892Z"
   },
   {
    "duration": 547,
    "start_time": "2023-04-23T23:08:01.318Z"
   },
   {
    "duration": 581,
    "start_time": "2023-04-23T23:08:01.868Z"
   },
   {
    "duration": 606,
    "start_time": "2023-04-23T23:08:02.451Z"
   },
   {
    "duration": 155,
    "start_time": "2023-04-23T23:08:03.059Z"
   },
   {
    "duration": 45,
    "start_time": "2023-04-23T23:08:03.217Z"
   },
   {
    "duration": 135,
    "start_time": "2023-04-23T23:08:03.264Z"
   },
   {
    "duration": 161,
    "start_time": "2023-04-23T23:08:03.400Z"
   },
   {
    "duration": 11,
    "start_time": "2023-04-23T23:08:03.564Z"
   },
   {
    "duration": 55,
    "start_time": "2023-04-23T23:08:03.577Z"
   },
   {
    "duration": 453,
    "start_time": "2023-04-23T23:08:03.634Z"
   },
   {
    "duration": 98,
    "start_time": "2023-04-23T23:08:04.090Z"
   },
   {
    "duration": 7,
    "start_time": "2023-04-23T23:08:04.190Z"
   },
   {
    "duration": 106,
    "start_time": "2023-04-23T23:27:12.879Z"
   },
   {
    "duration": 6,
    "start_time": "2023-04-23T23:27:20.671Z"
   },
   {
    "duration": 9,
    "start_time": "2023-04-23T23:28:38.894Z"
   },
   {
    "duration": 3,
    "start_time": "2023-04-23T23:28:40.754Z"
   },
   {
    "duration": 5,
    "start_time": "2023-04-23T23:28:41.438Z"
   },
   {
    "duration": 3,
    "start_time": "2023-04-23T23:29:55.391Z"
   },
   {
    "duration": 24,
    "start_time": "2023-04-23T23:30:07.110Z"
   },
   {
    "duration": 3,
    "start_time": "2023-04-23T23:30:19.880Z"
   },
   {
    "duration": 6,
    "start_time": "2023-04-23T23:30:22.202Z"
   },
   {
    "duration": 3,
    "start_time": "2023-04-23T23:31:04.559Z"
   },
   {
    "duration": 6,
    "start_time": "2023-04-23T23:31:05.039Z"
   },
   {
    "duration": 3,
    "start_time": "2023-04-23T23:32:20.046Z"
   },
   {
    "duration": 5,
    "start_time": "2023-04-23T23:32:20.654Z"
   },
   {
    "duration": 3,
    "start_time": "2023-04-23T23:32:25.193Z"
   },
   {
    "duration": 6,
    "start_time": "2023-04-23T23:32:32.294Z"
   },
   {
    "duration": 3,
    "start_time": "2023-04-23T23:32:38.904Z"
   },
   {
    "duration": 5,
    "start_time": "2023-04-23T23:32:39.720Z"
   },
   {
    "duration": 5,
    "start_time": "2023-04-23T23:33:33.871Z"
   },
   {
    "duration": 4,
    "start_time": "2023-04-23T23:56:39.967Z"
   },
   {
    "duration": 8,
    "start_time": "2023-04-23T23:56:40.966Z"
   },
   {
    "duration": 18,
    "start_time": "2023-04-24T00:00:28.125Z"
   },
   {
    "duration": 15,
    "start_time": "2023-04-24T00:01:05.119Z"
   },
   {
    "duration": 98,
    "start_time": "2023-04-24T00:02:17.196Z"
   },
   {
    "duration": 17,
    "start_time": "2023-04-24T00:14:59.345Z"
   },
   {
    "duration": 15,
    "start_time": "2023-04-24T00:15:04.802Z"
   },
   {
    "duration": 15,
    "start_time": "2023-04-24T00:15:31.708Z"
   },
   {
    "duration": 441,
    "start_time": "2023-04-24T00:24:42.264Z"
   },
   {
    "duration": 4,
    "start_time": "2023-04-24T00:41:26.295Z"
   },
   {
    "duration": 4,
    "start_time": "2023-04-24T00:41:56.830Z"
   },
   {
    "duration": 14,
    "start_time": "2023-04-24T00:42:37.602Z"
   },
   {
    "duration": 10,
    "start_time": "2023-04-24T00:42:43.561Z"
   },
   {
    "duration": 3,
    "start_time": "2023-04-24T00:42:49.370Z"
   },
   {
    "duration": 3,
    "start_time": "2023-04-24T00:42:54.058Z"
   },
   {
    "duration": 4,
    "start_time": "2023-04-24T00:42:56.162Z"
   },
   {
    "duration": 3117,
    "start_time": "2023-04-24T00:42:58.115Z"
   },
   {
    "duration": 4,
    "start_time": "2023-04-24T00:43:09.370Z"
   },
   {
    "duration": 4,
    "start_time": "2023-04-24T00:43:51.452Z"
   },
   {
    "duration": 3052,
    "start_time": "2023-04-24T00:43:52.194Z"
   },
   {
    "duration": 3,
    "start_time": "2023-04-24T00:43:57.187Z"
   },
   {
    "duration": 3025,
    "start_time": "2023-04-24T00:44:36.195Z"
   },
   {
    "duration": 4,
    "start_time": "2023-04-24T00:44:39.930Z"
   },
   {
    "duration": 4,
    "start_time": "2023-04-24T00:45:03.971Z"
   },
   {
    "duration": 3050,
    "start_time": "2023-04-24T00:45:05.034Z"
   },
   {
    "duration": 3073,
    "start_time": "2023-04-24T00:45:08.087Z"
   },
   {
    "duration": 4,
    "start_time": "2023-04-24T00:45:11.162Z"
   },
   {
    "duration": 4,
    "start_time": "2023-04-24T00:51:55.499Z"
   },
   {
    "duration": 3299,
    "start_time": "2023-04-24T00:51:56.180Z"
   },
   {
    "duration": 3385,
    "start_time": "2023-04-24T00:51:59.481Z"
   },
   {
    "duration": 4,
    "start_time": "2023-04-24T00:52:02.868Z"
   },
   {
    "duration": 1278,
    "start_time": "2023-04-24T00:59:03.429Z"
   },
   {
    "duration": 420,
    "start_time": "2023-04-24T00:59:04.709Z"
   },
   {
    "duration": 784,
    "start_time": "2023-04-24T00:59:05.131Z"
   },
   {
    "duration": 544,
    "start_time": "2023-04-24T00:59:05.918Z"
   },
   {
    "duration": 633,
    "start_time": "2023-04-24T00:59:06.464Z"
   },
   {
    "duration": 148,
    "start_time": "2023-04-24T00:59:07.099Z"
   },
   {
    "duration": 56,
    "start_time": "2023-04-24T00:59:07.249Z"
   },
   {
    "duration": 148,
    "start_time": "2023-04-24T00:59:07.307Z"
   },
   {
    "duration": 170,
    "start_time": "2023-04-24T00:59:07.457Z"
   },
   {
    "duration": 13,
    "start_time": "2023-04-24T00:59:07.630Z"
   },
   {
    "duration": 6,
    "start_time": "2023-04-24T00:59:07.645Z"
   },
   {
    "duration": 447,
    "start_time": "2023-04-24T00:59:07.652Z"
   },
   {
    "duration": 92,
    "start_time": "2023-04-24T00:59:08.101Z"
   },
   {
    "duration": 99,
    "start_time": "2023-04-24T00:59:08.198Z"
   },
   {
    "duration": 5,
    "start_time": "2023-04-24T00:59:08.298Z"
   },
   {
    "duration": 19,
    "start_time": "2023-04-24T00:59:08.304Z"
   },
   {
    "duration": 5,
    "start_time": "2023-04-24T00:59:08.325Z"
   },
   {
    "duration": 3322,
    "start_time": "2023-04-24T00:59:08.331Z"
   },
   {
    "duration": 3223,
    "start_time": "2023-04-24T00:59:11.654Z"
   },
   {
    "duration": 3188,
    "start_time": "2023-04-24T00:59:14.878Z"
   },
   {
    "duration": 13,
    "start_time": "2023-04-24T00:59:40.365Z"
   },
   {
    "duration": 5,
    "start_time": "2023-04-24T01:05:56.378Z"
   },
   {
    "duration": 3572,
    "start_time": "2023-04-24T01:05:57.172Z"
   },
   {
    "duration": 3521,
    "start_time": "2023-04-24T01:06:36.952Z"
   },
   {
    "duration": 3216,
    "start_time": "2023-04-24T01:07:30.684Z"
   },
   {
    "duration": 3187,
    "start_time": "2023-04-24T01:07:50.947Z"
   },
   {
    "duration": 5,
    "start_time": "2023-04-24T01:09:05.398Z"
   },
   {
    "duration": 3261,
    "start_time": "2023-04-24T01:09:05.893Z"
   },
   {
    "duration": 3236,
    "start_time": "2023-04-24T01:09:09.156Z"
   },
   {
    "duration": 3217,
    "start_time": "2023-04-24T01:09:12.393Z"
   },
   {
    "duration": 5,
    "start_time": "2023-04-24T01:15:38.033Z"
   },
   {
    "duration": 3271,
    "start_time": "2023-04-24T01:15:38.574Z"
   },
   {
    "duration": 3229,
    "start_time": "2023-04-24T01:15:41.847Z"
   },
   {
    "duration": 3326,
    "start_time": "2023-04-24T01:15:45.078Z"
   },
   {
    "duration": 8,
    "start_time": "2023-04-24T01:16:47.734Z"
   },
   {
    "duration": 1177,
    "start_time": "2023-04-24T01:16:48.192Z"
   },
   {
    "duration": 1196,
    "start_time": "2023-04-24T01:16:49.371Z"
   },
   {
    "duration": 1175,
    "start_time": "2023-04-24T01:16:50.569Z"
   },
   {
    "duration": 5,
    "start_time": "2023-04-24T01:19:26.565Z"
   },
   {
    "duration": 1178,
    "start_time": "2023-04-24T01:19:27.223Z"
   },
   {
    "duration": 1202,
    "start_time": "2023-04-24T01:19:28.403Z"
   },
   {
    "duration": 1221,
    "start_time": "2023-04-24T01:19:29.607Z"
   },
   {
    "duration": 5,
    "start_time": "2023-04-24T01:19:44.060Z"
   },
   {
    "duration": 1169,
    "start_time": "2023-04-24T01:19:44.627Z"
   },
   {
    "duration": 1183,
    "start_time": "2023-04-24T01:19:45.798Z"
   },
   {
    "duration": 1156,
    "start_time": "2023-04-24T01:19:46.988Z"
   },
   {
    "duration": 5,
    "start_time": "2023-04-24T01:19:59.009Z"
   },
   {
    "duration": 1229,
    "start_time": "2023-04-24T01:19:59.410Z"
   },
   {
    "duration": 1196,
    "start_time": "2023-04-24T01:20:00.641Z"
   },
   {
    "duration": 1191,
    "start_time": "2023-04-24T01:20:01.839Z"
   },
   {
    "duration": 1208,
    "start_time": "2023-04-24T01:20:36.229Z"
   },
   {
    "duration": 1219,
    "start_time": "2023-04-24T01:20:49.957Z"
   },
   {
    "duration": 1195,
    "start_time": "2023-04-24T01:21:00.725Z"
   },
   {
    "duration": 1178,
    "start_time": "2023-04-24T01:21:18.794Z"
   },
   {
    "duration": 5,
    "start_time": "2023-04-24T01:21:36.387Z"
   },
   {
    "duration": 1158,
    "start_time": "2023-04-24T01:21:37.022Z"
   },
   {
    "duration": 1161,
    "start_time": "2023-04-24T01:21:38.187Z"
   },
   {
    "duration": 1147,
    "start_time": "2023-04-24T01:21:45.168Z"
   },
   {
    "duration": 5,
    "start_time": "2023-04-24T01:23:28.867Z"
   },
   {
    "duration": 1159,
    "start_time": "2023-04-24T01:23:29.279Z"
   },
   {
    "duration": 1252,
    "start_time": "2023-04-24T01:23:30.440Z"
   },
   {
    "duration": 1178,
    "start_time": "2023-04-24T01:23:31.694Z"
   },
   {
    "duration": 5,
    "start_time": "2023-04-24T01:23:58.836Z"
   },
   {
    "duration": 1154,
    "start_time": "2023-04-24T01:23:59.248Z"
   },
   {
    "duration": 1253,
    "start_time": "2023-04-24T01:24:00.405Z"
   },
   {
    "duration": 1236,
    "start_time": "2023-04-24T01:24:01.660Z"
   },
   {
    "duration": 5,
    "start_time": "2023-04-24T01:24:11.463Z"
   },
   {
    "duration": 1185,
    "start_time": "2023-04-24T01:24:11.707Z"
   },
   {
    "duration": 1196,
    "start_time": "2023-04-24T01:24:12.893Z"
   },
   {
    "duration": 1221,
    "start_time": "2023-04-24T01:24:14.091Z"
   },
   {
    "duration": 55,
    "start_time": "2023-04-24T01:27:17.434Z"
   },
   {
    "duration": 1183,
    "start_time": "2023-04-24T01:27:26.567Z"
   },
   {
    "duration": 1182,
    "start_time": "2023-04-24T01:32:16.969Z"
   },
   {
    "duration": 1201,
    "start_time": "2023-04-24T01:32:18.153Z"
   },
   {
    "duration": 1226,
    "start_time": "2023-04-24T01:32:19.356Z"
   },
   {
    "duration": 6,
    "start_time": "2023-04-24T01:32:32.827Z"
   },
   {
    "duration": 1161,
    "start_time": "2023-04-24T01:32:33.345Z"
   },
   {
    "duration": 1186,
    "start_time": "2023-04-24T01:32:34.508Z"
   },
   {
    "duration": 1191,
    "start_time": "2023-04-24T01:32:35.695Z"
   },
   {
    "duration": 1190,
    "start_time": "2023-04-24T01:33:08.658Z"
   },
   {
    "duration": 1209,
    "start_time": "2023-04-24T01:33:09.850Z"
   },
   {
    "duration": 1183,
    "start_time": "2023-04-24T01:33:11.061Z"
   },
   {
    "duration": 6,
    "start_time": "2023-04-24T01:33:36.210Z"
   },
   {
    "duration": 1141,
    "start_time": "2023-04-24T01:33:36.752Z"
   },
   {
    "duration": 1151,
    "start_time": "2023-04-24T01:33:37.895Z"
   },
   {
    "duration": 1163,
    "start_time": "2023-04-24T01:33:39.048Z"
   },
   {
    "duration": 5,
    "start_time": "2023-04-24T01:33:55.416Z"
   },
   {
    "duration": 1168,
    "start_time": "2023-04-24T01:33:55.760Z"
   },
   {
    "duration": 1176,
    "start_time": "2023-04-24T01:33:56.931Z"
   },
   {
    "duration": 1172,
    "start_time": "2023-04-24T01:33:58.108Z"
   },
   {
    "duration": 1074,
    "start_time": "2023-04-24T01:40:17.120Z"
   },
   {
    "duration": 416,
    "start_time": "2023-04-24T01:40:18.196Z"
   },
   {
    "duration": 812,
    "start_time": "2023-04-24T01:40:18.614Z"
   },
   {
    "duration": 556,
    "start_time": "2023-04-24T01:40:19.429Z"
   },
   {
    "duration": 657,
    "start_time": "2023-04-24T01:40:19.987Z"
   },
   {
    "duration": 152,
    "start_time": "2023-04-24T01:40:20.646Z"
   },
   {
    "duration": 48,
    "start_time": "2023-04-24T01:40:20.800Z"
   },
   {
    "duration": 137,
    "start_time": "2023-04-24T01:40:20.850Z"
   },
   {
    "duration": 166,
    "start_time": "2023-04-24T01:40:20.989Z"
   },
   {
    "duration": 12,
    "start_time": "2023-04-24T01:40:21.158Z"
   },
   {
    "duration": 17,
    "start_time": "2023-04-24T01:40:21.171Z"
   },
   {
    "duration": 407,
    "start_time": "2023-04-24T01:40:21.190Z"
   },
   {
    "duration": 90,
    "start_time": "2023-04-24T01:40:21.599Z"
   },
   {
    "duration": 113,
    "start_time": "2023-04-24T01:40:21.691Z"
   },
   {
    "duration": 8,
    "start_time": "2023-04-24T01:40:21.805Z"
   },
   {
    "duration": 29,
    "start_time": "2023-04-24T01:40:21.815Z"
   },
   {
    "duration": 6,
    "start_time": "2023-04-24T01:40:21.845Z"
   },
   {
    "duration": 1185,
    "start_time": "2023-04-24T01:40:21.852Z"
   },
   {
    "duration": 1168,
    "start_time": "2023-04-24T01:40:23.039Z"
   },
   {
    "duration": 1168,
    "start_time": "2023-04-24T01:40:24.208Z"
   },
   {
    "duration": 1193,
    "start_time": "2023-04-24T01:41:05.194Z"
   },
   {
    "duration": 5,
    "start_time": "2023-04-24T02:07:53.817Z"
   },
   {
    "duration": 1135,
    "start_time": "2023-04-24T02:07:54.795Z"
   },
   {
    "duration": 1165,
    "start_time": "2023-04-24T02:07:55.932Z"
   },
   {
    "duration": 1128,
    "start_time": "2023-04-24T02:07:57.100Z"
   },
   {
    "duration": 6,
    "start_time": "2023-04-24T02:08:08.184Z"
   },
   {
    "duration": 1173,
    "start_time": "2023-04-24T02:08:08.921Z"
   },
   {
    "duration": 1218,
    "start_time": "2023-04-24T02:08:10.096Z"
   },
   {
    "duration": 1165,
    "start_time": "2023-04-24T02:08:11.316Z"
   },
   {
    "duration": 1100,
    "start_time": "2023-04-24T02:35:10.498Z"
   },
   {
    "duration": 418,
    "start_time": "2023-04-24T02:35:11.599Z"
   },
   {
    "duration": 794,
    "start_time": "2023-04-24T02:35:12.019Z"
   },
   {
    "duration": 546,
    "start_time": "2023-04-24T02:35:12.815Z"
   },
   {
    "duration": 593,
    "start_time": "2023-04-24T02:35:13.362Z"
   },
   {
    "duration": 144,
    "start_time": "2023-04-24T02:35:13.957Z"
   },
   {
    "duration": 45,
    "start_time": "2023-04-24T02:35:14.103Z"
   },
   {
    "duration": 129,
    "start_time": "2023-04-24T02:35:14.149Z"
   },
   {
    "duration": 160,
    "start_time": "2023-04-24T02:35:14.280Z"
   },
   {
    "duration": 11,
    "start_time": "2023-04-24T02:35:14.443Z"
   },
   {
    "duration": 11,
    "start_time": "2023-04-24T02:35:14.456Z"
   },
   {
    "duration": 427,
    "start_time": "2023-04-24T02:35:14.469Z"
   },
   {
    "duration": 91,
    "start_time": "2023-04-24T02:35:14.898Z"
   },
   {
    "duration": 111,
    "start_time": "2023-04-24T02:35:14.992Z"
   },
   {
    "duration": 13,
    "start_time": "2023-04-24T02:35:15.105Z"
   },
   {
    "duration": 23,
    "start_time": "2023-04-24T02:35:15.119Z"
   },
   {
    "duration": 5,
    "start_time": "2023-04-24T02:35:15.144Z"
   },
   {
    "duration": 1192,
    "start_time": "2023-04-24T02:35:15.150Z"
   },
   {
    "duration": 1208,
    "start_time": "2023-04-24T02:35:16.344Z"
   },
   {
    "duration": 1171,
    "start_time": "2023-04-24T02:35:17.553Z"
   },
   {
    "duration": 432,
    "start_time": "2023-04-24T02:40:50.779Z"
   },
   {
    "duration": 1080,
    "start_time": "2023-04-24T02:49:12.623Z"
   },
   {
    "duration": 410,
    "start_time": "2023-04-24T02:49:13.705Z"
   },
   {
    "duration": 830,
    "start_time": "2023-04-24T02:49:14.117Z"
   },
   {
    "duration": 551,
    "start_time": "2023-04-24T02:49:14.949Z"
   },
   {
    "duration": 613,
    "start_time": "2023-04-24T02:49:15.502Z"
   },
   {
    "duration": 144,
    "start_time": "2023-04-24T02:49:16.117Z"
   },
   {
    "duration": 51,
    "start_time": "2023-04-24T02:49:16.262Z"
   },
   {
    "duration": 130,
    "start_time": "2023-04-24T02:49:16.315Z"
   },
   {
    "duration": 170,
    "start_time": "2023-04-24T02:49:16.447Z"
   },
   {
    "duration": 10,
    "start_time": "2023-04-24T02:49:16.620Z"
   },
   {
    "duration": 15,
    "start_time": "2023-04-24T02:49:16.632Z"
   },
   {
    "duration": 452,
    "start_time": "2023-04-24T02:49:16.649Z"
   },
   {
    "duration": 85,
    "start_time": "2023-04-24T02:49:17.104Z"
   },
   {
    "duration": 109,
    "start_time": "2023-04-24T02:49:17.191Z"
   },
   {
    "duration": 21,
    "start_time": "2023-04-24T02:49:17.302Z"
   },
   {
    "duration": 36,
    "start_time": "2023-04-24T02:49:17.325Z"
   },
   {
    "duration": 17,
    "start_time": "2023-04-24T02:49:17.363Z"
   },
   {
    "duration": 1215,
    "start_time": "2023-04-24T02:49:17.382Z"
   },
   {
    "duration": 1179,
    "start_time": "2023-04-24T02:49:18.599Z"
   },
   {
    "duration": 1212,
    "start_time": "2023-04-24T02:49:19.781Z"
   },
   {
    "duration": 3202,
    "start_time": "2023-04-24T20:37:34.007Z"
   },
   {
    "duration": 1610,
    "start_time": "2023-04-24T20:37:37.212Z"
   },
   {
    "duration": 973,
    "start_time": "2023-04-24T20:37:38.824Z"
   },
   {
    "duration": 467,
    "start_time": "2023-04-24T20:37:39.799Z"
   },
   {
    "duration": 506,
    "start_time": "2023-04-24T20:37:40.268Z"
   },
   {
    "duration": 123,
    "start_time": "2023-04-24T20:37:40.776Z"
   },
   {
    "duration": 36,
    "start_time": "2023-04-24T20:37:40.901Z"
   },
   {
    "duration": 105,
    "start_time": "2023-04-24T20:37:40.939Z"
   },
   {
    "duration": 131,
    "start_time": "2023-04-24T20:37:41.045Z"
   },
   {
    "duration": 17,
    "start_time": "2023-04-24T20:37:41.178Z"
   },
   {
    "duration": 5,
    "start_time": "2023-04-24T20:37:41.196Z"
   },
   {
    "duration": 302,
    "start_time": "2023-04-24T20:37:41.203Z"
   },
   {
    "duration": 90,
    "start_time": "2023-04-24T20:37:41.507Z"
   },
   {
    "duration": 12,
    "start_time": "2023-04-24T20:37:41.599Z"
   },
   {
    "duration": 82,
    "start_time": "2023-04-24T20:37:41.613Z"
   },
   {
    "duration": 23,
    "start_time": "2023-04-24T20:37:41.697Z"
   },
   {
    "duration": 5,
    "start_time": "2023-04-24T20:37:41.721Z"
   },
   {
    "duration": 1039,
    "start_time": "2023-04-24T20:37:41.727Z"
   },
   {
    "duration": 1000,
    "start_time": "2023-04-24T20:37:42.768Z"
   },
   {
    "duration": 1072,
    "start_time": "2023-04-24T20:37:43.770Z"
   },
   {
    "duration": 4,
    "start_time": "2023-04-24T20:40:10.175Z"
   },
   {
    "duration": 13,
    "start_time": "2023-04-24T20:40:10.782Z"
   },
   {
    "duration": 5,
    "start_time": "2023-04-24T20:40:12.114Z"
   },
   {
    "duration": 1121,
    "start_time": "2023-04-24T20:40:12.844Z"
   },
   {
    "duration": 1190,
    "start_time": "2023-04-24T20:40:13.967Z"
   },
   {
    "duration": 1183,
    "start_time": "2023-04-24T20:40:15.159Z"
   },
   {
    "duration": 4,
    "start_time": "2023-04-24T20:40:19.751Z"
   },
   {
    "duration": 15,
    "start_time": "2023-04-24T20:40:20.218Z"
   },
   {
    "duration": 7,
    "start_time": "2023-04-24T20:40:21.055Z"
   },
   {
    "duration": 1091,
    "start_time": "2023-04-24T20:40:21.411Z"
   },
   {
    "duration": 1028,
    "start_time": "2023-04-24T20:40:22.504Z"
   },
   {
    "duration": 1218,
    "start_time": "2023-04-24T20:40:23.534Z"
   },
   {
    "duration": 3012,
    "start_time": "2023-04-24T20:41:47.128Z"
   },
   {
    "duration": 354,
    "start_time": "2023-04-24T20:41:50.142Z"
   },
   {
    "duration": 683,
    "start_time": "2023-04-24T20:41:50.498Z"
   },
   {
    "duration": 505,
    "start_time": "2023-04-24T20:41:51.183Z"
   },
   {
    "duration": 560,
    "start_time": "2023-04-24T20:41:51.690Z"
   },
   {
    "duration": 127,
    "start_time": "2023-04-24T20:41:52.252Z"
   },
   {
    "duration": 51,
    "start_time": "2023-04-24T20:41:52.381Z"
   },
   {
    "duration": 117,
    "start_time": "2023-04-24T20:41:52.434Z"
   },
   {
    "duration": 136,
    "start_time": "2023-04-24T20:41:52.553Z"
   },
   {
    "duration": 10,
    "start_time": "2023-04-24T20:41:52.691Z"
   },
   {
    "duration": 5,
    "start_time": "2023-04-24T20:41:52.703Z"
   },
   {
    "duration": 484,
    "start_time": "2023-04-24T20:41:52.709Z"
   },
   {
    "duration": 8,
    "start_time": "2023-04-24T20:41:53.199Z"
   },
   {
    "duration": 88,
    "start_time": "2023-04-24T20:41:53.211Z"
   },
   {
    "duration": 19,
    "start_time": "2023-04-24T20:41:53.301Z"
   },
   {
    "duration": 14,
    "start_time": "2023-04-24T20:41:53.322Z"
   },
   {
    "duration": 4,
    "start_time": "2023-04-24T20:41:53.338Z"
   },
   {
    "duration": 1107,
    "start_time": "2023-04-24T20:41:53.343Z"
   },
   {
    "duration": 1021,
    "start_time": "2023-04-24T20:41:54.452Z"
   },
   {
    "duration": 1028,
    "start_time": "2023-04-24T20:41:55.475Z"
   },
   {
    "duration": 50,
    "start_time": "2023-04-24T20:42:32.274Z"
   },
   {
    "duration": 4,
    "start_time": "2023-04-24T20:42:39.734Z"
   },
   {
    "duration": 4,
    "start_time": "2023-04-24T20:42:42.782Z"
   },
   {
    "duration": 3,
    "start_time": "2023-04-24T20:42:46.171Z"
   },
   {
    "duration": 3,
    "start_time": "2023-04-24T20:42:48.200Z"
   },
   {
    "duration": 3,
    "start_time": "2023-04-24T20:42:50.426Z"
   },
   {
    "duration": 3,
    "start_time": "2023-04-24T20:42:57.173Z"
   },
   {
    "duration": 4,
    "start_time": "2023-04-24T20:42:58.647Z"
   },
   {
    "duration": 4,
    "start_time": "2023-04-24T20:43:01.102Z"
   },
   {
    "duration": 3,
    "start_time": "2023-04-24T20:43:03.323Z"
   },
   {
    "duration": 4,
    "start_time": "2023-04-24T20:43:06.000Z"
   },
   {
    "duration": 4,
    "start_time": "2023-04-24T20:43:08.673Z"
   },
   {
    "duration": 3,
    "start_time": "2023-04-24T20:43:10.946Z"
   },
   {
    "duration": 3,
    "start_time": "2023-04-24T20:43:13.219Z"
   },
   {
    "duration": 4,
    "start_time": "2023-04-24T20:43:17.198Z"
   },
   {
    "duration": 47,
    "start_time": "2023-04-24T21:17:45.949Z"
   },
   {
    "duration": 70,
    "start_time": "2023-04-24T21:29:08.713Z"
   },
   {
    "duration": 51,
    "start_time": "2023-04-24T21:37:01.592Z"
   },
   {
    "duration": 998,
    "start_time": "2023-04-24T21:45:40.483Z"
   },
   {
    "duration": 591,
    "start_time": "2023-04-24T21:45:41.483Z"
   },
   {
    "duration": 835,
    "start_time": "2023-04-24T21:45:42.076Z"
   },
   {
    "duration": 485,
    "start_time": "2023-04-24T21:45:42.912Z"
   },
   {
    "duration": 537,
    "start_time": "2023-04-24T21:45:43.399Z"
   },
   {
    "duration": 117,
    "start_time": "2023-04-24T21:45:43.938Z"
   },
   {
    "duration": 38,
    "start_time": "2023-04-24T21:45:44.057Z"
   },
   {
    "duration": 110,
    "start_time": "2023-04-24T21:45:44.096Z"
   },
   {
    "duration": 2,
    "start_time": "2023-04-24T21:45:44.207Z"
   },
   {
    "duration": 6,
    "start_time": "2023-04-24T21:45:44.211Z"
   },
   {
    "duration": 526,
    "start_time": "2023-04-24T21:45:44.218Z"
   },
   {
    "duration": 4,
    "start_time": "2023-04-24T21:45:44.746Z"
   },
   {
    "duration": 184,
    "start_time": "2023-04-24T21:45:44.752Z"
   },
   {
    "duration": 5,
    "start_time": "2023-04-24T21:45:44.939Z"
   },
   {
    "duration": 79,
    "start_time": "2023-04-24T21:45:44.946Z"
   },
   {
    "duration": 0,
    "start_time": "2023-04-24T21:45:45.035Z"
   },
   {
    "duration": 0,
    "start_time": "2023-04-24T21:45:45.036Z"
   },
   {
    "duration": 0,
    "start_time": "2023-04-24T21:45:45.037Z"
   },
   {
    "duration": 0,
    "start_time": "2023-04-24T21:45:45.038Z"
   },
   {
    "duration": 4,
    "start_time": "2023-04-24T21:49:55.248Z"
   },
   {
    "duration": 13,
    "start_time": "2023-04-24T21:49:57.440Z"
   },
   {
    "duration": 4,
    "start_time": "2023-04-24T21:52:15.634Z"
   },
   {
    "duration": 14,
    "start_time": "2023-04-24T21:52:18.635Z"
   },
   {
    "duration": 3,
    "start_time": "2023-04-24T21:53:32.708Z"
   },
   {
    "duration": 14,
    "start_time": "2023-04-24T21:53:35.802Z"
   },
   {
    "duration": 4,
    "start_time": "2023-04-24T21:55:00.280Z"
   },
   {
    "duration": 13,
    "start_time": "2023-04-24T21:55:03.080Z"
   },
   {
    "duration": 5,
    "start_time": "2023-04-24T21:55:14.680Z"
   },
   {
    "duration": 12,
    "start_time": "2023-04-24T21:55:16.226Z"
   },
   {
    "duration": 3,
    "start_time": "2023-04-24T22:00:31.996Z"
   },
   {
    "duration": 12,
    "start_time": "2023-04-24T22:00:33.794Z"
   },
   {
    "duration": 3,
    "start_time": "2023-04-24T22:02:36.280Z"
   },
   {
    "duration": 14,
    "start_time": "2023-04-24T22:02:38.494Z"
   },
   {
    "duration": 6,
    "start_time": "2023-04-24T22:02:49.393Z"
   },
   {
    "duration": 989,
    "start_time": "2023-04-24T22:02:53.247Z"
   },
   {
    "duration": 938,
    "start_time": "2023-04-24T22:02:54.238Z"
   },
   {
    "duration": 926,
    "start_time": "2023-04-24T22:02:55.177Z"
   },
   {
    "duration": 1032,
    "start_time": "2023-04-24T22:04:10.239Z"
   },
   {
    "duration": 343,
    "start_time": "2023-04-24T22:04:11.272Z"
   },
   {
    "duration": 665,
    "start_time": "2023-04-24T22:04:11.617Z"
   },
   {
    "duration": 441,
    "start_time": "2023-04-24T22:04:12.284Z"
   },
   {
    "duration": 501,
    "start_time": "2023-04-24T22:04:12.727Z"
   },
   {
    "duration": 115,
    "start_time": "2023-04-24T22:04:13.229Z"
   },
   {
    "duration": 35,
    "start_time": "2023-04-24T22:04:13.346Z"
   },
   {
    "duration": 102,
    "start_time": "2023-04-24T22:04:13.382Z"
   },
   {
    "duration": 2,
    "start_time": "2023-04-24T22:04:13.485Z"
   },
   {
    "duration": 22,
    "start_time": "2023-04-24T22:04:13.489Z"
   },
   {
    "duration": 432,
    "start_time": "2023-04-24T22:04:13.513Z"
   },
   {
    "duration": 3,
    "start_time": "2023-04-24T22:04:13.947Z"
   },
   {
    "duration": 103,
    "start_time": "2023-04-24T22:04:14.036Z"
   },
   {
    "duration": 5,
    "start_time": "2023-04-24T22:04:14.141Z"
   },
   {
    "duration": 15,
    "start_time": "2023-04-24T22:04:14.147Z"
   },
   {
    "duration": 4,
    "start_time": "2023-04-24T22:04:14.164Z"
   },
   {
    "duration": 940,
    "start_time": "2023-04-24T22:04:14.169Z"
   },
   {
    "duration": 884,
    "start_time": "2023-04-24T22:04:15.111Z"
   },
   {
    "duration": 924,
    "start_time": "2023-04-24T22:04:15.997Z"
   }
  ],
  "kernelspec": {
   "display_name": "Python 3",
   "language": "python",
   "name": "python3"
  },
  "language_info": {
   "codemirror_mode": {
    "name": "ipython",
    "version": 3
   },
   "file_extension": ".py",
   "mimetype": "text/x-python",
   "name": "python",
   "nbconvert_exporter": "python",
   "pygments_lexer": "ipython3",
   "version": "3.8.5"
  },
  "toc": {
   "base_numbering": 1,
   "nav_menu": {},
   "number_sections": true,
   "sideBar": true,
   "skip_h1_title": true,
   "title_cell": "Table of Contents",
   "title_sidebar": "Contents",
   "toc_cell": false,
   "toc_position": {},
   "toc_section_display": true,
   "toc_window_display": true
  }
 },
 "nbformat": 4,
 "nbformat_minor": 2
}
