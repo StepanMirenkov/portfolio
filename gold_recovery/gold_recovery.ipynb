{
 "cells": [
  {
   "cell_type": "markdown",
   "metadata": {
    "toc": true
   },
   "source": [
    "<h1>Содержание<span class=\"tocSkip\"></span></h1>\n",
    "<div class=\"toc\"><ul class=\"toc-item\"><li><span><a href=\"#Подготовка-данных\" data-toc-modified-id=\"Подготовка-данных-1\"><span class=\"toc-item-num\">1&nbsp;&nbsp;</span>Подготовка данных</a></span><ul class=\"toc-item\"><li><span><a href=\"#Импортируем-нужные-библиотеки\" data-toc-modified-id=\"Импортируем-нужные-библиотеки-1.1\"><span class=\"toc-item-num\">1.1&nbsp;&nbsp;</span>Импортируем нужные библиотеки</a></span></li><li><span><a href=\"#Записываем-данные-в-датафреймы\" data-toc-modified-id=\"Записываем-данные-в-датафреймы-1.2\"><span class=\"toc-item-num\">1.2&nbsp;&nbsp;</span>Записываем данные в датафреймы</a></span></li><li><span><a href=\"#Изучаем-данные\" data-toc-modified-id=\"Изучаем-данные-1.3\"><span class=\"toc-item-num\">1.3&nbsp;&nbsp;</span>Изучаем данные</a></span></li><li><span><a href=\"#Проверяем-формулу-вычисления-эффективности-обогащения\" data-toc-modified-id=\"Проверяем-формулу-вычисления-эффективности-обогащения-1.4\"><span class=\"toc-item-num\">1.4&nbsp;&nbsp;</span>Проверяем формулу вычисления эффективности обогащения</a></span></li><li><span><a href=\"#Анализ-признаков,-недоступных-в-тестовой-выборке\" data-toc-modified-id=\"Анализ-признаков,-недоступных-в-тестовой-выборке-1.5\"><span class=\"toc-item-num\">1.5&nbsp;&nbsp;</span>Анализ признаков, недоступных в тестовой выборке</a></span></li><li><span><a href=\"#Поиск-дубликатов-и-заполнение-пропусков\" data-toc-modified-id=\"Поиск-дубликатов-и-заполнение-пропусков-1.6\"><span class=\"toc-item-num\">1.6&nbsp;&nbsp;</span>Поиск дубликатов и заполнение пропусков</a></span><ul class=\"toc-item\"><li><span><a href=\"#Поиск-дубликатов\" data-toc-modified-id=\"Поиск-дубликатов-1.6.1\"><span class=\"toc-item-num\">1.6.1&nbsp;&nbsp;</span>Поиск дубликатов</a></span></li><li><span><a href=\"#Заполнение-пропусков\" data-toc-modified-id=\"Заполнение-пропусков-1.6.2\"><span class=\"toc-item-num\">1.6.2&nbsp;&nbsp;</span>Заполнение пропусков</a></span></li></ul></li></ul></li><li><span><a href=\"#Анализ-данных\" data-toc-modified-id=\"Анализ-данных-2\"><span class=\"toc-item-num\">2&nbsp;&nbsp;</span>Анализ данных</a></span><ul class=\"toc-item\"><li><span><a href=\"#Исследуем-изменение-концентрации-элементов-на-каждом-этапе\" data-toc-modified-id=\"Исследуем-изменение-концентрации-элементов-на-каждом-этапе-2.1\"><span class=\"toc-item-num\">2.1&nbsp;&nbsp;</span>Исследуем изменение концентрации элементов на каждом этапе</a></span><ul class=\"toc-item\"><li><span><a href=\"#Aurum\" data-toc-modified-id=\"Aurum-2.1.1\"><span class=\"toc-item-num\">2.1.1&nbsp;&nbsp;</span>Aurum</a></span></li><li><span><a href=\"#Argentum\" data-toc-modified-id=\"Argentum-2.1.2\"><span class=\"toc-item-num\">2.1.2&nbsp;&nbsp;</span>Argentum</a></span></li><li><span><a href=\"#Plumbum\" data-toc-modified-id=\"Plumbum-2.1.3\"><span class=\"toc-item-num\">2.1.3&nbsp;&nbsp;</span>Plumbum</a></span></li></ul></li><li><span><a href=\"#Анализируем-распределения-размеров-гранул-на-обучающей-и-тестовой-выборках\" data-toc-modified-id=\"Анализируем-распределения-размеров-гранул-на-обучающей-и-тестовой-выборках-2.2\"><span class=\"toc-item-num\">2.2&nbsp;&nbsp;</span>Анализируем распределения размеров гранул на обучающей и тестовой выборках</a></span></li><li><span><a href=\"#Исследуем-суммарные-концентрации\" data-toc-modified-id=\"Исследуем-суммарные-концентрации-2.3\"><span class=\"toc-item-num\">2.3&nbsp;&nbsp;</span>Исследуем суммарные концентрации</a></span></li></ul></li><li><span><a href=\"#Модель\" data-toc-modified-id=\"Модель-3\"><span class=\"toc-item-num\">3&nbsp;&nbsp;</span>Модель</a></span><ul class=\"toc-item\"><li><span><a href=\"#Пишем-функцию-для-вычисления-итогового-sMAPE\" data-toc-modified-id=\"Пишем-функцию-для-вычисления-итогового-sMAPE-3.1\"><span class=\"toc-item-num\">3.1&nbsp;&nbsp;</span>Пишем функцию для вычисления итогового sMAPE</a></span></li><li><span><a href=\"#Обучаем-модели\" data-toc-modified-id=\"Обучаем-модели-3.2\"><span class=\"toc-item-num\">3.2&nbsp;&nbsp;</span>Обучаем модели</a></span><ul class=\"toc-item\"><li><span><a href=\"#Готовим-данные\" data-toc-modified-id=\"Готовим-данные-3.2.1\"><span class=\"toc-item-num\">3.2.1&nbsp;&nbsp;</span>Готовим данные</a></span></li><li><span><a href=\"#Приступаем-к-обучению\" data-toc-modified-id=\"Приступаем-к-обучению-3.2.2\"><span class=\"toc-item-num\">3.2.2&nbsp;&nbsp;</span>Приступаем к обучению</a></span></li></ul></li><li><span><a href=\"#Проверка-на-тестовой-выборке\" data-toc-modified-id=\"Проверка-на-тестовой-выборке-3.3\"><span class=\"toc-item-num\">3.3&nbsp;&nbsp;</span>Проверка на тестовой выборке</a></span></li></ul></li><li><span><a href=\"#Общий-вывод\" data-toc-modified-id=\"Общий-вывод-4\"><span class=\"toc-item-num\">4&nbsp;&nbsp;</span>Общий вывод</a></span></li></ul></div>"
   ]
  },
  {
   "cell_type": "markdown",
   "metadata": {},
   "source": [
    "# Восстановление золота из руды"
   ]
  },
  {
   "cell_type": "markdown",
   "metadata": {},
   "source": [
    "Подготовьте прототип модели машинного обучения для «Цифры». Компания разрабатывает решения для эффективной работы промышленных предприятий.\n",
    "\n",
    "Модель должна предсказать коэффициент восстановления золота из золотосодержащей руды. Используйте данные с параметрами добычи и очистки. \n",
    "\n",
    "Модель поможет оптимизировать производство, чтобы не запускать предприятие с убыточными характеристиками.\n",
    "\n",
    "Вам нужно:\n",
    "\n",
    "1. Подготовить данные;\n",
    "2. Провести исследовательский анализ данных;\n",
    "3. Построить и обучить модель.\n",
    "\n",
    "Чтобы выполнить проект, обращайтесь к библиотекам *pandas*, *matplotlib* и *sklearn.* Вам поможет их документация."
   ]
  },
  {
   "cell_type": "markdown",
   "metadata": {},
   "source": [
    "## Подготовка данных"
   ]
  },
  {
   "cell_type": "markdown",
   "metadata": {
    "scrolled": false
   },
   "source": [
    "### Импортируем нужные библиотеки"
   ]
  },
  {
   "cell_type": "code",
   "execution_count": 76,
   "metadata": {},
   "outputs": [],
   "source": [
    "import pandas as pd\n",
    "import numpy as np\n",
    "import matplotlib.pyplot as plt\n",
    "import seaborn as sns\n",
    "\n",
    "from sklearn.preprocessing import StandardScaler\n",
    "from sklearn.linear_model import LinearRegression\n",
    "from sklearn.ensemble import RandomForestRegressor\n",
    "from sklearn.dummy import DummyRegressor\n",
    "from sklearn.model_selection import cross_validate\n",
    "from sklearn.metrics import make_scorer"
   ]
  },
  {
   "cell_type": "markdown",
   "metadata": {},
   "source": [
    "### Записываем данные в датафреймы"
   ]
  },
  {
   "cell_type": "code",
   "execution_count": 77,
   "metadata": {},
   "outputs": [],
   "source": [
    "try:\n",
    "    data_train = pd.read_csv('/datasets/gold_recovery_train_new.csv', index_col='date')\n",
    "    data_test = pd.read_csv('/datasets/gold_recovery_test_new.csv', index_col='date')\n",
    "    data_full = pd.read_csv('/datasets/gold_recovery_full_new.csv', index_col='date')\n",
    "\n",
    "except:\n",
    "    data_train = pd.read_csv('d:\\\\gold_recovery_train_new.csv', index_col='date')\n",
    "    data_test = pd.read_csv('d:\\\\gold_recovery_test_new.csv', index_col='date')\n",
    "    data_full = pd.read_csv('d:\\\\gold_recovery_full_new.csv', index_col='date')"
   ]
  },
  {
   "cell_type": "markdown",
   "metadata": {},
   "source": [
    "### Изучаем данные"
   ]
  },
  {
   "cell_type": "code",
   "execution_count": 78,
   "metadata": {},
   "outputs": [
    {
     "name": "stdout",
     "output_type": "stream",
     "text": [
      "<class 'pandas.core.frame.DataFrame'>\n",
      "Index: 14149 entries, 2016-01-15 00:00:00 to 2018-08-18 10:59:59\n",
      "Data columns (total 86 columns):\n",
      " #   Column                                              Non-Null Count  Dtype  \n",
      "---  ------                                              --------------  -----  \n",
      " 0   final.output.concentrate_ag                         14148 non-null  float64\n",
      " 1   final.output.concentrate_pb                         14148 non-null  float64\n",
      " 2   final.output.concentrate_sol                        13938 non-null  float64\n",
      " 3   final.output.concentrate_au                         14149 non-null  float64\n",
      " 4   final.output.recovery                               14149 non-null  float64\n",
      " 5   final.output.tail_ag                                14149 non-null  float64\n",
      " 6   final.output.tail_pb                                14049 non-null  float64\n",
      " 7   final.output.tail_sol                               14144 non-null  float64\n",
      " 8   final.output.tail_au                                14149 non-null  float64\n",
      " 9   primary_cleaner.input.sulfate                       14129 non-null  float64\n",
      " 10  primary_cleaner.input.depressant                    14117 non-null  float64\n",
      " 11  primary_cleaner.input.feed_size                     14149 non-null  float64\n",
      " 12  primary_cleaner.input.xanthate                      14049 non-null  float64\n",
      " 13  primary_cleaner.output.concentrate_ag               14149 non-null  float64\n",
      " 14  primary_cleaner.output.concentrate_pb               14063 non-null  float64\n",
      " 15  primary_cleaner.output.concentrate_sol              13863 non-null  float64\n",
      " 16  primary_cleaner.output.concentrate_au               14149 non-null  float64\n",
      " 17  primary_cleaner.output.tail_ag                      14148 non-null  float64\n",
      " 18  primary_cleaner.output.tail_pb                      14134 non-null  float64\n",
      " 19  primary_cleaner.output.tail_sol                     14103 non-null  float64\n",
      " 20  primary_cleaner.output.tail_au                      14149 non-null  float64\n",
      " 21  primary_cleaner.state.floatbank8_a_air              14145 non-null  float64\n",
      " 22  primary_cleaner.state.floatbank8_a_level            14148 non-null  float64\n",
      " 23  primary_cleaner.state.floatbank8_b_air              14145 non-null  float64\n",
      " 24  primary_cleaner.state.floatbank8_b_level            14148 non-null  float64\n",
      " 25  primary_cleaner.state.floatbank8_c_air              14147 non-null  float64\n",
      " 26  primary_cleaner.state.floatbank8_c_level            14148 non-null  float64\n",
      " 27  primary_cleaner.state.floatbank8_d_air              14146 non-null  float64\n",
      " 28  primary_cleaner.state.floatbank8_d_level            14148 non-null  float64\n",
      " 29  rougher.calculation.sulfate_to_au_concentrate       14148 non-null  float64\n",
      " 30  rougher.calculation.floatbank10_sulfate_to_au_feed  14148 non-null  float64\n",
      " 31  rougher.calculation.floatbank11_sulfate_to_au_feed  14148 non-null  float64\n",
      " 32  rougher.calculation.au_pb_ratio                     14149 non-null  float64\n",
      " 33  rougher.input.feed_ag                               14149 non-null  float64\n",
      " 34  rougher.input.feed_pb                               14049 non-null  float64\n",
      " 35  rougher.input.feed_rate                             14141 non-null  float64\n",
      " 36  rougher.input.feed_size                             14005 non-null  float64\n",
      " 37  rougher.input.feed_sol                              14071 non-null  float64\n",
      " 38  rougher.input.feed_au                               14149 non-null  float64\n",
      " 39  rougher.input.floatbank10_sulfate                   14120 non-null  float64\n",
      " 40  rougher.input.floatbank10_xanthate                  14141 non-null  float64\n",
      " 41  rougher.input.floatbank11_sulfate                   14113 non-null  float64\n",
      " 42  rougher.input.floatbank11_xanthate                  13721 non-null  float64\n",
      " 43  rougher.output.concentrate_ag                       14149 non-null  float64\n",
      " 44  rougher.output.concentrate_pb                       14149 non-null  float64\n",
      " 45  rougher.output.concentrate_sol                      14127 non-null  float64\n",
      " 46  rougher.output.concentrate_au                       14149 non-null  float64\n",
      " 47  rougher.output.recovery                             14149 non-null  float64\n",
      " 48  rougher.output.tail_ag                              14148 non-null  float64\n",
      " 49  rougher.output.tail_pb                              14149 non-null  float64\n",
      " 50  rougher.output.tail_sol                             14149 non-null  float64\n",
      " 51  rougher.output.tail_au                              14149 non-null  float64\n",
      " 52  rougher.state.floatbank10_a_air                     14148 non-null  float64\n",
      " 53  rougher.state.floatbank10_a_level                   14148 non-null  float64\n",
      " 54  rougher.state.floatbank10_b_air                     14148 non-null  float64\n",
      " 55  rougher.state.floatbank10_b_level                   14148 non-null  float64\n",
      " 56  rougher.state.floatbank10_c_air                     14148 non-null  float64\n",
      " 57  rougher.state.floatbank10_c_level                   14148 non-null  float64\n",
      " 58  rougher.state.floatbank10_d_air                     14149 non-null  float64\n",
      " 59  rougher.state.floatbank10_d_level                   14149 non-null  float64\n",
      " 60  rougher.state.floatbank10_e_air                     13713 non-null  float64\n",
      " 61  rougher.state.floatbank10_e_level                   14149 non-null  float64\n",
      " 62  rougher.state.floatbank10_f_air                     14149 non-null  float64\n",
      " 63  rougher.state.floatbank10_f_level                   14149 non-null  float64\n",
      " 64  secondary_cleaner.output.tail_ag                    14147 non-null  float64\n",
      " 65  secondary_cleaner.output.tail_pb                    14139 non-null  float64\n",
      " 66  secondary_cleaner.output.tail_sol                   12544 non-null  float64\n",
      " 67  secondary_cleaner.output.tail_au                    14149 non-null  float64\n",
      " 68  secondary_cleaner.state.floatbank2_a_air            13932 non-null  float64\n",
      " 69  secondary_cleaner.state.floatbank2_a_level          14148 non-null  float64\n",
      " 70  secondary_cleaner.state.floatbank2_b_air            14128 non-null  float64\n",
      " 71  secondary_cleaner.state.floatbank2_b_level          14148 non-null  float64\n",
      " 72  secondary_cleaner.state.floatbank3_a_air            14145 non-null  float64\n",
      " 73  secondary_cleaner.state.floatbank3_a_level          14148 non-null  float64\n",
      " 74  secondary_cleaner.state.floatbank3_b_air            14148 non-null  float64\n",
      " 75  secondary_cleaner.state.floatbank3_b_level          14148 non-null  float64\n",
      " 76  secondary_cleaner.state.floatbank4_a_air            14143 non-null  float64\n",
      " 77  secondary_cleaner.state.floatbank4_a_level          14148 non-null  float64\n",
      " 78  secondary_cleaner.state.floatbank4_b_air            14148 non-null  float64\n",
      " 79  secondary_cleaner.state.floatbank4_b_level          14148 non-null  float64\n",
      " 80  secondary_cleaner.state.floatbank5_a_air            14148 non-null  float64\n",
      " 81  secondary_cleaner.state.floatbank5_a_level          14148 non-null  float64\n",
      " 82  secondary_cleaner.state.floatbank5_b_air            14148 non-null  float64\n",
      " 83  secondary_cleaner.state.floatbank5_b_level          14148 non-null  float64\n",
      " 84  secondary_cleaner.state.floatbank6_a_air            14147 non-null  float64\n",
      " 85  secondary_cleaner.state.floatbank6_a_level          14148 non-null  float64\n",
      "dtypes: float64(86)\n",
      "memory usage: 9.4+ MB\n"
     ]
    },
    {
     "data": {
      "text/html": [
       "<div>\n",
       "<style scoped>\n",
       "    .dataframe tbody tr th:only-of-type {\n",
       "        vertical-align: middle;\n",
       "    }\n",
       "\n",
       "    .dataframe tbody tr th {\n",
       "        vertical-align: top;\n",
       "    }\n",
       "\n",
       "    .dataframe thead th {\n",
       "        text-align: right;\n",
       "    }\n",
       "</style>\n",
       "<table border=\"1\" class=\"dataframe\">\n",
       "  <thead>\n",
       "    <tr style=\"text-align: right;\">\n",
       "      <th></th>\n",
       "      <th>final.output.concentrate_ag</th>\n",
       "      <th>final.output.concentrate_pb</th>\n",
       "      <th>final.output.concentrate_sol</th>\n",
       "      <th>final.output.concentrate_au</th>\n",
       "      <th>final.output.recovery</th>\n",
       "      <th>final.output.tail_ag</th>\n",
       "      <th>final.output.tail_pb</th>\n",
       "      <th>final.output.tail_sol</th>\n",
       "      <th>final.output.tail_au</th>\n",
       "      <th>primary_cleaner.input.sulfate</th>\n",
       "      <th>...</th>\n",
       "      <th>secondary_cleaner.state.floatbank4_a_air</th>\n",
       "      <th>secondary_cleaner.state.floatbank4_a_level</th>\n",
       "      <th>secondary_cleaner.state.floatbank4_b_air</th>\n",
       "      <th>secondary_cleaner.state.floatbank4_b_level</th>\n",
       "      <th>secondary_cleaner.state.floatbank5_a_air</th>\n",
       "      <th>secondary_cleaner.state.floatbank5_a_level</th>\n",
       "      <th>secondary_cleaner.state.floatbank5_b_air</th>\n",
       "      <th>secondary_cleaner.state.floatbank5_b_level</th>\n",
       "      <th>secondary_cleaner.state.floatbank6_a_air</th>\n",
       "      <th>secondary_cleaner.state.floatbank6_a_level</th>\n",
       "    </tr>\n",
       "    <tr>\n",
       "      <th>date</th>\n",
       "      <th></th>\n",
       "      <th></th>\n",
       "      <th></th>\n",
       "      <th></th>\n",
       "      <th></th>\n",
       "      <th></th>\n",
       "      <th></th>\n",
       "      <th></th>\n",
       "      <th></th>\n",
       "      <th></th>\n",
       "      <th></th>\n",
       "      <th></th>\n",
       "      <th></th>\n",
       "      <th></th>\n",
       "      <th></th>\n",
       "      <th></th>\n",
       "      <th></th>\n",
       "      <th></th>\n",
       "      <th></th>\n",
       "      <th></th>\n",
       "      <th></th>\n",
       "    </tr>\n",
       "  </thead>\n",
       "  <tbody>\n",
       "    <tr>\n",
       "      <th>2016-01-15 00:00:00</th>\n",
       "      <td>6.055403</td>\n",
       "      <td>9.889648</td>\n",
       "      <td>5.507324</td>\n",
       "      <td>42.192020</td>\n",
       "      <td>70.541216</td>\n",
       "      <td>10.411962</td>\n",
       "      <td>0.895447</td>\n",
       "      <td>16.904297</td>\n",
       "      <td>2.143149</td>\n",
       "      <td>127.092003</td>\n",
       "      <td>...</td>\n",
       "      <td>14.016835</td>\n",
       "      <td>-502.488007</td>\n",
       "      <td>12.099931</td>\n",
       "      <td>-504.715942</td>\n",
       "      <td>9.925633</td>\n",
       "      <td>-498.310211</td>\n",
       "      <td>8.079666</td>\n",
       "      <td>-500.470978</td>\n",
       "      <td>14.151341</td>\n",
       "      <td>-605.841980</td>\n",
       "    </tr>\n",
       "    <tr>\n",
       "      <th>2016-01-15 01:00:00</th>\n",
       "      <td>6.029369</td>\n",
       "      <td>9.968944</td>\n",
       "      <td>5.257781</td>\n",
       "      <td>42.701629</td>\n",
       "      <td>69.266198</td>\n",
       "      <td>10.462676</td>\n",
       "      <td>0.927452</td>\n",
       "      <td>16.634514</td>\n",
       "      <td>2.224930</td>\n",
       "      <td>125.629232</td>\n",
       "      <td>...</td>\n",
       "      <td>13.992281</td>\n",
       "      <td>-505.503262</td>\n",
       "      <td>11.950531</td>\n",
       "      <td>-501.331529</td>\n",
       "      <td>10.039245</td>\n",
       "      <td>-500.169983</td>\n",
       "      <td>7.984757</td>\n",
       "      <td>-500.582168</td>\n",
       "      <td>13.998353</td>\n",
       "      <td>-599.787184</td>\n",
       "    </tr>\n",
       "    <tr>\n",
       "      <th>2016-01-15 02:00:00</th>\n",
       "      <td>6.055926</td>\n",
       "      <td>10.213995</td>\n",
       "      <td>5.383759</td>\n",
       "      <td>42.657501</td>\n",
       "      <td>68.116445</td>\n",
       "      <td>10.507046</td>\n",
       "      <td>0.953716</td>\n",
       "      <td>16.208849</td>\n",
       "      <td>2.257889</td>\n",
       "      <td>123.819808</td>\n",
       "      <td>...</td>\n",
       "      <td>14.015015</td>\n",
       "      <td>-502.520901</td>\n",
       "      <td>11.912783</td>\n",
       "      <td>-501.133383</td>\n",
       "      <td>10.070913</td>\n",
       "      <td>-500.129135</td>\n",
       "      <td>8.013877</td>\n",
       "      <td>-500.517572</td>\n",
       "      <td>14.028663</td>\n",
       "      <td>-601.427363</td>\n",
       "    </tr>\n",
       "    <tr>\n",
       "      <th>2016-01-15 03:00:00</th>\n",
       "      <td>6.047977</td>\n",
       "      <td>9.977019</td>\n",
       "      <td>4.858634</td>\n",
       "      <td>42.689819</td>\n",
       "      <td>68.347543</td>\n",
       "      <td>10.422762</td>\n",
       "      <td>0.883763</td>\n",
       "      <td>16.532835</td>\n",
       "      <td>2.146849</td>\n",
       "      <td>122.270188</td>\n",
       "      <td>...</td>\n",
       "      <td>14.036510</td>\n",
       "      <td>-500.857308</td>\n",
       "      <td>11.999550</td>\n",
       "      <td>-501.193686</td>\n",
       "      <td>9.970366</td>\n",
       "      <td>-499.201640</td>\n",
       "      <td>7.977324</td>\n",
       "      <td>-500.255908</td>\n",
       "      <td>14.005551</td>\n",
       "      <td>-599.996129</td>\n",
       "    </tr>\n",
       "    <tr>\n",
       "      <th>2016-01-15 04:00:00</th>\n",
       "      <td>6.148599</td>\n",
       "      <td>10.142511</td>\n",
       "      <td>4.939416</td>\n",
       "      <td>42.774141</td>\n",
       "      <td>66.927016</td>\n",
       "      <td>10.360302</td>\n",
       "      <td>0.792826</td>\n",
       "      <td>16.525686</td>\n",
       "      <td>2.055292</td>\n",
       "      <td>117.988169</td>\n",
       "      <td>...</td>\n",
       "      <td>14.027298</td>\n",
       "      <td>-499.838632</td>\n",
       "      <td>11.953070</td>\n",
       "      <td>-501.053894</td>\n",
       "      <td>9.925709</td>\n",
       "      <td>-501.686727</td>\n",
       "      <td>7.894242</td>\n",
       "      <td>-500.356035</td>\n",
       "      <td>13.996647</td>\n",
       "      <td>-601.496691</td>\n",
       "    </tr>\n",
       "    <tr>\n",
       "      <th>2016-01-15 05:00:00</th>\n",
       "      <td>6.482968</td>\n",
       "      <td>10.049416</td>\n",
       "      <td>5.480257</td>\n",
       "      <td>41.633678</td>\n",
       "      <td>69.465816</td>\n",
       "      <td>10.182708</td>\n",
       "      <td>0.664118</td>\n",
       "      <td>16.999638</td>\n",
       "      <td>1.918586</td>\n",
       "      <td>115.581252</td>\n",
       "      <td>...</td>\n",
       "      <td>13.938497</td>\n",
       "      <td>-500.970168</td>\n",
       "      <td>11.883350</td>\n",
       "      <td>-500.395298</td>\n",
       "      <td>10.054147</td>\n",
       "      <td>-496.374715</td>\n",
       "      <td>7.965083</td>\n",
       "      <td>-499.364752</td>\n",
       "      <td>14.017067</td>\n",
       "      <td>-599.707915</td>\n",
       "    </tr>\n",
       "    <tr>\n",
       "      <th>2016-01-15 06:00:00</th>\n",
       "      <td>6.533849</td>\n",
       "      <td>10.058141</td>\n",
       "      <td>4.569100</td>\n",
       "      <td>41.995316</td>\n",
       "      <td>69.300835</td>\n",
       "      <td>10.304598</td>\n",
       "      <td>0.807342</td>\n",
       "      <td>16.723575</td>\n",
       "      <td>2.058913</td>\n",
       "      <td>117.322323</td>\n",
       "      <td>...</td>\n",
       "      <td>14.046819</td>\n",
       "      <td>-500.971133</td>\n",
       "      <td>12.091543</td>\n",
       "      <td>-500.501426</td>\n",
       "      <td>10.003247</td>\n",
       "      <td>-497.083180</td>\n",
       "      <td>8.010890</td>\n",
       "      <td>-500.002423</td>\n",
       "      <td>14.029649</td>\n",
       "      <td>-600.905470</td>\n",
       "    </tr>\n",
       "    <tr>\n",
       "      <th>2016-01-15 07:00:00</th>\n",
       "      <td>6.130823</td>\n",
       "      <td>9.935481</td>\n",
       "      <td>4.389813</td>\n",
       "      <td>42.452727</td>\n",
       "      <td>70.230976</td>\n",
       "      <td>10.443288</td>\n",
       "      <td>0.949346</td>\n",
       "      <td>16.689959</td>\n",
       "      <td>2.143437</td>\n",
       "      <td>124.592960</td>\n",
       "      <td>...</td>\n",
       "      <td>13.974691</td>\n",
       "      <td>-501.819696</td>\n",
       "      <td>12.101324</td>\n",
       "      <td>-500.583446</td>\n",
       "      <td>9.873169</td>\n",
       "      <td>-499.171928</td>\n",
       "      <td>7.993381</td>\n",
       "      <td>-499.794518</td>\n",
       "      <td>13.984498</td>\n",
       "      <td>-600.411070</td>\n",
       "    </tr>\n",
       "    <tr>\n",
       "      <th>2016-01-15 08:00:00</th>\n",
       "      <td>5.834140</td>\n",
       "      <td>10.071156</td>\n",
       "      <td>4.876389</td>\n",
       "      <td>43.404078</td>\n",
       "      <td>69.688595</td>\n",
       "      <td>10.420140</td>\n",
       "      <td>1.065453</td>\n",
       "      <td>17.201948</td>\n",
       "      <td>2.209881</td>\n",
       "      <td>131.781026</td>\n",
       "      <td>...</td>\n",
       "      <td>13.964030</td>\n",
       "      <td>-504.252450</td>\n",
       "      <td>12.060738</td>\n",
       "      <td>-501.174549</td>\n",
       "      <td>10.033838</td>\n",
       "      <td>-501.178133</td>\n",
       "      <td>7.881604</td>\n",
       "      <td>-499.729434</td>\n",
       "      <td>13.967135</td>\n",
       "      <td>-599.061188</td>\n",
       "    </tr>\n",
       "    <tr>\n",
       "      <th>2016-01-15 09:00:00</th>\n",
       "      <td>5.687063</td>\n",
       "      <td>9.980404</td>\n",
       "      <td>5.282514</td>\n",
       "      <td>43.235220</td>\n",
       "      <td>70.279619</td>\n",
       "      <td>10.487013</td>\n",
       "      <td>1.159805</td>\n",
       "      <td>17.483979</td>\n",
       "      <td>2.209593</td>\n",
       "      <td>138.120409</td>\n",
       "      <td>...</td>\n",
       "      <td>13.989632</td>\n",
       "      <td>-503.195299</td>\n",
       "      <td>12.052233</td>\n",
       "      <td>-500.928547</td>\n",
       "      <td>9.962574</td>\n",
       "      <td>-502.986357</td>\n",
       "      <td>7.979219</td>\n",
       "      <td>-500.146835</td>\n",
       "      <td>13.981614</td>\n",
       "      <td>-598.070855</td>\n",
       "    </tr>\n",
       "    <tr>\n",
       "      <th>2016-01-15 10:00:00</th>\n",
       "      <td>5.706261</td>\n",
       "      <td>10.242511</td>\n",
       "      <td>5.214161</td>\n",
       "      <td>43.487291</td>\n",
       "      <td>70.973641</td>\n",
       "      <td>10.473539</td>\n",
       "      <td>1.171183</td>\n",
       "      <td>17.717049</td>\n",
       "      <td>2.200997</td>\n",
       "      <td>146.153696</td>\n",
       "      <td>...</td>\n",
       "      <td>14.008944</td>\n",
       "      <td>-504.170807</td>\n",
       "      <td>11.995903</td>\n",
       "      <td>-501.269181</td>\n",
       "      <td>10.043100</td>\n",
       "      <td>-498.529996</td>\n",
       "      <td>8.002633</td>\n",
       "      <td>-499.761922</td>\n",
       "      <td>14.004767</td>\n",
       "      <td>-599.595324</td>\n",
       "    </tr>\n",
       "    <tr>\n",
       "      <th>2016-01-15 11:00:00</th>\n",
       "      <td>5.582300</td>\n",
       "      <td>10.029878</td>\n",
       "      <td>5.751567</td>\n",
       "      <td>43.467440</td>\n",
       "      <td>71.380681</td>\n",
       "      <td>10.394314</td>\n",
       "      <td>1.087722</td>\n",
       "      <td>18.059770</td>\n",
       "      <td>2.098777</td>\n",
       "      <td>145.436812</td>\n",
       "      <td>...</td>\n",
       "      <td>14.029704</td>\n",
       "      <td>-503.940828</td>\n",
       "      <td>12.022296</td>\n",
       "      <td>-501.238477</td>\n",
       "      <td>10.020094</td>\n",
       "      <td>-500.061845</td>\n",
       "      <td>7.964024</td>\n",
       "      <td>-499.283982</td>\n",
       "      <td>14.003011</td>\n",
       "      <td>-599.879856</td>\n",
       "    </tr>\n",
       "    <tr>\n",
       "      <th>2016-01-15 12:00:00</th>\n",
       "      <td>5.664983</td>\n",
       "      <td>10.168953</td>\n",
       "      <td>5.484318</td>\n",
       "      <td>43.339714</td>\n",
       "      <td>72.659046</td>\n",
       "      <td>10.475957</td>\n",
       "      <td>1.050592</td>\n",
       "      <td>17.525656</td>\n",
       "      <td>2.064422</td>\n",
       "      <td>147.944885</td>\n",
       "      <td>...</td>\n",
       "      <td>13.983963</td>\n",
       "      <td>-503.675714</td>\n",
       "      <td>11.928745</td>\n",
       "      <td>-500.583183</td>\n",
       "      <td>9.970359</td>\n",
       "      <td>-498.822343</td>\n",
       "      <td>8.016377</td>\n",
       "      <td>-499.013145</td>\n",
       "      <td>14.000032</td>\n",
       "      <td>-600.024741</td>\n",
       "    </tr>\n",
       "    <tr>\n",
       "      <th>2016-01-15 13:00:00</th>\n",
       "      <td>5.474776</td>\n",
       "      <td>9.813218</td>\n",
       "      <td>5.587525</td>\n",
       "      <td>44.099758</td>\n",
       "      <td>73.588844</td>\n",
       "      <td>10.378293</td>\n",
       "      <td>0.900833</td>\n",
       "      <td>17.464201</td>\n",
       "      <td>1.975039</td>\n",
       "      <td>147.863164</td>\n",
       "      <td>...</td>\n",
       "      <td>13.981325</td>\n",
       "      <td>-504.947519</td>\n",
       "      <td>12.014060</td>\n",
       "      <td>-500.647565</td>\n",
       "      <td>10.000087</td>\n",
       "      <td>-499.306972</td>\n",
       "      <td>8.002007</td>\n",
       "      <td>-499.970754</td>\n",
       "      <td>14.019977</td>\n",
       "      <td>-599.986714</td>\n",
       "    </tr>\n",
       "    <tr>\n",
       "      <th>2016-01-15 14:00:00</th>\n",
       "      <td>5.437716</td>\n",
       "      <td>9.781181</td>\n",
       "      <td>6.057627</td>\n",
       "      <td>44.284117</td>\n",
       "      <td>70.847012</td>\n",
       "      <td>10.324415</td>\n",
       "      <td>0.961210</td>\n",
       "      <td>18.185262</td>\n",
       "      <td>2.161256</td>\n",
       "      <td>144.447728</td>\n",
       "      <td>...</td>\n",
       "      <td>13.996317</td>\n",
       "      <td>-502.995300</td>\n",
       "      <td>11.980055</td>\n",
       "      <td>-500.607751</td>\n",
       "      <td>9.964501</td>\n",
       "      <td>-499.261719</td>\n",
       "      <td>8.065048</td>\n",
       "      <td>-499.492395</td>\n",
       "      <td>13.997801</td>\n",
       "      <td>-600.621416</td>\n",
       "    </tr>\n",
       "    <tr>\n",
       "      <th>2016-01-15 15:00:00</th>\n",
       "      <td>5.454277</td>\n",
       "      <td>10.019066</td>\n",
       "      <td>5.744694</td>\n",
       "      <td>44.081600</td>\n",
       "      <td>68.753219</td>\n",
       "      <td>10.352547</td>\n",
       "      <td>1.137378</td>\n",
       "      <td>18.431646</td>\n",
       "      <td>2.336759</td>\n",
       "      <td>142.062923</td>\n",
       "      <td>...</td>\n",
       "      <td>14.015223</td>\n",
       "      <td>-503.202022</td>\n",
       "      <td>11.994299</td>\n",
       "      <td>-500.337803</td>\n",
       "      <td>10.037149</td>\n",
       "      <td>-499.395047</td>\n",
       "      <td>8.056439</td>\n",
       "      <td>-499.479716</td>\n",
       "      <td>13.977626</td>\n",
       "      <td>-600.075029</td>\n",
       "    </tr>\n",
       "    <tr>\n",
       "      <th>2016-01-15 16:00:00</th>\n",
       "      <td>5.410126</td>\n",
       "      <td>10.868937</td>\n",
       "      <td>6.258693</td>\n",
       "      <td>43.440341</td>\n",
       "      <td>67.839536</td>\n",
       "      <td>10.382891</td>\n",
       "      <td>1.239738</td>\n",
       "      <td>18.544924</td>\n",
       "      <td>2.423143</td>\n",
       "      <td>147.591165</td>\n",
       "      <td>...</td>\n",
       "      <td>14.031220</td>\n",
       "      <td>-503.471307</td>\n",
       "      <td>11.966426</td>\n",
       "      <td>-500.656842</td>\n",
       "      <td>10.051620</td>\n",
       "      <td>-498.318772</td>\n",
       "      <td>8.018091</td>\n",
       "      <td>-499.696138</td>\n",
       "      <td>13.958937</td>\n",
       "      <td>-599.213013</td>\n",
       "    </tr>\n",
       "    <tr>\n",
       "      <th>2016-01-15 17:00:00</th>\n",
       "      <td>5.572499</td>\n",
       "      <td>10.841483</td>\n",
       "      <td>6.841936</td>\n",
       "      <td>42.844534</td>\n",
       "      <td>69.633763</td>\n",
       "      <td>10.349616</td>\n",
       "      <td>1.179975</td>\n",
       "      <td>18.748028</td>\n",
       "      <td>2.327442</td>\n",
       "      <td>151.394301</td>\n",
       "      <td>...</td>\n",
       "      <td>14.019768</td>\n",
       "      <td>-541.569984</td>\n",
       "      <td>12.021831</td>\n",
       "      <td>-545.572166</td>\n",
       "      <td>10.021058</td>\n",
       "      <td>-501.386982</td>\n",
       "      <td>7.947110</td>\n",
       "      <td>-500.062750</td>\n",
       "      <td>14.014991</td>\n",
       "      <td>-600.670573</td>\n",
       "    </tr>\n",
       "    <tr>\n",
       "      <th>2016-01-15 18:00:00</th>\n",
       "      <td>5.719113</td>\n",
       "      <td>10.621027</td>\n",
       "      <td>6.459561</td>\n",
       "      <td>42.435181</td>\n",
       "      <td>68.786981</td>\n",
       "      <td>10.286797</td>\n",
       "      <td>1.171459</td>\n",
       "      <td>19.131121</td>\n",
       "      <td>2.314786</td>\n",
       "      <td>150.944211</td>\n",
       "      <td>...</td>\n",
       "      <td>14.003057</td>\n",
       "      <td>-503.152258</td>\n",
       "      <td>12.016724</td>\n",
       "      <td>-501.136446</td>\n",
       "      <td>10.041864</td>\n",
       "      <td>-499.338844</td>\n",
       "      <td>8.007022</td>\n",
       "      <td>-500.279583</td>\n",
       "      <td>14.001271</td>\n",
       "      <td>-602.072365</td>\n",
       "    </tr>\n",
       "    <tr>\n",
       "      <th>2016-01-15 19:00:00</th>\n",
       "      <td>5.658943</td>\n",
       "      <td>10.436002</td>\n",
       "      <td>5.942418</td>\n",
       "      <td>42.509402</td>\n",
       "      <td>70.348300</td>\n",
       "      <td>10.232392</td>\n",
       "      <td>1.174845</td>\n",
       "      <td>19.498566</td>\n",
       "      <td>2.272460</td>\n",
       "      <td>149.998260</td>\n",
       "      <td>...</td>\n",
       "      <td>14.001632</td>\n",
       "      <td>-509.808331</td>\n",
       "      <td>12.087669</td>\n",
       "      <td>-510.782166</td>\n",
       "      <td>10.032043</td>\n",
       "      <td>-499.128183</td>\n",
       "      <td>8.016140</td>\n",
       "      <td>-499.806844</td>\n",
       "      <td>13.949790</td>\n",
       "      <td>-600.140776</td>\n",
       "    </tr>\n",
       "  </tbody>\n",
       "</table>\n",
       "<p>20 rows × 86 columns</p>\n",
       "</div>"
      ],
      "text/plain": [
       "                     final.output.concentrate_ag  final.output.concentrate_pb  \\\n",
       "date                                                                            \n",
       "2016-01-15 00:00:00                     6.055403                     9.889648   \n",
       "2016-01-15 01:00:00                     6.029369                     9.968944   \n",
       "2016-01-15 02:00:00                     6.055926                    10.213995   \n",
       "2016-01-15 03:00:00                     6.047977                     9.977019   \n",
       "2016-01-15 04:00:00                     6.148599                    10.142511   \n",
       "2016-01-15 05:00:00                     6.482968                    10.049416   \n",
       "2016-01-15 06:00:00                     6.533849                    10.058141   \n",
       "2016-01-15 07:00:00                     6.130823                     9.935481   \n",
       "2016-01-15 08:00:00                     5.834140                    10.071156   \n",
       "2016-01-15 09:00:00                     5.687063                     9.980404   \n",
       "2016-01-15 10:00:00                     5.706261                    10.242511   \n",
       "2016-01-15 11:00:00                     5.582300                    10.029878   \n",
       "2016-01-15 12:00:00                     5.664983                    10.168953   \n",
       "2016-01-15 13:00:00                     5.474776                     9.813218   \n",
       "2016-01-15 14:00:00                     5.437716                     9.781181   \n",
       "2016-01-15 15:00:00                     5.454277                    10.019066   \n",
       "2016-01-15 16:00:00                     5.410126                    10.868937   \n",
       "2016-01-15 17:00:00                     5.572499                    10.841483   \n",
       "2016-01-15 18:00:00                     5.719113                    10.621027   \n",
       "2016-01-15 19:00:00                     5.658943                    10.436002   \n",
       "\n",
       "                     final.output.concentrate_sol  \\\n",
       "date                                                \n",
       "2016-01-15 00:00:00                      5.507324   \n",
       "2016-01-15 01:00:00                      5.257781   \n",
       "2016-01-15 02:00:00                      5.383759   \n",
       "2016-01-15 03:00:00                      4.858634   \n",
       "2016-01-15 04:00:00                      4.939416   \n",
       "2016-01-15 05:00:00                      5.480257   \n",
       "2016-01-15 06:00:00                      4.569100   \n",
       "2016-01-15 07:00:00                      4.389813   \n",
       "2016-01-15 08:00:00                      4.876389   \n",
       "2016-01-15 09:00:00                      5.282514   \n",
       "2016-01-15 10:00:00                      5.214161   \n",
       "2016-01-15 11:00:00                      5.751567   \n",
       "2016-01-15 12:00:00                      5.484318   \n",
       "2016-01-15 13:00:00                      5.587525   \n",
       "2016-01-15 14:00:00                      6.057627   \n",
       "2016-01-15 15:00:00                      5.744694   \n",
       "2016-01-15 16:00:00                      6.258693   \n",
       "2016-01-15 17:00:00                      6.841936   \n",
       "2016-01-15 18:00:00                      6.459561   \n",
       "2016-01-15 19:00:00                      5.942418   \n",
       "\n",
       "                     final.output.concentrate_au  final.output.recovery  \\\n",
       "date                                                                      \n",
       "2016-01-15 00:00:00                    42.192020              70.541216   \n",
       "2016-01-15 01:00:00                    42.701629              69.266198   \n",
       "2016-01-15 02:00:00                    42.657501              68.116445   \n",
       "2016-01-15 03:00:00                    42.689819              68.347543   \n",
       "2016-01-15 04:00:00                    42.774141              66.927016   \n",
       "2016-01-15 05:00:00                    41.633678              69.465816   \n",
       "2016-01-15 06:00:00                    41.995316              69.300835   \n",
       "2016-01-15 07:00:00                    42.452727              70.230976   \n",
       "2016-01-15 08:00:00                    43.404078              69.688595   \n",
       "2016-01-15 09:00:00                    43.235220              70.279619   \n",
       "2016-01-15 10:00:00                    43.487291              70.973641   \n",
       "2016-01-15 11:00:00                    43.467440              71.380681   \n",
       "2016-01-15 12:00:00                    43.339714              72.659046   \n",
       "2016-01-15 13:00:00                    44.099758              73.588844   \n",
       "2016-01-15 14:00:00                    44.284117              70.847012   \n",
       "2016-01-15 15:00:00                    44.081600              68.753219   \n",
       "2016-01-15 16:00:00                    43.440341              67.839536   \n",
       "2016-01-15 17:00:00                    42.844534              69.633763   \n",
       "2016-01-15 18:00:00                    42.435181              68.786981   \n",
       "2016-01-15 19:00:00                    42.509402              70.348300   \n",
       "\n",
       "                     final.output.tail_ag  final.output.tail_pb  \\\n",
       "date                                                              \n",
       "2016-01-15 00:00:00             10.411962              0.895447   \n",
       "2016-01-15 01:00:00             10.462676              0.927452   \n",
       "2016-01-15 02:00:00             10.507046              0.953716   \n",
       "2016-01-15 03:00:00             10.422762              0.883763   \n",
       "2016-01-15 04:00:00             10.360302              0.792826   \n",
       "2016-01-15 05:00:00             10.182708              0.664118   \n",
       "2016-01-15 06:00:00             10.304598              0.807342   \n",
       "2016-01-15 07:00:00             10.443288              0.949346   \n",
       "2016-01-15 08:00:00             10.420140              1.065453   \n",
       "2016-01-15 09:00:00             10.487013              1.159805   \n",
       "2016-01-15 10:00:00             10.473539              1.171183   \n",
       "2016-01-15 11:00:00             10.394314              1.087722   \n",
       "2016-01-15 12:00:00             10.475957              1.050592   \n",
       "2016-01-15 13:00:00             10.378293              0.900833   \n",
       "2016-01-15 14:00:00             10.324415              0.961210   \n",
       "2016-01-15 15:00:00             10.352547              1.137378   \n",
       "2016-01-15 16:00:00             10.382891              1.239738   \n",
       "2016-01-15 17:00:00             10.349616              1.179975   \n",
       "2016-01-15 18:00:00             10.286797              1.171459   \n",
       "2016-01-15 19:00:00             10.232392              1.174845   \n",
       "\n",
       "                     final.output.tail_sol  final.output.tail_au  \\\n",
       "date                                                               \n",
       "2016-01-15 00:00:00              16.904297              2.143149   \n",
       "2016-01-15 01:00:00              16.634514              2.224930   \n",
       "2016-01-15 02:00:00              16.208849              2.257889   \n",
       "2016-01-15 03:00:00              16.532835              2.146849   \n",
       "2016-01-15 04:00:00              16.525686              2.055292   \n",
       "2016-01-15 05:00:00              16.999638              1.918586   \n",
       "2016-01-15 06:00:00              16.723575              2.058913   \n",
       "2016-01-15 07:00:00              16.689959              2.143437   \n",
       "2016-01-15 08:00:00              17.201948              2.209881   \n",
       "2016-01-15 09:00:00              17.483979              2.209593   \n",
       "2016-01-15 10:00:00              17.717049              2.200997   \n",
       "2016-01-15 11:00:00              18.059770              2.098777   \n",
       "2016-01-15 12:00:00              17.525656              2.064422   \n",
       "2016-01-15 13:00:00              17.464201              1.975039   \n",
       "2016-01-15 14:00:00              18.185262              2.161256   \n",
       "2016-01-15 15:00:00              18.431646              2.336759   \n",
       "2016-01-15 16:00:00              18.544924              2.423143   \n",
       "2016-01-15 17:00:00              18.748028              2.327442   \n",
       "2016-01-15 18:00:00              19.131121              2.314786   \n",
       "2016-01-15 19:00:00              19.498566              2.272460   \n",
       "\n",
       "                     primary_cleaner.input.sulfate  ...  \\\n",
       "date                                                ...   \n",
       "2016-01-15 00:00:00                     127.092003  ...   \n",
       "2016-01-15 01:00:00                     125.629232  ...   \n",
       "2016-01-15 02:00:00                     123.819808  ...   \n",
       "2016-01-15 03:00:00                     122.270188  ...   \n",
       "2016-01-15 04:00:00                     117.988169  ...   \n",
       "2016-01-15 05:00:00                     115.581252  ...   \n",
       "2016-01-15 06:00:00                     117.322323  ...   \n",
       "2016-01-15 07:00:00                     124.592960  ...   \n",
       "2016-01-15 08:00:00                     131.781026  ...   \n",
       "2016-01-15 09:00:00                     138.120409  ...   \n",
       "2016-01-15 10:00:00                     146.153696  ...   \n",
       "2016-01-15 11:00:00                     145.436812  ...   \n",
       "2016-01-15 12:00:00                     147.944885  ...   \n",
       "2016-01-15 13:00:00                     147.863164  ...   \n",
       "2016-01-15 14:00:00                     144.447728  ...   \n",
       "2016-01-15 15:00:00                     142.062923  ...   \n",
       "2016-01-15 16:00:00                     147.591165  ...   \n",
       "2016-01-15 17:00:00                     151.394301  ...   \n",
       "2016-01-15 18:00:00                     150.944211  ...   \n",
       "2016-01-15 19:00:00                     149.998260  ...   \n",
       "\n",
       "                     secondary_cleaner.state.floatbank4_a_air  \\\n",
       "date                                                            \n",
       "2016-01-15 00:00:00                                 14.016835   \n",
       "2016-01-15 01:00:00                                 13.992281   \n",
       "2016-01-15 02:00:00                                 14.015015   \n",
       "2016-01-15 03:00:00                                 14.036510   \n",
       "2016-01-15 04:00:00                                 14.027298   \n",
       "2016-01-15 05:00:00                                 13.938497   \n",
       "2016-01-15 06:00:00                                 14.046819   \n",
       "2016-01-15 07:00:00                                 13.974691   \n",
       "2016-01-15 08:00:00                                 13.964030   \n",
       "2016-01-15 09:00:00                                 13.989632   \n",
       "2016-01-15 10:00:00                                 14.008944   \n",
       "2016-01-15 11:00:00                                 14.029704   \n",
       "2016-01-15 12:00:00                                 13.983963   \n",
       "2016-01-15 13:00:00                                 13.981325   \n",
       "2016-01-15 14:00:00                                 13.996317   \n",
       "2016-01-15 15:00:00                                 14.015223   \n",
       "2016-01-15 16:00:00                                 14.031220   \n",
       "2016-01-15 17:00:00                                 14.019768   \n",
       "2016-01-15 18:00:00                                 14.003057   \n",
       "2016-01-15 19:00:00                                 14.001632   \n",
       "\n",
       "                     secondary_cleaner.state.floatbank4_a_level  \\\n",
       "date                                                              \n",
       "2016-01-15 00:00:00                                 -502.488007   \n",
       "2016-01-15 01:00:00                                 -505.503262   \n",
       "2016-01-15 02:00:00                                 -502.520901   \n",
       "2016-01-15 03:00:00                                 -500.857308   \n",
       "2016-01-15 04:00:00                                 -499.838632   \n",
       "2016-01-15 05:00:00                                 -500.970168   \n",
       "2016-01-15 06:00:00                                 -500.971133   \n",
       "2016-01-15 07:00:00                                 -501.819696   \n",
       "2016-01-15 08:00:00                                 -504.252450   \n",
       "2016-01-15 09:00:00                                 -503.195299   \n",
       "2016-01-15 10:00:00                                 -504.170807   \n",
       "2016-01-15 11:00:00                                 -503.940828   \n",
       "2016-01-15 12:00:00                                 -503.675714   \n",
       "2016-01-15 13:00:00                                 -504.947519   \n",
       "2016-01-15 14:00:00                                 -502.995300   \n",
       "2016-01-15 15:00:00                                 -503.202022   \n",
       "2016-01-15 16:00:00                                 -503.471307   \n",
       "2016-01-15 17:00:00                                 -541.569984   \n",
       "2016-01-15 18:00:00                                 -503.152258   \n",
       "2016-01-15 19:00:00                                 -509.808331   \n",
       "\n",
       "                     secondary_cleaner.state.floatbank4_b_air  \\\n",
       "date                                                            \n",
       "2016-01-15 00:00:00                                 12.099931   \n",
       "2016-01-15 01:00:00                                 11.950531   \n",
       "2016-01-15 02:00:00                                 11.912783   \n",
       "2016-01-15 03:00:00                                 11.999550   \n",
       "2016-01-15 04:00:00                                 11.953070   \n",
       "2016-01-15 05:00:00                                 11.883350   \n",
       "2016-01-15 06:00:00                                 12.091543   \n",
       "2016-01-15 07:00:00                                 12.101324   \n",
       "2016-01-15 08:00:00                                 12.060738   \n",
       "2016-01-15 09:00:00                                 12.052233   \n",
       "2016-01-15 10:00:00                                 11.995903   \n",
       "2016-01-15 11:00:00                                 12.022296   \n",
       "2016-01-15 12:00:00                                 11.928745   \n",
       "2016-01-15 13:00:00                                 12.014060   \n",
       "2016-01-15 14:00:00                                 11.980055   \n",
       "2016-01-15 15:00:00                                 11.994299   \n",
       "2016-01-15 16:00:00                                 11.966426   \n",
       "2016-01-15 17:00:00                                 12.021831   \n",
       "2016-01-15 18:00:00                                 12.016724   \n",
       "2016-01-15 19:00:00                                 12.087669   \n",
       "\n",
       "                     secondary_cleaner.state.floatbank4_b_level  \\\n",
       "date                                                              \n",
       "2016-01-15 00:00:00                                 -504.715942   \n",
       "2016-01-15 01:00:00                                 -501.331529   \n",
       "2016-01-15 02:00:00                                 -501.133383   \n",
       "2016-01-15 03:00:00                                 -501.193686   \n",
       "2016-01-15 04:00:00                                 -501.053894   \n",
       "2016-01-15 05:00:00                                 -500.395298   \n",
       "2016-01-15 06:00:00                                 -500.501426   \n",
       "2016-01-15 07:00:00                                 -500.583446   \n",
       "2016-01-15 08:00:00                                 -501.174549   \n",
       "2016-01-15 09:00:00                                 -500.928547   \n",
       "2016-01-15 10:00:00                                 -501.269181   \n",
       "2016-01-15 11:00:00                                 -501.238477   \n",
       "2016-01-15 12:00:00                                 -500.583183   \n",
       "2016-01-15 13:00:00                                 -500.647565   \n",
       "2016-01-15 14:00:00                                 -500.607751   \n",
       "2016-01-15 15:00:00                                 -500.337803   \n",
       "2016-01-15 16:00:00                                 -500.656842   \n",
       "2016-01-15 17:00:00                                 -545.572166   \n",
       "2016-01-15 18:00:00                                 -501.136446   \n",
       "2016-01-15 19:00:00                                 -510.782166   \n",
       "\n",
       "                     secondary_cleaner.state.floatbank5_a_air  \\\n",
       "date                                                            \n",
       "2016-01-15 00:00:00                                  9.925633   \n",
       "2016-01-15 01:00:00                                 10.039245   \n",
       "2016-01-15 02:00:00                                 10.070913   \n",
       "2016-01-15 03:00:00                                  9.970366   \n",
       "2016-01-15 04:00:00                                  9.925709   \n",
       "2016-01-15 05:00:00                                 10.054147   \n",
       "2016-01-15 06:00:00                                 10.003247   \n",
       "2016-01-15 07:00:00                                  9.873169   \n",
       "2016-01-15 08:00:00                                 10.033838   \n",
       "2016-01-15 09:00:00                                  9.962574   \n",
       "2016-01-15 10:00:00                                 10.043100   \n",
       "2016-01-15 11:00:00                                 10.020094   \n",
       "2016-01-15 12:00:00                                  9.970359   \n",
       "2016-01-15 13:00:00                                 10.000087   \n",
       "2016-01-15 14:00:00                                  9.964501   \n",
       "2016-01-15 15:00:00                                 10.037149   \n",
       "2016-01-15 16:00:00                                 10.051620   \n",
       "2016-01-15 17:00:00                                 10.021058   \n",
       "2016-01-15 18:00:00                                 10.041864   \n",
       "2016-01-15 19:00:00                                 10.032043   \n",
       "\n",
       "                     secondary_cleaner.state.floatbank5_a_level  \\\n",
       "date                                                              \n",
       "2016-01-15 00:00:00                                 -498.310211   \n",
       "2016-01-15 01:00:00                                 -500.169983   \n",
       "2016-01-15 02:00:00                                 -500.129135   \n",
       "2016-01-15 03:00:00                                 -499.201640   \n",
       "2016-01-15 04:00:00                                 -501.686727   \n",
       "2016-01-15 05:00:00                                 -496.374715   \n",
       "2016-01-15 06:00:00                                 -497.083180   \n",
       "2016-01-15 07:00:00                                 -499.171928   \n",
       "2016-01-15 08:00:00                                 -501.178133   \n",
       "2016-01-15 09:00:00                                 -502.986357   \n",
       "2016-01-15 10:00:00                                 -498.529996   \n",
       "2016-01-15 11:00:00                                 -500.061845   \n",
       "2016-01-15 12:00:00                                 -498.822343   \n",
       "2016-01-15 13:00:00                                 -499.306972   \n",
       "2016-01-15 14:00:00                                 -499.261719   \n",
       "2016-01-15 15:00:00                                 -499.395047   \n",
       "2016-01-15 16:00:00                                 -498.318772   \n",
       "2016-01-15 17:00:00                                 -501.386982   \n",
       "2016-01-15 18:00:00                                 -499.338844   \n",
       "2016-01-15 19:00:00                                 -499.128183   \n",
       "\n",
       "                     secondary_cleaner.state.floatbank5_b_air  \\\n",
       "date                                                            \n",
       "2016-01-15 00:00:00                                  8.079666   \n",
       "2016-01-15 01:00:00                                  7.984757   \n",
       "2016-01-15 02:00:00                                  8.013877   \n",
       "2016-01-15 03:00:00                                  7.977324   \n",
       "2016-01-15 04:00:00                                  7.894242   \n",
       "2016-01-15 05:00:00                                  7.965083   \n",
       "2016-01-15 06:00:00                                  8.010890   \n",
       "2016-01-15 07:00:00                                  7.993381   \n",
       "2016-01-15 08:00:00                                  7.881604   \n",
       "2016-01-15 09:00:00                                  7.979219   \n",
       "2016-01-15 10:00:00                                  8.002633   \n",
       "2016-01-15 11:00:00                                  7.964024   \n",
       "2016-01-15 12:00:00                                  8.016377   \n",
       "2016-01-15 13:00:00                                  8.002007   \n",
       "2016-01-15 14:00:00                                  8.065048   \n",
       "2016-01-15 15:00:00                                  8.056439   \n",
       "2016-01-15 16:00:00                                  8.018091   \n",
       "2016-01-15 17:00:00                                  7.947110   \n",
       "2016-01-15 18:00:00                                  8.007022   \n",
       "2016-01-15 19:00:00                                  8.016140   \n",
       "\n",
       "                     secondary_cleaner.state.floatbank5_b_level  \\\n",
       "date                                                              \n",
       "2016-01-15 00:00:00                                 -500.470978   \n",
       "2016-01-15 01:00:00                                 -500.582168   \n",
       "2016-01-15 02:00:00                                 -500.517572   \n",
       "2016-01-15 03:00:00                                 -500.255908   \n",
       "2016-01-15 04:00:00                                 -500.356035   \n",
       "2016-01-15 05:00:00                                 -499.364752   \n",
       "2016-01-15 06:00:00                                 -500.002423   \n",
       "2016-01-15 07:00:00                                 -499.794518   \n",
       "2016-01-15 08:00:00                                 -499.729434   \n",
       "2016-01-15 09:00:00                                 -500.146835   \n",
       "2016-01-15 10:00:00                                 -499.761922   \n",
       "2016-01-15 11:00:00                                 -499.283982   \n",
       "2016-01-15 12:00:00                                 -499.013145   \n",
       "2016-01-15 13:00:00                                 -499.970754   \n",
       "2016-01-15 14:00:00                                 -499.492395   \n",
       "2016-01-15 15:00:00                                 -499.479716   \n",
       "2016-01-15 16:00:00                                 -499.696138   \n",
       "2016-01-15 17:00:00                                 -500.062750   \n",
       "2016-01-15 18:00:00                                 -500.279583   \n",
       "2016-01-15 19:00:00                                 -499.806844   \n",
       "\n",
       "                     secondary_cleaner.state.floatbank6_a_air  \\\n",
       "date                                                            \n",
       "2016-01-15 00:00:00                                 14.151341   \n",
       "2016-01-15 01:00:00                                 13.998353   \n",
       "2016-01-15 02:00:00                                 14.028663   \n",
       "2016-01-15 03:00:00                                 14.005551   \n",
       "2016-01-15 04:00:00                                 13.996647   \n",
       "2016-01-15 05:00:00                                 14.017067   \n",
       "2016-01-15 06:00:00                                 14.029649   \n",
       "2016-01-15 07:00:00                                 13.984498   \n",
       "2016-01-15 08:00:00                                 13.967135   \n",
       "2016-01-15 09:00:00                                 13.981614   \n",
       "2016-01-15 10:00:00                                 14.004767   \n",
       "2016-01-15 11:00:00                                 14.003011   \n",
       "2016-01-15 12:00:00                                 14.000032   \n",
       "2016-01-15 13:00:00                                 14.019977   \n",
       "2016-01-15 14:00:00                                 13.997801   \n",
       "2016-01-15 15:00:00                                 13.977626   \n",
       "2016-01-15 16:00:00                                 13.958937   \n",
       "2016-01-15 17:00:00                                 14.014991   \n",
       "2016-01-15 18:00:00                                 14.001271   \n",
       "2016-01-15 19:00:00                                 13.949790   \n",
       "\n",
       "                     secondary_cleaner.state.floatbank6_a_level  \n",
       "date                                                             \n",
       "2016-01-15 00:00:00                                 -605.841980  \n",
       "2016-01-15 01:00:00                                 -599.787184  \n",
       "2016-01-15 02:00:00                                 -601.427363  \n",
       "2016-01-15 03:00:00                                 -599.996129  \n",
       "2016-01-15 04:00:00                                 -601.496691  \n",
       "2016-01-15 05:00:00                                 -599.707915  \n",
       "2016-01-15 06:00:00                                 -600.905470  \n",
       "2016-01-15 07:00:00                                 -600.411070  \n",
       "2016-01-15 08:00:00                                 -599.061188  \n",
       "2016-01-15 09:00:00                                 -598.070855  \n",
       "2016-01-15 10:00:00                                 -599.595324  \n",
       "2016-01-15 11:00:00                                 -599.879856  \n",
       "2016-01-15 12:00:00                                 -600.024741  \n",
       "2016-01-15 13:00:00                                 -599.986714  \n",
       "2016-01-15 14:00:00                                 -600.621416  \n",
       "2016-01-15 15:00:00                                 -600.075029  \n",
       "2016-01-15 16:00:00                                 -599.213013  \n",
       "2016-01-15 17:00:00                                 -600.670573  \n",
       "2016-01-15 18:00:00                                 -602.072365  \n",
       "2016-01-15 19:00:00                                 -600.140776  \n",
       "\n",
       "[20 rows x 86 columns]"
      ]
     },
     "execution_count": 78,
     "metadata": {},
     "output_type": "execute_result"
    }
   ],
   "source": [
    "data_train.info()\n",
    "data_train.head(20)"
   ]
  },
  {
   "cell_type": "code",
   "execution_count": 79,
   "metadata": {},
   "outputs": [
    {
     "name": "stdout",
     "output_type": "stream",
     "text": [
      "<class 'pandas.core.frame.DataFrame'>\n",
      "Index: 5290 entries, 2016-09-01 00:59:59 to 2017-12-31 23:59:59\n",
      "Data columns (total 52 columns):\n",
      " #   Column                                      Non-Null Count  Dtype  \n",
      "---  ------                                      --------------  -----  \n",
      " 0   primary_cleaner.input.sulfate               5286 non-null   float64\n",
      " 1   primary_cleaner.input.depressant            5285 non-null   float64\n",
      " 2   primary_cleaner.input.feed_size             5290 non-null   float64\n",
      " 3   primary_cleaner.input.xanthate              5286 non-null   float64\n",
      " 4   primary_cleaner.state.floatbank8_a_air      5290 non-null   float64\n",
      " 5   primary_cleaner.state.floatbank8_a_level    5290 non-null   float64\n",
      " 6   primary_cleaner.state.floatbank8_b_air      5290 non-null   float64\n",
      " 7   primary_cleaner.state.floatbank8_b_level    5290 non-null   float64\n",
      " 8   primary_cleaner.state.floatbank8_c_air      5290 non-null   float64\n",
      " 9   primary_cleaner.state.floatbank8_c_level    5290 non-null   float64\n",
      " 10  primary_cleaner.state.floatbank8_d_air      5290 non-null   float64\n",
      " 11  primary_cleaner.state.floatbank8_d_level    5290 non-null   float64\n",
      " 12  rougher.input.feed_ag                       5290 non-null   float64\n",
      " 13  rougher.input.feed_pb                       5290 non-null   float64\n",
      " 14  rougher.input.feed_rate                     5287 non-null   float64\n",
      " 15  rougher.input.feed_size                     5289 non-null   float64\n",
      " 16  rougher.input.feed_sol                      5269 non-null   float64\n",
      " 17  rougher.input.feed_au                       5290 non-null   float64\n",
      " 18  rougher.input.floatbank10_sulfate           5285 non-null   float64\n",
      " 19  rougher.input.floatbank10_xanthate          5290 non-null   float64\n",
      " 20  rougher.input.floatbank11_sulfate           5282 non-null   float64\n",
      " 21  rougher.input.floatbank11_xanthate          5265 non-null   float64\n",
      " 22  rougher.state.floatbank10_a_air             5290 non-null   float64\n",
      " 23  rougher.state.floatbank10_a_level           5290 non-null   float64\n",
      " 24  rougher.state.floatbank10_b_air             5290 non-null   float64\n",
      " 25  rougher.state.floatbank10_b_level           5290 non-null   float64\n",
      " 26  rougher.state.floatbank10_c_air             5290 non-null   float64\n",
      " 27  rougher.state.floatbank10_c_level           5290 non-null   float64\n",
      " 28  rougher.state.floatbank10_d_air             5290 non-null   float64\n",
      " 29  rougher.state.floatbank10_d_level           5290 non-null   float64\n",
      " 30  rougher.state.floatbank10_e_air             5290 non-null   float64\n",
      " 31  rougher.state.floatbank10_e_level           5290 non-null   float64\n",
      " 32  rougher.state.floatbank10_f_air             5290 non-null   float64\n",
      " 33  rougher.state.floatbank10_f_level           5290 non-null   float64\n",
      " 34  secondary_cleaner.state.floatbank2_a_air    5287 non-null   float64\n",
      " 35  secondary_cleaner.state.floatbank2_a_level  5290 non-null   float64\n",
      " 36  secondary_cleaner.state.floatbank2_b_air    5288 non-null   float64\n",
      " 37  secondary_cleaner.state.floatbank2_b_level  5290 non-null   float64\n",
      " 38  secondary_cleaner.state.floatbank3_a_air    5281 non-null   float64\n",
      " 39  secondary_cleaner.state.floatbank3_a_level  5290 non-null   float64\n",
      " 40  secondary_cleaner.state.floatbank3_b_air    5290 non-null   float64\n",
      " 41  secondary_cleaner.state.floatbank3_b_level  5290 non-null   float64\n",
      " 42  secondary_cleaner.state.floatbank4_a_air    5290 non-null   float64\n",
      " 43  secondary_cleaner.state.floatbank4_a_level  5290 non-null   float64\n",
      " 44  secondary_cleaner.state.floatbank4_b_air    5290 non-null   float64\n",
      " 45  secondary_cleaner.state.floatbank4_b_level  5290 non-null   float64\n",
      " 46  secondary_cleaner.state.floatbank5_a_air    5290 non-null   float64\n",
      " 47  secondary_cleaner.state.floatbank5_a_level  5290 non-null   float64\n",
      " 48  secondary_cleaner.state.floatbank5_b_air    5290 non-null   float64\n",
      " 49  secondary_cleaner.state.floatbank5_b_level  5290 non-null   float64\n",
      " 50  secondary_cleaner.state.floatbank6_a_air    5290 non-null   float64\n",
      " 51  secondary_cleaner.state.floatbank6_a_level  5290 non-null   float64\n",
      "dtypes: float64(52)\n",
      "memory usage: 2.1+ MB\n"
     ]
    },
    {
     "data": {
      "text/html": [
       "<div>\n",
       "<style scoped>\n",
       "    .dataframe tbody tr th:only-of-type {\n",
       "        vertical-align: middle;\n",
       "    }\n",
       "\n",
       "    .dataframe tbody tr th {\n",
       "        vertical-align: top;\n",
       "    }\n",
       "\n",
       "    .dataframe thead th {\n",
       "        text-align: right;\n",
       "    }\n",
       "</style>\n",
       "<table border=\"1\" class=\"dataframe\">\n",
       "  <thead>\n",
       "    <tr style=\"text-align: right;\">\n",
       "      <th></th>\n",
       "      <th>primary_cleaner.input.sulfate</th>\n",
       "      <th>primary_cleaner.input.depressant</th>\n",
       "      <th>primary_cleaner.input.feed_size</th>\n",
       "      <th>primary_cleaner.input.xanthate</th>\n",
       "      <th>primary_cleaner.state.floatbank8_a_air</th>\n",
       "      <th>primary_cleaner.state.floatbank8_a_level</th>\n",
       "      <th>primary_cleaner.state.floatbank8_b_air</th>\n",
       "      <th>primary_cleaner.state.floatbank8_b_level</th>\n",
       "      <th>primary_cleaner.state.floatbank8_c_air</th>\n",
       "      <th>primary_cleaner.state.floatbank8_c_level</th>\n",
       "      <th>...</th>\n",
       "      <th>secondary_cleaner.state.floatbank4_a_air</th>\n",
       "      <th>secondary_cleaner.state.floatbank4_a_level</th>\n",
       "      <th>secondary_cleaner.state.floatbank4_b_air</th>\n",
       "      <th>secondary_cleaner.state.floatbank4_b_level</th>\n",
       "      <th>secondary_cleaner.state.floatbank5_a_air</th>\n",
       "      <th>secondary_cleaner.state.floatbank5_a_level</th>\n",
       "      <th>secondary_cleaner.state.floatbank5_b_air</th>\n",
       "      <th>secondary_cleaner.state.floatbank5_b_level</th>\n",
       "      <th>secondary_cleaner.state.floatbank6_a_air</th>\n",
       "      <th>secondary_cleaner.state.floatbank6_a_level</th>\n",
       "    </tr>\n",
       "    <tr>\n",
       "      <th>date</th>\n",
       "      <th></th>\n",
       "      <th></th>\n",
       "      <th></th>\n",
       "      <th></th>\n",
       "      <th></th>\n",
       "      <th></th>\n",
       "      <th></th>\n",
       "      <th></th>\n",
       "      <th></th>\n",
       "      <th></th>\n",
       "      <th></th>\n",
       "      <th></th>\n",
       "      <th></th>\n",
       "      <th></th>\n",
       "      <th></th>\n",
       "      <th></th>\n",
       "      <th></th>\n",
       "      <th></th>\n",
       "      <th></th>\n",
       "      <th></th>\n",
       "      <th></th>\n",
       "    </tr>\n",
       "  </thead>\n",
       "  <tbody>\n",
       "    <tr>\n",
       "      <th>2016-09-01 00:59:59</th>\n",
       "      <td>210.800909</td>\n",
       "      <td>14.993118</td>\n",
       "      <td>8.080000</td>\n",
       "      <td>1.005021</td>\n",
       "      <td>1398.981301</td>\n",
       "      <td>-500.225577</td>\n",
       "      <td>1399.144926</td>\n",
       "      <td>-499.919735</td>\n",
       "      <td>1400.102998</td>\n",
       "      <td>-500.704369</td>\n",
       "      <td>...</td>\n",
       "      <td>12.023554</td>\n",
       "      <td>-497.795834</td>\n",
       "      <td>8.016656</td>\n",
       "      <td>-501.289139</td>\n",
       "      <td>7.946562</td>\n",
       "      <td>-432.317850</td>\n",
       "      <td>4.872511</td>\n",
       "      <td>-500.037437</td>\n",
       "      <td>26.705889</td>\n",
       "      <td>-499.709414</td>\n",
       "    </tr>\n",
       "    <tr>\n",
       "      <th>2016-09-01 01:59:59</th>\n",
       "      <td>215.392455</td>\n",
       "      <td>14.987471</td>\n",
       "      <td>8.080000</td>\n",
       "      <td>0.990469</td>\n",
       "      <td>1398.777912</td>\n",
       "      <td>-500.057435</td>\n",
       "      <td>1398.055362</td>\n",
       "      <td>-499.778182</td>\n",
       "      <td>1396.151033</td>\n",
       "      <td>-499.240168</td>\n",
       "      <td>...</td>\n",
       "      <td>12.058140</td>\n",
       "      <td>-498.695773</td>\n",
       "      <td>8.130979</td>\n",
       "      <td>-499.634209</td>\n",
       "      <td>7.958270</td>\n",
       "      <td>-525.839648</td>\n",
       "      <td>4.878850</td>\n",
       "      <td>-500.162375</td>\n",
       "      <td>25.019940</td>\n",
       "      <td>-499.819438</td>\n",
       "    </tr>\n",
       "    <tr>\n",
       "      <th>2016-09-01 02:59:59</th>\n",
       "      <td>215.259946</td>\n",
       "      <td>12.884934</td>\n",
       "      <td>7.786667</td>\n",
       "      <td>0.996043</td>\n",
       "      <td>1398.493666</td>\n",
       "      <td>-500.868360</td>\n",
       "      <td>1398.860436</td>\n",
       "      <td>-499.764529</td>\n",
       "      <td>1398.075709</td>\n",
       "      <td>-502.151509</td>\n",
       "      <td>...</td>\n",
       "      <td>11.962366</td>\n",
       "      <td>-498.767484</td>\n",
       "      <td>8.096893</td>\n",
       "      <td>-500.827423</td>\n",
       "      <td>8.071056</td>\n",
       "      <td>-500.801673</td>\n",
       "      <td>4.905125</td>\n",
       "      <td>-499.828510</td>\n",
       "      <td>24.994862</td>\n",
       "      <td>-500.622559</td>\n",
       "    </tr>\n",
       "    <tr>\n",
       "      <th>2016-09-01 03:59:59</th>\n",
       "      <td>215.336236</td>\n",
       "      <td>12.006805</td>\n",
       "      <td>7.640000</td>\n",
       "      <td>0.863514</td>\n",
       "      <td>1399.618111</td>\n",
       "      <td>-498.863574</td>\n",
       "      <td>1397.440120</td>\n",
       "      <td>-499.211024</td>\n",
       "      <td>1400.129303</td>\n",
       "      <td>-498.355873</td>\n",
       "      <td>...</td>\n",
       "      <td>12.033091</td>\n",
       "      <td>-498.350935</td>\n",
       "      <td>8.074946</td>\n",
       "      <td>-499.474407</td>\n",
       "      <td>7.897085</td>\n",
       "      <td>-500.868509</td>\n",
       "      <td>4.931400</td>\n",
       "      <td>-499.963623</td>\n",
       "      <td>24.948919</td>\n",
       "      <td>-498.709987</td>\n",
       "    </tr>\n",
       "    <tr>\n",
       "      <th>2016-09-01 04:59:59</th>\n",
       "      <td>199.099327</td>\n",
       "      <td>10.682530</td>\n",
       "      <td>7.530000</td>\n",
       "      <td>0.805575</td>\n",
       "      <td>1401.268123</td>\n",
       "      <td>-500.808305</td>\n",
       "      <td>1398.128818</td>\n",
       "      <td>-499.504543</td>\n",
       "      <td>1402.172226</td>\n",
       "      <td>-500.810606</td>\n",
       "      <td>...</td>\n",
       "      <td>12.025367</td>\n",
       "      <td>-500.786497</td>\n",
       "      <td>8.054678</td>\n",
       "      <td>-500.397500</td>\n",
       "      <td>8.107890</td>\n",
       "      <td>-509.526725</td>\n",
       "      <td>4.957674</td>\n",
       "      <td>-500.360026</td>\n",
       "      <td>25.003331</td>\n",
       "      <td>-500.856333</td>\n",
       "    </tr>\n",
       "    <tr>\n",
       "      <th>2016-09-01 05:59:59</th>\n",
       "      <td>168.485085</td>\n",
       "      <td>8.817007</td>\n",
       "      <td>7.420000</td>\n",
       "      <td>0.791191</td>\n",
       "      <td>1402.826803</td>\n",
       "      <td>-499.299521</td>\n",
       "      <td>1401.511119</td>\n",
       "      <td>-499.205357</td>\n",
       "      <td>1404.088107</td>\n",
       "      <td>-497.903666</td>\n",
       "      <td>...</td>\n",
       "      <td>12.029797</td>\n",
       "      <td>-499.814895</td>\n",
       "      <td>8.036586</td>\n",
       "      <td>-500.371492</td>\n",
       "      <td>8.041446</td>\n",
       "      <td>-510.037054</td>\n",
       "      <td>4.983949</td>\n",
       "      <td>-499.990990</td>\n",
       "      <td>24.978973</td>\n",
       "      <td>-500.475640</td>\n",
       "    </tr>\n",
       "    <tr>\n",
       "      <th>2016-09-01 06:59:59</th>\n",
       "      <td>144.133440</td>\n",
       "      <td>7.924610</td>\n",
       "      <td>7.420000</td>\n",
       "      <td>0.788838</td>\n",
       "      <td>1398.252401</td>\n",
       "      <td>-499.748672</td>\n",
       "      <td>1393.255503</td>\n",
       "      <td>-499.195380</td>\n",
       "      <td>1396.738566</td>\n",
       "      <td>-497.923683</td>\n",
       "      <td>...</td>\n",
       "      <td>12.026296</td>\n",
       "      <td>-499.473127</td>\n",
       "      <td>8.027984</td>\n",
       "      <td>-500.983079</td>\n",
       "      <td>7.907340</td>\n",
       "      <td>-507.964971</td>\n",
       "      <td>5.010224</td>\n",
       "      <td>-500.043697</td>\n",
       "      <td>25.040709</td>\n",
       "      <td>-499.501984</td>\n",
       "    </tr>\n",
       "    <tr>\n",
       "      <th>2016-09-01 07:59:59</th>\n",
       "      <td>133.513396</td>\n",
       "      <td>8.055252</td>\n",
       "      <td>6.988000</td>\n",
       "      <td>0.801871</td>\n",
       "      <td>1401.669677</td>\n",
       "      <td>-501.777839</td>\n",
       "      <td>1400.754446</td>\n",
       "      <td>-502.514024</td>\n",
       "      <td>1400.465244</td>\n",
       "      <td>-503.451306</td>\n",
       "      <td>...</td>\n",
       "      <td>12.040911</td>\n",
       "      <td>-501.293852</td>\n",
       "      <td>8.020490</td>\n",
       "      <td>-499.185229</td>\n",
       "      <td>8.116897</td>\n",
       "      <td>-511.927561</td>\n",
       "      <td>5.036498</td>\n",
       "      <td>-500.149615</td>\n",
       "      <td>25.032580</td>\n",
       "      <td>-503.970657</td>\n",
       "    </tr>\n",
       "    <tr>\n",
       "      <th>2016-09-01 08:59:59</th>\n",
       "      <td>133.735356</td>\n",
       "      <td>7.999618</td>\n",
       "      <td>6.935000</td>\n",
       "      <td>0.789329</td>\n",
       "      <td>1402.358981</td>\n",
       "      <td>-499.981597</td>\n",
       "      <td>1400.985954</td>\n",
       "      <td>-496.802968</td>\n",
       "      <td>1401.168584</td>\n",
       "      <td>-499.890350</td>\n",
       "      <td>...</td>\n",
       "      <td>11.998184</td>\n",
       "      <td>-499.481608</td>\n",
       "      <td>8.012610</td>\n",
       "      <td>-500.896783</td>\n",
       "      <td>7.974422</td>\n",
       "      <td>-521.199104</td>\n",
       "      <td>5.061599</td>\n",
       "      <td>-499.791519</td>\n",
       "      <td>25.005063</td>\n",
       "      <td>-497.613716</td>\n",
       "    </tr>\n",
       "    <tr>\n",
       "      <th>2016-09-01 09:59:59</th>\n",
       "      <td>126.961069</td>\n",
       "      <td>8.017856</td>\n",
       "      <td>7.030000</td>\n",
       "      <td>0.805298</td>\n",
       "      <td>1400.816120</td>\n",
       "      <td>-499.014158</td>\n",
       "      <td>1399.975401</td>\n",
       "      <td>-499.570552</td>\n",
       "      <td>1401.871924</td>\n",
       "      <td>-499.577934</td>\n",
       "      <td>...</td>\n",
       "      <td>12.040725</td>\n",
       "      <td>-499.987743</td>\n",
       "      <td>7.989503</td>\n",
       "      <td>-499.750625</td>\n",
       "      <td>7.989710</td>\n",
       "      <td>-509.946737</td>\n",
       "      <td>5.068811</td>\n",
       "      <td>-499.293900</td>\n",
       "      <td>24.992741</td>\n",
       "      <td>-499.272255</td>\n",
       "    </tr>\n",
       "    <tr>\n",
       "      <th>2016-09-01 10:59:59</th>\n",
       "      <td>118.996645</td>\n",
       "      <td>8.053901</td>\n",
       "      <td>6.938333</td>\n",
       "      <td>0.799155</td>\n",
       "      <td>1400.414377</td>\n",
       "      <td>-500.467134</td>\n",
       "      <td>1400.089566</td>\n",
       "      <td>-500.446977</td>\n",
       "      <td>1402.269967</td>\n",
       "      <td>-502.025845</td>\n",
       "      <td>...</td>\n",
       "      <td>12.016142</td>\n",
       "      <td>-500.597945</td>\n",
       "      <td>8.109317</td>\n",
       "      <td>-500.815511</td>\n",
       "      <td>7.963967</td>\n",
       "      <td>-523.193535</td>\n",
       "      <td>5.069972</td>\n",
       "      <td>-499.786750</td>\n",
       "      <td>25.003677</td>\n",
       "      <td>-500.043103</td>\n",
       "    </tr>\n",
       "    <tr>\n",
       "      <th>2016-09-01 11:59:59</th>\n",
       "      <td>120.022197</td>\n",
       "      <td>7.964399</td>\n",
       "      <td>6.920000</td>\n",
       "      <td>0.794210</td>\n",
       "      <td>1399.594414</td>\n",
       "      <td>-499.245896</td>\n",
       "      <td>1400.722260</td>\n",
       "      <td>-499.360136</td>\n",
       "      <td>1400.503184</td>\n",
       "      <td>-501.591815</td>\n",
       "      <td>...</td>\n",
       "      <td>11.959844</td>\n",
       "      <td>-499.181077</td>\n",
       "      <td>8.078691</td>\n",
       "      <td>-499.250344</td>\n",
       "      <td>7.958926</td>\n",
       "      <td>-491.675387</td>\n",
       "      <td>5.069611</td>\n",
       "      <td>-499.573837</td>\n",
       "      <td>18.364718</td>\n",
       "      <td>-497.711111</td>\n",
       "    </tr>\n",
       "    <tr>\n",
       "      <th>2016-09-01 12:59:59</th>\n",
       "      <td>119.992390</td>\n",
       "      <td>7.976629</td>\n",
       "      <td>8.009500</td>\n",
       "      <td>0.806644</td>\n",
       "      <td>1402.658539</td>\n",
       "      <td>-499.902819</td>\n",
       "      <td>1399.102451</td>\n",
       "      <td>-500.175006</td>\n",
       "      <td>1401.881482</td>\n",
       "      <td>-500.012095</td>\n",
       "      <td>...</td>\n",
       "      <td>11.937972</td>\n",
       "      <td>-499.665072</td>\n",
       "      <td>7.999953</td>\n",
       "      <td>-500.719390</td>\n",
       "      <td>8.117658</td>\n",
       "      <td>-499.024283</td>\n",
       "      <td>5.060127</td>\n",
       "      <td>-499.757223</td>\n",
       "      <td>10.008581</td>\n",
       "      <td>-499.937567</td>\n",
       "    </tr>\n",
       "    <tr>\n",
       "      <th>2016-09-01 13:59:59</th>\n",
       "      <td>116.455446</td>\n",
       "      <td>8.020024</td>\n",
       "      <td>8.100000</td>\n",
       "      <td>0.803810</td>\n",
       "      <td>1401.522803</td>\n",
       "      <td>-500.229384</td>\n",
       "      <td>1400.822074</td>\n",
       "      <td>-499.962458</td>\n",
       "      <td>1400.873855</td>\n",
       "      <td>-501.135675</td>\n",
       "      <td>...</td>\n",
       "      <td>12.044229</td>\n",
       "      <td>-500.102489</td>\n",
       "      <td>7.963308</td>\n",
       "      <td>-498.999161</td>\n",
       "      <td>8.079780</td>\n",
       "      <td>-500.111603</td>\n",
       "      <td>5.049125</td>\n",
       "      <td>-499.964304</td>\n",
       "      <td>10.016975</td>\n",
       "      <td>-499.835537</td>\n",
       "    </tr>\n",
       "    <tr>\n",
       "      <th>2016-09-01 14:59:59</th>\n",
       "      <td>116.615574</td>\n",
       "      <td>7.976104</td>\n",
       "      <td>7.962000</td>\n",
       "      <td>0.788860</td>\n",
       "      <td>1400.371468</td>\n",
       "      <td>-501.074463</td>\n",
       "      <td>1402.642429</td>\n",
       "      <td>-499.130424</td>\n",
       "      <td>1398.273436</td>\n",
       "      <td>-499.242839</td>\n",
       "      <td>...</td>\n",
       "      <td>12.002987</td>\n",
       "      <td>-500.459197</td>\n",
       "      <td>7.971947</td>\n",
       "      <td>-500.515679</td>\n",
       "      <td>8.053689</td>\n",
       "      <td>-500.238073</td>\n",
       "      <td>5.038123</td>\n",
       "      <td>-500.161160</td>\n",
       "      <td>9.909759</td>\n",
       "      <td>-500.770649</td>\n",
       "    </tr>\n",
       "    <tr>\n",
       "      <th>2016-09-01 15:59:59</th>\n",
       "      <td>130.002492</td>\n",
       "      <td>7.975534</td>\n",
       "      <td>7.870000</td>\n",
       "      <td>0.796464</td>\n",
       "      <td>1400.232655</td>\n",
       "      <td>-499.470106</td>\n",
       "      <td>1402.184151</td>\n",
       "      <td>-500.236610</td>\n",
       "      <td>1401.238323</td>\n",
       "      <td>-499.407647</td>\n",
       "      <td>...</td>\n",
       "      <td>12.001285</td>\n",
       "      <td>-501.477914</td>\n",
       "      <td>8.006140</td>\n",
       "      <td>-500.451719</td>\n",
       "      <td>8.000597</td>\n",
       "      <td>-502.952208</td>\n",
       "      <td>5.027121</td>\n",
       "      <td>-499.659053</td>\n",
       "      <td>9.883136</td>\n",
       "      <td>-500.641186</td>\n",
       "    </tr>\n",
       "    <tr>\n",
       "      <th>2016-09-01 16:59:59</th>\n",
       "      <td>139.110741</td>\n",
       "      <td>8.029847</td>\n",
       "      <td>7.870000</td>\n",
       "      <td>0.789310</td>\n",
       "      <td>1400.527148</td>\n",
       "      <td>-499.361604</td>\n",
       "      <td>1400.873200</td>\n",
       "      <td>-500.214150</td>\n",
       "      <td>1402.397652</td>\n",
       "      <td>-501.156355</td>\n",
       "      <td>...</td>\n",
       "      <td>11.977331</td>\n",
       "      <td>-499.910943</td>\n",
       "      <td>8.040334</td>\n",
       "      <td>-500.204165</td>\n",
       "      <td>7.997683</td>\n",
       "      <td>-500.890613</td>\n",
       "      <td>5.057373</td>\n",
       "      <td>-500.033917</td>\n",
       "      <td>9.994027</td>\n",
       "      <td>-499.483006</td>\n",
       "    </tr>\n",
       "    <tr>\n",
       "      <th>2016-09-01 17:59:59</th>\n",
       "      <td>147.497175</td>\n",
       "      <td>7.946586</td>\n",
       "      <td>7.870000</td>\n",
       "      <td>0.750087</td>\n",
       "      <td>1403.147105</td>\n",
       "      <td>-499.536490</td>\n",
       "      <td>1400.621750</td>\n",
       "      <td>-498.865191</td>\n",
       "      <td>1402.347908</td>\n",
       "      <td>-497.422249</td>\n",
       "      <td>...</td>\n",
       "      <td>11.980268</td>\n",
       "      <td>-499.090571</td>\n",
       "      <td>8.074527</td>\n",
       "      <td>-499.750816</td>\n",
       "      <td>8.021712</td>\n",
       "      <td>-498.115545</td>\n",
       "      <td>5.086844</td>\n",
       "      <td>-499.910107</td>\n",
       "      <td>9.990204</td>\n",
       "      <td>-499.596528</td>\n",
       "    </tr>\n",
       "    <tr>\n",
       "      <th>2016-09-01 18:59:59</th>\n",
       "      <td>136.501688</td>\n",
       "      <td>8.071039</td>\n",
       "      <td>7.870000</td>\n",
       "      <td>0.605076</td>\n",
       "      <td>1403.385188</td>\n",
       "      <td>-500.678004</td>\n",
       "      <td>1399.207858</td>\n",
       "      <td>-500.607354</td>\n",
       "      <td>1400.127106</td>\n",
       "      <td>-501.587751</td>\n",
       "      <td>...</td>\n",
       "      <td>12.082380</td>\n",
       "      <td>-500.351365</td>\n",
       "      <td>8.043323</td>\n",
       "      <td>-500.452250</td>\n",
       "      <td>8.074127</td>\n",
       "      <td>-498.537555</td>\n",
       "      <td>5.073014</td>\n",
       "      <td>-499.625942</td>\n",
       "      <td>9.985529</td>\n",
       "      <td>-500.424783</td>\n",
       "    </tr>\n",
       "    <tr>\n",
       "      <th>2016-09-01 19:59:59</th>\n",
       "      <td>119.017851</td>\n",
       "      <td>7.988656</td>\n",
       "      <td>7.870000</td>\n",
       "      <td>0.599571</td>\n",
       "      <td>1400.009171</td>\n",
       "      <td>-499.892042</td>\n",
       "      <td>1400.724122</td>\n",
       "      <td>-500.490918</td>\n",
       "      <td>1400.122620</td>\n",
       "      <td>-499.551286</td>\n",
       "      <td>...</td>\n",
       "      <td>11.898973</td>\n",
       "      <td>-498.608686</td>\n",
       "      <td>7.976877</td>\n",
       "      <td>-499.241773</td>\n",
       "      <td>8.008262</td>\n",
       "      <td>-500.167815</td>\n",
       "      <td>5.059183</td>\n",
       "      <td>-500.271811</td>\n",
       "      <td>9.933169</td>\n",
       "      <td>-499.271896</td>\n",
       "    </tr>\n",
       "  </tbody>\n",
       "</table>\n",
       "<p>20 rows × 52 columns</p>\n",
       "</div>"
      ],
      "text/plain": [
       "                     primary_cleaner.input.sulfate  \\\n",
       "date                                                 \n",
       "2016-09-01 00:59:59                     210.800909   \n",
       "2016-09-01 01:59:59                     215.392455   \n",
       "2016-09-01 02:59:59                     215.259946   \n",
       "2016-09-01 03:59:59                     215.336236   \n",
       "2016-09-01 04:59:59                     199.099327   \n",
       "2016-09-01 05:59:59                     168.485085   \n",
       "2016-09-01 06:59:59                     144.133440   \n",
       "2016-09-01 07:59:59                     133.513396   \n",
       "2016-09-01 08:59:59                     133.735356   \n",
       "2016-09-01 09:59:59                     126.961069   \n",
       "2016-09-01 10:59:59                     118.996645   \n",
       "2016-09-01 11:59:59                     120.022197   \n",
       "2016-09-01 12:59:59                     119.992390   \n",
       "2016-09-01 13:59:59                     116.455446   \n",
       "2016-09-01 14:59:59                     116.615574   \n",
       "2016-09-01 15:59:59                     130.002492   \n",
       "2016-09-01 16:59:59                     139.110741   \n",
       "2016-09-01 17:59:59                     147.497175   \n",
       "2016-09-01 18:59:59                     136.501688   \n",
       "2016-09-01 19:59:59                     119.017851   \n",
       "\n",
       "                     primary_cleaner.input.depressant  \\\n",
       "date                                                    \n",
       "2016-09-01 00:59:59                         14.993118   \n",
       "2016-09-01 01:59:59                         14.987471   \n",
       "2016-09-01 02:59:59                         12.884934   \n",
       "2016-09-01 03:59:59                         12.006805   \n",
       "2016-09-01 04:59:59                         10.682530   \n",
       "2016-09-01 05:59:59                          8.817007   \n",
       "2016-09-01 06:59:59                          7.924610   \n",
       "2016-09-01 07:59:59                          8.055252   \n",
       "2016-09-01 08:59:59                          7.999618   \n",
       "2016-09-01 09:59:59                          8.017856   \n",
       "2016-09-01 10:59:59                          8.053901   \n",
       "2016-09-01 11:59:59                          7.964399   \n",
       "2016-09-01 12:59:59                          7.976629   \n",
       "2016-09-01 13:59:59                          8.020024   \n",
       "2016-09-01 14:59:59                          7.976104   \n",
       "2016-09-01 15:59:59                          7.975534   \n",
       "2016-09-01 16:59:59                          8.029847   \n",
       "2016-09-01 17:59:59                          7.946586   \n",
       "2016-09-01 18:59:59                          8.071039   \n",
       "2016-09-01 19:59:59                          7.988656   \n",
       "\n",
       "                     primary_cleaner.input.feed_size  \\\n",
       "date                                                   \n",
       "2016-09-01 00:59:59                         8.080000   \n",
       "2016-09-01 01:59:59                         8.080000   \n",
       "2016-09-01 02:59:59                         7.786667   \n",
       "2016-09-01 03:59:59                         7.640000   \n",
       "2016-09-01 04:59:59                         7.530000   \n",
       "2016-09-01 05:59:59                         7.420000   \n",
       "2016-09-01 06:59:59                         7.420000   \n",
       "2016-09-01 07:59:59                         6.988000   \n",
       "2016-09-01 08:59:59                         6.935000   \n",
       "2016-09-01 09:59:59                         7.030000   \n",
       "2016-09-01 10:59:59                         6.938333   \n",
       "2016-09-01 11:59:59                         6.920000   \n",
       "2016-09-01 12:59:59                         8.009500   \n",
       "2016-09-01 13:59:59                         8.100000   \n",
       "2016-09-01 14:59:59                         7.962000   \n",
       "2016-09-01 15:59:59                         7.870000   \n",
       "2016-09-01 16:59:59                         7.870000   \n",
       "2016-09-01 17:59:59                         7.870000   \n",
       "2016-09-01 18:59:59                         7.870000   \n",
       "2016-09-01 19:59:59                         7.870000   \n",
       "\n",
       "                     primary_cleaner.input.xanthate  \\\n",
       "date                                                  \n",
       "2016-09-01 00:59:59                        1.005021   \n",
       "2016-09-01 01:59:59                        0.990469   \n",
       "2016-09-01 02:59:59                        0.996043   \n",
       "2016-09-01 03:59:59                        0.863514   \n",
       "2016-09-01 04:59:59                        0.805575   \n",
       "2016-09-01 05:59:59                        0.791191   \n",
       "2016-09-01 06:59:59                        0.788838   \n",
       "2016-09-01 07:59:59                        0.801871   \n",
       "2016-09-01 08:59:59                        0.789329   \n",
       "2016-09-01 09:59:59                        0.805298   \n",
       "2016-09-01 10:59:59                        0.799155   \n",
       "2016-09-01 11:59:59                        0.794210   \n",
       "2016-09-01 12:59:59                        0.806644   \n",
       "2016-09-01 13:59:59                        0.803810   \n",
       "2016-09-01 14:59:59                        0.788860   \n",
       "2016-09-01 15:59:59                        0.796464   \n",
       "2016-09-01 16:59:59                        0.789310   \n",
       "2016-09-01 17:59:59                        0.750087   \n",
       "2016-09-01 18:59:59                        0.605076   \n",
       "2016-09-01 19:59:59                        0.599571   \n",
       "\n",
       "                     primary_cleaner.state.floatbank8_a_air  \\\n",
       "date                                                          \n",
       "2016-09-01 00:59:59                             1398.981301   \n",
       "2016-09-01 01:59:59                             1398.777912   \n",
       "2016-09-01 02:59:59                             1398.493666   \n",
       "2016-09-01 03:59:59                             1399.618111   \n",
       "2016-09-01 04:59:59                             1401.268123   \n",
       "2016-09-01 05:59:59                             1402.826803   \n",
       "2016-09-01 06:59:59                             1398.252401   \n",
       "2016-09-01 07:59:59                             1401.669677   \n",
       "2016-09-01 08:59:59                             1402.358981   \n",
       "2016-09-01 09:59:59                             1400.816120   \n",
       "2016-09-01 10:59:59                             1400.414377   \n",
       "2016-09-01 11:59:59                             1399.594414   \n",
       "2016-09-01 12:59:59                             1402.658539   \n",
       "2016-09-01 13:59:59                             1401.522803   \n",
       "2016-09-01 14:59:59                             1400.371468   \n",
       "2016-09-01 15:59:59                             1400.232655   \n",
       "2016-09-01 16:59:59                             1400.527148   \n",
       "2016-09-01 17:59:59                             1403.147105   \n",
       "2016-09-01 18:59:59                             1403.385188   \n",
       "2016-09-01 19:59:59                             1400.009171   \n",
       "\n",
       "                     primary_cleaner.state.floatbank8_a_level  \\\n",
       "date                                                            \n",
       "2016-09-01 00:59:59                               -500.225577   \n",
       "2016-09-01 01:59:59                               -500.057435   \n",
       "2016-09-01 02:59:59                               -500.868360   \n",
       "2016-09-01 03:59:59                               -498.863574   \n",
       "2016-09-01 04:59:59                               -500.808305   \n",
       "2016-09-01 05:59:59                               -499.299521   \n",
       "2016-09-01 06:59:59                               -499.748672   \n",
       "2016-09-01 07:59:59                               -501.777839   \n",
       "2016-09-01 08:59:59                               -499.981597   \n",
       "2016-09-01 09:59:59                               -499.014158   \n",
       "2016-09-01 10:59:59                               -500.467134   \n",
       "2016-09-01 11:59:59                               -499.245896   \n",
       "2016-09-01 12:59:59                               -499.902819   \n",
       "2016-09-01 13:59:59                               -500.229384   \n",
       "2016-09-01 14:59:59                               -501.074463   \n",
       "2016-09-01 15:59:59                               -499.470106   \n",
       "2016-09-01 16:59:59                               -499.361604   \n",
       "2016-09-01 17:59:59                               -499.536490   \n",
       "2016-09-01 18:59:59                               -500.678004   \n",
       "2016-09-01 19:59:59                               -499.892042   \n",
       "\n",
       "                     primary_cleaner.state.floatbank8_b_air  \\\n",
       "date                                                          \n",
       "2016-09-01 00:59:59                             1399.144926   \n",
       "2016-09-01 01:59:59                             1398.055362   \n",
       "2016-09-01 02:59:59                             1398.860436   \n",
       "2016-09-01 03:59:59                             1397.440120   \n",
       "2016-09-01 04:59:59                             1398.128818   \n",
       "2016-09-01 05:59:59                             1401.511119   \n",
       "2016-09-01 06:59:59                             1393.255503   \n",
       "2016-09-01 07:59:59                             1400.754446   \n",
       "2016-09-01 08:59:59                             1400.985954   \n",
       "2016-09-01 09:59:59                             1399.975401   \n",
       "2016-09-01 10:59:59                             1400.089566   \n",
       "2016-09-01 11:59:59                             1400.722260   \n",
       "2016-09-01 12:59:59                             1399.102451   \n",
       "2016-09-01 13:59:59                             1400.822074   \n",
       "2016-09-01 14:59:59                             1402.642429   \n",
       "2016-09-01 15:59:59                             1402.184151   \n",
       "2016-09-01 16:59:59                             1400.873200   \n",
       "2016-09-01 17:59:59                             1400.621750   \n",
       "2016-09-01 18:59:59                             1399.207858   \n",
       "2016-09-01 19:59:59                             1400.724122   \n",
       "\n",
       "                     primary_cleaner.state.floatbank8_b_level  \\\n",
       "date                                                            \n",
       "2016-09-01 00:59:59                               -499.919735   \n",
       "2016-09-01 01:59:59                               -499.778182   \n",
       "2016-09-01 02:59:59                               -499.764529   \n",
       "2016-09-01 03:59:59                               -499.211024   \n",
       "2016-09-01 04:59:59                               -499.504543   \n",
       "2016-09-01 05:59:59                               -499.205357   \n",
       "2016-09-01 06:59:59                               -499.195380   \n",
       "2016-09-01 07:59:59                               -502.514024   \n",
       "2016-09-01 08:59:59                               -496.802968   \n",
       "2016-09-01 09:59:59                               -499.570552   \n",
       "2016-09-01 10:59:59                               -500.446977   \n",
       "2016-09-01 11:59:59                               -499.360136   \n",
       "2016-09-01 12:59:59                               -500.175006   \n",
       "2016-09-01 13:59:59                               -499.962458   \n",
       "2016-09-01 14:59:59                               -499.130424   \n",
       "2016-09-01 15:59:59                               -500.236610   \n",
       "2016-09-01 16:59:59                               -500.214150   \n",
       "2016-09-01 17:59:59                               -498.865191   \n",
       "2016-09-01 18:59:59                               -500.607354   \n",
       "2016-09-01 19:59:59                               -500.490918   \n",
       "\n",
       "                     primary_cleaner.state.floatbank8_c_air  \\\n",
       "date                                                          \n",
       "2016-09-01 00:59:59                             1400.102998   \n",
       "2016-09-01 01:59:59                             1396.151033   \n",
       "2016-09-01 02:59:59                             1398.075709   \n",
       "2016-09-01 03:59:59                             1400.129303   \n",
       "2016-09-01 04:59:59                             1402.172226   \n",
       "2016-09-01 05:59:59                             1404.088107   \n",
       "2016-09-01 06:59:59                             1396.738566   \n",
       "2016-09-01 07:59:59                             1400.465244   \n",
       "2016-09-01 08:59:59                             1401.168584   \n",
       "2016-09-01 09:59:59                             1401.871924   \n",
       "2016-09-01 10:59:59                             1402.269967   \n",
       "2016-09-01 11:59:59                             1400.503184   \n",
       "2016-09-01 12:59:59                             1401.881482   \n",
       "2016-09-01 13:59:59                             1400.873855   \n",
       "2016-09-01 14:59:59                             1398.273436   \n",
       "2016-09-01 15:59:59                             1401.238323   \n",
       "2016-09-01 16:59:59                             1402.397652   \n",
       "2016-09-01 17:59:59                             1402.347908   \n",
       "2016-09-01 18:59:59                             1400.127106   \n",
       "2016-09-01 19:59:59                             1400.122620   \n",
       "\n",
       "                     primary_cleaner.state.floatbank8_c_level  ...  \\\n",
       "date                                                           ...   \n",
       "2016-09-01 00:59:59                               -500.704369  ...   \n",
       "2016-09-01 01:59:59                               -499.240168  ...   \n",
       "2016-09-01 02:59:59                               -502.151509  ...   \n",
       "2016-09-01 03:59:59                               -498.355873  ...   \n",
       "2016-09-01 04:59:59                               -500.810606  ...   \n",
       "2016-09-01 05:59:59                               -497.903666  ...   \n",
       "2016-09-01 06:59:59                               -497.923683  ...   \n",
       "2016-09-01 07:59:59                               -503.451306  ...   \n",
       "2016-09-01 08:59:59                               -499.890350  ...   \n",
       "2016-09-01 09:59:59                               -499.577934  ...   \n",
       "2016-09-01 10:59:59                               -502.025845  ...   \n",
       "2016-09-01 11:59:59                               -501.591815  ...   \n",
       "2016-09-01 12:59:59                               -500.012095  ...   \n",
       "2016-09-01 13:59:59                               -501.135675  ...   \n",
       "2016-09-01 14:59:59                               -499.242839  ...   \n",
       "2016-09-01 15:59:59                               -499.407647  ...   \n",
       "2016-09-01 16:59:59                               -501.156355  ...   \n",
       "2016-09-01 17:59:59                               -497.422249  ...   \n",
       "2016-09-01 18:59:59                               -501.587751  ...   \n",
       "2016-09-01 19:59:59                               -499.551286  ...   \n",
       "\n",
       "                     secondary_cleaner.state.floatbank4_a_air  \\\n",
       "date                                                            \n",
       "2016-09-01 00:59:59                                 12.023554   \n",
       "2016-09-01 01:59:59                                 12.058140   \n",
       "2016-09-01 02:59:59                                 11.962366   \n",
       "2016-09-01 03:59:59                                 12.033091   \n",
       "2016-09-01 04:59:59                                 12.025367   \n",
       "2016-09-01 05:59:59                                 12.029797   \n",
       "2016-09-01 06:59:59                                 12.026296   \n",
       "2016-09-01 07:59:59                                 12.040911   \n",
       "2016-09-01 08:59:59                                 11.998184   \n",
       "2016-09-01 09:59:59                                 12.040725   \n",
       "2016-09-01 10:59:59                                 12.016142   \n",
       "2016-09-01 11:59:59                                 11.959844   \n",
       "2016-09-01 12:59:59                                 11.937972   \n",
       "2016-09-01 13:59:59                                 12.044229   \n",
       "2016-09-01 14:59:59                                 12.002987   \n",
       "2016-09-01 15:59:59                                 12.001285   \n",
       "2016-09-01 16:59:59                                 11.977331   \n",
       "2016-09-01 17:59:59                                 11.980268   \n",
       "2016-09-01 18:59:59                                 12.082380   \n",
       "2016-09-01 19:59:59                                 11.898973   \n",
       "\n",
       "                     secondary_cleaner.state.floatbank4_a_level  \\\n",
       "date                                                              \n",
       "2016-09-01 00:59:59                                 -497.795834   \n",
       "2016-09-01 01:59:59                                 -498.695773   \n",
       "2016-09-01 02:59:59                                 -498.767484   \n",
       "2016-09-01 03:59:59                                 -498.350935   \n",
       "2016-09-01 04:59:59                                 -500.786497   \n",
       "2016-09-01 05:59:59                                 -499.814895   \n",
       "2016-09-01 06:59:59                                 -499.473127   \n",
       "2016-09-01 07:59:59                                 -501.293852   \n",
       "2016-09-01 08:59:59                                 -499.481608   \n",
       "2016-09-01 09:59:59                                 -499.987743   \n",
       "2016-09-01 10:59:59                                 -500.597945   \n",
       "2016-09-01 11:59:59                                 -499.181077   \n",
       "2016-09-01 12:59:59                                 -499.665072   \n",
       "2016-09-01 13:59:59                                 -500.102489   \n",
       "2016-09-01 14:59:59                                 -500.459197   \n",
       "2016-09-01 15:59:59                                 -501.477914   \n",
       "2016-09-01 16:59:59                                 -499.910943   \n",
       "2016-09-01 17:59:59                                 -499.090571   \n",
       "2016-09-01 18:59:59                                 -500.351365   \n",
       "2016-09-01 19:59:59                                 -498.608686   \n",
       "\n",
       "                     secondary_cleaner.state.floatbank4_b_air  \\\n",
       "date                                                            \n",
       "2016-09-01 00:59:59                                  8.016656   \n",
       "2016-09-01 01:59:59                                  8.130979   \n",
       "2016-09-01 02:59:59                                  8.096893   \n",
       "2016-09-01 03:59:59                                  8.074946   \n",
       "2016-09-01 04:59:59                                  8.054678   \n",
       "2016-09-01 05:59:59                                  8.036586   \n",
       "2016-09-01 06:59:59                                  8.027984   \n",
       "2016-09-01 07:59:59                                  8.020490   \n",
       "2016-09-01 08:59:59                                  8.012610   \n",
       "2016-09-01 09:59:59                                  7.989503   \n",
       "2016-09-01 10:59:59                                  8.109317   \n",
       "2016-09-01 11:59:59                                  8.078691   \n",
       "2016-09-01 12:59:59                                  7.999953   \n",
       "2016-09-01 13:59:59                                  7.963308   \n",
       "2016-09-01 14:59:59                                  7.971947   \n",
       "2016-09-01 15:59:59                                  8.006140   \n",
       "2016-09-01 16:59:59                                  8.040334   \n",
       "2016-09-01 17:59:59                                  8.074527   \n",
       "2016-09-01 18:59:59                                  8.043323   \n",
       "2016-09-01 19:59:59                                  7.976877   \n",
       "\n",
       "                     secondary_cleaner.state.floatbank4_b_level  \\\n",
       "date                                                              \n",
       "2016-09-01 00:59:59                                 -501.289139   \n",
       "2016-09-01 01:59:59                                 -499.634209   \n",
       "2016-09-01 02:59:59                                 -500.827423   \n",
       "2016-09-01 03:59:59                                 -499.474407   \n",
       "2016-09-01 04:59:59                                 -500.397500   \n",
       "2016-09-01 05:59:59                                 -500.371492   \n",
       "2016-09-01 06:59:59                                 -500.983079   \n",
       "2016-09-01 07:59:59                                 -499.185229   \n",
       "2016-09-01 08:59:59                                 -500.896783   \n",
       "2016-09-01 09:59:59                                 -499.750625   \n",
       "2016-09-01 10:59:59                                 -500.815511   \n",
       "2016-09-01 11:59:59                                 -499.250344   \n",
       "2016-09-01 12:59:59                                 -500.719390   \n",
       "2016-09-01 13:59:59                                 -498.999161   \n",
       "2016-09-01 14:59:59                                 -500.515679   \n",
       "2016-09-01 15:59:59                                 -500.451719   \n",
       "2016-09-01 16:59:59                                 -500.204165   \n",
       "2016-09-01 17:59:59                                 -499.750816   \n",
       "2016-09-01 18:59:59                                 -500.452250   \n",
       "2016-09-01 19:59:59                                 -499.241773   \n",
       "\n",
       "                     secondary_cleaner.state.floatbank5_a_air  \\\n",
       "date                                                            \n",
       "2016-09-01 00:59:59                                  7.946562   \n",
       "2016-09-01 01:59:59                                  7.958270   \n",
       "2016-09-01 02:59:59                                  8.071056   \n",
       "2016-09-01 03:59:59                                  7.897085   \n",
       "2016-09-01 04:59:59                                  8.107890   \n",
       "2016-09-01 05:59:59                                  8.041446   \n",
       "2016-09-01 06:59:59                                  7.907340   \n",
       "2016-09-01 07:59:59                                  8.116897   \n",
       "2016-09-01 08:59:59                                  7.974422   \n",
       "2016-09-01 09:59:59                                  7.989710   \n",
       "2016-09-01 10:59:59                                  7.963967   \n",
       "2016-09-01 11:59:59                                  7.958926   \n",
       "2016-09-01 12:59:59                                  8.117658   \n",
       "2016-09-01 13:59:59                                  8.079780   \n",
       "2016-09-01 14:59:59                                  8.053689   \n",
       "2016-09-01 15:59:59                                  8.000597   \n",
       "2016-09-01 16:59:59                                  7.997683   \n",
       "2016-09-01 17:59:59                                  8.021712   \n",
       "2016-09-01 18:59:59                                  8.074127   \n",
       "2016-09-01 19:59:59                                  8.008262   \n",
       "\n",
       "                     secondary_cleaner.state.floatbank5_a_level  \\\n",
       "date                                                              \n",
       "2016-09-01 00:59:59                                 -432.317850   \n",
       "2016-09-01 01:59:59                                 -525.839648   \n",
       "2016-09-01 02:59:59                                 -500.801673   \n",
       "2016-09-01 03:59:59                                 -500.868509   \n",
       "2016-09-01 04:59:59                                 -509.526725   \n",
       "2016-09-01 05:59:59                                 -510.037054   \n",
       "2016-09-01 06:59:59                                 -507.964971   \n",
       "2016-09-01 07:59:59                                 -511.927561   \n",
       "2016-09-01 08:59:59                                 -521.199104   \n",
       "2016-09-01 09:59:59                                 -509.946737   \n",
       "2016-09-01 10:59:59                                 -523.193535   \n",
       "2016-09-01 11:59:59                                 -491.675387   \n",
       "2016-09-01 12:59:59                                 -499.024283   \n",
       "2016-09-01 13:59:59                                 -500.111603   \n",
       "2016-09-01 14:59:59                                 -500.238073   \n",
       "2016-09-01 15:59:59                                 -502.952208   \n",
       "2016-09-01 16:59:59                                 -500.890613   \n",
       "2016-09-01 17:59:59                                 -498.115545   \n",
       "2016-09-01 18:59:59                                 -498.537555   \n",
       "2016-09-01 19:59:59                                 -500.167815   \n",
       "\n",
       "                     secondary_cleaner.state.floatbank5_b_air  \\\n",
       "date                                                            \n",
       "2016-09-01 00:59:59                                  4.872511   \n",
       "2016-09-01 01:59:59                                  4.878850   \n",
       "2016-09-01 02:59:59                                  4.905125   \n",
       "2016-09-01 03:59:59                                  4.931400   \n",
       "2016-09-01 04:59:59                                  4.957674   \n",
       "2016-09-01 05:59:59                                  4.983949   \n",
       "2016-09-01 06:59:59                                  5.010224   \n",
       "2016-09-01 07:59:59                                  5.036498   \n",
       "2016-09-01 08:59:59                                  5.061599   \n",
       "2016-09-01 09:59:59                                  5.068811   \n",
       "2016-09-01 10:59:59                                  5.069972   \n",
       "2016-09-01 11:59:59                                  5.069611   \n",
       "2016-09-01 12:59:59                                  5.060127   \n",
       "2016-09-01 13:59:59                                  5.049125   \n",
       "2016-09-01 14:59:59                                  5.038123   \n",
       "2016-09-01 15:59:59                                  5.027121   \n",
       "2016-09-01 16:59:59                                  5.057373   \n",
       "2016-09-01 17:59:59                                  5.086844   \n",
       "2016-09-01 18:59:59                                  5.073014   \n",
       "2016-09-01 19:59:59                                  5.059183   \n",
       "\n",
       "                     secondary_cleaner.state.floatbank5_b_level  \\\n",
       "date                                                              \n",
       "2016-09-01 00:59:59                                 -500.037437   \n",
       "2016-09-01 01:59:59                                 -500.162375   \n",
       "2016-09-01 02:59:59                                 -499.828510   \n",
       "2016-09-01 03:59:59                                 -499.963623   \n",
       "2016-09-01 04:59:59                                 -500.360026   \n",
       "2016-09-01 05:59:59                                 -499.990990   \n",
       "2016-09-01 06:59:59                                 -500.043697   \n",
       "2016-09-01 07:59:59                                 -500.149615   \n",
       "2016-09-01 08:59:59                                 -499.791519   \n",
       "2016-09-01 09:59:59                                 -499.293900   \n",
       "2016-09-01 10:59:59                                 -499.786750   \n",
       "2016-09-01 11:59:59                                 -499.573837   \n",
       "2016-09-01 12:59:59                                 -499.757223   \n",
       "2016-09-01 13:59:59                                 -499.964304   \n",
       "2016-09-01 14:59:59                                 -500.161160   \n",
       "2016-09-01 15:59:59                                 -499.659053   \n",
       "2016-09-01 16:59:59                                 -500.033917   \n",
       "2016-09-01 17:59:59                                 -499.910107   \n",
       "2016-09-01 18:59:59                                 -499.625942   \n",
       "2016-09-01 19:59:59                                 -500.271811   \n",
       "\n",
       "                     secondary_cleaner.state.floatbank6_a_air  \\\n",
       "date                                                            \n",
       "2016-09-01 00:59:59                                 26.705889   \n",
       "2016-09-01 01:59:59                                 25.019940   \n",
       "2016-09-01 02:59:59                                 24.994862   \n",
       "2016-09-01 03:59:59                                 24.948919   \n",
       "2016-09-01 04:59:59                                 25.003331   \n",
       "2016-09-01 05:59:59                                 24.978973   \n",
       "2016-09-01 06:59:59                                 25.040709   \n",
       "2016-09-01 07:59:59                                 25.032580   \n",
       "2016-09-01 08:59:59                                 25.005063   \n",
       "2016-09-01 09:59:59                                 24.992741   \n",
       "2016-09-01 10:59:59                                 25.003677   \n",
       "2016-09-01 11:59:59                                 18.364718   \n",
       "2016-09-01 12:59:59                                 10.008581   \n",
       "2016-09-01 13:59:59                                 10.016975   \n",
       "2016-09-01 14:59:59                                  9.909759   \n",
       "2016-09-01 15:59:59                                  9.883136   \n",
       "2016-09-01 16:59:59                                  9.994027   \n",
       "2016-09-01 17:59:59                                  9.990204   \n",
       "2016-09-01 18:59:59                                  9.985529   \n",
       "2016-09-01 19:59:59                                  9.933169   \n",
       "\n",
       "                     secondary_cleaner.state.floatbank6_a_level  \n",
       "date                                                             \n",
       "2016-09-01 00:59:59                                 -499.709414  \n",
       "2016-09-01 01:59:59                                 -499.819438  \n",
       "2016-09-01 02:59:59                                 -500.622559  \n",
       "2016-09-01 03:59:59                                 -498.709987  \n",
       "2016-09-01 04:59:59                                 -500.856333  \n",
       "2016-09-01 05:59:59                                 -500.475640  \n",
       "2016-09-01 06:59:59                                 -499.501984  \n",
       "2016-09-01 07:59:59                                 -503.970657  \n",
       "2016-09-01 08:59:59                                 -497.613716  \n",
       "2016-09-01 09:59:59                                 -499.272255  \n",
       "2016-09-01 10:59:59                                 -500.043103  \n",
       "2016-09-01 11:59:59                                 -497.711111  \n",
       "2016-09-01 12:59:59                                 -499.937567  \n",
       "2016-09-01 13:59:59                                 -499.835537  \n",
       "2016-09-01 14:59:59                                 -500.770649  \n",
       "2016-09-01 15:59:59                                 -500.641186  \n",
       "2016-09-01 16:59:59                                 -499.483006  \n",
       "2016-09-01 17:59:59                                 -499.596528  \n",
       "2016-09-01 18:59:59                                 -500.424783  \n",
       "2016-09-01 19:59:59                                 -499.271896  \n",
       "\n",
       "[20 rows x 52 columns]"
      ]
     },
     "execution_count": 79,
     "metadata": {},
     "output_type": "execute_result"
    }
   ],
   "source": [
    "data_test.info()\n",
    "data_test.head(20)"
   ]
  },
  {
   "cell_type": "code",
   "execution_count": 80,
   "metadata": {},
   "outputs": [
    {
     "name": "stdout",
     "output_type": "stream",
     "text": [
      "<class 'pandas.core.frame.DataFrame'>\n",
      "Index: 19439 entries, 2016-01-15 00:00:00 to 2018-08-18 10:59:59\n",
      "Data columns (total 86 columns):\n",
      " #   Column                                              Non-Null Count  Dtype  \n",
      "---  ------                                              --------------  -----  \n",
      " 0   final.output.concentrate_ag                         19438 non-null  float64\n",
      " 1   final.output.concentrate_pb                         19438 non-null  float64\n",
      " 2   final.output.concentrate_sol                        19228 non-null  float64\n",
      " 3   final.output.concentrate_au                         19439 non-null  float64\n",
      " 4   final.output.recovery                               19439 non-null  float64\n",
      " 5   final.output.tail_ag                                19438 non-null  float64\n",
      " 6   final.output.tail_pb                                19338 non-null  float64\n",
      " 7   final.output.tail_sol                               19433 non-null  float64\n",
      " 8   final.output.tail_au                                19439 non-null  float64\n",
      " 9   primary_cleaner.input.sulfate                       19415 non-null  float64\n",
      " 10  primary_cleaner.input.depressant                    19402 non-null  float64\n",
      " 11  primary_cleaner.input.feed_size                     19439 non-null  float64\n",
      " 12  primary_cleaner.input.xanthate                      19335 non-null  float64\n",
      " 13  primary_cleaner.output.concentrate_ag               19439 non-null  float64\n",
      " 14  primary_cleaner.output.concentrate_pb               19323 non-null  float64\n",
      " 15  primary_cleaner.output.concentrate_sol              19069 non-null  float64\n",
      " 16  primary_cleaner.output.concentrate_au               19439 non-null  float64\n",
      " 17  primary_cleaner.output.tail_ag                      19435 non-null  float64\n",
      " 18  primary_cleaner.output.tail_pb                      19418 non-null  float64\n",
      " 19  primary_cleaner.output.tail_sol                     19377 non-null  float64\n",
      " 20  primary_cleaner.output.tail_au                      19439 non-null  float64\n",
      " 21  primary_cleaner.state.floatbank8_a_air              19435 non-null  float64\n",
      " 22  primary_cleaner.state.floatbank8_a_level            19438 non-null  float64\n",
      " 23  primary_cleaner.state.floatbank8_b_air              19435 non-null  float64\n",
      " 24  primary_cleaner.state.floatbank8_b_level            19438 non-null  float64\n",
      " 25  primary_cleaner.state.floatbank8_c_air              19437 non-null  float64\n",
      " 26  primary_cleaner.state.floatbank8_c_level            19438 non-null  float64\n",
      " 27  primary_cleaner.state.floatbank8_d_air              19436 non-null  float64\n",
      " 28  primary_cleaner.state.floatbank8_d_level            19438 non-null  float64\n",
      " 29  rougher.calculation.sulfate_to_au_concentrate       19437 non-null  float64\n",
      " 30  rougher.calculation.floatbank10_sulfate_to_au_feed  19437 non-null  float64\n",
      " 31  rougher.calculation.floatbank11_sulfate_to_au_feed  19437 non-null  float64\n",
      " 32  rougher.calculation.au_pb_ratio                     19439 non-null  float64\n",
      " 33  rougher.input.feed_ag                               19439 non-null  float64\n",
      " 34  rougher.input.feed_pb                               19339 non-null  float64\n",
      " 35  rougher.input.feed_rate                             19428 non-null  float64\n",
      " 36  rougher.input.feed_size                             19294 non-null  float64\n",
      " 37  rougher.input.feed_sol                              19340 non-null  float64\n",
      " 38  rougher.input.feed_au                               19439 non-null  float64\n",
      " 39  rougher.input.floatbank10_sulfate                   19405 non-null  float64\n",
      " 40  rougher.input.floatbank10_xanthate                  19431 non-null  float64\n",
      " 41  rougher.input.floatbank11_sulfate                   19395 non-null  float64\n",
      " 42  rougher.input.floatbank11_xanthate                  18986 non-null  float64\n",
      " 43  rougher.output.concentrate_ag                       19439 non-null  float64\n",
      " 44  rougher.output.concentrate_pb                       19439 non-null  float64\n",
      " 45  rougher.output.concentrate_sol                      19416 non-null  float64\n",
      " 46  rougher.output.concentrate_au                       19439 non-null  float64\n",
      " 47  rougher.output.recovery                             19439 non-null  float64\n",
      " 48  rougher.output.tail_ag                              19438 non-null  float64\n",
      " 49  rougher.output.tail_pb                              19439 non-null  float64\n",
      " 50  rougher.output.tail_sol                             19439 non-null  float64\n",
      " 51  rougher.output.tail_au                              19439 non-null  float64\n",
      " 52  rougher.state.floatbank10_a_air                     19438 non-null  float64\n",
      " 53  rougher.state.floatbank10_a_level                   19438 non-null  float64\n",
      " 54  rougher.state.floatbank10_b_air                     19438 non-null  float64\n",
      " 55  rougher.state.floatbank10_b_level                   19438 non-null  float64\n",
      " 56  rougher.state.floatbank10_c_air                     19438 non-null  float64\n",
      " 57  rougher.state.floatbank10_c_level                   19438 non-null  float64\n",
      " 58  rougher.state.floatbank10_d_air                     19439 non-null  float64\n",
      " 59  rougher.state.floatbank10_d_level                   19439 non-null  float64\n",
      " 60  rougher.state.floatbank10_e_air                     19003 non-null  float64\n",
      " 61  rougher.state.floatbank10_e_level                   19439 non-null  float64\n",
      " 62  rougher.state.floatbank10_f_air                     19439 non-null  float64\n",
      " 63  rougher.state.floatbank10_f_level                   19439 non-null  float64\n",
      " 64  secondary_cleaner.output.tail_ag                    19437 non-null  float64\n",
      " 65  secondary_cleaner.output.tail_pb                    19427 non-null  float64\n",
      " 66  secondary_cleaner.output.tail_sol                   17691 non-null  float64\n",
      " 67  secondary_cleaner.output.tail_au                    19439 non-null  float64\n",
      " 68  secondary_cleaner.state.floatbank2_a_air            19219 non-null  float64\n",
      " 69  secondary_cleaner.state.floatbank2_a_level          19438 non-null  float64\n",
      " 70  secondary_cleaner.state.floatbank2_b_air            19416 non-null  float64\n",
      " 71  secondary_cleaner.state.floatbank2_b_level          19438 non-null  float64\n",
      " 72  secondary_cleaner.state.floatbank3_a_air            19426 non-null  float64\n",
      " 73  secondary_cleaner.state.floatbank3_a_level          19438 non-null  float64\n",
      " 74  secondary_cleaner.state.floatbank3_b_air            19438 non-null  float64\n",
      " 75  secondary_cleaner.state.floatbank3_b_level          19438 non-null  float64\n",
      " 76  secondary_cleaner.state.floatbank4_a_air            19433 non-null  float64\n",
      " 77  secondary_cleaner.state.floatbank4_a_level          19438 non-null  float64\n",
      " 78  secondary_cleaner.state.floatbank4_b_air            19438 non-null  float64\n",
      " 79  secondary_cleaner.state.floatbank4_b_level          19438 non-null  float64\n",
      " 80  secondary_cleaner.state.floatbank5_a_air            19438 non-null  float64\n",
      " 81  secondary_cleaner.state.floatbank5_a_level          19438 non-null  float64\n",
      " 82  secondary_cleaner.state.floatbank5_b_air            19438 non-null  float64\n",
      " 83  secondary_cleaner.state.floatbank5_b_level          19438 non-null  float64\n",
      " 84  secondary_cleaner.state.floatbank6_a_air            19437 non-null  float64\n",
      " 85  secondary_cleaner.state.floatbank6_a_level          19438 non-null  float64\n",
      "dtypes: float64(86)\n",
      "memory usage: 12.9+ MB\n"
     ]
    },
    {
     "data": {
      "text/html": [
       "<div>\n",
       "<style scoped>\n",
       "    .dataframe tbody tr th:only-of-type {\n",
       "        vertical-align: middle;\n",
       "    }\n",
       "\n",
       "    .dataframe tbody tr th {\n",
       "        vertical-align: top;\n",
       "    }\n",
       "\n",
       "    .dataframe thead th {\n",
       "        text-align: right;\n",
       "    }\n",
       "</style>\n",
       "<table border=\"1\" class=\"dataframe\">\n",
       "  <thead>\n",
       "    <tr style=\"text-align: right;\">\n",
       "      <th></th>\n",
       "      <th>final.output.concentrate_ag</th>\n",
       "      <th>final.output.concentrate_pb</th>\n",
       "      <th>final.output.concentrate_sol</th>\n",
       "      <th>final.output.concentrate_au</th>\n",
       "      <th>final.output.recovery</th>\n",
       "      <th>final.output.tail_ag</th>\n",
       "      <th>final.output.tail_pb</th>\n",
       "      <th>final.output.tail_sol</th>\n",
       "      <th>final.output.tail_au</th>\n",
       "      <th>primary_cleaner.input.sulfate</th>\n",
       "      <th>...</th>\n",
       "      <th>secondary_cleaner.state.floatbank4_a_air</th>\n",
       "      <th>secondary_cleaner.state.floatbank4_a_level</th>\n",
       "      <th>secondary_cleaner.state.floatbank4_b_air</th>\n",
       "      <th>secondary_cleaner.state.floatbank4_b_level</th>\n",
       "      <th>secondary_cleaner.state.floatbank5_a_air</th>\n",
       "      <th>secondary_cleaner.state.floatbank5_a_level</th>\n",
       "      <th>secondary_cleaner.state.floatbank5_b_air</th>\n",
       "      <th>secondary_cleaner.state.floatbank5_b_level</th>\n",
       "      <th>secondary_cleaner.state.floatbank6_a_air</th>\n",
       "      <th>secondary_cleaner.state.floatbank6_a_level</th>\n",
       "    </tr>\n",
       "    <tr>\n",
       "      <th>date</th>\n",
       "      <th></th>\n",
       "      <th></th>\n",
       "      <th></th>\n",
       "      <th></th>\n",
       "      <th></th>\n",
       "      <th></th>\n",
       "      <th></th>\n",
       "      <th></th>\n",
       "      <th></th>\n",
       "      <th></th>\n",
       "      <th></th>\n",
       "      <th></th>\n",
       "      <th></th>\n",
       "      <th></th>\n",
       "      <th></th>\n",
       "      <th></th>\n",
       "      <th></th>\n",
       "      <th></th>\n",
       "      <th></th>\n",
       "      <th></th>\n",
       "      <th></th>\n",
       "    </tr>\n",
       "  </thead>\n",
       "  <tbody>\n",
       "    <tr>\n",
       "      <th>2016-01-15 00:00:00</th>\n",
       "      <td>6.055403</td>\n",
       "      <td>9.889648</td>\n",
       "      <td>5.507324</td>\n",
       "      <td>42.192020</td>\n",
       "      <td>70.541216</td>\n",
       "      <td>10.411962</td>\n",
       "      <td>0.895447</td>\n",
       "      <td>16.904297</td>\n",
       "      <td>2.143149</td>\n",
       "      <td>127.092003</td>\n",
       "      <td>...</td>\n",
       "      <td>14.016835</td>\n",
       "      <td>-502.488007</td>\n",
       "      <td>12.099931</td>\n",
       "      <td>-504.715942</td>\n",
       "      <td>9.925633</td>\n",
       "      <td>-498.310211</td>\n",
       "      <td>8.079666</td>\n",
       "      <td>-500.470978</td>\n",
       "      <td>14.151341</td>\n",
       "      <td>-605.841980</td>\n",
       "    </tr>\n",
       "    <tr>\n",
       "      <th>2016-01-15 01:00:00</th>\n",
       "      <td>6.029369</td>\n",
       "      <td>9.968944</td>\n",
       "      <td>5.257781</td>\n",
       "      <td>42.701629</td>\n",
       "      <td>69.266198</td>\n",
       "      <td>10.462676</td>\n",
       "      <td>0.927452</td>\n",
       "      <td>16.634514</td>\n",
       "      <td>2.224930</td>\n",
       "      <td>125.629232</td>\n",
       "      <td>...</td>\n",
       "      <td>13.992281</td>\n",
       "      <td>-505.503262</td>\n",
       "      <td>11.950531</td>\n",
       "      <td>-501.331529</td>\n",
       "      <td>10.039245</td>\n",
       "      <td>-500.169983</td>\n",
       "      <td>7.984757</td>\n",
       "      <td>-500.582168</td>\n",
       "      <td>13.998353</td>\n",
       "      <td>-599.787184</td>\n",
       "    </tr>\n",
       "    <tr>\n",
       "      <th>2016-01-15 02:00:00</th>\n",
       "      <td>6.055926</td>\n",
       "      <td>10.213995</td>\n",
       "      <td>5.383759</td>\n",
       "      <td>42.657501</td>\n",
       "      <td>68.116445</td>\n",
       "      <td>10.507046</td>\n",
       "      <td>0.953716</td>\n",
       "      <td>16.208849</td>\n",
       "      <td>2.257889</td>\n",
       "      <td>123.819808</td>\n",
       "      <td>...</td>\n",
       "      <td>14.015015</td>\n",
       "      <td>-502.520901</td>\n",
       "      <td>11.912783</td>\n",
       "      <td>-501.133383</td>\n",
       "      <td>10.070913</td>\n",
       "      <td>-500.129135</td>\n",
       "      <td>8.013877</td>\n",
       "      <td>-500.517572</td>\n",
       "      <td>14.028663</td>\n",
       "      <td>-601.427363</td>\n",
       "    </tr>\n",
       "    <tr>\n",
       "      <th>2016-01-15 03:00:00</th>\n",
       "      <td>6.047977</td>\n",
       "      <td>9.977019</td>\n",
       "      <td>4.858634</td>\n",
       "      <td>42.689819</td>\n",
       "      <td>68.347543</td>\n",
       "      <td>10.422762</td>\n",
       "      <td>0.883763</td>\n",
       "      <td>16.532835</td>\n",
       "      <td>2.146849</td>\n",
       "      <td>122.270188</td>\n",
       "      <td>...</td>\n",
       "      <td>14.036510</td>\n",
       "      <td>-500.857308</td>\n",
       "      <td>11.999550</td>\n",
       "      <td>-501.193686</td>\n",
       "      <td>9.970366</td>\n",
       "      <td>-499.201640</td>\n",
       "      <td>7.977324</td>\n",
       "      <td>-500.255908</td>\n",
       "      <td>14.005551</td>\n",
       "      <td>-599.996129</td>\n",
       "    </tr>\n",
       "    <tr>\n",
       "      <th>2016-01-15 04:00:00</th>\n",
       "      <td>6.148599</td>\n",
       "      <td>10.142511</td>\n",
       "      <td>4.939416</td>\n",
       "      <td>42.774141</td>\n",
       "      <td>66.927016</td>\n",
       "      <td>10.360302</td>\n",
       "      <td>0.792826</td>\n",
       "      <td>16.525686</td>\n",
       "      <td>2.055292</td>\n",
       "      <td>117.988169</td>\n",
       "      <td>...</td>\n",
       "      <td>14.027298</td>\n",
       "      <td>-499.838632</td>\n",
       "      <td>11.953070</td>\n",
       "      <td>-501.053894</td>\n",
       "      <td>9.925709</td>\n",
       "      <td>-501.686727</td>\n",
       "      <td>7.894242</td>\n",
       "      <td>-500.356035</td>\n",
       "      <td>13.996647</td>\n",
       "      <td>-601.496691</td>\n",
       "    </tr>\n",
       "    <tr>\n",
       "      <th>2016-01-15 05:00:00</th>\n",
       "      <td>6.482968</td>\n",
       "      <td>10.049416</td>\n",
       "      <td>5.480257</td>\n",
       "      <td>41.633678</td>\n",
       "      <td>69.465816</td>\n",
       "      <td>10.182708</td>\n",
       "      <td>0.664118</td>\n",
       "      <td>16.999638</td>\n",
       "      <td>1.918586</td>\n",
       "      <td>115.581252</td>\n",
       "      <td>...</td>\n",
       "      <td>13.938497</td>\n",
       "      <td>-500.970168</td>\n",
       "      <td>11.883350</td>\n",
       "      <td>-500.395298</td>\n",
       "      <td>10.054147</td>\n",
       "      <td>-496.374715</td>\n",
       "      <td>7.965083</td>\n",
       "      <td>-499.364752</td>\n",
       "      <td>14.017067</td>\n",
       "      <td>-599.707915</td>\n",
       "    </tr>\n",
       "    <tr>\n",
       "      <th>2016-01-15 06:00:00</th>\n",
       "      <td>6.533849</td>\n",
       "      <td>10.058141</td>\n",
       "      <td>4.569100</td>\n",
       "      <td>41.995316</td>\n",
       "      <td>69.300835</td>\n",
       "      <td>10.304598</td>\n",
       "      <td>0.807342</td>\n",
       "      <td>16.723575</td>\n",
       "      <td>2.058913</td>\n",
       "      <td>117.322323</td>\n",
       "      <td>...</td>\n",
       "      <td>14.046819</td>\n",
       "      <td>-500.971133</td>\n",
       "      <td>12.091543</td>\n",
       "      <td>-500.501426</td>\n",
       "      <td>10.003247</td>\n",
       "      <td>-497.083180</td>\n",
       "      <td>8.010890</td>\n",
       "      <td>-500.002423</td>\n",
       "      <td>14.029649</td>\n",
       "      <td>-600.905470</td>\n",
       "    </tr>\n",
       "    <tr>\n",
       "      <th>2016-01-15 07:00:00</th>\n",
       "      <td>6.130823</td>\n",
       "      <td>9.935481</td>\n",
       "      <td>4.389813</td>\n",
       "      <td>42.452727</td>\n",
       "      <td>70.230976</td>\n",
       "      <td>10.443288</td>\n",
       "      <td>0.949346</td>\n",
       "      <td>16.689959</td>\n",
       "      <td>2.143437</td>\n",
       "      <td>124.592960</td>\n",
       "      <td>...</td>\n",
       "      <td>13.974691</td>\n",
       "      <td>-501.819696</td>\n",
       "      <td>12.101324</td>\n",
       "      <td>-500.583446</td>\n",
       "      <td>9.873169</td>\n",
       "      <td>-499.171928</td>\n",
       "      <td>7.993381</td>\n",
       "      <td>-499.794518</td>\n",
       "      <td>13.984498</td>\n",
       "      <td>-600.411070</td>\n",
       "    </tr>\n",
       "    <tr>\n",
       "      <th>2016-01-15 08:00:00</th>\n",
       "      <td>5.834140</td>\n",
       "      <td>10.071156</td>\n",
       "      <td>4.876389</td>\n",
       "      <td>43.404078</td>\n",
       "      <td>69.688595</td>\n",
       "      <td>10.420140</td>\n",
       "      <td>1.065453</td>\n",
       "      <td>17.201948</td>\n",
       "      <td>2.209881</td>\n",
       "      <td>131.781026</td>\n",
       "      <td>...</td>\n",
       "      <td>13.964030</td>\n",
       "      <td>-504.252450</td>\n",
       "      <td>12.060738</td>\n",
       "      <td>-501.174549</td>\n",
       "      <td>10.033838</td>\n",
       "      <td>-501.178133</td>\n",
       "      <td>7.881604</td>\n",
       "      <td>-499.729434</td>\n",
       "      <td>13.967135</td>\n",
       "      <td>-599.061188</td>\n",
       "    </tr>\n",
       "    <tr>\n",
       "      <th>2016-01-15 09:00:00</th>\n",
       "      <td>5.687063</td>\n",
       "      <td>9.980404</td>\n",
       "      <td>5.282514</td>\n",
       "      <td>43.235220</td>\n",
       "      <td>70.279619</td>\n",
       "      <td>10.487013</td>\n",
       "      <td>1.159805</td>\n",
       "      <td>17.483979</td>\n",
       "      <td>2.209593</td>\n",
       "      <td>138.120409</td>\n",
       "      <td>...</td>\n",
       "      <td>13.989632</td>\n",
       "      <td>-503.195299</td>\n",
       "      <td>12.052233</td>\n",
       "      <td>-500.928547</td>\n",
       "      <td>9.962574</td>\n",
       "      <td>-502.986357</td>\n",
       "      <td>7.979219</td>\n",
       "      <td>-500.146835</td>\n",
       "      <td>13.981614</td>\n",
       "      <td>-598.070855</td>\n",
       "    </tr>\n",
       "    <tr>\n",
       "      <th>2016-01-15 10:00:00</th>\n",
       "      <td>5.706261</td>\n",
       "      <td>10.242511</td>\n",
       "      <td>5.214161</td>\n",
       "      <td>43.487291</td>\n",
       "      <td>70.973641</td>\n",
       "      <td>10.473539</td>\n",
       "      <td>1.171183</td>\n",
       "      <td>17.717049</td>\n",
       "      <td>2.200997</td>\n",
       "      <td>146.153696</td>\n",
       "      <td>...</td>\n",
       "      <td>14.008944</td>\n",
       "      <td>-504.170807</td>\n",
       "      <td>11.995903</td>\n",
       "      <td>-501.269181</td>\n",
       "      <td>10.043100</td>\n",
       "      <td>-498.529996</td>\n",
       "      <td>8.002633</td>\n",
       "      <td>-499.761922</td>\n",
       "      <td>14.004767</td>\n",
       "      <td>-599.595324</td>\n",
       "    </tr>\n",
       "    <tr>\n",
       "      <th>2016-01-15 11:00:00</th>\n",
       "      <td>5.582300</td>\n",
       "      <td>10.029878</td>\n",
       "      <td>5.751567</td>\n",
       "      <td>43.467440</td>\n",
       "      <td>71.380681</td>\n",
       "      <td>10.394314</td>\n",
       "      <td>1.087722</td>\n",
       "      <td>18.059770</td>\n",
       "      <td>2.098777</td>\n",
       "      <td>145.436812</td>\n",
       "      <td>...</td>\n",
       "      <td>14.029704</td>\n",
       "      <td>-503.940828</td>\n",
       "      <td>12.022296</td>\n",
       "      <td>-501.238477</td>\n",
       "      <td>10.020094</td>\n",
       "      <td>-500.061845</td>\n",
       "      <td>7.964024</td>\n",
       "      <td>-499.283982</td>\n",
       "      <td>14.003011</td>\n",
       "      <td>-599.879856</td>\n",
       "    </tr>\n",
       "    <tr>\n",
       "      <th>2016-01-15 12:00:00</th>\n",
       "      <td>5.664983</td>\n",
       "      <td>10.168953</td>\n",
       "      <td>5.484318</td>\n",
       "      <td>43.339714</td>\n",
       "      <td>72.659046</td>\n",
       "      <td>10.475957</td>\n",
       "      <td>1.050592</td>\n",
       "      <td>17.525656</td>\n",
       "      <td>2.064422</td>\n",
       "      <td>147.944885</td>\n",
       "      <td>...</td>\n",
       "      <td>13.983963</td>\n",
       "      <td>-503.675714</td>\n",
       "      <td>11.928745</td>\n",
       "      <td>-500.583183</td>\n",
       "      <td>9.970359</td>\n",
       "      <td>-498.822343</td>\n",
       "      <td>8.016377</td>\n",
       "      <td>-499.013145</td>\n",
       "      <td>14.000032</td>\n",
       "      <td>-600.024741</td>\n",
       "    </tr>\n",
       "    <tr>\n",
       "      <th>2016-01-15 13:00:00</th>\n",
       "      <td>5.474776</td>\n",
       "      <td>9.813218</td>\n",
       "      <td>5.587525</td>\n",
       "      <td>44.099758</td>\n",
       "      <td>73.588844</td>\n",
       "      <td>10.378293</td>\n",
       "      <td>0.900833</td>\n",
       "      <td>17.464201</td>\n",
       "      <td>1.975039</td>\n",
       "      <td>147.863164</td>\n",
       "      <td>...</td>\n",
       "      <td>13.981325</td>\n",
       "      <td>-504.947519</td>\n",
       "      <td>12.014060</td>\n",
       "      <td>-500.647565</td>\n",
       "      <td>10.000087</td>\n",
       "      <td>-499.306972</td>\n",
       "      <td>8.002007</td>\n",
       "      <td>-499.970754</td>\n",
       "      <td>14.019977</td>\n",
       "      <td>-599.986714</td>\n",
       "    </tr>\n",
       "    <tr>\n",
       "      <th>2016-01-15 14:00:00</th>\n",
       "      <td>5.437716</td>\n",
       "      <td>9.781181</td>\n",
       "      <td>6.057627</td>\n",
       "      <td>44.284117</td>\n",
       "      <td>70.847012</td>\n",
       "      <td>10.324415</td>\n",
       "      <td>0.961210</td>\n",
       "      <td>18.185262</td>\n",
       "      <td>2.161256</td>\n",
       "      <td>144.447728</td>\n",
       "      <td>...</td>\n",
       "      <td>13.996317</td>\n",
       "      <td>-502.995300</td>\n",
       "      <td>11.980055</td>\n",
       "      <td>-500.607751</td>\n",
       "      <td>9.964501</td>\n",
       "      <td>-499.261719</td>\n",
       "      <td>8.065048</td>\n",
       "      <td>-499.492395</td>\n",
       "      <td>13.997801</td>\n",
       "      <td>-600.621416</td>\n",
       "    </tr>\n",
       "    <tr>\n",
       "      <th>2016-01-15 15:00:00</th>\n",
       "      <td>5.454277</td>\n",
       "      <td>10.019066</td>\n",
       "      <td>5.744694</td>\n",
       "      <td>44.081600</td>\n",
       "      <td>68.753219</td>\n",
       "      <td>10.352547</td>\n",
       "      <td>1.137378</td>\n",
       "      <td>18.431646</td>\n",
       "      <td>2.336759</td>\n",
       "      <td>142.062923</td>\n",
       "      <td>...</td>\n",
       "      <td>14.015223</td>\n",
       "      <td>-503.202022</td>\n",
       "      <td>11.994299</td>\n",
       "      <td>-500.337803</td>\n",
       "      <td>10.037149</td>\n",
       "      <td>-499.395047</td>\n",
       "      <td>8.056439</td>\n",
       "      <td>-499.479716</td>\n",
       "      <td>13.977626</td>\n",
       "      <td>-600.075029</td>\n",
       "    </tr>\n",
       "    <tr>\n",
       "      <th>2016-01-15 16:00:00</th>\n",
       "      <td>5.410126</td>\n",
       "      <td>10.868937</td>\n",
       "      <td>6.258693</td>\n",
       "      <td>43.440341</td>\n",
       "      <td>67.839536</td>\n",
       "      <td>10.382891</td>\n",
       "      <td>1.239738</td>\n",
       "      <td>18.544924</td>\n",
       "      <td>2.423143</td>\n",
       "      <td>147.591165</td>\n",
       "      <td>...</td>\n",
       "      <td>14.031220</td>\n",
       "      <td>-503.471307</td>\n",
       "      <td>11.966426</td>\n",
       "      <td>-500.656842</td>\n",
       "      <td>10.051620</td>\n",
       "      <td>-498.318772</td>\n",
       "      <td>8.018091</td>\n",
       "      <td>-499.696138</td>\n",
       "      <td>13.958937</td>\n",
       "      <td>-599.213013</td>\n",
       "    </tr>\n",
       "    <tr>\n",
       "      <th>2016-01-15 17:00:00</th>\n",
       "      <td>5.572499</td>\n",
       "      <td>10.841483</td>\n",
       "      <td>6.841936</td>\n",
       "      <td>42.844534</td>\n",
       "      <td>69.633763</td>\n",
       "      <td>10.349616</td>\n",
       "      <td>1.179975</td>\n",
       "      <td>18.748028</td>\n",
       "      <td>2.327442</td>\n",
       "      <td>151.394301</td>\n",
       "      <td>...</td>\n",
       "      <td>14.019768</td>\n",
       "      <td>-541.569984</td>\n",
       "      <td>12.021831</td>\n",
       "      <td>-545.572166</td>\n",
       "      <td>10.021058</td>\n",
       "      <td>-501.386982</td>\n",
       "      <td>7.947110</td>\n",
       "      <td>-500.062750</td>\n",
       "      <td>14.014991</td>\n",
       "      <td>-600.670573</td>\n",
       "    </tr>\n",
       "    <tr>\n",
       "      <th>2016-01-15 18:00:00</th>\n",
       "      <td>5.719113</td>\n",
       "      <td>10.621027</td>\n",
       "      <td>6.459561</td>\n",
       "      <td>42.435181</td>\n",
       "      <td>68.786981</td>\n",
       "      <td>10.286797</td>\n",
       "      <td>1.171459</td>\n",
       "      <td>19.131121</td>\n",
       "      <td>2.314786</td>\n",
       "      <td>150.944211</td>\n",
       "      <td>...</td>\n",
       "      <td>14.003057</td>\n",
       "      <td>-503.152258</td>\n",
       "      <td>12.016724</td>\n",
       "      <td>-501.136446</td>\n",
       "      <td>10.041864</td>\n",
       "      <td>-499.338844</td>\n",
       "      <td>8.007022</td>\n",
       "      <td>-500.279583</td>\n",
       "      <td>14.001271</td>\n",
       "      <td>-602.072365</td>\n",
       "    </tr>\n",
       "    <tr>\n",
       "      <th>2016-01-15 19:00:00</th>\n",
       "      <td>5.658943</td>\n",
       "      <td>10.436002</td>\n",
       "      <td>5.942418</td>\n",
       "      <td>42.509402</td>\n",
       "      <td>70.348300</td>\n",
       "      <td>10.232392</td>\n",
       "      <td>1.174845</td>\n",
       "      <td>19.498566</td>\n",
       "      <td>2.272460</td>\n",
       "      <td>149.998260</td>\n",
       "      <td>...</td>\n",
       "      <td>14.001632</td>\n",
       "      <td>-509.808331</td>\n",
       "      <td>12.087669</td>\n",
       "      <td>-510.782166</td>\n",
       "      <td>10.032043</td>\n",
       "      <td>-499.128183</td>\n",
       "      <td>8.016140</td>\n",
       "      <td>-499.806844</td>\n",
       "      <td>13.949790</td>\n",
       "      <td>-600.140776</td>\n",
       "    </tr>\n",
       "  </tbody>\n",
       "</table>\n",
       "<p>20 rows × 86 columns</p>\n",
       "</div>"
      ],
      "text/plain": [
       "                     final.output.concentrate_ag  final.output.concentrate_pb  \\\n",
       "date                                                                            \n",
       "2016-01-15 00:00:00                     6.055403                     9.889648   \n",
       "2016-01-15 01:00:00                     6.029369                     9.968944   \n",
       "2016-01-15 02:00:00                     6.055926                    10.213995   \n",
       "2016-01-15 03:00:00                     6.047977                     9.977019   \n",
       "2016-01-15 04:00:00                     6.148599                    10.142511   \n",
       "2016-01-15 05:00:00                     6.482968                    10.049416   \n",
       "2016-01-15 06:00:00                     6.533849                    10.058141   \n",
       "2016-01-15 07:00:00                     6.130823                     9.935481   \n",
       "2016-01-15 08:00:00                     5.834140                    10.071156   \n",
       "2016-01-15 09:00:00                     5.687063                     9.980404   \n",
       "2016-01-15 10:00:00                     5.706261                    10.242511   \n",
       "2016-01-15 11:00:00                     5.582300                    10.029878   \n",
       "2016-01-15 12:00:00                     5.664983                    10.168953   \n",
       "2016-01-15 13:00:00                     5.474776                     9.813218   \n",
       "2016-01-15 14:00:00                     5.437716                     9.781181   \n",
       "2016-01-15 15:00:00                     5.454277                    10.019066   \n",
       "2016-01-15 16:00:00                     5.410126                    10.868937   \n",
       "2016-01-15 17:00:00                     5.572499                    10.841483   \n",
       "2016-01-15 18:00:00                     5.719113                    10.621027   \n",
       "2016-01-15 19:00:00                     5.658943                    10.436002   \n",
       "\n",
       "                     final.output.concentrate_sol  \\\n",
       "date                                                \n",
       "2016-01-15 00:00:00                      5.507324   \n",
       "2016-01-15 01:00:00                      5.257781   \n",
       "2016-01-15 02:00:00                      5.383759   \n",
       "2016-01-15 03:00:00                      4.858634   \n",
       "2016-01-15 04:00:00                      4.939416   \n",
       "2016-01-15 05:00:00                      5.480257   \n",
       "2016-01-15 06:00:00                      4.569100   \n",
       "2016-01-15 07:00:00                      4.389813   \n",
       "2016-01-15 08:00:00                      4.876389   \n",
       "2016-01-15 09:00:00                      5.282514   \n",
       "2016-01-15 10:00:00                      5.214161   \n",
       "2016-01-15 11:00:00                      5.751567   \n",
       "2016-01-15 12:00:00                      5.484318   \n",
       "2016-01-15 13:00:00                      5.587525   \n",
       "2016-01-15 14:00:00                      6.057627   \n",
       "2016-01-15 15:00:00                      5.744694   \n",
       "2016-01-15 16:00:00                      6.258693   \n",
       "2016-01-15 17:00:00                      6.841936   \n",
       "2016-01-15 18:00:00                      6.459561   \n",
       "2016-01-15 19:00:00                      5.942418   \n",
       "\n",
       "                     final.output.concentrate_au  final.output.recovery  \\\n",
       "date                                                                      \n",
       "2016-01-15 00:00:00                    42.192020              70.541216   \n",
       "2016-01-15 01:00:00                    42.701629              69.266198   \n",
       "2016-01-15 02:00:00                    42.657501              68.116445   \n",
       "2016-01-15 03:00:00                    42.689819              68.347543   \n",
       "2016-01-15 04:00:00                    42.774141              66.927016   \n",
       "2016-01-15 05:00:00                    41.633678              69.465816   \n",
       "2016-01-15 06:00:00                    41.995316              69.300835   \n",
       "2016-01-15 07:00:00                    42.452727              70.230976   \n",
       "2016-01-15 08:00:00                    43.404078              69.688595   \n",
       "2016-01-15 09:00:00                    43.235220              70.279619   \n",
       "2016-01-15 10:00:00                    43.487291              70.973641   \n",
       "2016-01-15 11:00:00                    43.467440              71.380681   \n",
       "2016-01-15 12:00:00                    43.339714              72.659046   \n",
       "2016-01-15 13:00:00                    44.099758              73.588844   \n",
       "2016-01-15 14:00:00                    44.284117              70.847012   \n",
       "2016-01-15 15:00:00                    44.081600              68.753219   \n",
       "2016-01-15 16:00:00                    43.440341              67.839536   \n",
       "2016-01-15 17:00:00                    42.844534              69.633763   \n",
       "2016-01-15 18:00:00                    42.435181              68.786981   \n",
       "2016-01-15 19:00:00                    42.509402              70.348300   \n",
       "\n",
       "                     final.output.tail_ag  final.output.tail_pb  \\\n",
       "date                                                              \n",
       "2016-01-15 00:00:00             10.411962              0.895447   \n",
       "2016-01-15 01:00:00             10.462676              0.927452   \n",
       "2016-01-15 02:00:00             10.507046              0.953716   \n",
       "2016-01-15 03:00:00             10.422762              0.883763   \n",
       "2016-01-15 04:00:00             10.360302              0.792826   \n",
       "2016-01-15 05:00:00             10.182708              0.664118   \n",
       "2016-01-15 06:00:00             10.304598              0.807342   \n",
       "2016-01-15 07:00:00             10.443288              0.949346   \n",
       "2016-01-15 08:00:00             10.420140              1.065453   \n",
       "2016-01-15 09:00:00             10.487013              1.159805   \n",
       "2016-01-15 10:00:00             10.473539              1.171183   \n",
       "2016-01-15 11:00:00             10.394314              1.087722   \n",
       "2016-01-15 12:00:00             10.475957              1.050592   \n",
       "2016-01-15 13:00:00             10.378293              0.900833   \n",
       "2016-01-15 14:00:00             10.324415              0.961210   \n",
       "2016-01-15 15:00:00             10.352547              1.137378   \n",
       "2016-01-15 16:00:00             10.382891              1.239738   \n",
       "2016-01-15 17:00:00             10.349616              1.179975   \n",
       "2016-01-15 18:00:00             10.286797              1.171459   \n",
       "2016-01-15 19:00:00             10.232392              1.174845   \n",
       "\n",
       "                     final.output.tail_sol  final.output.tail_au  \\\n",
       "date                                                               \n",
       "2016-01-15 00:00:00              16.904297              2.143149   \n",
       "2016-01-15 01:00:00              16.634514              2.224930   \n",
       "2016-01-15 02:00:00              16.208849              2.257889   \n",
       "2016-01-15 03:00:00              16.532835              2.146849   \n",
       "2016-01-15 04:00:00              16.525686              2.055292   \n",
       "2016-01-15 05:00:00              16.999638              1.918586   \n",
       "2016-01-15 06:00:00              16.723575              2.058913   \n",
       "2016-01-15 07:00:00              16.689959              2.143437   \n",
       "2016-01-15 08:00:00              17.201948              2.209881   \n",
       "2016-01-15 09:00:00              17.483979              2.209593   \n",
       "2016-01-15 10:00:00              17.717049              2.200997   \n",
       "2016-01-15 11:00:00              18.059770              2.098777   \n",
       "2016-01-15 12:00:00              17.525656              2.064422   \n",
       "2016-01-15 13:00:00              17.464201              1.975039   \n",
       "2016-01-15 14:00:00              18.185262              2.161256   \n",
       "2016-01-15 15:00:00              18.431646              2.336759   \n",
       "2016-01-15 16:00:00              18.544924              2.423143   \n",
       "2016-01-15 17:00:00              18.748028              2.327442   \n",
       "2016-01-15 18:00:00              19.131121              2.314786   \n",
       "2016-01-15 19:00:00              19.498566              2.272460   \n",
       "\n",
       "                     primary_cleaner.input.sulfate  ...  \\\n",
       "date                                                ...   \n",
       "2016-01-15 00:00:00                     127.092003  ...   \n",
       "2016-01-15 01:00:00                     125.629232  ...   \n",
       "2016-01-15 02:00:00                     123.819808  ...   \n",
       "2016-01-15 03:00:00                     122.270188  ...   \n",
       "2016-01-15 04:00:00                     117.988169  ...   \n",
       "2016-01-15 05:00:00                     115.581252  ...   \n",
       "2016-01-15 06:00:00                     117.322323  ...   \n",
       "2016-01-15 07:00:00                     124.592960  ...   \n",
       "2016-01-15 08:00:00                     131.781026  ...   \n",
       "2016-01-15 09:00:00                     138.120409  ...   \n",
       "2016-01-15 10:00:00                     146.153696  ...   \n",
       "2016-01-15 11:00:00                     145.436812  ...   \n",
       "2016-01-15 12:00:00                     147.944885  ...   \n",
       "2016-01-15 13:00:00                     147.863164  ...   \n",
       "2016-01-15 14:00:00                     144.447728  ...   \n",
       "2016-01-15 15:00:00                     142.062923  ...   \n",
       "2016-01-15 16:00:00                     147.591165  ...   \n",
       "2016-01-15 17:00:00                     151.394301  ...   \n",
       "2016-01-15 18:00:00                     150.944211  ...   \n",
       "2016-01-15 19:00:00                     149.998260  ...   \n",
       "\n",
       "                     secondary_cleaner.state.floatbank4_a_air  \\\n",
       "date                                                            \n",
       "2016-01-15 00:00:00                                 14.016835   \n",
       "2016-01-15 01:00:00                                 13.992281   \n",
       "2016-01-15 02:00:00                                 14.015015   \n",
       "2016-01-15 03:00:00                                 14.036510   \n",
       "2016-01-15 04:00:00                                 14.027298   \n",
       "2016-01-15 05:00:00                                 13.938497   \n",
       "2016-01-15 06:00:00                                 14.046819   \n",
       "2016-01-15 07:00:00                                 13.974691   \n",
       "2016-01-15 08:00:00                                 13.964030   \n",
       "2016-01-15 09:00:00                                 13.989632   \n",
       "2016-01-15 10:00:00                                 14.008944   \n",
       "2016-01-15 11:00:00                                 14.029704   \n",
       "2016-01-15 12:00:00                                 13.983963   \n",
       "2016-01-15 13:00:00                                 13.981325   \n",
       "2016-01-15 14:00:00                                 13.996317   \n",
       "2016-01-15 15:00:00                                 14.015223   \n",
       "2016-01-15 16:00:00                                 14.031220   \n",
       "2016-01-15 17:00:00                                 14.019768   \n",
       "2016-01-15 18:00:00                                 14.003057   \n",
       "2016-01-15 19:00:00                                 14.001632   \n",
       "\n",
       "                     secondary_cleaner.state.floatbank4_a_level  \\\n",
       "date                                                              \n",
       "2016-01-15 00:00:00                                 -502.488007   \n",
       "2016-01-15 01:00:00                                 -505.503262   \n",
       "2016-01-15 02:00:00                                 -502.520901   \n",
       "2016-01-15 03:00:00                                 -500.857308   \n",
       "2016-01-15 04:00:00                                 -499.838632   \n",
       "2016-01-15 05:00:00                                 -500.970168   \n",
       "2016-01-15 06:00:00                                 -500.971133   \n",
       "2016-01-15 07:00:00                                 -501.819696   \n",
       "2016-01-15 08:00:00                                 -504.252450   \n",
       "2016-01-15 09:00:00                                 -503.195299   \n",
       "2016-01-15 10:00:00                                 -504.170807   \n",
       "2016-01-15 11:00:00                                 -503.940828   \n",
       "2016-01-15 12:00:00                                 -503.675714   \n",
       "2016-01-15 13:00:00                                 -504.947519   \n",
       "2016-01-15 14:00:00                                 -502.995300   \n",
       "2016-01-15 15:00:00                                 -503.202022   \n",
       "2016-01-15 16:00:00                                 -503.471307   \n",
       "2016-01-15 17:00:00                                 -541.569984   \n",
       "2016-01-15 18:00:00                                 -503.152258   \n",
       "2016-01-15 19:00:00                                 -509.808331   \n",
       "\n",
       "                     secondary_cleaner.state.floatbank4_b_air  \\\n",
       "date                                                            \n",
       "2016-01-15 00:00:00                                 12.099931   \n",
       "2016-01-15 01:00:00                                 11.950531   \n",
       "2016-01-15 02:00:00                                 11.912783   \n",
       "2016-01-15 03:00:00                                 11.999550   \n",
       "2016-01-15 04:00:00                                 11.953070   \n",
       "2016-01-15 05:00:00                                 11.883350   \n",
       "2016-01-15 06:00:00                                 12.091543   \n",
       "2016-01-15 07:00:00                                 12.101324   \n",
       "2016-01-15 08:00:00                                 12.060738   \n",
       "2016-01-15 09:00:00                                 12.052233   \n",
       "2016-01-15 10:00:00                                 11.995903   \n",
       "2016-01-15 11:00:00                                 12.022296   \n",
       "2016-01-15 12:00:00                                 11.928745   \n",
       "2016-01-15 13:00:00                                 12.014060   \n",
       "2016-01-15 14:00:00                                 11.980055   \n",
       "2016-01-15 15:00:00                                 11.994299   \n",
       "2016-01-15 16:00:00                                 11.966426   \n",
       "2016-01-15 17:00:00                                 12.021831   \n",
       "2016-01-15 18:00:00                                 12.016724   \n",
       "2016-01-15 19:00:00                                 12.087669   \n",
       "\n",
       "                     secondary_cleaner.state.floatbank4_b_level  \\\n",
       "date                                                              \n",
       "2016-01-15 00:00:00                                 -504.715942   \n",
       "2016-01-15 01:00:00                                 -501.331529   \n",
       "2016-01-15 02:00:00                                 -501.133383   \n",
       "2016-01-15 03:00:00                                 -501.193686   \n",
       "2016-01-15 04:00:00                                 -501.053894   \n",
       "2016-01-15 05:00:00                                 -500.395298   \n",
       "2016-01-15 06:00:00                                 -500.501426   \n",
       "2016-01-15 07:00:00                                 -500.583446   \n",
       "2016-01-15 08:00:00                                 -501.174549   \n",
       "2016-01-15 09:00:00                                 -500.928547   \n",
       "2016-01-15 10:00:00                                 -501.269181   \n",
       "2016-01-15 11:00:00                                 -501.238477   \n",
       "2016-01-15 12:00:00                                 -500.583183   \n",
       "2016-01-15 13:00:00                                 -500.647565   \n",
       "2016-01-15 14:00:00                                 -500.607751   \n",
       "2016-01-15 15:00:00                                 -500.337803   \n",
       "2016-01-15 16:00:00                                 -500.656842   \n",
       "2016-01-15 17:00:00                                 -545.572166   \n",
       "2016-01-15 18:00:00                                 -501.136446   \n",
       "2016-01-15 19:00:00                                 -510.782166   \n",
       "\n",
       "                     secondary_cleaner.state.floatbank5_a_air  \\\n",
       "date                                                            \n",
       "2016-01-15 00:00:00                                  9.925633   \n",
       "2016-01-15 01:00:00                                 10.039245   \n",
       "2016-01-15 02:00:00                                 10.070913   \n",
       "2016-01-15 03:00:00                                  9.970366   \n",
       "2016-01-15 04:00:00                                  9.925709   \n",
       "2016-01-15 05:00:00                                 10.054147   \n",
       "2016-01-15 06:00:00                                 10.003247   \n",
       "2016-01-15 07:00:00                                  9.873169   \n",
       "2016-01-15 08:00:00                                 10.033838   \n",
       "2016-01-15 09:00:00                                  9.962574   \n",
       "2016-01-15 10:00:00                                 10.043100   \n",
       "2016-01-15 11:00:00                                 10.020094   \n",
       "2016-01-15 12:00:00                                  9.970359   \n",
       "2016-01-15 13:00:00                                 10.000087   \n",
       "2016-01-15 14:00:00                                  9.964501   \n",
       "2016-01-15 15:00:00                                 10.037149   \n",
       "2016-01-15 16:00:00                                 10.051620   \n",
       "2016-01-15 17:00:00                                 10.021058   \n",
       "2016-01-15 18:00:00                                 10.041864   \n",
       "2016-01-15 19:00:00                                 10.032043   \n",
       "\n",
       "                     secondary_cleaner.state.floatbank5_a_level  \\\n",
       "date                                                              \n",
       "2016-01-15 00:00:00                                 -498.310211   \n",
       "2016-01-15 01:00:00                                 -500.169983   \n",
       "2016-01-15 02:00:00                                 -500.129135   \n",
       "2016-01-15 03:00:00                                 -499.201640   \n",
       "2016-01-15 04:00:00                                 -501.686727   \n",
       "2016-01-15 05:00:00                                 -496.374715   \n",
       "2016-01-15 06:00:00                                 -497.083180   \n",
       "2016-01-15 07:00:00                                 -499.171928   \n",
       "2016-01-15 08:00:00                                 -501.178133   \n",
       "2016-01-15 09:00:00                                 -502.986357   \n",
       "2016-01-15 10:00:00                                 -498.529996   \n",
       "2016-01-15 11:00:00                                 -500.061845   \n",
       "2016-01-15 12:00:00                                 -498.822343   \n",
       "2016-01-15 13:00:00                                 -499.306972   \n",
       "2016-01-15 14:00:00                                 -499.261719   \n",
       "2016-01-15 15:00:00                                 -499.395047   \n",
       "2016-01-15 16:00:00                                 -498.318772   \n",
       "2016-01-15 17:00:00                                 -501.386982   \n",
       "2016-01-15 18:00:00                                 -499.338844   \n",
       "2016-01-15 19:00:00                                 -499.128183   \n",
       "\n",
       "                     secondary_cleaner.state.floatbank5_b_air  \\\n",
       "date                                                            \n",
       "2016-01-15 00:00:00                                  8.079666   \n",
       "2016-01-15 01:00:00                                  7.984757   \n",
       "2016-01-15 02:00:00                                  8.013877   \n",
       "2016-01-15 03:00:00                                  7.977324   \n",
       "2016-01-15 04:00:00                                  7.894242   \n",
       "2016-01-15 05:00:00                                  7.965083   \n",
       "2016-01-15 06:00:00                                  8.010890   \n",
       "2016-01-15 07:00:00                                  7.993381   \n",
       "2016-01-15 08:00:00                                  7.881604   \n",
       "2016-01-15 09:00:00                                  7.979219   \n",
       "2016-01-15 10:00:00                                  8.002633   \n",
       "2016-01-15 11:00:00                                  7.964024   \n",
       "2016-01-15 12:00:00                                  8.016377   \n",
       "2016-01-15 13:00:00                                  8.002007   \n",
       "2016-01-15 14:00:00                                  8.065048   \n",
       "2016-01-15 15:00:00                                  8.056439   \n",
       "2016-01-15 16:00:00                                  8.018091   \n",
       "2016-01-15 17:00:00                                  7.947110   \n",
       "2016-01-15 18:00:00                                  8.007022   \n",
       "2016-01-15 19:00:00                                  8.016140   \n",
       "\n",
       "                     secondary_cleaner.state.floatbank5_b_level  \\\n",
       "date                                                              \n",
       "2016-01-15 00:00:00                                 -500.470978   \n",
       "2016-01-15 01:00:00                                 -500.582168   \n",
       "2016-01-15 02:00:00                                 -500.517572   \n",
       "2016-01-15 03:00:00                                 -500.255908   \n",
       "2016-01-15 04:00:00                                 -500.356035   \n",
       "2016-01-15 05:00:00                                 -499.364752   \n",
       "2016-01-15 06:00:00                                 -500.002423   \n",
       "2016-01-15 07:00:00                                 -499.794518   \n",
       "2016-01-15 08:00:00                                 -499.729434   \n",
       "2016-01-15 09:00:00                                 -500.146835   \n",
       "2016-01-15 10:00:00                                 -499.761922   \n",
       "2016-01-15 11:00:00                                 -499.283982   \n",
       "2016-01-15 12:00:00                                 -499.013145   \n",
       "2016-01-15 13:00:00                                 -499.970754   \n",
       "2016-01-15 14:00:00                                 -499.492395   \n",
       "2016-01-15 15:00:00                                 -499.479716   \n",
       "2016-01-15 16:00:00                                 -499.696138   \n",
       "2016-01-15 17:00:00                                 -500.062750   \n",
       "2016-01-15 18:00:00                                 -500.279583   \n",
       "2016-01-15 19:00:00                                 -499.806844   \n",
       "\n",
       "                     secondary_cleaner.state.floatbank6_a_air  \\\n",
       "date                                                            \n",
       "2016-01-15 00:00:00                                 14.151341   \n",
       "2016-01-15 01:00:00                                 13.998353   \n",
       "2016-01-15 02:00:00                                 14.028663   \n",
       "2016-01-15 03:00:00                                 14.005551   \n",
       "2016-01-15 04:00:00                                 13.996647   \n",
       "2016-01-15 05:00:00                                 14.017067   \n",
       "2016-01-15 06:00:00                                 14.029649   \n",
       "2016-01-15 07:00:00                                 13.984498   \n",
       "2016-01-15 08:00:00                                 13.967135   \n",
       "2016-01-15 09:00:00                                 13.981614   \n",
       "2016-01-15 10:00:00                                 14.004767   \n",
       "2016-01-15 11:00:00                                 14.003011   \n",
       "2016-01-15 12:00:00                                 14.000032   \n",
       "2016-01-15 13:00:00                                 14.019977   \n",
       "2016-01-15 14:00:00                                 13.997801   \n",
       "2016-01-15 15:00:00                                 13.977626   \n",
       "2016-01-15 16:00:00                                 13.958937   \n",
       "2016-01-15 17:00:00                                 14.014991   \n",
       "2016-01-15 18:00:00                                 14.001271   \n",
       "2016-01-15 19:00:00                                 13.949790   \n",
       "\n",
       "                     secondary_cleaner.state.floatbank6_a_level  \n",
       "date                                                             \n",
       "2016-01-15 00:00:00                                 -605.841980  \n",
       "2016-01-15 01:00:00                                 -599.787184  \n",
       "2016-01-15 02:00:00                                 -601.427363  \n",
       "2016-01-15 03:00:00                                 -599.996129  \n",
       "2016-01-15 04:00:00                                 -601.496691  \n",
       "2016-01-15 05:00:00                                 -599.707915  \n",
       "2016-01-15 06:00:00                                 -600.905470  \n",
       "2016-01-15 07:00:00                                 -600.411070  \n",
       "2016-01-15 08:00:00                                 -599.061188  \n",
       "2016-01-15 09:00:00                                 -598.070855  \n",
       "2016-01-15 10:00:00                                 -599.595324  \n",
       "2016-01-15 11:00:00                                 -599.879856  \n",
       "2016-01-15 12:00:00                                 -600.024741  \n",
       "2016-01-15 13:00:00                                 -599.986714  \n",
       "2016-01-15 14:00:00                                 -600.621416  \n",
       "2016-01-15 15:00:00                                 -600.075029  \n",
       "2016-01-15 16:00:00                                 -599.213013  \n",
       "2016-01-15 17:00:00                                 -600.670573  \n",
       "2016-01-15 18:00:00                                 -602.072365  \n",
       "2016-01-15 19:00:00                                 -600.140776  \n",
       "\n",
       "[20 rows x 86 columns]"
      ]
     },
     "execution_count": 80,
     "metadata": {},
     "output_type": "execute_result"
    }
   ],
   "source": [
    "data_full.info()\n",
    "data_full.head(20)"
   ]
  },
  {
   "cell_type": "markdown",
   "metadata": {},
   "source": [
    "Объём данных большой, не столько по длительности наблюдения, сколько по количеству признаков. Присутствуют пропуски. В тренировочных данных на 34 колонки меньше чем в тренировочной. Чтобы не запутаться, составим план дальнейшей работы:\n",
    "\n",
    "1\n",
    "\n",
    "- проверяем формулу вычисления эффективности обогащения\n",
    "- анализируем признаки, недоступные в тестовой выборке\n",
    "- проверяем данные на дубликаты, заполняем пропуски\n",
    "\n",
    "2\n",
    "\n",
    "- Исследуем изменение концентрации элементов на каждом этапе\n",
    "- Ализируем распределения размеров гранул на обучающей и тестовой выборках\n",
    "- Исследуем суммарные концентрации элементов на каждом этапе\n",
    "\n",
    "3\n",
    "\n",
    "- Пишем функцию (функции) для определения итогового sMAPE\n",
    "- обучаем модели, выбираем лучшую\n",
    "- проверяем лучшую модель на тестовой выборке"
   ]
  },
  {
   "cell_type": "markdown",
   "metadata": {},
   "source": [
    "### Проверяем формулу вычисления эффективности обогащения"
   ]
  },
  {
   "cell_type": "markdown",
   "metadata": {},
   "source": [
    "Определяем функцию вычисления эффективности обогащения, в которой:\n",
    "\n",
    "C - доля золота в концентрате после флотации/очистки,\n",
    "F - доля золота в сырье/концентрате до флотации/очистки,\n",
    "T - доля золота в отвальных хвостах после флотации/очистки"
   ]
  },
  {
   "cell_type": "code",
   "execution_count": 81,
   "metadata": {},
   "outputs": [],
   "source": [
    "def recovery(C, F, T):\n",
    "    numerator = C * (F - T)\n",
    "    denominator = F * (C - T)\n",
    "    return numerator / denominator * 100"
   ]
  },
  {
   "cell_type": "markdown",
   "metadata": {},
   "source": [
    "Подставляем в формулу значения из таблицы и сохраняем результаты в столбце 'rougher.output.recovery_calculated'"
   ]
  },
  {
   "cell_type": "code",
   "execution_count": 82,
   "metadata": {},
   "outputs": [],
   "source": [
    "data_train['rougher.output.recovery_calculated'] = (\n",
    "    recovery(\n",
    "        data_train['rougher.output.concentrate_au'],\n",
    "        data_train['rougher.input.feed_au'],\n",
    "        data_train['rougher.output.tail_au']\n",
    "            )\n",
    "                                                    )"
   ]
  },
  {
   "cell_type": "markdown",
   "metadata": {},
   "source": [
    "Теперь чтобы вычислить среднее абсолютное отклонение вычитаем из столбца с нашими подсчётами recovry столбец с recovery из датафрейма, находим сумму всех абсолютных разниц и делим на их количество"
   ]
  },
  {
   "cell_type": "code",
   "execution_count": 83,
   "metadata": {},
   "outputs": [],
   "source": [
    "mae = (data_train['rougher.output.recovery_calculated'] -\n",
    "       data_train['rougher.output.recovery']).abs().sum() / len(data_train)"
   ]
  },
  {
   "cell_type": "code",
   "execution_count": 84,
   "metadata": {
    "scrolled": true
   },
   "outputs": [
    {
     "data": {
      "text/plain": [
       "9.73512347450521e-15"
      ]
     },
     "execution_count": 84,
     "metadata": {},
     "output_type": "execute_result"
    }
   ],
   "source": [
    "mae"
   ]
  },
  {
   "cell_type": "markdown",
   "metadata": {},
   "source": [
    "Значение получилось настолько маленьким, что python записал его через e-15, оно примерно равно 0.01, значит, раз значения практически неотличимы, мы всё сделали правильно"
   ]
  },
  {
   "cell_type": "markdown",
   "metadata": {},
   "source": [
    "### Анализ признаков, недоступных в тестовой выборке"
   ]
  },
  {
   "cell_type": "markdown",
   "metadata": {},
   "source": [
    "Сделаем список через условие - объекта х из списка колонок data_train нет в списке колонок data_test"
   ]
  },
  {
   "cell_type": "code",
   "execution_count": 85,
   "metadata": {},
   "outputs": [
    {
     "data": {
      "text/plain": [
       "Index(['final.output.concentrate_ag', 'final.output.concentrate_au',\n",
       "       'final.output.concentrate_pb', 'final.output.concentrate_sol',\n",
       "       'final.output.recovery', 'final.output.tail_ag', 'final.output.tail_au',\n",
       "       'final.output.tail_pb', 'final.output.tail_sol',\n",
       "       'primary_cleaner.output.concentrate_ag',\n",
       "       'primary_cleaner.output.concentrate_au',\n",
       "       'primary_cleaner.output.concentrate_pb',\n",
       "       'primary_cleaner.output.concentrate_sol',\n",
       "       'primary_cleaner.output.tail_ag', 'primary_cleaner.output.tail_au',\n",
       "       'primary_cleaner.output.tail_pb', 'primary_cleaner.output.tail_sol',\n",
       "       'rougher.calculation.au_pb_ratio',\n",
       "       'rougher.calculation.floatbank10_sulfate_to_au_feed',\n",
       "       'rougher.calculation.floatbank11_sulfate_to_au_feed',\n",
       "       'rougher.calculation.sulfate_to_au_concentrate',\n",
       "       'rougher.output.concentrate_ag', 'rougher.output.concentrate_au',\n",
       "       'rougher.output.concentrate_pb', 'rougher.output.concentrate_sol',\n",
       "       'rougher.output.recovery', 'rougher.output.recovery_calculated',\n",
       "       'rougher.output.tail_ag', 'rougher.output.tail_au',\n",
       "       'rougher.output.tail_pb', 'rougher.output.tail_sol',\n",
       "       'secondary_cleaner.output.tail_ag', 'secondary_cleaner.output.tail_au',\n",
       "       'secondary_cleaner.output.tail_pb',\n",
       "       'secondary_cleaner.output.tail_sol'],\n",
       "      dtype='object')"
      ]
     },
     "execution_count": 85,
     "metadata": {},
     "output_type": "execute_result"
    }
   ],
   "source": [
    "data_train.columns.difference(data_test.columns)"
   ]
  },
  {
   "cell_type": "markdown",
   "metadata": {},
   "source": [
    "В этом списке только параметры типов .output и .calculation - они выражают выходные данные и рассчётные характеристики. Вероятно их нет в тестовой выборке для того чтобюы не допустить утечки целевого признака, т.к. два столбца - это сами целевые признаки, а остальные прямо или косвенно на них указывают или например принимают участие в их рассчёте - если бы мы всегда их знали, нам не нужно было бы строить модель, которая предсказывала бы результат, иногда допуская ошибки, а можно было бы просто посчитать"
   ]
  },
  {
   "cell_type": "markdown",
   "metadata": {},
   "source": [
    "### Поиск дубликатов и заполнение пропусков"
   ]
  },
  {
   "cell_type": "markdown",
   "metadata": {},
   "source": [
    "#### Поиск дубликатов"
   ]
  },
  {
   "cell_type": "markdown",
   "metadata": {},
   "source": [
    "Посмотрим, есть ли в общем датафрейме, откуда мы брали тренировочную и тестовую выборки явные дубликаты. На неявные дубликаты его можно не проверять, т.к. у нас только числовые данные"
   ]
  },
  {
   "cell_type": "code",
   "execution_count": 86,
   "metadata": {},
   "outputs": [
    {
     "data": {
      "text/plain": [
       "0"
      ]
     },
     "execution_count": 86,
     "metadata": {},
     "output_type": "execute_result"
    }
   ],
   "source": [
    "data_train.duplicated().sum()"
   ]
  },
  {
   "cell_type": "markdown",
   "metadata": {},
   "source": [
    "Дубликатов нет."
   ]
  },
  {
   "cell_type": "markdown",
   "metadata": {},
   "source": [
    "#### Заполнение пропусков"
   ]
  },
  {
   "cell_type": "markdown",
   "metadata": {},
   "source": [
    "Посмотрим на количество пропусков в данных"
   ]
  },
  {
   "cell_type": "code",
   "execution_count": 87,
   "metadata": {},
   "outputs": [
    {
     "name": "stdout",
     "output_type": "stream",
     "text": [
      "Количество пропусков в тренировочных данных -  4100\n",
      "Количество пропусков в тестовых данных -  90\n",
      "Количество пропусков в полных данных 4481\n"
     ]
    }
   ],
   "source": [
    "print('Количество пропусков в тренировочных данных - ', data_train.isna().sum().sum())\n",
    "print('Количество пропусков в тестовых данных - ', data_test.isna().sum().sum())\n",
    "print('Количество пропусков в полных данных', data_full.isna().sum().sum())"
   ]
  },
  {
   "cell_type": "markdown",
   "metadata": {
    "scrolled": false
   },
   "source": [
    "Заполним пропуски в полных данных методом ffill и посмотрим, от какого объёма пропусков удалось избавиться"
   ]
  },
  {
   "cell_type": "code",
   "execution_count": 88,
   "metadata": {},
   "outputs": [],
   "source": [
    "data_full = data_full.ffill()\n",
    "data_test = data_test.ffill()\n",
    "data_train = data_train.ffill()"
   ]
  },
  {
   "cell_type": "code",
   "execution_count": 89,
   "metadata": {},
   "outputs": [
    {
     "name": "stdout",
     "output_type": "stream",
     "text": [
      "Количество пропусков в тренировочных данных -  0\n",
      "Количество пропусков в тестовых данных -  0\n",
      "Количество пропусков в полных данных 0\n"
     ]
    }
   ],
   "source": [
    "print('Количество пропусков в тренировочных данных - ', data_train.isna().sum().sum())\n",
    "print('Количество пропусков в тестовых данных - ', data_test.isna().sum().sum())\n",
    "print('Количество пропусков в полных данных', data_full.isna().sum().sum())"
   ]
  },
  {
   "cell_type": "markdown",
   "metadata": {},
   "source": [
    "Пропуски заполнены, можем приступать к анализу данных"
   ]
  },
  {
   "cell_type": "markdown",
   "metadata": {},
   "source": [
    "## Анализ данных"
   ]
  },
  {
   "cell_type": "markdown",
   "metadata": {},
   "source": [
    "###  Исследуем изменение концентрации элементов на каждом этапе"
   ]
  },
  {
   "cell_type": "markdown",
   "metadata": {},
   "source": [
    "#### Aurum"
   ]
  },
  {
   "cell_type": "code",
   "execution_count": 90,
   "metadata": {
    "scrolled": false
   },
   "outputs": [
    {
     "data": {
      "text/html": [
       "<div>\n",
       "<style scoped>\n",
       "    .dataframe tbody tr th:only-of-type {\n",
       "        vertical-align: middle;\n",
       "    }\n",
       "\n",
       "    .dataframe tbody tr th {\n",
       "        vertical-align: top;\n",
       "    }\n",
       "\n",
       "    .dataframe thead th {\n",
       "        text-align: right;\n",
       "    }\n",
       "</style>\n",
       "<table border=\"1\" class=\"dataframe\">\n",
       "  <thead>\n",
       "    <tr style=\"text-align: right;\">\n",
       "      <th></th>\n",
       "      <th>rougher.input.feed_au</th>\n",
       "      <th>rougher.output.concentrate_au</th>\n",
       "      <th>primary_cleaner.output.concentrate_au</th>\n",
       "      <th>final.output.concentrate_au</th>\n",
       "    </tr>\n",
       "    <tr>\n",
       "      <th>date</th>\n",
       "      <th></th>\n",
       "      <th></th>\n",
       "      <th></th>\n",
       "      <th></th>\n",
       "    </tr>\n",
       "  </thead>\n",
       "  <tbody>\n",
       "    <tr>\n",
       "      <th>2016-01-15 00:00:00</th>\n",
       "      <td>6.486150</td>\n",
       "      <td>19.793808</td>\n",
       "      <td>34.174427</td>\n",
       "      <td>42.192020</td>\n",
       "    </tr>\n",
       "    <tr>\n",
       "      <th>2016-01-15 01:00:00</th>\n",
       "      <td>6.478583</td>\n",
       "      <td>20.050975</td>\n",
       "      <td>34.118526</td>\n",
       "      <td>42.701629</td>\n",
       "    </tr>\n",
       "    <tr>\n",
       "      <th>2016-01-15 02:00:00</th>\n",
       "      <td>6.362222</td>\n",
       "      <td>19.737170</td>\n",
       "      <td>33.969464</td>\n",
       "      <td>42.657501</td>\n",
       "    </tr>\n",
       "    <tr>\n",
       "      <th>2016-01-15 03:00:00</th>\n",
       "      <td>6.118189</td>\n",
       "      <td>19.320810</td>\n",
       "      <td>28.260743</td>\n",
       "      <td>42.689819</td>\n",
       "    </tr>\n",
       "    <tr>\n",
       "      <th>2016-01-15 04:00:00</th>\n",
       "      <td>5.663707</td>\n",
       "      <td>19.216101</td>\n",
       "      <td>33.044932</td>\n",
       "      <td>42.774141</td>\n",
       "    </tr>\n",
       "    <tr>\n",
       "      <th>...</th>\n",
       "      <td>...</td>\n",
       "      <td>...</td>\n",
       "      <td>...</td>\n",
       "      <td>...</td>\n",
       "    </tr>\n",
       "    <tr>\n",
       "      <th>2018-08-18 06:59:59</th>\n",
       "      <td>5.335862</td>\n",
       "      <td>18.603550</td>\n",
       "      <td>32.940215</td>\n",
       "      <td>46.713954</td>\n",
       "    </tr>\n",
       "    <tr>\n",
       "      <th>2018-08-18 07:59:59</th>\n",
       "      <td>4.838619</td>\n",
       "      <td>18.441436</td>\n",
       "      <td>32.925325</td>\n",
       "      <td>46.866780</td>\n",
       "    </tr>\n",
       "    <tr>\n",
       "      <th>2018-08-18 08:59:59</th>\n",
       "      <td>4.525061</td>\n",
       "      <td>15.111231</td>\n",
       "      <td>31.856742</td>\n",
       "      <td>46.795691</td>\n",
       "    </tr>\n",
       "    <tr>\n",
       "      <th>2018-08-18 09:59:59</th>\n",
       "      <td>4.362781</td>\n",
       "      <td>17.834772</td>\n",
       "      <td>30.770892</td>\n",
       "      <td>46.408188</td>\n",
       "    </tr>\n",
       "    <tr>\n",
       "      <th>2018-08-18 10:59:59</th>\n",
       "      <td>4.365491</td>\n",
       "      <td>17.804134</td>\n",
       "      <td>30.356618</td>\n",
       "      <td>46.299438</td>\n",
       "    </tr>\n",
       "  </tbody>\n",
       "</table>\n",
       "<p>19439 rows × 4 columns</p>\n",
       "</div>"
      ],
      "text/plain": [
       "                     rougher.input.feed_au  rougher.output.concentrate_au  \\\n",
       "date                                                                        \n",
       "2016-01-15 00:00:00               6.486150                      19.793808   \n",
       "2016-01-15 01:00:00               6.478583                      20.050975   \n",
       "2016-01-15 02:00:00               6.362222                      19.737170   \n",
       "2016-01-15 03:00:00               6.118189                      19.320810   \n",
       "2016-01-15 04:00:00               5.663707                      19.216101   \n",
       "...                                    ...                            ...   \n",
       "2018-08-18 06:59:59               5.335862                      18.603550   \n",
       "2018-08-18 07:59:59               4.838619                      18.441436   \n",
       "2018-08-18 08:59:59               4.525061                      15.111231   \n",
       "2018-08-18 09:59:59               4.362781                      17.834772   \n",
       "2018-08-18 10:59:59               4.365491                      17.804134   \n",
       "\n",
       "                     primary_cleaner.output.concentrate_au  \\\n",
       "date                                                         \n",
       "2016-01-15 00:00:00                              34.174427   \n",
       "2016-01-15 01:00:00                              34.118526   \n",
       "2016-01-15 02:00:00                              33.969464   \n",
       "2016-01-15 03:00:00                              28.260743   \n",
       "2016-01-15 04:00:00                              33.044932   \n",
       "...                                                    ...   \n",
       "2018-08-18 06:59:59                              32.940215   \n",
       "2018-08-18 07:59:59                              32.925325   \n",
       "2018-08-18 08:59:59                              31.856742   \n",
       "2018-08-18 09:59:59                              30.770892   \n",
       "2018-08-18 10:59:59                              30.356618   \n",
       "\n",
       "                     final.output.concentrate_au  \n",
       "date                                              \n",
       "2016-01-15 00:00:00                    42.192020  \n",
       "2016-01-15 01:00:00                    42.701629  \n",
       "2016-01-15 02:00:00                    42.657501  \n",
       "2016-01-15 03:00:00                    42.689819  \n",
       "2016-01-15 04:00:00                    42.774141  \n",
       "...                                          ...  \n",
       "2018-08-18 06:59:59                    46.713954  \n",
       "2018-08-18 07:59:59                    46.866780  \n",
       "2018-08-18 08:59:59                    46.795691  \n",
       "2018-08-18 09:59:59                    46.408188  \n",
       "2018-08-18 10:59:59                    46.299438  \n",
       "\n",
       "[19439 rows x 4 columns]"
      ]
     },
     "execution_count": 90,
     "metadata": {},
     "output_type": "execute_result"
    },
    {
     "data": {
      "image/png": "[encoded data removed]",
      "text/plain": [
       "<Figure size 864x576 with 1 Axes>"
      ]
     },
     "metadata": {
      "needs_background": "light"
     },
     "output_type": "display_data"
    }
   ],
   "source": [
    "concentrate_au = data_full[['rougher.input.feed_au',\n",
    "                            'rougher.output.concentrate_au',\n",
    "                            'primary_cleaner.output.concentrate_au',\n",
    "                            'final.output.concentrate_au']]\n",
    "\n",
    "plt.figure(figsize=(12, 8))\n",
    "ax = concentrate_au.mean(axis=0).plot(kind='bar', color='gold');\n",
    "ax.set_title('Изменение концентрации золота на разных этапах')\n",
    "ax.set_xlabel('Этап')\n",
    "ax.set_ylabel('Концентрация')\n",
    "plt.xticks(np.arange(4), ['До обогащения', 'После обогащения', 'После первого этапа очистки', 'После второго этапа очистки'])\n",
    "plt.grid(color='black', alpha=0.1)\n",
    "\n",
    "rects = ax.patches\n",
    "labels = concentrate_au.mean(axis=0)\n",
    "\n",
    "for rect, label in zip(rects, labels):\n",
    "    height = rect.get_height()\n",
    "    ax.text(\n",
    "        rect.get_x() + rect.get_width() / 2, height , label, ha=\"center\", va=\"bottom\"\n",
    "    )\n",
    "\n",
    "concentrate_au"
   ]
  },
  {
   "cell_type": "markdown",
   "metadata": {},
   "source": [
    "Результат после второго этапа очистки в среднем в пять с половиной раз больше изначальной концентрации, сама концентрация заметно растёт на каждом этапе. Учитывая, что это процесс восстановления золота из золотосодержащей руды, скорее всего, так и должно быть"
   ]
  },
  {
   "cell_type": "markdown",
   "metadata": {},
   "source": [
    "#### Argentum"
   ]
  },
  {
   "cell_type": "code",
   "execution_count": 91,
   "metadata": {
    "scrolled": false
   },
   "outputs": [
    {
     "data": {
      "text/html": [
       "<div>\n",
       "<style scoped>\n",
       "    .dataframe tbody tr th:only-of-type {\n",
       "        vertical-align: middle;\n",
       "    }\n",
       "\n",
       "    .dataframe tbody tr th {\n",
       "        vertical-align: top;\n",
       "    }\n",
       "\n",
       "    .dataframe thead th {\n",
       "        text-align: right;\n",
       "    }\n",
       "</style>\n",
       "<table border=\"1\" class=\"dataframe\">\n",
       "  <thead>\n",
       "    <tr style=\"text-align: right;\">\n",
       "      <th></th>\n",
       "      <th>rougher.input.feed_ag</th>\n",
       "      <th>rougher.output.concentrate_ag</th>\n",
       "      <th>primary_cleaner.output.concentrate_ag</th>\n",
       "      <th>final.output.concentrate_ag</th>\n",
       "    </tr>\n",
       "    <tr>\n",
       "      <th>date</th>\n",
       "      <th></th>\n",
       "      <th></th>\n",
       "      <th></th>\n",
       "      <th></th>\n",
       "    </tr>\n",
       "  </thead>\n",
       "  <tbody>\n",
       "    <tr>\n",
       "      <th>2016-01-15 00:00:00</th>\n",
       "      <td>6.100378</td>\n",
       "      <td>11.500771</td>\n",
       "      <td>8.547551</td>\n",
       "      <td>6.055403</td>\n",
       "    </tr>\n",
       "    <tr>\n",
       "      <th>2016-01-15 01:00:00</th>\n",
       "      <td>6.161113</td>\n",
       "      <td>11.615865</td>\n",
       "      <td>8.558743</td>\n",
       "      <td>6.029369</td>\n",
       "    </tr>\n",
       "    <tr>\n",
       "      <th>2016-01-15 02:00:00</th>\n",
       "      <td>6.116455</td>\n",
       "      <td>11.695753</td>\n",
       "      <td>8.603505</td>\n",
       "      <td>6.055926</td>\n",
       "    </tr>\n",
       "    <tr>\n",
       "      <th>2016-01-15 03:00:00</th>\n",
       "      <td>6.043309</td>\n",
       "      <td>11.915047</td>\n",
       "      <td>7.221879</td>\n",
       "      <td>6.047977</td>\n",
       "    </tr>\n",
       "    <tr>\n",
       "      <th>2016-01-15 04:00:00</th>\n",
       "      <td>6.060915</td>\n",
       "      <td>12.411054</td>\n",
       "      <td>9.089428</td>\n",
       "      <td>6.148599</td>\n",
       "    </tr>\n",
       "    <tr>\n",
       "      <th>...</th>\n",
       "      <td>...</td>\n",
       "      <td>...</td>\n",
       "      <td>...</td>\n",
       "      <td>...</td>\n",
       "    </tr>\n",
       "    <tr>\n",
       "      <th>2018-08-18 06:59:59</th>\n",
       "      <td>6.091855</td>\n",
       "      <td>11.124896</td>\n",
       "      <td>6.559174</td>\n",
       "      <td>3.224920</td>\n",
       "    </tr>\n",
       "    <tr>\n",
       "      <th>2018-08-18 07:59:59</th>\n",
       "      <td>6.121323</td>\n",
       "      <td>11.425983</td>\n",
       "      <td>6.612376</td>\n",
       "      <td>3.195978</td>\n",
       "    </tr>\n",
       "    <tr>\n",
       "      <th>2018-08-18 08:59:59</th>\n",
       "      <td>5.970515</td>\n",
       "      <td>8.523497</td>\n",
       "      <td>7.128896</td>\n",
       "      <td>3.109998</td>\n",
       "    </tr>\n",
       "    <tr>\n",
       "      <th>2018-08-18 09:59:59</th>\n",
       "      <td>6.048130</td>\n",
       "      <td>11.658799</td>\n",
       "      <td>7.490444</td>\n",
       "      <td>3.367241</td>\n",
       "    </tr>\n",
       "    <tr>\n",
       "      <th>2018-08-18 10:59:59</th>\n",
       "      <td>6.158718</td>\n",
       "      <td>11.959486</td>\n",
       "      <td>7.537584</td>\n",
       "      <td>3.598375</td>\n",
       "    </tr>\n",
       "  </tbody>\n",
       "</table>\n",
       "<p>19439 rows × 4 columns</p>\n",
       "</div>"
      ],
      "text/plain": [
       "                     rougher.input.feed_ag  rougher.output.concentrate_ag  \\\n",
       "date                                                                        \n",
       "2016-01-15 00:00:00               6.100378                      11.500771   \n",
       "2016-01-15 01:00:00               6.161113                      11.615865   \n",
       "2016-01-15 02:00:00               6.116455                      11.695753   \n",
       "2016-01-15 03:00:00               6.043309                      11.915047   \n",
       "2016-01-15 04:00:00               6.060915                      12.411054   \n",
       "...                                    ...                            ...   \n",
       "2018-08-18 06:59:59               6.091855                      11.124896   \n",
       "2018-08-18 07:59:59               6.121323                      11.425983   \n",
       "2018-08-18 08:59:59               5.970515                       8.523497   \n",
       "2018-08-18 09:59:59               6.048130                      11.658799   \n",
       "2018-08-18 10:59:59               6.158718                      11.959486   \n",
       "\n",
       "                     primary_cleaner.output.concentrate_ag  \\\n",
       "date                                                         \n",
       "2016-01-15 00:00:00                               8.547551   \n",
       "2016-01-15 01:00:00                               8.558743   \n",
       "2016-01-15 02:00:00                               8.603505   \n",
       "2016-01-15 03:00:00                               7.221879   \n",
       "2016-01-15 04:00:00                               9.089428   \n",
       "...                                                    ...   \n",
       "2018-08-18 06:59:59                               6.559174   \n",
       "2018-08-18 07:59:59                               6.612376   \n",
       "2018-08-18 08:59:59                               7.128896   \n",
       "2018-08-18 09:59:59                               7.490444   \n",
       "2018-08-18 10:59:59                               7.537584   \n",
       "\n",
       "                     final.output.concentrate_ag  \n",
       "date                                              \n",
       "2016-01-15 00:00:00                     6.055403  \n",
       "2016-01-15 01:00:00                     6.029369  \n",
       "2016-01-15 02:00:00                     6.055926  \n",
       "2016-01-15 03:00:00                     6.047977  \n",
       "2016-01-15 04:00:00                     6.148599  \n",
       "...                                          ...  \n",
       "2018-08-18 06:59:59                     3.224920  \n",
       "2018-08-18 07:59:59                     3.195978  \n",
       "2018-08-18 08:59:59                     3.109998  \n",
       "2018-08-18 09:59:59                     3.367241  \n",
       "2018-08-18 10:59:59                     3.598375  \n",
       "\n",
       "[19439 rows x 4 columns]"
      ]
     },
     "execution_count": 91,
     "metadata": {},
     "output_type": "execute_result"
    },
    {
     "data": {
      "image/png": "[encoded data removed]",
      "text/plain": [
       "<Figure size 864x576 with 1 Axes>"
      ]
     },
     "metadata": {
      "needs_background": "light"
     },
     "output_type": "display_data"
    }
   ],
   "source": [
    "concentrate_ag = data_full[['rougher.input.feed_ag',\n",
    "                            'rougher.output.concentrate_ag',\n",
    "                            'primary_cleaner.output.concentrate_ag',\n",
    "                            'final.output.concentrate_ag']]\n",
    "\n",
    "plt.figure(figsize=(12, 8))\n",
    "ax = concentrate_ag.mean(axis=0).plot(kind='bar', color='silver');\n",
    "ax.set_title('Изменение концентрации серебра на разных этапах')\n",
    "ax.set_xlabel('Этап')\n",
    "ax.set_ylabel('Концентрация')\n",
    "plt.xticks(np.arange(4), ['До обогащения', 'После обогащения', 'После первого этапа очистки', 'После второго этапа очистки'])\n",
    "plt.grid(color='black', alpha=0.1)\n",
    "\n",
    "rects = ax.patches\n",
    "labels = concentrate_ag.mean(axis=0)\n",
    "\n",
    "for rect, label in zip(rects, labels):\n",
    "    height = rect.get_height()\n",
    "    ax.text(\n",
    "        rect.get_x() + rect.get_width() / 2, height , label, ha=\"center\", va=\"bottom\"\n",
    "    )\n",
    "\n",
    "concentrate_ag"
   ]
  },
  {
   "cell_type": "markdown",
   "metadata": {},
   "source": [
    "После обогащения серебра становится почти в полтора раза больше, но после очистки его становится даже меньше, чем в сырце. Скорее всего оно отфильтровывается, растворяется или используется в качестве катализатора или участника процесса очистки"
   ]
  },
  {
   "cell_type": "markdown",
   "metadata": {},
   "source": [
    "#### Plumbum"
   ]
  },
  {
   "cell_type": "code",
   "execution_count": 92,
   "metadata": {},
   "outputs": [
    {
     "data": {
      "text/html": [
       "<div>\n",
       "<style scoped>\n",
       "    .dataframe tbody tr th:only-of-type {\n",
       "        vertical-align: middle;\n",
       "    }\n",
       "\n",
       "    .dataframe tbody tr th {\n",
       "        vertical-align: top;\n",
       "    }\n",
       "\n",
       "    .dataframe thead th {\n",
       "        text-align: right;\n",
       "    }\n",
       "</style>\n",
       "<table border=\"1\" class=\"dataframe\">\n",
       "  <thead>\n",
       "    <tr style=\"text-align: right;\">\n",
       "      <th></th>\n",
       "      <th>rougher.input.feed_pb</th>\n",
       "      <th>rougher.output.concentrate_pb</th>\n",
       "      <th>primary_cleaner.output.concentrate_pb</th>\n",
       "      <th>final.output.concentrate_pb</th>\n",
       "    </tr>\n",
       "    <tr>\n",
       "      <th>date</th>\n",
       "      <th></th>\n",
       "      <th></th>\n",
       "      <th></th>\n",
       "      <th></th>\n",
       "    </tr>\n",
       "  </thead>\n",
       "  <tbody>\n",
       "    <tr>\n",
       "      <th>2016-01-15 00:00:00</th>\n",
       "      <td>2.284912</td>\n",
       "      <td>7.101074</td>\n",
       "      <td>10.389648</td>\n",
       "      <td>9.889648</td>\n",
       "    </tr>\n",
       "    <tr>\n",
       "      <th>2016-01-15 01:00:00</th>\n",
       "      <td>2.266033</td>\n",
       "      <td>7.278807</td>\n",
       "      <td>10.497069</td>\n",
       "      <td>9.968944</td>\n",
       "    </tr>\n",
       "    <tr>\n",
       "      <th>2016-01-15 02:00:00</th>\n",
       "      <td>2.159622</td>\n",
       "      <td>7.216833</td>\n",
       "      <td>10.354494</td>\n",
       "      <td>10.213995</td>\n",
       "    </tr>\n",
       "    <tr>\n",
       "      <th>2016-01-15 03:00:00</th>\n",
       "      <td>2.037807</td>\n",
       "      <td>7.175616</td>\n",
       "      <td>8.496563</td>\n",
       "      <td>9.977019</td>\n",
       "    </tr>\n",
       "    <tr>\n",
       "      <th>2016-01-15 04:00:00</th>\n",
       "      <td>1.786875</td>\n",
       "      <td>7.240205</td>\n",
       "      <td>9.986786</td>\n",
       "      <td>10.142511</td>\n",
       "    </tr>\n",
       "    <tr>\n",
       "      <th>...</th>\n",
       "      <td>...</td>\n",
       "      <td>...</td>\n",
       "      <td>...</td>\n",
       "      <td>...</td>\n",
       "    </tr>\n",
       "    <tr>\n",
       "      <th>2018-08-18 06:59:59</th>\n",
       "      <td>4.617558</td>\n",
       "      <td>10.984003</td>\n",
       "      <td>12.445966</td>\n",
       "      <td>11.356233</td>\n",
       "    </tr>\n",
       "    <tr>\n",
       "      <th>2018-08-18 07:59:59</th>\n",
       "      <td>4.144989</td>\n",
       "      <td>10.888213</td>\n",
       "      <td>12.623947</td>\n",
       "      <td>11.349355</td>\n",
       "    </tr>\n",
       "    <tr>\n",
       "      <th>2018-08-18 08:59:59</th>\n",
       "      <td>4.020002</td>\n",
       "      <td>8.955135</td>\n",
       "      <td>12.633558</td>\n",
       "      <td>11.434366</td>\n",
       "    </tr>\n",
       "    <tr>\n",
       "      <th>2018-08-18 09:59:59</th>\n",
       "      <td>3.902537</td>\n",
       "      <td>10.655377</td>\n",
       "      <td>12.012378</td>\n",
       "      <td>11.625587</td>\n",
       "    </tr>\n",
       "    <tr>\n",
       "      <th>2018-08-18 10:59:59</th>\n",
       "      <td>3.875727</td>\n",
       "      <td>10.702148</td>\n",
       "      <td>11.650285</td>\n",
       "      <td>11.737832</td>\n",
       "    </tr>\n",
       "  </tbody>\n",
       "</table>\n",
       "<p>19439 rows × 4 columns</p>\n",
       "</div>"
      ],
      "text/plain": [
       "                     rougher.input.feed_pb  rougher.output.concentrate_pb  \\\n",
       "date                                                                        \n",
       "2016-01-15 00:00:00               2.284912                       7.101074   \n",
       "2016-01-15 01:00:00               2.266033                       7.278807   \n",
       "2016-01-15 02:00:00               2.159622                       7.216833   \n",
       "2016-01-15 03:00:00               2.037807                       7.175616   \n",
       "2016-01-15 04:00:00               1.786875                       7.240205   \n",
       "...                                    ...                            ...   \n",
       "2018-08-18 06:59:59               4.617558                      10.984003   \n",
       "2018-08-18 07:59:59               4.144989                      10.888213   \n",
       "2018-08-18 08:59:59               4.020002                       8.955135   \n",
       "2018-08-18 09:59:59               3.902537                      10.655377   \n",
       "2018-08-18 10:59:59               3.875727                      10.702148   \n",
       "\n",
       "                     primary_cleaner.output.concentrate_pb  \\\n",
       "date                                                         \n",
       "2016-01-15 00:00:00                              10.389648   \n",
       "2016-01-15 01:00:00                              10.497069   \n",
       "2016-01-15 02:00:00                              10.354494   \n",
       "2016-01-15 03:00:00                               8.496563   \n",
       "2016-01-15 04:00:00                               9.986786   \n",
       "...                                                    ...   \n",
       "2018-08-18 06:59:59                              12.445966   \n",
       "2018-08-18 07:59:59                              12.623947   \n",
       "2018-08-18 08:59:59                              12.633558   \n",
       "2018-08-18 09:59:59                              12.012378   \n",
       "2018-08-18 10:59:59                              11.650285   \n",
       "\n",
       "                     final.output.concentrate_pb  \n",
       "date                                              \n",
       "2016-01-15 00:00:00                     9.889648  \n",
       "2016-01-15 01:00:00                     9.968944  \n",
       "2016-01-15 02:00:00                    10.213995  \n",
       "2016-01-15 03:00:00                     9.977019  \n",
       "2016-01-15 04:00:00                    10.142511  \n",
       "...                                          ...  \n",
       "2018-08-18 06:59:59                    11.356233  \n",
       "2018-08-18 07:59:59                    11.349355  \n",
       "2018-08-18 08:59:59                    11.434366  \n",
       "2018-08-18 09:59:59                    11.625587  \n",
       "2018-08-18 10:59:59                    11.737832  \n",
       "\n",
       "[19439 rows x 4 columns]"
      ]
     },
     "execution_count": 92,
     "metadata": {},
     "output_type": "execute_result"
    },
    {
     "data": {
      "image/png": "[encoded data removed]",
      "text/plain": [
       "<Figure size 864x576 with 1 Axes>"
      ]
     },
     "metadata": {
      "needs_background": "light"
     },
     "output_type": "display_data"
    }
   ],
   "source": [
    "concentrate_pb = data_full[['rougher.input.feed_pb',\n",
    "                            'rougher.output.concentrate_pb',\n",
    "                            'primary_cleaner.output.concentrate_pb',\n",
    "                            'final.output.concentrate_pb']]\n",
    "\n",
    "plt.figure(figsize=(12, 8))\n",
    "ax = concentrate_pb.mean(axis=0).plot(kind='bar', color='grey');\n",
    "ax.set_title('Изменение концентрации свинца на разных этапах')\n",
    "ax.set_xlabel('Этап')\n",
    "ax.set_ylabel('Концентрация')\n",
    "plt.xticks(np.arange(4), ['До обогащения', 'После обогащения', 'После первого этапа очистки', 'После второго этапа очистки'])\n",
    "plt.grid(color='black', alpha=0.1)\n",
    "\n",
    "rects = ax.patches\n",
    "labels = concentrate_pb.mean(axis=0)\n",
    "\n",
    "for rect, label in zip(rects, labels):\n",
    "    height = rect.get_height()\n",
    "    ax.text(\n",
    "        rect.get_x() + rect.get_width() / 2, height , label, ha=\"center\", va=\"bottom\"\n",
    "    )\n",
    "\n",
    "concentrate_pb"
   ]
  },
  {
   "cell_type": "markdown",
   "metadata": {},
   "source": [
    "Концентрация свинца растёт после обогощения и первого этапа очистки, второй этап его практически не затрагивает"
   ]
  },
  {
   "cell_type": "markdown",
   "metadata": {},
   "source": [
    "### Анализируем распределения размеров гранул на обучающей и тестовой выборках"
   ]
  },
  {
   "cell_type": "code",
   "execution_count": 93,
   "metadata": {
    "scrolled": false
   },
   "outputs": [
    {
     "data": {
      "image/png": "[encoded data removed]",
      "text/plain": [
       "<Figure size 864x576 with 1 Axes>"
      ]
     },
     "metadata": {
      "needs_background": "light"
     },
     "output_type": "display_data"
    }
   ],
   "source": [
    "plt.figure(figsize=(12,8))\n",
    "plt.xlabel('Распределение размеров гранул на обучающей и тестовой выборках')\n",
    "plt.ylabel('Плотность')\n",
    "\n",
    "sns.kdeplot(data_train['rougher.input.feed_size'], fill=True, label='Обучающая')\n",
    "\n",
    "sns.kdeplot(data_test['rougher.input.feed_size'], fill=True, label='Тестовая')\n",
    "\n",
    "plt.legend(prop={'size': 12}, title = 'Выборка')\n",
    "\n",
    "plt.show()"
   ]
  },
  {
   "cell_type": "markdown",
   "metadata": {},
   "source": [
    "Распределения визуально схожи, графики имеют пик в левой части и смещены вправо. Следовательно, данные действительно были взяты из одного источника, и мы можем оценивать результаты моделей по таким выборкам."
   ]
  },
  {
   "cell_type": "markdown",
   "metadata": {},
   "source": [
    "### Исследуем суммарные концентрации"
   ]
  },
  {
   "cell_type": "code",
   "execution_count": 94,
   "metadata": {},
   "outputs": [
    {
     "data": {
      "text/html": [
       "<div>\n",
       "<style scoped>\n",
       "    .dataframe tbody tr th:only-of-type {\n",
       "        vertical-align: middle;\n",
       "    }\n",
       "\n",
       "    .dataframe tbody tr th {\n",
       "        vertical-align: top;\n",
       "    }\n",
       "\n",
       "    .dataframe thead th {\n",
       "        text-align: right;\n",
       "    }\n",
       "</style>\n",
       "<table border=\"1\" class=\"dataframe\">\n",
       "  <thead>\n",
       "    <tr style=\"text-align: right;\">\n",
       "      <th></th>\n",
       "      <th>before_rougher</th>\n",
       "      <th>after_rougher</th>\n",
       "      <th>after_primary_cleaner</th>\n",
       "      <th>final</th>\n",
       "    </tr>\n",
       "    <tr>\n",
       "      <th>date</th>\n",
       "      <th></th>\n",
       "      <th></th>\n",
       "      <th></th>\n",
       "      <th></th>\n",
       "    </tr>\n",
       "  </thead>\n",
       "  <tbody>\n",
       "    <tr>\n",
       "      <th>2016-01-15 00:00:00</th>\n",
       "      <td>51.680034</td>\n",
       "      <td>66.424950</td>\n",
       "      <td>72.640924</td>\n",
       "      <td>63.644396</td>\n",
       "    </tr>\n",
       "    <tr>\n",
       "      <th>2016-01-15 01:00:00</th>\n",
       "      <td>50.659114</td>\n",
       "      <td>67.012710</td>\n",
       "      <td>72.543485</td>\n",
       "      <td>63.957723</td>\n",
       "    </tr>\n",
       "    <tr>\n",
       "      <th>2016-01-15 02:00:00</th>\n",
       "      <td>50.609929</td>\n",
       "      <td>66.103793</td>\n",
       "      <td>72.095042</td>\n",
       "      <td>64.311180</td>\n",
       "    </tr>\n",
       "    <tr>\n",
       "      <th>2016-01-15 03:00:00</th>\n",
       "      <td>51.061546</td>\n",
       "      <td>65.752751</td>\n",
       "      <td>59.957723</td>\n",
       "      <td>63.573449</td>\n",
       "    </tr>\n",
       "    <tr>\n",
       "      <th>2016-01-15 04:00:00</th>\n",
       "      <td>47.859163</td>\n",
       "      <td>65.908382</td>\n",
       "      <td>71.321010</td>\n",
       "      <td>64.004667</td>\n",
       "    </tr>\n",
       "    <tr>\n",
       "      <th>...</th>\n",
       "      <td>...</td>\n",
       "      <td>...</td>\n",
       "      <td>...</td>\n",
       "      <td>...</td>\n",
       "    </tr>\n",
       "    <tr>\n",
       "      <th>2018-08-18 06:59:59</th>\n",
       "      <td>53.415050</td>\n",
       "      <td>70.781325</td>\n",
       "      <td>59.001692</td>\n",
       "      <td>68.098589</td>\n",
       "    </tr>\n",
       "    <tr>\n",
       "      <th>2018-08-18 07:59:59</th>\n",
       "      <td>53.696482</td>\n",
       "      <td>70.539603</td>\n",
       "      <td>59.703912</td>\n",
       "      <td>68.274362</td>\n",
       "    </tr>\n",
       "    <tr>\n",
       "      <th>2018-08-18 08:59:59</th>\n",
       "      <td>54.589604</td>\n",
       "      <td>55.376330</td>\n",
       "      <td>59.561096</td>\n",
       "      <td>68.226068</td>\n",
       "    </tr>\n",
       "    <tr>\n",
       "      <th>2018-08-18 09:59:59</th>\n",
       "      <td>54.027355</td>\n",
       "      <td>69.201689</td>\n",
       "      <td>57.216686</td>\n",
       "      <td>68.200449</td>\n",
       "    </tr>\n",
       "    <tr>\n",
       "      <th>2018-08-18 10:59:59</th>\n",
       "      <td>53.535054</td>\n",
       "      <td>69.544003</td>\n",
       "      <td>55.748041</td>\n",
       "      <td>68.353154</td>\n",
       "    </tr>\n",
       "  </tbody>\n",
       "</table>\n",
       "<p>19439 rows × 4 columns</p>\n",
       "</div>"
      ],
      "text/plain": [
       "                     before_rougher  after_rougher  after_primary_cleaner  \\\n",
       "date                                                                        \n",
       "2016-01-15 00:00:00       51.680034      66.424950              72.640924   \n",
       "2016-01-15 01:00:00       50.659114      67.012710              72.543485   \n",
       "2016-01-15 02:00:00       50.609929      66.103793              72.095042   \n",
       "2016-01-15 03:00:00       51.061546      65.752751              59.957723   \n",
       "2016-01-15 04:00:00       47.859163      65.908382              71.321010   \n",
       "...                             ...            ...                    ...   \n",
       "2018-08-18 06:59:59       53.415050      70.781325              59.001692   \n",
       "2018-08-18 07:59:59       53.696482      70.539603              59.703912   \n",
       "2018-08-18 08:59:59       54.589604      55.376330              59.561096   \n",
       "2018-08-18 09:59:59       54.027355      69.201689              57.216686   \n",
       "2018-08-18 10:59:59       53.535054      69.544003              55.748041   \n",
       "\n",
       "                         final  \n",
       "date                            \n",
       "2016-01-15 00:00:00  63.644396  \n",
       "2016-01-15 01:00:00  63.957723  \n",
       "2016-01-15 02:00:00  64.311180  \n",
       "2016-01-15 03:00:00  63.573449  \n",
       "2016-01-15 04:00:00  64.004667  \n",
       "...                        ...  \n",
       "2018-08-18 06:59:59  68.098589  \n",
       "2018-08-18 07:59:59  68.274362  \n",
       "2018-08-18 08:59:59  68.226068  \n",
       "2018-08-18 09:59:59  68.200449  \n",
       "2018-08-18 10:59:59  68.353154  \n",
       "\n",
       "[19439 rows x 4 columns]"
      ]
     },
     "execution_count": 94,
     "metadata": {},
     "output_type": "execute_result"
    }
   ],
   "source": [
    "rougher_input = data_full[['rougher.input.feed_au', 'rougher.input.feed_ag',\n",
    "                           'rougher.input.feed_pb', 'rougher.input.feed_sol']].sum(axis=1)\n",
    "rougher_output = data_full[['rougher.output.concentrate_au', 'rougher.output.concentrate_ag',\n",
    "                            'rougher.output.concentrate_pb', 'rougher.output.concentrate_sol']].sum(axis=1)\n",
    "primary_cleaner_output = data_full[['primary_cleaner.output.concentrate_au',\n",
    "                                    'primary_cleaner.output.concentrate_ag',\n",
    "                                    'primary_cleaner.output.concentrate_pb',\n",
    "                                    'primary_cleaner.output.concentrate_sol']].sum(axis=1)\n",
    "final_output = data_full[['final.output.concentrate_au', 'final.output.concentrate_ag',\n",
    "                          'final.output.concentrate_pb', 'final.output.concentrate_sol']].sum(axis=1)\n",
    "\n",
    "concentrate_sum = pd.DataFrame()\n",
    "\n",
    "concentrate_sum['before_rougher'] = rougher_input\n",
    "concentrate_sum['after_rougher'] = rougher_output\n",
    "concentrate_sum['after_primary_cleaner'] = primary_cleaner_output\n",
    "concentrate_sum['final'] = final_output\n",
    "\n",
    "concentrate_sum"
   ]
  },
  {
   "cell_type": "code",
   "execution_count": 95,
   "metadata": {},
   "outputs": [
    {
     "data": {
      "image/png": "[encoded data removed]",
      "text/plain": [
       "<Figure size 864x576 with 1 Axes>"
      ]
     },
     "metadata": {
      "needs_background": "light"
     },
     "output_type": "display_data"
    }
   ],
   "source": [
    "plt.figure(figsize=(12, 8));\n",
    "ax = sns.histplot(concentrate_sum, kde=True);\n",
    "ax.set_title('Суммарная концентрация веществ на разных этапах');\n",
    "ax.set_xlabel('Суммарная концентрация');\n",
    "ax.set_ylabel('Частота значения');"
   ]
  },
  {
   "cell_type": "markdown",
   "metadata": {},
   "source": [
    "Суммарна концентрация веществ не может быть равна 0 ни на каком из этапов, поэтому стоит удалить строки, где хотя бы на одном из этапов суммарная концентрация равна 0."
   ]
  },
  {
   "cell_type": "code",
   "execution_count": 96,
   "metadata": {},
   "outputs": [
    {
     "name": "stdout",
     "output_type": "stream",
     "text": [
      "До удаления выбросов (14149, 87)\n",
      "После удаления выбросов (13725, 87)\n"
     ]
    }
   ],
   "source": [
    "zeros = concentrate_sum.query('before_rougher == 0 or after_rougher == 0 or after_primary_cleaner == 0 or final == 0')\n",
    "\n",
    "print('До удаления выбросов', data_train.shape)\n",
    "data_train = data_train.query('index not in @zeros.index')\n",
    "print('После удаления выбросов', data_train.shape)"
   ]
  },
  {
   "cell_type": "markdown",
   "metadata": {},
   "source": [
    "## Модель"
   ]
  },
  {
   "cell_type": "markdown",
   "metadata": {},
   "source": [
    "### Пишем функцию для вычисления итогового sMAPE"
   ]
  },
  {
   "cell_type": "markdown",
   "metadata": {},
   "source": [
    "Определяем функцию для вычисления sMAPE"
   ]
  },
  {
   "cell_type": "code",
   "execution_count": 97,
   "metadata": {},
   "outputs": [],
   "source": [
    "def sMAPE(target, predicted):\n",
    "    sigma_y = sum(abs(target - predicted) / ((abs(target) + abs(predicted)) / 2))\n",
    "    sMAPE = sigma_y * 100 / len(target)\n",
    "    return sMAPE"
   ]
  },
  {
   "cell_type": "markdown",
   "metadata": {},
   "source": [
    "Теперь мы можем сделать из неё метрику, которая оценит наши модели"
   ]
  },
  {
   "cell_type": "code",
   "execution_count": 98,
   "metadata": {},
   "outputs": [],
   "source": [
    "sMAPE_score = make_scorer(sMAPE)"
   ]
  },
  {
   "cell_type": "markdown",
   "metadata": {},
   "source": [
    "Далее для того чтобы посчитать итоговый sMAPE модели нам нужно взять 1/4 rougher_sMAPE и 3/4 final_sMAPE, т.к. результат нашей функции sMAPE уже в процентах"
   ]
  },
  {
   "cell_type": "code",
   "execution_count": 99,
   "metadata": {},
   "outputs": [],
   "source": [
    "def model_sMAPE(rougher_sMAPE, final_sMAPE):\n",
    "    model_sMAPE = (rougher_sMAPE * 0.25) + (final_sMAPE * 0.75)\n",
    "    return model_sMAPE"
   ]
  },
  {
   "cell_type": "markdown",
   "metadata": {},
   "source": [
    "### Обучаем модели"
   ]
  },
  {
   "cell_type": "markdown",
   "metadata": {},
   "source": [
    "#### Готовим данные"
   ]
  },
  {
   "cell_type": "markdown",
   "metadata": {},
   "source": [
    "Данные уже разбиты на тренировочную и тестовую выборку, так что нам необходимо только выделить целевой признак и разбить их на выборки для вычисления rougher_sMAPE и final_sMAPE"
   ]
  },
  {
   "cell_type": "code",
   "execution_count": 100,
   "metadata": {},
   "outputs": [],
   "source": [
    "data_train = data_train.drop(data_train.columns.difference(data_test.columns), axis=1)"
   ]
  },
  {
   "cell_type": "code",
   "execution_count": 101,
   "metadata": {},
   "outputs": [
    {
     "name": "stdout",
     "output_type": "stream",
     "text": [
      "(13725,) (5290,)\n",
      "(13725,) (5290,)\n"
     ]
    }
   ],
   "source": [
    "target_rougher = data_full['rougher.output.recovery']\n",
    "target_final = data_full['final.output.recovery']\n",
    "\n",
    "y_rougher_train = target_rougher[data_train.index]\n",
    "y_rougher_test = target_rougher[data_test.index]\n",
    "\n",
    "y_final_train = target_final[data_train.index]\n",
    "y_final_test = target_final[data_test.index]\n",
    "\n",
    "print(y_rougher_train.shape, y_rougher_test.shape)\n",
    "print(y_final_train.shape, y_final_test.shape)"
   ]
  },
  {
   "cell_type": "code",
   "execution_count": 102,
   "metadata": {},
   "outputs": [],
   "source": [
    "X_rougher_train = data_train.loc[:,'rougher.input.feed_ag':'rougher.state.floatbank10_f_level']\n",
    "X_rougher_test = data_test.loc[:,'rougher.input.feed_ag':'rougher.state.floatbank10_f_level']"
   ]
  },
  {
   "cell_type": "code",
   "execution_count": 103,
   "metadata": {},
   "outputs": [],
   "source": [
    "scaler_rougher = StandardScaler()\n",
    "scaler_final = StandardScaler()\n",
    "\n",
    "X_final_train = scaler_final.fit_transform(data_train)\n",
    "X_rougher_train = scaler_rougher.fit_transform(X_rougher_train)\n",
    "X_final_test = scaler_final.transform(data_test)\n",
    "X_rougher_test = scaler_rougher.transform(X_rougher_test)"
   ]
  },
  {
   "cell_type": "markdown",
   "metadata": {},
   "source": [
    "#### Приступаем к обучению"
   ]
  },
  {
   "cell_type": "markdown",
   "metadata": {},
   "source": [
    "Для обучения возьмём модели LinearRegression и RandomForestRegressor, а так же при помощи DummyRegressor проверим модели на адекватность"
   ]
  },
  {
   "cell_type": "markdown",
   "metadata": {},
   "source": [
    "- RandomForestRegressor"
   ]
  },
  {
   "cell_type": "code",
   "execution_count": 106,
   "metadata": {
    "scrolled": false
   },
   "outputs": [],
   "source": [
    "best_cv_rfr_rougher_value = 100\n",
    "best_cv_rfr_final_value = 100\n",
    "\n",
    "for est in range(55, 96, 10):\n",
    "    for depth in range(6,11):\n",
    "        rfr = RandomForestRegressor(n_estimators=est, max_depth=depth, random_state=113)\n",
    "        cv_rfr_rougher = cross_validate(rfr, X_rougher_train, y_rougher_train,\n",
    "                                        scoring=sMAPE_score, cv=4, return_estimator=True)\n",
    "        cv_rfr_final = cross_validate(rfr, X_final_train, y_final_train,\n",
    "                                      scoring=sMAPE_score, cv=4, return_estimator=True)\n",
    "        if best_cv_rfr_rougher_value > min(cv_rfr_rougher['test_score']):\n",
    "            best_cv_rfr_rougher_value = min(cv_rfr_rougher['test_score'])\n",
    "            best_cv_rfr_rougher = cv_rfr_rougher\n",
    "        if best_cv_rfr_final_value > min(cv_rfr_final['test_score']):\n",
    "            best_cv_rfr_final_value = min(cv_rfr_final['test_score'])\n",
    "            best_cv_rfr_final = cv_rfr_final"
   ]
  },
  {
   "cell_type": "markdown",
   "metadata": {},
   "source": [
    "<font color='blue'><b>Комментарий ревьюера : </b></font> ✔️\\\n",
    "<font color='green'>Подбор гиперпараметров проведён верно. Использована целевая метрика, направление отбора верное ).</font>"
   ]
  },
  {
   "cell_type": "code",
   "execution_count": 107,
   "metadata": {
    "scrolled": true
   },
   "outputs": [
    {
     "name": "stdout",
     "output_type": "stream",
     "text": [
      "Луший средний показатель модели на кросс-валидации -  7.734288680558413\n",
      "Лучшие показатели отдельных моделей на кросс-валидации rougher - [10.08700932  7.77541449  4.93053227  7.3752625 ]\n",
      "ЛУчшие показатели отдельных моделей на кросс-валидации final - [ 9.35194432  8.66887415  9.8450123  11.05223583]\n"
     ]
    }
   ],
   "source": [
    "print('Луший средний показатель модели на кросс-валидации - ', model_sMAPE(best_cv_rfr_rougher_value, best_cv_rfr_final_value))\n",
    "print('Лучшие показатели отдельных моделей на кросс-валидации rougher -', best_cv_rfr_rougher['test_score'])\n",
    "print('ЛУчшие показатели отдельных моделей на кросс-валидации final -', best_cv_rfr_final['test_score'])"
   ]
  },
  {
   "cell_type": "markdown",
   "metadata": {},
   "source": [
    "Мы получили значение, возможно неплохое , но пока нам не с чем его сравнить. Модель LinearRegression не требует настройки, и хорошо подойдёт на роль спутника RandomForestRegressor (а возможно и обойдёт его). Обучим её на той же выборке"
   ]
  },
  {
   "cell_type": "markdown",
   "metadata": {},
   "source": [
    "- LinearRegression"
   ]
  },
  {
   "cell_type": "code",
   "execution_count": 111,
   "metadata": {
    "scrolled": false
   },
   "outputs": [
    {
     "name": "stdout",
     "output_type": "stream",
     "text": [
      "Среднее значение после кросс-валидации - 9.922824676356608\n",
      "Показатели отдельных моделей на кросс-валидации rougher - [8.66301102 6.52984439 5.12331832 7.93484024]\n",
      "Показатели отдельных моделей на кросс-валидации final - [12.0316328   8.54657226 10.41129109 12.5152308 ]\n"
     ]
    }
   ],
   "source": [
    "lr = LinearRegression()\n",
    "cv_lr_rougher = cross_validate(lr, X_rougher_train, y_rougher_train,\n",
    "                               scoring=sMAPE_score, cv=4, return_estimator=True)\n",
    "cv_lr_final = cross_validate(lr, X_final_train, y_final_train,\n",
    "                             scoring=sMAPE_score, cv=4, return_estimator=True)\n",
    "sMAPE_lr = model_sMAPE(cv_lr_rougher['test_score'].mean(), cv_lr_final['test_score'].mean())\n",
    "print('Среднее значение после кросс-валидации -', sMAPE_lr)\n",
    "print('Показатели отдельных моделей на кросс-валидации rougher -', cv_lr_rougher['test_score'])\n",
    "print('Показатели отдельных моделей на кросс-валидации final -', cv_lr_final['test_score'])"
   ]
  },
  {
   "cell_type": "markdown",
   "metadata": {},
   "source": [
    "Показатели чуть хуже, чем у RandomForestRegressor, и неизвестно, насколько они хороши. Оценим модели на адекватность при помощи DummyRegressor"
   ]
  },
  {
   "cell_type": "markdown",
   "metadata": {},
   "source": [
    "- DummyRegressor"
   ]
  },
  {
   "cell_type": "code",
   "execution_count": 112,
   "metadata": {
    "scrolled": true
   },
   "outputs": [
    {
     "name": "stdout",
     "output_type": "stream",
     "text": [
      "Среднее dummy-значение - 9.984953107949039\n",
      "Показатели отдельных моделей на кросс-валидации rougher - [11.08382719  6.12859882  5.93803808  9.38030616]\n",
      "Показатели отдельных моделей на кросс-валидации final - [10.5693444   8.44253694 11.49925538 11.89835642]\n"
     ]
    }
   ],
   "source": [
    "dr = DummyRegressor()\n",
    "cv_dr_rougher = cross_validate(dr, X_rougher_train, y_rougher_train,\n",
    "                               scoring=sMAPE_score, cv=4, return_estimator=True)\n",
    "cv_dr_final = cross_validate(dr, X_final_train, y_final_train,\n",
    "                             scoring=sMAPE_score, cv=4, return_estimator=True)\n",
    "sMAPE_dr = model_sMAPE(cv_dr_rougher['test_score'].mean(), cv_dr_final['test_score'].mean())\n",
    "print('Среднее dummy-значение -', sMAPE_dr)\n",
    "print('Показатели отдельных моделей на кросс-валидации rougher -', cv_dr_rougher['test_score'])\n",
    "print('Показатели отдельных моделей на кросс-валидации final -', cv_dr_final['test_score'])"
   ]
  },
  {
   "cell_type": "markdown",
   "metadata": {},
   "source": [
    "Обе наши модели на тренировочной выборке проходят тест на адекватность, но линейная регрессия едва переходит необходимый порог, поэтому лучшей моделью признаём RandomForestRegressor. Осталось только проверить, как он справится с тестовой выборкой."
   ]
  },
  {
   "cell_type": "markdown",
   "metadata": {},
   "source": [
    "### Проверка на тестовой выборке"
   ]
  },
  {
   "cell_type": "markdown",
   "metadata": {},
   "source": [
    "Лучший результат показал RandomForestRegressor, посмотрим, какой результат он даст на тестовой выборке"
   ]
  },
  {
   "cell_type": "code",
   "execution_count": 115,
   "metadata": {},
   "outputs": [
    {
     "data": {
      "text/plain": [
       "9.361711163684355"
      ]
     },
     "execution_count": 115,
     "metadata": {},
     "output_type": "execute_result"
    }
   ],
   "source": [
    "model_sMAPE(sMAPE(y_rougher_test, best_cv_rfr_rougher['estimator'][2].predict(X_rougher_test)),\n",
    "            sMAPE(y_final_test, best_cv_rfr_final['estimator'][1].predict(X_final_test)))"
   ]
  },
  {
   "cell_type": "markdown",
   "metadata": {},
   "source": [
    "Модель продемонстрировала результат даже лучше, чем на обучающей выборке"
   ]
  },
  {
   "cell_type": "markdown",
   "metadata": {},
   "source": [
    "## Общий вывод"
   ]
  },
  {
   "cell_type": "markdown",
   "metadata": {},
   "source": [
    "После первичного осмотра данных, мы составили план действий. Посмотрим, всё ли удалось реализовать:\n",
    "\n",
    "1\n",
    "\n",
    "- мы проверили формулу вычисления эффективности обогащения, она оказалась верна\n",
    "- проанализировали признаки, недоступные в тестовой выборке, пришли к выводу, что они исключены, чтобы избежать подглядывания, т.к. они считаются в процессе очистки\n",
    "- проверили данные на дубликаты и заполнили пропуски\n",
    "\n",
    "2\n",
    "\n",
    "- мы исследовали изменение концентрации элементов на каждом этапе\n",
    "- проплизировали распределения размеров гранул на обучающей и тестовой выборках, они не абсолютно идентичны, но визуально схожи\n",
    "- исследовали суммарные концентрации элементов на каждом этапе, избавились от выбросов\n",
    "\n",
    "3\n",
    "\n",
    "- написали функции для определения sMAPE и итогового sMAPE\n",
    "- обучили модели, сравнили их результат с константной моделью и выбрали лучшую - Random Forest Regressor\n",
    "- проверили её на тестовой выборке\n",
    "\n",
    "Проверка на тестовой выборке прошла успешно, следовательно, наш план увенчался успехом, и поставленные цели выполнены."
   ]
  }
 ],
 "metadata": {
  "ExecuteTimeLog": [
   {
    "duration": 52,
    "start_time": "2023-04-25T08:10:37.422Z"
   },
   {
    "duration": 1421,
    "start_time": "2023-04-25T08:10:45.305Z"
   },
   {
    "duration": 2474,
    "start_time": "2023-04-25T08:10:48.486Z"
   },
   {
    "duration": 111,
    "start_time": "2023-04-25T08:14:20.737Z"
   },
   {
    "duration": 13872,
    "start_time": "2023-04-25T08:14:54.115Z"
   },
   {
    "duration": 11,
    "start_time": "2023-04-25T08:15:22.529Z"
   },
   {
    "duration": 9,
    "start_time": "2023-04-25T08:15:37.538Z"
   },
   {
    "duration": 7,
    "start_time": "2023-04-25T08:15:58.622Z"
   },
   {
    "duration": 9,
    "start_time": "2023-04-25T08:16:22.023Z"
   },
   {
    "duration": 1280,
    "start_time": "2023-04-25T08:16:51.672Z"
   },
   {
    "duration": 2283,
    "start_time": "2023-04-25T08:16:54.050Z"
   },
   {
    "duration": 617,
    "start_time": "2023-04-25T08:16:58.782Z"
   },
   {
    "duration": 106,
    "start_time": "2023-04-25T08:17:00.179Z"
   },
   {
    "duration": 686,
    "start_time": "2023-04-25T08:17:26.835Z"
   },
   {
    "duration": 4933,
    "start_time": "2023-04-25T08:23:36.355Z"
   },
   {
    "duration": 1296,
    "start_time": "2023-04-25T08:24:37.420Z"
   },
   {
    "duration": 116,
    "start_time": "2023-04-25T08:25:55.144Z"
   },
   {
    "duration": 2459,
    "start_time": "2023-04-25T08:25:58.603Z"
   },
   {
    "duration": 51967,
    "start_time": "2023-04-25T08:26:01.907Z"
   },
   {
    "duration": 8,
    "start_time": "2023-04-25T08:27:13.405Z"
   },
   {
    "duration": 8,
    "start_time": "2023-04-25T08:27:18.612Z"
   },
   {
    "duration": 431,
    "start_time": "2023-04-25T08:29:28.963Z"
   },
   {
    "duration": 13746,
    "start_time": "2023-04-25T12:36:05.166Z"
   },
   {
    "duration": 2099,
    "start_time": "2023-04-25T12:36:37.128Z"
   },
   {
    "duration": 97,
    "start_time": "2023-04-25T12:36:48.524Z"
   },
   {
    "duration": 2122,
    "start_time": "2023-04-25T12:37:16.002Z"
   },
   {
    "duration": 106,
    "start_time": "2023-04-25T12:37:38.195Z"
   },
   {
    "duration": 20528,
    "start_time": "2023-04-25T12:40:44.661Z"
   },
   {
    "duration": 17,
    "start_time": "2023-04-25T12:42:49.011Z"
   },
   {
    "duration": 9,
    "start_time": "2023-04-25T12:43:14.624Z"
   },
   {
    "duration": 9,
    "start_time": "2023-04-25T12:44:21.757Z"
   },
   {
    "duration": 9,
    "start_time": "2023-04-25T12:44:25.907Z"
   },
   {
    "duration": 11,
    "start_time": "2023-04-25T12:44:30.107Z"
   },
   {
    "duration": 8,
    "start_time": "2023-04-25T12:44:33.149Z"
   },
   {
    "duration": 10,
    "start_time": "2023-04-25T12:44:42.499Z"
   },
   {
    "duration": 10,
    "start_time": "2023-04-25T12:44:46.043Z"
   },
   {
    "duration": 10,
    "start_time": "2023-04-25T12:44:51.639Z"
   },
   {
    "duration": 11,
    "start_time": "2023-04-25T12:45:04.947Z"
   },
   {
    "duration": 9,
    "start_time": "2023-04-25T12:45:08.915Z"
   },
   {
    "duration": 413,
    "start_time": "2023-04-25T12:58:20.248Z"
   },
   {
    "duration": 3,
    "start_time": "2023-04-25T13:29:49.223Z"
   },
   {
    "duration": 195,
    "start_time": "2023-04-25T14:01:53.930Z"
   },
   {
    "duration": 621,
    "start_time": "2023-04-25T14:02:57.540Z"
   },
   {
    "duration": 945,
    "start_time": "2023-04-25T14:21:30.795Z"
   },
   {
    "duration": 687,
    "start_time": "2023-04-25T14:22:35.573Z"
   },
   {
    "duration": 679,
    "start_time": "2023-04-25T14:23:19.124Z"
   },
   {
    "duration": 579,
    "start_time": "2023-04-25T14:23:34.927Z"
   },
   {
    "duration": 18,
    "start_time": "2023-04-25T14:23:50.673Z"
   },
   {
    "duration": 16,
    "start_time": "2023-04-25T14:24:05.188Z"
   },
   {
    "duration": 14,
    "start_time": "2023-04-25T14:24:48.498Z"
   },
   {
    "duration": 3,
    "start_time": "2023-04-25T14:27:51.735Z"
   },
   {
    "duration": 5,
    "start_time": "2023-04-25T14:28:50.968Z"
   },
   {
    "duration": 5,
    "start_time": "2023-04-25T14:28:57.114Z"
   },
   {
    "duration": 1262,
    "start_time": "2023-04-25T14:29:20.669Z"
   },
   {
    "duration": 5,
    "start_time": "2023-04-25T14:29:22.192Z"
   },
   {
    "duration": 5,
    "start_time": "2023-04-25T14:29:23.081Z"
   },
   {
    "duration": 17,
    "start_time": "2023-04-25T14:30:39.333Z"
   },
   {
    "duration": 26,
    "start_time": "2023-04-25T14:30:48.214Z"
   },
   {
    "duration": 5,
    "start_time": "2023-04-25T14:36:01.344Z"
   },
   {
    "duration": 5,
    "start_time": "2023-04-25T14:36:02.331Z"
   },
   {
    "duration": 4,
    "start_time": "2023-04-25T14:36:23.334Z"
   },
   {
    "duration": 5,
    "start_time": "2023-04-25T14:36:39.596Z"
   },
   {
    "duration": 6,
    "start_time": "2023-04-25T14:36:40.603Z"
   },
   {
    "duration": 6,
    "start_time": "2023-04-25T14:36:46.480Z"
   },
   {
    "duration": 6,
    "start_time": "2023-04-25T14:36:48.372Z"
   },
   {
    "duration": 4,
    "start_time": "2023-04-25T14:37:12.266Z"
   },
   {
    "duration": 4,
    "start_time": "2023-04-25T14:37:13.008Z"
   },
   {
    "duration": 5,
    "start_time": "2023-04-25T14:37:13.704Z"
   },
   {
    "duration": 5,
    "start_time": "2023-04-25T14:40:43.622Z"
   },
   {
    "duration": 5,
    "start_time": "2023-04-25T14:40:44.680Z"
   },
   {
    "duration": 4,
    "start_time": "2023-04-25T14:40:47.190Z"
   },
   {
    "duration": 6,
    "start_time": "2023-04-25T14:40:47.696Z"
   },
   {
    "duration": 6,
    "start_time": "2023-04-25T14:44:28.897Z"
   },
   {
    "duration": 3,
    "start_time": "2023-04-25T14:46:08.004Z"
   },
   {
    "duration": 4,
    "start_time": "2023-04-25T14:46:15.294Z"
   },
   {
    "duration": 5,
    "start_time": "2023-04-25T14:46:55.721Z"
   },
   {
    "duration": 3,
    "start_time": "2023-04-25T14:47:15.649Z"
   },
   {
    "duration": 5,
    "start_time": "2023-04-25T14:47:17.921Z"
   },
   {
    "duration": 5,
    "start_time": "2023-04-25T14:47:19.111Z"
   },
   {
    "duration": 4,
    "start_time": "2023-04-25T14:47:19.623Z"
   },
   {
    "duration": 24,
    "start_time": "2023-04-25T14:49:19.780Z"
   },
   {
    "duration": 11,
    "start_time": "2023-04-25T14:49:38.496Z"
   },
   {
    "duration": 4,
    "start_time": "2023-04-25T14:49:48.017Z"
   },
   {
    "duration": 4,
    "start_time": "2023-04-25T14:49:54.637Z"
   },
   {
    "duration": 11,
    "start_time": "2023-04-25T14:50:08.796Z"
   },
   {
    "duration": 4,
    "start_time": "2023-04-25T14:50:25.394Z"
   },
   {
    "duration": 4,
    "start_time": "2023-04-25T14:50:37.025Z"
   },
   {
    "duration": 4,
    "start_time": "2023-04-25T14:50:52.782Z"
   },
   {
    "duration": 74,
    "start_time": "2023-04-25T14:51:04.337Z"
   },
   {
    "duration": 10,
    "start_time": "2023-04-25T14:51:12.586Z"
   },
   {
    "duration": 4,
    "start_time": "2023-04-25T14:52:08.882Z"
   },
   {
    "duration": 11,
    "start_time": "2023-04-25T14:52:26.178Z"
   },
   {
    "duration": 3,
    "start_time": "2023-04-25T14:52:33.935Z"
   },
   {
    "duration": 3,
    "start_time": "2023-04-25T14:54:15.807Z"
   },
   {
    "duration": 5,
    "start_time": "2023-04-25T14:54:27.470Z"
   },
   {
    "duration": 50,
    "start_time": "2023-04-25T17:11:19.676Z"
   },
   {
    "duration": 1688,
    "start_time": "2023-04-25T17:11:23.783Z"
   },
   {
    "duration": 1987,
    "start_time": "2023-04-25T17:11:25.473Z"
   },
   {
    "duration": 20,
    "start_time": "2023-04-25T17:11:27.462Z"
   },
   {
    "duration": 31,
    "start_time": "2023-04-25T17:11:32.511Z"
   },
   {
    "duration": 2,
    "start_time": "2023-04-25T17:11:51.679Z"
   },
   {
    "duration": 6,
    "start_time": "2023-04-25T17:11:53.435Z"
   },
   {
    "duration": 4,
    "start_time": "2023-04-25T17:11:54.487Z"
   },
   {
    "duration": 4,
    "start_time": "2023-04-25T17:11:56.379Z"
   },
   {
    "duration": 4,
    "start_time": "2023-04-25T17:13:48.379Z"
   },
   {
    "duration": 3,
    "start_time": "2023-04-25T17:13:48.845Z"
   },
   {
    "duration": 4,
    "start_time": "2023-04-25T17:13:49.379Z"
   },
   {
    "duration": 3,
    "start_time": "2023-04-25T17:14:38.728Z"
   },
   {
    "duration": 4,
    "start_time": "2023-04-25T17:14:42.380Z"
   },
   {
    "duration": 4,
    "start_time": "2023-04-25T17:14:44.351Z"
   },
   {
    "duration": 3,
    "start_time": "2023-04-25T17:14:46.119Z"
   },
   {
    "duration": 13,
    "start_time": "2023-04-25T17:18:35.317Z"
   },
   {
    "duration": 18,
    "start_time": "2023-04-25T17:18:50.721Z"
   },
   {
    "duration": 10,
    "start_time": "2023-04-25T17:19:15.248Z"
   },
   {
    "duration": 12,
    "start_time": "2023-04-25T17:19:30.420Z"
   },
   {
    "duration": 9,
    "start_time": "2023-04-25T17:19:36.199Z"
   },
   {
    "duration": 8,
    "start_time": "2023-04-25T17:19:45.676Z"
   },
   {
    "duration": 12,
    "start_time": "2023-04-25T17:19:54.155Z"
   },
   {
    "duration": 69,
    "start_time": "2023-04-25T17:20:10.254Z"
   },
   {
    "duration": 10,
    "start_time": "2023-04-25T17:20:22.927Z"
   },
   {
    "duration": 21,
    "start_time": "2023-04-25T17:21:16.521Z"
   },
   {
    "duration": 16,
    "start_time": "2023-04-25T17:21:37.682Z"
   },
   {
    "duration": 14,
    "start_time": "2023-04-25T17:21:52.075Z"
   },
   {
    "duration": 16,
    "start_time": "2023-04-25T17:24:12.251Z"
   },
   {
    "duration": 2,
    "start_time": "2023-04-25T17:24:37.517Z"
   },
   {
    "duration": 680,
    "start_time": "2023-04-25T17:24:37.521Z"
   },
   {
    "duration": 16,
    "start_time": "2023-04-25T17:24:38.202Z"
   },
   {
    "duration": 14,
    "start_time": "2023-04-25T17:24:38.219Z"
   },
   {
    "duration": 24,
    "start_time": "2023-04-25T17:24:38.235Z"
   },
   {
    "duration": 40,
    "start_time": "2023-04-25T17:24:38.261Z"
   },
   {
    "duration": 9,
    "start_time": "2023-04-25T17:24:38.303Z"
   },
   {
    "duration": 15,
    "start_time": "2023-04-25T17:24:38.313Z"
   },
   {
    "duration": 10,
    "start_time": "2023-04-25T17:24:38.330Z"
   },
   {
    "duration": 2,
    "start_time": "2023-04-25T17:24:38.342Z"
   },
   {
    "duration": 12,
    "start_time": "2023-04-25T17:24:38.346Z"
   },
   {
    "duration": 4,
    "start_time": "2023-04-25T17:24:38.359Z"
   },
   {
    "duration": 29,
    "start_time": "2023-04-25T17:24:38.365Z"
   },
   {
    "duration": 3,
    "start_time": "2023-04-25T17:24:38.395Z"
   },
   {
    "duration": 6,
    "start_time": "2023-04-25T17:24:38.399Z"
   },
   {
    "duration": 39,
    "start_time": "2023-04-25T17:26:35.594Z"
   },
   {
    "duration": 18,
    "start_time": "2023-04-25T17:27:37.339Z"
   },
   {
    "duration": 2,
    "start_time": "2023-04-25T17:29:15.035Z"
   },
   {
    "duration": 4,
    "start_time": "2023-04-25T17:29:17.403Z"
   },
   {
    "duration": 3,
    "start_time": "2023-04-25T17:29:44.876Z"
   },
   {
    "duration": 3,
    "start_time": "2023-04-25T17:29:45.570Z"
   },
   {
    "duration": 4,
    "start_time": "2023-04-25T17:29:51.874Z"
   },
   {
    "duration": 1572,
    "start_time": "2023-04-25T20:19:58.921Z"
   },
   {
    "duration": 2283,
    "start_time": "2023-04-25T20:20:00.496Z"
   },
   {
    "duration": 48,
    "start_time": "2023-04-25T20:20:02.780Z"
   },
   {
    "duration": 16,
    "start_time": "2023-04-25T20:20:02.829Z"
   },
   {
    "duration": 29,
    "start_time": "2023-04-25T20:20:02.846Z"
   },
   {
    "duration": 17,
    "start_time": "2023-04-25T20:20:02.879Z"
   },
   {
    "duration": 12,
    "start_time": "2023-04-25T20:20:02.898Z"
   },
   {
    "duration": 17,
    "start_time": "2023-04-25T20:20:02.911Z"
   },
   {
    "duration": 44,
    "start_time": "2023-04-25T20:20:02.930Z"
   },
   {
    "duration": 3,
    "start_time": "2023-04-25T20:20:02.980Z"
   },
   {
    "duration": 17,
    "start_time": "2023-04-25T20:20:02.985Z"
   },
   {
    "duration": 6,
    "start_time": "2023-04-25T20:20:03.004Z"
   },
   {
    "duration": 12,
    "start_time": "2023-04-25T20:20:03.011Z"
   },
   {
    "duration": 13,
    "start_time": "2023-04-25T20:20:03.024Z"
   },
   {
    "duration": 4,
    "start_time": "2023-04-25T20:20:11.832Z"
   },
   {
    "duration": 124,
    "start_time": "2023-04-25T20:49:58.485Z"
   },
   {
    "duration": 37,
    "start_time": "2023-04-25T20:50:04.177Z"
   },
   {
    "duration": 2859,
    "start_time": "2023-04-25T20:50:16.250Z"
   },
   {
    "duration": 12,
    "start_time": "2023-04-25T20:50:37.990Z"
   },
   {
    "duration": 3331,
    "start_time": "2023-04-25T20:50:43.850Z"
   },
   {
    "duration": 3891,
    "start_time": "2023-04-25T20:50:58.605Z"
   },
   {
    "duration": 5,
    "start_time": "2023-04-25T20:51:23.454Z"
   },
   {
    "duration": 15,
    "start_time": "2023-04-25T21:01:19.436Z"
   },
   {
    "duration": 42,
    "start_time": "2023-04-25T21:02:01.393Z"
   },
   {
    "duration": 41,
    "start_time": "2023-04-25T21:02:09.449Z"
   },
   {
    "duration": 3,
    "start_time": "2023-04-25T21:02:15.439Z"
   },
   {
    "duration": 762,
    "start_time": "2023-04-25T21:02:15.445Z"
   },
   {
    "duration": 58,
    "start_time": "2023-04-25T21:02:16.209Z"
   },
   {
    "duration": 43,
    "start_time": "2023-04-25T21:02:16.269Z"
   },
   {
    "duration": 55,
    "start_time": "2023-04-25T21:02:16.314Z"
   },
   {
    "duration": 17,
    "start_time": "2023-04-25T21:02:16.372Z"
   },
   {
    "duration": 25,
    "start_time": "2023-04-25T21:02:16.391Z"
   },
   {
    "duration": 18,
    "start_time": "2023-04-25T21:02:16.418Z"
   },
   {
    "duration": 31,
    "start_time": "2023-04-25T21:02:16.438Z"
   },
   {
    "duration": 19,
    "start_time": "2023-04-25T21:02:16.470Z"
   },
   {
    "duration": 18,
    "start_time": "2023-04-25T21:02:16.491Z"
   },
   {
    "duration": 3,
    "start_time": "2023-04-25T21:02:16.511Z"
   },
   {
    "duration": 17,
    "start_time": "2023-04-25T21:02:16.516Z"
   },
   {
    "duration": 36,
    "start_time": "2023-04-25T21:02:16.535Z"
   },
   {
    "duration": 35,
    "start_time": "2023-04-25T21:02:16.575Z"
   },
   {
    "duration": 24,
    "start_time": "2023-04-25T21:02:16.612Z"
   },
   {
    "duration": 5002,
    "start_time": "2023-04-25T21:02:16.638Z"
   },
   {
    "duration": 370,
    "start_time": "2023-04-25T21:36:52.847Z"
   },
   {
    "duration": 1629,
    "start_time": "2023-04-25T21:37:08.483Z"
   },
   {
    "duration": 283,
    "start_time": "2023-04-25T21:37:18.405Z"
   },
   {
    "duration": 1004,
    "start_time": "2023-04-25T21:37:56.222Z"
   },
   {
    "duration": 300,
    "start_time": "2023-04-25T21:38:02.641Z"
   },
   {
    "duration": 268,
    "start_time": "2023-04-25T21:38:53.950Z"
   },
   {
    "duration": 5810,
    "start_time": "2023-04-25T21:39:08.803Z"
   },
   {
    "duration": 280,
    "start_time": "2023-04-25T21:39:27.790Z"
   },
   {
    "duration": 259,
    "start_time": "2023-04-25T21:39:48.117Z"
   },
   {
    "duration": 266,
    "start_time": "2023-04-25T21:39:56.229Z"
   },
   {
    "duration": 274,
    "start_time": "2023-04-25T21:40:08.761Z"
   },
   {
    "duration": 274,
    "start_time": "2023-04-25T21:40:17.273Z"
   },
   {
    "duration": 265,
    "start_time": "2023-04-25T21:40:47.979Z"
   },
   {
    "duration": 117,
    "start_time": "2023-04-25T21:41:32.340Z"
   },
   {
    "duration": 298,
    "start_time": "2023-04-25T21:41:45.240Z"
   },
   {
    "duration": 4,
    "start_time": "2023-04-25T22:11:22.699Z"
   },
   {
    "duration": 3,
    "start_time": "2023-04-25T22:11:29.242Z"
   },
   {
    "duration": 4,
    "start_time": "2023-04-25T22:11:32.371Z"
   },
   {
    "duration": 7,
    "start_time": "2023-04-25T22:14:52.721Z"
   },
   {
    "duration": 2,
    "start_time": "2023-04-25T22:45:29.428Z"
   },
   {
    "duration": 885,
    "start_time": "2023-04-25T22:45:29.432Z"
   },
   {
    "duration": 43,
    "start_time": "2023-04-25T22:45:30.319Z"
   },
   {
    "duration": 52,
    "start_time": "2023-04-25T22:45:30.364Z"
   },
   {
    "duration": 71,
    "start_time": "2023-04-25T22:45:30.418Z"
   },
   {
    "duration": 12,
    "start_time": "2023-04-25T22:45:30.492Z"
   },
   {
    "duration": 0,
    "start_time": "2023-04-25T22:45:30.506Z"
   },
   {
    "duration": 0,
    "start_time": "2023-04-25T22:45:30.507Z"
   },
   {
    "duration": 0,
    "start_time": "2023-04-25T22:45:30.509Z"
   },
   {
    "duration": 0,
    "start_time": "2023-04-25T22:45:30.510Z"
   },
   {
    "duration": 0,
    "start_time": "2023-04-25T22:45:30.512Z"
   },
   {
    "duration": 0,
    "start_time": "2023-04-25T22:45:30.513Z"
   },
   {
    "duration": 0,
    "start_time": "2023-04-25T22:45:30.514Z"
   },
   {
    "duration": 0,
    "start_time": "2023-04-25T22:45:30.516Z"
   },
   {
    "duration": 0,
    "start_time": "2023-04-25T22:45:30.517Z"
   },
   {
    "duration": 0,
    "start_time": "2023-04-25T22:45:30.518Z"
   },
   {
    "duration": 0,
    "start_time": "2023-04-25T22:45:30.520Z"
   },
   {
    "duration": 2,
    "start_time": "2023-04-25T22:45:52.799Z"
   },
   {
    "duration": 778,
    "start_time": "2023-04-25T22:45:52.805Z"
   },
   {
    "duration": 49,
    "start_time": "2023-04-25T22:45:53.587Z"
   },
   {
    "duration": 58,
    "start_time": "2023-04-25T22:45:53.638Z"
   },
   {
    "duration": 43,
    "start_time": "2023-04-25T22:45:53.697Z"
   },
   {
    "duration": 294,
    "start_time": "2023-04-25T22:45:53.742Z"
   },
   {
    "duration": 32,
    "start_time": "2023-04-25T22:45:54.037Z"
   },
   {
    "duration": 19,
    "start_time": "2023-04-25T22:45:54.070Z"
   },
   {
    "duration": 18,
    "start_time": "2023-04-25T22:45:54.091Z"
   },
   {
    "duration": 13,
    "start_time": "2023-04-25T22:45:54.111Z"
   },
   {
    "duration": 49,
    "start_time": "2023-04-25T22:45:54.126Z"
   },
   {
    "duration": 15,
    "start_time": "2023-04-25T22:45:54.180Z"
   },
   {
    "duration": 4,
    "start_time": "2023-04-25T22:45:54.197Z"
   },
   {
    "duration": 3,
    "start_time": "2023-04-25T22:45:54.203Z"
   },
   {
    "duration": 6,
    "start_time": "2023-04-25T22:45:54.207Z"
   },
   {
    "duration": 4,
    "start_time": "2023-04-25T22:45:54.215Z"
   },
   {
    "duration": 96,
    "start_time": "2023-04-25T23:07:48.640Z"
   },
   {
    "duration": 99,
    "start_time": "2023-04-25T23:07:53.790Z"
   },
   {
    "duration": 7,
    "start_time": "2023-04-25T23:08:16.708Z"
   },
   {
    "duration": 1429,
    "start_time": "2023-04-27T18:38:26.606Z"
   },
   {
    "duration": 3105,
    "start_time": "2023-04-27T18:38:28.039Z"
   },
   {
    "duration": 49,
    "start_time": "2023-04-27T18:38:31.145Z"
   },
   {
    "duration": 54,
    "start_time": "2023-04-27T18:38:31.197Z"
   },
   {
    "duration": 62,
    "start_time": "2023-04-27T18:38:31.253Z"
   },
   {
    "duration": 322,
    "start_time": "2023-04-27T18:38:31.317Z"
   },
   {
    "duration": 19,
    "start_time": "2023-04-27T18:38:31.640Z"
   },
   {
    "duration": 15,
    "start_time": "2023-04-27T18:38:31.660Z"
   },
   {
    "duration": 31,
    "start_time": "2023-04-27T18:38:31.676Z"
   },
   {
    "duration": 27,
    "start_time": "2023-04-27T18:38:31.710Z"
   },
   {
    "duration": 34,
    "start_time": "2023-04-27T18:38:31.739Z"
   },
   {
    "duration": 34,
    "start_time": "2023-04-27T18:38:31.774Z"
   },
   {
    "duration": 13,
    "start_time": "2023-04-27T18:38:31.810Z"
   },
   {
    "duration": 40,
    "start_time": "2023-04-27T18:38:31.825Z"
   },
   {
    "duration": 31,
    "start_time": "2023-04-27T18:38:31.866Z"
   },
   {
    "duration": 28,
    "start_time": "2023-04-27T18:38:31.899Z"
   },
   {
    "duration": 108,
    "start_time": "2023-04-27T18:38:31.929Z"
   },
   {
    "duration": 6,
    "start_time": "2023-04-27T18:38:32.039Z"
   },
   {
    "duration": 44,
    "start_time": "2023-04-27T21:33:47.701Z"
   },
   {
    "duration": 2,
    "start_time": "2023-04-27T22:09:15.232Z"
   },
   {
    "duration": 6,
    "start_time": "2023-04-27T22:09:15.237Z"
   },
   {
    "duration": 667,
    "start_time": "2023-04-27T22:09:15.245Z"
   },
   {
    "duration": 42,
    "start_time": "2023-04-27T22:09:15.914Z"
   },
   {
    "duration": 33,
    "start_time": "2023-04-27T22:09:15.957Z"
   },
   {
    "duration": 58,
    "start_time": "2023-04-27T22:09:15.992Z"
   },
   {
    "duration": 298,
    "start_time": "2023-04-27T22:09:16.051Z"
   },
   {
    "duration": 3,
    "start_time": "2023-04-27T22:09:16.351Z"
   },
   {
    "duration": 6,
    "start_time": "2023-04-27T22:09:16.355Z"
   },
   {
    "duration": 3,
    "start_time": "2023-04-27T22:09:16.362Z"
   },
   {
    "duration": 4,
    "start_time": "2023-04-27T22:09:16.367Z"
   },
   {
    "duration": 15,
    "start_time": "2023-04-27T22:09:16.373Z"
   },
   {
    "duration": 12,
    "start_time": "2023-04-27T22:09:16.389Z"
   },
   {
    "duration": 50,
    "start_time": "2023-04-27T22:09:16.403Z"
   },
   {
    "duration": 14,
    "start_time": "2023-04-27T22:09:16.455Z"
   },
   {
    "duration": 15,
    "start_time": "2023-04-27T22:09:16.471Z"
   },
   {
    "duration": 12,
    "start_time": "2023-04-27T22:09:16.487Z"
   },
   {
    "duration": 4,
    "start_time": "2023-04-27T22:09:16.500Z"
   },
   {
    "duration": 111,
    "start_time": "2023-04-27T22:09:16.506Z"
   },
   {
    "duration": 5,
    "start_time": "2023-04-27T22:09:16.619Z"
   },
   {
    "duration": 4,
    "start_time": "2023-04-27T22:09:16.626Z"
   },
   {
    "duration": 122,
    "start_time": "2023-04-27T22:09:16.632Z"
   },
   {
    "duration": 0,
    "start_time": "2023-04-27T22:09:16.755Z"
   },
   {
    "duration": 2,
    "start_time": "2023-04-27T22:16:55.350Z"
   },
   {
    "duration": 3,
    "start_time": "2023-04-27T22:16:58.499Z"
   },
   {
    "duration": 2,
    "start_time": "2023-04-27T22:17:01.502Z"
   },
   {
    "duration": 675,
    "start_time": "2023-04-27T22:31:43.859Z"
   },
   {
    "duration": 36,
    "start_time": "2023-04-27T22:31:47.308Z"
   },
   {
    "duration": 34,
    "start_time": "2023-04-27T22:31:50.901Z"
   },
   {
    "duration": 40,
    "start_time": "2023-04-27T22:31:51.547Z"
   },
   {
    "duration": 83,
    "start_time": "2023-04-27T22:42:27.794Z"
   },
   {
    "duration": 82,
    "start_time": "2023-04-27T23:18:41.398Z"
   },
   {
    "duration": 2,
    "start_time": "2023-04-27T23:22:14.998Z"
   },
   {
    "duration": 32,
    "start_time": "2023-04-27T23:22:15.002Z"
   },
   {
    "duration": 620,
    "start_time": "2023-04-27T23:22:15.036Z"
   },
   {
    "duration": 36,
    "start_time": "2023-04-27T23:22:15.658Z"
   },
   {
    "duration": 34,
    "start_time": "2023-04-27T23:22:15.696Z"
   },
   {
    "duration": 37,
    "start_time": "2023-04-27T23:22:15.748Z"
   },
   {
    "duration": 2,
    "start_time": "2023-04-27T23:22:15.787Z"
   },
   {
    "duration": 10,
    "start_time": "2023-04-27T23:22:15.791Z"
   },
   {
    "duration": 8,
    "start_time": "2023-04-27T23:22:15.803Z"
   },
   {
    "duration": 7,
    "start_time": "2023-04-27T23:22:15.812Z"
   },
   {
    "duration": 6,
    "start_time": "2023-04-27T23:22:15.820Z"
   },
   {
    "duration": 118,
    "start_time": "2023-04-27T23:22:15.827Z"
   },
   {
    "duration": 12,
    "start_time": "2023-04-27T23:22:15.947Z"
   },
   {
    "duration": 7,
    "start_time": "2023-04-27T23:22:15.961Z"
   },
   {
    "duration": 15,
    "start_time": "2023-04-27T23:22:15.969Z"
   },
   {
    "duration": 12,
    "start_time": "2023-04-27T23:22:15.985Z"
   },
   {
    "duration": 16,
    "start_time": "2023-04-27T23:22:15.998Z"
   },
   {
    "duration": 43,
    "start_time": "2023-04-27T23:22:16.015Z"
   },
   {
    "duration": 7,
    "start_time": "2023-04-27T23:22:16.062Z"
   },
   {
    "duration": 21,
    "start_time": "2023-04-27T23:22:16.070Z"
   },
   {
    "duration": 9,
    "start_time": "2023-04-27T23:22:16.093Z"
   },
   {
    "duration": 2,
    "start_time": "2023-04-27T23:36:05.413Z"
   },
   {
    "duration": 18,
    "start_time": "2023-04-27T23:36:05.417Z"
   },
   {
    "duration": 631,
    "start_time": "2023-04-27T23:36:05.541Z"
   },
   {
    "duration": 36,
    "start_time": "2023-04-27T23:36:06.173Z"
   },
   {
    "duration": 54,
    "start_time": "2023-04-27T23:36:06.210Z"
   },
   {
    "duration": 37,
    "start_time": "2023-04-27T23:36:06.265Z"
   },
   {
    "duration": 2,
    "start_time": "2023-04-27T23:36:06.304Z"
   },
   {
    "duration": 15,
    "start_time": "2023-04-27T23:36:06.307Z"
   },
   {
    "duration": 13,
    "start_time": "2023-04-27T23:36:06.323Z"
   },
   {
    "duration": 5,
    "start_time": "2023-04-27T23:36:06.337Z"
   },
   {
    "duration": 11,
    "start_time": "2023-04-27T23:36:06.344Z"
   },
   {
    "duration": 95,
    "start_time": "2023-04-27T23:36:06.357Z"
   },
   {
    "duration": 12,
    "start_time": "2023-04-27T23:36:06.454Z"
   },
   {
    "duration": 18,
    "start_time": "2023-04-27T23:36:06.468Z"
   },
   {
    "duration": 19,
    "start_time": "2023-04-27T23:36:06.487Z"
   },
   {
    "duration": 16,
    "start_time": "2023-04-27T23:36:06.509Z"
   },
   {
    "duration": 24,
    "start_time": "2023-04-27T23:36:06.527Z"
   },
   {
    "duration": 11,
    "start_time": "2023-04-27T23:36:06.552Z"
   },
   {
    "duration": 11,
    "start_time": "2023-04-27T23:36:06.564Z"
   },
   {
    "duration": 6,
    "start_time": "2023-04-27T23:36:06.576Z"
   },
   {
    "duration": 5,
    "start_time": "2023-04-27T23:36:06.583Z"
   },
   {
    "duration": 2,
    "start_time": "2023-04-27T23:39:26.302Z"
   },
   {
    "duration": 3,
    "start_time": "2023-04-28T07:46:03.932Z"
   },
   {
    "duration": 1618,
    "start_time": "2023-04-28T07:46:03.937Z"
   },
   {
    "duration": 2960,
    "start_time": "2023-04-28T07:46:05.557Z"
   },
   {
    "duration": 45,
    "start_time": "2023-04-28T07:46:08.519Z"
   },
   {
    "duration": 60,
    "start_time": "2023-04-28T07:46:08.566Z"
   },
   {
    "duration": 39,
    "start_time": "2023-04-28T07:46:08.628Z"
   },
   {
    "duration": 5,
    "start_time": "2023-04-28T07:46:08.685Z"
   },
   {
    "duration": 8,
    "start_time": "2023-04-28T07:46:08.692Z"
   },
   {
    "duration": 11,
    "start_time": "2023-04-28T07:46:08.703Z"
   },
   {
    "duration": 5,
    "start_time": "2023-04-28T07:46:08.716Z"
   },
   {
    "duration": 12,
    "start_time": "2023-04-28T07:46:08.724Z"
   },
   {
    "duration": 112,
    "start_time": "2023-04-28T07:46:08.738Z"
   },
   {
    "duration": 13,
    "start_time": "2023-04-28T07:46:08.852Z"
   },
   {
    "duration": 30,
    "start_time": "2023-04-28T07:46:08.867Z"
   },
   {
    "duration": 17,
    "start_time": "2023-04-28T07:46:08.900Z"
   },
   {
    "duration": 23,
    "start_time": "2023-04-28T07:46:08.919Z"
   },
   {
    "duration": 14,
    "start_time": "2023-04-28T07:46:08.944Z"
   },
   {
    "duration": 46,
    "start_time": "2023-04-28T07:46:08.960Z"
   },
   {
    "duration": 4,
    "start_time": "2023-04-28T07:46:09.008Z"
   },
   {
    "duration": 40,
    "start_time": "2023-04-28T07:46:09.014Z"
   },
   {
    "duration": 15,
    "start_time": "2023-04-28T07:46:09.056Z"
   },
   {
    "duration": 129,
    "start_time": "2023-04-28T07:46:09.073Z"
   },
   {
    "duration": 360,
    "start_time": "2023-04-28T07:56:30.977Z"
   },
   {
    "duration": 36496,
    "start_time": "2023-04-28T07:58:03.013Z"
   },
   {
    "duration": 3,
    "start_time": "2023-04-28T07:58:50.855Z"
   },
   {
    "duration": 18,
    "start_time": "2023-04-28T07:58:50.862Z"
   },
   {
    "duration": 642,
    "start_time": "2023-04-28T07:58:50.881Z"
   },
   {
    "duration": 38,
    "start_time": "2023-04-28T07:58:51.524Z"
   },
   {
    "duration": 50,
    "start_time": "2023-04-28T07:58:51.564Z"
   },
   {
    "duration": 40,
    "start_time": "2023-04-28T07:58:51.616Z"
   },
   {
    "duration": 3,
    "start_time": "2023-04-28T07:58:51.658Z"
   },
   {
    "duration": 26,
    "start_time": "2023-04-28T07:58:51.662Z"
   },
   {
    "duration": 14,
    "start_time": "2023-04-28T07:58:51.689Z"
   },
   {
    "duration": 12,
    "start_time": "2023-04-28T07:58:51.705Z"
   },
   {
    "duration": 8,
    "start_time": "2023-04-28T07:58:51.720Z"
   },
   {
    "duration": 92,
    "start_time": "2023-04-28T07:58:51.729Z"
   },
   {
    "duration": 12,
    "start_time": "2023-04-28T07:58:51.823Z"
   },
   {
    "duration": 11,
    "start_time": "2023-04-28T07:58:51.836Z"
   },
   {
    "duration": 15,
    "start_time": "2023-04-28T07:58:51.848Z"
   },
   {
    "duration": 34,
    "start_time": "2023-04-28T07:58:51.864Z"
   },
   {
    "duration": 14,
    "start_time": "2023-04-28T07:58:51.900Z"
   },
   {
    "duration": 11,
    "start_time": "2023-04-28T07:58:51.915Z"
   },
   {
    "duration": 116508,
    "start_time": "2023-04-28T07:58:51.928Z"
   },
   {
    "duration": 0,
    "start_time": "2023-04-28T08:00:48.438Z"
   },
   {
    "duration": 0,
    "start_time": "2023-04-28T08:00:48.439Z"
   },
   {
    "duration": 0,
    "start_time": "2023-04-28T08:00:48.440Z"
   },
   {
    "duration": 0,
    "start_time": "2023-04-28T08:00:48.441Z"
   },
   {
    "duration": 291,
    "start_time": "2023-04-28T08:02:08.508Z"
   },
   {
    "duration": 216,
    "start_time": "2023-04-28T08:02:50.949Z"
   },
   {
    "duration": 72,
    "start_time": "2023-04-28T08:03:33.021Z"
   },
   {
    "duration": 281,
    "start_time": "2023-04-28T08:03:41.013Z"
   },
   {
    "duration": 165,
    "start_time": "2023-04-28T08:04:40.604Z"
   },
   {
    "duration": 162,
    "start_time": "2023-04-28T08:07:28.431Z"
   },
   {
    "duration": 295,
    "start_time": "2023-04-28T08:08:01.410Z"
   },
   {
    "duration": 293,
    "start_time": "2023-04-28T08:08:25.118Z"
   },
   {
    "duration": 261,
    "start_time": "2023-04-28T08:10:45.510Z"
   },
   {
    "duration": 28,
    "start_time": "2023-04-28T08:30:15.484Z"
   },
   {
    "duration": 1486,
    "start_time": "2023-04-28T08:33:04.984Z"
   },
   {
    "duration": 1540,
    "start_time": "2023-04-28T08:33:14.626Z"
   },
   {
    "duration": 5,
    "start_time": "2023-04-28T08:33:18.769Z"
   },
   {
    "duration": 1632,
    "start_time": "2023-04-28T17:22:55.404Z"
   },
   {
    "duration": 1983,
    "start_time": "2023-04-28T17:22:59.457Z"
   },
   {
    "duration": 47,
    "start_time": "2023-04-28T17:23:01.442Z"
   },
   {
    "duration": 36,
    "start_time": "2023-04-28T17:23:03.800Z"
   },
   {
    "duration": 40,
    "start_time": "2023-04-28T17:23:07.889Z"
   },
   {
    "duration": 2,
    "start_time": "2023-04-28T17:23:13.829Z"
   },
   {
    "duration": 6,
    "start_time": "2023-04-28T17:23:16.930Z"
   },
   {
    "duration": 4,
    "start_time": "2023-04-28T17:23:19.940Z"
   },
   {
    "duration": 4,
    "start_time": "2023-04-28T17:23:20.555Z"
   },
   {
    "duration": 5,
    "start_time": "2023-04-28T17:23:25.925Z"
   },
   {
    "duration": 97,
    "start_time": "2023-04-28T17:23:31.724Z"
   },
   {
    "duration": 13,
    "start_time": "2023-04-28T17:23:40.660Z"
   },
   {
    "duration": 509,
    "start_time": "2023-04-28T17:28:01.442Z"
   },
   {
    "duration": 523,
    "start_time": "2023-04-28T17:28:21.310Z"
   },
   {
    "duration": 693,
    "start_time": "2023-04-28T17:28:40.337Z"
   },
   {
    "duration": 570,
    "start_time": "2023-04-28T17:28:54.952Z"
   },
   {
    "duration": 1125,
    "start_time": "2023-04-28T17:29:05.452Z"
   },
   {
    "duration": 6,
    "start_time": "2023-04-28T17:29:13.025Z"
   },
   {
    "duration": 1014,
    "start_time": "2023-04-28T17:29:15.394Z"
   },
   {
    "duration": 456,
    "start_time": "2023-04-28T17:29:29.101Z"
   },
   {
    "duration": 147,
    "start_time": "2023-04-28T17:30:42.659Z"
   },
   {
    "duration": 1108,
    "start_time": "2023-04-28T17:30:52.997Z"
   },
   {
    "duration": 1153,
    "start_time": "2023-04-28T17:32:16.063Z"
   },
   {
    "duration": 975,
    "start_time": "2023-04-28T17:32:24.226Z"
   },
   {
    "duration": 1076,
    "start_time": "2023-04-28T17:32:34.041Z"
   },
   {
    "duration": 970,
    "start_time": "2023-04-28T17:32:41.535Z"
   },
   {
    "duration": 476,
    "start_time": "2023-04-28T17:34:38.697Z"
   },
   {
    "duration": 400,
    "start_time": "2023-04-28T17:35:37.175Z"
   },
   {
    "duration": 412,
    "start_time": "2023-04-28T17:36:33.991Z"
   },
   {
    "duration": 419,
    "start_time": "2023-04-28T17:37:48.167Z"
   },
   {
    "duration": 453,
    "start_time": "2023-04-28T17:38:09.353Z"
   },
   {
    "duration": 527,
    "start_time": "2023-04-28T17:39:43.225Z"
   },
   {
    "duration": 392,
    "start_time": "2023-04-28T17:39:51.024Z"
   },
   {
    "duration": 456,
    "start_time": "2023-04-28T17:42:55.943Z"
   },
   {
    "duration": 472,
    "start_time": "2023-04-28T17:43:10.859Z"
   },
   {
    "duration": 470,
    "start_time": "2023-04-28T17:43:19.617Z"
   },
   {
    "duration": 471,
    "start_time": "2023-04-28T17:43:26.186Z"
   },
   {
    "duration": 519,
    "start_time": "2023-04-28T17:44:16.329Z"
   },
   {
    "duration": 579,
    "start_time": "2023-04-28T17:44:42.389Z"
   },
   {
    "duration": 479,
    "start_time": "2023-04-28T17:44:57.894Z"
   },
   {
    "duration": 360,
    "start_time": "2023-04-28T17:45:30.010Z"
   },
   {
    "duration": 477,
    "start_time": "2023-04-28T17:45:39.810Z"
   },
   {
    "duration": 645,
    "start_time": "2023-04-28T17:45:46.347Z"
   },
   {
    "duration": 424,
    "start_time": "2023-04-28T17:45:54.269Z"
   },
   {
    "duration": 373,
    "start_time": "2023-04-28T17:46:22.901Z"
   },
   {
    "duration": 370,
    "start_time": "2023-04-28T17:46:32.325Z"
   },
   {
    "duration": 436,
    "start_time": "2023-04-28T17:46:37.362Z"
   },
   {
    "duration": 30,
    "start_time": "2023-04-28T17:58:18.381Z"
   },
   {
    "duration": 3298,
    "start_time": "2023-04-28T17:58:35.326Z"
   },
   {
    "duration": 3111,
    "start_time": "2023-04-28T17:58:44.652Z"
   },
   {
    "duration": 3940,
    "start_time": "2023-04-28T17:59:50.357Z"
   },
   {
    "duration": 3130,
    "start_time": "2023-04-28T18:01:46.927Z"
   },
   {
    "duration": 2123,
    "start_time": "2023-04-28T18:02:06.830Z"
   },
   {
    "duration": 14,
    "start_time": "2023-04-28T18:40:27.930Z"
   },
   {
    "duration": 12,
    "start_time": "2023-04-28T18:41:17.936Z"
   },
   {
    "duration": 17,
    "start_time": "2023-04-28T18:41:26.921Z"
   },
   {
    "duration": 12,
    "start_time": "2023-04-28T18:41:34.760Z"
   },
   {
    "duration": 17,
    "start_time": "2023-04-28T18:41:45.361Z"
   },
   {
    "duration": 112,
    "start_time": "2023-04-28T18:42:18.107Z"
   },
   {
    "duration": 88,
    "start_time": "2023-04-28T18:42:30.850Z"
   },
   {
    "duration": 74,
    "start_time": "2023-04-28T18:42:55.048Z"
   },
   {
    "duration": 11,
    "start_time": "2023-04-28T18:43:43.122Z"
   },
   {
    "duration": 12,
    "start_time": "2023-04-28T18:48:10.327Z"
   },
   {
    "duration": 12,
    "start_time": "2023-04-28T18:48:11.438Z"
   },
   {
    "duration": 25,
    "start_time": "2023-04-28T18:49:33.924Z"
   },
   {
    "duration": 18,
    "start_time": "2023-04-28T18:51:50.362Z"
   },
   {
    "duration": 13,
    "start_time": "2023-04-28T18:52:50.980Z"
   },
   {
    "duration": 7801,
    "start_time": "2023-04-28T20:20:32.271Z"
   },
   {
    "duration": 8797,
    "start_time": "2023-04-28T20:21:56.917Z"
   },
   {
    "duration": 6032,
    "start_time": "2023-04-28T20:22:32.478Z"
   },
   {
    "duration": 430,
    "start_time": "2023-04-28T20:24:30.271Z"
   },
   {
    "duration": 459,
    "start_time": "2023-04-28T20:27:08.434Z"
   },
   {
    "duration": 3,
    "start_time": "2023-04-28T20:31:09.212Z"
   },
   {
    "duration": 13,
    "start_time": "2023-04-28T20:34:58.552Z"
   },
   {
    "duration": 12,
    "start_time": "2023-04-28T20:35:49.611Z"
   },
   {
    "duration": 13,
    "start_time": "2023-04-28T20:35:55.611Z"
   },
   {
    "duration": 12,
    "start_time": "2023-04-28T20:35:58.841Z"
   },
   {
    "duration": 27105,
    "start_time": "2023-04-28T20:53:17.580Z"
   },
   {
    "duration": 0,
    "start_time": "2023-04-28T20:53:44.689Z"
   },
   {
    "duration": 19,
    "start_time": "2023-04-28T20:53:48.135Z"
   },
   {
    "duration": 334465,
    "start_time": "2023-04-28T20:53:55.965Z"
   },
   {
    "duration": 186,
    "start_time": "2023-04-28T21:01:30.919Z"
   },
   {
    "duration": 221,
    "start_time": "2023-04-28T21:04:59.742Z"
   },
   {
    "duration": 192,
    "start_time": "2023-04-28T21:07:37.919Z"
   },
   {
    "duration": 168,
    "start_time": "2023-04-28T21:10:43.389Z"
   },
   {
    "duration": 178,
    "start_time": "2023-04-28T21:10:57.486Z"
   },
   {
    "duration": 175,
    "start_time": "2023-04-28T21:11:07.627Z"
   },
   {
    "duration": 171,
    "start_time": "2023-04-28T21:11:41.330Z"
   },
   {
    "duration": 4,
    "start_time": "2023-04-28T21:11:59.266Z"
   },
   {
    "duration": 174,
    "start_time": "2023-04-28T21:12:04.577Z"
   },
   {
    "duration": 183,
    "start_time": "2023-04-28T21:12:39.574Z"
   },
   {
    "duration": 183,
    "start_time": "2023-04-28T21:14:18.630Z"
   },
   {
    "duration": 194,
    "start_time": "2023-04-28T21:15:24.365Z"
   },
   {
    "duration": 186,
    "start_time": "2023-04-28T21:15:43.645Z"
   },
   {
    "duration": 204,
    "start_time": "2023-04-28T21:15:54.285Z"
   },
   {
    "duration": 185,
    "start_time": "2023-04-28T21:17:02.858Z"
   },
   {
    "duration": 179,
    "start_time": "2023-04-28T21:17:19.073Z"
   },
   {
    "duration": 199,
    "start_time": "2023-04-28T21:17:22.430Z"
   },
   {
    "duration": 193,
    "start_time": "2023-04-28T21:17:32.549Z"
   },
   {
    "duration": 210,
    "start_time": "2023-04-28T21:18:30.750Z"
   },
   {
    "duration": 203,
    "start_time": "2023-04-28T21:18:52.585Z"
   },
   {
    "duration": 187,
    "start_time": "2023-04-28T21:19:33.581Z"
   },
   {
    "duration": 233,
    "start_time": "2023-04-28T21:20:13.952Z"
   },
   {
    "duration": 185,
    "start_time": "2023-04-28T21:20:50.037Z"
   },
   {
    "duration": 178,
    "start_time": "2023-04-28T21:23:47.720Z"
   },
   {
    "duration": 196,
    "start_time": "2023-04-28T21:24:00.235Z"
   },
   {
    "duration": 155,
    "start_time": "2023-04-28T21:24:32.126Z"
   },
   {
    "duration": 204,
    "start_time": "2023-04-28T21:24:59.168Z"
   },
   {
    "duration": 184,
    "start_time": "2023-04-28T21:37:55.518Z"
   },
   {
    "duration": 185,
    "start_time": "2023-04-28T21:38:01.801Z"
   },
   {
    "duration": 180,
    "start_time": "2023-04-28T21:38:05.873Z"
   },
   {
    "duration": 206,
    "start_time": "2023-04-28T21:38:14.085Z"
   },
   {
    "duration": 164,
    "start_time": "2023-04-28T21:51:49.203Z"
   },
   {
    "duration": 183,
    "start_time": "2023-04-28T21:51:59.824Z"
   },
   {
    "duration": 217,
    "start_time": "2023-04-28T21:52:43.977Z"
   },
   {
    "duration": 216,
    "start_time": "2023-04-28T21:52:58.003Z"
   },
   {
    "duration": 193,
    "start_time": "2023-04-28T21:53:06.242Z"
   },
   {
    "duration": 193,
    "start_time": "2023-04-28T21:53:23.459Z"
   },
   {
    "duration": 245,
    "start_time": "2023-04-28T21:54:12.045Z"
   },
   {
    "duration": 228,
    "start_time": "2023-04-28T21:56:27.405Z"
   },
   {
    "duration": 195,
    "start_time": "2023-04-28T21:56:33.463Z"
   },
   {
    "duration": 7,
    "start_time": "2023-04-28T21:58:15.339Z"
   },
   {
    "duration": 8,
    "start_time": "2023-04-28T21:58:28.103Z"
   },
   {
    "duration": 8,
    "start_time": "2023-04-28T21:59:43.871Z"
   },
   {
    "duration": 73,
    "start_time": "2023-04-28T22:02:44.759Z"
   },
   {
    "duration": 9,
    "start_time": "2023-04-28T22:02:55.813Z"
   },
   {
    "duration": 9,
    "start_time": "2023-04-28T22:03:03.141Z"
   },
   {
    "duration": 9,
    "start_time": "2023-04-28T22:04:44.363Z"
   },
   {
    "duration": 9,
    "start_time": "2023-04-28T22:04:44.975Z"
   },
   {
    "duration": 209,
    "start_time": "2023-04-28T22:07:36.124Z"
   },
   {
    "duration": 202,
    "start_time": "2023-04-28T22:07:56.244Z"
   },
   {
    "duration": 210,
    "start_time": "2023-04-28T22:08:03.603Z"
   },
   {
    "duration": 216,
    "start_time": "2023-04-28T22:09:25.179Z"
   },
   {
    "duration": 196,
    "start_time": "2023-04-28T22:12:16.606Z"
   },
   {
    "duration": 260,
    "start_time": "2023-04-28T22:12:52.682Z"
   },
   {
    "duration": 207,
    "start_time": "2023-04-28T22:13:05.179Z"
   },
   {
    "duration": 204,
    "start_time": "2023-04-28T22:33:02.729Z"
   },
   {
    "duration": 205,
    "start_time": "2023-04-28T22:33:36.536Z"
   },
   {
    "duration": 222,
    "start_time": "2023-04-28T22:33:44.336Z"
   },
   {
    "duration": 200,
    "start_time": "2023-04-28T22:39:11.745Z"
   },
   {
    "duration": 24,
    "start_time": "2023-04-28T22:42:17.465Z"
   },
   {
    "duration": 178,
    "start_time": "2023-04-28T22:45:19.819Z"
   },
   {
    "duration": 178,
    "start_time": "2023-04-28T22:45:39.305Z"
   },
   {
    "duration": 144,
    "start_time": "2023-04-28T22:45:50.553Z"
   },
   {
    "duration": 180,
    "start_time": "2023-04-28T22:46:55.621Z"
   },
   {
    "duration": 13,
    "start_time": "2023-04-28T23:02:19.035Z"
   },
   {
    "duration": 12,
    "start_time": "2023-04-28T23:02:31.391Z"
   },
   {
    "duration": 2,
    "start_time": "2023-04-28T23:06:04.934Z"
   },
   {
    "duration": 19,
    "start_time": "2023-04-28T23:09:10.904Z"
   },
   {
    "duration": 17,
    "start_time": "2023-04-28T23:09:44.240Z"
   },
   {
    "duration": 21,
    "start_time": "2023-04-28T23:17:40.627Z"
   },
   {
    "duration": 8,
    "start_time": "2023-04-28T23:28:08.673Z"
   },
   {
    "duration": 9,
    "start_time": "2023-04-28T23:29:04.905Z"
   },
   {
    "duration": 2,
    "start_time": "2023-04-28T23:29:10.322Z"
   },
   {
    "duration": 4,
    "start_time": "2023-04-28T23:29:10.327Z"
   },
   {
    "duration": 1846,
    "start_time": "2023-04-28T23:29:10.336Z"
   },
   {
    "duration": 39,
    "start_time": "2023-04-28T23:29:12.184Z"
   },
   {
    "duration": 36,
    "start_time": "2023-04-28T23:29:12.226Z"
   },
   {
    "duration": 40,
    "start_time": "2023-04-28T23:29:12.285Z"
   },
   {
    "duration": 3,
    "start_time": "2023-04-28T23:29:12.327Z"
   },
   {
    "duration": 6,
    "start_time": "2023-04-28T23:29:12.332Z"
   },
   {
    "duration": 5,
    "start_time": "2023-04-28T23:29:12.339Z"
   },
   {
    "duration": 4,
    "start_time": "2023-04-28T23:29:12.346Z"
   },
   {
    "duration": 5,
    "start_time": "2023-04-28T23:29:12.351Z"
   },
   {
    "duration": 102,
    "start_time": "2023-04-28T23:29:12.386Z"
   },
   {
    "duration": 14,
    "start_time": "2023-04-28T23:29:12.489Z"
   },
   {
    "duration": 11,
    "start_time": "2023-04-28T23:29:12.505Z"
   },
   {
    "duration": 16,
    "start_time": "2023-04-28T23:29:12.518Z"
   },
   {
    "duration": 16,
    "start_time": "2023-04-28T23:29:12.535Z"
   },
   {
    "duration": 44,
    "start_time": "2023-04-28T23:29:12.553Z"
   },
   {
    "duration": 12,
    "start_time": "2023-04-28T23:29:12.599Z"
   },
   {
    "duration": 212,
    "start_time": "2023-04-28T23:29:12.613Z"
   },
   {
    "duration": 203,
    "start_time": "2023-04-28T23:29:12.826Z"
   },
   {
    "duration": 205,
    "start_time": "2023-04-28T23:29:13.031Z"
   },
   {
    "duration": 448,
    "start_time": "2023-04-28T23:29:13.237Z"
   },
   {
    "duration": 177,
    "start_time": "2023-04-28T23:29:13.686Z"
   },
   {
    "duration": 3,
    "start_time": "2023-04-28T23:29:13.866Z"
   },
   {
    "duration": 15,
    "start_time": "2023-04-28T23:29:13.870Z"
   },
   {
    "duration": 3,
    "start_time": "2023-04-28T23:29:13.887Z"
   },
   {
    "duration": 6,
    "start_time": "2023-04-28T23:29:13.892Z"
   },
   {
    "duration": 20,
    "start_time": "2023-04-28T23:29:13.900Z"
   },
   {
    "duration": 10,
    "start_time": "2023-04-28T23:29:13.922Z"
   },
   {
    "duration": 0,
    "start_time": "2023-04-28T23:29:13.934Z"
   },
   {
    "duration": 0,
    "start_time": "2023-04-28T23:29:13.935Z"
   },
   {
    "duration": 0,
    "start_time": "2023-04-28T23:29:13.937Z"
   },
   {
    "duration": 2,
    "start_time": "2023-04-28T23:31:07.686Z"
   },
   {
    "duration": 3,
    "start_time": "2023-04-28T23:31:07.725Z"
   },
   {
    "duration": 717,
    "start_time": "2023-04-28T23:31:07.773Z"
   },
   {
    "duration": 39,
    "start_time": "2023-04-28T23:31:08.492Z"
   },
   {
    "duration": 54,
    "start_time": "2023-04-28T23:31:08.533Z"
   },
   {
    "duration": 42,
    "start_time": "2023-04-28T23:31:08.589Z"
   },
   {
    "duration": 3,
    "start_time": "2023-04-28T23:31:08.633Z"
   },
   {
    "duration": 5,
    "start_time": "2023-04-28T23:31:08.638Z"
   },
   {
    "duration": 11,
    "start_time": "2023-04-28T23:31:08.645Z"
   },
   {
    "duration": 28,
    "start_time": "2023-04-28T23:31:08.658Z"
   },
   {
    "duration": 5,
    "start_time": "2023-04-28T23:31:08.687Z"
   },
   {
    "duration": 96,
    "start_time": "2023-04-28T23:31:08.695Z"
   },
   {
    "duration": 13,
    "start_time": "2023-04-28T23:31:08.792Z"
   },
   {
    "duration": 9,
    "start_time": "2023-04-28T23:31:08.806Z"
   },
   {
    "duration": 14,
    "start_time": "2023-04-28T23:31:08.817Z"
   },
   {
    "duration": 14,
    "start_time": "2023-04-28T23:31:08.833Z"
   },
   {
    "duration": 40,
    "start_time": "2023-04-28T23:31:08.849Z"
   },
   {
    "duration": 11,
    "start_time": "2023-04-28T23:31:08.890Z"
   },
   {
    "duration": 196,
    "start_time": "2023-04-28T23:31:08.902Z"
   },
   {
    "duration": 196,
    "start_time": "2023-04-28T23:31:09.100Z"
   },
   {
    "duration": 187,
    "start_time": "2023-04-28T23:31:09.298Z"
   },
   {
    "duration": 398,
    "start_time": "2023-04-28T23:31:09.487Z"
   },
   {
    "duration": 189,
    "start_time": "2023-04-28T23:31:09.887Z"
   },
   {
    "duration": 8,
    "start_time": "2023-04-28T23:31:10.077Z"
   },
   {
    "duration": 6,
    "start_time": "2023-04-28T23:31:10.086Z"
   },
   {
    "duration": 6,
    "start_time": "2023-04-28T23:31:10.093Z"
   },
   {
    "duration": 9,
    "start_time": "2023-04-28T23:31:10.100Z"
   },
   {
    "duration": 7,
    "start_time": "2023-04-28T23:31:10.110Z"
   },
   {
    "duration": 36,
    "start_time": "2023-04-28T23:31:10.119Z"
   },
   {
    "duration": 0,
    "start_time": "2023-04-28T23:31:10.157Z"
   },
   {
    "duration": 0,
    "start_time": "2023-04-28T23:31:10.159Z"
   },
   {
    "duration": 0,
    "start_time": "2023-04-28T23:31:10.160Z"
   },
   {
    "duration": 21,
    "start_time": "2023-04-28T23:32:09.530Z"
   },
   {
    "duration": 30,
    "start_time": "2023-04-28T23:32:18.566Z"
   },
   {
    "duration": 25,
    "start_time": "2023-04-28T23:32:30.272Z"
   },
   {
    "duration": 10,
    "start_time": "2023-04-28T23:32:34.658Z"
   },
   {
    "duration": 2,
    "start_time": "2023-04-28T23:33:10.492Z"
   },
   {
    "duration": 5,
    "start_time": "2023-04-28T23:33:10.496Z"
   },
   {
    "duration": 733,
    "start_time": "2023-04-28T23:33:10.504Z"
   },
   {
    "duration": 48,
    "start_time": "2023-04-28T23:33:11.239Z"
   },
   {
    "duration": 35,
    "start_time": "2023-04-28T23:33:11.289Z"
   },
   {
    "duration": 59,
    "start_time": "2023-04-28T23:33:11.326Z"
   },
   {
    "duration": 2,
    "start_time": "2023-04-28T23:33:11.387Z"
   },
   {
    "duration": 6,
    "start_time": "2023-04-28T23:33:11.391Z"
   },
   {
    "duration": 3,
    "start_time": "2023-04-28T23:33:11.399Z"
   },
   {
    "duration": 4,
    "start_time": "2023-04-28T23:33:11.404Z"
   },
   {
    "duration": 6,
    "start_time": "2023-04-28T23:33:11.410Z"
   },
   {
    "duration": 108,
    "start_time": "2023-04-28T23:33:11.417Z"
   },
   {
    "duration": 13,
    "start_time": "2023-04-28T23:33:11.526Z"
   },
   {
    "duration": 11,
    "start_time": "2023-04-28T23:33:11.540Z"
   },
   {
    "duration": 37,
    "start_time": "2023-04-28T23:33:11.552Z"
   },
   {
    "duration": 15,
    "start_time": "2023-04-28T23:33:11.590Z"
   },
   {
    "duration": 16,
    "start_time": "2023-04-28T23:33:11.606Z"
   },
   {
    "duration": 11,
    "start_time": "2023-04-28T23:33:11.623Z"
   },
   {
    "duration": 212,
    "start_time": "2023-04-28T23:33:11.636Z"
   },
   {
    "duration": 203,
    "start_time": "2023-04-28T23:33:11.850Z"
   },
   {
    "duration": 205,
    "start_time": "2023-04-28T23:33:12.054Z"
   },
   {
    "duration": 438,
    "start_time": "2023-04-28T23:33:12.261Z"
   },
   {
    "duration": 186,
    "start_time": "2023-04-28T23:33:12.701Z"
   },
   {
    "duration": 3,
    "start_time": "2023-04-28T23:33:12.889Z"
   },
   {
    "duration": 7,
    "start_time": "2023-04-28T23:33:12.894Z"
   },
   {
    "duration": 4,
    "start_time": "2023-04-28T23:33:12.902Z"
   },
   {
    "duration": 10,
    "start_time": "2023-04-28T23:33:12.907Z"
   },
   {
    "duration": 20,
    "start_time": "2023-04-28T23:33:12.918Z"
   },
   {
    "duration": 4,
    "start_time": "2023-04-28T23:33:12.939Z"
   },
   {
    "duration": 50,
    "start_time": "2023-04-28T23:33:12.944Z"
   },
   {
    "duration": 2,
    "start_time": "2023-04-28T23:33:12.996Z"
   },
   {
    "duration": 11,
    "start_time": "2023-04-28T23:33:13.000Z"
   },
   {
    "duration": 4,
    "start_time": "2023-04-28T23:59:24.086Z"
   },
   {
    "duration": 2,
    "start_time": "2023-04-28T23:59:37.190Z"
   },
   {
    "duration": 154,
    "start_time": "2023-04-29T00:04:45.664Z"
   },
   {
    "duration": 143,
    "start_time": "2023-04-29T00:05:10.236Z"
   },
   {
    "duration": 1325,
    "start_time": "2023-04-29T00:05:58.541Z"
   },
   {
    "duration": 713,
    "start_time": "2023-04-29T00:05:59.868Z"
   },
   {
    "duration": 45,
    "start_time": "2023-04-29T00:06:00.583Z"
   },
   {
    "duration": 35,
    "start_time": "2023-04-29T00:06:00.630Z"
   },
   {
    "duration": 61,
    "start_time": "2023-04-29T00:06:00.667Z"
   },
   {
    "duration": 3,
    "start_time": "2023-04-29T00:06:00.730Z"
   },
   {
    "duration": 38,
    "start_time": "2023-04-29T00:06:00.734Z"
   },
   {
    "duration": 20,
    "start_time": "2023-04-29T00:06:00.773Z"
   },
   {
    "duration": 26,
    "start_time": "2023-04-29T00:06:00.795Z"
   },
   {
    "duration": 15,
    "start_time": "2023-04-29T00:06:00.824Z"
   },
   {
    "duration": 123,
    "start_time": "2023-04-29T00:06:00.840Z"
   },
   {
    "duration": 20,
    "start_time": "2023-04-29T00:06:00.965Z"
   },
   {
    "duration": 32,
    "start_time": "2023-04-29T00:06:00.986Z"
   },
   {
    "duration": 18,
    "start_time": "2023-04-29T00:06:01.020Z"
   },
   {
    "duration": 29,
    "start_time": "2023-04-29T00:06:01.040Z"
   },
   {
    "duration": 15,
    "start_time": "2023-04-29T00:06:01.071Z"
   },
   {
    "duration": 25,
    "start_time": "2023-04-29T00:06:01.088Z"
   },
   {
    "duration": 244,
    "start_time": "2023-04-29T00:06:01.114Z"
   },
   {
    "duration": 210,
    "start_time": "2023-04-29T00:06:01.361Z"
   },
   {
    "duration": 203,
    "start_time": "2023-04-29T00:06:01.573Z"
   },
   {
    "duration": 501,
    "start_time": "2023-04-29T00:06:01.784Z"
   },
   {
    "duration": 193,
    "start_time": "2023-04-29T00:06:02.287Z"
   },
   {
    "duration": 4,
    "start_time": "2023-04-29T00:06:02.482Z"
   },
   {
    "duration": 24,
    "start_time": "2023-04-29T00:06:02.488Z"
   },
   {
    "duration": 24,
    "start_time": "2023-04-29T00:06:02.513Z"
   },
   {
    "duration": 38,
    "start_time": "2023-04-29T00:06:02.539Z"
   },
   {
    "duration": 39,
    "start_time": "2023-04-29T00:06:02.579Z"
   },
   {
    "duration": 4,
    "start_time": "2023-04-29T00:06:02.622Z"
   },
   {
    "duration": 59,
    "start_time": "2023-04-29T00:06:02.628Z"
   },
   {
    "duration": 2,
    "start_time": "2023-04-29T00:06:02.689Z"
   },
   {
    "duration": 24,
    "start_time": "2023-04-29T00:06:02.692Z"
   },
   {
    "duration": 174,
    "start_time": "2023-04-29T00:06:02.718Z"
   },
   {
    "duration": 110,
    "start_time": "2023-04-29T00:06:02.894Z"
   },
   {
    "duration": 2,
    "start_time": "2023-04-29T00:06:11.105Z"
   },
   {
    "duration": 110727,
    "start_time": "2023-04-29T00:06:12.176Z"
   },
   {
    "duration": 4,
    "start_time": "2023-04-29T00:08:02.905Z"
   },
   {
    "duration": 109455,
    "start_time": "2023-04-29T00:13:53.529Z"
   },
   {
    "duration": 4,
    "start_time": "2023-04-29T00:15:42.986Z"
   },
   {
    "duration": 3,
    "start_time": "2023-04-29T00:17:48.046Z"
   },
   {
    "duration": 32574,
    "start_time": "2023-04-29T00:17:53.603Z"
   },
   {
    "duration": 0,
    "start_time": "2023-04-29T00:18:26.179Z"
   },
   {
    "duration": 51,
    "start_time": "2023-04-29T05:48:16.442Z"
   },
   {
    "duration": 1755,
    "start_time": "2023-04-29T05:48:22.726Z"
   },
   {
    "duration": 2015,
    "start_time": "2023-04-29T05:48:24.484Z"
   },
   {
    "duration": 74,
    "start_time": "2023-04-29T05:48:26.501Z"
   },
   {
    "duration": 46,
    "start_time": "2023-04-29T05:48:26.579Z"
   },
   {
    "duration": 62,
    "start_time": "2023-04-29T05:48:26.627Z"
   },
   {
    "duration": 4,
    "start_time": "2023-04-29T05:48:26.692Z"
   },
   {
    "duration": 8,
    "start_time": "2023-04-29T05:48:26.698Z"
   },
   {
    "duration": 5,
    "start_time": "2023-04-29T05:48:26.708Z"
   },
   {
    "duration": 9,
    "start_time": "2023-04-29T05:48:26.715Z"
   },
   {
    "duration": 8,
    "start_time": "2023-04-29T05:48:26.727Z"
   },
   {
    "duration": 176,
    "start_time": "2023-04-29T05:48:26.738Z"
   },
   {
    "duration": 19,
    "start_time": "2023-04-29T05:48:26.916Z"
   },
   {
    "duration": 17,
    "start_time": "2023-04-29T05:48:26.937Z"
   },
   {
    "duration": 45,
    "start_time": "2023-04-29T05:48:26.957Z"
   },
   {
    "duration": 40,
    "start_time": "2023-04-29T05:48:27.005Z"
   },
   {
    "duration": 45,
    "start_time": "2023-04-29T05:48:27.048Z"
   },
   {
    "duration": 21,
    "start_time": "2023-04-29T05:48:27.096Z"
   },
   {
    "duration": 282,
    "start_time": "2023-04-29T05:48:27.119Z"
   },
   {
    "duration": 274,
    "start_time": "2023-04-29T05:48:27.403Z"
   },
   {
    "duration": 353,
    "start_time": "2023-04-29T05:48:27.679Z"
   },
   {
    "duration": 646,
    "start_time": "2023-04-29T05:48:28.035Z"
   },
   {
    "duration": 196,
    "start_time": "2023-04-29T05:48:28.682Z"
   },
   {
    "duration": 4,
    "start_time": "2023-04-29T05:48:28.885Z"
   },
   {
    "duration": 7,
    "start_time": "2023-04-29T05:48:28.890Z"
   },
   {
    "duration": 5,
    "start_time": "2023-04-29T05:48:28.899Z"
   },
   {
    "duration": 16,
    "start_time": "2023-04-29T05:48:28.906Z"
   },
   {
    "duration": 26,
    "start_time": "2023-04-29T05:48:28.924Z"
   },
   {
    "duration": 6,
    "start_time": "2023-04-29T05:48:28.956Z"
   },
   {
    "duration": 34,
    "start_time": "2023-04-29T05:48:28.985Z"
   },
   {
    "duration": 3,
    "start_time": "2023-04-29T05:48:29.021Z"
   },
   {
    "duration": 5,
    "start_time": "2023-04-29T05:48:29.027Z"
   },
   {
    "duration": 9,
    "start_time": "2023-04-29T05:48:29.035Z"
   },
   {
    "duration": 27433,
    "start_time": "2023-04-29T05:48:29.045Z"
   },
   {
    "duration": 0,
    "start_time": "2023-04-29T05:48:56.480Z"
   },
   {
    "duration": 119900,
    "start_time": "2023-04-29T05:49:42.291Z"
   },
   {
    "duration": 1684,
    "start_time": "2023-05-01T20:32:28.107Z"
   },
   {
    "duration": 2363,
    "start_time": "2023-05-01T20:32:29.794Z"
   },
   {
    "duration": 62,
    "start_time": "2023-05-01T20:32:32.158Z"
   },
   {
    "duration": 39,
    "start_time": "2023-05-01T20:32:32.222Z"
   },
   {
    "duration": 79,
    "start_time": "2023-05-01T20:32:32.263Z"
   },
   {
    "duration": 3,
    "start_time": "2023-05-01T20:32:32.344Z"
   },
   {
    "duration": 22,
    "start_time": "2023-05-01T20:32:32.349Z"
   },
   {
    "duration": 16,
    "start_time": "2023-05-01T20:32:32.372Z"
   },
   {
    "duration": 7,
    "start_time": "2023-05-01T20:32:32.392Z"
   },
   {
    "duration": 7,
    "start_time": "2023-05-01T20:32:32.404Z"
   },
   {
    "duration": 127,
    "start_time": "2023-05-01T20:32:32.413Z"
   },
   {
    "duration": 13,
    "start_time": "2023-05-01T20:32:32.541Z"
   },
   {
    "duration": 31,
    "start_time": "2023-05-01T20:32:32.555Z"
   },
   {
    "duration": 20,
    "start_time": "2023-05-01T20:32:32.588Z"
   },
   {
    "duration": 21,
    "start_time": "2023-05-01T20:32:32.610Z"
   },
   {
    "duration": 15,
    "start_time": "2023-05-01T20:32:32.633Z"
   },
   {
    "duration": 43,
    "start_time": "2023-05-01T20:32:32.650Z"
   },
   {
    "duration": 248,
    "start_time": "2023-05-01T20:32:32.695Z"
   },
   {
    "duration": 213,
    "start_time": "2023-05-01T20:32:32.944Z"
   },
   {
    "duration": 241,
    "start_time": "2023-05-01T20:32:33.159Z"
   },
   {
    "duration": 652,
    "start_time": "2023-05-01T20:32:33.402Z"
   },
   {
    "duration": 277,
    "start_time": "2023-05-01T20:32:34.056Z"
   },
   {
    "duration": 4,
    "start_time": "2023-05-01T20:32:34.334Z"
   },
   {
    "duration": 9,
    "start_time": "2023-05-01T20:32:34.339Z"
   },
   {
    "duration": 8,
    "start_time": "2023-05-01T20:32:34.349Z"
   },
   {
    "duration": 9,
    "start_time": "2023-05-01T20:32:34.359Z"
   },
   {
    "duration": 46,
    "start_time": "2023-05-01T20:32:34.370Z"
   },
   {
    "duration": 7,
    "start_time": "2023-05-01T20:32:34.420Z"
   },
   {
    "duration": 33,
    "start_time": "2023-05-01T20:32:34.428Z"
   },
   {
    "duration": 2,
    "start_time": "2023-05-01T20:32:34.463Z"
   },
   {
    "duration": 3,
    "start_time": "2023-05-01T20:32:34.467Z"
   },
   {
    "duration": 4,
    "start_time": "2023-05-01T20:32:34.485Z"
   },
   {
    "duration": 70,
    "start_time": "2023-05-01T20:32:34.493Z"
   },
   {
    "duration": 0,
    "start_time": "2023-05-01T20:32:34.565Z"
   },
   {
    "duration": 4,
    "start_time": "2023-05-01T20:57:05.264Z"
   },
   {
    "duration": 3,
    "start_time": "2023-05-01T20:57:25.798Z"
   },
   {
    "duration": 147,
    "start_time": "2023-05-01T20:58:56.705Z"
   },
   {
    "duration": 55,
    "start_time": "2023-05-01T20:59:42.105Z"
   },
   {
    "duration": 45,
    "start_time": "2023-05-01T21:00:07.601Z"
   },
   {
    "duration": 2943,
    "start_time": "2023-05-01T21:01:39.093Z"
   },
   {
    "duration": 22,
    "start_time": "2023-05-01T21:01:48.900Z"
   },
   {
    "duration": 18460,
    "start_time": "2023-05-01T21:01:51.210Z"
   },
   {
    "duration": 3,
    "start_time": "2023-05-01T21:05:20.532Z"
   },
   {
    "duration": 3,
    "start_time": "2023-05-01T21:05:23.310Z"
   },
   {
    "duration": 63400,
    "start_time": "2023-05-01T21:05:25.702Z"
   },
   {
    "duration": 4,
    "start_time": "2023-05-01T21:06:55.937Z"
   },
   {
    "duration": 5,
    "start_time": "2023-05-01T21:06:58.507Z"
   },
   {
    "duration": 11,
    "start_time": "2023-05-01T21:07:12.821Z"
   },
   {
    "duration": 4,
    "start_time": "2023-05-01T21:07:25.698Z"
   },
   {
    "duration": 7,
    "start_time": "2023-05-01T21:08:07.994Z"
   },
   {
    "duration": 5,
    "start_time": "2023-05-01T21:08:14.224Z"
   },
   {
    "duration": 42,
    "start_time": "2023-05-01T21:10:03.522Z"
   },
   {
    "duration": 5,
    "start_time": "2023-05-01T21:11:03.941Z"
   },
   {
    "duration": 4,
    "start_time": "2023-05-01T21:11:05.625Z"
   },
   {
    "duration": 5,
    "start_time": "2023-05-01T21:11:19.748Z"
   },
   {
    "duration": 48907,
    "start_time": "2023-05-01T21:26:05.716Z"
   },
   {
    "duration": 0,
    "start_time": "2023-05-01T21:26:54.625Z"
   },
   {
    "duration": 49169,
    "start_time": "2023-05-01T21:27:35.983Z"
   },
   {
    "duration": 81643,
    "start_time": "2023-05-01T21:29:28.350Z"
   },
   {
    "duration": 80288,
    "start_time": "2023-05-01T21:32:08.143Z"
   },
   {
    "duration": 3,
    "start_time": "2023-05-01T21:34:44.574Z"
   },
   {
    "duration": 3,
    "start_time": "2023-05-01T21:38:33.333Z"
   },
   {
    "duration": 4,
    "start_time": "2023-05-01T21:38:41.180Z"
   },
   {
    "duration": 5,
    "start_time": "2023-05-01T21:39:15.622Z"
   },
   {
    "duration": 3,
    "start_time": "2023-05-01T21:39:41.225Z"
   },
   {
    "duration": 10,
    "start_time": "2023-05-01T21:39:44.291Z"
   },
   {
    "duration": 3,
    "start_time": "2023-05-01T21:40:27.081Z"
   },
   {
    "duration": 4,
    "start_time": "2023-05-01T21:40:31.103Z"
   },
   {
    "duration": 3,
    "start_time": "2023-05-01T21:41:13.504Z"
   },
   {
    "duration": 4,
    "start_time": "2023-05-01T21:41:19.312Z"
   },
   {
    "duration": 2,
    "start_time": "2023-05-01T21:41:33.888Z"
   },
   {
    "duration": 3,
    "start_time": "2023-05-01T21:41:54.269Z"
   },
   {
    "duration": 4,
    "start_time": "2023-05-01T21:41:56.334Z"
   },
   {
    "duration": 3539489,
    "start_time": "2023-05-01T21:43:01.258Z"
   },
   {
    "duration": 6,
    "start_time": "2023-05-01T22:42:00.749Z"
   },
   {
    "duration": 211,
    "start_time": "2023-05-01T22:42:00.757Z"
   },
   {
    "duration": 45,
    "start_time": "2023-05-02T07:22:06.233Z"
   },
   {
    "duration": 1603,
    "start_time": "2023-05-02T07:22:27.340Z"
   },
   {
    "duration": 2115,
    "start_time": "2023-05-02T07:22:28.945Z"
   },
   {
    "duration": 45,
    "start_time": "2023-05-02T07:22:31.062Z"
   },
   {
    "duration": 39,
    "start_time": "2023-05-02T07:22:31.110Z"
   },
   {
    "duration": 54,
    "start_time": "2023-05-02T07:22:31.150Z"
   },
   {
    "duration": 3,
    "start_time": "2023-05-02T07:22:31.206Z"
   },
   {
    "duration": 69,
    "start_time": "2023-05-02T07:22:31.211Z"
   },
   {
    "duration": 23,
    "start_time": "2023-05-02T07:22:31.282Z"
   },
   {
    "duration": 28,
    "start_time": "2023-05-02T07:22:31.307Z"
   },
   {
    "duration": 36,
    "start_time": "2023-05-02T07:22:31.338Z"
   },
   {
    "duration": 108,
    "start_time": "2023-05-02T07:22:31.376Z"
   },
   {
    "duration": 18,
    "start_time": "2023-05-02T07:22:31.485Z"
   },
   {
    "duration": 26,
    "start_time": "2023-05-02T07:22:31.504Z"
   },
   {
    "duration": 23,
    "start_time": "2023-05-02T07:22:31.532Z"
   },
   {
    "duration": 19,
    "start_time": "2023-05-02T07:22:31.556Z"
   },
   {
    "duration": 21,
    "start_time": "2023-05-02T07:22:31.576Z"
   },
   {
    "duration": 14,
    "start_time": "2023-05-02T07:22:31.599Z"
   },
   {
    "duration": 212,
    "start_time": "2023-05-02T07:22:31.614Z"
   },
   {
    "duration": 187,
    "start_time": "2023-05-02T07:22:31.827Z"
   },
   {
    "duration": 180,
    "start_time": "2023-05-02T07:22:32.016Z"
   },
   {
    "duration": 619,
    "start_time": "2023-05-02T07:22:32.197Z"
   },
   {
    "duration": 387,
    "start_time": "2023-05-02T07:22:32.818Z"
   },
   {
    "duration": 3,
    "start_time": "2023-05-02T07:22:33.207Z"
   },
   {
    "duration": 9,
    "start_time": "2023-05-02T07:22:33.211Z"
   },
   {
    "duration": 6,
    "start_time": "2023-05-02T07:22:33.222Z"
   },
   {
    "duration": 66,
    "start_time": "2023-05-02T07:22:33.230Z"
   },
   {
    "duration": 49,
    "start_time": "2023-05-02T07:22:33.299Z"
   },
   {
    "duration": 12,
    "start_time": "2023-05-02T07:22:33.394Z"
   },
   {
    "duration": 114,
    "start_time": "2023-05-02T07:22:33.408Z"
   },
   {
    "duration": 3,
    "start_time": "2023-05-02T07:22:33.524Z"
   },
   {
    "duration": 302311,
    "start_time": "2023-05-02T07:22:33.529Z"
   },
   {
    "duration": 0,
    "start_time": "2023-05-02T07:27:35.841Z"
   },
   {
    "duration": 0,
    "start_time": "2023-05-02T07:27:35.842Z"
   },
   {
    "duration": 11408,
    "start_time": "2023-05-02T07:27:40.393Z"
   },
   {
    "duration": 1595,
    "start_time": "2023-05-02T07:27:54.810Z"
   },
   {
    "duration": 1781,
    "start_time": "2023-05-02T07:30:16.514Z"
   },
   {
    "duration": 19,
    "start_time": "2023-05-02T07:30:18.297Z"
   },
   {
    "duration": 16,
    "start_time": "2023-05-02T07:31:17.165Z"
   },
   {
    "duration": 35,
    "start_time": "2023-05-02T07:31:32.216Z"
   },
   {
    "duration": 10,
    "start_time": "2023-05-02T07:49:36.504Z"
   },
   {
    "duration": 612,
    "start_time": "2023-05-02T07:49:46.525Z"
   },
   {
    "duration": 620,
    "start_time": "2023-05-02T07:50:53.623Z"
   },
   {
    "duration": 16,
    "start_time": "2023-05-02T07:50:57.831Z"
   },
   {
    "duration": 675,
    "start_time": "2023-05-02T07:51:08.547Z"
   },
   {
    "duration": 1287,
    "start_time": "2023-05-02T07:51:30.615Z"
   },
   {
    "duration": 1227,
    "start_time": "2023-05-02T07:56:15.289Z"
   },
   {
    "duration": 11,
    "start_time": "2023-05-02T07:56:57.507Z"
   },
   {
    "duration": 320,
    "start_time": "2023-05-02T07:57:06.311Z"
   },
   {
    "duration": 315,
    "start_time": "2023-05-02T07:57:41.813Z"
   },
   {
    "duration": 553,
    "start_time": "2023-05-02T07:57:57.359Z"
   },
   {
    "duration": 1373,
    "start_time": "2023-05-02T08:11:20.406Z"
   },
   {
    "duration": 1382,
    "start_time": "2023-05-02T08:11:21.780Z"
   },
   {
    "duration": 3,
    "start_time": "2023-05-02T08:35:36.200Z"
   },
   {
    "duration": 11,
    "start_time": "2023-05-02T08:40:07.755Z"
   },
   {
    "duration": 3,
    "start_time": "2023-05-02T08:40:14.717Z"
   },
   {
    "duration": 12,
    "start_time": "2023-05-02T08:40:17.797Z"
   },
   {
    "duration": 11,
    "start_time": "2023-05-02T08:40:37.690Z"
   },
   {
    "duration": 5,
    "start_time": "2023-05-02T08:40:59.945Z"
   },
   {
    "duration": 7,
    "start_time": "2023-05-02T08:41:04.421Z"
   },
   {
    "duration": 5,
    "start_time": "2023-05-02T08:41:09.405Z"
   },
   {
    "duration": 5,
    "start_time": "2023-05-02T08:41:12.553Z"
   },
   {
    "duration": 9,
    "start_time": "2023-05-02T08:42:06.156Z"
   },
   {
    "duration": 9,
    "start_time": "2023-05-02T08:42:20.180Z"
   },
   {
    "duration": 1468,
    "start_time": "2023-05-02T08:42:34.230Z"
   },
   {
    "duration": 14,
    "start_time": "2023-05-02T08:42:48.809Z"
   },
   {
    "duration": 85,
    "start_time": "2023-05-02T08:43:56.109Z"
   },
   {
    "duration": 65,
    "start_time": "2023-05-02T08:44:36.933Z"
   },
   {
    "duration": 2,
    "start_time": "2023-05-02T08:46:44.426Z"
   },
   {
    "duration": 48,
    "start_time": "2023-05-02T08:46:47.253Z"
   },
   {
    "duration": 12,
    "start_time": "2023-05-02T08:53:24.328Z"
   },
   {
    "duration": 21,
    "start_time": "2023-05-02T08:53:41.175Z"
   },
   {
    "duration": 43,
    "start_time": "2023-05-02T09:01:18.714Z"
   },
   {
    "duration": 37,
    "start_time": "2023-05-02T09:03:51.340Z"
   },
   {
    "duration": 4,
    "start_time": "2023-05-02T09:04:32.830Z"
   },
   {
    "duration": 677,
    "start_time": "2023-05-02T09:04:32.835Z"
   },
   {
    "duration": 41,
    "start_time": "2023-05-02T09:04:33.513Z"
   },
   {
    "duration": 53,
    "start_time": "2023-05-02T09:04:33.556Z"
   },
   {
    "duration": 40,
    "start_time": "2023-05-02T09:04:33.611Z"
   },
   {
    "duration": 3,
    "start_time": "2023-05-02T09:04:33.653Z"
   },
   {
    "duration": 11,
    "start_time": "2023-05-02T09:04:33.657Z"
   },
   {
    "duration": 25,
    "start_time": "2023-05-02T09:04:33.670Z"
   },
   {
    "duration": 4,
    "start_time": "2023-05-02T09:04:33.699Z"
   },
   {
    "duration": 12,
    "start_time": "2023-05-02T09:04:33.704Z"
   },
   {
    "duration": 103,
    "start_time": "2023-05-02T09:04:33.717Z"
   },
   {
    "duration": 1429,
    "start_time": "2023-05-02T09:04:33.822Z"
   },
   {
    "duration": 1393,
    "start_time": "2023-05-02T09:04:35.252Z"
   },
   {
    "duration": 56,
    "start_time": "2023-05-02T09:04:36.646Z"
   },
   {
    "duration": 44,
    "start_time": "2023-05-02T09:04:36.704Z"
   },
   {
    "duration": 12,
    "start_time": "2023-05-02T09:04:36.750Z"
   },
   {
    "duration": 36,
    "start_time": "2023-05-02T09:04:36.763Z"
   },
   {
    "duration": 23,
    "start_time": "2023-05-02T09:04:36.800Z"
   },
   {
    "duration": 197,
    "start_time": "2023-05-02T09:04:36.825Z"
   },
   {
    "duration": 188,
    "start_time": "2023-05-02T09:04:37.024Z"
   },
   {
    "duration": 197,
    "start_time": "2023-05-02T09:04:37.214Z"
   },
   {
    "duration": 461,
    "start_time": "2023-05-02T09:04:37.412Z"
   },
   {
    "duration": 205,
    "start_time": "2023-05-02T09:04:37.874Z"
   },
   {
    "duration": 4,
    "start_time": "2023-05-02T09:04:38.082Z"
   },
   {
    "duration": 7,
    "start_time": "2023-05-02T09:04:38.094Z"
   },
   {
    "duration": 6,
    "start_time": "2023-05-02T09:04:38.103Z"
   },
   {
    "duration": 21,
    "start_time": "2023-05-02T09:04:38.111Z"
   },
   {
    "duration": 33,
    "start_time": "2023-05-02T09:04:38.135Z"
   },
   {
    "duration": 0,
    "start_time": "2023-05-02T09:04:38.170Z"
   },
   {
    "duration": 0,
    "start_time": "2023-05-02T09:04:38.171Z"
   },
   {
    "duration": 0,
    "start_time": "2023-05-02T09:04:38.172Z"
   },
   {
    "duration": 0,
    "start_time": "2023-05-02T09:04:38.173Z"
   },
   {
    "duration": 0,
    "start_time": "2023-05-02T09:04:38.174Z"
   },
   {
    "duration": 0,
    "start_time": "2023-05-02T09:04:38.195Z"
   },
   {
    "duration": 0,
    "start_time": "2023-05-02T09:04:38.196Z"
   },
   {
    "duration": 0,
    "start_time": "2023-05-02T09:04:38.197Z"
   },
   {
    "duration": 10,
    "start_time": "2023-05-02T09:11:37.346Z"
   },
   {
    "duration": 36,
    "start_time": "2023-05-02T09:12:06.725Z"
   },
   {
    "duration": 691,
    "start_time": "2023-05-02T09:12:32.720Z"
   },
   {
    "duration": 44,
    "start_time": "2023-05-02T09:12:40.821Z"
   },
   {
    "duration": 42,
    "start_time": "2023-05-02T09:12:41.576Z"
   },
   {
    "duration": 16,
    "start_time": "2023-05-02T09:12:43.682Z"
   },
   {
    "duration": 14,
    "start_time": "2023-05-02T09:12:46.576Z"
   },
   {
    "duration": 27,
    "start_time": "2023-05-02T09:12:48.126Z"
   },
   {
    "duration": 51,
    "start_time": "2023-05-02T09:12:53.022Z"
   },
   {
    "duration": 81,
    "start_time": "2023-05-02T09:14:30.903Z"
   },
   {
    "duration": 81,
    "start_time": "2023-05-02T09:15:00.785Z"
   },
   {
    "duration": 3498,
    "start_time": "2023-05-02T09:15:42.526Z"
   },
   {
    "duration": 3473,
    "start_time": "2023-05-02T09:16:17.317Z"
   },
   {
    "duration": 4131,
    "start_time": "2023-05-02T09:16:35.420Z"
   },
   {
    "duration": 3429,
    "start_time": "2023-05-02T09:18:23.416Z"
   },
   {
    "duration": 1507,
    "start_time": "2023-05-02T09:19:43.015Z"
   },
   {
    "duration": 5,
    "start_time": "2023-05-02T09:21:26.385Z"
   },
   {
    "duration": 679,
    "start_time": "2023-05-02T09:21:26.393Z"
   },
   {
    "duration": 59,
    "start_time": "2023-05-02T09:21:27.074Z"
   },
   {
    "duration": 69,
    "start_time": "2023-05-02T09:21:27.136Z"
   },
   {
    "duration": 56,
    "start_time": "2023-05-02T09:21:27.208Z"
   },
   {
    "duration": 4,
    "start_time": "2023-05-02T09:21:27.266Z"
   },
   {
    "duration": 29,
    "start_time": "2023-05-02T09:21:27.272Z"
   },
   {
    "duration": 24,
    "start_time": "2023-05-02T09:21:27.303Z"
   },
   {
    "duration": 33,
    "start_time": "2023-05-02T09:21:27.329Z"
   },
   {
    "duration": 18,
    "start_time": "2023-05-02T09:21:27.363Z"
   },
   {
    "duration": 116,
    "start_time": "2023-05-02T09:21:27.383Z"
   },
   {
    "duration": 1565,
    "start_time": "2023-05-02T09:21:27.501Z"
   },
   {
    "duration": 1444,
    "start_time": "2023-05-02T09:21:29.067Z"
   },
   {
    "duration": 106,
    "start_time": "2023-05-02T09:21:30.513Z"
   },
   {
    "duration": 105,
    "start_time": "2023-05-02T09:21:30.620Z"
   },
   {
    "duration": 13,
    "start_time": "2023-05-02T09:21:30.727Z"
   },
   {
    "duration": 57,
    "start_time": "2023-05-02T09:21:30.742Z"
   },
   {
    "duration": 595,
    "start_time": "2023-05-02T09:21:30.808Z"
   },
   {
    "duration": 4404,
    "start_time": "2023-05-02T09:21:31.409Z"
   },
   {
    "duration": 1437,
    "start_time": "2023-05-02T09:21:35.815Z"
   },
   {
    "duration": 223,
    "start_time": "2023-05-02T09:21:37.254Z"
   },
   {
    "duration": 234,
    "start_time": "2023-05-02T09:21:37.479Z"
   },
   {
    "duration": 191,
    "start_time": "2023-05-02T09:21:37.715Z"
   },
   {
    "duration": 500,
    "start_time": "2023-05-02T09:21:37.910Z"
   },
   {
    "duration": 176,
    "start_time": "2023-05-02T09:21:38.412Z"
   },
   {
    "duration": 3,
    "start_time": "2023-05-02T09:21:38.594Z"
   },
   {
    "duration": 7,
    "start_time": "2023-05-02T09:21:38.603Z"
   },
   {
    "duration": 8,
    "start_time": "2023-05-02T09:21:38.612Z"
   },
   {
    "duration": 47,
    "start_time": "2023-05-02T09:21:38.622Z"
   },
   {
    "duration": 21,
    "start_time": "2023-05-02T09:21:38.671Z"
   },
   {
    "duration": 10,
    "start_time": "2023-05-02T09:21:38.694Z"
   },
   {
    "duration": 29,
    "start_time": "2023-05-02T09:21:38.707Z"
   },
   {
    "duration": 2,
    "start_time": "2023-05-02T09:21:38.738Z"
   },
   {
    "duration": 16,
    "start_time": "2023-05-02T09:21:38.742Z"
   },
   {
    "duration": 0,
    "start_time": "2023-05-02T09:21:38.760Z"
   },
   {
    "duration": 0,
    "start_time": "2023-05-02T09:21:38.762Z"
   },
   {
    "duration": 0,
    "start_time": "2023-05-02T09:21:38.763Z"
   },
   {
    "duration": 0,
    "start_time": "2023-05-02T09:21:38.764Z"
   },
   {
    "duration": 220,
    "start_time": "2023-05-02T09:30:38.824Z"
   },
   {
    "duration": 51,
    "start_time": "2023-05-02T17:19:37.504Z"
   },
   {
    "duration": 1641,
    "start_time": "2023-05-02T17:19:40.577Z"
   },
   {
    "duration": 2301,
    "start_time": "2023-05-02T17:19:42.220Z"
   },
   {
    "duration": 46,
    "start_time": "2023-05-02T17:19:44.523Z"
   },
   {
    "duration": 39,
    "start_time": "2023-05-02T17:19:44.571Z"
   },
   {
    "duration": 40,
    "start_time": "2023-05-02T17:19:44.612Z"
   },
   {
    "duration": 3,
    "start_time": "2023-05-02T17:19:44.654Z"
   },
   {
    "duration": 26,
    "start_time": "2023-05-02T17:19:44.659Z"
   },
   {
    "duration": 4,
    "start_time": "2023-05-02T17:19:44.687Z"
   },
   {
    "duration": 9,
    "start_time": "2023-05-02T17:19:44.692Z"
   },
   {
    "duration": 5,
    "start_time": "2023-05-02T17:19:44.704Z"
   },
   {
    "duration": 110,
    "start_time": "2023-05-02T17:19:44.710Z"
   },
   {
    "duration": 1486,
    "start_time": "2023-05-02T17:19:44.822Z"
   },
   {
    "duration": 1463,
    "start_time": "2023-05-02T17:19:46.310Z"
   },
   {
    "duration": 64,
    "start_time": "2023-05-02T17:19:47.775Z"
   },
   {
    "duration": 48,
    "start_time": "2023-05-02T17:19:47.841Z"
   },
   {
    "duration": 13,
    "start_time": "2023-05-02T17:19:47.891Z"
   },
   {
    "duration": 22,
    "start_time": "2023-05-02T17:19:47.906Z"
   },
   {
    "duration": 48,
    "start_time": "2023-05-02T17:19:47.929Z"
   },
   {
    "duration": 4023,
    "start_time": "2023-05-02T17:19:47.979Z"
   },
   {
    "duration": 1639,
    "start_time": "2023-05-02T17:19:52.004Z"
   },
   {
    "duration": 202,
    "start_time": "2023-05-02T17:19:53.645Z"
   },
   {
    "duration": 255,
    "start_time": "2023-05-02T17:19:53.849Z"
   },
   {
    "duration": 295,
    "start_time": "2023-05-02T17:19:54.107Z"
   },
   {
    "duration": 398,
    "start_time": "2023-05-02T17:19:54.404Z"
   },
   {
    "duration": 184,
    "start_time": "2023-05-02T17:19:54.804Z"
   },
   {
    "duration": 3,
    "start_time": "2023-05-02T17:19:54.990Z"
   },
   {
    "duration": 10,
    "start_time": "2023-05-02T17:19:54.994Z"
   },
   {
    "duration": 13,
    "start_time": "2023-05-02T17:19:55.007Z"
   },
   {
    "duration": 23,
    "start_time": "2023-05-02T17:19:55.021Z"
   },
   {
    "duration": 18,
    "start_time": "2023-05-02T17:19:55.046Z"
   },
   {
    "duration": 3,
    "start_time": "2023-05-02T17:19:55.065Z"
   },
   {
    "duration": 40,
    "start_time": "2023-05-02T17:19:55.070Z"
   },
   {
    "duration": 79,
    "start_time": "2023-05-02T17:19:55.111Z"
   },
   {
    "duration": 0,
    "start_time": "2023-05-02T17:19:55.191Z"
   },
   {
    "duration": 0,
    "start_time": "2023-05-02T17:19:55.193Z"
   },
   {
    "duration": 0,
    "start_time": "2023-05-02T17:19:55.194Z"
   },
   {
    "duration": 0,
    "start_time": "2023-05-02T17:19:55.195Z"
   },
   {
    "duration": 0,
    "start_time": "2023-05-02T17:19:55.196Z"
   },
   {
    "duration": 0,
    "start_time": "2023-05-02T17:19:55.197Z"
   },
   {
    "duration": 4,
    "start_time": "2023-05-02T17:20:35.650Z"
   },
   {
    "duration": 11,
    "start_time": "2023-05-02T17:20:42.729Z"
   },
   {
    "duration": 2,
    "start_time": "2023-05-02T17:21:00.132Z"
   },
   {
    "duration": 16,
    "start_time": "2023-05-02T17:21:02.632Z"
   },
   {
    "duration": 4,
    "start_time": "2023-05-02T17:21:37.759Z"
   },
   {
    "duration": 799,
    "start_time": "2023-05-02T17:21:37.764Z"
   },
   {
    "duration": 49,
    "start_time": "2023-05-02T17:21:38.565Z"
   },
   {
    "duration": 40,
    "start_time": "2023-05-02T17:21:38.615Z"
   },
   {
    "duration": 67,
    "start_time": "2023-05-02T17:21:38.658Z"
   },
   {
    "duration": 4,
    "start_time": "2023-05-02T17:21:38.726Z"
   },
   {
    "duration": 13,
    "start_time": "2023-05-02T17:21:38.732Z"
   },
   {
    "duration": 9,
    "start_time": "2023-05-02T17:21:38.747Z"
   },
   {
    "duration": 42,
    "start_time": "2023-05-02T17:21:38.758Z"
   },
   {
    "duration": 5,
    "start_time": "2023-05-02T17:21:38.801Z"
   },
   {
    "duration": 96,
    "start_time": "2023-05-02T17:21:38.807Z"
   },
   {
    "duration": 1604,
    "start_time": "2023-05-02T17:21:38.905Z"
   },
   {
    "duration": 1365,
    "start_time": "2023-05-02T17:21:40.512Z"
   },
   {
    "duration": 59,
    "start_time": "2023-05-02T17:21:41.879Z"
   },
   {
    "duration": 36,
    "start_time": "2023-05-02T17:21:41.940Z"
   },
   {
    "duration": 20,
    "start_time": "2023-05-02T17:21:41.985Z"
   },
   {
    "duration": 10,
    "start_time": "2023-05-02T17:21:42.006Z"
   },
   {
    "duration": 17,
    "start_time": "2023-05-02T17:21:42.018Z"
   },
   {
    "duration": 4868,
    "start_time": "2023-05-02T17:21:42.037Z"
   },
   {
    "duration": 1904,
    "start_time": "2023-05-02T17:21:46.906Z"
   },
   {
    "duration": 225,
    "start_time": "2023-05-02T17:21:48.812Z"
   },
   {
    "duration": 370,
    "start_time": "2023-05-02T17:21:49.039Z"
   },
   {
    "duration": 224,
    "start_time": "2023-05-02T17:21:49.411Z"
   },
   {
    "duration": 484,
    "start_time": "2023-05-02T17:21:49.638Z"
   },
   {
    "duration": 198,
    "start_time": "2023-05-02T17:21:50.124Z"
   },
   {
    "duration": 4,
    "start_time": "2023-05-02T17:21:50.323Z"
   },
   {
    "duration": 15,
    "start_time": "2023-05-02T17:21:50.329Z"
   },
   {
    "duration": 5,
    "start_time": "2023-05-02T17:21:50.345Z"
   },
   {
    "duration": 8,
    "start_time": "2023-05-02T17:22:32.365Z"
   },
   {
    "duration": 8,
    "start_time": "2023-05-02T17:22:38.265Z"
   },
   {
    "duration": 11,
    "start_time": "2023-05-02T17:22:50.659Z"
   },
   {
    "duration": 3486,
    "start_time": "2023-05-02T17:45:51.709Z"
   },
   {
    "duration": 1558,
    "start_time": "2023-05-02T17:45:55.197Z"
   },
   {
    "duration": 1591,
    "start_time": "2023-05-02T17:46:27.841Z"
   },
   {
    "duration": 4,
    "start_time": "2023-05-02T17:48:28.716Z"
   },
   {
    "duration": 755,
    "start_time": "2023-05-02T17:48:28.722Z"
   },
   {
    "duration": 45,
    "start_time": "2023-05-02T17:48:29.479Z"
   },
   {
    "duration": 41,
    "start_time": "2023-05-02T17:48:29.526Z"
   },
   {
    "duration": 58,
    "start_time": "2023-05-02T17:48:29.569Z"
   },
   {
    "duration": 3,
    "start_time": "2023-05-02T17:48:29.630Z"
   },
   {
    "duration": 8,
    "start_time": "2023-05-02T17:48:29.635Z"
   },
   {
    "duration": 8,
    "start_time": "2023-05-02T17:48:29.645Z"
   },
   {
    "duration": 31,
    "start_time": "2023-05-02T17:48:29.655Z"
   },
   {
    "duration": 7,
    "start_time": "2023-05-02T17:48:29.689Z"
   },
   {
    "duration": 114,
    "start_time": "2023-05-02T17:48:29.699Z"
   },
   {
    "duration": 1634,
    "start_time": "2023-05-02T17:48:29.815Z"
   },
   {
    "duration": 1358,
    "start_time": "2023-05-02T17:48:31.451Z"
   },
   {
    "duration": 48,
    "start_time": "2023-05-02T17:48:32.810Z"
   },
   {
    "duration": 53,
    "start_time": "2023-05-02T17:48:32.860Z"
   },
   {
    "duration": 14,
    "start_time": "2023-05-02T17:48:32.915Z"
   },
   {
    "duration": 9,
    "start_time": "2023-05-02T17:48:32.930Z"
   },
   {
    "duration": 45,
    "start_time": "2023-05-02T17:48:32.940Z"
   },
   {
    "duration": 4205,
    "start_time": "2023-05-02T17:48:32.987Z"
   },
   {
    "duration": 1673,
    "start_time": "2023-05-02T17:48:37.193Z"
   },
   {
    "duration": 199,
    "start_time": "2023-05-02T17:48:38.868Z"
   },
   {
    "duration": 207,
    "start_time": "2023-05-02T17:48:39.069Z"
   },
   {
    "duration": 362,
    "start_time": "2023-05-02T17:48:39.278Z"
   },
   {
    "duration": 448,
    "start_time": "2023-05-02T17:48:39.642Z"
   },
   {
    "duration": 183,
    "start_time": "2023-05-02T17:48:40.092Z"
   },
   {
    "duration": 9,
    "start_time": "2023-05-02T17:48:40.277Z"
   },
   {
    "duration": 8,
    "start_time": "2023-05-02T17:48:40.287Z"
   },
   {
    "duration": 3,
    "start_time": "2023-05-02T17:48:40.297Z"
   },
   {
    "duration": 17,
    "start_time": "2023-05-02T17:48:40.303Z"
   },
   {
    "duration": 0,
    "start_time": "2023-05-02T17:48:40.322Z"
   },
   {
    "duration": 0,
    "start_time": "2023-05-02T17:48:40.323Z"
   },
   {
    "duration": 0,
    "start_time": "2023-05-02T17:48:40.324Z"
   },
   {
    "duration": 0,
    "start_time": "2023-05-02T17:48:40.326Z"
   },
   {
    "duration": 0,
    "start_time": "2023-05-02T17:48:40.327Z"
   },
   {
    "duration": 0,
    "start_time": "2023-05-02T17:48:40.328Z"
   },
   {
    "duration": 0,
    "start_time": "2023-05-02T17:48:40.329Z"
   },
   {
    "duration": 0,
    "start_time": "2023-05-02T17:48:40.330Z"
   },
   {
    "duration": 0,
    "start_time": "2023-05-02T17:48:40.331Z"
   },
   {
    "duration": 0,
    "start_time": "2023-05-02T17:48:40.332Z"
   },
   {
    "duration": 0,
    "start_time": "2023-05-02T17:48:40.333Z"
   },
   {
    "duration": 5,
    "start_time": "2023-05-02T18:19:39.486Z"
   },
   {
    "duration": 14,
    "start_time": "2023-05-02T18:19:41.946Z"
   },
   {
    "duration": 4,
    "start_time": "2023-05-02T18:19:42.863Z"
   },
   {
    "duration": 29,
    "start_time": "2023-05-02T18:19:44.511Z"
   },
   {
    "duration": 7,
    "start_time": "2023-05-02T18:19:44.849Z"
   },
   {
    "duration": 1439,
    "start_time": "2023-05-02T18:27:08.953Z"
   },
   {
    "duration": 191,
    "start_time": "2023-05-02T18:27:10.395Z"
   },
   {
    "duration": 3,
    "start_time": "2023-05-02T18:27:22.014Z"
   },
   {
    "duration": 31,
    "start_time": "2023-05-02T18:27:23.258Z"
   },
   {
    "duration": 1521,
    "start_time": "2023-05-02T18:35:25.995Z"
   },
   {
    "duration": 761,
    "start_time": "2023-05-02T18:35:27.518Z"
   },
   {
    "duration": 54,
    "start_time": "2023-05-02T18:35:28.282Z"
   },
   {
    "duration": 55,
    "start_time": "2023-05-02T18:35:28.338Z"
   },
   {
    "duration": 42,
    "start_time": "2023-05-02T18:35:28.395Z"
   },
   {
    "duration": 4,
    "start_time": "2023-05-02T18:35:28.439Z"
   },
   {
    "duration": 8,
    "start_time": "2023-05-02T18:35:28.445Z"
   },
   {
    "duration": 31,
    "start_time": "2023-05-02T18:35:28.454Z"
   },
   {
    "duration": 4,
    "start_time": "2023-05-02T18:35:28.488Z"
   },
   {
    "duration": 5,
    "start_time": "2023-05-02T18:35:28.495Z"
   },
   {
    "duration": 111,
    "start_time": "2023-05-02T18:35:28.502Z"
   },
   {
    "duration": 1533,
    "start_time": "2023-05-02T18:35:28.615Z"
   },
   {
    "duration": 1488,
    "start_time": "2023-05-02T18:35:30.149Z"
   },
   {
    "duration": 72,
    "start_time": "2023-05-02T18:35:31.639Z"
   },
   {
    "duration": 39,
    "start_time": "2023-05-02T18:35:31.713Z"
   },
   {
    "duration": 15,
    "start_time": "2023-05-02T18:35:31.753Z"
   },
   {
    "duration": 17,
    "start_time": "2023-05-02T18:35:31.785Z"
   },
   {
    "duration": 20,
    "start_time": "2023-05-02T18:35:31.804Z"
   },
   {
    "duration": 3873,
    "start_time": "2023-05-02T18:35:31.826Z"
   },
   {
    "duration": 1634,
    "start_time": "2023-05-02T18:35:35.701Z"
   },
   {
    "duration": 202,
    "start_time": "2023-05-02T18:35:37.336Z"
   },
   {
    "duration": 205,
    "start_time": "2023-05-02T18:35:37.540Z"
   },
   {
    "duration": 208,
    "start_time": "2023-05-02T18:35:37.747Z"
   },
   {
    "duration": 488,
    "start_time": "2023-05-02T18:35:37.957Z"
   },
   {
    "duration": 211,
    "start_time": "2023-05-02T18:35:38.447Z"
   },
   {
    "duration": 3,
    "start_time": "2023-05-02T18:35:38.660Z"
   },
   {
    "duration": 24,
    "start_time": "2023-05-02T18:35:38.665Z"
   },
   {
    "duration": 28,
    "start_time": "2023-05-02T18:35:38.692Z"
   },
   {
    "duration": 60,
    "start_time": "2023-05-02T18:35:38.722Z"
   },
   {
    "duration": 48,
    "start_time": "2023-05-02T18:35:38.784Z"
   },
   {
    "duration": 9,
    "start_time": "2023-05-02T18:35:38.834Z"
   },
   {
    "duration": 37,
    "start_time": "2023-05-02T18:35:38.845Z"
   },
   {
    "duration": 3003871,
    "start_time": "2023-05-02T18:35:38.884Z"
   },
   {
    "duration": 6,
    "start_time": "2023-05-02T19:25:42.757Z"
   },
   {
    "duration": 1431,
    "start_time": "2023-05-02T19:25:42.765Z"
   },
   {
    "duration": 118,
    "start_time": "2023-05-02T19:25:44.286Z"
   },
   {
    "duration": 118,
    "start_time": "2023-05-02T19:28:37.284Z"
   },
   {
    "duration": 4,
    "start_time": "2023-05-02T19:30:01.739Z"
   },
   {
    "duration": 5,
    "start_time": "2023-05-02T19:30:05.085Z"
   },
   {
    "duration": 9,
    "start_time": "2023-05-02T19:30:10.635Z"
   },
   {
    "duration": 4,
    "start_time": "2023-05-02T19:30:20.849Z"
   },
   {
    "duration": 9,
    "start_time": "2023-05-02T19:31:06.408Z"
   },
   {
    "duration": 4,
    "start_time": "2023-05-02T19:31:14.600Z"
   },
   {
    "duration": 4,
    "start_time": "2023-05-02T19:31:47.995Z"
   },
   {
    "duration": 10,
    "start_time": "2023-05-02T19:39:54.312Z"
   },
   {
    "duration": 356659,
    "start_time": "2023-05-02T19:40:17.718Z"
   },
   {
    "duration": 13,
    "start_time": "2023-05-02T19:46:52.584Z"
   },
   {
    "duration": 356089,
    "start_time": "2023-05-02T19:47:28.152Z"
   },
   {
    "duration": 4,
    "start_time": "2023-05-02T19:53:24.243Z"
   },
   {
    "duration": 10,
    "start_time": "2023-05-02T20:00:35.116Z"
   },
   {
    "duration": 10,
    "start_time": "2023-05-02T20:00:51.444Z"
   },
   {
    "duration": 2094272,
    "start_time": "2023-05-02T20:01:07.586Z"
   },
   {
    "duration": 5,
    "start_time": "2023-05-02T20:36:01.860Z"
   },
   {
    "duration": 34,
    "start_time": "2023-05-02T20:38:50.213Z"
   },
   {
    "duration": 23,
    "start_time": "2023-05-02T20:40:58.136Z"
   },
   {
    "duration": 22,
    "start_time": "2023-05-02T20:41:22.302Z"
   },
   {
    "duration": 4,
    "start_time": "2023-05-02T20:42:13.052Z"
   },
   {
    "duration": 4,
    "start_time": "2023-05-02T20:42:21.550Z"
   },
   {
    "duration": 4,
    "start_time": "2023-05-02T20:42:56.588Z"
   },
   {
    "duration": 4,
    "start_time": "2023-05-02T20:42:57.519Z"
   },
   {
    "duration": 10,
    "start_time": "2023-05-02T20:48:30.313Z"
   },
   {
    "duration": 10,
    "start_time": "2023-05-02T20:48:35.783Z"
   },
   {
    "duration": 11,
    "start_time": "2023-05-02T20:48:59.637Z"
   },
   {
    "duration": 3,
    "start_time": "2023-05-02T20:49:24.632Z"
   },
   {
    "duration": 7101,
    "start_time": "2023-05-02T20:49:58.889Z"
   },
   {
    "duration": 3,
    "start_time": "2023-05-02T20:50:46.187Z"
   },
   {
    "duration": 26,
    "start_time": "2023-05-02T20:53:13.188Z"
   },
   {
    "duration": 15,
    "start_time": "2023-05-02T20:54:03.811Z"
   },
   {
    "duration": 12,
    "start_time": "2023-05-02T21:28:59.791Z"
   },
   {
    "duration": 24,
    "start_time": "2023-05-02T21:29:45.382Z"
   },
   {
    "duration": 92,
    "start_time": "2023-05-02T21:32:34.682Z"
   },
   {
    "duration": 27,
    "start_time": "2023-05-02T21:32:47.779Z"
   },
   {
    "duration": 24,
    "start_time": "2023-05-02T21:33:17.475Z"
   },
   {
    "duration": 19,
    "start_time": "2023-05-02T21:33:31.442Z"
   },
   {
    "duration": 21,
    "start_time": "2023-05-02T21:33:48.149Z"
   },
   {
    "duration": 5,
    "start_time": "2023-05-02T21:33:57.817Z"
   },
   {
    "duration": 18,
    "start_time": "2023-05-02T21:34:19.220Z"
   },
   {
    "duration": 10,
    "start_time": "2023-05-02T21:34:39.127Z"
   },
   {
    "duration": 4,
    "start_time": "2023-05-02T21:39:08.941Z"
   },
   {
    "duration": 61,
    "start_time": "2023-05-02T21:39:16.191Z"
   },
   {
    "duration": 6,
    "start_time": "2023-05-02T21:39:22.032Z"
   },
   {
    "duration": 37,
    "start_time": "2023-05-02T21:42:06.454Z"
   },
   {
    "duration": 35,
    "start_time": "2023-05-02T21:42:36.843Z"
   },
   {
    "duration": 1905,
    "start_time": "2023-05-02T21:43:24.990Z"
   },
   {
    "duration": 1565,
    "start_time": "2023-05-02T21:44:00.024Z"
   },
   {
    "duration": 6,
    "start_time": "2023-05-02T21:51:03.874Z"
   },
   {
    "duration": 4,
    "start_time": "2023-05-02T21:51:21.157Z"
   },
   {
    "duration": 4,
    "start_time": "2023-05-02T21:51:26.474Z"
   },
   {
    "duration": 6,
    "start_time": "2023-05-02T21:51:56.501Z"
   },
   {
    "duration": 13,
    "start_time": "2023-05-02T21:54:03.158Z"
   },
   {
    "duration": 39,
    "start_time": "2023-05-02T21:54:58.539Z"
   },
   {
    "duration": 35,
    "start_time": "2023-05-02T21:55:05.977Z"
   },
   {
    "duration": 7,
    "start_time": "2023-05-02T21:55:55.591Z"
   },
   {
    "duration": 54,
    "start_time": "2023-05-02T22:05:36.446Z"
   },
   {
    "duration": 37,
    "start_time": "2023-05-02T22:06:36.383Z"
   },
   {
    "duration": 97023,
    "start_time": "2023-05-02T22:09:12.174Z"
   },
   {
    "duration": 57,
    "start_time": "2023-05-02T22:11:16.244Z"
   },
   {
    "duration": 687226,
    "start_time": "2023-05-02T22:19:59.957Z"
   },
   {
    "duration": 7797,
    "start_time": "2023-05-02T22:31:35.277Z"
   },
   {
    "duration": 17,
    "start_time": "2023-05-02T22:32:24.089Z"
   },
   {
    "duration": 7633,
    "start_time": "2023-05-02T22:32:42.457Z"
   },
   {
    "duration": 14,
    "start_time": "2023-05-02T22:32:57.630Z"
   },
   {
    "duration": 1660348,
    "start_time": "2023-05-02T22:34:21.964Z"
   },
   {
    "duration": 10,
    "start_time": "2023-05-02T23:06:59.907Z"
   },
   {
    "duration": 36,
    "start_time": "2023-05-02T23:19:07.891Z"
   },
   {
    "duration": 1279,
    "start_time": "2023-05-02T23:19:25.209Z"
   },
   {
    "duration": 3,
    "start_time": "2023-05-02T23:35:29.126Z"
   },
   {
    "duration": 722,
    "start_time": "2023-05-02T23:35:29.132Z"
   },
   {
    "duration": 46,
    "start_time": "2023-05-02T23:35:29.856Z"
   },
   {
    "duration": 34,
    "start_time": "2023-05-02T23:35:29.904Z"
   },
   {
    "duration": 58,
    "start_time": "2023-05-02T23:35:29.941Z"
   },
   {
    "duration": 3,
    "start_time": "2023-05-02T23:35:30.000Z"
   },
   {
    "duration": 24,
    "start_time": "2023-05-02T23:35:30.005Z"
   },
   {
    "duration": 17,
    "start_time": "2023-05-02T23:35:30.031Z"
   },
   {
    "duration": 15,
    "start_time": "2023-05-02T23:35:30.050Z"
   },
   {
    "duration": 17,
    "start_time": "2023-05-02T23:35:30.067Z"
   },
   {
    "duration": 93,
    "start_time": "2023-05-02T23:35:30.086Z"
   },
   {
    "duration": 1510,
    "start_time": "2023-05-02T23:35:30.180Z"
   },
   {
    "duration": 1280,
    "start_time": "2023-05-02T23:35:31.692Z"
   },
   {
    "duration": 58,
    "start_time": "2023-05-02T23:35:32.974Z"
   },
   {
    "duration": 54,
    "start_time": "2023-05-02T23:35:33.034Z"
   },
   {
    "duration": 12,
    "start_time": "2023-05-02T23:35:33.090Z"
   },
   {
    "duration": 8,
    "start_time": "2023-05-02T23:35:33.104Z"
   },
   {
    "duration": 166,
    "start_time": "2023-05-02T23:35:33.114Z"
   },
   {
    "duration": 3982,
    "start_time": "2023-05-02T23:35:33.282Z"
   },
   {
    "duration": 1647,
    "start_time": "2023-05-02T23:35:37.265Z"
   },
   {
    "duration": 196,
    "start_time": "2023-05-02T23:35:38.914Z"
   },
   {
    "duration": 204,
    "start_time": "2023-05-02T23:35:39.112Z"
   },
   {
    "duration": 213,
    "start_time": "2023-05-02T23:35:39.318Z"
   },
   {
    "duration": 416,
    "start_time": "2023-05-02T23:35:39.532Z"
   },
   {
    "duration": 0,
    "start_time": "2023-05-02T23:35:39.951Z"
   },
   {
    "duration": 0,
    "start_time": "2023-05-02T23:35:39.952Z"
   },
   {
    "duration": 0,
    "start_time": "2023-05-02T23:35:39.953Z"
   },
   {
    "duration": 0,
    "start_time": "2023-05-02T23:35:39.954Z"
   },
   {
    "duration": 0,
    "start_time": "2023-05-02T23:35:39.955Z"
   },
   {
    "duration": 0,
    "start_time": "2023-05-02T23:35:39.956Z"
   },
   {
    "duration": 0,
    "start_time": "2023-05-02T23:35:39.957Z"
   },
   {
    "duration": 0,
    "start_time": "2023-05-02T23:35:39.958Z"
   },
   {
    "duration": 0,
    "start_time": "2023-05-02T23:35:39.960Z"
   },
   {
    "duration": 0,
    "start_time": "2023-05-02T23:35:39.962Z"
   },
   {
    "duration": 0,
    "start_time": "2023-05-02T23:35:39.963Z"
   },
   {
    "duration": 0,
    "start_time": "2023-05-02T23:35:39.964Z"
   },
   {
    "duration": 0,
    "start_time": "2023-05-02T23:35:39.985Z"
   },
   {
    "duration": 0,
    "start_time": "2023-05-02T23:35:39.986Z"
   },
   {
    "duration": 0,
    "start_time": "2023-05-02T23:35:39.987Z"
   },
   {
    "duration": 1446,
    "start_time": "2023-05-02T23:35:48.256Z"
   },
   {
    "duration": 719,
    "start_time": "2023-05-02T23:35:49.704Z"
   },
   {
    "duration": 47,
    "start_time": "2023-05-02T23:35:50.425Z"
   },
   {
    "duration": 36,
    "start_time": "2023-05-02T23:35:50.486Z"
   },
   {
    "duration": 39,
    "start_time": "2023-05-02T23:35:50.524Z"
   },
   {
    "duration": 3,
    "start_time": "2023-05-02T23:35:50.585Z"
   },
   {
    "duration": 10,
    "start_time": "2023-05-02T23:35:50.590Z"
   },
   {
    "duration": 5,
    "start_time": "2023-05-02T23:35:50.602Z"
   },
   {
    "duration": 4,
    "start_time": "2023-05-02T23:35:50.609Z"
   },
   {
    "duration": 5,
    "start_time": "2023-05-02T23:35:50.615Z"
   },
   {
    "duration": 115,
    "start_time": "2023-05-02T23:35:50.621Z"
   },
   {
    "duration": 2342,
    "start_time": "2023-05-02T23:35:50.737Z"
   },
   {
    "duration": 1426,
    "start_time": "2023-05-02T23:35:53.080Z"
   },
   {
    "duration": 58,
    "start_time": "2023-05-02T23:35:54.507Z"
   },
   {
    "duration": 48,
    "start_time": "2023-05-02T23:35:54.567Z"
   },
   {
    "duration": 12,
    "start_time": "2023-05-02T23:35:54.617Z"
   },
   {
    "duration": 7,
    "start_time": "2023-05-02T23:35:54.631Z"
   },
   {
    "duration": 15,
    "start_time": "2023-05-02T23:35:54.640Z"
   },
   {
    "duration": 3866,
    "start_time": "2023-05-02T23:35:54.657Z"
   },
   {
    "duration": 1814,
    "start_time": "2023-05-02T23:35:58.524Z"
   },
   {
    "duration": 232,
    "start_time": "2023-05-02T23:36:00.339Z"
   },
   {
    "duration": 238,
    "start_time": "2023-05-02T23:36:00.573Z"
   },
   {
    "duration": 224,
    "start_time": "2023-05-02T23:36:00.814Z"
   },
   {
    "duration": 480,
    "start_time": "2023-05-02T23:36:01.040Z"
   },
   {
    "duration": 195,
    "start_time": "2023-05-02T23:36:01.522Z"
   },
   {
    "duration": 4,
    "start_time": "2023-05-02T23:36:01.718Z"
   },
   {
    "duration": 38,
    "start_time": "2023-05-02T23:36:01.723Z"
   },
   {
    "duration": 33,
    "start_time": "2023-05-02T23:36:01.765Z"
   },
   {
    "duration": 31,
    "start_time": "2023-05-02T23:36:01.799Z"
   },
   {
    "duration": 36,
    "start_time": "2023-05-02T23:36:01.832Z"
   },
   {
    "duration": 10,
    "start_time": "2023-05-02T23:36:01.870Z"
   },
   {
    "duration": 56,
    "start_time": "2023-05-02T23:36:01.881Z"
   },
   {
    "duration": 2931755,
    "start_time": "2023-05-02T23:36:01.939Z"
   },
   {
    "duration": 6,
    "start_time": "2023-05-03T00:24:53.696Z"
   },
   {
    "duration": 1787,
    "start_time": "2023-05-03T00:24:53.704Z"
   },
   {
    "duration": 124,
    "start_time": "2023-05-03T00:24:55.495Z"
   },
   {
    "duration": 76,
    "start_time": "2023-05-03T00:24:55.621Z"
   },
   {
    "duration": 89,
    "start_time": "2023-05-03T00:24:55.698Z"
   },
   {
    "duration": 99,
    "start_time": "2023-05-03T00:24:55.790Z"
   },
   {
    "duration": 5225,
    "start_time": "2023-05-03T05:48:33.864Z"
   },
   {
    "duration": 3433,
    "start_time": "2023-05-03T05:48:39.091Z"
   },
   {
    "duration": 60,
    "start_time": "2023-05-03T05:48:42.526Z"
   },
   {
    "duration": 60,
    "start_time": "2023-05-03T05:48:42.588Z"
   },
   {
    "duration": 44,
    "start_time": "2023-05-03T05:48:42.650Z"
   },
   {
    "duration": 3,
    "start_time": "2023-05-03T05:48:42.695Z"
   },
   {
    "duration": 10,
    "start_time": "2023-05-03T05:48:42.700Z"
   },
   {
    "duration": 17,
    "start_time": "2023-05-03T05:48:42.732Z"
   },
   {
    "duration": 15,
    "start_time": "2023-05-03T05:48:42.751Z"
   },
   {
    "duration": 9,
    "start_time": "2023-05-03T05:48:42.768Z"
   },
   {
    "duration": 109,
    "start_time": "2023-05-03T05:48:42.779Z"
   },
   {
    "duration": 1712,
    "start_time": "2023-05-03T05:48:42.890Z"
   },
   {
    "duration": 1638,
    "start_time": "2023-05-03T05:48:44.604Z"
   },
   {
    "duration": 62,
    "start_time": "2023-05-03T05:48:46.249Z"
   },
   {
    "duration": 59,
    "start_time": "2023-05-03T05:48:46.312Z"
   },
   {
    "duration": 13,
    "start_time": "2023-05-03T05:48:46.373Z"
   },
   {
    "duration": 8,
    "start_time": "2023-05-03T05:48:46.388Z"
   },
   {
    "duration": 37,
    "start_time": "2023-05-03T05:48:46.398Z"
   },
   {
    "duration": 4709,
    "start_time": "2023-05-03T05:48:46.439Z"
   },
   {
    "duration": 1995,
    "start_time": "2023-05-03T05:48:51.151Z"
   },
   {
    "duration": 242,
    "start_time": "2023-05-03T05:48:53.150Z"
   },
   {
    "duration": 258,
    "start_time": "2023-05-03T05:48:53.394Z"
   },
   {
    "duration": 246,
    "start_time": "2023-05-03T05:48:53.655Z"
   },
   {
    "duration": 489,
    "start_time": "2023-05-03T05:48:53.904Z"
   },
   {
    "duration": 220,
    "start_time": "2023-05-03T05:48:54.394Z"
   },
   {
    "duration": 4,
    "start_time": "2023-05-03T05:48:54.617Z"
   },
   {
    "duration": 19,
    "start_time": "2023-05-03T05:48:54.623Z"
   },
   {
    "duration": 19,
    "start_time": "2023-05-03T05:48:54.648Z"
   },
   {
    "duration": 31,
    "start_time": "2023-05-03T05:48:54.669Z"
   },
   {
    "duration": 21,
    "start_time": "2023-05-03T05:48:54.702Z"
   },
   {
    "duration": 4,
    "start_time": "2023-05-03T05:48:54.725Z"
   },
   {
    "duration": 37,
    "start_time": "2023-05-03T05:48:54.731Z"
   },
   {
    "duration": 13,
    "start_time": "2023-05-03T05:49:19.955Z"
   },
   {
    "duration": 66,
    "start_time": "2023-05-03T17:16:40.688Z"
   },
   {
    "duration": 12,
    "start_time": "2023-05-03T17:16:48.303Z"
   },
   {
    "duration": 1848,
    "start_time": "2023-05-03T17:16:52.678Z"
   },
   {
    "duration": 3793,
    "start_time": "2023-05-03T17:16:55.164Z"
   },
   {
    "duration": 158,
    "start_time": "2023-05-03T17:17:10.139Z"
   },
   {
    "duration": 10,
    "start_time": "2023-05-03T17:17:32.608Z"
   },
   {
    "duration": 68,
    "start_time": "2023-05-03T17:17:48.958Z"
   },
   {
    "duration": 27,
    "start_time": "2023-05-03T17:18:07.237Z"
   },
   {
    "duration": 7,
    "start_time": "2023-05-03T17:20:18.802Z"
   },
   {
    "duration": 5,
    "start_time": "2023-05-03T17:20:33.886Z"
   },
   {
    "duration": 276,
    "start_time": "2023-05-03T17:22:09.529Z"
   },
   {
    "duration": 9,
    "start_time": "2023-05-03T17:29:22.268Z"
   },
   {
    "duration": 4,
    "start_time": "2023-05-03T17:29:47.159Z"
   },
   {
    "duration": 13,
    "start_time": "2023-05-03T17:30:07.040Z"
   },
   {
    "duration": 23,
    "start_time": "2023-05-03T18:33:02.188Z"
   },
   {
    "duration": 3,
    "start_time": "2023-05-03T18:33:09.724Z"
   },
   {
    "duration": 911,
    "start_time": "2023-05-03T18:33:09.734Z"
   },
   {
    "duration": 46,
    "start_time": "2023-05-03T18:33:10.647Z"
   },
   {
    "duration": 60,
    "start_time": "2023-05-03T18:33:10.696Z"
   },
   {
    "duration": 75,
    "start_time": "2023-05-03T18:33:10.759Z"
   },
   {
    "duration": 5,
    "start_time": "2023-05-03T18:33:10.836Z"
   },
   {
    "duration": 16,
    "start_time": "2023-05-03T18:33:10.842Z"
   },
   {
    "duration": 17,
    "start_time": "2023-05-03T18:33:10.860Z"
   },
   {
    "duration": 14,
    "start_time": "2023-05-03T18:33:10.879Z"
   },
   {
    "duration": 30,
    "start_time": "2023-05-03T18:33:10.895Z"
   },
   {
    "duration": 112,
    "start_time": "2023-05-03T18:33:10.928Z"
   },
   {
    "duration": 1844,
    "start_time": "2023-05-03T18:33:11.041Z"
   },
   {
    "duration": 1572,
    "start_time": "2023-05-03T18:33:12.888Z"
   },
   {
    "duration": 68,
    "start_time": "2023-05-03T18:33:14.462Z"
   },
   {
    "duration": 40,
    "start_time": "2023-05-03T18:33:14.532Z"
   },
   {
    "duration": 15,
    "start_time": "2023-05-03T18:33:14.574Z"
   },
   {
    "duration": 31,
    "start_time": "2023-05-03T18:33:14.591Z"
   },
   {
    "duration": 17,
    "start_time": "2023-05-03T18:33:14.624Z"
   },
   {
    "duration": 4263,
    "start_time": "2023-05-03T18:33:14.643Z"
   },
   {
    "duration": 1851,
    "start_time": "2023-05-03T18:33:18.907Z"
   },
   {
    "duration": 265,
    "start_time": "2023-05-03T18:33:20.760Z"
   },
   {
    "duration": 249,
    "start_time": "2023-05-03T18:33:21.027Z"
   },
   {
    "duration": 247,
    "start_time": "2023-05-03T18:33:21.277Z"
   },
   {
    "duration": 557,
    "start_time": "2023-05-03T18:33:21.526Z"
   },
   {
    "duration": 243,
    "start_time": "2023-05-03T18:33:22.086Z"
   },
   {
    "duration": 193,
    "start_time": "2023-05-03T18:34:26.070Z"
   },
   {
    "duration": 212,
    "start_time": "2023-05-03T18:34:39.537Z"
   },
   {
    "duration": 28,
    "start_time": "2023-05-03T18:35:03.762Z"
   },
   {
    "duration": 207,
    "start_time": "2023-05-03T18:35:13.335Z"
   },
   {
    "duration": 409,
    "start_time": "2023-05-03T18:35:21.494Z"
   },
   {
    "duration": 1030,
    "start_time": "2023-05-03T18:37:23.528Z"
   },
   {
    "duration": 1834,
    "start_time": "2023-05-03T18:38:15.796Z"
   },
   {
    "duration": 409,
    "start_time": "2023-05-03T18:47:32.344Z"
   },
   {
    "duration": 183,
    "start_time": "2023-05-03T18:49:41.050Z"
   },
   {
    "duration": 213,
    "start_time": "2023-05-03T18:50:24.362Z"
   },
   {
    "duration": 183,
    "start_time": "2023-05-03T18:50:50.715Z"
   },
   {
    "duration": 144,
    "start_time": "2023-05-03T18:50:58.233Z"
   },
   {
    "duration": 176,
    "start_time": "2023-05-03T18:51:24.075Z"
   },
   {
    "duration": 151,
    "start_time": "2023-05-03T18:54:11.396Z"
   },
   {
    "duration": 163,
    "start_time": "2023-05-03T18:54:30.788Z"
   },
   {
    "duration": 280,
    "start_time": "2023-05-03T18:54:39.386Z"
   },
   {
    "duration": 13,
    "start_time": "2023-05-03T18:56:54.796Z"
   },
   {
    "duration": 7,
    "start_time": "2023-05-03T18:57:03.458Z"
   },
   {
    "duration": 162,
    "start_time": "2023-05-03T18:57:12.845Z"
   },
   {
    "duration": 10,
    "start_time": "2023-05-03T18:58:34.725Z"
   },
   {
    "duration": 10,
    "start_time": "2023-05-03T18:58:43.404Z"
   },
   {
    "duration": 15,
    "start_time": "2023-05-03T18:58:53.438Z"
   },
   {
    "duration": 8,
    "start_time": "2023-05-03T18:59:40.164Z"
   },
   {
    "duration": 9,
    "start_time": "2023-05-03T18:59:49.828Z"
   },
   {
    "duration": 19,
    "start_time": "2023-05-03T19:01:40.808Z"
   },
   {
    "duration": 22,
    "start_time": "2023-05-03T19:05:57.973Z"
   },
   {
    "duration": 673,
    "start_time": "2023-05-03T19:06:51.431Z"
   },
   {
    "duration": 0,
    "start_time": "2023-05-03T19:11:09.321Z"
   },
   {
    "duration": 712724,
    "start_time": "2023-05-03T19:11:23.816Z"
   },
   {
    "duration": 27,
    "start_time": "2023-05-03T19:35:22.406Z"
   },
   {
    "duration": 6,
    "start_time": "2023-05-03T19:35:32.285Z"
   },
   {
    "duration": 7,
    "start_time": "2023-05-03T19:35:41.755Z"
   },
   {
    "duration": 6,
    "start_time": "2023-05-03T19:35:49.851Z"
   },
   {
    "duration": 7,
    "start_time": "2023-05-03T19:35:57.129Z"
   },
   {
    "duration": 804,
    "start_time": "2023-05-03T19:37:18.245Z"
   },
   {
    "duration": 21,
    "start_time": "2023-05-03T20:05:03.837Z"
   },
   {
    "duration": 9,
    "start_time": "2023-05-03T20:05:16.111Z"
   },
   {
    "duration": 61,
    "start_time": "2023-05-03T20:08:37.584Z"
   },
   {
    "duration": 19,
    "start_time": "2023-05-03T20:10:36.682Z"
   },
   {
    "duration": 28,
    "start_time": "2023-05-03T20:12:14.485Z"
   },
   {
    "duration": 12,
    "start_time": "2023-05-03T20:13:04.131Z"
   },
   {
    "duration": 6,
    "start_time": "2023-05-03T20:13:54.983Z"
   },
   {
    "duration": 16368,
    "start_time": "2023-05-03T20:14:01.708Z"
   },
   {
    "duration": 7,
    "start_time": "2023-05-03T20:14:27.405Z"
   },
   {
    "duration": 5,
    "start_time": "2023-05-03T20:14:52.709Z"
   },
   {
    "duration": 14,
    "start_time": "2023-05-03T20:15:51.929Z"
   },
   {
    "duration": 14,
    "start_time": "2023-05-03T20:15:56.190Z"
   },
   {
    "duration": 2517,
    "start_time": "2023-05-03T20:16:43.338Z"
   },
   {
    "duration": 2866,
    "start_time": "2023-05-03T20:16:50.297Z"
   },
   {
    "duration": 4949,
    "start_time": "2023-05-03T20:18:14.817Z"
   },
   {
    "duration": 2799,
    "start_time": "2023-05-03T20:18:46.116Z"
   },
   {
    "duration": 53,
    "start_time": "2023-05-03T21:04:04.239Z"
   },
   {
    "duration": 1460,
    "start_time": "2023-05-03T21:06:01.797Z"
   },
   {
    "duration": 776,
    "start_time": "2023-05-03T21:06:23.800Z"
   },
   {
    "duration": 3,
    "start_time": "2023-05-03T21:06:33.287Z"
   },
   {
    "duration": 7,
    "start_time": "2023-05-03T21:06:36.771Z"
   },
   {
    "duration": 4,
    "start_time": "2023-05-03T21:06:40.215Z"
   },
   {
    "duration": 7,
    "start_time": "2023-05-03T21:06:40.801Z"
   },
   {
    "duration": 6,
    "start_time": "2023-05-03T21:06:45.047Z"
   },
   {
    "duration": 129,
    "start_time": "2023-05-03T21:07:24.845Z"
   },
   {
    "duration": 1545,
    "start_time": "2023-05-03T21:07:29.410Z"
   },
   {
    "duration": 1416,
    "start_time": "2023-05-03T21:07:34.327Z"
   },
   {
    "duration": 13,
    "start_time": "2023-05-03T21:08:10.172Z"
   },
   {
    "duration": 34,
    "start_time": "2023-05-03T21:09:02.436Z"
   },
   {
    "duration": 18,
    "start_time": "2023-05-03T21:09:05.583Z"
   },
   {
    "duration": 212,
    "start_time": "2023-05-03T21:09:21.376Z"
   },
   {
    "duration": 198,
    "start_time": "2023-05-03T21:09:28.262Z"
   },
   {
    "duration": 227,
    "start_time": "2023-05-03T21:09:32.571Z"
   },
   {
    "duration": 450,
    "start_time": "2023-05-03T21:09:37.685Z"
   },
   {
    "duration": 11,
    "start_time": "2023-05-03T21:09:55.195Z"
   },
   {
    "duration": 3,
    "start_time": "2023-05-03T21:09:55.791Z"
   },
   {
    "duration": 10,
    "start_time": "2023-05-03T21:09:56.553Z"
   },
   {
    "duration": 2532,
    "start_time": "2023-05-03T21:09:58.091Z"
   },
   {
    "duration": 4,
    "start_time": "2023-05-03T21:10:19.333Z"
   },
   {
    "duration": 3,
    "start_time": "2023-05-03T21:10:21.644Z"
   },
   {
    "duration": 2,
    "start_time": "2023-05-03T21:10:25.925Z"
   },
   {
    "duration": 6,
    "start_time": "2023-05-03T21:10:29.736Z"
   },
   {
    "duration": 20,
    "start_time": "2023-05-03T21:10:30.501Z"
   },
   {
    "duration": 5,
    "start_time": "2023-05-03T21:10:32.481Z"
   },
   {
    "duration": 161,
    "start_time": "2023-05-03T21:10:32.999Z"
   },
   {
    "duration": 2065,
    "start_time": "2023-05-03T21:11:18.956Z"
   },
   {
    "duration": 44,
    "start_time": "2023-05-03T21:11:25.135Z"
   },
   {
    "duration": 48204,
    "start_time": "2023-05-03T21:11:38.374Z"
   },
   {
    "duration": 3747296,
    "start_time": "2023-05-03T21:17:17.774Z"
   },
   {
    "duration": 5,
    "start_time": "2023-05-03T22:19:45.072Z"
   },
   {
    "duration": 10,
    "start_time": "2023-05-03T22:21:41.961Z"
   },
   {
    "duration": 6,
    "start_time": "2023-05-03T22:22:05.550Z"
   },
   {
    "duration": 92,
    "start_time": "2023-05-05T17:13:08.608Z"
   },
   {
    "duration": 1771,
    "start_time": "2023-05-05T17:49:27.248Z"
   },
   {
    "duration": 3297,
    "start_time": "2023-05-05T17:49:29.022Z"
   },
   {
    "duration": 52,
    "start_time": "2023-05-05T17:49:32.321Z"
   },
   {
    "duration": 37,
    "start_time": "2023-05-05T17:49:32.375Z"
   },
   {
    "duration": 43,
    "start_time": "2023-05-05T17:49:32.434Z"
   },
   {
    "duration": 2,
    "start_time": "2023-05-05T17:49:32.479Z"
   },
   {
    "duration": 21,
    "start_time": "2023-05-05T17:49:32.483Z"
   },
   {
    "duration": 7,
    "start_time": "2023-05-05T17:49:32.505Z"
   },
   {
    "duration": 12,
    "start_time": "2023-05-05T17:49:32.513Z"
   },
   {
    "duration": 27,
    "start_time": "2023-05-05T17:49:32.526Z"
   },
   {
    "duration": 131,
    "start_time": "2023-05-05T17:49:32.554Z"
   },
   {
    "duration": 11,
    "start_time": "2023-05-05T17:49:32.687Z"
   },
   {
    "duration": 51,
    "start_time": "2023-05-05T17:49:32.700Z"
   },
   {
    "duration": 12,
    "start_time": "2023-05-05T17:49:32.755Z"
   },
   {
    "duration": 217,
    "start_time": "2023-05-05T17:49:32.768Z"
   },
   {
    "duration": 215,
    "start_time": "2023-05-05T17:49:32.987Z"
   },
   {
    "duration": 223,
    "start_time": "2023-05-05T17:49:33.204Z"
   },
   {
    "duration": 525,
    "start_time": "2023-05-05T17:49:33.428Z"
   },
   {
    "duration": 9,
    "start_time": "2023-05-05T17:49:33.955Z"
   },
   {
    "duration": 7,
    "start_time": "2023-05-05T17:51:42.015Z"
   },
   {
    "duration": 334,
    "start_time": "2023-05-05T17:52:34.118Z"
   },
   {
    "duration": 17,
    "start_time": "2023-05-05T17:52:40.304Z"
   },
   {
    "duration": 325,
    "start_time": "2023-05-05T17:54:37.381Z"
   },
   {
    "duration": 24,
    "start_time": "2023-05-05T17:54:39.621Z"
   },
   {
    "duration": 117,
    "start_time": "2023-05-05T17:55:56.152Z"
   },
   {
    "duration": 25,
    "start_time": "2023-05-05T17:56:57.657Z"
   },
   {
    "duration": 25,
    "start_time": "2023-05-05T17:57:29.949Z"
   },
   {
    "duration": 2508,
    "start_time": "2023-05-05T17:57:31.267Z"
   },
   {
    "duration": 2433,
    "start_time": "2023-05-05T17:58:05.082Z"
   },
   {
    "duration": 1135,
    "start_time": "2023-05-05T18:14:43.505Z"
   },
   {
    "duration": 19,
    "start_time": "2023-05-05T18:15:18.073Z"
   },
   {
    "duration": 25,
    "start_time": "2023-05-05T18:16:15.273Z"
   },
   {
    "duration": 21,
    "start_time": "2023-05-05T18:16:35.288Z"
   },
   {
    "duration": 24,
    "start_time": "2023-05-05T18:16:45.274Z"
   },
   {
    "duration": 27,
    "start_time": "2023-05-05T18:17:50.321Z"
   },
   {
    "duration": 18,
    "start_time": "2023-05-05T18:18:19.882Z"
   },
   {
    "duration": 48,
    "start_time": "2023-05-05T18:23:37.279Z"
   },
   {
    "duration": 14,
    "start_time": "2023-05-05T18:29:59.993Z"
   },
   {
    "duration": 9,
    "start_time": "2023-05-05T18:30:34.692Z"
   },
   {
    "duration": 13,
    "start_time": "2023-05-05T18:30:52.968Z"
   },
   {
    "duration": 10,
    "start_time": "2023-05-05T18:31:47.718Z"
   },
   {
    "duration": 123,
    "start_time": "2023-05-05T18:32:56.632Z"
   },
   {
    "duration": 19,
    "start_time": "2023-05-05T18:33:03.483Z"
   },
   {
    "duration": 47,
    "start_time": "2023-05-05T18:36:05.197Z"
   },
   {
    "duration": 20,
    "start_time": "2023-05-05T18:36:22.703Z"
   },
   {
    "duration": 3,
    "start_time": "2023-05-05T18:38:41.724Z"
   },
   {
    "duration": 810,
    "start_time": "2023-05-05T18:38:41.758Z"
   },
   {
    "duration": 38,
    "start_time": "2023-05-05T18:38:42.569Z"
   },
   {
    "duration": 59,
    "start_time": "2023-05-05T18:38:42.609Z"
   },
   {
    "duration": 39,
    "start_time": "2023-05-05T18:38:42.670Z"
   },
   {
    "duration": 2,
    "start_time": "2023-05-05T18:38:42.712Z"
   },
   {
    "duration": 7,
    "start_time": "2023-05-05T18:38:42.715Z"
   },
   {
    "duration": 14,
    "start_time": "2023-05-05T18:38:42.737Z"
   },
   {
    "duration": 23,
    "start_time": "2023-05-05T18:38:42.760Z"
   },
   {
    "duration": 7,
    "start_time": "2023-05-05T18:38:42.784Z"
   },
   {
    "duration": 136,
    "start_time": "2023-05-05T18:38:42.793Z"
   },
   {
    "duration": 16,
    "start_time": "2023-05-05T18:38:42.930Z"
   },
   {
    "duration": 57,
    "start_time": "2023-05-05T18:38:42.948Z"
   },
   {
    "duration": 12,
    "start_time": "2023-05-05T18:38:43.006Z"
   },
   {
    "duration": 206,
    "start_time": "2023-05-05T18:38:43.021Z"
   },
   {
    "duration": 228,
    "start_time": "2023-05-05T18:38:43.229Z"
   },
   {
    "duration": 334,
    "start_time": "2023-05-05T18:38:43.459Z"
   },
   {
    "duration": 481,
    "start_time": "2023-05-05T18:38:43.795Z"
   },
   {
    "duration": 24,
    "start_time": "2023-05-05T18:38:44.278Z"
   },
   {
    "duration": 2673,
    "start_time": "2023-05-05T18:38:44.304Z"
   },
   {
    "duration": 23,
    "start_time": "2023-05-05T18:38:46.981Z"
   },
   {
    "duration": 15,
    "start_time": "2023-05-05T18:38:47.006Z"
   },
   {
    "duration": 59,
    "start_time": "2023-05-05T18:38:47.022Z"
   },
   {
    "duration": 7,
    "start_time": "2023-05-05T18:38:47.083Z"
   },
   {
    "duration": 26,
    "start_time": "2023-05-05T18:38:47.092Z"
   },
   {
    "duration": 70,
    "start_time": "2023-05-05T18:38:47.120Z"
   },
   {
    "duration": 23,
    "start_time": "2023-05-05T18:38:47.192Z"
   },
   {
    "duration": 59,
    "start_time": "2023-05-05T18:38:47.217Z"
   },
   {
    "duration": 4,
    "start_time": "2023-05-05T18:39:35.012Z"
   },
   {
    "duration": 5,
    "start_time": "2023-05-05T18:39:42.179Z"
   },
   {
    "duration": 815,
    "start_time": "2023-05-05T18:39:42.185Z"
   },
   {
    "duration": 52,
    "start_time": "2023-05-05T18:39:43.001Z"
   },
   {
    "duration": 42,
    "start_time": "2023-05-05T18:39:43.054Z"
   },
   {
    "duration": 73,
    "start_time": "2023-05-05T18:39:43.099Z"
   },
   {
    "duration": 2,
    "start_time": "2023-05-05T18:39:43.174Z"
   },
   {
    "duration": 24,
    "start_time": "2023-05-05T18:39:43.178Z"
   },
   {
    "duration": 10,
    "start_time": "2023-05-05T18:39:43.204Z"
   },
   {
    "duration": 7,
    "start_time": "2023-05-05T18:39:43.216Z"
   },
   {
    "duration": 21,
    "start_time": "2023-05-05T18:39:43.225Z"
   },
   {
    "duration": 149,
    "start_time": "2023-05-05T18:39:43.249Z"
   },
   {
    "duration": 13,
    "start_time": "2023-05-05T18:39:43.399Z"
   },
   {
    "duration": 33,
    "start_time": "2023-05-05T18:39:43.413Z"
   },
   {
    "duration": 26,
    "start_time": "2023-05-05T18:39:43.447Z"
   },
   {
    "duration": 207,
    "start_time": "2023-05-05T18:39:43.475Z"
   },
   {
    "duration": 216,
    "start_time": "2023-05-05T18:39:43.683Z"
   },
   {
    "duration": 214,
    "start_time": "2023-05-05T18:39:43.901Z"
   },
   {
    "duration": 452,
    "start_time": "2023-05-05T18:39:44.117Z"
   },
   {
    "duration": 26,
    "start_time": "2023-05-05T18:39:44.571Z"
   },
   {
    "duration": 2606,
    "start_time": "2023-05-05T18:39:44.599Z"
   },
   {
    "duration": 38,
    "start_time": "2023-05-05T18:39:47.207Z"
   },
   {
    "duration": 16,
    "start_time": "2023-05-05T18:39:47.253Z"
   },
   {
    "duration": 19,
    "start_time": "2023-05-05T18:39:47.273Z"
   },
   {
    "duration": 8,
    "start_time": "2023-05-05T18:39:47.294Z"
   },
   {
    "duration": 10,
    "start_time": "2023-05-05T18:39:47.303Z"
   },
   {
    "duration": 29,
    "start_time": "2023-05-05T18:39:47.314Z"
   },
   {
    "duration": 35,
    "start_time": "2023-05-05T18:39:47.345Z"
   },
   {
    "duration": 30,
    "start_time": "2023-05-05T18:39:47.381Z"
   },
   {
    "duration": 81151,
    "start_time": "2023-05-05T18:39:47.414Z"
   },
   {
    "duration": 0,
    "start_time": "2023-05-05T18:41:08.567Z"
   },
   {
    "duration": 0,
    "start_time": "2023-05-05T18:41:08.570Z"
   },
   {
    "duration": 0,
    "start_time": "2023-05-05T18:41:08.570Z"
   },
   {
    "duration": 0,
    "start_time": "2023-05-05T18:41:08.571Z"
   },
   {
    "duration": 2426143,
    "start_time": "2023-05-05T19:23:45.414Z"
   },
   {
    "duration": 4,
    "start_time": "2023-05-05T20:04:11.559Z"
   },
   {
    "duration": 1974,
    "start_time": "2023-05-05T20:04:11.565Z"
   },
   {
    "duration": 108,
    "start_time": "2023-05-05T20:04:13.542Z"
   },
   {
    "duration": 65,
    "start_time": "2023-05-05T20:04:13.651Z"
   },
   {
    "duration": 2152,
    "start_time": "2023-05-05T20:15:58.495Z"
   },
   {
    "duration": 37,
    "start_time": "2023-05-05T20:16:19.059Z"
   },
   {
    "duration": 75,
    "start_time": "2023-05-05T20:19:04.689Z"
   },
   {
    "duration": 63,
    "start_time": "2023-05-05T20:19:34.115Z"
   },
   {
    "duration": 60,
    "start_time": "2023-05-05T20:19:40.849Z"
   }
  ],
  "kernelspec": {
   "display_name": "Python 3",
   "language": "python",
   "name": "python3"
  },
  "language_info": {
   "codemirror_mode": {
    "name": "ipython",
    "version": 3
   },
   "file_extension": ".py",
   "mimetype": "text/x-python",
   "name": "python",
   "nbconvert_exporter": "python",
   "pygments_lexer": "ipython3",
   "version": "3.8.5"
  },
  "toc": {
   "base_numbering": 1,
   "nav_menu": {},
   "number_sections": true,
   "sideBar": true,
   "skip_h1_title": true,
   "title_cell": "Содержание",
   "title_sidebar": "Contents",
   "toc_cell": true,
   "toc_position": {
    "height": "calc(100% - 180px)",
    "left": "10px",
    "top": "150px",
    "width": "260.174px"
   },
   "toc_section_display": true,
   "toc_window_display": true
  }
 },
 "nbformat": 4,
 "nbformat_minor": 2
}
